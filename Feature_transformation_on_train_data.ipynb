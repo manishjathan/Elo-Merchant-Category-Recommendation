{
 "cells": [
  {
   "cell_type": "markdown",
   "metadata": {},
   "source": [
    "### After performing EDA, it's now time to create features using transactional data both historical and new as well as merchant information\n",
    "* Let's do some preliminary analysis on the number of cards and how to merge various groups of data"
   ]
  },
  {
   "cell_type": "code",
   "execution_count": 1,
   "metadata": {},
   "outputs": [],
   "source": [
    "import pandas as pd\n",
    "import numpy as np\n",
    "import seaborn as sns\n",
    "import matplotlib.pyplot as plt\n",
    "import eda_fe_module as eda_fe\n",
    "import pickle\n",
    "from tqdm import tqdm\n",
    "import time"
   ]
  },
  {
   "cell_type": "code",
   "execution_count": 2,
   "metadata": {},
   "outputs": [],
   "source": [
    "train_df = pd.read_csv('train.csv')\n",
    "test_df = pd.read_csv('test.csv')"
   ]
  },
  {
   "cell_type": "code",
   "execution_count": 24,
   "metadata": {},
   "outputs": [
    {
     "name": "stdout",
     "output_type": "stream",
     "text": [
      "Number of card_id's in train_data :  201917\n",
      "Number of card_id's in test_data :  123623\n",
      "Total number of card_id's :  325540\n"
     ]
    }
   ],
   "source": [
    "train_card_ids = train_df['card_id'].nunique()\n",
    "test_card_ids = test_df['card_id'].nunique()\n",
    "\n",
    "print(\"Number of card_id's in train_data : \",train_df['card_id'].nunique())\n",
    "print(\"Number of card_id's in test_data : \",test_df['card_id'].nunique())\n",
    "print(\"Total number of card_id's : \",train_card_ids + test_card_ids)"
   ]
  },
  {
   "cell_type": "code",
   "execution_count": 13,
   "metadata": {},
   "outputs": [
    {
     "name": "stdout",
     "output_type": "stream",
     "text": [
      "Mem. usage decreased to 1749.11 Mb (43.7% reduction)\n"
     ]
    }
   ],
   "source": [
    "hist_trans_df = eda_fe.reduce_mem_usage(pd.read_csv('historical_transactions.csv'))\n",
    "new_trans_df = eda_fe.reduce_mem_usage(pd.read_csv('new_merchant_transactions.csv'))\n",
    "\n",
    "hist_trans_df = eda_fe.reduce_mem_usage(hist_trans_df[['card_id']])\n",
    "new_trans_df = eda_fe.reduce_mem_usage(new_trans_df[['card_id']])"
   ]
  },
  {
   "cell_type": "code",
   "execution_count": 10,
   "metadata": {},
   "outputs": [
    {
     "name": "stdout",
     "output_type": "stream",
     "text": [
      "Number of unique card_ids in historical_transactions :  325540\n",
      "Number of unique card_ids in new transactions :  290001\n"
     ]
    }
   ],
   "source": [
    "print(\"Number of unique card_ids in historical_transactions : \",hist_trans_df['card_id'].nunique())\n",
    "print(\"Number of unique card_ids in new transactions : \",new_trans_df['card_id'].nunique())"
   ]
  },
  {
   "cell_type": "code",
   "execution_count": 14,
   "metadata": {},
   "outputs": [],
   "source": [
    "hist_new_card_intersect = len(set(hist_trans_df['card_id'].unique()).intersection(set(new_trans_df['card_id'].unique())))\n",
    "train_hist_card_intersect = len(set(hist_trans_df['card_id'].unique()).intersection(set(train_df['card_id'].unique())))\n",
    "test_hist_card_intersect = len(set(hist_trans_df['card_id'].unique()).intersection(set(test_df['card_id'].unique())))\n",
    "train_test_card_intersect = len(set(train_df['card_id'].unique()).intersection(set(test_df['card_id'].unique())))"
   ]
  },
  {
   "cell_type": "code",
   "execution_count": 25,
   "metadata": {},
   "outputs": [
    {
     "data": {
      "text/plain": [
       "290001"
      ]
     },
     "execution_count": 25,
     "metadata": {},
     "output_type": "execute_result"
    }
   ],
   "source": [
    "hist_new_card_intersect"
   ]
  },
  {
   "cell_type": "markdown",
   "metadata": {},
   "source": [
    "### Observation\n",
    "* All card_ids under new merchant transactions are a subset of historical transactions.\n",
    "* While there are some card ids that are exclusively present in historical transactions that belong to train data.\n",
    "* New Merchant transactions don't contain all of the train data card_ids but contain all of the test card_ids."
   ]
  },
  {
   "cell_type": "code",
   "execution_count": 15,
   "metadata": {},
   "outputs": [
    {
     "name": "stdout",
     "output_type": "stream",
     "text": [
      "Train Test card intersection :  0\n"
     ]
    }
   ],
   "source": [
    "print(\"Train Test card intersection : \",train_test_card_intersect)"
   ]
  },
  {
   "cell_type": "code",
   "execution_count": 17,
   "metadata": {},
   "outputs": [
    {
     "name": "stdout",
     "output_type": "stream",
     "text": [
      "Test Hist card intersection :  123623\n",
      "Train Hist card intersection :  201917\n"
     ]
    }
   ],
   "source": [
    "print(\"Test Hist card intersection : \",test_hist_card_intersect)\n",
    "print(\"Train Hist card intersection : \",train_hist_card_intersect)"
   ]
  },
  {
   "cell_type": "code",
   "execution_count": 18,
   "metadata": {},
   "outputs": [],
   "source": [
    "train_new_card_intersect = len(set(new_trans_df['card_id'].unique()).intersection(set(train_df['card_id'].unique())))\n",
    "test_new_card_intersect = len(set(new_trans_df['card_id'].unique()).intersection(set(test_df['card_id'].unique())))"
   ]
  },
  {
   "cell_type": "code",
   "execution_count": 19,
   "metadata": {},
   "outputs": [
    {
     "name": "stdout",
     "output_type": "stream",
     "text": [
      "Test New card intersection :  179986\n",
      "Train New card intersection :  110015\n"
     ]
    }
   ],
   "source": [
    "print(\"Train New card intersection : \",train_new_card_intersect)\n",
    "print(\"Test New card intersection : \",test_new_card_intersect)"
   ]
  },
  {
   "cell_type": "markdown",
   "metadata": {},
   "source": [
    "## Approach after analysis \n",
    "\n",
    "### Step-1\n",
    "* There is no overlap between train and test dataframe card_id's.\n",
    "* We have to sample data from historical and new merchant transactions that belong only to train_df.\n",
    "* Apply all of the feature transformation to train_df.\n",
    "    * Feature transformation or aggregation on historical_transactions.\n",
    "    * Feature transformation or aggregation on new_merchant_transactions.\n",
    "    * Feature transformation on merchants data.\n",
    "    * Merge train_df, hist_aggr_df, new_merch_aggr_df and merchants_aggr_df.\n",
    "* Do feature selection using transformed train_df.\n",
    "\n",
    "### Step-2\n",
    "* Create a cross-validation framework for thorough training of models.\n",
    "* Perform train and cross-validation split using transformed train_df.\n",
    "* Keep on stacking models to create a better model in each iteration.\n",
    "* Apply feature transformation on test_df,historical_transactions and new_merchant_transactions based on card_ids from test_df.\n",
    "* Test your model's performance using test_df.\n",
    "\n",
    "### Step-3\n",
    "* Once confident with the model test your data against sample_submission.csv"
   ]
  },
  {
   "cell_type": "code",
   "execution_count": 21,
   "metadata": {},
   "outputs": [
    {
     "name": "stdout",
     "output_type": "stream",
     "text": [
      "Mem. usage decreased to 114.20 Mb (45.5% reduction)\n"
     ]
    }
   ],
   "source": [
    "new_trans_df = eda_fe.reduce_mem_usage(pd.read_csv('new_merchant_transactions.csv'))"
   ]
  },
  {
   "cell_type": "code",
   "execution_count": 22,
   "metadata": {},
   "outputs": [
    {
     "data": {
      "text/html": [
       "<div>\n",
       "<style scoped>\n",
       "    .dataframe tbody tr th:only-of-type {\n",
       "        vertical-align: middle;\n",
       "    }\n",
       "\n",
       "    .dataframe tbody tr th {\n",
       "        vertical-align: top;\n",
       "    }\n",
       "\n",
       "    .dataframe thead th {\n",
       "        text-align: right;\n",
       "    }\n",
       "</style>\n",
       "<table border=\"1\" class=\"dataframe\">\n",
       "  <thead>\n",
       "    <tr style=\"text-align: right;\">\n",
       "      <th></th>\n",
       "      <th>authorized_flag</th>\n",
       "      <th>card_id</th>\n",
       "      <th>city_id</th>\n",
       "      <th>category_1</th>\n",
       "      <th>installments</th>\n",
       "      <th>category_3</th>\n",
       "      <th>merchant_category_id</th>\n",
       "      <th>merchant_id</th>\n",
       "      <th>month_lag</th>\n",
       "      <th>purchase_amount</th>\n",
       "      <th>purchase_date</th>\n",
       "      <th>category_2</th>\n",
       "      <th>state_id</th>\n",
       "      <th>subsector_id</th>\n",
       "    </tr>\n",
       "  </thead>\n",
       "  <tbody>\n",
       "    <tr>\n",
       "      <th>0</th>\n",
       "      <td>Y</td>\n",
       "      <td>C_ID_415bb3a509</td>\n",
       "      <td>107</td>\n",
       "      <td>N</td>\n",
       "      <td>1</td>\n",
       "      <td>B</td>\n",
       "      <td>307</td>\n",
       "      <td>M_ID_b0c793002c</td>\n",
       "      <td>1</td>\n",
       "      <td>-0.557617</td>\n",
       "      <td>2018-03-11 14:57:36</td>\n",
       "      <td>1.0</td>\n",
       "      <td>9</td>\n",
       "      <td>19</td>\n",
       "    </tr>\n",
       "    <tr>\n",
       "      <th>1</th>\n",
       "      <td>Y</td>\n",
       "      <td>C_ID_415bb3a509</td>\n",
       "      <td>140</td>\n",
       "      <td>N</td>\n",
       "      <td>1</td>\n",
       "      <td>B</td>\n",
       "      <td>307</td>\n",
       "      <td>M_ID_88920c89e8</td>\n",
       "      <td>1</td>\n",
       "      <td>-0.569336</td>\n",
       "      <td>2018-03-19 18:53:37</td>\n",
       "      <td>1.0</td>\n",
       "      <td>9</td>\n",
       "      <td>19</td>\n",
       "    </tr>\n",
       "    <tr>\n",
       "      <th>2</th>\n",
       "      <td>Y</td>\n",
       "      <td>C_ID_415bb3a509</td>\n",
       "      <td>330</td>\n",
       "      <td>N</td>\n",
       "      <td>1</td>\n",
       "      <td>B</td>\n",
       "      <td>507</td>\n",
       "      <td>M_ID_ad5237ef6b</td>\n",
       "      <td>2</td>\n",
       "      <td>-0.551270</td>\n",
       "      <td>2018-04-26 14:08:44</td>\n",
       "      <td>1.0</td>\n",
       "      <td>9</td>\n",
       "      <td>14</td>\n",
       "    </tr>\n",
       "    <tr>\n",
       "      <th>3</th>\n",
       "      <td>Y</td>\n",
       "      <td>C_ID_415bb3a509</td>\n",
       "      <td>-1</td>\n",
       "      <td>Y</td>\n",
       "      <td>1</td>\n",
       "      <td>B</td>\n",
       "      <td>661</td>\n",
       "      <td>M_ID_9e84cda3b1</td>\n",
       "      <td>1</td>\n",
       "      <td>-0.671875</td>\n",
       "      <td>2018-03-07 09:43:21</td>\n",
       "      <td>NaN</td>\n",
       "      <td>-1</td>\n",
       "      <td>8</td>\n",
       "    </tr>\n",
       "    <tr>\n",
       "      <th>4</th>\n",
       "      <td>Y</td>\n",
       "      <td>C_ID_ef55cf8d4b</td>\n",
       "      <td>-1</td>\n",
       "      <td>Y</td>\n",
       "      <td>1</td>\n",
       "      <td>B</td>\n",
       "      <td>166</td>\n",
       "      <td>M_ID_3c86fa3831</td>\n",
       "      <td>1</td>\n",
       "      <td>-0.659668</td>\n",
       "      <td>2018-03-22 21:07:53</td>\n",
       "      <td>NaN</td>\n",
       "      <td>-1</td>\n",
       "      <td>29</td>\n",
       "    </tr>\n",
       "  </tbody>\n",
       "</table>\n",
       "</div>"
      ],
      "text/plain": [
       "  authorized_flag          card_id  city_id category_1  installments  \\\n",
       "0               Y  C_ID_415bb3a509      107          N             1   \n",
       "1               Y  C_ID_415bb3a509      140          N             1   \n",
       "2               Y  C_ID_415bb3a509      330          N             1   \n",
       "3               Y  C_ID_415bb3a509       -1          Y             1   \n",
       "4               Y  C_ID_ef55cf8d4b       -1          Y             1   \n",
       "\n",
       "  category_3  merchant_category_id      merchant_id  month_lag  \\\n",
       "0          B                   307  M_ID_b0c793002c          1   \n",
       "1          B                   307  M_ID_88920c89e8          1   \n",
       "2          B                   507  M_ID_ad5237ef6b          2   \n",
       "3          B                   661  M_ID_9e84cda3b1          1   \n",
       "4          B                   166  M_ID_3c86fa3831          1   \n",
       "\n",
       "   purchase_amount        purchase_date  category_2  state_id  subsector_id  \n",
       "0        -0.557617  2018-03-11 14:57:36         1.0         9            19  \n",
       "1        -0.569336  2018-03-19 18:53:37         1.0         9            19  \n",
       "2        -0.551270  2018-04-26 14:08:44         1.0         9            14  \n",
       "3        -0.671875  2018-03-07 09:43:21         NaN        -1             8  \n",
       "4        -0.659668  2018-03-22 21:07:53         NaN        -1            29  "
      ]
     },
     "execution_count": 22,
     "metadata": {},
     "output_type": "execute_result"
    }
   ],
   "source": [
    "new_trans_df.head()"
   ]
  },
  {
   "cell_type": "markdown",
   "metadata": {},
   "source": [
    "## 1. Objective  : Feature Transformation on train data\n",
    "* Based on our observations in train data we are building these features.\n",
    "* We are creating trans_(csv_file)_file for storing our features generated from each of the files. "
   ]
  },
  {
   "cell_type": "code",
   "execution_count": 4,
   "metadata": {},
   "outputs": [],
   "source": [
    "trans_train_df = train_df.copy()\n",
    "trans_train_df['feature_2_bin'] = train_df['feature_2'].apply(lambda x : 1 if x==3 else 0)\n",
    "trans_train_df['feature_1_bin'] = train_df['feature_1'].apply(lambda x : 1 if x>=3 else 0)\n",
    "trans_train_df['first_active_month'] = pd.to_datetime(train_df['first_active_month'])\n",
    "trans_train_df['first_active_day'] = trans_train_df['first_active_month'].dt.day\n",
    "trans_train_df['first_active_wday'] = trans_train_df['first_active_month'].dt.weekday\n",
    "trans_train_df['first_active_mm'] = trans_train_df['first_active_month'].dt.month\n",
    "trans_train_df['first_active_year'] = trans_train_df['first_active_month'].dt.year"
   ]
  },
  {
   "cell_type": "code",
   "execution_count": 5,
   "metadata": {},
   "outputs": [
    {
     "data": {
      "text/html": [
       "<div>\n",
       "<style scoped>\n",
       "    .dataframe tbody tr th:only-of-type {\n",
       "        vertical-align: middle;\n",
       "    }\n",
       "\n",
       "    .dataframe tbody tr th {\n",
       "        vertical-align: top;\n",
       "    }\n",
       "\n",
       "    .dataframe thead th {\n",
       "        text-align: right;\n",
       "    }\n",
       "</style>\n",
       "<table border=\"1\" class=\"dataframe\">\n",
       "  <thead>\n",
       "    <tr style=\"text-align: right;\">\n",
       "      <th></th>\n",
       "      <th>first_active_month</th>\n",
       "      <th>card_id</th>\n",
       "      <th>feature_1</th>\n",
       "      <th>feature_2</th>\n",
       "      <th>feature_3</th>\n",
       "      <th>target</th>\n",
       "      <th>feature_2_bin</th>\n",
       "      <th>feature_1_bin</th>\n",
       "      <th>first_active_day</th>\n",
       "      <th>first_active_wday</th>\n",
       "      <th>first_active_mm</th>\n",
       "      <th>first_active_year</th>\n",
       "    </tr>\n",
       "  </thead>\n",
       "  <tbody>\n",
       "    <tr>\n",
       "      <th>0</th>\n",
       "      <td>2017-06-01</td>\n",
       "      <td>C_ID_92a2005557</td>\n",
       "      <td>5</td>\n",
       "      <td>2</td>\n",
       "      <td>1</td>\n",
       "      <td>-0.820283</td>\n",
       "      <td>0</td>\n",
       "      <td>1</td>\n",
       "      <td>1</td>\n",
       "      <td>3</td>\n",
       "      <td>6</td>\n",
       "      <td>2017</td>\n",
       "    </tr>\n",
       "    <tr>\n",
       "      <th>1</th>\n",
       "      <td>2017-01-01</td>\n",
       "      <td>C_ID_3d0044924f</td>\n",
       "      <td>4</td>\n",
       "      <td>1</td>\n",
       "      <td>0</td>\n",
       "      <td>0.392913</td>\n",
       "      <td>0</td>\n",
       "      <td>1</td>\n",
       "      <td>1</td>\n",
       "      <td>6</td>\n",
       "      <td>1</td>\n",
       "      <td>2017</td>\n",
       "    </tr>\n",
       "    <tr>\n",
       "      <th>2</th>\n",
       "      <td>2016-08-01</td>\n",
       "      <td>C_ID_d639edf6cd</td>\n",
       "      <td>2</td>\n",
       "      <td>2</td>\n",
       "      <td>0</td>\n",
       "      <td>0.688056</td>\n",
       "      <td>0</td>\n",
       "      <td>0</td>\n",
       "      <td>1</td>\n",
       "      <td>0</td>\n",
       "      <td>8</td>\n",
       "      <td>2016</td>\n",
       "    </tr>\n",
       "    <tr>\n",
       "      <th>3</th>\n",
       "      <td>2017-09-01</td>\n",
       "      <td>C_ID_186d6a6901</td>\n",
       "      <td>4</td>\n",
       "      <td>3</td>\n",
       "      <td>0</td>\n",
       "      <td>0.142495</td>\n",
       "      <td>1</td>\n",
       "      <td>1</td>\n",
       "      <td>1</td>\n",
       "      <td>4</td>\n",
       "      <td>9</td>\n",
       "      <td>2017</td>\n",
       "    </tr>\n",
       "    <tr>\n",
       "      <th>4</th>\n",
       "      <td>2017-11-01</td>\n",
       "      <td>C_ID_cdbd2c0db2</td>\n",
       "      <td>1</td>\n",
       "      <td>3</td>\n",
       "      <td>0</td>\n",
       "      <td>-0.159749</td>\n",
       "      <td>1</td>\n",
       "      <td>0</td>\n",
       "      <td>1</td>\n",
       "      <td>2</td>\n",
       "      <td>11</td>\n",
       "      <td>2017</td>\n",
       "    </tr>\n",
       "  </tbody>\n",
       "</table>\n",
       "</div>"
      ],
      "text/plain": [
       "  first_active_month          card_id  feature_1  feature_2  feature_3  \\\n",
       "0         2017-06-01  C_ID_92a2005557          5          2          1   \n",
       "1         2017-01-01  C_ID_3d0044924f          4          1          0   \n",
       "2         2016-08-01  C_ID_d639edf6cd          2          2          0   \n",
       "3         2017-09-01  C_ID_186d6a6901          4          3          0   \n",
       "4         2017-11-01  C_ID_cdbd2c0db2          1          3          0   \n",
       "\n",
       "     target  feature_2_bin  feature_1_bin  first_active_day  \\\n",
       "0 -0.820283              0              1                 1   \n",
       "1  0.392913              0              1                 1   \n",
       "2  0.688056              0              0                 1   \n",
       "3  0.142495              1              1                 1   \n",
       "4 -0.159749              1              0                 1   \n",
       "\n",
       "   first_active_wday  first_active_mm  first_active_year  \n",
       "0                  3                6               2017  \n",
       "1                  6                1               2017  \n",
       "2                  0                8               2016  \n",
       "3                  4                9               2017  \n",
       "4                  2               11               2017  "
      ]
     },
     "execution_count": 5,
     "metadata": {},
     "output_type": "execute_result"
    }
   ],
   "source": [
    "trans_train_df.head()"
   ]
  },
  {
   "cell_type": "code",
   "execution_count": 6,
   "metadata": {},
   "outputs": [
    {
     "data": {
      "text/plain": [
       "Index(['first_active_month', 'card_id', 'feature_1', 'feature_2', 'feature_3',\n",
       "       'target', 'feature_2_bin', 'feature_1_bin', 'first_active_day',\n",
       "       'first_active_wday', 'first_active_mm', 'first_active_year'],\n",
       "      dtype='object')"
      ]
     },
     "execution_count": 6,
     "metadata": {},
     "output_type": "execute_result"
    }
   ],
   "source": [
    "trans_train_df.columns"
   ]
  },
  {
   "cell_type": "code",
   "execution_count": 7,
   "metadata": {},
   "outputs": [
    {
     "data": {
      "text/plain": [
       "(201917, 12)"
      ]
     },
     "execution_count": 7,
     "metadata": {},
     "output_type": "execute_result"
    }
   ],
   "source": [
    "trans_train_df.shape"
   ]
  },
  {
   "cell_type": "markdown",
   "metadata": {},
   "source": [
    "## 1.1 Objective : Collect all the unique card_ids for sampling train card_ids from historical transactions and new merchant transactions"
   ]
  },
  {
   "cell_type": "code",
   "execution_count": 11,
   "metadata": {},
   "outputs": [],
   "source": [
    "train_card_ids = trans_train_df['card_id'].unique()\n",
    "\n",
    "## Save card_ids\n",
    "pickle.dump(train_card_ids,open('train_card_ids.pkl','wb'))\n",
    "\n",
    "## train_df feature set\n",
    "pickle.dump(trans_train_df,open('trans_train_df.pkl','wb'))"
   ]
  },
  {
   "cell_type": "markdown",
   "metadata": {},
   "source": [
    "## 2 Objective : Sample historical_transactions based on card_ids in train data  \n",
    "* We are creating sampled historical transactions data based on card_ids in train data.\n",
    "* Also we are adding the new purchase amount field based on our eda."
   ]
  },
  {
   "cell_type": "code",
   "execution_count": 14,
   "metadata": {},
   "outputs": [
    {
     "name": "stdout",
     "output_type": "stream",
     "text": [
      "Percentage of data sampled :  61.932486341454755\n"
     ]
    }
   ],
   "source": [
    "size_of_hist_df = hist_trans_df.shape[0]\n",
    "hist_trans_df = hist_trans_df.loc[hist_trans_df['card_id'].isin(train_card_ids)]\n",
    "size_of_s_hist_df = hist_trans_df.shape[0]\n",
    "print(\"Percentage of data sampled : \",size_of_s_hist_df*100/size_of_hist_df)"
   ]
  },
  {
   "cell_type": "code",
   "execution_count": 16,
   "metadata": {},
   "outputs": [],
   "source": [
    "pickle.dump(hist_trans_df,open('sampled_hist_df.pkl','wb'))"
   ]
  },
  {
   "cell_type": "code",
   "execution_count": 3,
   "metadata": {},
   "outputs": [],
   "source": [
    "s_hist_df = pickle.load(open('sampled_hist_df.pkl','rb'))"
   ]
  },
  {
   "cell_type": "code",
   "execution_count": 4,
   "metadata": {},
   "outputs": [],
   "source": [
    "s_hist_df['new_purchase_amount'] = np.round(s_hist_df['purchase_amount'] / 0.00150265118 + 497.06,2)"
   ]
  },
  {
   "cell_type": "markdown",
   "metadata": {},
   "source": [
    "## 2.1 Objective : To observe percentage of null values and fill them"
   ]
  },
  {
   "cell_type": "code",
   "execution_count": 3,
   "metadata": {},
   "outputs": [
    {
     "data": {
      "text/plain": [
       "authorized_flag         0.000000\n",
       "card_id                 0.000000\n",
       "city_id                 0.000000\n",
       "category_1              0.000000\n",
       "installments            0.000000\n",
       "category_3              0.612939\n",
       "merchant_category_id    0.000000\n",
       "merchant_id             0.477132\n",
       "month_lag               0.000000\n",
       "purchase_amount         0.000000\n",
       "purchase_date           0.000000\n",
       "category_2              9.081482\n",
       "state_id                0.000000\n",
       "subsector_id            0.000000\n",
       "dtype: float64"
      ]
     },
     "execution_count": 3,
     "metadata": {},
     "output_type": "execute_result"
    }
   ],
   "source": [
    "s_hist_df.isnull().sum()*100/s_hist_df.shape[0]"
   ]
  },
  {
   "cell_type": "markdown",
   "metadata": {},
   "source": [
    "## Analysis\n",
    "* Let's replace category_2 and category_3 by max occuring category_value.\n",
    "* Let's not replace merchant_id because apart from matching with merchant transaction data we are not going use it.\n",
    "* Or Let's just replace it with not_known."
   ]
  },
  {
   "cell_type": "code",
   "execution_count": 10,
   "metadata": {},
   "outputs": [
    {
     "name": "stdout",
     "output_type": "stream",
     "text": [
      "Most frequently occuring category :  A\n"
     ]
    }
   ],
   "source": [
    "## Replacing category_3 by max occuring category\n",
    "max_cat = s_hist_df['category_3'].value_counts().index[0]\n",
    "print(\"Most frequently occuring category : \",max_cat)\n",
    "s_hist_df['category_3'].fillna(max_cat,inplace = True)"
   ]
  },
  {
   "cell_type": "code",
   "execution_count": 11,
   "metadata": {},
   "outputs": [
    {
     "name": "stdout",
     "output_type": "stream",
     "text": [
      "Most frequently occuring category :  1.0\n"
     ]
    }
   ],
   "source": [
    "## replacing nan values in merchant_id with 'not known' category\n",
    "s_hist_df['merchant_id'].fillna('not_known',inplace = True)\n",
    "\n",
    "## replacing nan values in category_2 with 'other' category\n",
    "\n",
    "max_cat = s_hist_df['category_2'].value_counts().index[0]\n",
    "print(\"Most frequently occuring category : \",max_cat)\n",
    "s_hist_df['category_2'].fillna(max_cat,inplace = True)"
   ]
  },
  {
   "cell_type": "code",
   "execution_count": 12,
   "metadata": {
    "scrolled": true
   },
   "outputs": [
    {
     "data": {
      "text/plain": [
       "authorized_flag         0.0\n",
       "card_id                 0.0\n",
       "city_id                 0.0\n",
       "category_1              0.0\n",
       "installments            0.0\n",
       "category_3              0.0\n",
       "merchant_category_id    0.0\n",
       "merchant_id             0.0\n",
       "month_lag               0.0\n",
       "purchase_amount         0.0\n",
       "purchase_date           0.0\n",
       "category_2              0.0\n",
       "state_id                0.0\n",
       "subsector_id            0.0\n",
       "new_purchase_amount     0.0\n",
       "dtype: float64"
      ]
     },
     "execution_count": 12,
     "metadata": {},
     "output_type": "execute_result"
    }
   ],
   "source": [
    "s_hist_df.isnull().sum()*100/s_hist_df.shape[0]"
   ]
  },
  {
   "cell_type": "markdown",
   "metadata": {},
   "source": [
    "## 2.2 Objective : Apply feature transformation on historical transactions\n",
    "* So here we are going to apply some aggregation on categorical data grouped by card_id.\n",
    "* The kind of aggregation to perform and the column to be aggregated is passed as an argument in computeCategoricalAggr function.\n",
    "* Though we have observed in our EDA that 'mode' based aggregation doesn't correlate much with target variable.\n",
    "* Still we are adding it to confirm our analysis in the end after feature selection."
   ]
  },
  {
   "cell_type": "code",
   "execution_count": 13,
   "metadata": {},
   "outputs": [],
   "source": [
    "import time"
   ]
  },
  {
   "cell_type": "code",
   "execution_count": 14,
   "metadata": {},
   "outputs": [],
   "source": [
    "trans_hist_df = pd.DataFrame({'card_id' : s_hist_df['card_id'].unique()})"
   ]
  },
  {
   "cell_type": "code",
   "execution_count": 15,
   "metadata": {},
   "outputs": [
    {
     "name": "stdout",
     "output_type": "stream",
     "text": [
      "time taken in seconds :  75.4839920999998\n"
     ]
    }
   ],
   "source": [
    "start_time = time.clock()\n",
    "trans_hist_df = pd.merge(trans_hist_df,eda_fe.computeCategoricalAggr(s_hist_df,'category_1','mode'),on='card_id',how='inner')\n",
    "end_time = time.clock()\n",
    "print(\"time taken in seconds : \",end_time-start_time)"
   ]
  },
  {
   "cell_type": "code",
   "execution_count": 16,
   "metadata": {},
   "outputs": [
    {
     "name": "stdout",
     "output_type": "stream",
     "text": [
      "time taken in seconds :  234.56837479999967\n"
     ]
    }
   ],
   "source": [
    "start_time = time.clock()\n",
    "trans_hist_df = pd.merge(trans_hist_df,eda_fe.computeCategoricalAggr(s_hist_df,'category_2','mode'),on='card_id',how='inner')\n",
    "trans_hist_df = pd.merge(trans_hist_df,eda_fe.computeCategoricalAggr(s_hist_df,'category_3','mode'),on='card_id',how='inner')\n",
    "trans_hist_df = pd.merge(trans_hist_df,eda_fe.computeCategoricalAggr(s_hist_df,'state_id','mode'),on='card_id',how='inner')\n",
    "trans_hist_df = pd.merge(trans_hist_df,eda_fe.computeCategoricalAggr(s_hist_df,'city_id','mode'),on='card_id',how='inner')\n",
    "end_time = time.clock()\n",
    "print(\"time taken in seconds : \",end_time-start_time)"
   ]
  },
  {
   "cell_type": "code",
   "execution_count": 17,
   "metadata": {},
   "outputs": [],
   "source": [
    "## Nunique features\n",
    "trans_hist_df = pd.merge(trans_hist_df,eda_fe.computeCategoricalAggr(s_hist_df,'category_1','nunique'),on='card_id',how='inner')\n",
    "trans_hist_df = pd.merge(trans_hist_df,eda_fe.computeCategoricalAggr(s_hist_df,'category_2','nunique'),on='card_id',how='inner')\n",
    "trans_hist_df = pd.merge(trans_hist_df,eda_fe.computeCategoricalAggr(s_hist_df,'category_3','nunique'),on='card_id',how='inner')\n",
    "trans_hist_df = pd.merge(trans_hist_df,eda_fe.computeCategoricalAggr(s_hist_df,'state_id','nunique'),on='card_id',how='inner')\n",
    "trans_hist_df = pd.merge(trans_hist_df,eda_fe.computeCategoricalAggr(s_hist_df,'city_id','nunique'),on='card_id',how='inner')"
   ]
  },
  {
   "cell_type": "code",
   "execution_count": 18,
   "metadata": {},
   "outputs": [
    {
     "data": {
      "text/plain": [
       "(201917, 11)"
      ]
     },
     "execution_count": 18,
     "metadata": {},
     "output_type": "execute_result"
    }
   ],
   "source": [
    "trans_hist_df.shape"
   ]
  },
  {
   "cell_type": "code",
   "execution_count": 19,
   "metadata": {},
   "outputs": [
    {
     "data": {
      "text/html": [
       "<div>\n",
       "<style scoped>\n",
       "    .dataframe tbody tr th:only-of-type {\n",
       "        vertical-align: middle;\n",
       "    }\n",
       "\n",
       "    .dataframe tbody tr th {\n",
       "        vertical-align: top;\n",
       "    }\n",
       "\n",
       "    .dataframe thead th {\n",
       "        text-align: right;\n",
       "    }\n",
       "</style>\n",
       "<table border=\"1\" class=\"dataframe\">\n",
       "  <thead>\n",
       "    <tr style=\"text-align: right;\">\n",
       "      <th></th>\n",
       "      <th>card_id</th>\n",
       "      <th>category_1_mode</th>\n",
       "      <th>category_2_mode</th>\n",
       "      <th>category_3_mode</th>\n",
       "      <th>state_id_mode</th>\n",
       "      <th>city_id_mode</th>\n",
       "      <th>category_1_nunique</th>\n",
       "      <th>category_2_nunique</th>\n",
       "      <th>category_3_nunique</th>\n",
       "      <th>state_id_nunique</th>\n",
       "      <th>city_id_nunique</th>\n",
       "    </tr>\n",
       "  </thead>\n",
       "  <tbody>\n",
       "    <tr>\n",
       "      <th>0</th>\n",
       "      <td>C_ID_5037ff576e</td>\n",
       "      <td>N</td>\n",
       "      <td>1.0</td>\n",
       "      <td>B</td>\n",
       "      <td>9</td>\n",
       "      <td>331</td>\n",
       "      <td>1</td>\n",
       "      <td>5</td>\n",
       "      <td>2</td>\n",
       "      <td>16</td>\n",
       "      <td>33</td>\n",
       "    </tr>\n",
       "    <tr>\n",
       "      <th>1</th>\n",
       "      <td>C_ID_0e171c1b48</td>\n",
       "      <td>N</td>\n",
       "      <td>4.0</td>\n",
       "      <td>A</td>\n",
       "      <td>13</td>\n",
       "      <td>277</td>\n",
       "      <td>1</td>\n",
       "      <td>3</td>\n",
       "      <td>2</td>\n",
       "      <td>3</td>\n",
       "      <td>4</td>\n",
       "    </tr>\n",
       "    <tr>\n",
       "      <th>2</th>\n",
       "      <td>C_ID_fc8e41b9cf</td>\n",
       "      <td>N</td>\n",
       "      <td>3.0</td>\n",
       "      <td>B</td>\n",
       "      <td>8</td>\n",
       "      <td>251</td>\n",
       "      <td>2</td>\n",
       "      <td>2</td>\n",
       "      <td>3</td>\n",
       "      <td>5</td>\n",
       "      <td>11</td>\n",
       "    </tr>\n",
       "    <tr>\n",
       "      <th>3</th>\n",
       "      <td>C_ID_b271e7ab60</td>\n",
       "      <td>N</td>\n",
       "      <td>4.0</td>\n",
       "      <td>A</td>\n",
       "      <td>22</td>\n",
       "      <td>17</td>\n",
       "      <td>1</td>\n",
       "      <td>2</td>\n",
       "      <td>2</td>\n",
       "      <td>3</td>\n",
       "      <td>3</td>\n",
       "    </tr>\n",
       "    <tr>\n",
       "      <th>4</th>\n",
       "      <td>C_ID_4bed29d75c</td>\n",
       "      <td>N</td>\n",
       "      <td>1.0</td>\n",
       "      <td>B</td>\n",
       "      <td>9</td>\n",
       "      <td>272</td>\n",
       "      <td>2</td>\n",
       "      <td>1</td>\n",
       "      <td>2</td>\n",
       "      <td>2</td>\n",
       "      <td>6</td>\n",
       "    </tr>\n",
       "  </tbody>\n",
       "</table>\n",
       "</div>"
      ],
      "text/plain": [
       "           card_id category_1_mode  category_2_mode category_3_mode  \\\n",
       "0  C_ID_5037ff576e               N              1.0               B   \n",
       "1  C_ID_0e171c1b48               N              4.0               A   \n",
       "2  C_ID_fc8e41b9cf               N              3.0               B   \n",
       "3  C_ID_b271e7ab60               N              4.0               A   \n",
       "4  C_ID_4bed29d75c               N              1.0               B   \n",
       "\n",
       "   state_id_mode  city_id_mode  category_1_nunique  category_2_nunique  \\\n",
       "0              9           331                   1                   5   \n",
       "1             13           277                   1                   3   \n",
       "2              8           251                   2                   2   \n",
       "3             22            17                   1                   2   \n",
       "4              9           272                   2                   1   \n",
       "\n",
       "   category_3_nunique  state_id_nunique  city_id_nunique  \n",
       "0                   2                16               33  \n",
       "1                   2                 3                4  \n",
       "2                   3                 5               11  \n",
       "3                   2                 3                3  \n",
       "4                   2                 2                6  "
      ]
     },
     "execution_count": 19,
     "metadata": {},
     "output_type": "execute_result"
    }
   ],
   "source": [
    "trans_hist_df.head()"
   ]
  },
  {
   "cell_type": "code",
   "execution_count": 20,
   "metadata": {},
   "outputs": [
    {
     "name": "stdout",
     "output_type": "stream",
     "text": [
      "time taken in seconds :  225.6875116000001\n"
     ]
    }
   ],
   "source": [
    "start_time = time.clock()\n",
    "trans_hist_df = pd.merge(trans_hist_df,eda_fe.computeCategoricalAggr(s_hist_df,'subsector_id','mode'),on='card_id',how='inner')\n",
    "trans_hist_df = pd.merge(trans_hist_df,eda_fe.computeCategoricalAggr(s_hist_df,'merchant_category_id','mode'),on='card_id',how='inner')\n",
    "\n",
    "trans_hist_df = pd.merge(trans_hist_df,eda_fe.computeCategoricalAggr(s_hist_df,'subsector_id','nunique'),on='card_id',how='inner')\n",
    "trans_hist_df = pd.merge(trans_hist_df,eda_fe.computeCategoricalAggr(s_hist_df,'merchant_category_id','nunique'),on='card_id',how='inner')\n",
    "\n",
    "end_time = time.clock()\n",
    "print(\"time taken in seconds : \",end_time-start_time)"
   ]
  },
  {
   "cell_type": "code",
   "execution_count": 21,
   "metadata": {},
   "outputs": [
    {
     "data": {
      "text/plain": [
       "(201917, 15)"
      ]
     },
     "execution_count": 21,
     "metadata": {},
     "output_type": "execute_result"
    }
   ],
   "source": [
    "trans_hist_df.shape"
   ]
  },
  {
   "cell_type": "code",
   "execution_count": 22,
   "metadata": {},
   "outputs": [],
   "source": [
    "## Intermediate saving of files\n",
    "pickle.dump(trans_hist_df,open('trans_hist_df.pkl','wb'))"
   ]
  },
  {
   "cell_type": "code",
   "execution_count": 23,
   "metadata": {},
   "outputs": [],
   "source": [
    "trans_hist_df = pickle.load(open('trans_hist_df.pkl','rb'))"
   ]
  },
  {
   "cell_type": "markdown",
   "metadata": {},
   "source": [
    "### 2.2.3 Creating date-time related features"
   ]
  },
  {
   "cell_type": "code",
   "execution_count": 24,
   "metadata": {},
   "outputs": [
    {
     "name": "stdout",
     "output_type": "stream",
     "text": [
      "time taken in seconds :  13.583130500000152\n"
     ]
    }
   ],
   "source": [
    "start_time = time.clock()\n",
    "s_hist_df['purchase_date'] = pd.to_datetime(s_hist_df['purchase_date'])\n",
    "s_hist_df['day'] = s_hist_df['purchase_date'].dt.day\n",
    "s_hist_df['wday'] = s_hist_df['purchase_date'].dt.weekday\n",
    "s_hist_df['month'] = s_hist_df['purchase_date'].dt.month\n",
    "s_hist_df['year'] = s_hist_df['purchase_date'].dt.year\n",
    "end_time = time.clock()\n",
    "print(\"time taken in seconds : \",end_time-start_time)"
   ]
  },
  {
   "cell_type": "code",
   "execution_count": 25,
   "metadata": {},
   "outputs": [
    {
     "name": "stderr",
     "output_type": "stream",
     "text": [
      "  0%|                                                                                            | 0/4 [00:00<?, ?it/s]\n",
      "  0%|                                                                                            | 0/4 [00:00<?, ?it/s]\u001b[A\n",
      " 25%|█████████████████████                                                               | 1/4 [00:59<02:57, 59.12s/it]\u001b[A\n",
      " 50%|██████████████████████████████████████████                                          | 2/4 [04:01<03:11, 95.97s/it]\u001b[A\n",
      " 75%|███████████████████████████████████████████████████████████████                     | 3/4 [04:22<01:13, 73.57s/it]\u001b[A\n",
      "100%|████████████████████████████████████████████████████████████████████████████████████| 4/4 [05:02<00:00, 75.73s/it]\u001b[A\n",
      " 25%|████████████████████▊                                                              | 1/4 [05:02<15:08, 302.93s/it]\n",
      "  0%|                                                                                            | 0/4 [00:00<?, ?it/s]\u001b[A\n",
      " 25%|█████████████████████                                                               | 1/4 [00:56<02:49, 56.50s/it]\u001b[A\n",
      " 50%|██████████████████████████████████████████                                          | 2/4 [03:56<03:07, 93.53s/it]\u001b[A\n",
      " 75%|███████████████████████████████████████████████████████████████                     | 3/4 [04:18<01:12, 72.17s/it]\u001b[A\n",
      "100%|████████████████████████████████████████████████████████████████████████████████████| 4/4 [04:57<00:00, 74.38s/it]\u001b[A\n",
      " 50%|█████████████████████████████████████████▌                                         | 2/4 [10:00<10:02, 301.31s/it]\n",
      "  0%|                                                                                            | 0/4 [00:00<?, ?it/s]\u001b[A\n",
      " 25%|█████████████████████                                                               | 1/4 [00:57<02:53, 57.96s/it]\u001b[A\n",
      " 50%|██████████████████████████████████████████                                          | 2/4 [04:01<03:11, 95.55s/it]\u001b[A\n",
      " 75%|███████████████████████████████████████████████████████████████                     | 3/4 [04:24<01:13, 73.93s/it]\u001b[A\n",
      "100%|████████████████████████████████████████████████████████████████████████████████████| 4/4 [05:04<00:00, 76.03s/it]\u001b[A\n",
      " 75%|██████████████████████████████████████████████████████████████▎                    | 3/4 [15:04<05:02, 302.16s/it]\n",
      "  0%|                                                                                            | 0/4 [00:00<?, ?it/s]\u001b[A\n",
      " 25%|█████████████████████                                                               | 1/4 [00:57<02:53, 57.80s/it]\u001b[A\n",
      " 50%|████████████████████████████████████████                                        | 2/4 [1:03:34<38:55, 1167.56s/it]\u001b[A\n",
      " 75%|████████████████████████████████████████████████████████████▊                    | 3/4 [1:03:56<13:43, 823.77s/it]\u001b[A\n",
      "100%|█████████████████████████████████████████████████████████████████████████████████| 4/4 [1:04:38<00:00, 969.59s/it]\u001b[A\n",
      "100%|████████████████████████████████████████████████████████████████████████████████| 4/4 [1:19:42<00:00, 1195.74s/it]\n"
     ]
    }
   ],
   "source": [
    "datetime_cols = ['day','wday','month','year']\n",
    "stat_func = ['mode','min','count','nunique']\n",
    "\n",
    "## For each of the datetime column we are going to apply \n",
    "## above aggregate functions and merge it with the trans_hist_df\n",
    "## trans_hist_df is the dataframe containing features generated \n",
    "## using historical transactions\n",
    "\n",
    "for col in tqdm(datetime_cols):\n",
    "    for func in tqdm(stat_func): \n",
    "        trans_hist_df = pd.merge(trans_hist_df,eda_fe.computeCategoricalAggr(s_hist_df,col,func),on='card_id',how='inner')"
   ]
  },
  {
   "cell_type": "code",
   "execution_count": 26,
   "metadata": {},
   "outputs": [
    {
     "data": {
      "text/html": [
       "<div>\n",
       "<style scoped>\n",
       "    .dataframe tbody tr th:only-of-type {\n",
       "        vertical-align: middle;\n",
       "    }\n",
       "\n",
       "    .dataframe tbody tr th {\n",
       "        vertical-align: top;\n",
       "    }\n",
       "\n",
       "    .dataframe thead th {\n",
       "        text-align: right;\n",
       "    }\n",
       "</style>\n",
       "<table border=\"1\" class=\"dataframe\">\n",
       "  <thead>\n",
       "    <tr style=\"text-align: right;\">\n",
       "      <th></th>\n",
       "      <th>card_id</th>\n",
       "      <th>category_1_mode</th>\n",
       "      <th>category_2_mode</th>\n",
       "      <th>category_3_mode</th>\n",
       "      <th>state_id_mode</th>\n",
       "      <th>city_id_mode</th>\n",
       "      <th>category_1_nunique</th>\n",
       "      <th>category_2_nunique</th>\n",
       "      <th>category_3_nunique</th>\n",
       "      <th>state_id_nunique</th>\n",
       "      <th>...</th>\n",
       "      <th>wday_count</th>\n",
       "      <th>wday_nunique</th>\n",
       "      <th>month_mode</th>\n",
       "      <th>month_min</th>\n",
       "      <th>month_count</th>\n",
       "      <th>month_nunique</th>\n",
       "      <th>year_mode</th>\n",
       "      <th>year_min</th>\n",
       "      <th>year_count</th>\n",
       "      <th>year_nunique</th>\n",
       "    </tr>\n",
       "  </thead>\n",
       "  <tbody>\n",
       "    <tr>\n",
       "      <th>0</th>\n",
       "      <td>C_ID_5037ff576e</td>\n",
       "      <td>N</td>\n",
       "      <td>1.0</td>\n",
       "      <td>B</td>\n",
       "      <td>9</td>\n",
       "      <td>331</td>\n",
       "      <td>1</td>\n",
       "      <td>5</td>\n",
       "      <td>2</td>\n",
       "      <td>16</td>\n",
       "      <td>...</td>\n",
       "      <td>118</td>\n",
       "      <td>7</td>\n",
       "      <td>9</td>\n",
       "      <td>5</td>\n",
       "      <td>118</td>\n",
       "      <td>12</td>\n",
       "      <td>2017</td>\n",
       "      <td>2017</td>\n",
       "      <td>118</td>\n",
       "      <td>1</td>\n",
       "    </tr>\n",
       "    <tr>\n",
       "      <th>1</th>\n",
       "      <td>C_ID_0e171c1b48</td>\n",
       "      <td>N</td>\n",
       "      <td>4.0</td>\n",
       "      <td>A</td>\n",
       "      <td>13</td>\n",
       "      <td>277</td>\n",
       "      <td>1</td>\n",
       "      <td>3</td>\n",
       "      <td>2</td>\n",
       "      <td>3</td>\n",
       "      <td>...</td>\n",
       "      <td>279</td>\n",
       "      <td>7</td>\n",
       "      <td>2</td>\n",
       "      <td>11</td>\n",
       "      <td>279</td>\n",
       "      <td>12</td>\n",
       "      <td>2017</td>\n",
       "      <td>2018</td>\n",
       "      <td>279</td>\n",
       "      <td>2</td>\n",
       "    </tr>\n",
       "    <tr>\n",
       "      <th>2</th>\n",
       "      <td>C_ID_fc8e41b9cf</td>\n",
       "      <td>N</td>\n",
       "      <td>3.0</td>\n",
       "      <td>B</td>\n",
       "      <td>8</td>\n",
       "      <td>251</td>\n",
       "      <td>2</td>\n",
       "      <td>2</td>\n",
       "      <td>3</td>\n",
       "      <td>5</td>\n",
       "      <td>...</td>\n",
       "      <td>242</td>\n",
       "      <td>7</td>\n",
       "      <td>2</td>\n",
       "      <td>7</td>\n",
       "      <td>242</td>\n",
       "      <td>8</td>\n",
       "      <td>2017</td>\n",
       "      <td>2018</td>\n",
       "      <td>242</td>\n",
       "      <td>2</td>\n",
       "    </tr>\n",
       "    <tr>\n",
       "      <th>3</th>\n",
       "      <td>C_ID_b271e7ab60</td>\n",
       "      <td>N</td>\n",
       "      <td>4.0</td>\n",
       "      <td>A</td>\n",
       "      <td>22</td>\n",
       "      <td>17</td>\n",
       "      <td>1</td>\n",
       "      <td>2</td>\n",
       "      <td>2</td>\n",
       "      <td>3</td>\n",
       "      <td>...</td>\n",
       "      <td>85</td>\n",
       "      <td>7</td>\n",
       "      <td>2</td>\n",
       "      <td>4</td>\n",
       "      <td>85</td>\n",
       "      <td>12</td>\n",
       "      <td>2017</td>\n",
       "      <td>2018</td>\n",
       "      <td>85</td>\n",
       "      <td>2</td>\n",
       "    </tr>\n",
       "    <tr>\n",
       "      <th>4</th>\n",
       "      <td>C_ID_4bed29d75c</td>\n",
       "      <td>N</td>\n",
       "      <td>1.0</td>\n",
       "      <td>B</td>\n",
       "      <td>9</td>\n",
       "      <td>272</td>\n",
       "      <td>2</td>\n",
       "      <td>1</td>\n",
       "      <td>2</td>\n",
       "      <td>2</td>\n",
       "      <td>...</td>\n",
       "      <td>86</td>\n",
       "      <td>7</td>\n",
       "      <td>11</td>\n",
       "      <td>1</td>\n",
       "      <td>86</td>\n",
       "      <td>5</td>\n",
       "      <td>2017</td>\n",
       "      <td>2018</td>\n",
       "      <td>86</td>\n",
       "      <td>2</td>\n",
       "    </tr>\n",
       "  </tbody>\n",
       "</table>\n",
       "<p>5 rows × 31 columns</p>\n",
       "</div>"
      ],
      "text/plain": [
       "           card_id category_1_mode  category_2_mode category_3_mode  \\\n",
       "0  C_ID_5037ff576e               N              1.0               B   \n",
       "1  C_ID_0e171c1b48               N              4.0               A   \n",
       "2  C_ID_fc8e41b9cf               N              3.0               B   \n",
       "3  C_ID_b271e7ab60               N              4.0               A   \n",
       "4  C_ID_4bed29d75c               N              1.0               B   \n",
       "\n",
       "   state_id_mode  city_id_mode  category_1_nunique  category_2_nunique  \\\n",
       "0              9           331                   1                   5   \n",
       "1             13           277                   1                   3   \n",
       "2              8           251                   2                   2   \n",
       "3             22            17                   1                   2   \n",
       "4              9           272                   2                   1   \n",
       "\n",
       "   category_3_nunique  state_id_nunique  ...  wday_count wday_nunique  \\\n",
       "0                   2                16  ...         118            7   \n",
       "1                   2                 3  ...         279            7   \n",
       "2                   3                 5  ...         242            7   \n",
       "3                   2                 3  ...          85            7   \n",
       "4                   2                 2  ...          86            7   \n",
       "\n",
       "  month_mode  month_min  month_count  month_nunique  year_mode  year_min  \\\n",
       "0          9          5          118             12       2017      2017   \n",
       "1          2         11          279             12       2017      2018   \n",
       "2          2          7          242              8       2017      2018   \n",
       "3          2          4           85             12       2017      2018   \n",
       "4         11          1           86              5       2017      2018   \n",
       "\n",
       "   year_count  year_nunique  \n",
       "0         118             1  \n",
       "1         279             2  \n",
       "2         242             2  \n",
       "3          85             2  \n",
       "4          86             2  \n",
       "\n",
       "[5 rows x 31 columns]"
      ]
     },
     "execution_count": 26,
     "metadata": {},
     "output_type": "execute_result"
    }
   ],
   "source": [
    "trans_hist_df.head()"
   ]
  },
  {
   "cell_type": "code",
   "execution_count": 27,
   "metadata": {},
   "outputs": [],
   "source": [
    "pickle.dump(trans_hist_df,open('trans_hist_df.pkl','wb'))"
   ]
  },
  {
   "cell_type": "code",
   "execution_count": 28,
   "metadata": {},
   "outputs": [],
   "source": [
    "trans_hist_df = pickle.load(open('trans_hist_df.pkl','rb'))"
   ]
  },
  {
   "cell_type": "code",
   "execution_count": 29,
   "metadata": {},
   "outputs": [
    {
     "data": {
      "text/plain": [
       "Index(['authorized_flag', 'card_id', 'city_id', 'category_1', 'installments',\n",
       "       'category_3', 'merchant_category_id', 'merchant_id', 'month_lag',\n",
       "       'purchase_amount', 'purchase_date', 'category_2', 'state_id',\n",
       "       'subsector_id', 'new_purchase_amount', 'day', 'wday', 'month', 'year'],\n",
       "      dtype='object')"
      ]
     },
     "execution_count": 29,
     "metadata": {},
     "output_type": "execute_result"
    }
   ],
   "source": [
    "s_hist_df.columns"
   ]
  },
  {
   "cell_type": "markdown",
   "metadata": {},
   "source": [
    "### Note\n",
    "* Create date related boolean features.\n",
    "* This adds up boolean features related to month_starts,month_ends,quarter_starts,quarter_ends,year_starts,year_ends and other important occasions.\n"
   ]
  },
  {
   "cell_type": "code",
   "execution_count": null,
   "metadata": {},
   "outputs": [],
   "source": [
    "s_hist_df = pd.merge(s_hist_df,eda_fe.createDateRelatedBoolFeat(s_hist_df),on='card_id',how='inner')"
   ]
  },
  {
   "cell_type": "code",
   "execution_count": 32,
   "metadata": {},
   "outputs": [],
   "source": [
    "pickle.dump(s_hist_df,open('s_hist_df.pkl','wb'))"
   ]
  },
  {
   "cell_type": "code",
   "execution_count": 4,
   "metadata": {},
   "outputs": [],
   "source": [
    "s_hist_df = pickle.load(open('s_hist_df.pkl','rb'))"
   ]
  },
  {
   "cell_type": "code",
   "execution_count": 35,
   "metadata": {},
   "outputs": [
    {
     "data": {
      "text/html": [
       "<div>\n",
       "<style scoped>\n",
       "    .dataframe tbody tr th:only-of-type {\n",
       "        vertical-align: middle;\n",
       "    }\n",
       "\n",
       "    .dataframe tbody tr th {\n",
       "        vertical-align: top;\n",
       "    }\n",
       "\n",
       "    .dataframe thead th {\n",
       "        text-align: right;\n",
       "    }\n",
       "</style>\n",
       "<table border=\"1\" class=\"dataframe\">\n",
       "  <thead>\n",
       "    <tr style=\"text-align: right;\">\n",
       "      <th></th>\n",
       "      <th>authorized_flag</th>\n",
       "      <th>card_id</th>\n",
       "      <th>city_id</th>\n",
       "      <th>category_1</th>\n",
       "      <th>installments</th>\n",
       "      <th>category_3</th>\n",
       "      <th>merchant_category_id</th>\n",
       "      <th>merchant_id</th>\n",
       "      <th>month_lag</th>\n",
       "      <th>purchase_amount</th>\n",
       "      <th>...</th>\n",
       "      <th>wday</th>\n",
       "      <th>month</th>\n",
       "      <th>year</th>\n",
       "      <th>is_purchase_month_end</th>\n",
       "      <th>is_purchase_month_start</th>\n",
       "      <th>is_purchase_quarter_start</th>\n",
       "      <th>is_purchase_quarter_end</th>\n",
       "      <th>is_purchase_year_end</th>\n",
       "      <th>is_purchase_year_start</th>\n",
       "      <th>is_christmas</th>\n",
       "    </tr>\n",
       "  </thead>\n",
       "  <tbody>\n",
       "    <tr>\n",
       "      <th>400</th>\n",
       "      <td>N</td>\n",
       "      <td>C_ID_5037ff576e</td>\n",
       "      <td>322</td>\n",
       "      <td>N</td>\n",
       "      <td>1</td>\n",
       "      <td>B</td>\n",
       "      <td>278</td>\n",
       "      <td>M_ID_b61c7d1be0</td>\n",
       "      <td>-3</td>\n",
       "      <td>-0.595260</td>\n",
       "      <td>...</td>\n",
       "      <td>3</td>\n",
       "      <td>9</td>\n",
       "      <td>2017</td>\n",
       "      <td>False</td>\n",
       "      <td>False</td>\n",
       "      <td>False</td>\n",
       "      <td>False</td>\n",
       "      <td>False</td>\n",
       "      <td>False</td>\n",
       "      <td>False</td>\n",
       "    </tr>\n",
       "    <tr>\n",
       "      <th>401</th>\n",
       "      <td>Y</td>\n",
       "      <td>C_ID_5037ff576e</td>\n",
       "      <td>138</td>\n",
       "      <td>N</td>\n",
       "      <td>1</td>\n",
       "      <td>B</td>\n",
       "      <td>307</td>\n",
       "      <td>M_ID_fe69229f24</td>\n",
       "      <td>-4</td>\n",
       "      <td>1.189469</td>\n",
       "      <td>...</td>\n",
       "      <td>0</td>\n",
       "      <td>8</td>\n",
       "      <td>2017</td>\n",
       "      <td>False</td>\n",
       "      <td>False</td>\n",
       "      <td>False</td>\n",
       "      <td>False</td>\n",
       "      <td>False</td>\n",
       "      <td>False</td>\n",
       "      <td>False</td>\n",
       "    </tr>\n",
       "    <tr>\n",
       "      <th>402</th>\n",
       "      <td>Y</td>\n",
       "      <td>C_ID_5037ff576e</td>\n",
       "      <td>138</td>\n",
       "      <td>N</td>\n",
       "      <td>1</td>\n",
       "      <td>B</td>\n",
       "      <td>705</td>\n",
       "      <td>M_ID_efc106141c</td>\n",
       "      <td>-9</td>\n",
       "      <td>-0.640069</td>\n",
       "      <td>...</td>\n",
       "      <td>6</td>\n",
       "      <td>3</td>\n",
       "      <td>2017</td>\n",
       "      <td>False</td>\n",
       "      <td>False</td>\n",
       "      <td>False</td>\n",
       "      <td>False</td>\n",
       "      <td>False</td>\n",
       "      <td>False</td>\n",
       "      <td>False</td>\n",
       "    </tr>\n",
       "    <tr>\n",
       "      <th>403</th>\n",
       "      <td>Y</td>\n",
       "      <td>C_ID_5037ff576e</td>\n",
       "      <td>226</td>\n",
       "      <td>N</td>\n",
       "      <td>1</td>\n",
       "      <td>B</td>\n",
       "      <td>307</td>\n",
       "      <td>M_ID_708022307c</td>\n",
       "      <td>-4</td>\n",
       "      <td>-0.652256</td>\n",
       "      <td>...</td>\n",
       "      <td>1</td>\n",
       "      <td>8</td>\n",
       "      <td>2017</td>\n",
       "      <td>False</td>\n",
       "      <td>False</td>\n",
       "      <td>False</td>\n",
       "      <td>False</td>\n",
       "      <td>False</td>\n",
       "      <td>False</td>\n",
       "      <td>False</td>\n",
       "    </tr>\n",
       "    <tr>\n",
       "      <th>404</th>\n",
       "      <td>Y</td>\n",
       "      <td>C_ID_5037ff576e</td>\n",
       "      <td>330</td>\n",
       "      <td>N</td>\n",
       "      <td>1</td>\n",
       "      <td>B</td>\n",
       "      <td>705</td>\n",
       "      <td>M_ID_393b4b8cec</td>\n",
       "      <td>-9</td>\n",
       "      <td>-0.674210</td>\n",
       "      <td>...</td>\n",
       "      <td>6</td>\n",
       "      <td>3</td>\n",
       "      <td>2017</td>\n",
       "      <td>False</td>\n",
       "      <td>False</td>\n",
       "      <td>False</td>\n",
       "      <td>False</td>\n",
       "      <td>False</td>\n",
       "      <td>False</td>\n",
       "      <td>False</td>\n",
       "    </tr>\n",
       "  </tbody>\n",
       "</table>\n",
       "<p>5 rows × 26 columns</p>\n",
       "</div>"
      ],
      "text/plain": [
       "    authorized_flag          card_id  city_id category_1  installments  \\\n",
       "400               N  C_ID_5037ff576e      322          N             1   \n",
       "401               Y  C_ID_5037ff576e      138          N             1   \n",
       "402               Y  C_ID_5037ff576e      138          N             1   \n",
       "403               Y  C_ID_5037ff576e      226          N             1   \n",
       "404               Y  C_ID_5037ff576e      330          N             1   \n",
       "\n",
       "    category_3 merchant_category_id      merchant_id  month_lag  \\\n",
       "400          B                  278  M_ID_b61c7d1be0         -3   \n",
       "401          B                  307  M_ID_fe69229f24         -4   \n",
       "402          B                  705  M_ID_efc106141c         -9   \n",
       "403          B                  307  M_ID_708022307c         -4   \n",
       "404          B                  705  M_ID_393b4b8cec         -9   \n",
       "\n",
       "     purchase_amount  ... wday  month  year is_purchase_month_end  \\\n",
       "400        -0.595260  ...    3      9  2017                 False   \n",
       "401         1.189469  ...    0      8  2017                 False   \n",
       "402        -0.640069  ...    6      3  2017                 False   \n",
       "403        -0.652256  ...    1      8  2017                 False   \n",
       "404        -0.674210  ...    6      3  2017                 False   \n",
       "\n",
       "     is_purchase_month_start  is_purchase_quarter_start  \\\n",
       "400                    False                      False   \n",
       "401                    False                      False   \n",
       "402                    False                      False   \n",
       "403                    False                      False   \n",
       "404                    False                      False   \n",
       "\n",
       "     is_purchase_quarter_end  is_purchase_year_end  is_purchase_year_start  \\\n",
       "400                    False                 False                   False   \n",
       "401                    False                 False                   False   \n",
       "402                    False                 False                   False   \n",
       "403                    False                 False                   False   \n",
       "404                    False                 False                   False   \n",
       "\n",
       "     is_christmas  \n",
       "400         False  \n",
       "401         False  \n",
       "402         False  \n",
       "403         False  \n",
       "404         False  \n",
       "\n",
       "[5 rows x 26 columns]"
      ]
     },
     "execution_count": 35,
     "metadata": {},
     "output_type": "execute_result"
    }
   ],
   "source": [
    "s_hist_df.head()"
   ]
  },
  {
   "cell_type": "code",
   "execution_count": 36,
   "metadata": {},
   "outputs": [
    {
     "name": "stderr",
     "output_type": "stream",
     "text": [
      "  0%|                                                                                            | 0/7 [00:00<?, ?it/s]\n",
      "  0%|                                                                                            | 0/4 [00:00<?, ?it/s]\u001b[A\n",
      " 25%|█████████████████████                                                               | 1/4 [00:59<02:57, 59.23s/it]\u001b[A\n",
      " 50%|█████████████████████████████████████████▌                                         | 2/4 [04:14<03:20, 100.03s/it]\u001b[A\n",
      " 75%|███████████████████████████████████████████████████████████████                     | 3/4 [04:35<01:16, 76.41s/it]\u001b[A\n",
      "100%|████████████████████████████████████████████████████████████████████████████████████| 4/4 [05:17<00:00, 79.37s/it]\u001b[A\n",
      " 14%|███████████▊                                                                       | 1/7 [05:17<31:45, 317.50s/it]\n",
      "  0%|                                                                                            | 0/4 [00:00<?, ?it/s]\u001b[A\n",
      " 25%|█████████████████████                                                               | 1/4 [00:57<02:52, 57.58s/it]\u001b[A\n",
      " 50%|██████████████████████████████████████████                                          | 2/4 [04:12<03:17, 98.85s/it]\u001b[A\n",
      " 75%|███████████████████████████████████████████████████████████████                     | 3/4 [04:34<01:15, 75.78s/it]\u001b[A\n",
      "100%|████████████████████████████████████████████████████████████████████████████████████| 4/4 [05:16<00:00, 79.01s/it]\u001b[A\n",
      " 29%|███████████████████████▋                                                           | 2/7 [10:33<26:25, 317.07s/it]\n",
      "  0%|                                                                                            | 0/4 [00:00<?, ?it/s]\u001b[A\n",
      " 25%|█████████████████████                                                               | 1/4 [00:57<02:53, 57.80s/it]\u001b[A\n",
      " 50%|█████████████████████████████████████████▌                                         | 2/4 [04:38<03:33, 106.82s/it]\u001b[A\n",
      " 75%|███████████████████████████████████████████████████████████████                     | 3/4 [05:00<01:21, 81.17s/it]\u001b[A\n",
      "100%|████████████████████████████████████████████████████████████████████████████████████| 4/4 [05:42<00:00, 85.56s/it]\u001b[A\n",
      " 43%|███████████████████████████████████▌                                               | 3/7 [16:15<21:38, 324.61s/it]\n",
      "  0%|                                                                                            | 0/4 [00:00<?, ?it/s]\u001b[A\n",
      " 25%|█████████████████████                                                               | 1/4 [01:01<03:05, 61.74s/it]\u001b[A\n",
      " 50%|█████████████████████████████████████████▌                                         | 2/4 [04:26<03:29, 104.55s/it]\u001b[A\n",
      " 75%|███████████████████████████████████████████████████████████████                     | 3/4 [04:48<01:19, 79.79s/it]\u001b[A\n",
      "100%|████████████████████████████████████████████████████████████████████████████████████| 4/4 [05:29<00:00, 82.27s/it]\u001b[A\n",
      " 57%|███████████████████████████████████████████████▍                                   | 4/7 [21:44<16:17, 325.95s/it]\n",
      "  0%|                                                                                            | 0/4 [00:00<?, ?it/s]\u001b[A\n",
      " 25%|█████████████████████                                                               | 1/4 [00:56<02:50, 56.90s/it]\u001b[A\n",
      " 50%|██████████████████████████████████████████                                          | 2/4 [04:10<03:15, 97.98s/it]\u001b[A\n",
      " 75%|███████████████████████████████████████████████████████████████                     | 3/4 [04:32<01:15, 75.01s/it]\u001b[A\n",
      "100%|████████████████████████████████████████████████████████████████████████████████████| 4/4 [05:14<00:00, 78.74s/it]\u001b[A\n",
      " 71%|███████████████████████████████████████████████████████████▎                       | 5/7 [26:59<10:45, 322.65s/it]\n",
      "  0%|                                                                                            | 0/4 [00:00<?, ?it/s]\u001b[A\n",
      " 25%|█████████████████████                                                               | 1/4 [01:01<03:03, 61.26s/it]\u001b[A\n",
      " 50%|█████████████████████████████████████████▌                                         | 2/4 [04:32<03:32, 106.13s/it]\u001b[A\n",
      " 75%|███████████████████████████████████████████████████████████████                     | 3/4 [04:58<01:22, 82.08s/it]\u001b[A\n",
      "100%|████████████████████████████████████████████████████████████████████████████████████| 4/4 [05:40<00:00, 85.09s/it]\u001b[A\n",
      " 86%|███████████████████████████████████████████████████████████████████████▏           | 6/7 [32:40<05:27, 327.97s/it]\n",
      "  0%|                                                                                            | 0/4 [00:00<?, ?it/s]\u001b[A\n",
      " 25%|█████████████████████                                                               | 1/4 [00:54<02:44, 54.80s/it]\u001b[A\n",
      " 50%|██████████████████████████████████████████                                          | 2/4 [04:13<03:16, 98.01s/it]\u001b[A\n",
      " 75%|███████████████████████████████████████████████████████████████                     | 3/4 [04:34<01:14, 74.95s/it]\u001b[A\n",
      "100%|████████████████████████████████████████████████████████████████████████████████████| 4/4 [05:14<00:00, 78.67s/it]\u001b[A\n",
      "100%|███████████████████████████████████████████████████████████████████████████████████| 7/7 [37:54<00:00, 324.98s/it]\n"
     ]
    }
   ],
   "source": [
    "# After Computing boolean datetime columns we are going to apply aggregate functions\n",
    "# just like we did for day,weekday,month and year feature\n",
    "\n",
    "# Columns to consider\n",
    "bool_datetime_cols = [col for col in s_hist_df.columns if col.startswith('is_')]\n",
    "\n",
    "# aggregate functions to apply on the above columns\n",
    "stat_func = ['mode','min','count','nunique']\n",
    "\n",
    "# loop to merge created features with generated features dataframe\n",
    "for col in tqdm(bool_datetime_cols):\n",
    "    for func in tqdm(stat_func): \n",
    "        trans_hist_df = pd.merge(trans_hist_df,eda_fe.computeCategoricalAggr(s_hist_df,col,func),on='card_id',how='inner')"
   ]
  },
  {
   "cell_type": "code",
   "execution_count": 37,
   "metadata": {},
   "outputs": [
    {
     "data": {
      "text/html": [
       "<div>\n",
       "<style scoped>\n",
       "    .dataframe tbody tr th:only-of-type {\n",
       "        vertical-align: middle;\n",
       "    }\n",
       "\n",
       "    .dataframe tbody tr th {\n",
       "        vertical-align: top;\n",
       "    }\n",
       "\n",
       "    .dataframe thead th {\n",
       "        text-align: right;\n",
       "    }\n",
       "</style>\n",
       "<table border=\"1\" class=\"dataframe\">\n",
       "  <thead>\n",
       "    <tr style=\"text-align: right;\">\n",
       "      <th></th>\n",
       "      <th>card_id</th>\n",
       "      <th>category_1_mode</th>\n",
       "      <th>category_2_mode</th>\n",
       "      <th>category_3_mode</th>\n",
       "      <th>state_id_mode</th>\n",
       "      <th>city_id_mode</th>\n",
       "      <th>category_1_nunique</th>\n",
       "      <th>category_2_nunique</th>\n",
       "      <th>category_3_nunique</th>\n",
       "      <th>state_id_nunique</th>\n",
       "      <th>...</th>\n",
       "      <th>is_purchase_year_end_count</th>\n",
       "      <th>is_purchase_year_end_nunique</th>\n",
       "      <th>is_purchase_year_start_mode</th>\n",
       "      <th>is_purchase_year_start_min</th>\n",
       "      <th>is_purchase_year_start_count</th>\n",
       "      <th>is_purchase_year_start_nunique</th>\n",
       "      <th>is_christmas_mode</th>\n",
       "      <th>is_christmas_min</th>\n",
       "      <th>is_christmas_count</th>\n",
       "      <th>is_christmas_nunique</th>\n",
       "    </tr>\n",
       "  </thead>\n",
       "  <tbody>\n",
       "    <tr>\n",
       "      <th>0</th>\n",
       "      <td>C_ID_5037ff576e</td>\n",
       "      <td>N</td>\n",
       "      <td>1.0</td>\n",
       "      <td>B</td>\n",
       "      <td>9</td>\n",
       "      <td>331</td>\n",
       "      <td>1</td>\n",
       "      <td>5</td>\n",
       "      <td>2</td>\n",
       "      <td>16</td>\n",
       "      <td>...</td>\n",
       "      <td>118</td>\n",
       "      <td>1</td>\n",
       "      <td>False</td>\n",
       "      <td>False</td>\n",
       "      <td>118</td>\n",
       "      <td>1</td>\n",
       "      <td>False</td>\n",
       "      <td>True</td>\n",
       "      <td>118</td>\n",
       "      <td>2</td>\n",
       "    </tr>\n",
       "    <tr>\n",
       "      <th>1</th>\n",
       "      <td>C_ID_0e171c1b48</td>\n",
       "      <td>N</td>\n",
       "      <td>4.0</td>\n",
       "      <td>A</td>\n",
       "      <td>13</td>\n",
       "      <td>277</td>\n",
       "      <td>1</td>\n",
       "      <td>3</td>\n",
       "      <td>2</td>\n",
       "      <td>3</td>\n",
       "      <td>...</td>\n",
       "      <td>279</td>\n",
       "      <td>1</td>\n",
       "      <td>False</td>\n",
       "      <td>True</td>\n",
       "      <td>279</td>\n",
       "      <td>2</td>\n",
       "      <td>False</td>\n",
       "      <td>False</td>\n",
       "      <td>279</td>\n",
       "      <td>1</td>\n",
       "    </tr>\n",
       "    <tr>\n",
       "      <th>2</th>\n",
       "      <td>C_ID_fc8e41b9cf</td>\n",
       "      <td>N</td>\n",
       "      <td>3.0</td>\n",
       "      <td>B</td>\n",
       "      <td>8</td>\n",
       "      <td>251</td>\n",
       "      <td>2</td>\n",
       "      <td>2</td>\n",
       "      <td>3</td>\n",
       "      <td>5</td>\n",
       "      <td>...</td>\n",
       "      <td>242</td>\n",
       "      <td>1</td>\n",
       "      <td>False</td>\n",
       "      <td>False</td>\n",
       "      <td>242</td>\n",
       "      <td>1</td>\n",
       "      <td>False</td>\n",
       "      <td>False</td>\n",
       "      <td>242</td>\n",
       "      <td>1</td>\n",
       "    </tr>\n",
       "    <tr>\n",
       "      <th>3</th>\n",
       "      <td>C_ID_b271e7ab60</td>\n",
       "      <td>N</td>\n",
       "      <td>4.0</td>\n",
       "      <td>A</td>\n",
       "      <td>22</td>\n",
       "      <td>17</td>\n",
       "      <td>1</td>\n",
       "      <td>2</td>\n",
       "      <td>2</td>\n",
       "      <td>3</td>\n",
       "      <td>...</td>\n",
       "      <td>85</td>\n",
       "      <td>1</td>\n",
       "      <td>False</td>\n",
       "      <td>False</td>\n",
       "      <td>85</td>\n",
       "      <td>1</td>\n",
       "      <td>False</td>\n",
       "      <td>False</td>\n",
       "      <td>85</td>\n",
       "      <td>1</td>\n",
       "    </tr>\n",
       "    <tr>\n",
       "      <th>4</th>\n",
       "      <td>C_ID_4bed29d75c</td>\n",
       "      <td>N</td>\n",
       "      <td>1.0</td>\n",
       "      <td>B</td>\n",
       "      <td>9</td>\n",
       "      <td>272</td>\n",
       "      <td>2</td>\n",
       "      <td>1</td>\n",
       "      <td>2</td>\n",
       "      <td>2</td>\n",
       "      <td>...</td>\n",
       "      <td>86</td>\n",
       "      <td>2</td>\n",
       "      <td>False</td>\n",
       "      <td>True</td>\n",
       "      <td>86</td>\n",
       "      <td>2</td>\n",
       "      <td>False</td>\n",
       "      <td>False</td>\n",
       "      <td>86</td>\n",
       "      <td>1</td>\n",
       "    </tr>\n",
       "  </tbody>\n",
       "</table>\n",
       "<p>5 rows × 59 columns</p>\n",
       "</div>"
      ],
      "text/plain": [
       "           card_id category_1_mode  category_2_mode category_3_mode  \\\n",
       "0  C_ID_5037ff576e               N              1.0               B   \n",
       "1  C_ID_0e171c1b48               N              4.0               A   \n",
       "2  C_ID_fc8e41b9cf               N              3.0               B   \n",
       "3  C_ID_b271e7ab60               N              4.0               A   \n",
       "4  C_ID_4bed29d75c               N              1.0               B   \n",
       "\n",
       "   state_id_mode  city_id_mode  category_1_nunique  category_2_nunique  \\\n",
       "0              9           331                   1                   5   \n",
       "1             13           277                   1                   3   \n",
       "2              8           251                   2                   2   \n",
       "3             22            17                   1                   2   \n",
       "4              9           272                   2                   1   \n",
       "\n",
       "   category_3_nunique  state_id_nunique  ...  is_purchase_year_end_count  \\\n",
       "0                   2                16  ...                         118   \n",
       "1                   2                 3  ...                         279   \n",
       "2                   3                 5  ...                         242   \n",
       "3                   2                 3  ...                          85   \n",
       "4                   2                 2  ...                          86   \n",
       "\n",
       "  is_purchase_year_end_nunique is_purchase_year_start_mode  \\\n",
       "0                            1                       False   \n",
       "1                            1                       False   \n",
       "2                            1                       False   \n",
       "3                            1                       False   \n",
       "4                            2                       False   \n",
       "\n",
       "   is_purchase_year_start_min  is_purchase_year_start_count  \\\n",
       "0                       False                           118   \n",
       "1                        True                           279   \n",
       "2                       False                           242   \n",
       "3                       False                            85   \n",
       "4                        True                            86   \n",
       "\n",
       "   is_purchase_year_start_nunique  is_christmas_mode  is_christmas_min  \\\n",
       "0                               1              False              True   \n",
       "1                               2              False             False   \n",
       "2                               1              False             False   \n",
       "3                               1              False             False   \n",
       "4                               2              False             False   \n",
       "\n",
       "   is_christmas_count  is_christmas_nunique  \n",
       "0                 118                     2  \n",
       "1                 279                     1  \n",
       "2                 242                     1  \n",
       "3                  85                     1  \n",
       "4                  86                     1  \n",
       "\n",
       "[5 rows x 59 columns]"
      ]
     },
     "execution_count": 37,
     "metadata": {},
     "output_type": "execute_result"
    }
   ],
   "source": [
    "trans_hist_df.head()"
   ]
  },
  {
   "cell_type": "code",
   "execution_count": 38,
   "metadata": {},
   "outputs": [],
   "source": [
    "# Storing dataframe for further use\n",
    "pickle.dump(trans_hist_df,open('trans_hist_df.pkl','wb'))"
   ]
  },
  {
   "cell_type": "code",
   "execution_count": 39,
   "metadata": {},
   "outputs": [],
   "source": [
    "# Reading the dataframe\n",
    "trans_hist_df = pickle.load(open('trans_hist_df.pkl','rb'))"
   ]
  },
  {
   "cell_type": "markdown",
   "metadata": {},
   "source": [
    "## 2.2.4 Create purchase amount features"
   ]
  },
  {
   "cell_type": "code",
   "execution_count": 2,
   "metadata": {},
   "outputs": [],
   "source": [
    "## Aggregate functions\n",
    "aggr_funcs = ['min','max','mean','sum','std']"
   ]
  },
  {
   "cell_type": "code",
   "execution_count": 41,
   "metadata": {},
   "outputs": [
    {
     "name": "stdout",
     "output_type": "stream",
     "text": [
      "Creating purchase_amount aggregation wrt month_lags...\n"
     ]
    },
    {
     "name": "stderr",
     "output_type": "stream",
     "text": [
      "  0%|                                                                                            | 0/5 [00:00<?, ?it/s]\n",
      "  0%|                                                                                           | 0/14 [00:00<?, ?it/s]\u001b[A\n",
      " 14%|███████████▊                                                                       | 2/14 [00:00<00:00, 15.12it/s]\u001b[A"
     ]
    },
    {
     "name": "stdout",
     "output_type": "stream",
     "text": [
      "Merging aggregate columns...\n"
     ]
    },
    {
     "name": "stderr",
     "output_type": "stream",
     "text": [
      "\n",
      " 21%|█████████████████▊                                                                 | 3/14 [00:00<00:00, 12.30it/s]\u001b[A\n",
      " 29%|███████████████████████▋                                                           | 4/14 [00:00<00:00, 10.31it/s]\u001b[A\n",
      " 36%|█████████████████████████████▋                                                     | 5/14 [00:00<00:01,  8.84it/s]\u001b[A\n",
      " 43%|███████████████████████████████████▌                                               | 6/14 [00:00<00:01,  7.74it/s]\u001b[A\n",
      " 50%|█████████████████████████████████████████▌                                         | 7/14 [00:00<00:01,  6.64it/s]\u001b[A\n",
      " 57%|███████████████████████████████████████████████▍                                   | 8/14 [00:01<00:00,  6.04it/s]\u001b[A\n",
      " 64%|█████████████████████████████████████████████████████▎                             | 9/14 [00:01<00:00,  5.41it/s]\u001b[A\n",
      " 71%|██████████████████████████████████████████████████████████▌                       | 10/14 [00:01<00:00,  4.84it/s]\u001b[A\n",
      " 79%|████████████████████████████████████████████████████████████████▍                 | 11/14 [00:01<00:00,  4.30it/s]\u001b[A\n",
      " 86%|██████████████████████████████████████████████████████████████████████▎           | 12/14 [00:02<00:00,  3.77it/s]\u001b[A\n",
      " 93%|████████████████████████████████████████████████████████████████████████████▏     | 13/14 [00:02<00:00,  3.69it/s]\u001b[A\n",
      "100%|██████████████████████████████████████████████████████████████████████████████████| 14/14 [00:02<00:00,  5.14it/s]\u001b[A\n",
      " 20%|████████████████▊                                                                   | 1/5 [00:02<00:10,  2.73s/it]\n",
      "  0%|                                                                                           | 0/14 [00:00<?, ?it/s]\u001b[A\n",
      "  7%|█████▉                                                                             | 1/14 [00:00<00:02,  4.62it/s]\u001b[A\n",
      " 14%|███████████▊                                                                       | 2/14 [00:00<00:02,  4.58it/s]\u001b[A\n",
      " 21%|█████████████████▊                                                                 | 3/14 [00:00<00:02,  4.49it/s]\u001b[A\n",
      " 29%|███████████████████████▋                                                           | 4/14 [00:00<00:02,  4.35it/s]\u001b[A\n",
      " 36%|█████████████████████████████▋                                                     | 5/14 [00:01<00:02,  4.21it/s]\u001b[A\n",
      " 43%|███████████████████████████████████▌                                               | 6/14 [00:01<00:01,  4.10it/s]\u001b[A\n",
      " 50%|█████████████████████████████████████████▌                                         | 7/14 [00:01<00:01,  4.01it/s]\u001b[A\n",
      " 57%|███████████████████████████████████████████████▍                                   | 8/14 [00:01<00:01,  3.88it/s]\u001b[A\n",
      " 64%|█████████████████████████████████████████████████████▎                             | 9/14 [00:02<00:01,  3.77it/s]\u001b[A\n",
      " 71%|██████████████████████████████████████████████████████████▌                       | 10/14 [00:02<00:01,  3.65it/s]\u001b[A\n",
      " 79%|████████████████████████████████████████████████████████████████▍                 | 11/14 [00:02<00:00,  3.52it/s]\u001b[A\n",
      " 86%|██████████████████████████████████████████████████████████████████████▎           | 12/14 [00:03<00:00,  3.43it/s]\u001b[A\n",
      " 93%|████████████████████████████████████████████████████████████████████████████▏     | 13/14 [00:03<00:00,  3.35it/s]\u001b[A\n",
      "100%|██████████████████████████████████████████████████████████████████████████████████| 14/14 [00:03<00:00,  3.76it/s]\u001b[A\n",
      " 40%|█████████████████████████████████▌                                                  | 2/5 [00:06<00:09,  3.03s/it]\n",
      "  0%|                                                                                           | 0/14 [00:00<?, ?it/s]\u001b[A\n",
      "  7%|█████▉                                                                             | 1/14 [00:00<00:03,  3.96it/s]\u001b[A\n",
      " 14%|███████████▊                                                                       | 2/14 [00:00<00:03,  3.97it/s]\u001b[A\n",
      " 21%|█████████████████▊                                                                 | 3/14 [00:00<00:02,  3.91it/s]\u001b[A\n",
      " 29%|███████████████████████▋                                                           | 4/14 [00:01<00:02,  3.88it/s]\u001b[A\n",
      " 36%|█████████████████████████████▋                                                     | 5/14 [00:01<00:02,  3.81it/s]\u001b[A\n",
      " 43%|███████████████████████████████████▌                                               | 6/14 [00:01<00:02,  3.78it/s]\u001b[A\n",
      " 50%|█████████████████████████████████████████▌                                         | 7/14 [00:01<00:01,  3.60it/s]\u001b[A\n",
      " 57%|███████████████████████████████████████████████▍                                   | 8/14 [00:02<00:01,  3.43it/s]\u001b[A\n",
      " 64%|█████████████████████████████████████████████████████▎                             | 9/14 [00:02<00:01,  3.32it/s]\u001b[A\n",
      " 71%|██████████████████████████████████████████████████████████▌                       | 10/14 [00:02<00:01,  3.25it/s]\u001b[A\n",
      " 79%|████████████████████████████████████████████████████████████████▍                 | 11/14 [00:03<00:00,  3.16it/s]\u001b[A\n",
      " 86%|██████████████████████████████████████████████████████████████████████▎           | 12/14 [00:03<00:00,  3.07it/s]\u001b[A\n",
      " 93%|████████████████████████████████████████████████████████████████████████████▏     | 13/14 [00:03<00:00,  2.94it/s]\u001b[A\n",
      "100%|██████████████████████████████████████████████████████████████████████████████████| 14/14 [00:04<00:00,  3.34it/s]\u001b[A\n",
      " 60%|██████████████████████████████████████████████████▍                                 | 3/5 [00:10<00:06,  3.38s/it]\n",
      "  0%|                                                                                           | 0/14 [00:00<?, ?it/s]\u001b[A\n",
      "  7%|█████▉                                                                             | 1/14 [00:00<00:03,  3.61it/s]\u001b[A\n",
      " 14%|███████████▊                                                                       | 2/14 [00:00<00:03,  3.53it/s]\u001b[A\n",
      " 21%|█████████████████▊                                                                 | 3/14 [00:00<00:03,  3.45it/s]\u001b[A\n",
      " 29%|███████████████████████▋                                                           | 4/14 [00:01<00:02,  3.42it/s]\u001b[A\n",
      " 36%|█████████████████████████████▋                                                     | 5/14 [00:01<00:02,  3.38it/s]\u001b[A\n",
      " 43%|███████████████████████████████████▌                                               | 6/14 [00:01<00:02,  3.32it/s]\u001b[A\n",
      " 50%|█████████████████████████████████████████▌                                         | 7/14 [00:02<00:02,  3.18it/s]\u001b[A\n",
      " 57%|███████████████████████████████████████████████▍                                   | 8/14 [00:02<00:01,  3.13it/s]\u001b[A\n",
      " 64%|█████████████████████████████████████████████████████▎                             | 9/14 [00:02<00:01,  3.04it/s]\u001b[A\n",
      " 71%|██████████████████████████████████████████████████████████▌                       | 10/14 [00:03<00:01,  2.96it/s]\u001b[A\n",
      " 79%|████████████████████████████████████████████████████████████████▍                 | 11/14 [00:03<00:01,  2.87it/s]\u001b[A\n",
      " 86%|██████████████████████████████████████████████████████████████████████▎           | 12/14 [00:03<00:00,  2.80it/s]\u001b[A\n",
      " 93%|████████████████████████████████████████████████████████████████████████████▏     | 13/14 [00:04<00:00,  2.64it/s]\u001b[A\n",
      "100%|██████████████████████████████████████████████████████████████████████████████████| 14/14 [00:04<00:00,  2.85it/s]\u001b[A\n",
      " 80%|███████████████████████████████████████████████████████████████████▏                | 4/5 [00:15<00:03,  3.84s/it]\n",
      "  0%|                                                                                           | 0/14 [00:00<?, ?it/s]\u001b[A\n",
      "  7%|█████▉                                                                             | 1/14 [00:00<00:07,  1.72it/s]\u001b[A\n",
      " 14%|███████████▊                                                                       | 2/14 [00:01<00:06,  1.72it/s]\u001b[A\n",
      " 21%|█████████████████▊                                                                 | 3/14 [00:01<00:06,  1.74it/s]\u001b[A\n",
      " 29%|███████████████████████▋                                                           | 4/14 [00:02<00:05,  1.75it/s]\u001b[A\n",
      " 36%|█████████████████████████████▋                                                     | 5/14 [00:02<00:05,  1.75it/s]\u001b[A\n",
      " 43%|███████████████████████████████████▌                                               | 6/14 [00:03<00:04,  1.74it/s]\u001b[A\n",
      " 50%|█████████████████████████████████████████▌                                         | 7/14 [00:04<00:04,  1.72it/s]\u001b[A\n",
      " 57%|███████████████████████████████████████████████▍                                   | 8/14 [00:04<00:03,  1.70it/s]\u001b[A\n",
      " 64%|█████████████████████████████████████████████████████▎                             | 9/14 [00:05<00:02,  1.67it/s]\u001b[A\n",
      " 71%|██████████████████████████████████████████████████████████▌                       | 10/14 [00:05<00:02,  1.64it/s]\u001b[A\n",
      " 79%|████████████████████████████████████████████████████████████████▍                 | 11/14 [00:06<00:01,  1.60it/s]\u001b[A\n",
      " 86%|██████████████████████████████████████████████████████████████████████▎           | 12/14 [00:07<00:01,  1.58it/s]\u001b[A\n",
      " 93%|████████████████████████████████████████████████████████████████████████████▏     | 13/14 [00:07<00:00,  1.55it/s]\u001b[A\n",
      "100%|██████████████████████████████████████████████████████████████████████████████████| 14/14 [00:08<00:00,  1.65it/s]\u001b[A\n",
      "100%|████████████████████████████████████████████████████████████████████████████████████| 5/5 [00:24<00:00,  4.81s/it]\n"
     ]
    }
   ],
   "source": [
    "#Creating dataframe for data grouped by card_id and month_lag,aggregating over new_purchase_amounts\n",
    "purch_lag_df = eda_fe.createPurchaseAmountLagFeatures(s_hist_df,aggr_funcs)"
   ]
  },
  {
   "cell_type": "code",
   "execution_count": 42,
   "metadata": {},
   "outputs": [
    {
     "data": {
      "text/plain": [
       "(201917, 76)"
      ]
     },
     "execution_count": 42,
     "metadata": {},
     "output_type": "execute_result"
    }
   ],
   "source": [
    "purch_lag_df.shape"
   ]
  },
  {
   "cell_type": "code",
   "execution_count": 43,
   "metadata": {},
   "outputs": [
    {
     "data": {
      "text/plain": [
       "card_id              0.000000\n",
       "np_amount_min_12    75.010524\n",
       "np_amount_min_11    70.324440\n",
       "np_amount_min_10    66.350035\n",
       "np_amount_min_9     61.776869\n",
       "                      ...    \n",
       "np_amount_std_2     18.545244\n",
       "np_amount_std_1     19.164805\n",
       "np_amount_std_0     19.627867\n",
       "month_lag           10.008073\n",
       "np_amount_std_13    82.238742\n",
       "Length: 76, dtype: float64"
      ]
     },
     "execution_count": 43,
     "metadata": {},
     "output_type": "execute_result"
    }
   ],
   "source": [
    "purch_lag_df.isnull().sum()*100/purch_lag_df.shape[0]"
   ]
  },
  {
   "cell_type": "markdown",
   "metadata": {},
   "source": [
    "* A lot of values are null because not all card_id's have transactions related to all month lags. \n",
    "\n",
    "### 2.2.4.1 Creating purchase amount ratio features with lag shift = 2\n",
    "\n",
    "* purchase_ratio_df is a dataframe containing ratios of purchase amounts in different month lags.\n",
    "* ratio = purch_lag_df['future month_lag']/purch_lag_df['prev_month_lag']\n",
    "* These purchase_ratios are calculated over a shift of 2.\n",
    "* reference date : 02-01-2018(mm-dd-yyyy)\n",
    "* Here a lag of 0 means the current month wrt to reference date\n",
    "* A lag of 2(i.e -2 have converted it to positive values for understandability purpose) means 2 months behind the reference date.\n",
    "* np_amount_min_0_2 = purch_lag_df['np_amount_min_0']/purch_lag_df['np_amount_min_2']\n",
    "* Similarly the other purchase amt ratio columns are as follows: np_amount_min_1_3,np_amount_min_2_4,np_amount_min_3_5\n"
   ]
  },
  {
   "cell_type": "code",
   "execution_count": 44,
   "metadata": {},
   "outputs": [
    {
     "name": "stderr",
     "output_type": "stream",
     "text": [
      "  0%|                                                                                            | 0/5 [00:00<?, ?it/s]\n",
      "100%|█████████████████████████████████████████████████████████████████████████████████| 12/12 [00:00<00:00, 120.32it/s]\u001b[A\n",
      " 20%|████████████████▊                                                                   | 1/5 [00:00<00:00,  9.46it/s]\n",
      "100%|█████████████████████████████████████████████████████████████████████████████████| 12/12 [00:00<00:00, 171.88it/s]\u001b[A\n",
      "\n",
      "100%|█████████████████████████████████████████████████████████████████████████████████| 12/12 [00:00<00:00, 218.76it/s]\u001b[A\n",
      " 60%|██████████████████████████████████████████████████▍                                 | 3/5 [00:00<00:00, 10.65it/s]\n",
      "100%|█████████████████████████████████████████████████████████████████████████████████| 12/12 [00:00<00:00, 267.38it/s]\u001b[A\n",
      "\n",
      "100%|█████████████████████████████████████████████████████████████████████████████████| 12/12 [00:00<00:00, 267.38it/s]\u001b[A\n",
      "100%|████████████████████████████████████████████████████████████████████████████████████| 5/5 [00:00<00:00, 14.88it/s]\n"
     ]
    }
   ],
   "source": [
    "purch_ratio_df = eda_fe.createPurchaseAmountRatioFeatures(purch_lag_df,aggr_funcs,2)"
   ]
  },
  {
   "cell_type": "code",
   "execution_count": 45,
   "metadata": {},
   "outputs": [
    {
     "data": {
      "text/plain": [
       "37"
      ]
     },
     "execution_count": 45,
     "metadata": {},
     "output_type": "execute_result"
    }
   ],
   "source": [
    "null_df = ((purch_ratio_df.isnull().sum()*100/purch_ratio_df.shape[0]) > 50).reset_index().rename(columns = {0 : 'bool'})\n",
    "len(null_df[null_df['bool'] == True]['index'])"
   ]
  },
  {
   "cell_type": "markdown",
   "metadata": {},
   "source": [
    "* About 37 columns from the purchase_amount_ratio's are empty.\n",
    "* So we'll remove them later in the feature selection stage.\n",
    "* For now we'll just merge the dataframes trans_hist_df and purchase_amount_ratios."
   ]
  },
  {
   "cell_type": "code",
   "execution_count": 46,
   "metadata": {},
   "outputs": [],
   "source": [
    "trans_hist_df = pd.merge(trans_hist_df,purch_ratio_df,on='card_id',how='inner')"
   ]
  },
  {
   "cell_type": "code",
   "execution_count": 47,
   "metadata": {},
   "outputs": [
    {
     "data": {
      "text/plain": [
       "(201917, 119)"
      ]
     },
     "execution_count": 47,
     "metadata": {},
     "output_type": "execute_result"
    }
   ],
   "source": [
    "trans_hist_df.shape"
   ]
  },
  {
   "cell_type": "markdown",
   "metadata": {},
   "source": [
    "### 2.2.4.2 Let's also merge the purchase_lag_df"
   ]
  },
  {
   "cell_type": "code",
   "execution_count": 48,
   "metadata": {},
   "outputs": [
    {
     "data": {
      "text/plain": [
       "(201917, 194)"
      ]
     },
     "execution_count": 48,
     "metadata": {},
     "output_type": "execute_result"
    }
   ],
   "source": [
    "trans_hist_df = pd.merge(trans_hist_df,purch_lag_df,on='card_id',how='inner')\n",
    "trans_hist_df.shape"
   ]
  },
  {
   "cell_type": "markdown",
   "metadata": {},
   "source": [
    "### 2.2.4.3 Let's create purchase_amount_ratio_features with lag shift = 1"
   ]
  },
  {
   "cell_type": "code",
   "execution_count": 49,
   "metadata": {},
   "outputs": [
    {
     "name": "stderr",
     "output_type": "stream",
     "text": [
      "  0%|                                                                                            | 0/5 [00:00<?, ?it/s]\n",
      "100%|█████████████████████████████████████████████████████████████████████████████████| 12/12 [00:00<00:00, 160.36it/s]\u001b[A\n",
      "\n",
      "100%|█████████████████████████████████████████████████████████████████████████████████| 12/12 [00:00<00:00, 250.67it/s]\u001b[A\n",
      " 40%|█████████████████████████████████▌                                                  | 2/5 [00:00<00:00, 15.43it/s]\n",
      "100%|█████████████████████████████████████████████████████████████████████████████████| 12/12 [00:00<00:00, 240.65it/s]\u001b[A\n",
      "\n",
      "100%|█████████████████████████████████████████████████████████████████████████████████| 12/12 [00:00<00:00, 267.38it/s]\u001b[A\n",
      " 80%|███████████████████████████████████████████████████████████████████▏                | 4/5 [00:00<00:00, 16.45it/s]\n",
      "100%|█████████████████████████████████████████████████████████████████████████████████| 12/12 [00:00<00:00, 273.20it/s]\u001b[A\n",
      "100%|████████████████████████████████████████████████████████████████████████████████████| 5/5 [00:00<00:00, 17.78it/s]\n"
     ]
    }
   ],
   "source": [
    "\n",
    "purch_ratio_lag1_df = eda_fe.createPurchaseAmountRatioFeatures(purch_lag_df,aggr_funcs,1)"
   ]
  },
  {
   "cell_type": "code",
   "execution_count": 50,
   "metadata": {},
   "outputs": [],
   "source": [
    "trans_hist_df = pd.merge(trans_hist_df,purch_ratio_lag1_df,on='card_id',how='inner')"
   ]
  },
  {
   "cell_type": "code",
   "execution_count": 51,
   "metadata": {},
   "outputs": [
    {
     "data": {
      "text/plain": [
       "(201917, 254)"
      ]
     },
     "execution_count": 51,
     "metadata": {},
     "output_type": "execute_result"
    }
   ],
   "source": [
    "trans_hist_df.shape"
   ]
  },
  {
   "cell_type": "markdown",
   "metadata": {},
   "source": [
    "### 2.2.4.4 Let's create simple window averaging features\n",
    "* Simple window averages are averaging purch_lag_df columns over a period of specified window.\n",
    "* In below cells we have considered windows of size 2 and 3\n",
    "* So the features which will be formed will be as follows:\n",
    "* np_amount_min_0_2_avg = np_amount_min(average over a month lag of 0-2)\n",
    "* np_amount_min_1_3_avg = np_amount_min(average over a month lag of 1-3)"
   ]
  },
  {
   "cell_type": "code",
   "execution_count": 52,
   "metadata": {},
   "outputs": [],
   "source": [
    "purch_wavg_lag2_df = eda_fe.createPurchaseAmountWindowAvg(purch_lag_df,aggr_funcs,2)\n",
    "purch_wavg_lag3_df = eda_fe.createPurchaseAmountWindowAvg(purch_lag_df,aggr_funcs,3)"
   ]
  },
  {
   "cell_type": "code",
   "execution_count": 53,
   "metadata": {},
   "outputs": [
    {
     "data": {
      "text/plain": [
       "(201917, 369)"
      ]
     },
     "execution_count": 53,
     "metadata": {},
     "output_type": "execute_result"
    }
   ],
   "source": [
    "trans_hist_df = pd.merge(trans_hist_df,purch_wavg_lag2_df,on='card_id',how='inner')\n",
    "trans_hist_df = pd.merge(trans_hist_df,purch_wavg_lag3_df,on='card_id',how='inner')\n",
    "trans_hist_df.shape"
   ]
  },
  {
   "cell_type": "markdown",
   "metadata": {},
   "source": [
    "## 2.2.5 Let's create installments related features\n",
    "* Applying categorical aggregation \n",
    "* Applying numerical aggregation with groupby on card_id,installments and aggregation over new_purchase_amount"
   ]
  },
  {
   "cell_type": "code",
   "execution_count": 54,
   "metadata": {},
   "outputs": [
    {
     "data": {
      "text/plain": [
       "(201917, 371)"
      ]
     },
     "execution_count": 54,
     "metadata": {},
     "output_type": "execute_result"
    }
   ],
   "source": [
    "trans_hist_df = pd.merge(trans_hist_df,eda_fe.computeCategoricalAggr(s_hist_df,'installments','mode'),on='card_id',how='inner')\n",
    "trans_hist_df = pd.merge(trans_hist_df,eda_fe.computeCategoricalAggr(s_hist_df,'installments','nunique'),on='card_id',how='inner')\n",
    "trans_hist_df.shape"
   ]
  },
  {
   "cell_type": "code",
   "execution_count": 55,
   "metadata": {},
   "outputs": [],
   "source": [
    "pickle.dump(trans_hist_df,open('trans_hist_df.pkl','wb'))"
   ]
  },
  {
   "cell_type": "code",
   "execution_count": 56,
   "metadata": {},
   "outputs": [],
   "source": [
    "trans_hist_df = pd.merge(trans_hist_df,eda_fe.computeCategoricalAggr(s_hist_df,'installments','count'),on='card_id',how='inner')\n",
    "trans_hist_df = pd.merge(trans_hist_df,eda_fe.computeCategoricalAggr(s_hist_df,'installments','min'),on='card_id',how='inner')"
   ]
  },
  {
   "cell_type": "code",
   "execution_count": 57,
   "metadata": {},
   "outputs": [],
   "source": [
    "pickle.dump(trans_hist_df,open('trans_hist_df.pkl','wb'))"
   ]
  },
  {
   "cell_type": "code",
   "execution_count": 5,
   "metadata": {},
   "outputs": [
    {
     "data": {
      "text/html": [
       "<div>\n",
       "<style scoped>\n",
       "    .dataframe tbody tr th:only-of-type {\n",
       "        vertical-align: middle;\n",
       "    }\n",
       "\n",
       "    .dataframe tbody tr th {\n",
       "        vertical-align: top;\n",
       "    }\n",
       "\n",
       "    .dataframe thead th {\n",
       "        text-align: right;\n",
       "    }\n",
       "</style>\n",
       "<table border=\"1\" class=\"dataframe\">\n",
       "  <thead>\n",
       "    <tr style=\"text-align: right;\">\n",
       "      <th></th>\n",
       "      <th>card_id</th>\n",
       "      <th>category_1_mode</th>\n",
       "      <th>category_2_mode</th>\n",
       "      <th>category_3_mode</th>\n",
       "      <th>state_id_mode</th>\n",
       "      <th>city_id_mode</th>\n",
       "      <th>category_1_nunique</th>\n",
       "      <th>category_2_nunique</th>\n",
       "      <th>category_3_nunique</th>\n",
       "      <th>state_id_nunique</th>\n",
       "      <th>...</th>\n",
       "      <th>np_amount_std_5_8_avg</th>\n",
       "      <th>np_amount_std_6_9_avg</th>\n",
       "      <th>np_amount_std_7_10_avg</th>\n",
       "      <th>np_amount_std_8_11_avg</th>\n",
       "      <th>np_amount_std_9_12_avg</th>\n",
       "      <th>np_amount_std_10_13_avg</th>\n",
       "      <th>installments_mode</th>\n",
       "      <th>installments_nunique</th>\n",
       "      <th>installments_count</th>\n",
       "      <th>installments_min</th>\n",
       "    </tr>\n",
       "  </thead>\n",
       "  <tbody>\n",
       "    <tr>\n",
       "      <th>0</th>\n",
       "      <td>C_ID_5037ff576e</td>\n",
       "      <td>N</td>\n",
       "      <td>1.0</td>\n",
       "      <td>B</td>\n",
       "      <td>9</td>\n",
       "      <td>331</td>\n",
       "      <td>1</td>\n",
       "      <td>5</td>\n",
       "      <td>2</td>\n",
       "      <td>16</td>\n",
       "      <td>...</td>\n",
       "      <td>0.0</td>\n",
       "      <td>0.0</td>\n",
       "      <td>0.0</td>\n",
       "      <td>0.0</td>\n",
       "      <td>0.0</td>\n",
       "      <td>0.0</td>\n",
       "      <td>1</td>\n",
       "      <td>3</td>\n",
       "      <td>118</td>\n",
       "      <td>3</td>\n",
       "    </tr>\n",
       "    <tr>\n",
       "      <th>1</th>\n",
       "      <td>C_ID_0e171c1b48</td>\n",
       "      <td>N</td>\n",
       "      <td>4.0</td>\n",
       "      <td>A</td>\n",
       "      <td>13</td>\n",
       "      <td>277</td>\n",
       "      <td>1</td>\n",
       "      <td>3</td>\n",
       "      <td>2</td>\n",
       "      <td>3</td>\n",
       "      <td>...</td>\n",
       "      <td>0.0</td>\n",
       "      <td>0.0</td>\n",
       "      <td>0.0</td>\n",
       "      <td>0.0</td>\n",
       "      <td>0.0</td>\n",
       "      <td>0.0</td>\n",
       "      <td>0</td>\n",
       "      <td>2</td>\n",
       "      <td>279</td>\n",
       "      <td>1</td>\n",
       "    </tr>\n",
       "    <tr>\n",
       "      <th>2</th>\n",
       "      <td>C_ID_fc8e41b9cf</td>\n",
       "      <td>N</td>\n",
       "      <td>3.0</td>\n",
       "      <td>B</td>\n",
       "      <td>8</td>\n",
       "      <td>251</td>\n",
       "      <td>2</td>\n",
       "      <td>2</td>\n",
       "      <td>3</td>\n",
       "      <td>5</td>\n",
       "      <td>...</td>\n",
       "      <td>0.0</td>\n",
       "      <td>0.0</td>\n",
       "      <td>0.0</td>\n",
       "      <td>0.0</td>\n",
       "      <td>0.0</td>\n",
       "      <td>0.0</td>\n",
       "      <td>1</td>\n",
       "      <td>8</td>\n",
       "      <td>242</td>\n",
       "      <td>6</td>\n",
       "    </tr>\n",
       "    <tr>\n",
       "      <th>3</th>\n",
       "      <td>C_ID_b271e7ab60</td>\n",
       "      <td>N</td>\n",
       "      <td>4.0</td>\n",
       "      <td>A</td>\n",
       "      <td>22</td>\n",
       "      <td>17</td>\n",
       "      <td>1</td>\n",
       "      <td>2</td>\n",
       "      <td>2</td>\n",
       "      <td>3</td>\n",
       "      <td>...</td>\n",
       "      <td>0.0</td>\n",
       "      <td>0.0</td>\n",
       "      <td>0.0</td>\n",
       "      <td>0.0</td>\n",
       "      <td>0.0</td>\n",
       "      <td>0.0</td>\n",
       "      <td>0</td>\n",
       "      <td>2</td>\n",
       "      <td>85</td>\n",
       "      <td>1</td>\n",
       "    </tr>\n",
       "    <tr>\n",
       "      <th>4</th>\n",
       "      <td>C_ID_4bed29d75c</td>\n",
       "      <td>N</td>\n",
       "      <td>1.0</td>\n",
       "      <td>B</td>\n",
       "      <td>9</td>\n",
       "      <td>272</td>\n",
       "      <td>2</td>\n",
       "      <td>1</td>\n",
       "      <td>2</td>\n",
       "      <td>2</td>\n",
       "      <td>...</td>\n",
       "      <td>0.0</td>\n",
       "      <td>0.0</td>\n",
       "      <td>0.0</td>\n",
       "      <td>0.0</td>\n",
       "      <td>0.0</td>\n",
       "      <td>0.0</td>\n",
       "      <td>1</td>\n",
       "      <td>4</td>\n",
       "      <td>86</td>\n",
       "      <td>2</td>\n",
       "    </tr>\n",
       "  </tbody>\n",
       "</table>\n",
       "<p>5 rows × 373 columns</p>\n",
       "</div>"
      ],
      "text/plain": [
       "           card_id category_1_mode  category_2_mode category_3_mode  \\\n",
       "0  C_ID_5037ff576e               N              1.0               B   \n",
       "1  C_ID_0e171c1b48               N              4.0               A   \n",
       "2  C_ID_fc8e41b9cf               N              3.0               B   \n",
       "3  C_ID_b271e7ab60               N              4.0               A   \n",
       "4  C_ID_4bed29d75c               N              1.0               B   \n",
       "\n",
       "   state_id_mode  city_id_mode  category_1_nunique  category_2_nunique  \\\n",
       "0              9           331                   1                   5   \n",
       "1             13           277                   1                   3   \n",
       "2              8           251                   2                   2   \n",
       "3             22            17                   1                   2   \n",
       "4              9           272                   2                   1   \n",
       "\n",
       "   category_3_nunique  state_id_nunique  ...  np_amount_std_5_8_avg  \\\n",
       "0                   2                16  ...                    0.0   \n",
       "1                   2                 3  ...                    0.0   \n",
       "2                   3                 5  ...                    0.0   \n",
       "3                   2                 3  ...                    0.0   \n",
       "4                   2                 2  ...                    0.0   \n",
       "\n",
       "  np_amount_std_6_9_avg np_amount_std_7_10_avg  np_amount_std_8_11_avg  \\\n",
       "0                   0.0                    0.0                     0.0   \n",
       "1                   0.0                    0.0                     0.0   \n",
       "2                   0.0                    0.0                     0.0   \n",
       "3                   0.0                    0.0                     0.0   \n",
       "4                   0.0                    0.0                     0.0   \n",
       "\n",
       "   np_amount_std_9_12_avg  np_amount_std_10_13_avg  installments_mode  \\\n",
       "0                     0.0                      0.0                  1   \n",
       "1                     0.0                      0.0                  0   \n",
       "2                     0.0                      0.0                  1   \n",
       "3                     0.0                      0.0                  0   \n",
       "4                     0.0                      0.0                  1   \n",
       "\n",
       "   installments_nunique  installments_count  installments_min  \n",
       "0                     3                 118                 3  \n",
       "1                     2                 279                 1  \n",
       "2                     8                 242                 6  \n",
       "3                     2                  85                 1  \n",
       "4                     4                  86                 2  \n",
       "\n",
       "[5 rows x 373 columns]"
      ]
     },
     "execution_count": 5,
     "metadata": {},
     "output_type": "execute_result"
    }
   ],
   "source": [
    "trans_hist_df = pickle.load(open('trans_hist_df.pkl','rb'))\n",
    "trans_hist_df.head()"
   ]
  },
  {
   "cell_type": "code",
   "execution_count": 6,
   "metadata": {},
   "outputs": [
    {
     "data": {
      "text/plain": [
       "(201917, 373)"
      ]
     },
     "execution_count": 6,
     "metadata": {},
     "output_type": "execute_result"
    }
   ],
   "source": [
    "trans_hist_df.shape"
   ]
  },
  {
   "cell_type": "code",
   "execution_count": null,
   "metadata": {},
   "outputs": [],
   "source": [
    "## Applying numerical aggregation \n",
    "temp_df = generateAggrColumns(s_hist_df,'installments','new_purchase_amount',aggr_funcs,'install',True)\n",
    "temp_df.shape"
   ]
  },
  {
   "cell_type": "code",
   "execution_count": 27,
   "metadata": {},
   "outputs": [
    {
     "data": {
      "text/plain": [
       "Index(['card_id', 'install_1_min', 'install_1_max', 'install_1_mean',\n",
       "       'install_1_sum', 'install_1_std', 'install_5_min', 'install_5_max',\n",
       "       'install_5_mean', 'install_5_sum', 'install_5_std', 'install_3_min',\n",
       "       'install_3_max', 'install_3_mean', 'install_3_sum', 'install_3_std',\n",
       "       'install_0_min', 'install_0_max', 'install_0_mean', 'install_0_sum',\n",
       "       'install_0_std', 'install_-1_min', 'install_-1_max', 'install_-1_mean',\n",
       "       'install_-1_sum', 'install_-1_std', 'install_4_min', 'install_4_max',\n",
       "       'install_4_mean', 'install_4_sum', 'install_4_std', 'install_2_min',\n",
       "       'install_2_max', 'install_2_mean', 'install_2_sum', 'install_2_std',\n",
       "       'install_10_min', 'install_10_max', 'install_10_mean', 'install_10_sum',\n",
       "       'install_10_std', 'install_6_min', 'install_6_max', 'install_6_mean',\n",
       "       'install_6_sum', 'install_6_std', 'install_7_min', 'install_7_max',\n",
       "       'install_7_mean', 'install_7_sum', 'install_7_std', 'install_12_min',\n",
       "       'install_12_max', 'install_12_mean', 'install_12_sum', 'install_12_std',\n",
       "       'install_8_min', 'install_8_max', 'install_8_mean', 'install_8_sum',\n",
       "       'install_8_std', 'install_9_min', 'install_9_max', 'install_9_mean',\n",
       "       'install_9_sum', 'install_9_std', 'install_11_min', 'install_11_max',\n",
       "       'install_11_mean', 'install_11_sum', 'install_11_std',\n",
       "       'install_999_min', 'install_999_max', 'install_999_mean',\n",
       "       'install_999_sum', 'install_999_std'],\n",
       "      dtype='object')"
      ]
     },
     "execution_count": 27,
     "metadata": {},
     "output_type": "execute_result"
    }
   ],
   "source": [
    "temp_df.columns"
   ]
  },
  {
   "cell_type": "code",
   "execution_count": 28,
   "metadata": {},
   "outputs": [
    {
     "data": {
      "text/plain": [
       "(201917, 448)"
      ]
     },
     "execution_count": 28,
     "metadata": {},
     "output_type": "execute_result"
    }
   ],
   "source": [
    "trans_hist_df = pd.merge(trans_hist_df,temp_df,on='card_id',how='left')\n",
    "trans_hist_df.shape"
   ]
  },
  {
   "cell_type": "code",
   "execution_count": 29,
   "metadata": {},
   "outputs": [],
   "source": [
    "pickle.dump(trans_hist_df,open('trans_hist_df.pkl','wb'))"
   ]
  },
  {
   "cell_type": "markdown",
   "metadata": {},
   "source": [
    "## 2.2.6 Let's create TFIDF-Vectorizer and  word2vec Vectorizer\n",
    "* Creating tfidf and word2vec features for columns merchant_category_id and subsector_id groupedby card_id.\n",
    "* We group the dataframe by card_id's and merchant_category_id,create a list of all merchant category_ids for each card_id.\n",
    "* Apply tfidf and word2Vec transformation on it \n",
    "* Reduce the number of dimensions by svd in case of tfidf."
   ]
  },
  {
   "cell_type": "code",
   "execution_count": 40,
   "metadata": {},
   "outputs": [
    {
     "name": "stdout",
     "output_type": "stream",
     "text": [
      "Performing tfidf vectorization on  merchant_category_id ...\n",
      "Explained Variance ration with  40  components :  72.73859925096701\n",
      "Time taken for completion :  -55.41503190000003\n",
      "Performing tfidf vectorization on  subsector_id ...\n",
      "Explained Variance ration with  10  components :  78.530972541119\n",
      "Time taken for completion :  -66.19161429999986\n"
     ]
    }
   ],
   "source": [
    "## The function returns a tuple with svd columns and svd object to later transform the test data\n",
    "svd_cat_id_df = eda_fe.createSvdFeatures(s_hist_df,'card_id','merchant_category_id',40)\n",
    "svd_subsector_id_df = eda_fe.createSvdFeatures(s_hist_df,'card_id','subsector_id',10)"
   ]
  },
  {
   "cell_type": "code",
   "execution_count": 58,
   "metadata": {},
   "outputs": [
    {
     "name": "stdout",
     "output_type": "stream",
     "text": [
      "Time taken for completion :  -110.80932740000026\n",
      "Time taken for completion :  -83.7628249999998\n"
     ]
    }
   ],
   "source": [
    "## Even here the first object is a dataframe containing columns of word2Vec and second object is a word2Vec transformer\n",
    "w2v_cat_id_df = eda_fe.createWord2VecFeatures(s_hist_df,'card_id','merchant_category_id',30)\n",
    "w2v_ssector_id_df = eda_fe.createWord2VecFeatures(s_hist_df,'card_id','subsector_id',10)"
   ]
  },
  {
   "cell_type": "code",
   "execution_count": 42,
   "metadata": {},
   "outputs": [],
   "source": [
    "pickle.dump(svd_cat_id_df[1],open('merch_cat_svd_object','wb'))\n",
    "pickle.dump(svd_subsector_id_df[1],open('subsector_svd_object','wb'))"
   ]
  },
  {
   "cell_type": "code",
   "execution_count": 43,
   "metadata": {},
   "outputs": [],
   "source": [
    "pickle.dump(w2v_cat_id_df[1],open('merch_cat_w2v_object','wb'))\n",
    "pickle.dump(w2v_ssector_id_df[1],open('subsector_w2v_object','wb'))"
   ]
  },
  {
   "cell_type": "code",
   "execution_count": 44,
   "metadata": {},
   "outputs": [],
   "source": [
    "\n",
    "svd_cat_id_df = svd_cat_id_df[0]\n",
    "svd_subsector_id_df=svd_subsector_id_df[0]"
   ]
  },
  {
   "cell_type": "code",
   "execution_count": 59,
   "metadata": {},
   "outputs": [],
   "source": [
    "w2v_cat_id_df = w2v_cat_id_df[0]\n",
    "w2v_ssector_id_df = w2v_ssector_id_df[0]"
   ]
  },
  {
   "cell_type": "code",
   "execution_count": 46,
   "metadata": {},
   "outputs": [
    {
     "name": "stdout",
     "output_type": "stream",
     "text": [
      "Merchant Category Id SVD Columns :  ['merch_cat_svd_0', 'merch_cat_svd_1', 'merch_cat_svd_2', 'merch_cat_svd_3', 'merch_cat_svd_4', 'merch_cat_svd_5', 'merch_cat_svd_6', 'merch_cat_svd_7', 'merch_cat_svd_8', 'merch_cat_svd_9', 'merch_cat_svd_10', 'merch_cat_svd_11', 'merch_cat_svd_12', 'merch_cat_svd_13', 'merch_cat_svd_14', 'merch_cat_svd_15', 'merch_cat_svd_16', 'merch_cat_svd_17', 'merch_cat_svd_18', 'merch_cat_svd_19', 'merch_cat_svd_20', 'merch_cat_svd_21', 'merch_cat_svd_22', 'merch_cat_svd_23', 'merch_cat_svd_24', 'merch_cat_svd_25', 'merch_cat_svd_26', 'merch_cat_svd_27', 'merch_cat_svd_28', 'merch_cat_svd_29', 'merch_cat_svd_30', 'merch_cat_svd_31', 'merch_cat_svd_32', 'merch_cat_svd_33', 'merch_cat_svd_34', 'merch_cat_svd_35', 'merch_cat_svd_36', 'merch_cat_svd_37', 'merch_cat_svd_38', 'merch_cat_svd_39']\n",
      "Subsector SVD Columns :  ['ssector_svd_0', 'ssector_svd_1', 'ssector_svd_2', 'ssector_svd_3', 'ssector_svd_4', 'ssector_svd_5', 'ssector_svd_6', 'ssector_svd_7', 'ssector_svd_8', 'ssector_svd_9']\n"
     ]
    }
   ],
   "source": [
    "merch_cat_cols = ['merch_cat_' + col for col in svd_cat_id_df.columns if col.startswith('svd')]\n",
    "print(\"Merchant Category Id SVD Columns : \",merch_cat_cols)\n",
    "subsector_cols = ['ssector_' + col for col in svd_subsector_id_df.columns if col.startswith('svd')]\n",
    "print(\"Subsector SVD Columns : \",subsector_cols)"
   ]
  },
  {
   "cell_type": "code",
   "execution_count": 49,
   "metadata": {},
   "outputs": [],
   "source": [
    "svd_cat_id_df.drop(['list'],axis = 1,inplace = True)\n",
    "svd_subsector_id_df.drop(['list'],axis = 1,inplace = True)"
   ]
  },
  {
   "cell_type": "code",
   "execution_count": 50,
   "metadata": {},
   "outputs": [],
   "source": [
    "svd_cat_id_df.columns = ['card_id'] + merch_cat_cols\n",
    "svd_subsector_id_df.columns = ['card_id'] + subsector_cols"
   ]
  },
  {
   "cell_type": "code",
   "execution_count": 51,
   "metadata": {},
   "outputs": [
    {
     "data": {
      "text/plain": [
       "(201917, 41)"
      ]
     },
     "execution_count": 51,
     "metadata": {},
     "output_type": "execute_result"
    }
   ],
   "source": [
    "svd_cat_id_df.shape"
   ]
  },
  {
   "cell_type": "code",
   "execution_count": 52,
   "metadata": {},
   "outputs": [
    {
     "data": {
      "text/plain": [
       "(201917, 498)"
      ]
     },
     "execution_count": 52,
     "metadata": {},
     "output_type": "execute_result"
    }
   ],
   "source": [
    "trans_hist_df = pd.merge(trans_hist_df,svd_cat_id_df,on='card_id',how='inner')\n",
    "trans_hist_df = pd.merge(trans_hist_df,svd_subsector_id_df,on='card_id',how='inner')\n",
    "trans_hist_df.shape"
   ]
  },
  {
   "cell_type": "code",
   "execution_count": 60,
   "metadata": {},
   "outputs": [
    {
     "name": "stdout",
     "output_type": "stream",
     "text": [
      "Merchant Category Id w2v Columns :  ['merch_cat_w2v_0', 'merch_cat_w2v_1', 'merch_cat_w2v_2', 'merch_cat_w2v_3', 'merch_cat_w2v_4', 'merch_cat_w2v_5', 'merch_cat_w2v_6', 'merch_cat_w2v_7', 'merch_cat_w2v_8', 'merch_cat_w2v_9', 'merch_cat_w2v_10', 'merch_cat_w2v_11', 'merch_cat_w2v_12', 'merch_cat_w2v_13', 'merch_cat_w2v_14', 'merch_cat_w2v_15', 'merch_cat_w2v_16', 'merch_cat_w2v_17', 'merch_cat_w2v_18', 'merch_cat_w2v_19', 'merch_cat_w2v_20', 'merch_cat_w2v_21', 'merch_cat_w2v_22', 'merch_cat_w2v_23', 'merch_cat_w2v_24', 'merch_cat_w2v_25', 'merch_cat_w2v_26', 'merch_cat_w2v_27', 'merch_cat_w2v_28', 'merch_cat_w2v_29']\n",
      "Subsector W2V Columns :  ['ssector_w2v_0', 'ssector_w2v_1', 'ssector_w2v_2', 'ssector_w2v_3', 'ssector_w2v_4', 'ssector_w2v_5', 'ssector_w2v_6', 'ssector_w2v_7', 'ssector_w2v_8', 'ssector_w2v_9']\n"
     ]
    }
   ],
   "source": [
    "w2v_merch_cat_cols = ['merch_cat_' + col for col in w2v_cat_id_df.columns if col.startswith('w2v')]\n",
    "print(\"Merchant Category Id w2v Columns : \",w2v_merch_cat_cols)\n",
    "w2v_subsector_cols = ['ssector_' + col for col in w2v_ssector_id_df.columns if col.startswith('w2v')]\n",
    "print(\"Subsector W2V Columns : \",w2v_subsector_cols)\n",
    "\n",
    "w2v_cat_id_df.columns = ['card_id'] + w2v_merch_cat_cols\n",
    "w2v_ssector_id_df.columns = ['card_id'] + w2v_subsector_cols"
   ]
  },
  {
   "cell_type": "code",
   "execution_count": 63,
   "metadata": {},
   "outputs": [
    {
     "data": {
      "text/plain": [
       "(201917, 538)"
      ]
     },
     "execution_count": 63,
     "metadata": {},
     "output_type": "execute_result"
    }
   ],
   "source": [
    "trans_hist_df = pd.merge(trans_hist_df,w2v_cat_id_df,on='card_id',how='inner')\n",
    "trans_hist_df = pd.merge(trans_hist_df,w2v_ssector_id_df,on='card_id',how='inner')\n",
    "trans_hist_df.shape"
   ]
  },
  {
   "cell_type": "code",
   "execution_count": 64,
   "metadata": {},
   "outputs": [],
   "source": [
    "pickle.dump(trans_hist_df,open('trans_hist_df.pkl','wb'))"
   ]
  },
  {
   "cell_type": "markdown",
   "metadata": {},
   "source": [
    "## 3. Objective Create Aggregation for merchants data"
   ]
  },
  {
   "cell_type": "code",
   "execution_count": 5,
   "metadata": {},
   "outputs": [],
   "source": [
    "## Creating dataframe of subset of columns\n",
    "## Don't want to use all the columns just a few of them \n",
    "## for the purpose of joining merchants data with historical transactions\n",
    "hist_card_merch_df = s_hist_df[['card_id','merchant_id']]"
   ]
  },
  {
   "cell_type": "code",
   "execution_count": 6,
   "metadata": {},
   "outputs": [],
   "source": [
    "merchants_df = pd.read_csv('merchants.csv')"
   ]
  },
  {
   "cell_type": "code",
   "execution_count": 7,
   "metadata": {},
   "outputs": [
    {
     "data": {
      "text/html": [
       "<div>\n",
       "<style scoped>\n",
       "    .dataframe tbody tr th:only-of-type {\n",
       "        vertical-align: middle;\n",
       "    }\n",
       "\n",
       "    .dataframe tbody tr th {\n",
       "        vertical-align: top;\n",
       "    }\n",
       "\n",
       "    .dataframe thead th {\n",
       "        text-align: right;\n",
       "    }\n",
       "</style>\n",
       "<table border=\"1\" class=\"dataframe\">\n",
       "  <thead>\n",
       "    <tr style=\"text-align: right;\">\n",
       "      <th></th>\n",
       "      <th>merchant_id</th>\n",
       "      <th>merchant_group_id</th>\n",
       "      <th>merchant_category_id</th>\n",
       "      <th>subsector_id</th>\n",
       "      <th>numerical_1</th>\n",
       "      <th>numerical_2</th>\n",
       "      <th>category_1</th>\n",
       "      <th>most_recent_sales_range</th>\n",
       "      <th>most_recent_purchases_range</th>\n",
       "      <th>avg_sales_lag3</th>\n",
       "      <th>...</th>\n",
       "      <th>avg_sales_lag6</th>\n",
       "      <th>avg_purchases_lag6</th>\n",
       "      <th>active_months_lag6</th>\n",
       "      <th>avg_sales_lag12</th>\n",
       "      <th>avg_purchases_lag12</th>\n",
       "      <th>active_months_lag12</th>\n",
       "      <th>category_4</th>\n",
       "      <th>city_id</th>\n",
       "      <th>state_id</th>\n",
       "      <th>category_2</th>\n",
       "    </tr>\n",
       "  </thead>\n",
       "  <tbody>\n",
       "    <tr>\n",
       "      <th>0</th>\n",
       "      <td>M_ID_838061e48c</td>\n",
       "      <td>8353</td>\n",
       "      <td>792</td>\n",
       "      <td>9</td>\n",
       "      <td>-0.057471</td>\n",
       "      <td>-0.057471</td>\n",
       "      <td>N</td>\n",
       "      <td>E</td>\n",
       "      <td>E</td>\n",
       "      <td>-0.40</td>\n",
       "      <td>...</td>\n",
       "      <td>-2.25</td>\n",
       "      <td>18.666667</td>\n",
       "      <td>6</td>\n",
       "      <td>-2.32</td>\n",
       "      <td>13.916667</td>\n",
       "      <td>12</td>\n",
       "      <td>N</td>\n",
       "      <td>242</td>\n",
       "      <td>9</td>\n",
       "      <td>1.0</td>\n",
       "    </tr>\n",
       "    <tr>\n",
       "      <th>1</th>\n",
       "      <td>M_ID_9339d880ad</td>\n",
       "      <td>3184</td>\n",
       "      <td>840</td>\n",
       "      <td>20</td>\n",
       "      <td>-0.057471</td>\n",
       "      <td>-0.057471</td>\n",
       "      <td>N</td>\n",
       "      <td>E</td>\n",
       "      <td>E</td>\n",
       "      <td>-0.72</td>\n",
       "      <td>...</td>\n",
       "      <td>-0.74</td>\n",
       "      <td>1.291667</td>\n",
       "      <td>6</td>\n",
       "      <td>-0.57</td>\n",
       "      <td>1.687500</td>\n",
       "      <td>12</td>\n",
       "      <td>N</td>\n",
       "      <td>22</td>\n",
       "      <td>16</td>\n",
       "      <td>1.0</td>\n",
       "    </tr>\n",
       "    <tr>\n",
       "      <th>2</th>\n",
       "      <td>M_ID_e726bbae1e</td>\n",
       "      <td>447</td>\n",
       "      <td>690</td>\n",
       "      <td>1</td>\n",
       "      <td>-0.057471</td>\n",
       "      <td>-0.057471</td>\n",
       "      <td>N</td>\n",
       "      <td>E</td>\n",
       "      <td>E</td>\n",
       "      <td>-82.13</td>\n",
       "      <td>...</td>\n",
       "      <td>-82.13</td>\n",
       "      <td>260.000000</td>\n",
       "      <td>2</td>\n",
       "      <td>-82.13</td>\n",
       "      <td>260.000000</td>\n",
       "      <td>2</td>\n",
       "      <td>N</td>\n",
       "      <td>-1</td>\n",
       "      <td>5</td>\n",
       "      <td>5.0</td>\n",
       "    </tr>\n",
       "    <tr>\n",
       "      <th>3</th>\n",
       "      <td>M_ID_a70e9c5f81</td>\n",
       "      <td>5026</td>\n",
       "      <td>792</td>\n",
       "      <td>9</td>\n",
       "      <td>-0.057471</td>\n",
       "      <td>-0.057471</td>\n",
       "      <td>Y</td>\n",
       "      <td>E</td>\n",
       "      <td>E</td>\n",
       "      <td>NaN</td>\n",
       "      <td>...</td>\n",
       "      <td>NaN</td>\n",
       "      <td>4.666667</td>\n",
       "      <td>6</td>\n",
       "      <td>NaN</td>\n",
       "      <td>3.833333</td>\n",
       "      <td>12</td>\n",
       "      <td>Y</td>\n",
       "      <td>-1</td>\n",
       "      <td>-1</td>\n",
       "      <td>NaN</td>\n",
       "    </tr>\n",
       "    <tr>\n",
       "      <th>4</th>\n",
       "      <td>M_ID_64456c37ce</td>\n",
       "      <td>2228</td>\n",
       "      <td>222</td>\n",
       "      <td>21</td>\n",
       "      <td>-0.057471</td>\n",
       "      <td>-0.057471</td>\n",
       "      <td>Y</td>\n",
       "      <td>E</td>\n",
       "      <td>E</td>\n",
       "      <td>NaN</td>\n",
       "      <td>...</td>\n",
       "      <td>NaN</td>\n",
       "      <td>0.361111</td>\n",
       "      <td>6</td>\n",
       "      <td>NaN</td>\n",
       "      <td>0.347222</td>\n",
       "      <td>12</td>\n",
       "      <td>Y</td>\n",
       "      <td>-1</td>\n",
       "      <td>-1</td>\n",
       "      <td>NaN</td>\n",
       "    </tr>\n",
       "  </tbody>\n",
       "</table>\n",
       "<p>5 rows × 22 columns</p>\n",
       "</div>"
      ],
      "text/plain": [
       "       merchant_id  merchant_group_id  merchant_category_id  subsector_id  \\\n",
       "0  M_ID_838061e48c               8353                   792             9   \n",
       "1  M_ID_9339d880ad               3184                   840            20   \n",
       "2  M_ID_e726bbae1e                447                   690             1   \n",
       "3  M_ID_a70e9c5f81               5026                   792             9   \n",
       "4  M_ID_64456c37ce               2228                   222            21   \n",
       "\n",
       "   numerical_1  numerical_2 category_1 most_recent_sales_range  \\\n",
       "0    -0.057471    -0.057471          N                       E   \n",
       "1    -0.057471    -0.057471          N                       E   \n",
       "2    -0.057471    -0.057471          N                       E   \n",
       "3    -0.057471    -0.057471          Y                       E   \n",
       "4    -0.057471    -0.057471          Y                       E   \n",
       "\n",
       "  most_recent_purchases_range  avg_sales_lag3  ...  avg_sales_lag6  \\\n",
       "0                           E           -0.40  ...           -2.25   \n",
       "1                           E           -0.72  ...           -0.74   \n",
       "2                           E          -82.13  ...          -82.13   \n",
       "3                           E             NaN  ...             NaN   \n",
       "4                           E             NaN  ...             NaN   \n",
       "\n",
       "   avg_purchases_lag6  active_months_lag6  avg_sales_lag12  \\\n",
       "0           18.666667                   6            -2.32   \n",
       "1            1.291667                   6            -0.57   \n",
       "2          260.000000                   2           -82.13   \n",
       "3            4.666667                   6              NaN   \n",
       "4            0.361111                   6              NaN   \n",
       "\n",
       "   avg_purchases_lag12  active_months_lag12  category_4  city_id state_id  \\\n",
       "0            13.916667                   12           N      242        9   \n",
       "1             1.687500                   12           N       22       16   \n",
       "2           260.000000                    2           N       -1        5   \n",
       "3             3.833333                   12           Y       -1       -1   \n",
       "4             0.347222                   12           Y       -1       -1   \n",
       "\n",
       "   category_2  \n",
       "0         1.0  \n",
       "1         1.0  \n",
       "2         5.0  \n",
       "3         NaN  \n",
       "4         NaN  \n",
       "\n",
       "[5 rows x 22 columns]"
      ]
     },
     "execution_count": 7,
     "metadata": {},
     "output_type": "execute_result"
    }
   ],
   "source": [
    "merchants_df.head()"
   ]
  },
  {
   "cell_type": "code",
   "execution_count": 8,
   "metadata": {},
   "outputs": [
    {
     "data": {
      "text/plain": [
       "(18700121, 23)"
      ]
     },
     "execution_count": 8,
     "metadata": {},
     "output_type": "execute_result"
    }
   ],
   "source": [
    "hist_card_merch_df = pd.merge(hist_card_merch_df,merchants_df,on='merchant_id',how='inner')\n",
    "hist_card_merch_df.shape"
   ]
  },
  {
   "cell_type": "code",
   "execution_count": 9,
   "metadata": {},
   "outputs": [],
   "source": [
    "pickle.dump(hist_card_merch_df,open('hist_card_merch_df','wb'))"
   ]
  },
  {
   "cell_type": "code",
   "execution_count": 12,
   "metadata": {},
   "outputs": [
    {
     "data": {
      "text/plain": [
       "(201917, 1)"
      ]
     },
     "execution_count": 12,
     "metadata": {},
     "output_type": "execute_result"
    }
   ],
   "source": [
    "trans_merch_df = pd.DataFrame({'card_id' : hist_card_merch_df['card_id'].unique()})\n",
    "trans_merch_df.shape"
   ]
  },
  {
   "cell_type": "markdown",
   "metadata": {},
   "source": [
    "## 3.1 Objective : Applying categorical transformations and aggregations"
   ]
  },
  {
   "cell_type": "code",
   "execution_count": 13,
   "metadata": {},
   "outputs": [
    {
     "name": "stderr",
     "output_type": "stream",
     "text": [
      "100%|███████████████████████████████████████████████████████████████████████████████████| 3/3 [12:38<00:00, 252.83s/it]\n"
     ]
    },
    {
     "data": {
      "text/plain": [
       "(201917, 7)"
      ]
     },
     "execution_count": 13,
     "metadata": {},
     "output_type": "execute_result"
    }
   ],
   "source": [
    "columns = ['category_4','most_recent_sales_range','most_recent_purchases_range']\n",
    "for col in tqdm(columns):\n",
    "    trans_merch_df = pd.merge(trans_merch_df,eda_fe.computeCategoricalAggr(hist_card_merch_df,col,'mode'),on='card_id',how='inner')\n",
    "    trans_merch_df = pd.merge(trans_merch_df,eda_fe.computeCategoricalAggr(hist_card_merch_df,col,'nunique'),on='card_id',how='inner')\n",
    "trans_merch_df.shape"
   ]
  },
  {
   "cell_type": "code",
   "execution_count": 14,
   "metadata": {},
   "outputs": [
    {
     "data": {
      "text/html": [
       "<div>\n",
       "<style scoped>\n",
       "    .dataframe tbody tr th:only-of-type {\n",
       "        vertical-align: middle;\n",
       "    }\n",
       "\n",
       "    .dataframe tbody tr th {\n",
       "        vertical-align: top;\n",
       "    }\n",
       "\n",
       "    .dataframe thead th {\n",
       "        text-align: right;\n",
       "    }\n",
       "</style>\n",
       "<table border=\"1\" class=\"dataframe\">\n",
       "  <thead>\n",
       "    <tr style=\"text-align: right;\">\n",
       "      <th></th>\n",
       "      <th>card_id</th>\n",
       "      <th>category_4_mode</th>\n",
       "      <th>category_4_nunique</th>\n",
       "      <th>most_recent_sales_range_mode</th>\n",
       "      <th>most_recent_sales_range_nunique</th>\n",
       "      <th>most_recent_purchases_range_mode</th>\n",
       "      <th>most_recent_purchases_range_nunique</th>\n",
       "    </tr>\n",
       "  </thead>\n",
       "  <tbody>\n",
       "    <tr>\n",
       "      <th>0</th>\n",
       "      <td>C_ID_5037ff576e</td>\n",
       "      <td>N</td>\n",
       "      <td>2</td>\n",
       "      <td>B</td>\n",
       "      <td>5</td>\n",
       "      <td>C</td>\n",
       "      <td>5</td>\n",
       "    </tr>\n",
       "    <tr>\n",
       "      <th>1</th>\n",
       "      <td>C_ID_ae1363307b</td>\n",
       "      <td>Y</td>\n",
       "      <td>2</td>\n",
       "      <td>C</td>\n",
       "      <td>5</td>\n",
       "      <td>C</td>\n",
       "      <td>5</td>\n",
       "    </tr>\n",
       "    <tr>\n",
       "      <th>2</th>\n",
       "      <td>C_ID_1004bb5144</td>\n",
       "      <td>N</td>\n",
       "      <td>2</td>\n",
       "      <td>C</td>\n",
       "      <td>5</td>\n",
       "      <td>C</td>\n",
       "      <td>5</td>\n",
       "    </tr>\n",
       "    <tr>\n",
       "      <th>3</th>\n",
       "      <td>C_ID_ea09f86dad</td>\n",
       "      <td>N</td>\n",
       "      <td>2</td>\n",
       "      <td>C</td>\n",
       "      <td>5</td>\n",
       "      <td>C</td>\n",
       "      <td>5</td>\n",
       "    </tr>\n",
       "    <tr>\n",
       "      <th>4</th>\n",
       "      <td>C_ID_24f394f987</td>\n",
       "      <td>N</td>\n",
       "      <td>2</td>\n",
       "      <td>D</td>\n",
       "      <td>5</td>\n",
       "      <td>D</td>\n",
       "      <td>5</td>\n",
       "    </tr>\n",
       "  </tbody>\n",
       "</table>\n",
       "</div>"
      ],
      "text/plain": [
       "           card_id category_4_mode  category_4_nunique  \\\n",
       "0  C_ID_5037ff576e               N                   2   \n",
       "1  C_ID_ae1363307b               Y                   2   \n",
       "2  C_ID_1004bb5144               N                   2   \n",
       "3  C_ID_ea09f86dad               N                   2   \n",
       "4  C_ID_24f394f987               N                   2   \n",
       "\n",
       "  most_recent_sales_range_mode  most_recent_sales_range_nunique  \\\n",
       "0                            B                                5   \n",
       "1                            C                                5   \n",
       "2                            C                                5   \n",
       "3                            C                                5   \n",
       "4                            D                                5   \n",
       "\n",
       "  most_recent_purchases_range_mode  most_recent_purchases_range_nunique  \n",
       "0                                C                                    5  \n",
       "1                                C                                    5  \n",
       "2                                C                                    5  \n",
       "3                                C                                    5  \n",
       "4                                D                                    5  "
      ]
     },
     "execution_count": 14,
     "metadata": {},
     "output_type": "execute_result"
    }
   ],
   "source": [
    "trans_merch_df.head()"
   ]
  },
  {
   "cell_type": "markdown",
   "metadata": {},
   "source": [
    "## 3.2 Objective : Applying numerical aggregations"
   ]
  },
  {
   "cell_type": "code",
   "execution_count": 18,
   "metadata": {},
   "outputs": [
    {
     "data": {
      "text/plain": [
       "(201917, 47)"
      ]
     },
     "execution_count": 18,
     "metadata": {},
     "output_type": "execute_result"
    }
   ],
   "source": [
    "columns = ['numerical_1','numerical_2','avg_sales_lag3','avg_sales_lag6','avg_sales_lag12',\n",
    "          'avg_purchases_lag3','avg_purchases_lag6','avg_purchases_lag12']\n",
    "\n",
    "for col in columns:\n",
    "    trans_merch_df = pd.merge(trans_merch_df,eda_fe.createNumericalAggr(hist_card_merch_df,'card_id',col),on='card_id',how='inner')\n",
    "trans_merch_df.shape"
   ]
  },
  {
   "cell_type": "markdown",
   "metadata": {},
   "source": [
    "## 3.3 Objective :Applying categorical aggregations"
   ]
  },
  {
   "cell_type": "code",
   "execution_count": null,
   "metadata": {},
   "outputs": [
    {
     "name": "stderr",
     "output_type": "stream",
     "text": [
      " 67%|███████████████████████████████████████████████████████▎                           | 2/3 [07:09<03:43, 223.25s/it]"
     ]
    }
   ],
   "source": [
    "columns = ['active_months_lag3','active_months_lag6','active_months_lag12']\n",
    "for col in tqdm(columns):\n",
    "    trans_merch_df = pd.merge(trans_merch_df,eda_fe.computeCategoricalAggr(hist_card_merch_df,col,'mode'),on='card_id',how='inner')\n",
    "    trans_merch_df = pd.merge(trans_merch_df,eda_fe.computeCategoricalAggr(hist_card_merch_df,col,'nunique'),on='card_id',how='inner')\n",
    "trans_merch_df.shape"
   ]
  },
  {
   "cell_type": "code",
   "execution_count": null,
   "metadata": {},
   "outputs": [],
   "source": [
    "pickle.dump(trans_merch_df,'trans_merch_df.pkl')"
   ]
  },
  {
   "cell_type": "markdown",
   "metadata": {},
   "source": [
    "## 4. Apply transformations on new merchant transactions data\n",
    "* Transformations to be applied for new_merchant transactions are similar to that of historical transactions"
   ]
  },
  {
   "cell_type": "code",
   "execution_count": 4,
   "metadata": {},
   "outputs": [
    {
     "name": "stdout",
     "output_type": "stream",
     "text": [
      "Mem. usage decreased to 114.20 Mb (45.5% reduction)\n"
     ]
    },
    {
     "name": "stderr",
     "output_type": "stream",
     "text": [
      "c:\\users\\capiot\\appdata\\local\\programs\\python\\python36\\lib\\site-packages\\pandas\\core\\series.py:2145: RuntimeWarning: overflow encountered in multiply\n",
      "  result = com.values_from_object(self).round(decimals)\n"
     ]
    }
   ],
   "source": [
    "new_trans_df = eda_fe.reduce_mem_usage(pd.read_csv('new_merchant_transactions.csv'))\n",
    "new_trans_df['purchase_amount_new'] = np.round(new_trans_df['purchase_amount'] / 0.00150265118 + 497.06,2)"
   ]
  },
  {
   "cell_type": "code",
   "execution_count": 5,
   "metadata": {},
   "outputs": [],
   "source": [
    "train_card_ids = pickle.load(open('train_card_ids.pkl','rb'))"
   ]
  },
  {
   "cell_type": "code",
   "execution_count": 6,
   "metadata": {},
   "outputs": [
    {
     "data": {
      "text/plain": [
       "(1219685, 15)"
      ]
     },
     "execution_count": 6,
     "metadata": {},
     "output_type": "execute_result"
    }
   ],
   "source": [
    "s_new_df = new_trans_df.loc[new_trans_df['card_id'].isin(train_card_ids)].copy()\n",
    "s_new_df.shape"
   ]
  },
  {
   "cell_type": "code",
   "execution_count": 7,
   "metadata": {},
   "outputs": [
    {
     "name": "stdout",
     "output_type": "stream",
     "text": [
      "Percentage of data sampled based on card_id from train data :  62.13274268210741\n"
     ]
    }
   ],
   "source": [
    "print(\"Percentage of data sampled based on card_id from train data : \",s_new_df.shape[0]*100/new_trans_df.shape[0])"
   ]
  },
  {
   "cell_type": "code",
   "execution_count": 8,
   "metadata": {},
   "outputs": [
    {
     "data": {
      "text/html": [
       "<div>\n",
       "<style scoped>\n",
       "    .dataframe tbody tr th:only-of-type {\n",
       "        vertical-align: middle;\n",
       "    }\n",
       "\n",
       "    .dataframe tbody tr th {\n",
       "        vertical-align: top;\n",
       "    }\n",
       "\n",
       "    .dataframe thead th {\n",
       "        text-align: right;\n",
       "    }\n",
       "</style>\n",
       "<table border=\"1\" class=\"dataframe\">\n",
       "  <thead>\n",
       "    <tr style=\"text-align: right;\">\n",
       "      <th></th>\n",
       "      <th>authorized_flag</th>\n",
       "      <th>card_id</th>\n",
       "      <th>city_id</th>\n",
       "      <th>category_1</th>\n",
       "      <th>installments</th>\n",
       "      <th>category_3</th>\n",
       "      <th>merchant_category_id</th>\n",
       "      <th>merchant_id</th>\n",
       "      <th>month_lag</th>\n",
       "      <th>purchase_amount</th>\n",
       "      <th>purchase_date</th>\n",
       "      <th>category_2</th>\n",
       "      <th>state_id</th>\n",
       "      <th>subsector_id</th>\n",
       "      <th>purchase_amount_new</th>\n",
       "    </tr>\n",
       "  </thead>\n",
       "  <tbody>\n",
       "    <tr>\n",
       "      <th>4</th>\n",
       "      <td>Y</td>\n",
       "      <td>C_ID_ef55cf8d4b</td>\n",
       "      <td>-1</td>\n",
       "      <td>Y</td>\n",
       "      <td>1</td>\n",
       "      <td>B</td>\n",
       "      <td>166</td>\n",
       "      <td>M_ID_3c86fa3831</td>\n",
       "      <td>1</td>\n",
       "      <td>-0.659668</td>\n",
       "      <td>2018-03-22 21:07:53</td>\n",
       "      <td>NaN</td>\n",
       "      <td>-1</td>\n",
       "      <td>29</td>\n",
       "      <td>58.0</td>\n",
       "    </tr>\n",
       "    <tr>\n",
       "      <th>5</th>\n",
       "      <td>Y</td>\n",
       "      <td>C_ID_ef55cf8d4b</td>\n",
       "      <td>231</td>\n",
       "      <td>N</td>\n",
       "      <td>1</td>\n",
       "      <td>B</td>\n",
       "      <td>367</td>\n",
       "      <td>M_ID_8874615e00</td>\n",
       "      <td>2</td>\n",
       "      <td>-0.632812</td>\n",
       "      <td>2018-04-02 12:53:28</td>\n",
       "      <td>1.0</td>\n",
       "      <td>9</td>\n",
       "      <td>16</td>\n",
       "      <td>76.0</td>\n",
       "    </tr>\n",
       "    <tr>\n",
       "      <th>6</th>\n",
       "      <td>Y</td>\n",
       "      <td>C_ID_ef55cf8d4b</td>\n",
       "      <td>69</td>\n",
       "      <td>N</td>\n",
       "      <td>1</td>\n",
       "      <td>B</td>\n",
       "      <td>333</td>\n",
       "      <td>M_ID_6d061b5ddc</td>\n",
       "      <td>1</td>\n",
       "      <td>5.265625</td>\n",
       "      <td>2018-03-28 19:50:19</td>\n",
       "      <td>1.0</td>\n",
       "      <td>9</td>\n",
       "      <td>10</td>\n",
       "      <td>inf</td>\n",
       "    </tr>\n",
       "    <tr>\n",
       "      <th>7</th>\n",
       "      <td>Y</td>\n",
       "      <td>C_ID_ef55cf8d4b</td>\n",
       "      <td>231</td>\n",
       "      <td>N</td>\n",
       "      <td>1</td>\n",
       "      <td>B</td>\n",
       "      <td>307</td>\n",
       "      <td>M_ID_df1e022f41</td>\n",
       "      <td>2</td>\n",
       "      <td>-0.553711</td>\n",
       "      <td>2018-04-05 08:06:52</td>\n",
       "      <td>1.0</td>\n",
       "      <td>9</td>\n",
       "      <td>19</td>\n",
       "      <td>128.5</td>\n",
       "    </tr>\n",
       "    <tr>\n",
       "      <th>8</th>\n",
       "      <td>Y</td>\n",
       "      <td>C_ID_ef55cf8d4b</td>\n",
       "      <td>69</td>\n",
       "      <td>N</td>\n",
       "      <td>1</td>\n",
       "      <td>B</td>\n",
       "      <td>278</td>\n",
       "      <td>M_ID_d15eae0468</td>\n",
       "      <td>2</td>\n",
       "      <td>-0.596680</td>\n",
       "      <td>2018-04-07 18:37:40</td>\n",
       "      <td>1.0</td>\n",
       "      <td>9</td>\n",
       "      <td>37</td>\n",
       "      <td>100.0</td>\n",
       "    </tr>\n",
       "  </tbody>\n",
       "</table>\n",
       "</div>"
      ],
      "text/plain": [
       "  authorized_flag          card_id  city_id category_1  installments  \\\n",
       "4               Y  C_ID_ef55cf8d4b       -1          Y             1   \n",
       "5               Y  C_ID_ef55cf8d4b      231          N             1   \n",
       "6               Y  C_ID_ef55cf8d4b       69          N             1   \n",
       "7               Y  C_ID_ef55cf8d4b      231          N             1   \n",
       "8               Y  C_ID_ef55cf8d4b       69          N             1   \n",
       "\n",
       "  category_3  merchant_category_id      merchant_id  month_lag  \\\n",
       "4          B                   166  M_ID_3c86fa3831          1   \n",
       "5          B                   367  M_ID_8874615e00          2   \n",
       "6          B                   333  M_ID_6d061b5ddc          1   \n",
       "7          B                   307  M_ID_df1e022f41          2   \n",
       "8          B                   278  M_ID_d15eae0468          2   \n",
       "\n",
       "   purchase_amount        purchase_date  category_2  state_id  subsector_id  \\\n",
       "4        -0.659668  2018-03-22 21:07:53         NaN        -1            29   \n",
       "5        -0.632812  2018-04-02 12:53:28         1.0         9            16   \n",
       "6         5.265625  2018-03-28 19:50:19         1.0         9            10   \n",
       "7        -0.553711  2018-04-05 08:06:52         1.0         9            19   \n",
       "8        -0.596680  2018-04-07 18:37:40         1.0         9            37   \n",
       "\n",
       "   purchase_amount_new  \n",
       "4                 58.0  \n",
       "5                 76.0  \n",
       "6                  inf  \n",
       "7                128.5  \n",
       "8                100.0  "
      ]
     },
     "execution_count": 8,
     "metadata": {},
     "output_type": "execute_result"
    }
   ],
   "source": [
    "s_new_df.head()"
   ]
  },
  {
   "cell_type": "code",
   "execution_count": 9,
   "metadata": {},
   "outputs": [],
   "source": [
    "del(new_trans_df)"
   ]
  },
  {
   "cell_type": "code",
   "execution_count": 10,
   "metadata": {},
   "outputs": [
    {
     "data": {
      "text/html": [
       "<div>\n",
       "<style scoped>\n",
       "    .dataframe tbody tr th:only-of-type {\n",
       "        vertical-align: middle;\n",
       "    }\n",
       "\n",
       "    .dataframe tbody tr th {\n",
       "        vertical-align: top;\n",
       "    }\n",
       "\n",
       "    .dataframe thead th {\n",
       "        text-align: right;\n",
       "    }\n",
       "</style>\n",
       "<table border=\"1\" class=\"dataframe\">\n",
       "  <thead>\n",
       "    <tr style=\"text-align: right;\">\n",
       "      <th></th>\n",
       "      <th>authorized_flag</th>\n",
       "      <th>card_id</th>\n",
       "      <th>city_id</th>\n",
       "      <th>category_1</th>\n",
       "      <th>installments</th>\n",
       "      <th>category_3</th>\n",
       "      <th>merchant_category_id</th>\n",
       "      <th>merchant_id</th>\n",
       "      <th>month_lag</th>\n",
       "      <th>purchase_amount</th>\n",
       "      <th>purchase_date</th>\n",
       "      <th>category_2</th>\n",
       "      <th>state_id</th>\n",
       "      <th>subsector_id</th>\n",
       "      <th>new_purchase_amount</th>\n",
       "    </tr>\n",
       "  </thead>\n",
       "  <tbody>\n",
       "    <tr>\n",
       "      <th>4</th>\n",
       "      <td>Y</td>\n",
       "      <td>C_ID_ef55cf8d4b</td>\n",
       "      <td>-1</td>\n",
       "      <td>Y</td>\n",
       "      <td>1</td>\n",
       "      <td>B</td>\n",
       "      <td>166</td>\n",
       "      <td>M_ID_3c86fa3831</td>\n",
       "      <td>1</td>\n",
       "      <td>-0.659668</td>\n",
       "      <td>2018-03-22 21:07:53</td>\n",
       "      <td>NaN</td>\n",
       "      <td>-1</td>\n",
       "      <td>29</td>\n",
       "      <td>58.0</td>\n",
       "    </tr>\n",
       "    <tr>\n",
       "      <th>5</th>\n",
       "      <td>Y</td>\n",
       "      <td>C_ID_ef55cf8d4b</td>\n",
       "      <td>231</td>\n",
       "      <td>N</td>\n",
       "      <td>1</td>\n",
       "      <td>B</td>\n",
       "      <td>367</td>\n",
       "      <td>M_ID_8874615e00</td>\n",
       "      <td>2</td>\n",
       "      <td>-0.632812</td>\n",
       "      <td>2018-04-02 12:53:28</td>\n",
       "      <td>1.0</td>\n",
       "      <td>9</td>\n",
       "      <td>16</td>\n",
       "      <td>76.0</td>\n",
       "    </tr>\n",
       "    <tr>\n",
       "      <th>6</th>\n",
       "      <td>Y</td>\n",
       "      <td>C_ID_ef55cf8d4b</td>\n",
       "      <td>69</td>\n",
       "      <td>N</td>\n",
       "      <td>1</td>\n",
       "      <td>B</td>\n",
       "      <td>333</td>\n",
       "      <td>M_ID_6d061b5ddc</td>\n",
       "      <td>1</td>\n",
       "      <td>5.265625</td>\n",
       "      <td>2018-03-28 19:50:19</td>\n",
       "      <td>1.0</td>\n",
       "      <td>9</td>\n",
       "      <td>10</td>\n",
       "      <td>inf</td>\n",
       "    </tr>\n",
       "    <tr>\n",
       "      <th>7</th>\n",
       "      <td>Y</td>\n",
       "      <td>C_ID_ef55cf8d4b</td>\n",
       "      <td>231</td>\n",
       "      <td>N</td>\n",
       "      <td>1</td>\n",
       "      <td>B</td>\n",
       "      <td>307</td>\n",
       "      <td>M_ID_df1e022f41</td>\n",
       "      <td>2</td>\n",
       "      <td>-0.553711</td>\n",
       "      <td>2018-04-05 08:06:52</td>\n",
       "      <td>1.0</td>\n",
       "      <td>9</td>\n",
       "      <td>19</td>\n",
       "      <td>128.5</td>\n",
       "    </tr>\n",
       "    <tr>\n",
       "      <th>8</th>\n",
       "      <td>Y</td>\n",
       "      <td>C_ID_ef55cf8d4b</td>\n",
       "      <td>69</td>\n",
       "      <td>N</td>\n",
       "      <td>1</td>\n",
       "      <td>B</td>\n",
       "      <td>278</td>\n",
       "      <td>M_ID_d15eae0468</td>\n",
       "      <td>2</td>\n",
       "      <td>-0.596680</td>\n",
       "      <td>2018-04-07 18:37:40</td>\n",
       "      <td>1.0</td>\n",
       "      <td>9</td>\n",
       "      <td>37</td>\n",
       "      <td>100.0</td>\n",
       "    </tr>\n",
       "  </tbody>\n",
       "</table>\n",
       "</div>"
      ],
      "text/plain": [
       "  authorized_flag          card_id  city_id category_1  installments  \\\n",
       "4               Y  C_ID_ef55cf8d4b       -1          Y             1   \n",
       "5               Y  C_ID_ef55cf8d4b      231          N             1   \n",
       "6               Y  C_ID_ef55cf8d4b       69          N             1   \n",
       "7               Y  C_ID_ef55cf8d4b      231          N             1   \n",
       "8               Y  C_ID_ef55cf8d4b       69          N             1   \n",
       "\n",
       "  category_3  merchant_category_id      merchant_id  month_lag  \\\n",
       "4          B                   166  M_ID_3c86fa3831          1   \n",
       "5          B                   367  M_ID_8874615e00          2   \n",
       "6          B                   333  M_ID_6d061b5ddc          1   \n",
       "7          B                   307  M_ID_df1e022f41          2   \n",
       "8          B                   278  M_ID_d15eae0468          2   \n",
       "\n",
       "   purchase_amount        purchase_date  category_2  state_id  subsector_id  \\\n",
       "4        -0.659668  2018-03-22 21:07:53         NaN        -1            29   \n",
       "5        -0.632812  2018-04-02 12:53:28         1.0         9            16   \n",
       "6         5.265625  2018-03-28 19:50:19         1.0         9            10   \n",
       "7        -0.553711  2018-04-05 08:06:52         1.0         9            19   \n",
       "8        -0.596680  2018-04-07 18:37:40         1.0         9            37   \n",
       "\n",
       "   new_purchase_amount  \n",
       "4                 58.0  \n",
       "5                 76.0  \n",
       "6                  inf  \n",
       "7                128.5  \n",
       "8                100.0  "
      ]
     },
     "execution_count": 10,
     "metadata": {},
     "output_type": "execute_result"
    }
   ],
   "source": [
    "s_new_df.rename(columns = {'purchase_amount_new' : 'new_purchase_amount'},inplace = True)\n",
    "s_new_df.head()"
   ]
  },
  {
   "cell_type": "code",
   "execution_count": 11,
   "metadata": {},
   "outputs": [],
   "source": [
    "pickle.dump(s_new_df,open('s_new_df.pkl','wb'))"
   ]
  },
  {
   "cell_type": "code",
   "execution_count": 10,
   "metadata": {},
   "outputs": [
    {
     "data": {
      "text/plain": [
       "(179986, 1)"
      ]
     },
     "execution_count": 10,
     "metadata": {},
     "output_type": "execute_result"
    }
   ],
   "source": [
    "trans_new_df = pd.DataFrame({'card_id' : s_new_df['card_id'].unique()})\n",
    "trans_new_df.shape"
   ]
  },
  {
   "cell_type": "markdown",
   "metadata": {},
   "source": [
    "## 4.1 Applying mode and nunique features on new_transactions_data"
   ]
  },
  {
   "cell_type": "code",
   "execution_count": 12,
   "metadata": {},
   "outputs": [
    {
     "name": "stderr",
     "output_type": "stream",
     "text": [
      "100%|████████████████████████████████████████████████████████████████████████████████████| 7/7 [10:45<00:00, 92.19s/it]\n"
     ]
    },
    {
     "data": {
      "text/plain": [
       "(179986, 16)"
      ]
     },
     "execution_count": 12,
     "metadata": {},
     "output_type": "execute_result"
    }
   ],
   "source": [
    "columns = ['category_1','category_2','category_3','city_id','state_id','subsector_id','merchant_category_id']\n",
    "for col in tqdm(columns):\n",
    "    trans_new_df = pd.merge(trans_new_df,eda_fe.computeCategoricalAggr(s_new_df,col,'mode'),on='card_id',how='inner')\n",
    "    trans_new_df = pd.merge(trans_new_df,eda_fe.computeCategoricalAggr(s_new_df,col,'nunique'),on='card_id',how='inner')\n",
    "\n",
    "trans_new_df.shape"
   ]
  },
  {
   "cell_type": "code",
   "execution_count": 15,
   "metadata": {},
   "outputs": [
    {
     "data": {
      "text/plain": [
       "Index(['card_id', 'category_1_mode_y', 'category_1_nunique', 'category_2_mode',\n",
       "       'category_2_nunique', 'category_3_mode', 'category_3_nunique',\n",
       "       'city_id_mode', 'city_id_nunique', 'state_id_mode', 'state_id_nunique',\n",
       "       'subsector_id_mode', 'subsector_id_nunique',\n",
       "       'merchant_category_id_mode', 'merchant_category_id_nunique'],\n",
       "      dtype='object')"
      ]
     },
     "execution_count": 15,
     "metadata": {},
     "output_type": "execute_result"
    }
   ],
   "source": [
    "trans_new_df.drop(['category_1_mode_x'],axis=1,inplace = True)\n",
    "trans_new_df.columns"
   ]
  },
  {
   "cell_type": "code",
   "execution_count": 16,
   "metadata": {},
   "outputs": [],
   "source": [
    "trans_new_df.rename(columns={'category_1_mode_y' : 'category_1_mode'},inplace=True)"
   ]
  },
  {
   "cell_type": "code",
   "execution_count": 18,
   "metadata": {},
   "outputs": [],
   "source": [
    "pickle.dump(trans_new_df,open('trans_new_df','wb'))"
   ]
  },
  {
   "cell_type": "markdown",
   "metadata": {},
   "source": [
    "## 4.2 Applying date time features"
   ]
  },
  {
   "cell_type": "code",
   "execution_count": 17,
   "metadata": {},
   "outputs": [],
   "source": [
    "s_new_df['purchase_date'] = pd.to_datetime(s_new_df['purchase_date'])\n",
    "s_new_df['day'] = s_new_df['purchase_date'].dt.day\n",
    "s_new_df['wday'] = s_new_df['purchase_date'].dt.weekday\n",
    "s_new_df['month'] = s_new_df['purchase_date'].dt.month\n",
    "s_new_df['year'] = s_new_df['purchase_date'].dt.year"
   ]
  },
  {
   "cell_type": "code",
   "execution_count": 22,
   "metadata": {},
   "outputs": [
    {
     "name": "stderr",
     "output_type": "stream",
     "text": [
      "  0%|                                                                                            | 0/4 [00:00<?, ?it/s]\n",
      "  0%|                                                                                            | 0/4 [00:00<?, ?it/s]\u001b[A\n",
      " 25%|█████████████████████                                                               | 1/4 [00:51<02:35, 51.76s/it]\u001b[A\n",
      " 50%|██████████████████████████████████████████                                          | 2/4 [03:57<03:03, 91.84s/it]\u001b[A\n",
      " 75%|███████████████████████████████████████████████████████████████                     | 3/4 [04:17<01:10, 70.34s/it]\u001b[A\n",
      "100%|████████████████████████████████████████████████████████████████████████████████████| 4/4 [04:54<00:00, 73.73s/it]\u001b[A\n",
      " 25%|████████████████████▊                                                              | 1/4 [04:54<14:44, 294.92s/it]\n",
      "  0%|                                                                                            | 0/4 [00:00<?, ?it/s]\u001b[A\n",
      " 25%|█████████████████████                                                               | 1/4 [00:54<02:42, 54.10s/it]\u001b[A\n",
      " 50%|██████████████████████████████████████████                                          | 2/4 [03:53<03:03, 91.76s/it]\u001b[A\n",
      " 75%|███████████████████████████████████████████████████████████████                     | 3/4 [04:12<01:09, 69.93s/it]\u001b[A\n",
      "100%|████████████████████████████████████████████████████████████████████████████████████| 4/4 [04:50<00:00, 72.65s/it]\u001b[A\n",
      " 50%|█████████████████████████████████████████▌                                         | 2/4 [09:45<09:47, 293.63s/it]\n",
      "  0%|                                                                                            | 0/4 [00:00<?, ?it/s]\u001b[A\n",
      " 25%|█████████████████████                                                               | 1/4 [00:53<02:39, 53.13s/it]\u001b[A\n",
      " 50%|██████████████████████████████████████████                                          | 2/4 [03:51<03:01, 90.75s/it]\u001b[A\n",
      " 75%|███████████████████████████████████████████████████████████████                     | 3/4 [04:10<01:09, 69.19s/it]\u001b[A\n",
      "100%|████████████████████████████████████████████████████████████████████████████████████| 4/4 [04:48<00:00, 72.00s/it]\u001b[A\n",
      " 75%|██████████████████████████████████████████████████████████████▎                    | 3/4 [14:33<04:51, 291.94s/it]\n",
      "  0%|                                                                                            | 0/4 [00:00<?, ?it/s]\u001b[A\n",
      " 25%|█████████████████████                                                               | 1/4 [00:53<02:41, 53.69s/it]\u001b[A\n",
      " 50%|██████████████████████████████████████████                                          | 2/4 [03:50<03:01, 90.69s/it]\u001b[A\n",
      " 75%|███████████████████████████████████████████████████████████████                     | 3/4 [04:13<01:10, 70.24s/it]\u001b[A\n",
      "100%|████████████████████████████████████████████████████████████████████████████████████| 4/4 [04:52<00:00, 73.04s/it]\u001b[A\n",
      "100%|███████████████████████████████████████████████████████████████████████████████████| 4/4 [19:25<00:00, 291.43s/it]\n"
     ]
    }
   ],
   "source": [
    "datetime_cols = ['day','wday','month','year']\n",
    "stat_func = ['mode','min','count','nunique']\n",
    "for col in tqdm(datetime_cols):\n",
    "    for func in tqdm(stat_func): \n",
    "        trans_new_df = pd.merge(trans_new_df,eda_fe.computeCategoricalAggr(s_new_df,col,func),on='card_id',how='inner')"
   ]
  },
  {
   "cell_type": "code",
   "execution_count": 24,
   "metadata": {},
   "outputs": [
    {
     "data": {
      "text/plain": [
       "(179986, 31)"
      ]
     },
     "execution_count": 24,
     "metadata": {},
     "output_type": "execute_result"
    }
   ],
   "source": [
    "trans_new_df.shape"
   ]
  },
  {
   "cell_type": "code",
   "execution_count": 27,
   "metadata": {},
   "outputs": [],
   "source": [
    "pickle.dump(trans_new_df,open('trans_new_df.pkl','wb'))"
   ]
  },
  {
   "cell_type": "markdown",
   "metadata": {},
   "source": [
    "## 4.3 Applying purchase lag transformations"
   ]
  },
  {
   "cell_type": "code",
   "execution_count": 12,
   "metadata": {},
   "outputs": [],
   "source": [
    "trans_new_df = pickle.load(open('trans_new_df.pkl','rb'))"
   ]
  },
  {
   "cell_type": "code",
   "execution_count": 13,
   "metadata": {},
   "outputs": [
    {
     "name": "stdout",
     "output_type": "stream",
     "text": [
      "Creating purchase_amount aggregation wrt month_lags...\n"
     ]
    },
    {
     "name": "stderr",
     "output_type": "stream",
     "text": [
      "  0%|                                                                                            | 0/5 [00:00<?, ?it/s]\n",
      "  0%|                                                                                            | 0/2 [00:00<?, ?it/s]\u001b[A"
     ]
    },
    {
     "name": "stdout",
     "output_type": "stream",
     "text": [
      "Merging aggregate columns...\n"
     ]
    },
    {
     "name": "stderr",
     "output_type": "stream",
     "text": [
      "\n",
      "100%|████████████████████████████████████████████████████████████████████████████████████| 2/2 [00:00<00:00,  3.75it/s]\u001b[A\n",
      " 20%|████████████████▊                                                                   | 1/5 [00:00<00:02,  1.84it/s]\n",
      "  0%|                                                                                            | 0/2 [00:00<?, ?it/s]\u001b[A\n",
      " 50%|██████████████████████████████████████████                                          | 1/2 [00:00<00:00,  3.24it/s]\u001b[A\n",
      "100%|████████████████████████████████████████████████████████████████████████████████████| 2/2 [00:00<00:00,  3.05it/s]\u001b[A\n",
      " 40%|█████████████████████████████████▌                                                  | 2/5 [00:01<00:01,  1.72it/s]\n",
      "  0%|                                                                                            | 0/2 [00:00<?, ?it/s]\u001b[A\n",
      " 50%|██████████████████████████████████████████                                          | 1/2 [00:00<00:00,  3.40it/s]\u001b[A\n",
      "100%|████████████████████████████████████████████████████████████████████████████████████| 2/2 [00:00<00:00,  3.22it/s]\u001b[A\n",
      " 60%|██████████████████████████████████████████████████▍                                 | 3/5 [00:01<00:01,  1.68it/s]\n",
      "  0%|                                                                                            | 0/2 [00:00<?, ?it/s]\u001b[A\n",
      " 50%|██████████████████████████████████████████                                          | 1/2 [00:00<00:00,  3.28it/s]\u001b[A\n",
      "100%|████████████████████████████████████████████████████████████████████████████████████| 2/2 [00:00<00:00,  3.04it/s]\u001b[A\n",
      " 80%|███████████████████████████████████████████████████████████████████▏                | 4/5 [00:02<00:00,  1.63it/s]\n",
      "  0%|                                                                                            | 0/2 [00:00<?, ?it/s]\u001b[A\n",
      " 50%|██████████████████████████████████████████                                          | 1/2 [00:00<00:00,  3.19it/s]\u001b[A\n",
      "100%|████████████████████████████████████████████████████████████████████████████████████| 2/2 [00:00<00:00,  3.04it/s]\u001b[A\n",
      "100%|████████████████████████████████████████████████████████████████████████████████████| 5/5 [00:03<00:00,  1.58it/s]\n"
     ]
    },
    {
     "data": {
      "text/html": [
       "<div>\n",
       "<style scoped>\n",
       "    .dataframe tbody tr th:only-of-type {\n",
       "        vertical-align: middle;\n",
       "    }\n",
       "\n",
       "    .dataframe tbody tr th {\n",
       "        vertical-align: top;\n",
       "    }\n",
       "\n",
       "    .dataframe thead th {\n",
       "        text-align: right;\n",
       "    }\n",
       "</style>\n",
       "<table border=\"1\" class=\"dataframe\">\n",
       "  <thead>\n",
       "    <tr style=\"text-align: right;\">\n",
       "      <th></th>\n",
       "      <th>card_id</th>\n",
       "      <th>np_amount_min_2</th>\n",
       "      <th>np_amount_min_1</th>\n",
       "      <th>np_amount_max_2</th>\n",
       "      <th>np_amount_max_1</th>\n",
       "      <th>np_amount_mean_2</th>\n",
       "      <th>np_amount_mean_1</th>\n",
       "      <th>np_amount_sum_2</th>\n",
       "      <th>np_amount_sum_1</th>\n",
       "      <th>np_amount_std_2</th>\n",
       "      <th>np_amount_std_1</th>\n",
       "    </tr>\n",
       "  </thead>\n",
       "  <tbody>\n",
       "    <tr>\n",
       "      <th>0</th>\n",
       "      <td>C_ID_00007093c1</td>\n",
       "      <td>50.0</td>\n",
       "      <td>NaN</td>\n",
       "      <td>60.000</td>\n",
       "      <td>NaN</td>\n",
       "      <td>55.00000</td>\n",
       "      <td>NaN</td>\n",
       "      <td>110.000</td>\n",
       "      <td>NaN</td>\n",
       "      <td>7.070312</td>\n",
       "      <td>NaN</td>\n",
       "    </tr>\n",
       "    <tr>\n",
       "      <th>1</th>\n",
       "      <td>C_ID_000183fdda</td>\n",
       "      <td>36.0</td>\n",
       "      <td>9.750000</td>\n",
       "      <td>425.500</td>\n",
       "      <td>191.25</td>\n",
       "      <td>168.87500</td>\n",
       "      <td>71.9375</td>\n",
       "      <td>506.500</td>\n",
       "      <td>575.5</td>\n",
       "      <td>222.375000</td>\n",
       "      <td>64.1250</td>\n",
       "    </tr>\n",
       "    <tr>\n",
       "      <th>2</th>\n",
       "      <td>C_ID_0002c7c2c1</td>\n",
       "      <td>10.0</td>\n",
       "      <td>22.234375</td>\n",
       "      <td>68.750</td>\n",
       "      <td>165.75</td>\n",
       "      <td>42.90625</td>\n",
       "      <td>79.5000</td>\n",
       "      <td>128.750</td>\n",
       "      <td>238.5</td>\n",
       "      <td>30.015625</td>\n",
       "      <td>76.0000</td>\n",
       "    </tr>\n",
       "    <tr>\n",
       "      <th>3</th>\n",
       "      <td>C_ID_0003be3c83</td>\n",
       "      <td>8.0</td>\n",
       "      <td>225.500000</td>\n",
       "      <td>35.000</td>\n",
       "      <td>385.25</td>\n",
       "      <td>20.31250</td>\n",
       "      <td>305.5000</td>\n",
       "      <td>81.250</td>\n",
       "      <td>611.0</td>\n",
       "      <td>11.109375</td>\n",
       "      <td>112.9375</td>\n",
       "    </tr>\n",
       "    <tr>\n",
       "      <th>4</th>\n",
       "      <td>C_ID_00042d509c</td>\n",
       "      <td>17.5</td>\n",
       "      <td>NaN</td>\n",
       "      <td>185.875</td>\n",
       "      <td>NaN</td>\n",
       "      <td>101.68750</td>\n",
       "      <td>NaN</td>\n",
       "      <td>203.375</td>\n",
       "      <td>NaN</td>\n",
       "      <td>119.062500</td>\n",
       "      <td>NaN</td>\n",
       "    </tr>\n",
       "  </tbody>\n",
       "</table>\n",
       "</div>"
      ],
      "text/plain": [
       "           card_id  np_amount_min_2  np_amount_min_1  np_amount_max_2  \\\n",
       "0  C_ID_00007093c1             50.0              NaN           60.000   \n",
       "1  C_ID_000183fdda             36.0         9.750000          425.500   \n",
       "2  C_ID_0002c7c2c1             10.0        22.234375           68.750   \n",
       "3  C_ID_0003be3c83              8.0       225.500000           35.000   \n",
       "4  C_ID_00042d509c             17.5              NaN          185.875   \n",
       "\n",
       "   np_amount_max_1  np_amount_mean_2  np_amount_mean_1  np_amount_sum_2  \\\n",
       "0              NaN          55.00000               NaN          110.000   \n",
       "1           191.25         168.87500           71.9375          506.500   \n",
       "2           165.75          42.90625           79.5000          128.750   \n",
       "3           385.25          20.31250          305.5000           81.250   \n",
       "4              NaN         101.68750               NaN          203.375   \n",
       "\n",
       "   np_amount_sum_1  np_amount_std_2  np_amount_std_1  \n",
       "0              NaN         7.070312              NaN  \n",
       "1            575.5       222.375000          64.1250  \n",
       "2            238.5        30.015625          76.0000  \n",
       "3            611.0        11.109375         112.9375  \n",
       "4              NaN       119.062500              NaN  "
      ]
     },
     "execution_count": 13,
     "metadata": {},
     "output_type": "execute_result"
    }
   ],
   "source": [
    "purchase_lag_df = eda_fe.createPurchaseAmountLagFeatures(s_new_df,aggr_funcs)\n",
    "purchase_lag_df.head()"
   ]
  },
  {
   "cell_type": "code",
   "execution_count": 15,
   "metadata": {},
   "outputs": [
    {
     "data": {
      "text/plain": [
       "(179986, 11)"
      ]
     },
     "execution_count": 15,
     "metadata": {},
     "output_type": "execute_result"
    }
   ],
   "source": [
    "purchase_lag_df.shape"
   ]
  },
  {
   "cell_type": "code",
   "execution_count": 42,
   "metadata": {},
   "outputs": [],
   "source": [
    "trans_new_df = pd.merge(trans_new_df,purch_lag_df,on = 'card_id',how='inner')"
   ]
  },
  {
   "cell_type": "code",
   "execution_count": 43,
   "metadata": {},
   "outputs": [
    {
     "data": {
      "text/plain": [
       "(179986, 41)"
      ]
     },
     "execution_count": 43,
     "metadata": {},
     "output_type": "execute_result"
    }
   ],
   "source": [
    "trans_new_df.shape"
   ]
  },
  {
   "cell_type": "code",
   "execution_count": 60,
   "metadata": {},
   "outputs": [
    {
     "data": {
      "text/html": [
       "<div>\n",
       "<style scoped>\n",
       "    .dataframe tbody tr th:only-of-type {\n",
       "        vertical-align: middle;\n",
       "    }\n",
       "\n",
       "    .dataframe tbody tr th {\n",
       "        vertical-align: top;\n",
       "    }\n",
       "\n",
       "    .dataframe thead th {\n",
       "        text-align: right;\n",
       "    }\n",
       "</style>\n",
       "<table border=\"1\" class=\"dataframe\">\n",
       "  <thead>\n",
       "    <tr style=\"text-align: right;\">\n",
       "      <th></th>\n",
       "      <th>card_id</th>\n",
       "      <th>np_amount_min_2</th>\n",
       "      <th>np_amount_min_1</th>\n",
       "      <th>np_amount_max_2</th>\n",
       "      <th>np_amount_max_1</th>\n",
       "      <th>np_amount_mean_2</th>\n",
       "      <th>np_amount_mean_1</th>\n",
       "      <th>np_amount_sum_2</th>\n",
       "      <th>np_amount_sum_1</th>\n",
       "      <th>np_amount_std_2</th>\n",
       "      <th>np_amount_std_1</th>\n",
       "    </tr>\n",
       "  </thead>\n",
       "  <tbody>\n",
       "    <tr>\n",
       "      <th>0</th>\n",
       "      <td>C_ID_00007093c1</td>\n",
       "      <td>50.0</td>\n",
       "      <td>NaN</td>\n",
       "      <td>60.000</td>\n",
       "      <td>NaN</td>\n",
       "      <td>55.00000</td>\n",
       "      <td>NaN</td>\n",
       "      <td>110.000</td>\n",
       "      <td>NaN</td>\n",
       "      <td>7.070312</td>\n",
       "      <td>NaN</td>\n",
       "    </tr>\n",
       "    <tr>\n",
       "      <th>1</th>\n",
       "      <td>C_ID_000183fdda</td>\n",
       "      <td>36.0</td>\n",
       "      <td>9.750000</td>\n",
       "      <td>425.500</td>\n",
       "      <td>191.25</td>\n",
       "      <td>168.87500</td>\n",
       "      <td>71.9375</td>\n",
       "      <td>506.500</td>\n",
       "      <td>575.5</td>\n",
       "      <td>222.375000</td>\n",
       "      <td>64.1250</td>\n",
       "    </tr>\n",
       "    <tr>\n",
       "      <th>2</th>\n",
       "      <td>C_ID_0002c7c2c1</td>\n",
       "      <td>10.0</td>\n",
       "      <td>22.234375</td>\n",
       "      <td>68.750</td>\n",
       "      <td>165.75</td>\n",
       "      <td>42.90625</td>\n",
       "      <td>79.5000</td>\n",
       "      <td>128.750</td>\n",
       "      <td>238.5</td>\n",
       "      <td>30.015625</td>\n",
       "      <td>76.0000</td>\n",
       "    </tr>\n",
       "    <tr>\n",
       "      <th>3</th>\n",
       "      <td>C_ID_0003be3c83</td>\n",
       "      <td>8.0</td>\n",
       "      <td>225.500000</td>\n",
       "      <td>35.000</td>\n",
       "      <td>385.25</td>\n",
       "      <td>20.31250</td>\n",
       "      <td>305.5000</td>\n",
       "      <td>81.250</td>\n",
       "      <td>611.0</td>\n",
       "      <td>11.109375</td>\n",
       "      <td>112.9375</td>\n",
       "    </tr>\n",
       "    <tr>\n",
       "      <th>4</th>\n",
       "      <td>C_ID_00042d509c</td>\n",
       "      <td>17.5</td>\n",
       "      <td>NaN</td>\n",
       "      <td>185.875</td>\n",
       "      <td>NaN</td>\n",
       "      <td>101.68750</td>\n",
       "      <td>NaN</td>\n",
       "      <td>203.375</td>\n",
       "      <td>NaN</td>\n",
       "      <td>119.062500</td>\n",
       "      <td>NaN</td>\n",
       "    </tr>\n",
       "  </tbody>\n",
       "</table>\n",
       "</div>"
      ],
      "text/plain": [
       "           card_id  np_amount_min_2  np_amount_min_1  np_amount_max_2  \\\n",
       "0  C_ID_00007093c1             50.0              NaN           60.000   \n",
       "1  C_ID_000183fdda             36.0         9.750000          425.500   \n",
       "2  C_ID_0002c7c2c1             10.0        22.234375           68.750   \n",
       "3  C_ID_0003be3c83              8.0       225.500000           35.000   \n",
       "4  C_ID_00042d509c             17.5              NaN          185.875   \n",
       "\n",
       "   np_amount_max_1  np_amount_mean_2  np_amount_mean_1  np_amount_sum_2  \\\n",
       "0              NaN          55.00000               NaN          110.000   \n",
       "1           191.25         168.87500           71.9375          506.500   \n",
       "2           165.75          42.90625           79.5000          128.750   \n",
       "3           385.25          20.31250          305.5000           81.250   \n",
       "4              NaN         101.68750               NaN          203.375   \n",
       "\n",
       "   np_amount_sum_1  np_amount_std_2  np_amount_std_1  \n",
       "0              NaN         7.070312              NaN  \n",
       "1            575.5       222.375000          64.1250  \n",
       "2            238.5        30.015625          76.0000  \n",
       "3            611.0        11.109375         112.9375  \n",
       "4              NaN       119.062500              NaN  "
      ]
     },
     "execution_count": 60,
     "metadata": {},
     "output_type": "execute_result"
    }
   ],
   "source": [
    "purch_lag_df.head()"
   ]
  },
  {
   "cell_type": "code",
   "execution_count": 75,
   "metadata": {},
   "outputs": [
    {
     "name": "stderr",
     "output_type": "stream",
     "text": [
      "  0%|                                                                                            | 0/5 [00:00<?, ?it/s]\n",
      "100%|████████████████████████████████████████████████████████████████████████████████████| 1/1 [00:00<00:00, 46.30it/s]\u001b[A\n",
      "\n",
      "100%|███████████████████████████████████████████████████████████████████████████████████| 1/1 [00:00<00:00, 251.64it/s]\u001b[A\n",
      "\n",
      "100%|███████████████████████████████████████████████████████████████████████████████████| 1/1 [00:00<00:00, 180.09it/s]\u001b[A\n",
      "\n",
      "100%|███████████████████████████████████████████████████████████████████████████████████| 1/1 [00:00<00:00, 220.67it/s]\u001b[A\n",
      "\n",
      "100%|███████████████████████████████████████████████████████████████████████████████████| 1/1 [00:00<00:00, 314.25it/s]\u001b[A\n",
      "100%|████████████████████████████████████████████████████████████████████████████████████| 5/5 [00:00<00:00, 81.15it/s]\n"
     ]
    },
    {
     "data": {
      "text/plain": [
       "(179986, 6)"
      ]
     },
     "execution_count": 75,
     "metadata": {},
     "output_type": "execute_result"
    }
   ],
   "source": [
    "month_lag = s_new_df['month_lag'].unique()\n",
    "purch_amt_ratio_df = eda_fe.createPurchaseAmountRatioFeatures(purch_lag_df,aggr_funcs,1,month_lag)\n",
    "purch_amt_ratio_df.shape"
   ]
  },
  {
   "cell_type": "code",
   "execution_count": 76,
   "metadata": {},
   "outputs": [
    {
     "data": {
      "text/html": [
       "<div>\n",
       "<style scoped>\n",
       "    .dataframe tbody tr th:only-of-type {\n",
       "        vertical-align: middle;\n",
       "    }\n",
       "\n",
       "    .dataframe tbody tr th {\n",
       "        vertical-align: top;\n",
       "    }\n",
       "\n",
       "    .dataframe thead th {\n",
       "        text-align: right;\n",
       "    }\n",
       "</style>\n",
       "<table border=\"1\" class=\"dataframe\">\n",
       "  <thead>\n",
       "    <tr style=\"text-align: right;\">\n",
       "      <th></th>\n",
       "      <th>np_amount_min_1_2</th>\n",
       "      <th>np_amount_max_1_2</th>\n",
       "      <th>np_amount_mean_1_2</th>\n",
       "      <th>np_amount_sum_1_2</th>\n",
       "      <th>np_amount_std_1_2</th>\n",
       "      <th>card_id</th>\n",
       "    </tr>\n",
       "  </thead>\n",
       "  <tbody>\n",
       "    <tr>\n",
       "      <th>0</th>\n",
       "      <td>NaN</td>\n",
       "      <td>NaN</td>\n",
       "      <td>NaN</td>\n",
       "      <td>NaN</td>\n",
       "      <td>NaN</td>\n",
       "      <td>C_ID_00007093c1</td>\n",
       "    </tr>\n",
       "    <tr>\n",
       "      <th>1</th>\n",
       "      <td>3.691406</td>\n",
       "      <td>2.224609</td>\n",
       "      <td>2.347656</td>\n",
       "      <td>0.879883</td>\n",
       "      <td>3.468750</td>\n",
       "      <td>C_ID_000183fdda</td>\n",
       "    </tr>\n",
       "    <tr>\n",
       "      <th>2</th>\n",
       "      <td>0.449707</td>\n",
       "      <td>0.414795</td>\n",
       "      <td>0.539551</td>\n",
       "      <td>0.540039</td>\n",
       "      <td>0.395020</td>\n",
       "      <td>C_ID_0002c7c2c1</td>\n",
       "    </tr>\n",
       "    <tr>\n",
       "      <th>3</th>\n",
       "      <td>0.035492</td>\n",
       "      <td>0.090820</td>\n",
       "      <td>0.066467</td>\n",
       "      <td>0.132935</td>\n",
       "      <td>0.098389</td>\n",
       "      <td>C_ID_0003be3c83</td>\n",
       "    </tr>\n",
       "    <tr>\n",
       "      <th>4</th>\n",
       "      <td>NaN</td>\n",
       "      <td>NaN</td>\n",
       "      <td>NaN</td>\n",
       "      <td>NaN</td>\n",
       "      <td>NaN</td>\n",
       "      <td>C_ID_00042d509c</td>\n",
       "    </tr>\n",
       "  </tbody>\n",
       "</table>\n",
       "</div>"
      ],
      "text/plain": [
       "   np_amount_min_1_2  np_amount_max_1_2  np_amount_mean_1_2  \\\n",
       "0                NaN                NaN                 NaN   \n",
       "1           3.691406           2.224609            2.347656   \n",
       "2           0.449707           0.414795            0.539551   \n",
       "3           0.035492           0.090820            0.066467   \n",
       "4                NaN                NaN                 NaN   \n",
       "\n",
       "   np_amount_sum_1_2  np_amount_std_1_2          card_id  \n",
       "0                NaN                NaN  C_ID_00007093c1  \n",
       "1           0.879883           3.468750  C_ID_000183fdda  \n",
       "2           0.540039           0.395020  C_ID_0002c7c2c1  \n",
       "3           0.132935           0.098389  C_ID_0003be3c83  \n",
       "4                NaN                NaN  C_ID_00042d509c  "
      ]
     },
     "execution_count": 76,
     "metadata": {},
     "output_type": "execute_result"
    }
   ],
   "source": [
    "purch_amt_ratio_df.head()"
   ]
  },
  {
   "cell_type": "code",
   "execution_count": 78,
   "metadata": {},
   "outputs": [
    {
     "data": {
      "text/plain": [
       "(179986, 46)"
      ]
     },
     "execution_count": 78,
     "metadata": {},
     "output_type": "execute_result"
    }
   ],
   "source": [
    "trans_new_df = pd.merge(trans_new_df,purch_amt_ratio_df,on='card_id',how='inner')\n",
    "trans_new_df.shape"
   ]
  },
  {
   "cell_type": "code",
   "execution_count": 79,
   "metadata": {},
   "outputs": [],
   "source": [
    "pickle.dump(trans_new_df,open('trans_new_df.pkl','wb'))"
   ]
  },
  {
   "cell_type": "markdown",
   "metadata": {},
   "source": [
    "## 4.4 Applying simple window averaging"
   ]
  },
  {
   "cell_type": "code",
   "execution_count": 16,
   "metadata": {},
   "outputs": [
    {
     "name": "stderr",
     "output_type": "stream",
     "text": [
      "  0%|                                                                                            | 0/5 [00:00<?, ?it/s]\n",
      "100%|████████████████████████████████████████████████████████████████████████████████████| 1/1 [00:00<00:00, 51.26it/s]\u001b[A\n",
      "\n",
      "100%|███████████████████████████████████████████████████████████████████████████████████| 1/1 [00:00<00:00, 160.05it/s]\u001b[A\n",
      "\n",
      "100%|███████████████████████████████████████████████████████████████████████████████████| 1/1 [00:00<00:00, 132.93it/s]\u001b[A\n",
      "\n",
      "100%|███████████████████████████████████████████████████████████████████████████████████| 1/1 [00:00<00:00, 215.97it/s]\u001b[A\n",
      "\n",
      "100%|████████████████████████████████████████████████████████████████████████████████████| 1/1 [00:00<00:00, 94.89it/s]\u001b[A\n",
      "100%|████████████████████████████████████████████████████████████████████████████████████| 5/5 [00:00<00:00, 65.93it/s]\n"
     ]
    },
    {
     "data": {
      "text/html": [
       "<div>\n",
       "<style scoped>\n",
       "    .dataframe tbody tr th:only-of-type {\n",
       "        vertical-align: middle;\n",
       "    }\n",
       "\n",
       "    .dataframe tbody tr th {\n",
       "        vertical-align: top;\n",
       "    }\n",
       "\n",
       "    .dataframe thead th {\n",
       "        text-align: right;\n",
       "    }\n",
       "</style>\n",
       "<table border=\"1\" class=\"dataframe\">\n",
       "  <thead>\n",
       "    <tr style=\"text-align: right;\">\n",
       "      <th></th>\n",
       "      <th>np_amount_min_1_2_avg</th>\n",
       "      <th>np_amount_max_1_2_avg</th>\n",
       "      <th>np_amount_mean_1_2_avg</th>\n",
       "      <th>np_amount_sum_1_2_avg</th>\n",
       "      <th>np_amount_std_1_2_avg</th>\n",
       "      <th>card_id</th>\n",
       "    </tr>\n",
       "  </thead>\n",
       "  <tbody>\n",
       "    <tr>\n",
       "      <th>0</th>\n",
       "      <td>NaN</td>\n",
       "      <td>NaN</td>\n",
       "      <td>NaN</td>\n",
       "      <td>NaN</td>\n",
       "      <td>NaN</td>\n",
       "      <td>C_ID_00007093c1</td>\n",
       "    </tr>\n",
       "    <tr>\n",
       "      <th>1</th>\n",
       "      <td>4.875000</td>\n",
       "      <td>95.625</td>\n",
       "      <td>35.96875</td>\n",
       "      <td>287.75</td>\n",
       "      <td>32.06250</td>\n",
       "      <td>C_ID_000183fdda</td>\n",
       "    </tr>\n",
       "    <tr>\n",
       "      <th>2</th>\n",
       "      <td>11.117188</td>\n",
       "      <td>82.875</td>\n",
       "      <td>39.75000</td>\n",
       "      <td>119.25</td>\n",
       "      <td>38.00000</td>\n",
       "      <td>C_ID_0002c7c2c1</td>\n",
       "    </tr>\n",
       "    <tr>\n",
       "      <th>3</th>\n",
       "      <td>112.750000</td>\n",
       "      <td>192.625</td>\n",
       "      <td>152.75000</td>\n",
       "      <td>305.50</td>\n",
       "      <td>56.46875</td>\n",
       "      <td>C_ID_0003be3c83</td>\n",
       "    </tr>\n",
       "    <tr>\n",
       "      <th>4</th>\n",
       "      <td>NaN</td>\n",
       "      <td>NaN</td>\n",
       "      <td>NaN</td>\n",
       "      <td>NaN</td>\n",
       "      <td>NaN</td>\n",
       "      <td>C_ID_00042d509c</td>\n",
       "    </tr>\n",
       "  </tbody>\n",
       "</table>\n",
       "</div>"
      ],
      "text/plain": [
       "   np_amount_min_1_2_avg  np_amount_max_1_2_avg  np_amount_mean_1_2_avg  \\\n",
       "0                    NaN                    NaN                     NaN   \n",
       "1               4.875000                 95.625                35.96875   \n",
       "2              11.117188                 82.875                39.75000   \n",
       "3             112.750000                192.625               152.75000   \n",
       "4                    NaN                    NaN                     NaN   \n",
       "\n",
       "   np_amount_sum_1_2_avg  np_amount_std_1_2_avg          card_id  \n",
       "0                    NaN                    NaN  C_ID_00007093c1  \n",
       "1                 287.75               32.06250  C_ID_000183fdda  \n",
       "2                 119.25               38.00000  C_ID_0002c7c2c1  \n",
       "3                 305.50               56.46875  C_ID_0003be3c83  \n",
       "4                    NaN                    NaN  C_ID_00042d509c  "
      ]
     },
     "execution_count": 16,
     "metadata": {},
     "output_type": "execute_result"
    }
   ],
   "source": [
    "month_lag = s_new_df['month_lag'].unique()\n",
    "purch_avg_df = eda_fe.createPurchaseAmountWindowAvg(purchase_lag_df,aggr_funcs,1,month_lag)\n",
    "purch_avg_df.head()"
   ]
  },
  {
   "cell_type": "code",
   "execution_count": 17,
   "metadata": {},
   "outputs": [
    {
     "data": {
      "text/plain": [
       "(179986, 6)"
      ]
     },
     "execution_count": 17,
     "metadata": {},
     "output_type": "execute_result"
    }
   ],
   "source": [
    "purch_avg_df.shape"
   ]
  },
  {
   "cell_type": "code",
   "execution_count": 18,
   "metadata": {},
   "outputs": [
    {
     "data": {
      "text/plain": [
       "(179986, 51)"
      ]
     },
     "execution_count": 18,
     "metadata": {},
     "output_type": "execute_result"
    }
   ],
   "source": [
    "trans_new_df = pd.merge(trans_new_df,purch_avg_df,on='card_id',how='inner')\n",
    "trans_new_df.shape"
   ]
  },
  {
   "cell_type": "code",
   "execution_count": 19,
   "metadata": {},
   "outputs": [],
   "source": [
    "pickle.dump(trans_new_df,open('trans_new_df.pkl','wb'))"
   ]
  },
  {
   "cell_type": "code",
   "execution_count": 20,
   "metadata": {},
   "outputs": [
    {
     "data": {
      "text/plain": [
       "Index(['card_id', 'category_1_mode', 'category_1_nunique', 'category_2_mode',\n",
       "       'category_2_nunique', 'category_3_mode', 'category_3_nunique',\n",
       "       'city_id_mode', 'city_id_nunique', 'state_id_mode', 'state_id_nunique',\n",
       "       'subsector_id_mode', 'subsector_id_nunique',\n",
       "       'merchant_category_id_mode', 'merchant_category_id_nunique', 'day_mode',\n",
       "       'day_min', 'day_count', 'day_nunique', 'wday_mode', 'wday_min',\n",
       "       'wday_count', 'wday_nunique', 'month_mode', 'month_min', 'month_count',\n",
       "       'month_nunique', 'year_mode', 'year_min', 'year_count', 'year_nunique',\n",
       "       'np_amount_min_2', 'np_amount_min_1', 'np_amount_max_2',\n",
       "       'np_amount_max_1', 'np_amount_mean_2', 'np_amount_mean_1',\n",
       "       'np_amount_sum_2', 'np_amount_sum_1', 'np_amount_std_2',\n",
       "       'np_amount_std_1', 'np_amount_min_1_2', 'np_amount_max_1_2',\n",
       "       'np_amount_mean_1_2', 'np_amount_sum_1_2', 'np_amount_std_1_2',\n",
       "       'np_amount_min_1_2_avg', 'np_amount_max_1_2_avg',\n",
       "       'np_amount_mean_1_2_avg', 'np_amount_sum_1_2_avg',\n",
       "       'np_amount_std_1_2_avg'],\n",
       "      dtype='object')"
      ]
     },
     "execution_count": 20,
     "metadata": {},
     "output_type": "execute_result"
    }
   ],
   "source": [
    "trans_new_df.columns"
   ]
  },
  {
   "cell_type": "markdown",
   "metadata": {},
   "source": [
    "## 4.5 Creating installment related features"
   ]
  },
  {
   "cell_type": "code",
   "execution_count": 32,
   "metadata": {},
   "outputs": [],
   "source": [
    "aggr_funcs = ['mode','nunique','min','count']"
   ]
  },
  {
   "cell_type": "code",
   "execution_count": 21,
   "metadata": {},
   "outputs": [
    {
     "name": "stderr",
     "output_type": "stream",
     "text": [
      "100%|███████████████████████████████████████████████████████████████████████████████████| 4/4 [08:55<00:00, 133.76s/it]\n"
     ]
    },
    {
     "data": {
      "text/plain": [
       "(179986, 55)"
      ]
     },
     "execution_count": 21,
     "metadata": {},
     "output_type": "execute_result"
    }
   ],
   "source": [
    "for func in tqdm(aggr_funcs):\n",
    "    trans_new_df = pd.merge(trans_new_df,eda_fe.computeCategoricalAggr(s_new_df,'installments',func),on='card_id',how='inner')\n",
    "trans_new_df.shape"
   ]
  },
  {
   "cell_type": "code",
   "execution_count": 23,
   "metadata": {},
   "outputs": [],
   "source": [
    "pickle.dump(trans_new_df,open('trans_new_df.pkl','wb'))"
   ]
  },
  {
   "cell_type": "code",
   "execution_count": 3,
   "metadata": {},
   "outputs": [],
   "source": [
    "s_new_df = pickle.load(open('s_new_df.pkl','rb'))\n",
    "trans_new_df = pickle.load(open('trans_new_df.pkl','rb'))"
   ]
  },
  {
   "cell_type": "code",
   "execution_count": 4,
   "metadata": {},
   "outputs": [
    {
     "name": "stderr",
     "output_type": "stream",
     "text": [
      "\r",
      "  0%|                                                                                           | 0/15 [00:00<?, ?it/s]"
     ]
    },
    {
     "name": "stdout",
     "output_type": "stream",
     "text": [
      "Category of Column :  1\n"
     ]
    },
    {
     "name": "stderr",
     "output_type": "stream",
     "text": [
      "\r",
      "  7%|█████▌                                                                             | 1/15 [00:00<00:09,  1.44it/s]"
     ]
    },
    {
     "name": "stdout",
     "output_type": "stream",
     "text": [
      "Category of Column :  -1\n"
     ]
    },
    {
     "name": "stderr",
     "output_type": "stream",
     "text": [
      "\r",
      " 13%|███████████                                                                        | 2/15 [00:00<00:07,  1.77it/s]"
     ]
    },
    {
     "name": "stdout",
     "output_type": "stream",
     "text": [
      "***********Merge_df**********\n",
      "(89113, 11)\n",
      "Category of Column :  3\n"
     ]
    },
    {
     "name": "stderr",
     "output_type": "stream",
     "text": [
      "\r",
      " 20%|████████████████▌                                                                  | 3/15 [00:01<00:05,  2.12it/s]"
     ]
    },
    {
     "name": "stdout",
     "output_type": "stream",
     "text": [
      "***********Merge_df**********\n",
      "(91072, 16)\n",
      "Category of Column :  2\n"
     ]
    },
    {
     "name": "stderr",
     "output_type": "stream",
     "text": [
      " 33%|███████████████████████████▋                                                       | 5/15 [00:01<00:03,  2.95it/s]"
     ]
    },
    {
     "name": "stdout",
     "output_type": "stream",
     "text": [
      "***********Merge_df**********\n",
      "(92720, 21)\n",
      "Category of Column :  12\n",
      "***********Merge_df**********\n",
      "(92926, 26)\n",
      "Category of Column :  6\n"
     ]
    },
    {
     "name": "stderr",
     "output_type": "stream",
     "text": [
      "\r",
      " 40%|█████████████████████████████████▏                                                 | 6/15 [00:01<00:02,  3.38it/s]"
     ]
    },
    {
     "name": "stdout",
     "output_type": "stream",
     "text": [
      "***********Merge_df**********\n",
      "(93374, 31)\n",
      "Category of Column :  0\n"
     ]
    },
    {
     "name": "stderr",
     "output_type": "stream",
     "text": [
      "\r",
      " 47%|██████████████████████████████████████▋                                            | 7/15 [00:02<00:04,  1.87it/s]"
     ]
    },
    {
     "name": "stdout",
     "output_type": "stream",
     "text": [
      "***********Merge_df**********\n",
      "(178612, 36)\n",
      "Category of Column :  4\n"
     ]
    },
    {
     "name": "stderr",
     "output_type": "stream",
     "text": [
      "\r",
      " 53%|████████████████████████████████████████████▎                                      | 8/15 [00:03<00:03,  2.06it/s]"
     ]
    },
    {
     "name": "stdout",
     "output_type": "stream",
     "text": [
      "***********Merge_df**********\n",
      "(179138, 41)\n",
      "Category of Column :  10\n"
     ]
    },
    {
     "name": "stderr",
     "output_type": "stream",
     "text": [
      "\r",
      " 60%|█████████████████████████████████████████████████▊                                 | 9/15 [00:03<00:02,  2.22it/s]"
     ]
    },
    {
     "name": "stdout",
     "output_type": "stream",
     "text": [
      "***********Merge_df**********\n",
      "(179566, 46)\n",
      "Category of Column :  5\n"
     ]
    },
    {
     "name": "stderr",
     "output_type": "stream",
     "text": [
      "\r",
      " 67%|██████████████████████████████████████████████████████▋                           | 10/15 [00:04<00:02,  2.31it/s]"
     ]
    },
    {
     "name": "stdout",
     "output_type": "stream",
     "text": [
      "***********Merge_df**********\n",
      "(179853, 51)\n",
      "Category of Column :  9\n"
     ]
    },
    {
     "name": "stderr",
     "output_type": "stream",
     "text": [
      "\r",
      " 73%|████████████████████████████████████████████████████████████▏                     | 11/15 [00:04<00:01,  2.42it/s]"
     ]
    },
    {
     "name": "stdout",
     "output_type": "stream",
     "text": [
      "***********Merge_df**********\n",
      "(179880, 56)\n",
      "Category of Column :  8\n"
     ]
    },
    {
     "name": "stderr",
     "output_type": "stream",
     "text": [
      "\r",
      " 80%|█████████████████████████████████████████████████████████████████▌                | 12/15 [00:04<00:01,  2.46it/s]"
     ]
    },
    {
     "name": "stdout",
     "output_type": "stream",
     "text": [
      "***********Merge_df**********\n",
      "(179947, 61)\n",
      "Category of Column :  7\n"
     ]
    },
    {
     "name": "stderr",
     "output_type": "stream",
     "text": [
      "\r",
      " 87%|███████████████████████████████████████████████████████████████████████           | 13/15 [00:05<00:00,  2.40it/s]"
     ]
    },
    {
     "name": "stdout",
     "output_type": "stream",
     "text": [
      "***********Merge_df**********\n",
      "(179982, 66)\n",
      "Category of Column :  11\n"
     ]
    },
    {
     "name": "stderr",
     "output_type": "stream",
     "text": [
      "\r",
      " 93%|████████████████████████████████████████████████████████████████████████████▌     | 14/15 [00:05<00:00,  2.29it/s]"
     ]
    },
    {
     "name": "stdout",
     "output_type": "stream",
     "text": [
      "***********Merge_df**********\n",
      "(179986, 71)\n",
      "Category of Column :  999\n"
     ]
    },
    {
     "name": "stderr",
     "output_type": "stream",
     "text": [
      "100%|██████████████████████████████████████████████████████████████████████████████████| 15/15 [00:06<00:00,  2.45it/s]"
     ]
    },
    {
     "name": "stdout",
     "output_type": "stream",
     "text": [
      "***********Merge_df**********\n",
      "(179986, 76)\n"
     ]
    },
    {
     "name": "stderr",
     "output_type": "stream",
     "text": [
      "\n"
     ]
    }
   ],
   "source": [
    "temp_df = eda_fe.generateAggrColumns(s_new_df,'installments','new_purchase_amount',aggr_funcs,'install',True)"
   ]
  },
  {
   "cell_type": "code",
   "execution_count": 6,
   "metadata": {},
   "outputs": [],
   "source": [
    "trans_new_df = pd.merge(trans_new_df,temp_df,on='card_id',how='inner')"
   ]
  },
  {
   "cell_type": "code",
   "execution_count": 8,
   "metadata": {},
   "outputs": [],
   "source": [
    "pickle.dump(trans_new_df,open('trans_new_df.pkl','wb'))"
   ]
  },
  {
   "cell_type": "markdown",
   "metadata": {},
   "source": [
    "## 4.6 Creating encoded features for merchant_category_id and subsector_id"
   ]
  },
  {
   "cell_type": "code",
   "execution_count": 14,
   "metadata": {},
   "outputs": [
    {
     "name": "stdout",
     "output_type": "stream",
     "text": [
      "Performing tfidf vectorization on  merchant_category_id ...\n",
      "Explained Variance ration with  40  components :  65.78329288138652\n",
      "Time taken for completion :  -54.11445480000003\n",
      "Performing tfidf vectorization on  subsector_id ...\n",
      "Explained Variance ration with  10  components :  70.83104713505453\n",
      "Time taken for completion :  -47.477130500000044\n"
     ]
    }
   ],
   "source": [
    "svd_cat_id_df,new_svd_merch_cat_obj = eda_fe.createSvdFeatures(s_new_df,'card_id','merchant_category_id',40)\n",
    "svd_ssector_id_df,new_svd_ssector_obj = eda_fe.createSvdFeatures(s_new_df,'card_id','subsector_id',10)"
   ]
  },
  {
   "cell_type": "code",
   "execution_count": 15,
   "metadata": {},
   "outputs": [],
   "source": [
    "pickle.dump(new_svd_merch_cat_obj,open('new_svd_merchcat_obj.pkl','wb'))\n",
    "pickle.dump(new_svd_ssector_obj,open('new_svd_ssector_obj.pkl','wb'))"
   ]
  },
  {
   "cell_type": "code",
   "execution_count": 16,
   "metadata": {},
   "outputs": [],
   "source": [
    "svd_cat_id_df.drop(['list'],axis=1,inplace=True)\n",
    "svd_ssector_id_df.drop(['list'],axis=1,inplace=True)"
   ]
  },
  {
   "cell_type": "code",
   "execution_count": 18,
   "metadata": {},
   "outputs": [
    {
     "data": {
      "text/plain": [
       "(179986, 180)"
      ]
     },
     "execution_count": 18,
     "metadata": {},
     "output_type": "execute_result"
    }
   ],
   "source": [
    "trans_new_df = pd.merge(trans_new_df,svd_cat_id_df,on='card_id',how='inner')\n",
    "trans_new_df = pd.merge(trans_new_df,svd_ssector_id_df,on='card_id',how='inner')\n",
    "trans_new_df.shape"
   ]
  },
  {
   "cell_type": "code",
   "execution_count": 20,
   "metadata": {},
   "outputs": [
    {
     "name": "stdout",
     "output_type": "stream",
     "text": [
      "Time taken for completion :  -64.70854950000012\n",
      "Time taken for completion :  -59.57170659999997\n"
     ]
    }
   ],
   "source": [
    "w2v_cat_id_df,new_w2v_merch_cat_obj = eda_fe.createWord2VecFeatures(s_new_df,'card_id','merchant_category_id',40)\n",
    "w2v_ssector_id_df,new_w2v_ssector_obj = eda_fe.createWord2VecFeatures(s_new_df,'card_id','subsector_id',10)"
   ]
  },
  {
   "cell_type": "code",
   "execution_count": 21,
   "metadata": {},
   "outputs": [],
   "source": [
    "pickle.dump(new_w2v_merch_cat_obj,open('new_w2v_merchcat_obj.pkl','wb'))\n",
    "pickle.dump(new_w2v_ssector_obj,open('new_w2v_ssector_obj.pkl','wb'))"
   ]
  },
  {
   "cell_type": "code",
   "execution_count": 24,
   "metadata": {},
   "outputs": [
    {
     "data": {
      "text/plain": [
       "(179986, 230)"
      ]
     },
     "execution_count": 24,
     "metadata": {},
     "output_type": "execute_result"
    }
   ],
   "source": [
    "trans_new_df = pd.merge(trans_new_df,w2v_cat_id_df,on='card_id',how='inner')\n",
    "trans_new_df = pd.merge(trans_new_df,w2v_ssector_id_df,on='card_id',how='inner')\n",
    "trans_new_df.shape"
   ]
  },
  {
   "cell_type": "code",
   "execution_count": 25,
   "metadata": {},
   "outputs": [],
   "source": [
    "pickle.dump(trans_new_df,open('trans_new_df.pkl','wb'))"
   ]
  },
  {
   "cell_type": "markdown",
   "metadata": {},
   "source": [
    "## 4.7 Create Date related boolean features"
   ]
  },
  {
   "cell_type": "code",
   "execution_count": 27,
   "metadata": {},
   "outputs": [
    {
     "name": "stdout",
     "output_type": "stream",
     "text": [
      "time taken in seconds :  1.673487199999954\n"
     ]
    }
   ],
   "source": [
    "start_time = time.clock()\n",
    "s_new_df['purchase_date'] = pd.to_datetime(s_new_df['purchase_date'])\n",
    "s_new_df['day'] = s_new_df['purchase_date'].dt.day\n",
    "s_new_df['wday'] = s_new_df['purchase_date'].dt.weekday\n",
    "s_new_df['month'] = s_new_df['purchase_date'].dt.month\n",
    "s_new_df['year'] = s_new_df['purchase_date'].dt.year\n",
    "end_time = time.clock()\n",
    "print(\"time taken in seconds : \",end_time-start_time)"
   ]
  },
  {
   "cell_type": "code",
   "execution_count": 28,
   "metadata": {},
   "outputs": [
    {
     "name": "stdout",
     "output_type": "stream",
     "text": [
      "Creating is_purchase_month_end...\n",
      "Creating is_purchase_month_start...\n",
      "Creating is_purchase_quarter_start...\n",
      "Creating is_purchase_quarter_end...\n",
      "Creating is_purchase_year_end...\n",
      "Creating is_purchase_year_start...\n",
      "Creating is_christmas...\n",
      "Creating is_mothers_day...\n",
      "Creating is_childrens_day...\n",
      "Creating is_valentines_day...\n",
      "Creating is_fathers_day...\n",
      "Time taken for completion :  500.2914159999998\n"
     ]
    }
   ],
   "source": [
    "temp_df = eda_fe.createDateRelatedBoolFeat(s_new_df)"
   ]
  },
  {
   "cell_type": "code",
   "execution_count": 33,
   "metadata": {},
   "outputs": [
    {
     "name": "stderr",
     "output_type": "stream",
     "text": [
      "  0%|                                                                                           | 0/11 [00:00<?, ?it/s]\n",
      "  0%|                                                                                            | 0/4 [00:00<?, ?it/s]\u001b[A\n",
      " 25%|█████████████████████                                                               | 1/4 [00:50<02:30, 50.29s/it]\u001b[A\n",
      " 50%|██████████████████████████████████████████                                          | 2/4 [03:56<03:02, 91.09s/it]\u001b[A\n",
      " 75%|███████████████████████████████████████████████████████████████                     | 3/4 [04:14<01:09, 69.11s/it]\u001b[A\n",
      "100%|████████████████████████████████████████████████████████████████████████████████████| 4/4 [04:50<00:00, 72.59s/it]\u001b[A\n",
      "  9%|███████▍                                                                          | 1/11 [04:50<48:23, 290.37s/it]\n",
      "  0%|                                                                                            | 0/4 [00:00<?, ?it/s]\u001b[A\n",
      " 25%|█████████████████████                                                               | 1/4 [00:52<02:36, 52.15s/it]\u001b[A\n",
      " 50%|█████████████████████████████████████████▌                                         | 2/4 [04:32<03:25, 102.75s/it]\u001b[A\n",
      " 75%|███████████████████████████████████████████████████████████████                     | 3/4 [05:09<01:22, 82.76s/it]\u001b[A\n",
      "100%|████████████████████████████████████████████████████████████████████████████████████| 4/4 [06:18<00:00, 94.60s/it]\u001b[A\n",
      " 18%|██████████████▉                                                                   | 2/11 [11:08<47:31, 316.78s/it]\n",
      "  0%|                                                                                            | 0/4 [00:00<?, ?it/s]\u001b[A\n",
      " 25%|████████████████████▊                                                              | 1/4 [01:40<05:00, 100.08s/it]\u001b[A\n",
      " 50%|█████████████████████████████████████████▌                                         | 2/4 [07:39<05:55, 177.74s/it]\u001b[A\n",
      " 75%|██████████████████████████████████████████████████████████████▎                    | 3/4 [08:12<02:14, 134.49s/it]\u001b[A\n",
      "100%|███████████████████████████████████████████████████████████████████████████████████| 4/4 [09:26<00:00, 141.61s/it]\u001b[A\n",
      " 27%|██████████████████████▎                                                           | 3/11 [20:35<52:13, 391.69s/it]\n",
      "  0%|                                                                                            | 0/4 [00:00<?, ?it/s]\u001b[A\n",
      " 25%|█████████████████████                                                               | 1/4 [01:38<04:56, 98.84s/it]\u001b[A\n",
      " 50%|█████████████████████████████████████████▌                                         | 2/4 [07:36<05:52, 176.38s/it]\u001b[A\n",
      " 75%|██████████████████████████████████████████████████████████████▎                    | 3/4 [08:20<02:16, 136.70s/it]\u001b[A\n",
      "100%|███████████████████████████████████████████████████████████████████████████████████| 4/4 [09:31<00:00, 142.84s/it]\u001b[A\n",
      " 36%|█████████████████████████████▊                                                    | 4/11 [30:06<51:59, 445.59s/it]\n",
      "  0%|                                                                                            | 0/4 [00:00<?, ?it/s]\u001b[A\n",
      " 25%|█████████████████████                                                               | 1/4 [00:52<02:38, 52.81s/it]\u001b[A\n",
      " 50%|██████████████████████████████████████████                                          | 2/4 [03:41<02:54, 87.47s/it]\u001b[A\n",
      " 75%|███████████████████████████████████████████████████████████████                     | 3/4 [03:58<01:06, 66.39s/it]\u001b[A\n",
      "100%|████████████████████████████████████████████████████████████████████████████████████| 4/4 [04:31<00:00, 67.89s/it]\u001b[A\n",
      " 45%|█████████████████████████████████████▎                                            | 5/11 [34:38<39:20, 393.39s/it]\n",
      "  0%|                                                                                            | 0/4 [00:00<?, ?it/s]\u001b[A\n",
      " 25%|█████████████████████                                                               | 1/4 [00:47<02:22, 47.56s/it]\u001b[A\n",
      " 50%|██████████████████████████████████████████                                          | 2/4 [03:35<02:47, 83.62s/it]\u001b[A\n",
      " 75%|███████████████████████████████████████████████████████████████                     | 3/4 [03:52<01:03, 63.72s/it]\u001b[A\n",
      "100%|████████████████████████████████████████████████████████████████████████████████████| 4/4 [04:25<00:00, 66.36s/it]\u001b[A\n",
      " 55%|████████████████████████████████████████████▋                                     | 6/11 [39:03<29:35, 355.01s/it]\n",
      "  0%|                                                                                            | 0/4 [00:00<?, ?it/s]\u001b[A\n",
      " 25%|█████████████████████                                                               | 1/4 [00:47<02:23, 47.73s/it]\u001b[A\n",
      " 50%|██████████████████████████████████████████                                          | 2/4 [03:32<02:45, 82.96s/it]\u001b[A\n",
      " 75%|███████████████████████████████████████████████████████████████                     | 3/4 [03:51<01:03, 63.63s/it]\u001b[A\n",
      "100%|████████████████████████████████████████████████████████████████████████████████████| 4/4 [04:27<00:00, 66.77s/it]\u001b[A\n",
      " 64%|████████████████████████████████████████████████████▏                             | 7/11 [43:30<21:54, 328.63s/it]\n",
      "  0%|                                                                                            | 0/4 [00:00<?, ?it/s]\u001b[A\n",
      " 25%|█████████████████████                                                               | 1/4 [00:47<02:22, 47.35s/it]\u001b[A\n",
      " 50%|██████████████████████████████████████████                                          | 2/4 [03:34<02:46, 83.22s/it]\u001b[A\n",
      " 75%|███████████████████████████████████████████████████████████████                     | 3/4 [03:51<01:03, 63.41s/it]\u001b[A\n",
      "100%|████████████████████████████████████████████████████████████████████████████████████| 4/4 [04:24<00:00, 66.11s/it]\u001b[A\n",
      " 73%|███████████████████████████████████████████████████████████▋                      | 8/11 [47:55<15:28, 309.37s/it]\n",
      "  0%|                                                                                            | 0/4 [00:00<?, ?it/s]\u001b[A\n",
      " 25%|█████████████████████                                                               | 1/4 [00:48<02:24, 48.11s/it]\u001b[A\n",
      " 50%|██████████████████████████████████████████                                          | 2/4 [03:33<02:46, 83.28s/it]\u001b[A\n",
      " 75%|███████████████████████████████████████████████████████████████                     | 3/4 [03:50<01:03, 63.49s/it]\u001b[A\n",
      "100%|████████████████████████████████████████████████████████████████████████████████████| 4/4 [04:23<00:00, 65.94s/it]\u001b[A\n",
      " 82%|███████████████████████████████████████████████████████████████████               | 9/11 [52:18<09:51, 295.69s/it]\n",
      "  0%|                                                                                            | 0/4 [00:00<?, ?it/s]\u001b[A\n",
      " 25%|█████████████████████                                                               | 1/4 [00:47<02:21, 47.14s/it]\u001b[A\n",
      " 50%|██████████████████████████████████████████                                          | 2/4 [03:31<02:44, 82.40s/it]\u001b[A\n",
      " 75%|███████████████████████████████████████████████████████████████                     | 3/4 [03:48<01:02, 62.80s/it]\u001b[A\n",
      "100%|████████████████████████████████████████████████████████████████████████████████████| 4/4 [04:21<00:00, 65.47s/it]\u001b[A\n",
      " 91%|█████████████████████████████████████████████████████████████████████████▋       | 10/11 [56:40<04:45, 285.55s/it]\n",
      "  0%|                                                                                            | 0/4 [00:00<?, ?it/s]\u001b[A\n",
      " 25%|█████████████████████                                                               | 1/4 [00:47<02:21, 47.26s/it]\u001b[A\n",
      " 50%|██████████████████████████████████████████                                          | 2/4 [03:34<02:46, 83.31s/it]\u001b[A\n",
      " 75%|███████████████████████████████████████████████████████████████                     | 3/4 [03:51<01:03, 63.36s/it]\u001b[A\n",
      "100%|████████████████████████████████████████████████████████████████████████████████████| 4/4 [04:24<00:00, 66.14s/it]\u001b[A\n",
      "100%|███████████████████████████████████████████████████████████████████████████████| 11/11 [1:01:05<00:00, 333.22s/it]\n"
     ]
    }
   ],
   "source": [
    "bool_datetime_cols = [col for col in s_new_df.columns if col.startswith('is_')]\n",
    "stat_func = ['mode','min','count','nunique']\n",
    "for col in tqdm(bool_datetime_cols):\n",
    "    for func in tqdm(stat_func): \n",
    "        trans_new_df = pd.merge(trans_new_df,eda_fe.computeCategoricalAggr(s_new_df,col,func),on='card_id',how='inner')"
   ]
  },
  {
   "cell_type": "code",
   "execution_count": 35,
   "metadata": {},
   "outputs": [],
   "source": [
    "pickle.dump(trans_new_df,open('trans_new_df.pkl','wb'))"
   ]
  },
  {
   "cell_type": "markdown",
   "metadata": {},
   "source": [
    "## Summary of the notebook\n",
    "\n",
    "### Strategy to follow\n",
    "* Perform feature transformation on each of the dataframe(train_data,historical_transactions,new_merchant_transactions and merchants_data,\n",
    "new_merchant_transactions is same as historical_transactions with card_ids from test_df) and merge them all in the end.\n",
    "* Also selective sampling of the data from historical_transactions,new_merchant_transactions and merchants_df has to be done to form the train data.\n",
    "* After the sampling,transformation and imputation of missing data is done, we merge the transformed data.\n",
    "\n",
    "### Train_data\n",
    "* Performed transformation of train_data,apart from whatever was done in EDA, seperate bins were formed for feature_1 and feature_2 based on the observations of box-plots in train_df.\n",
    "* Imputations were done for category_2 and category_3 based on their modal/max occuring category.\n",
    "\n",
    "### Historical_transactions\n",
    "* Computing Statistical aggregation over categorical data.\n",
    "* Created date-time related features.\n",
    "* Created purchase amount features with aggregation over different month_lags.\n",
    "* Created purchase amount ratios wrt above features.\n",
    "#### ratios were calculated as follows:\n",
    "\t * np_amount_min_0_2 = purch_lag_df['np_amount_min_0']/purch_lag_df['np_amount_min_2']\n",
    "\t * where 0 represents no time lag and 2 represents a shift of -2\n",
    "\t * ratios were calculated over a lag-shift of -1 and -2\n",
    "* Created window averages wrt above features.(window_size=2,3)\n",
    "* Created features related to installments.\n",
    "* Created tfidf and word2vec features for merchant_category_id and subsector_id.\n",
    "\t* Applied svd on tfidf vectors and reduced the size of vectors to 40 and 10 respectively which explains about 75% of the variance in data.\n",
    "\t* The size of the word2vec vectors is 30 and 10 respectively.\n",
    "* Create purchase_date related boolean features.\n",
    "\n",
    "### New Merchants transactions data\n",
    "* Applied same set of transformation as for historical transactions.\n",
    "\n",
    "#### Merging of all the above generated dataframes and filling up of the missing values happens in the next notebook Feature Imputation.ipynb"
   ]
  },
  {
   "cell_type": "code",
   "execution_count": null,
   "metadata": {},
   "outputs": [],
   "source": []
  }
 ],
 "metadata": {
  "kernelspec": {
   "display_name": "Python 3",
   "language": "python",
   "name": "python3"
  },
  "language_info": {
   "codemirror_mode": {
    "name": "ipython",
    "version": 3
   },
   "file_extension": ".py",
   "mimetype": "text/x-python",
   "name": "python",
   "nbconvert_exporter": "python",
   "pygments_lexer": "ipython3",
   "version": "3.8.5"
  }
 },
 "nbformat": 4,
 "nbformat_minor": 4
}
