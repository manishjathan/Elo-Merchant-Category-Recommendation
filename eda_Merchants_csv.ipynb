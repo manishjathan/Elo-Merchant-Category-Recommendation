{
 "cells": [
  {
   "cell_type": "markdown",
   "metadata": {},
   "source": [
    "# Attribute Exploration and feature discovery  on merchants_df"
   ]
  },
  {
   "cell_type": "code",
   "execution_count": 1,
   "metadata": {},
   "outputs": [],
   "source": [
    "import pandas as pd\n",
    "import numpy as np\n",
    "import matplotlib.pyplot as plt\n",
    "import seaborn as sns\n",
    "import eda_fe_module as eda_fe\n",
    "import pickle\n",
    "from scipy import stats"
   ]
  },
  {
   "cell_type": "code",
   "execution_count": 2,
   "metadata": {},
   "outputs": [],
   "source": [
    "## Making this  lambda functions globally accessible\n",
    "mode_lambda_func = lambda x : stats.mode(x)[0][0]\n",
    "nunique_lambda_func = lambda x : x.nunique()\n",
    "count_lambda_func = lambda x : len(x)\n",
    "min_lambda_func = lambda x : x.value_counts().index[-1]\n",
    "max_lambda_func = lambda x : x.value_counts().index[0]"
   ]
  },
  {
   "cell_type": "code",
   "execution_count": 3,
   "metadata": {},
   "outputs": [],
   "source": [
    "def getPercentageOfNullEntries(df,col):\n",
    "    \"\"\"\n",
    "    Input : df : dataFrame whose column has to be checked for null values\n",
    "           col : column name\n",
    "    Output : \n",
    "        prints number of null values and percentage of null entries\n",
    "    \"\"\"\n",
    "    null_values = df[col].isnull().sum()\n",
    "    print(\"Number of null entries : \",null_values)\n",
    "    print(\"Percentage of null entries : \",(null_values*100)/df.shape[0])"
   ]
  },
  {
   "cell_type": "code",
   "execution_count": 2,
   "metadata": {},
   "outputs": [],
   "source": [
    "merchants_df = pd.read_csv('merchants.csv')"
   ]
  },
  {
   "cell_type": "code",
   "execution_count": 5,
   "metadata": {},
   "outputs": [
    {
     "data": {
      "text/html": [
       "<div>\n",
       "<style scoped>\n",
       "    .dataframe tbody tr th:only-of-type {\n",
       "        vertical-align: middle;\n",
       "    }\n",
       "\n",
       "    .dataframe tbody tr th {\n",
       "        vertical-align: top;\n",
       "    }\n",
       "\n",
       "    .dataframe thead th {\n",
       "        text-align: right;\n",
       "    }\n",
       "</style>\n",
       "<table border=\"1\" class=\"dataframe\">\n",
       "  <thead>\n",
       "    <tr style=\"text-align: right;\">\n",
       "      <th></th>\n",
       "      <th>merchant_id</th>\n",
       "      <th>merchant_group_id</th>\n",
       "      <th>merchant_category_id</th>\n",
       "      <th>subsector_id</th>\n",
       "      <th>numerical_1</th>\n",
       "      <th>numerical_2</th>\n",
       "      <th>category_1</th>\n",
       "      <th>most_recent_sales_range</th>\n",
       "      <th>most_recent_purchases_range</th>\n",
       "      <th>avg_sales_lag3</th>\n",
       "      <th>...</th>\n",
       "      <th>avg_sales_lag6</th>\n",
       "      <th>avg_purchases_lag6</th>\n",
       "      <th>active_months_lag6</th>\n",
       "      <th>avg_sales_lag12</th>\n",
       "      <th>avg_purchases_lag12</th>\n",
       "      <th>active_months_lag12</th>\n",
       "      <th>category_4</th>\n",
       "      <th>city_id</th>\n",
       "      <th>state_id</th>\n",
       "      <th>category_2</th>\n",
       "    </tr>\n",
       "  </thead>\n",
       "  <tbody>\n",
       "    <tr>\n",
       "      <th>0</th>\n",
       "      <td>M_ID_838061e48c</td>\n",
       "      <td>8353</td>\n",
       "      <td>792</td>\n",
       "      <td>9</td>\n",
       "      <td>-0.057471</td>\n",
       "      <td>-0.057471</td>\n",
       "      <td>N</td>\n",
       "      <td>E</td>\n",
       "      <td>E</td>\n",
       "      <td>-0.40</td>\n",
       "      <td>...</td>\n",
       "      <td>-2.25</td>\n",
       "      <td>18.666667</td>\n",
       "      <td>6</td>\n",
       "      <td>-2.32</td>\n",
       "      <td>13.916667</td>\n",
       "      <td>12</td>\n",
       "      <td>N</td>\n",
       "      <td>242</td>\n",
       "      <td>9</td>\n",
       "      <td>1.0</td>\n",
       "    </tr>\n",
       "    <tr>\n",
       "      <th>1</th>\n",
       "      <td>M_ID_9339d880ad</td>\n",
       "      <td>3184</td>\n",
       "      <td>840</td>\n",
       "      <td>20</td>\n",
       "      <td>-0.057471</td>\n",
       "      <td>-0.057471</td>\n",
       "      <td>N</td>\n",
       "      <td>E</td>\n",
       "      <td>E</td>\n",
       "      <td>-0.72</td>\n",
       "      <td>...</td>\n",
       "      <td>-0.74</td>\n",
       "      <td>1.291667</td>\n",
       "      <td>6</td>\n",
       "      <td>-0.57</td>\n",
       "      <td>1.687500</td>\n",
       "      <td>12</td>\n",
       "      <td>N</td>\n",
       "      <td>22</td>\n",
       "      <td>16</td>\n",
       "      <td>1.0</td>\n",
       "    </tr>\n",
       "    <tr>\n",
       "      <th>2</th>\n",
       "      <td>M_ID_e726bbae1e</td>\n",
       "      <td>447</td>\n",
       "      <td>690</td>\n",
       "      <td>1</td>\n",
       "      <td>-0.057471</td>\n",
       "      <td>-0.057471</td>\n",
       "      <td>N</td>\n",
       "      <td>E</td>\n",
       "      <td>E</td>\n",
       "      <td>-82.13</td>\n",
       "      <td>...</td>\n",
       "      <td>-82.13</td>\n",
       "      <td>260.000000</td>\n",
       "      <td>2</td>\n",
       "      <td>-82.13</td>\n",
       "      <td>260.000000</td>\n",
       "      <td>2</td>\n",
       "      <td>N</td>\n",
       "      <td>-1</td>\n",
       "      <td>5</td>\n",
       "      <td>5.0</td>\n",
       "    </tr>\n",
       "    <tr>\n",
       "      <th>3</th>\n",
       "      <td>M_ID_a70e9c5f81</td>\n",
       "      <td>5026</td>\n",
       "      <td>792</td>\n",
       "      <td>9</td>\n",
       "      <td>-0.057471</td>\n",
       "      <td>-0.057471</td>\n",
       "      <td>Y</td>\n",
       "      <td>E</td>\n",
       "      <td>E</td>\n",
       "      <td>NaN</td>\n",
       "      <td>...</td>\n",
       "      <td>NaN</td>\n",
       "      <td>4.666667</td>\n",
       "      <td>6</td>\n",
       "      <td>NaN</td>\n",
       "      <td>3.833333</td>\n",
       "      <td>12</td>\n",
       "      <td>Y</td>\n",
       "      <td>-1</td>\n",
       "      <td>-1</td>\n",
       "      <td>NaN</td>\n",
       "    </tr>\n",
       "    <tr>\n",
       "      <th>4</th>\n",
       "      <td>M_ID_64456c37ce</td>\n",
       "      <td>2228</td>\n",
       "      <td>222</td>\n",
       "      <td>21</td>\n",
       "      <td>-0.057471</td>\n",
       "      <td>-0.057471</td>\n",
       "      <td>Y</td>\n",
       "      <td>E</td>\n",
       "      <td>E</td>\n",
       "      <td>NaN</td>\n",
       "      <td>...</td>\n",
       "      <td>NaN</td>\n",
       "      <td>0.361111</td>\n",
       "      <td>6</td>\n",
       "      <td>NaN</td>\n",
       "      <td>0.347222</td>\n",
       "      <td>12</td>\n",
       "      <td>Y</td>\n",
       "      <td>-1</td>\n",
       "      <td>-1</td>\n",
       "      <td>NaN</td>\n",
       "    </tr>\n",
       "  </tbody>\n",
       "</table>\n",
       "<p>5 rows × 22 columns</p>\n",
       "</div>"
      ],
      "text/plain": [
       "       merchant_id  merchant_group_id  merchant_category_id  subsector_id  \\\n",
       "0  M_ID_838061e48c               8353                   792             9   \n",
       "1  M_ID_9339d880ad               3184                   840            20   \n",
       "2  M_ID_e726bbae1e                447                   690             1   \n",
       "3  M_ID_a70e9c5f81               5026                   792             9   \n",
       "4  M_ID_64456c37ce               2228                   222            21   \n",
       "\n",
       "   numerical_1  numerical_2 category_1 most_recent_sales_range  \\\n",
       "0    -0.057471    -0.057471          N                       E   \n",
       "1    -0.057471    -0.057471          N                       E   \n",
       "2    -0.057471    -0.057471          N                       E   \n",
       "3    -0.057471    -0.057471          Y                       E   \n",
       "4    -0.057471    -0.057471          Y                       E   \n",
       "\n",
       "  most_recent_purchases_range  avg_sales_lag3  ...  avg_sales_lag6  \\\n",
       "0                           E           -0.40  ...           -2.25   \n",
       "1                           E           -0.72  ...           -0.74   \n",
       "2                           E          -82.13  ...          -82.13   \n",
       "3                           E             NaN  ...             NaN   \n",
       "4                           E             NaN  ...             NaN   \n",
       "\n",
       "   avg_purchases_lag6  active_months_lag6  avg_sales_lag12  \\\n",
       "0           18.666667                   6            -2.32   \n",
       "1            1.291667                   6            -0.57   \n",
       "2          260.000000                   2           -82.13   \n",
       "3            4.666667                   6              NaN   \n",
       "4            0.361111                   6              NaN   \n",
       "\n",
       "   avg_purchases_lag12  active_months_lag12  category_4  city_id state_id  \\\n",
       "0            13.916667                   12           N      242        9   \n",
       "1             1.687500                   12           N       22       16   \n",
       "2           260.000000                    2           N       -1        5   \n",
       "3             3.833333                   12           Y       -1       -1   \n",
       "4             0.347222                   12           Y       -1       -1   \n",
       "\n",
       "   category_2  \n",
       "0         1.0  \n",
       "1         1.0  \n",
       "2         5.0  \n",
       "3         NaN  \n",
       "4         NaN  \n",
       "\n",
       "[5 rows x 22 columns]"
      ]
     },
     "execution_count": 5,
     "metadata": {},
     "output_type": "execute_result"
    }
   ],
   "source": [
    "merchants_df.head()"
   ]
  },
  {
   "cell_type": "code",
   "execution_count": 6,
   "metadata": {},
   "outputs": [
    {
     "name": "stdout",
     "output_type": "stream",
     "text": [
      "<class 'pandas.core.frame.DataFrame'>\n",
      "RangeIndex: 334696 entries, 0 to 334695\n",
      "Data columns (total 22 columns):\n",
      " #   Column                       Non-Null Count   Dtype  \n",
      "---  ------                       --------------   -----  \n",
      " 0   merchant_id                  334696 non-null  object \n",
      " 1   merchant_group_id            334696 non-null  int64  \n",
      " 2   merchant_category_id         334696 non-null  int64  \n",
      " 3   subsector_id                 334696 non-null  int64  \n",
      " 4   numerical_1                  334696 non-null  float64\n",
      " 5   numerical_2                  334696 non-null  float64\n",
      " 6   category_1                   334696 non-null  object \n",
      " 7   most_recent_sales_range      334696 non-null  object \n",
      " 8   most_recent_purchases_range  334696 non-null  object \n",
      " 9   avg_sales_lag3               334683 non-null  float64\n",
      " 10  avg_purchases_lag3           334696 non-null  float64\n",
      " 11  active_months_lag3           334696 non-null  int64  \n",
      " 12  avg_sales_lag6               334683 non-null  float64\n",
      " 13  avg_purchases_lag6           334696 non-null  float64\n",
      " 14  active_months_lag6           334696 non-null  int64  \n",
      " 15  avg_sales_lag12              334683 non-null  float64\n",
      " 16  avg_purchases_lag12          334696 non-null  float64\n",
      " 17  active_months_lag12          334696 non-null  int64  \n",
      " 18  category_4                   334696 non-null  object \n",
      " 19  city_id                      334696 non-null  int64  \n",
      " 20  state_id                     334696 non-null  int64  \n",
      " 21  category_2                   322809 non-null  float64\n",
      "dtypes: float64(9), int64(8), object(5)\n",
      "memory usage: 56.2+ MB\n"
     ]
    }
   ],
   "source": [
    "merchants_df.info()"
   ]
  },
  {
   "cell_type": "code",
   "execution_count": 7,
   "metadata": {},
   "outputs": [
    {
     "data": {
      "text/plain": [
       "merchant_id                        0\n",
       "merchant_group_id                  0\n",
       "merchant_category_id               0\n",
       "subsector_id                       0\n",
       "numerical_1                        0\n",
       "numerical_2                        0\n",
       "category_1                         0\n",
       "most_recent_sales_range            0\n",
       "most_recent_purchases_range        0\n",
       "avg_sales_lag3                    13\n",
       "avg_purchases_lag3                 0\n",
       "active_months_lag3                 0\n",
       "avg_sales_lag6                    13\n",
       "avg_purchases_lag6                 0\n",
       "active_months_lag6                 0\n",
       "avg_sales_lag12                   13\n",
       "avg_purchases_lag12                0\n",
       "active_months_lag12                0\n",
       "category_4                         0\n",
       "city_id                            0\n",
       "state_id                           0\n",
       "category_2                     11887\n",
       "dtype: int64"
      ]
     },
     "execution_count": 7,
     "metadata": {},
     "output_type": "execute_result"
    }
   ],
   "source": [
    "## Checks number of null values in each of the column\n",
    "merchants_df.isnull().sum()"
   ]
  },
  {
   "cell_type": "markdown",
   "metadata": {},
   "source": [
    "### 1. Objective : In the below cell we check for the rows which have all 13 entries for avg_sales_lag as null"
   ]
  },
  {
   "cell_type": "code",
   "execution_count": 7,
   "metadata": {},
   "outputs": [
    {
     "data": {
      "text/html": [
       "<div>\n",
       "<style scoped>\n",
       "    .dataframe tbody tr th:only-of-type {\n",
       "        vertical-align: middle;\n",
       "    }\n",
       "\n",
       "    .dataframe tbody tr th {\n",
       "        vertical-align: top;\n",
       "    }\n",
       "\n",
       "    .dataframe thead th {\n",
       "        text-align: right;\n",
       "    }\n",
       "</style>\n",
       "<table border=\"1\" class=\"dataframe\">\n",
       "  <thead>\n",
       "    <tr style=\"text-align: right;\">\n",
       "      <th></th>\n",
       "      <th>merchant_id</th>\n",
       "      <th>merchant_group_id</th>\n",
       "      <th>merchant_category_id</th>\n",
       "      <th>subsector_id</th>\n",
       "      <th>numerical_1</th>\n",
       "      <th>numerical_2</th>\n",
       "      <th>category_1</th>\n",
       "      <th>most_recent_sales_range</th>\n",
       "      <th>most_recent_purchases_range</th>\n",
       "      <th>avg_sales_lag3</th>\n",
       "      <th>...</th>\n",
       "      <th>avg_sales_lag6</th>\n",
       "      <th>avg_purchases_lag6</th>\n",
       "      <th>active_months_lag6</th>\n",
       "      <th>avg_sales_lag12</th>\n",
       "      <th>avg_purchases_lag12</th>\n",
       "      <th>active_months_lag12</th>\n",
       "      <th>category_4</th>\n",
       "      <th>city_id</th>\n",
       "      <th>state_id</th>\n",
       "      <th>category_2</th>\n",
       "    </tr>\n",
       "  </thead>\n",
       "  <tbody>\n",
       "    <tr>\n",
       "      <th>3</th>\n",
       "      <td>M_ID_a70e9c5f81</td>\n",
       "      <td>5026</td>\n",
       "      <td>792</td>\n",
       "      <td>9</td>\n",
       "      <td>-0.057471</td>\n",
       "      <td>-0.057471</td>\n",
       "      <td>Y</td>\n",
       "      <td>E</td>\n",
       "      <td>E</td>\n",
       "      <td>NaN</td>\n",
       "      <td>...</td>\n",
       "      <td>NaN</td>\n",
       "      <td>4.666667</td>\n",
       "      <td>6</td>\n",
       "      <td>NaN</td>\n",
       "      <td>3.833333</td>\n",
       "      <td>12</td>\n",
       "      <td>Y</td>\n",
       "      <td>-1</td>\n",
       "      <td>-1</td>\n",
       "      <td>NaN</td>\n",
       "    </tr>\n",
       "    <tr>\n",
       "      <th>4</th>\n",
       "      <td>M_ID_64456c37ce</td>\n",
       "      <td>2228</td>\n",
       "      <td>222</td>\n",
       "      <td>21</td>\n",
       "      <td>-0.057471</td>\n",
       "      <td>-0.057471</td>\n",
       "      <td>Y</td>\n",
       "      <td>E</td>\n",
       "      <td>E</td>\n",
       "      <td>NaN</td>\n",
       "      <td>...</td>\n",
       "      <td>NaN</td>\n",
       "      <td>0.361111</td>\n",
       "      <td>6</td>\n",
       "      <td>NaN</td>\n",
       "      <td>0.347222</td>\n",
       "      <td>12</td>\n",
       "      <td>Y</td>\n",
       "      <td>-1</td>\n",
       "      <td>-1</td>\n",
       "      <td>NaN</td>\n",
       "    </tr>\n",
       "    <tr>\n",
       "      <th>5</th>\n",
       "      <td>M_ID_a0915f62b5</td>\n",
       "      <td>20201</td>\n",
       "      <td>87</td>\n",
       "      <td>27</td>\n",
       "      <td>-0.057471</td>\n",
       "      <td>-0.057471</td>\n",
       "      <td>N</td>\n",
       "      <td>E</td>\n",
       "      <td>E</td>\n",
       "      <td>NaN</td>\n",
       "      <td>...</td>\n",
       "      <td>NaN</td>\n",
       "      <td>3.666667</td>\n",
       "      <td>6</td>\n",
       "      <td>NaN</td>\n",
       "      <td>3.833333</td>\n",
       "      <td>12</td>\n",
       "      <td>Y</td>\n",
       "      <td>160</td>\n",
       "      <td>21</td>\n",
       "      <td>5.0</td>\n",
       "    </tr>\n",
       "    <tr>\n",
       "      <th>6</th>\n",
       "      <td>M_ID_bfd41933db</td>\n",
       "      <td>33861</td>\n",
       "      <td>792</td>\n",
       "      <td>9</td>\n",
       "      <td>-0.057471</td>\n",
       "      <td>-0.057471</td>\n",
       "      <td>N</td>\n",
       "      <td>E</td>\n",
       "      <td>E</td>\n",
       "      <td>NaN</td>\n",
       "      <td>...</td>\n",
       "      <td>NaN</td>\n",
       "      <td>4.833333</td>\n",
       "      <td>6</td>\n",
       "      <td>NaN</td>\n",
       "      <td>6.333333</td>\n",
       "      <td>12</td>\n",
       "      <td>N</td>\n",
       "      <td>60</td>\n",
       "      <td>16</td>\n",
       "      <td>1.0</td>\n",
       "    </tr>\n",
       "    <tr>\n",
       "      <th>7</th>\n",
       "      <td>M_ID_d8ff08219e</td>\n",
       "      <td>16430</td>\n",
       "      <td>529</td>\n",
       "      <td>20</td>\n",
       "      <td>-0.057471</td>\n",
       "      <td>-0.057471</td>\n",
       "      <td>Y</td>\n",
       "      <td>E</td>\n",
       "      <td>E</td>\n",
       "      <td>NaN</td>\n",
       "      <td>...</td>\n",
       "      <td>NaN</td>\n",
       "      <td>1.666667</td>\n",
       "      <td>6</td>\n",
       "      <td>NaN</td>\n",
       "      <td>1.500000</td>\n",
       "      <td>11</td>\n",
       "      <td>Y</td>\n",
       "      <td>-1</td>\n",
       "      <td>-1</td>\n",
       "      <td>NaN</td>\n",
       "    </tr>\n",
       "    <tr>\n",
       "      <th>8</th>\n",
       "      <td>M_ID_c5b389236d</td>\n",
       "      <td>37179</td>\n",
       "      <td>813</td>\n",
       "      <td>29</td>\n",
       "      <td>-0.057471</td>\n",
       "      <td>-0.057471</td>\n",
       "      <td>N</td>\n",
       "      <td>E</td>\n",
       "      <td>E</td>\n",
       "      <td>NaN</td>\n",
       "      <td>...</td>\n",
       "      <td>NaN</td>\n",
       "      <td>189.916667</td>\n",
       "      <td>6</td>\n",
       "      <td>NaN</td>\n",
       "      <td>197.000000</td>\n",
       "      <td>7</td>\n",
       "      <td>N</td>\n",
       "      <td>248</td>\n",
       "      <td>15</td>\n",
       "      <td>1.0</td>\n",
       "    </tr>\n",
       "    <tr>\n",
       "      <th>9</th>\n",
       "      <td>M_ID_d2162ed113</td>\n",
       "      <td>112122</td>\n",
       "      <td>81</td>\n",
       "      <td>29</td>\n",
       "      <td>-0.057471</td>\n",
       "      <td>-0.057471</td>\n",
       "      <td>Y</td>\n",
       "      <td>E</td>\n",
       "      <td>E</td>\n",
       "      <td>NaN</td>\n",
       "      <td>...</td>\n",
       "      <td>NaN</td>\n",
       "      <td>1.000000</td>\n",
       "      <td>2</td>\n",
       "      <td>NaN</td>\n",
       "      <td>1.000000</td>\n",
       "      <td>2</td>\n",
       "      <td>Y</td>\n",
       "      <td>-1</td>\n",
       "      <td>-1</td>\n",
       "      <td>NaN</td>\n",
       "    </tr>\n",
       "    <tr>\n",
       "      <th>10</th>\n",
       "      <td>M_ID_492cfa500c</td>\n",
       "      <td>13462</td>\n",
       "      <td>369</td>\n",
       "      <td>27</td>\n",
       "      <td>-0.057471</td>\n",
       "      <td>-0.057471</td>\n",
       "      <td>N</td>\n",
       "      <td>E</td>\n",
       "      <td>E</td>\n",
       "      <td>NaN</td>\n",
       "      <td>...</td>\n",
       "      <td>NaN</td>\n",
       "      <td>inf</td>\n",
       "      <td>6</td>\n",
       "      <td>NaN</td>\n",
       "      <td>inf</td>\n",
       "      <td>12</td>\n",
       "      <td>N</td>\n",
       "      <td>-1</td>\n",
       "      <td>9</td>\n",
       "      <td>1.0</td>\n",
       "    </tr>\n",
       "    <tr>\n",
       "      <th>11</th>\n",
       "      <td>M_ID_73487fed26</td>\n",
       "      <td>17123</td>\n",
       "      <td>427</td>\n",
       "      <td>27</td>\n",
       "      <td>-0.057471</td>\n",
       "      <td>-0.057471</td>\n",
       "      <td>Y</td>\n",
       "      <td>E</td>\n",
       "      <td>E</td>\n",
       "      <td>NaN</td>\n",
       "      <td>...</td>\n",
       "      <td>NaN</td>\n",
       "      <td>inf</td>\n",
       "      <td>6</td>\n",
       "      <td>NaN</td>\n",
       "      <td>inf</td>\n",
       "      <td>12</td>\n",
       "      <td>Y</td>\n",
       "      <td>-1</td>\n",
       "      <td>-1</td>\n",
       "      <td>NaN</td>\n",
       "    </tr>\n",
       "    <tr>\n",
       "      <th>12</th>\n",
       "      <td>M_ID_7149162139</td>\n",
       "      <td>2118</td>\n",
       "      <td>63</td>\n",
       "      <td>27</td>\n",
       "      <td>-0.057471</td>\n",
       "      <td>-0.057471</td>\n",
       "      <td>N</td>\n",
       "      <td>E</td>\n",
       "      <td>E</td>\n",
       "      <td>NaN</td>\n",
       "      <td>...</td>\n",
       "      <td>NaN</td>\n",
       "      <td>inf</td>\n",
       "      <td>6</td>\n",
       "      <td>NaN</td>\n",
       "      <td>inf</td>\n",
       "      <td>12</td>\n",
       "      <td>Y</td>\n",
       "      <td>88</td>\n",
       "      <td>16</td>\n",
       "      <td>1.0</td>\n",
       "    </tr>\n",
       "    <tr>\n",
       "      <th>13</th>\n",
       "      <td>M_ID_a31332e0bc</td>\n",
       "      <td>15040</td>\n",
       "      <td>427</td>\n",
       "      <td>27</td>\n",
       "      <td>-0.057471</td>\n",
       "      <td>-0.057471</td>\n",
       "      <td>N</td>\n",
       "      <td>E</td>\n",
       "      <td>E</td>\n",
       "      <td>NaN</td>\n",
       "      <td>...</td>\n",
       "      <td>NaN</td>\n",
       "      <td>1.000000</td>\n",
       "      <td>1</td>\n",
       "      <td>NaN</td>\n",
       "      <td>1.000000</td>\n",
       "      <td>1</td>\n",
       "      <td>Y</td>\n",
       "      <td>158</td>\n",
       "      <td>15</td>\n",
       "      <td>1.0</td>\n",
       "    </tr>\n",
       "    <tr>\n",
       "      <th>14</th>\n",
       "      <td>M_ID_c9eb20f6f5</td>\n",
       "      <td>25449</td>\n",
       "      <td>45</td>\n",
       "      <td>18</td>\n",
       "      <td>-0.057471</td>\n",
       "      <td>-0.057471</td>\n",
       "      <td>N</td>\n",
       "      <td>E</td>\n",
       "      <td>E</td>\n",
       "      <td>NaN</td>\n",
       "      <td>...</td>\n",
       "      <td>NaN</td>\n",
       "      <td>1.666667</td>\n",
       "      <td>3</td>\n",
       "      <td>NaN</td>\n",
       "      <td>1.666667</td>\n",
       "      <td>3</td>\n",
       "      <td>N</td>\n",
       "      <td>-1</td>\n",
       "      <td>16</td>\n",
       "      <td>1.0</td>\n",
       "    </tr>\n",
       "    <tr>\n",
       "      <th>15</th>\n",
       "      <td>M_ID_c9855bf3e3</td>\n",
       "      <td>321</td>\n",
       "      <td>690</td>\n",
       "      <td>1</td>\n",
       "      <td>-0.057471</td>\n",
       "      <td>-0.057471</td>\n",
       "      <td>Y</td>\n",
       "      <td>E</td>\n",
       "      <td>E</td>\n",
       "      <td>NaN</td>\n",
       "      <td>...</td>\n",
       "      <td>NaN</td>\n",
       "      <td>3432.666667</td>\n",
       "      <td>6</td>\n",
       "      <td>NaN</td>\n",
       "      <td>5236.000000</td>\n",
       "      <td>12</td>\n",
       "      <td>Y</td>\n",
       "      <td>-1</td>\n",
       "      <td>-1</td>\n",
       "      <td>NaN</td>\n",
       "    </tr>\n",
       "  </tbody>\n",
       "</table>\n",
       "<p>13 rows × 22 columns</p>\n",
       "</div>"
      ],
      "text/plain": [
       "        merchant_id  merchant_group_id  merchant_category_id  subsector_id  \\\n",
       "3   M_ID_a70e9c5f81               5026                   792             9   \n",
       "4   M_ID_64456c37ce               2228                   222            21   \n",
       "5   M_ID_a0915f62b5              20201                    87            27   \n",
       "6   M_ID_bfd41933db              33861                   792             9   \n",
       "7   M_ID_d8ff08219e              16430                   529            20   \n",
       "8   M_ID_c5b389236d              37179                   813            29   \n",
       "9   M_ID_d2162ed113             112122                    81            29   \n",
       "10  M_ID_492cfa500c              13462                   369            27   \n",
       "11  M_ID_73487fed26              17123                   427            27   \n",
       "12  M_ID_7149162139               2118                    63            27   \n",
       "13  M_ID_a31332e0bc              15040                   427            27   \n",
       "14  M_ID_c9eb20f6f5              25449                    45            18   \n",
       "15  M_ID_c9855bf3e3                321                   690             1   \n",
       "\n",
       "    numerical_1  numerical_2 category_1 most_recent_sales_range  \\\n",
       "3     -0.057471    -0.057471          Y                       E   \n",
       "4     -0.057471    -0.057471          Y                       E   \n",
       "5     -0.057471    -0.057471          N                       E   \n",
       "6     -0.057471    -0.057471          N                       E   \n",
       "7     -0.057471    -0.057471          Y                       E   \n",
       "8     -0.057471    -0.057471          N                       E   \n",
       "9     -0.057471    -0.057471          Y                       E   \n",
       "10    -0.057471    -0.057471          N                       E   \n",
       "11    -0.057471    -0.057471          Y                       E   \n",
       "12    -0.057471    -0.057471          N                       E   \n",
       "13    -0.057471    -0.057471          N                       E   \n",
       "14    -0.057471    -0.057471          N                       E   \n",
       "15    -0.057471    -0.057471          Y                       E   \n",
       "\n",
       "   most_recent_purchases_range  avg_sales_lag3  ...  avg_sales_lag6  \\\n",
       "3                            E             NaN  ...             NaN   \n",
       "4                            E             NaN  ...             NaN   \n",
       "5                            E             NaN  ...             NaN   \n",
       "6                            E             NaN  ...             NaN   \n",
       "7                            E             NaN  ...             NaN   \n",
       "8                            E             NaN  ...             NaN   \n",
       "9                            E             NaN  ...             NaN   \n",
       "10                           E             NaN  ...             NaN   \n",
       "11                           E             NaN  ...             NaN   \n",
       "12                           E             NaN  ...             NaN   \n",
       "13                           E             NaN  ...             NaN   \n",
       "14                           E             NaN  ...             NaN   \n",
       "15                           E             NaN  ...             NaN   \n",
       "\n",
       "    avg_purchases_lag6  active_months_lag6  avg_sales_lag12  \\\n",
       "3             4.666667                   6              NaN   \n",
       "4             0.361111                   6              NaN   \n",
       "5             3.666667                   6              NaN   \n",
       "6             4.833333                   6              NaN   \n",
       "7             1.666667                   6              NaN   \n",
       "8           189.916667                   6              NaN   \n",
       "9             1.000000                   2              NaN   \n",
       "10                 inf                   6              NaN   \n",
       "11                 inf                   6              NaN   \n",
       "12                 inf                   6              NaN   \n",
       "13            1.000000                   1              NaN   \n",
       "14            1.666667                   3              NaN   \n",
       "15         3432.666667                   6              NaN   \n",
       "\n",
       "    avg_purchases_lag12  active_months_lag12  category_4  city_id state_id  \\\n",
       "3              3.833333                   12           Y       -1       -1   \n",
       "4              0.347222                   12           Y       -1       -1   \n",
       "5              3.833333                   12           Y      160       21   \n",
       "6              6.333333                   12           N       60       16   \n",
       "7              1.500000                   11           Y       -1       -1   \n",
       "8            197.000000                    7           N      248       15   \n",
       "9              1.000000                    2           Y       -1       -1   \n",
       "10                  inf                   12           N       -1        9   \n",
       "11                  inf                   12           Y       -1       -1   \n",
       "12                  inf                   12           Y       88       16   \n",
       "13             1.000000                    1           Y      158       15   \n",
       "14             1.666667                    3           N       -1       16   \n",
       "15          5236.000000                   12           Y       -1       -1   \n",
       "\n",
       "    category_2  \n",
       "3          NaN  \n",
       "4          NaN  \n",
       "5          5.0  \n",
       "6          1.0  \n",
       "7          NaN  \n",
       "8          1.0  \n",
       "9          NaN  \n",
       "10         1.0  \n",
       "11         NaN  \n",
       "12         1.0  \n",
       "13         1.0  \n",
       "14         1.0  \n",
       "15         NaN  \n",
       "\n",
       "[13 rows x 22 columns]"
      ]
     },
     "execution_count": 7,
     "metadata": {},
     "output_type": "execute_result"
    }
   ],
   "source": [
    "merchants_df.loc[(merchants_df['avg_sales_lag3'].isnull()) & (merchants_df['avg_sales_lag6'].isnull()) & (merchants_df['avg_sales_lag12'].isnull())]"
   ]
  },
  {
   "cell_type": "markdown",
   "metadata": {},
   "source": [
    "## Analysis\n",
    "* For the merchants_df data all three columns are NAN for same set of rows.\n",
    "* Number of rows with these null values is very less.\n",
    "\n",
    "## Conclusion \n",
    "* We may simply drop these rows."
   ]
  },
  {
   "cell_type": "code",
   "execution_count": 32,
   "metadata": {},
   "outputs": [
    {
     "name": "stdout",
     "output_type": "stream",
     "text": [
      "Mem. usage decreased to 30.32 Mb (46.0% reduction)\n"
     ]
    }
   ],
   "source": [
    "## Reducing size of dataframe\n",
    "merchants_df = eda_fe.reduce_mem_usage(merchants_df)"
   ]
  },
  {
   "cell_type": "markdown",
   "metadata": {},
   "source": [
    "## 2. Importing train data"
   ]
  },
  {
   "cell_type": "code",
   "execution_count": 4,
   "metadata": {},
   "outputs": [],
   "source": [
    "train_df = pd.read_csv('train.csv')"
   ]
  },
  {
   "cell_type": "markdown",
   "metadata": {},
   "source": [
    "* Like in Historical transactions we will only consider the range of target score which can help us have a zoomed in look into the dataset.\n",
    "* It will help us study and analyze the relation of aggregated features with target score.\n",
    "* nout_train_df is a sample of train_df."
   ]
  },
  {
   "cell_type": "code",
   "execution_count": 5,
   "metadata": {},
   "outputs": [
    {
     "name": "stdout",
     "output_type": "stream",
     "text": [
      "% of data used for train_df :  79.74415230020256\n"
     ]
    }
   ],
   "source": [
    "train_df['act_target'] = 2**train_df['target']\n",
    "nout_train_df = train_df[(train_df['act_target'] >= -2) & (train_df['act_target'] <= 2)]\n",
    "nout_train_df = nout_train_df[['card_id','act_target']]\n",
    "print(\"% of data used for train_df : \",nout_train_df.shape[0]*100/train_df.shape[0])"
   ]
  },
  {
   "cell_type": "markdown",
   "metadata": {},
   "source": [
    "* nout_train_df contains about 80% of the train data."
   ]
  },
  {
   "cell_type": "code",
   "execution_count": 10,
   "metadata": {},
   "outputs": [],
   "source": [
    "## For EDA purpose we'll be only dealing with train_df and hence we'll delete train_df and just use nout_train_df\n",
    "del(train_df)"
   ]
  },
  {
   "cell_type": "markdown",
   "metadata": {},
   "source": [
    "## 3. Some important points before we proceed with our analysis\n",
    "* For analysis with target variable, we require to merge our aggregated information with card_id in train_df.\n",
    "* Merchants_df doesn't have a card_id field in it and cannot be directly merged with train_df.\n",
    "* Historical transactions have card_id,merchant_id,merchant_category_id and subsector_id.\n",
    "* Information can be aggregated at various levels using the above merchant fields and then be combined with historical transactions so that it can later be merged with train_df but problem with this approach is that we have to perform multiple levels of aggregation. \n",
    "* Or we can simply perform inner join on the above common fields and merge the historical transactions and merchants transactions.\n",
    "* This can help us perform aggregation on just level in the merged_dataframe on card_id."
   ]
  },
  {
   "cell_type": "markdown",
   "metadata": {},
   "source": [
    "## Let's first pick only those transactions from historical transactions whose card_id's are present in train_df\n",
    "* Here we will first select card_ids's from train_df with no outliers.(nout_train_df) \n",
    "* We'll sample the historical transaction dataset using the above card_id's.(s_hist_df)\n",
    "* We'll then create a new merged dataframe by performing inner join on s_hist_df and merchants_df with common keys(card_id,merchant_id,merchant_category_id,subsector_id) in both the dataset."
   ]
  },
  {
   "cell_type": "code",
   "execution_count": 3,
   "metadata": {},
   "outputs": [
    {
     "name": "stdout",
     "output_type": "stream",
     "text": [
      "Mem. usage decreased to 1749.11 Mb (43.7% reduction)\n"
     ]
    }
   ],
   "source": [
    "hist_df = eda_fe.reduce_mem_usage(pd.read_csv('historical_transactions.csv'))"
   ]
  },
  {
   "cell_type": "code",
   "execution_count": 25,
   "metadata": {},
   "outputs": [
    {
     "data": {
      "text/plain": [
       "(29112361, 14)"
      ]
     },
     "execution_count": 25,
     "metadata": {},
     "output_type": "execute_result"
    }
   ],
   "source": [
    "hist_df.shape"
   ]
  },
  {
   "cell_type": "code",
   "execution_count": 6,
   "metadata": {},
   "outputs": [
    {
     "data": {
      "text/plain": [
       "15308718"
      ]
     },
     "execution_count": 6,
     "metadata": {},
     "output_type": "execute_result"
    }
   ],
   "source": [
    "## Selecting card_id's from nout_train_df\n",
    "card_ids = nout_train_df['card_id'].unique()\n",
    "s_hist_df = eda_fe.createSampledHistDf(hist_df,card_ids,sortby = ['card_id'])\n",
    "s_hist_df.shape[0]"
   ]
  },
  {
   "cell_type": "code",
   "execution_count": 7,
   "metadata": {},
   "outputs": [
    {
     "name": "stdout",
     "output_type": "stream",
     "text": [
      "Percentage of data considered after sampling :  52.58494149615691\n"
     ]
    }
   ],
   "source": [
    "## Percentage of data after sampling Historical transactions\n",
    "print(\"Percentage of data considered after sampling : \",(s_hist_df.shape[0]*100)/hist_df.shape[0])"
   ]
  },
  {
   "cell_type": "code",
   "execution_count": 8,
   "metadata": {},
   "outputs": [],
   "source": [
    "## Only collecting subset of information that will be required for merging with transactions data\n",
    "s_hist_df = s_hist_df[['card_id','merchant_id','merchant_category_id','subsector_id']]"
   ]
  },
  {
   "cell_type": "code",
   "execution_count": 9,
   "metadata": {},
   "outputs": [],
   "source": [
    "##  Since we'll use sampled historical transactions datafframe for our analysis\n",
    "##  We'll delete hist_df and retain s_hist_df\n",
    "del(hist_df)"
   ]
  },
  {
   "cell_type": "code",
   "execution_count": 10,
   "metadata": {},
   "outputs": [],
   "source": [
    "## Creating the merge_df which we'll be using throughout the notebook\n",
    "merge_df = pd.merge(s_hist_df,merchants_df,how='inner',left_on=['merchant_id','merchant_category_id','subsector_id'],right_on=['merchant_id','merchant_category_id','subsector_id'])"
   ]
  },
  {
   "cell_type": "code",
   "execution_count": 34,
   "metadata": {},
   "outputs": [
    {
     "name": "stdout",
     "output_type": "stream",
     "text": [
      "Dimensions of merge_df :  (13300614, 23)\n"
     ]
    }
   ],
   "source": [
    "print(\"Dimensions of merge_df : \",merge_df.shape)"
   ]
  },
  {
   "cell_type": "code",
   "execution_count": 35,
   "metadata": {},
   "outputs": [
    {
     "name": "stdout",
     "output_type": "stream",
     "text": [
      "Percentage of sampled historical transactions retained after inner join :  86.88261159425629\n"
     ]
    }
   ],
   "source": [
    "print(\"Percentage of sampled historical transactions retained after inner join : \",(merge_df.shape[0]*100)/s_hist_df.shape[0])"
   ]
  },
  {
   "cell_type": "code",
   "execution_count": 21,
   "metadata": {},
   "outputs": [
    {
     "data": {
      "text/html": [
       "<div>\n",
       "<style scoped>\n",
       "    .dataframe tbody tr th:only-of-type {\n",
       "        vertical-align: middle;\n",
       "    }\n",
       "\n",
       "    .dataframe tbody tr th {\n",
       "        vertical-align: top;\n",
       "    }\n",
       "\n",
       "    .dataframe thead th {\n",
       "        text-align: right;\n",
       "    }\n",
       "</style>\n",
       "<table border=\"1\" class=\"dataframe\">\n",
       "  <thead>\n",
       "    <tr style=\"text-align: right;\">\n",
       "      <th></th>\n",
       "      <th>card_id</th>\n",
       "      <th>merchant_id</th>\n",
       "      <th>merchant_category_id</th>\n",
       "      <th>subsector_id</th>\n",
       "      <th>merchant_group_id</th>\n",
       "      <th>numerical_1</th>\n",
       "      <th>numerical_2</th>\n",
       "      <th>category_1</th>\n",
       "      <th>most_recent_sales_range</th>\n",
       "      <th>most_recent_purchases_range</th>\n",
       "      <th>...</th>\n",
       "      <th>avg_sales_lag6</th>\n",
       "      <th>avg_purchases_lag6</th>\n",
       "      <th>active_months_lag6</th>\n",
       "      <th>avg_sales_lag12</th>\n",
       "      <th>avg_purchases_lag12</th>\n",
       "      <th>active_months_lag12</th>\n",
       "      <th>category_4</th>\n",
       "      <th>city_id</th>\n",
       "      <th>state_id</th>\n",
       "      <th>category_2</th>\n",
       "    </tr>\n",
       "  </thead>\n",
       "  <tbody>\n",
       "    <tr>\n",
       "      <th>0</th>\n",
       "      <td>C_ID_00007093c1</td>\n",
       "      <td>M_ID_9400cf2342</td>\n",
       "      <td>307</td>\n",
       "      <td>19</td>\n",
       "      <td>60307</td>\n",
       "      <td>-0.047556</td>\n",
       "      <td>-0.057471</td>\n",
       "      <td>N</td>\n",
       "      <td>D</td>\n",
       "      <td>D</td>\n",
       "      <td>...</td>\n",
       "      <td>0.96</td>\n",
       "      <td>0.959246</td>\n",
       "      <td>6</td>\n",
       "      <td>1.02</td>\n",
       "      <td>0.99042</td>\n",
       "      <td>12</td>\n",
       "      <td>N</td>\n",
       "      <td>-1</td>\n",
       "      <td>2</td>\n",
       "      <td>3.0</td>\n",
       "    </tr>\n",
       "    <tr>\n",
       "      <th>1</th>\n",
       "      <td>C_ID_00007093c1</td>\n",
       "      <td>M_ID_9400cf2342</td>\n",
       "      <td>307</td>\n",
       "      <td>19</td>\n",
       "      <td>60307</td>\n",
       "      <td>-0.047556</td>\n",
       "      <td>-0.057471</td>\n",
       "      <td>N</td>\n",
       "      <td>D</td>\n",
       "      <td>D</td>\n",
       "      <td>...</td>\n",
       "      <td>0.96</td>\n",
       "      <td>0.959246</td>\n",
       "      <td>6</td>\n",
       "      <td>1.02</td>\n",
       "      <td>0.99042</td>\n",
       "      <td>12</td>\n",
       "      <td>N</td>\n",
       "      <td>-1</td>\n",
       "      <td>2</td>\n",
       "      <td>3.0</td>\n",
       "    </tr>\n",
       "    <tr>\n",
       "      <th>2</th>\n",
       "      <td>C_ID_00007093c1</td>\n",
       "      <td>M_ID_9400cf2342</td>\n",
       "      <td>307</td>\n",
       "      <td>19</td>\n",
       "      <td>60307</td>\n",
       "      <td>-0.047556</td>\n",
       "      <td>-0.057471</td>\n",
       "      <td>N</td>\n",
       "      <td>D</td>\n",
       "      <td>D</td>\n",
       "      <td>...</td>\n",
       "      <td>0.96</td>\n",
       "      <td>0.959246</td>\n",
       "      <td>6</td>\n",
       "      <td>1.02</td>\n",
       "      <td>0.99042</td>\n",
       "      <td>12</td>\n",
       "      <td>N</td>\n",
       "      <td>-1</td>\n",
       "      <td>2</td>\n",
       "      <td>3.0</td>\n",
       "    </tr>\n",
       "    <tr>\n",
       "      <th>3</th>\n",
       "      <td>C_ID_00007093c1</td>\n",
       "      <td>M_ID_9400cf2342</td>\n",
       "      <td>307</td>\n",
       "      <td>19</td>\n",
       "      <td>60307</td>\n",
       "      <td>-0.047556</td>\n",
       "      <td>-0.057471</td>\n",
       "      <td>N</td>\n",
       "      <td>D</td>\n",
       "      <td>D</td>\n",
       "      <td>...</td>\n",
       "      <td>0.96</td>\n",
       "      <td>0.959246</td>\n",
       "      <td>6</td>\n",
       "      <td>1.02</td>\n",
       "      <td>0.99042</td>\n",
       "      <td>12</td>\n",
       "      <td>N</td>\n",
       "      <td>-1</td>\n",
       "      <td>2</td>\n",
       "      <td>3.0</td>\n",
       "    </tr>\n",
       "    <tr>\n",
       "      <th>4</th>\n",
       "      <td>C_ID_00007093c1</td>\n",
       "      <td>M_ID_9400cf2342</td>\n",
       "      <td>307</td>\n",
       "      <td>19</td>\n",
       "      <td>60307</td>\n",
       "      <td>-0.047556</td>\n",
       "      <td>-0.057471</td>\n",
       "      <td>N</td>\n",
       "      <td>D</td>\n",
       "      <td>D</td>\n",
       "      <td>...</td>\n",
       "      <td>0.96</td>\n",
       "      <td>0.959246</td>\n",
       "      <td>6</td>\n",
       "      <td>1.02</td>\n",
       "      <td>0.99042</td>\n",
       "      <td>12</td>\n",
       "      <td>N</td>\n",
       "      <td>-1</td>\n",
       "      <td>2</td>\n",
       "      <td>3.0</td>\n",
       "    </tr>\n",
       "  </tbody>\n",
       "</table>\n",
       "<p>5 rows × 23 columns</p>\n",
       "</div>"
      ],
      "text/plain": [
       "           card_id      merchant_id  merchant_category_id  subsector_id  \\\n",
       "0  C_ID_00007093c1  M_ID_9400cf2342                   307            19   \n",
       "1  C_ID_00007093c1  M_ID_9400cf2342                   307            19   \n",
       "2  C_ID_00007093c1  M_ID_9400cf2342                   307            19   \n",
       "3  C_ID_00007093c1  M_ID_9400cf2342                   307            19   \n",
       "4  C_ID_00007093c1  M_ID_9400cf2342                   307            19   \n",
       "\n",
       "   merchant_group_id  numerical_1  numerical_2 category_1  \\\n",
       "0              60307    -0.047556    -0.057471          N   \n",
       "1              60307    -0.047556    -0.057471          N   \n",
       "2              60307    -0.047556    -0.057471          N   \n",
       "3              60307    -0.047556    -0.057471          N   \n",
       "4              60307    -0.047556    -0.057471          N   \n",
       "\n",
       "  most_recent_sales_range most_recent_purchases_range  ...  avg_sales_lag6  \\\n",
       "0                       D                           D  ...            0.96   \n",
       "1                       D                           D  ...            0.96   \n",
       "2                       D                           D  ...            0.96   \n",
       "3                       D                           D  ...            0.96   \n",
       "4                       D                           D  ...            0.96   \n",
       "\n",
       "   avg_purchases_lag6  active_months_lag6  avg_sales_lag12  \\\n",
       "0            0.959246                   6             1.02   \n",
       "1            0.959246                   6             1.02   \n",
       "2            0.959246                   6             1.02   \n",
       "3            0.959246                   6             1.02   \n",
       "4            0.959246                   6             1.02   \n",
       "\n",
       "   avg_purchases_lag12  active_months_lag12  category_4  city_id  state_id  \\\n",
       "0              0.99042                   12           N       -1         2   \n",
       "1              0.99042                   12           N       -1         2   \n",
       "2              0.99042                   12           N       -1         2   \n",
       "3              0.99042                   12           N       -1         2   \n",
       "4              0.99042                   12           N       -1         2   \n",
       "\n",
       "  category_2  \n",
       "0        3.0  \n",
       "1        3.0  \n",
       "2        3.0  \n",
       "3        3.0  \n",
       "4        3.0  \n",
       "\n",
       "[5 rows x 23 columns]"
      ]
     },
     "execution_count": 21,
     "metadata": {},
     "output_type": "execute_result"
    }
   ],
   "source": [
    "merge_df.head()"
   ]
  },
  {
   "cell_type": "markdown",
   "metadata": {},
   "source": [
    "## Let's perform all our aggregation on card_id as we did before\n",
    "* first let's look at new attributes in merchants.csv which has not been seen in any of the previous data table.\n",
    "* most_recent_sales_range\n",
    "* most_recent_purchases_range\n",
    "\n",
    "* avg_sales_lag3\n",
    "* avg_sales_lag6\n",
    "* avg_sales_lag12\n",
    "\n",
    "* avg_purchases_lag3\n",
    "* avg_purchases_lag6\n",
    "* avg_purchases_lag12\n",
    "\n",
    "* active_months_lag3\n",
    "* active_months_lag6\n",
    "* active_months_lag12"
   ]
  },
  {
   "cell_type": "markdown",
   "metadata": {},
   "source": [
    "### Creating cells for dumping and loading merge dataframe"
   ]
  },
  {
   "cell_type": "code",
   "execution_count": 11,
   "metadata": {},
   "outputs": [],
   "source": [
    "sampleFile = open('merchants_merge_df','wb')\n",
    "pickle.dump(merge_df,sampleFile)\n",
    "sampleFile.close()"
   ]
  },
  {
   "cell_type": "code",
   "execution_count": 5,
   "metadata": {},
   "outputs": [],
   "source": [
    "sampleFile = open('merchants_merge_df','rb')\n",
    "merge_df = pickle.load(sampleFile)\n",
    "sampleFile.close()"
   ]
  },
  {
   "cell_type": "markdown",
   "metadata": {},
   "source": [
    "## 4.1 Objective : Explore most_recent_sales_range"
   ]
  },
  {
   "cell_type": "code",
   "execution_count": 25,
   "metadata": {},
   "outputs": [
    {
     "data": {
      "text/plain": [
       "array(['D', 'B', 'A', 'C', 'E'], dtype=object)"
      ]
     },
     "execution_count": 25,
     "metadata": {},
     "output_type": "execute_result"
    }
   ],
   "source": [
    "merge_df['most_recent_sales_range'].unique()"
   ]
  },
  {
   "cell_type": "code",
   "execution_count": 26,
   "metadata": {},
   "outputs": [
    {
     "name": "stdout",
     "output_type": "stream",
     "text": [
      "Number of null entries :  0\n",
      "Percentage of null entries :  0.0\n"
     ]
    }
   ],
   "source": [
    "getPercentageOfNullEntries(merge_df,'most_recent_sales_range')"
   ]
  },
  {
   "cell_type": "code",
   "execution_count": 13,
   "metadata": {},
   "outputs": [
    {
     "data": {
      "text/plain": [
       "A    5550073\n",
       "C    4346086\n",
       "D    3385948\n",
       "B    3376383\n",
       "E    2041631\n",
       "Name: most_recent_sales_range, dtype: int64"
      ]
     },
     "execution_count": 13,
     "metadata": {},
     "output_type": "execute_result"
    }
   ],
   "source": [
    "merge_df['most_recent_sales_range'].value_counts()"
   ]
  },
  {
   "cell_type": "code",
   "execution_count": 29,
   "metadata": {},
   "outputs": [
    {
     "data": {
      "image/png": "[encoded data removed]",
      "text/plain": [
       "<Figure size 1080x720 with 1 Axes>"
      ]
     },
     "metadata": {
      "needs_background": "light"
     },
     "output_type": "display_data"
    }
   ],
   "source": [
    "eda_fe.plotBarPlot(merge_df,'most_recent_sales_range')"
   ]
  },
  {
   "cell_type": "markdown",
   "metadata": {},
   "source": [
    "## Analysis\n",
    "* Maximum number of category in the most_recent_sales_range is 'A'\n",
    "* Minimum number of category is 'E'.\n",
    "\n",
    "## Conclusion\n",
    "* We can use this information to create min and max features on above attribute."
   ]
  },
  {
   "cell_type": "markdown",
   "metadata": {},
   "source": [
    "## 4.2 Objective : Check relation of aggregated feature on most_recent_sales_range with target variable\n",
    "* Aggregation that we'll be looking at is statistical mode and nunique(number of unique categories) grouped by card_id."
   ]
  },
  {
   "cell_type": "code",
   "execution_count": 37,
   "metadata": {},
   "outputs": [],
   "source": [
    "recent_sales_range_mode = eda_fe.computeCategoricalAggr(nout_train_df,merge_df,'most_recent_sales_range',mode_lambda_func,'mode')\n",
    "recent_sales_range_nunique = eda_fe.computeCategoricalAggr(nout_train_df,merge_df,'most_recent_sales_range',nunique_lambda_func,'nunique')"
   ]
  },
  {
   "cell_type": "code",
   "execution_count": 36,
   "metadata": {},
   "outputs": [],
   "source": [
    "recent_sales_range_min = eda_fe.computeCategoricalAggr(nout_train_df,merge_df,'most_recent_sales_range',min_lambda_func,'min')\n",
    "recent_sales_range_max = eda_fe.computeCategoricalAggr(nout_train_df,merge_df,'most_recent_sales_range',max_lambda_func,'max')"
   ]
  },
  {
   "cell_type": "code",
   "execution_count": 38,
   "metadata": {},
   "outputs": [
    {
     "data": {
      "text/plain": [
       "<matplotlib.axes._subplots.AxesSubplot at 0x21469862278>"
      ]
     },
     "execution_count": 38,
     "metadata": {},
     "output_type": "execute_result"
    },
    {
     "data": {
      "image/png": "[encoded data removed]",
      "text/plain": [
       "<Figure size 1080x1440 with 4 Axes>"
      ]
     },
     "metadata": {
      "needs_background": "light"
     },
     "output_type": "display_data"
    }
   ],
   "source": [
    "fig,(ax1,ax2,ax3,ax4) = plt.subplots(nrows = 4,ncols = 1,figsize = (15,20))\n",
    "sns.boxplot('most_recent_sales_range_mode','act_target',data = recent_sales_range_mode,ax = ax1)\n",
    "sns.boxplot('most_recent_sales_range_nunique','act_target',data = recent_sales_range_nunique,ax = ax2)\n",
    "sns.boxplot('most_recent_sales_range_min','act_target',data = recent_sales_range_min,ax = ax3)\n",
    "sns.boxplot('most_recent_sales_range_max','act_target',data = recent_sales_range_max,ax = ax4)"
   ]
  },
  {
   "cell_type": "markdown",
   "metadata": {},
   "source": [
    "## Analysis\n",
    "* Mode feature doesn't show any variation in distribution of target variable.\n",
    "* Nunique feature on the above attribute shows variation in distribution of target variable.\n",
    "* Min Max aggregates show no variation wrt target variable.\n",
    "\n",
    "## Conclusion\n",
    "* We'll add the above aggregated features to our feature set.\n",
    "* Though exploration shows us that some of them are not useful, we'll still wait till the feature selection stage to decide upon anything."
   ]
  },
  {
   "cell_type": "markdown",
   "metadata": {},
   "source": [
    "## 5.1 Objective : Explore most_recent_purchase_range"
   ]
  },
  {
   "cell_type": "code",
   "execution_count": 32,
   "metadata": {},
   "outputs": [
    {
     "name": "stdout",
     "output_type": "stream",
     "text": [
      "Number of null entries :  0\n",
      "Percentage of null entries :  0.0\n"
     ]
    }
   ],
   "source": [
    "getPercentageOfNullEntries(merge_df,'most_recent_purchases_range')"
   ]
  },
  {
   "cell_type": "code",
   "execution_count": 33,
   "metadata": {},
   "outputs": [
    {
     "data": {
      "text/plain": [
       "A    3939613\n",
       "C    3527214\n",
       "B    2617839\n",
       "D    2477005\n",
       "E     738943\n",
       "Name: most_recent_purchases_range, dtype: int64"
      ]
     },
     "execution_count": 33,
     "metadata": {},
     "output_type": "execute_result"
    }
   ],
   "source": [
    "merge_df['most_recent_purchases_range'].value_counts()"
   ]
  },
  {
   "cell_type": "code",
   "execution_count": 34,
   "metadata": {},
   "outputs": [],
   "source": [
    "## Replacing with most frequent value\n",
    "merge_df['most_recent_purchases_range'].fillna('A',inplace=True)"
   ]
  },
  {
   "cell_type": "markdown",
   "metadata": {},
   "source": [
    "So we don't need imputation of null values "
   ]
  },
  {
   "cell_type": "code",
   "execution_count": 35,
   "metadata": {},
   "outputs": [
    {
     "data": {
      "image/png": "[encoded data removed]",
      "text/plain": [
       "<Figure size 1080x720 with 1 Axes>"
      ]
     },
     "metadata": {
      "needs_background": "light"
     },
     "output_type": "display_data"
    }
   ],
   "source": [
    "eda_fe.plotBarPlot(merge_df,'most_recent_purchases_range')"
   ]
  },
  {
   "cell_type": "markdown",
   "metadata": {},
   "source": [
    "## Analysis\n",
    "* Category 'A' has the highest frequency while category 'E' has the lowest frequency."
   ]
  },
  {
   "cell_type": "markdown",
   "metadata": {},
   "source": [
    "## 5.2 Objective : Check relation of aggregated feature on most_recent_purchases_range with target variable"
   ]
  },
  {
   "cell_type": "code",
   "execution_count": 36,
   "metadata": {},
   "outputs": [],
   "source": [
    "recent_purchases_range_mode = eda_fe.computeCategoricalAggr(nout_train_df,merge_df,'most_recent_purchases_range',mode_lambda_func,'mode')\n",
    "recent_purchases_range_nunique = eda_fe.computeCategoricalAggr(nout_train_df,merge_df,'most_recent_purchases_range',nunique_lambda_func,'nunique')"
   ]
  },
  {
   "cell_type": "code",
   "execution_count": 49,
   "metadata": {},
   "outputs": [],
   "source": [
    "recent_purchases_range_count = eda_fe.computeCategoricalAggr(nout_train_df,merge_df,'most_recent_purchases_range',count_lambda_func,'count')"
   ]
  },
  {
   "cell_type": "code",
   "execution_count": 51,
   "metadata": {},
   "outputs": [
    {
     "data": {
      "text/plain": [
       "<matplotlib.axes._subplots.AxesSubplot at 0x2ba35f96240>"
      ]
     },
     "execution_count": 51,
     "metadata": {},
     "output_type": "execute_result"
    },
    {
     "data": {
      "image/png": "[encoded data removed]",
      "text/plain": [
       "<Figure size 1080x1080 with 3 Axes>"
      ]
     },
     "metadata": {
      "needs_background": "light"
     },
     "output_type": "display_data"
    }
   ],
   "source": [
    "fig,(ax1,ax2,ax3) = plt.subplots(nrows = 3,ncols = 1,figsize = (15,15))\n",
    "sns.boxplot('most_recent_purchases_range_mode','act_target',data = recent_purchases_range_mode,ax = ax1)\n",
    "sns.boxplot('most_recent_purchases_range_nunique','act_target',data = recent_purchases_range_nunique,ax = ax2)\n",
    "sns.boxplot('most_recent_purchases_range_count','act_target',data = recent_purchases_range_count,ax = ax3)"
   ]
  },
  {
   "cell_type": "markdown",
   "metadata": {},
   "source": [
    "## Analysis\n",
    "* It's same as that of most_recent_sales_range.\n",
    "* We tried with a new aggregation of count. It returned a continuous valued feature.\n",
    "* Checked for pearson correlation with target variable,it came out to be very low."
   ]
  },
  {
   "cell_type": "code",
   "execution_count": 54,
   "metadata": {},
   "outputs": [
    {
     "data": {
      "text/html": [
       "<div>\n",
       "<style scoped>\n",
       "    .dataframe tbody tr th:only-of-type {\n",
       "        vertical-align: middle;\n",
       "    }\n",
       "\n",
       "    .dataframe tbody tr th {\n",
       "        vertical-align: top;\n",
       "    }\n",
       "\n",
       "    .dataframe thead th {\n",
       "        text-align: right;\n",
       "    }\n",
       "</style>\n",
       "<table border=\"1\" class=\"dataframe\">\n",
       "  <thead>\n",
       "    <tr style=\"text-align: right;\">\n",
       "      <th></th>\n",
       "      <th>act_target</th>\n",
       "      <th>most_recent_purchases_range_count</th>\n",
       "    </tr>\n",
       "  </thead>\n",
       "  <tbody>\n",
       "    <tr>\n",
       "      <th>act_target</th>\n",
       "      <td>1.0</td>\n",
       "      <td>0.043186</td>\n",
       "    </tr>\n",
       "  </tbody>\n",
       "</table>\n",
       "</div>"
      ],
      "text/plain": [
       "            act_target  most_recent_purchases_range_count\n",
       "act_target         1.0                           0.043186"
      ]
     },
     "execution_count": 54,
     "metadata": {},
     "output_type": "execute_result"
    }
   ],
   "source": [
    "abs(recent_purchases_range_count.corr())[['act_target']].T"
   ]
  },
  {
   "cell_type": "markdown",
   "metadata": {},
   "source": [
    "## 6.1 Objective : Explore Average sales lag"
   ]
  },
  {
   "cell_type": "code",
   "execution_count": 55,
   "metadata": {},
   "outputs": [
    {
     "name": "stdout",
     "output_type": "stream",
     "text": [
      "Number of null entries :  4461\n",
      "Percentage of null entries :  0.03353980500449077\n"
     ]
    }
   ],
   "source": [
    "getPercentageOfNullEntries(merge_df,'avg_sales_lag3')"
   ]
  },
  {
   "cell_type": "code",
   "execution_count": 56,
   "metadata": {},
   "outputs": [
    {
     "data": {
      "text/plain": [
       "array([0., 1., 1., 1., 1., 1., 1.])"
      ]
     },
     "execution_count": 56,
     "metadata": {},
     "output_type": "execute_result"
    }
   ],
   "source": [
    "## Checking for different quantile range values\n",
    "np.percentile(merge_df['avg_sales_lag3'].notnull().values,q=[0,25,50,75,90,95,99])"
   ]
  },
  {
   "cell_type": "markdown",
   "metadata": {},
   "source": [
    "All of the values beyond 25th percentile are 1"
   ]
  },
  {
   "cell_type": "code",
   "execution_count": 57,
   "metadata": {},
   "outputs": [
    {
     "name": "stdout",
     "output_type": "stream",
     "text": [
      "[0. 1. 1. 1. 1. 1.]\n",
      "[0. 1. 1. 1. 1. 1.]\n"
     ]
    }
   ],
   "source": [
    "print(np.percentile(merge_df['avg_sales_lag3'].notnull().values,q=[0,5,10,15,20,25]))\n",
    "print(np.percentile(merge_df['avg_sales_lag3'].notnull().values,q=[0,1,2,3,4,5]))"
   ]
  },
  {
   "cell_type": "markdown",
   "metadata": {},
   "source": [
    "## 6.1.1  Objective : To check distribution of avg_sales_lag3"
   ]
  },
  {
   "cell_type": "code",
   "execution_count": 58,
   "metadata": {},
   "outputs": [
    {
     "data": {
      "text/plain": [
       "<matplotlib.axes._subplots.AxesSubplot at 0x2ba78a52470>"
      ]
     },
     "execution_count": 58,
     "metadata": {},
     "output_type": "execute_result"
    },
    {
     "data": {
      "image/png": "[encoded data removed]",
      "text/plain": [
       "<Figure size 432x288 with 1 Axes>"
      ]
     },
     "metadata": {
      "needs_background": "light"
     },
     "output_type": "display_data"
    }
   ],
   "source": [
    "sns.kdeplot(merge_df[(merge_df['avg_sales_lag3'] <= 1) & (merge_df['avg_sales_lag6'] >= -1)]['avg_sales_lag3'])"
   ]
  },
  {
   "cell_type": "markdown",
   "metadata": {},
   "source": [
    "## Analysis\n",
    "* The values are left skewed.\n",
    "* Majority of the values are centered around 1."
   ]
  },
  {
   "cell_type": "markdown",
   "metadata": {},
   "source": [
    "## 6.1.2 Function ot calculate aggregate on numerical features"
   ]
  },
  {
   "cell_type": "code",
   "execution_count": 59,
   "metadata": {},
   "outputs": [],
   "source": [
    "def createNumericalAggr(df,groupby_cat,num_feat):\n",
    "    \"\"\"\n",
    "        Input : \n",
    "            df : DataFrame to be used for operation\n",
    "    groupby_cat: Column to be used for groupby\n",
    "       num_feat: Feature across which aggregation will be performed \n",
    "    \n",
    "    returns aggregated features with min,max,median,sum and standard-deviation\n",
    "    \"\"\"\n",
    "    \n",
    "    aggr_funcs = ['min','max','median','sum','std']\n",
    "    aggr_dict = {num_feat : aggr_funcs}\n",
    "    aggr_df = df.groupby([groupby_cat]).agg(aggr_dict).reset_index()\n",
    "    aggr_df.columns = ['_'.join(col).strip('_') for col in aggr_df.columns.values]\n",
    "    return aggr_df"
   ]
  },
  {
   "cell_type": "markdown",
   "metadata": {},
   "source": [
    "## 6.1.3 Check correlation of aggregated features on average sales lag with target variable\n",
    "* We'll be doing min,max,median,sum and standard-deviation aggregation on average sales and check it's correlation with target variable.\n",
    "* We'll be following the same procedure throughout the notebook for all our numerical features."
   ]
  },
  {
   "cell_type": "code",
   "execution_count": 60,
   "metadata": {},
   "outputs": [
    {
     "data": {
      "text/plain": [
       "<matplotlib.axes._subplots.AxesSubplot at 0x2b9a6518630>"
      ]
     },
     "execution_count": 60,
     "metadata": {},
     "output_type": "execute_result"
    },
    {
     "data": {
      "image/png": "[encoded data removed]",
      "text/plain": [
       "<Figure size 1080x144 with 2 Axes>"
      ]
     },
     "metadata": {
      "needs_background": "light"
     },
     "output_type": "display_data"
    }
   ],
   "source": [
    "avg_sales_lag3_df = createNumericalAggr(merge_df,'card_id','avg_sales_lag3')\n",
    "sales_lag3_df = pd.merge(nout_train_df,avg_sales_lag3_df,on='card_id',how='left')\n",
    "fig,ax = plt.subplots(figsize=(15,2))\n",
    "sns.heatmap(abs(sales_lag3_df.corr())[['act_target']].T,ax=ax)"
   ]
  },
  {
   "cell_type": "code",
   "execution_count": 61,
   "metadata": {},
   "outputs": [
    {
     "data": {
      "text/plain": [
       "<matplotlib.axes._subplots.AxesSubplot at 0x2b988a4ebe0>"
      ]
     },
     "execution_count": 61,
     "metadata": {},
     "output_type": "execute_result"
    },
    {
     "data": {
      "image/png": "[encoded data removed]",
      "text/plain": [
       "<Figure size 1080x144 with 2 Axes>"
      ]
     },
     "metadata": {
      "needs_background": "light"
     },
     "output_type": "display_data"
    }
   ],
   "source": [
    "avg_sales_lag6_df = createNumericalAggr(merge_df,'card_id','avg_sales_lag6')\n",
    "sales_lag6_df = pd.merge(nout_train_df,avg_sales_lag6_df,on='card_id',how='left')\n",
    "fig,ax = plt.subplots(figsize=(15,2))\n",
    "sns.heatmap(abs(sales_lag6_df.corr())[['act_target']].T,ax=ax)"
   ]
  },
  {
   "cell_type": "code",
   "execution_count": 62,
   "metadata": {},
   "outputs": [
    {
     "data": {
      "text/plain": [
       "<matplotlib.axes._subplots.AxesSubplot at 0x2b91549c0f0>"
      ]
     },
     "execution_count": 62,
     "metadata": {},
     "output_type": "execute_result"
    },
    {
     "data": {
      "image/png": "[encoded data removed]",
      "text/plain": [
       "<Figure size 1080x144 with 2 Axes>"
      ]
     },
     "metadata": {
      "needs_background": "light"
     },
     "output_type": "display_data"
    }
   ],
   "source": [
    "avg_sales_lag12_df = createNumericalAggr(merge_df,'card_id','avg_sales_lag12')\n",
    "sales_lag12_df = pd.merge(nout_train_df,avg_sales_lag12_df,on='card_id',how='left')\n",
    "fig,ax = plt.subplots(figsize=(15,2))\n",
    "sns.heatmap(abs(sales_lag12_df.corr())[['act_target']].T,ax=ax)"
   ]
  },
  {
   "cell_type": "markdown",
   "metadata": {},
   "source": [
    "## Analysis\n",
    "* We saw very low correlation of aggregated features with target variable.\n",
    "* This aggregation won't be of any use to our feature set."
   ]
  },
  {
   "cell_type": "markdown",
   "metadata": {},
   "source": [
    "## 7.1 Objective : Explore Average Purchase Lags\n",
    "* Analysis objective and method is same as average sales lags"
   ]
  },
  {
   "cell_type": "code",
   "execution_count": 63,
   "metadata": {},
   "outputs": [
    {
     "data": {
      "text/plain": [
       "<matplotlib.axes._subplots.AxesSubplot at 0x2b915484400>"
      ]
     },
     "execution_count": 63,
     "metadata": {},
     "output_type": "execute_result"
    },
    {
     "data": {
      "image/png": "[encoded data removed]",
      "text/plain": [
       "<Figure size 1080x144 with 2 Axes>"
      ]
     },
     "metadata": {
      "needs_background": "light"
     },
     "output_type": "display_data"
    }
   ],
   "source": [
    "avg_purchases_lag3_df = createNumericalAggr(merge_df,'card_id','avg_purchases_lag3')\n",
    "purchases_lag3_df = pd.merge(nout_train_df,avg_purchases_lag3_df,on='card_id',how='left')\n",
    "fig,ax = plt.subplots(figsize=(15,2))\n",
    "sns.heatmap(abs(purchases_lag3_df.corr())[['act_target']].T,ax=ax)"
   ]
  },
  {
   "cell_type": "code",
   "execution_count": 64,
   "metadata": {},
   "outputs": [
    {
     "data": {
      "text/plain": [
       "<matplotlib.axes._subplots.AxesSubplot at 0x2b9b2ee4588>"
      ]
     },
     "execution_count": 64,
     "metadata": {},
     "output_type": "execute_result"
    },
    {
     "data": {
      "image/png": "[encoded data removed]",
      "text/plain": [
       "<Figure size 1080x144 with 2 Axes>"
      ]
     },
     "metadata": {
      "needs_background": "light"
     },
     "output_type": "display_data"
    }
   ],
   "source": [
    "avg_purchases_lag6_df = createNumericalAggr(merge_df,'card_id','avg_purchases_lag6')\n",
    "purchases_lag6_df = pd.merge(nout_train_df,avg_purchases_lag6_df,on='card_id',how='left')\n",
    "fig,ax = plt.subplots(figsize=(15,2))\n",
    "sns.heatmap(abs(purchases_lag6_df.corr())[['act_target']].T,ax=ax)"
   ]
  },
  {
   "cell_type": "code",
   "execution_count": 65,
   "metadata": {},
   "outputs": [
    {
     "data": {
      "text/plain": [
       "<matplotlib.axes._subplots.AxesSubplot at 0x2ba021dcac8>"
      ]
     },
     "execution_count": 65,
     "metadata": {},
     "output_type": "execute_result"
    },
    {
     "data": {
      "image/png": "[encoded data removed]",
      "text/plain": [
       "<Figure size 1080x144 with 2 Axes>"
      ]
     },
     "metadata": {
      "needs_background": "light"
     },
     "output_type": "display_data"
    }
   ],
   "source": [
    "avg_purchases_lag12_df = createNumericalAggr(merge_df,'card_id','avg_purchases_lag12')\n",
    "purchases_lag12_df = pd.merge(nout_train_df,avg_purchases_lag12_df,on='card_id',how='left')\n",
    "fig,ax = plt.subplots(figsize=(15,2))\n",
    "sns.heatmap(abs(purchases_lag12_df.corr())[['act_target']].T,ax=ax)"
   ]
  },
  {
   "cell_type": "markdown",
   "metadata": {},
   "source": [
    "## Analysis\n",
    "* Same as that of avg_sales_lag"
   ]
  },
  {
   "cell_type": "markdown",
   "metadata": {},
   "source": [
    "## 8. Checking correlation of aggregated functions on average sales lag over 3,6 and 12 months with target variable"
   ]
  },
  {
   "cell_type": "code",
   "execution_count": 22,
   "metadata": {},
   "outputs": [],
   "source": [
    "merge_df['sum_avg_sales_lag'] = merge_df['avg_sales_lag3'] + merge_df['avg_sales_lag6'] + merge_df['avg_sales_lag12']\n",
    "merge_df['mean_avg_sales_lag'] = (merge_df['avg_sales_lag3'] + merge_df['avg_sales_lag6'] + merge_df['avg_sales_lag12'])/3\n",
    "merge_df['max_avg_sales_lag'] = merge_df[['avg_sales_lag3','avg_sales_lag6','avg_sales_lag12']].max(axis=1)\n",
    "merge_df['min_avg_sales_lag'] = merge_df[['avg_sales_lag3','avg_sales_lag6','avg_sales_lag12']].min(axis=1)\n",
    "\n",
    "## Assigning higher weightage to most recent lag and lower weightage to previous lags\n",
    "merge_df['wt_avg_sales_lag'] = (0.5*merge_df['avg_sales_lag3'] + 0.3*merge_df['avg_sales_lag6'] + 0.2*merge_df['avg_sales_lag12'])/3"
   ]
  },
  {
   "cell_type": "code",
   "execution_count": 24,
   "metadata": {},
   "outputs": [
    {
     "data": {
      "text/plain": [
       "<matplotlib.axes._subplots.AxesSubplot at 0x2b9b41e2940>"
      ]
     },
     "execution_count": 24,
     "metadata": {},
     "output_type": "execute_result"
    },
    {
     "data": {
      "image/png": "[encoded data removed]",
      "text/plain": [
       "<Figure size 1080x144 with 2 Axes>"
      ]
     },
     "metadata": {
      "needs_background": "light"
     },
     "output_type": "display_data"
    }
   ],
   "source": [
    "avg_sales_lag = pd.merge(nout_train_df,merge_df[['card_id','sum_avg_sales_lag','mean_avg_sales_lag','max_avg_sales_lag','min_avg_sales_lag','wt_avg_sales_lag']],on='card_id',how='left')\n",
    "avg_sales_lag = avg_sales_lag[~avg_sales_lag.isnull()]\n",
    "fig,ax = plt.subplots(figsize=(15,2))\n",
    "sns.heatmap(abs(avg_sales_lag.corr())[['act_target']].T,ax = ax)"
   ]
  },
  {
   "cell_type": "markdown",
   "metadata": {},
   "source": [
    "## Analysis\n",
    "* Of all the new features that we created none of them shows high correlation with target variable."
   ]
  },
  {
   "cell_type": "markdown",
   "metadata": {},
   "source": [
    "## 9. Objective : Exploring Category_1,Category_2 and Category_4\n",
    "\n",
    "* We can already see a lot of categorical columns which are common in both historical and merchant files\n",
    "* Let's see if they contain the same set of values"
   ]
  },
  {
   "cell_type": "code",
   "execution_count": 70,
   "metadata": {},
   "outputs": [
    {
     "name": "stdout",
     "output_type": "stream",
     "text": [
      "Unique categories for category 1 :  ['N' 'Y']\n",
      "Unique categories for category 2 :  [ 3. nan  1.  4.  5.  2.]\n",
      "Unique categories for category 4 :  ['N' 'Y']\n"
     ]
    }
   ],
   "source": [
    "print(\"Unique categories for category 1 : \",merge_df['category_1'].unique())\n",
    "print(\"Unique categories for category 2 : \",merge_df['category_2'].unique())\n",
    "print(\"Unique categories for category 4 : \",merge_df['category_4'].unique())"
   ]
  },
  {
   "cell_type": "markdown",
   "metadata": {},
   "source": [
    "* Category 1 and 2 have the same values as that in historical transactions.\n",
    "* Category 4 has same categories as that of category 1."
   ]
  },
  {
   "cell_type": "code",
   "execution_count": 71,
   "metadata": {},
   "outputs": [
    {
     "data": {
      "text/plain": [
       "60.972696448449675"
      ]
     },
     "execution_count": 71,
     "metadata": {},
     "output_type": "execute_result"
    }
   ],
   "source": [
    "merge_df[merge_df['category_1'] == merge_df['category_4']].shape[0]*100/merge_df.shape[0]"
   ]
  },
  {
   "cell_type": "code",
   "execution_count": 13,
   "metadata": {},
   "outputs": [
    {
     "data": {
      "image/png": "[encoded data removed]",
      "text/plain": [
       "<Figure size 1080x720 with 1 Axes>"
      ]
     },
     "metadata": {
      "needs_background": "light"
     },
     "output_type": "display_data"
    }
   ],
   "source": [
    "eda_fe.plotBarPlot(merchants_df,'category_1')"
   ]
  },
  {
   "cell_type": "markdown",
   "metadata": {},
   "source": [
    "* Distribution of categories in Category_1 is skewed with majority of the values as 'N'."
   ]
  },
  {
   "cell_type": "code",
   "execution_count": 14,
   "metadata": {},
   "outputs": [
    {
     "data": {
      "image/png": "[encoded data removed]",
      "text/plain": [
       "<Figure size 1080x720 with 1 Axes>"
      ]
     },
     "metadata": {
      "needs_background": "light"
     },
     "output_type": "display_data"
    }
   ],
   "source": [
    "eda_fe.plotBarPlot(merchants_df,'category_4')"
   ]
  },
  {
   "cell_type": "markdown",
   "metadata": {},
   "source": [
    "* Distribution of categories in Category_4 is also skewed with majority of the values as 'N'."
   ]
  },
  {
   "cell_type": "code",
   "execution_count": 15,
   "metadata": {},
   "outputs": [
    {
     "data": {
      "image/png": "[encoded data removed]",
      "text/plain": [
       "<Figure size 1080x720 with 1 Axes>"
      ]
     },
     "metadata": {
      "needs_background": "light"
     },
     "output_type": "display_data"
    }
   ],
   "source": [
    "eda_fe.plotBarPlot(merchants_df,'category_2')"
   ]
  },
  {
   "cell_type": "markdown",
   "metadata": {},
   "source": [
    "* Distribution is same as that of category_2 in historical transactions."
   ]
  },
  {
   "cell_type": "markdown",
   "metadata": {},
   "source": [
    "## 10. Objective : Explore Active months lag"
   ]
  },
  {
   "cell_type": "code",
   "execution_count": 77,
   "metadata": {},
   "outputs": [
    {
     "data": {
      "image/png": "[encoded data removed]",
      "text/plain": [
       "<Figure size 1080x720 with 1 Axes>"
      ]
     },
     "metadata": {
      "needs_background": "light"
     },
     "output_type": "display_data"
    },
    {
     "data": {
      "image/png": "[encoded data removed]",
      "text/plain": [
       "<Figure size 1080x720 with 1 Axes>"
      ]
     },
     "metadata": {
      "needs_background": "light"
     },
     "output_type": "display_data"
    },
    {
     "data": {
      "image/png": "[encoded data removed]",
      "text/plain": [
       "<Figure size 1080x720 with 1 Axes>"
      ]
     },
     "metadata": {
      "needs_background": "light"
     },
     "output_type": "display_data"
    }
   ],
   "source": [
    "eda_fe.plotBarPlot(merchants_df,'active_months_lag3')\n",
    "eda_fe.plotBarPlot(merchants_df,'active_months_lag6')\n",
    "eda_fe.plotBarPlot(merchants_df,'active_months_lag12')"
   ]
  },
  {
   "cell_type": "markdown",
   "metadata": {},
   "source": [
    "## Analysis\n",
    "* Distribution of active month lag for all three categories is skewed.\n",
    "* Which is understandable because it represents number of active months in the last 3,6 and 12 months which for the majority of the merchants has been the maximum."
   ]
  },
  {
   "cell_type": "markdown",
   "metadata": {},
   "source": [
    "## 10.1 Objective : Check relation between aggregated features(Modal) and target variable\n",
    "* We'll be applying mode and nunique aggregation on this categorical variable with groupby on card_id as always."
   ]
  },
  {
   "cell_type": "code",
   "execution_count": 78,
   "metadata": {},
   "outputs": [
    {
     "data": {
      "text/plain": [
       "<matplotlib.axes._subplots.AxesSubplot at 0x2b90535d390>"
      ]
     },
     "execution_count": 78,
     "metadata": {},
     "output_type": "execute_result"
    },
    {
     "data": {
      "image/png": "[encoded data removed]",
      "text/plain": [
       "<Figure size 1080x720 with 3 Axes>"
      ]
     },
     "metadata": {
      "needs_background": "light"
     },
     "output_type": "display_data"
    }
   ],
   "source": [
    "active_months_lag3_mode = eda_fe.computeCategoricalAggr(nout_train_df,merge_df,'active_months_lag3',mode_lambda_func,'mode')\n",
    "active_months_lag6_mode = eda_fe.computeCategoricalAggr(nout_train_df,merge_df,'active_months_lag6',mode_lambda_func,'mode')\n",
    "active_months_lag12_mode = eda_fe.computeCategoricalAggr(nout_train_df,merge_df,'active_months_lag12',mode_lambda_func,'mode')\n",
    "\n",
    "fig,(ax1,ax2,ax3) = plt.subplots(nrows = 3,ncols = 1,figsize = (15,10))\n",
    "sns.boxplot('active_months_lag3_mode','act_target',data = active_months_lag3_mode,ax = ax1)\n",
    "sns.boxplot('active_months_lag6_mode','act_target',data = active_months_lag6_mode,ax = ax2)\n",
    "sns.boxplot('active_months_lag12_mode','act_target',data = active_months_lag12_mode,ax = ax3)"
   ]
  },
  {
   "cell_type": "markdown",
   "metadata": {},
   "source": [
    "## Analysis\n",
    "* Statistical mode on categorical features suggests some variation in distribution of target variable.\n",
    "\n",
    "## Conclusion\n",
    "* This seems to be a good feature with some variance in distribution."
   ]
  },
  {
   "cell_type": "markdown",
   "metadata": {},
   "source": [
    "## 10.2 Check relation with target variable and nunique aggregated feature"
   ]
  },
  {
   "cell_type": "code",
   "execution_count": 79,
   "metadata": {},
   "outputs": [
    {
     "data": {
      "text/plain": [
       "<matplotlib.axes._subplots.AxesSubplot at 0x2b9e231aa90>"
      ]
     },
     "execution_count": 79,
     "metadata": {},
     "output_type": "execute_result"
    },
    {
     "data": {
      "image/png": "[encoded data removed]",
      "text/plain": [
       "<Figure size 1080x720 with 3 Axes>"
      ]
     },
     "metadata": {
      "needs_background": "light"
     },
     "output_type": "display_data"
    }
   ],
   "source": [
    "active_months_lag3_nunique = eda_fe.computeCategoricalAggr(nout_train_df,merge_df,'active_months_lag3',nunique_lambda_func,'nunique')\n",
    "active_months_lag6_nunique = eda_fe.computeCategoricalAggr(nout_train_df,merge_df,'active_months_lag6',nunique_lambda_func,'nunique')\n",
    "active_months_lag12_nunique = eda_fe.computeCategoricalAggr(nout_train_df,merge_df,'active_months_lag12',nunique_lambda_func,'nunique')\n",
    "\n",
    "fig,(ax1,ax2,ax3) = plt.subplots(nrows = 3,ncols = 1,figsize = (15,10))\n",
    "sns.boxplot('active_months_lag3_nunique','act_target',data = active_months_lag3_nunique,ax = ax1)\n",
    "sns.boxplot('active_months_lag6_nunique','act_target',data = active_months_lag6_nunique,ax = ax2)\n",
    "sns.boxplot('active_months_lag12_nunique','act_target',data = active_months_lag12_nunique,ax = ax3)"
   ]
  },
  {
   "cell_type": "markdown",
   "metadata": {},
   "source": [
    "## Analysis\n",
    "* While there is no much variation for active_months_lag3,lag6 and lag12 shows good variation of distribution with target variable.\n",
    "\n",
    "## Conclusion\n",
    "* Even above aggregation can be added to our feature set."
   ]
  },
  {
   "cell_type": "markdown",
   "metadata": {},
   "source": [
    "## 11. Objective : Explore Numerical_1 & Numerical_2\n",
    "* Observe distribution of numerical_1 and numerical_2 feature.\n",
    "* These attributes are normalized and anonymous in nature with no information provided about them in data dictionary.\n",
    "* Check for correlation of aggregated features on numerical_1 and numerical_2 with actual target variable."
   ]
  },
  {
   "cell_type": "code",
   "execution_count": 80,
   "metadata": {},
   "outputs": [
    {
     "data": {
      "text/plain": [
       "<matplotlib.axes._subplots.AxesSubplot at 0x2ba23d63dd8>"
      ]
     },
     "execution_count": 80,
     "metadata": {},
     "output_type": "execute_result"
    },
    {
     "data": {
      "image/png": "[encoded data removed]",
      "text/plain": [
       "<Figure size 432x288 with 1 Axes>"
      ]
     },
     "metadata": {
      "needs_background": "light"
     },
     "output_type": "display_data"
    }
   ],
   "source": [
    "sns.kdeplot(merge_df['numerical_1'])"
   ]
  },
  {
   "cell_type": "code",
   "execution_count": 84,
   "metadata": {},
   "outputs": [
    {
     "data": {
      "text/plain": [
       "<matplotlib.axes._subplots.AxesSubplot at 0x2b9f0e91748>"
      ]
     },
     "execution_count": 84,
     "metadata": {},
     "output_type": "execute_result"
    },
    {
     "data": {
      "image/png": "[encoded data removed]",
      "text/plain": [
       "<Figure size 432x288 with 1 Axes>"
      ]
     },
     "metadata": {
      "needs_background": "light"
     },
     "output_type": "display_data"
    }
   ],
   "source": [
    "sns.kdeplot(merge_df['numerical_2'])"
   ]
  },
  {
   "cell_type": "markdown",
   "metadata": {},
   "source": [
    "## Analysis\n",
    "* Distribution is centered arounf 0 with few outliers on the extreme end."
   ]
  },
  {
   "cell_type": "code",
   "execution_count": 81,
   "metadata": {},
   "outputs": [],
   "source": [
    "num1_aggr_df = createNumericalAggr(merge_df,'card_id','numerical_1')\n",
    "num2_aggr_df = createNumericalAggr(merge_df,'card_id','numerical_2')"
   ]
  },
  {
   "cell_type": "code",
   "execution_count": 82,
   "metadata": {},
   "outputs": [
    {
     "data": {
      "text/plain": [
       "<matplotlib.axes._subplots.AxesSubplot at 0x2ba1e7a6518>"
      ]
     },
     "execution_count": 82,
     "metadata": {},
     "output_type": "execute_result"
    },
    {
     "data": {
      "image/png": "[encoded data removed]",
      "text/plain": [
       "<Figure size 1080x144 with 2 Axes>"
      ]
     },
     "metadata": {
      "needs_background": "light"
     },
     "output_type": "display_data"
    }
   ],
   "source": [
    "num1_aggr_df = pd.merge(nout_train_df,num1_aggr_df,on='card_id',how='inner')\n",
    "fig,ax = plt.subplots(figsize=(15,2))\n",
    "sns.heatmap(abs(num1_aggr_df.corr())[['act_target']].T,ax=ax)"
   ]
  },
  {
   "cell_type": "code",
   "execution_count": 83,
   "metadata": {},
   "outputs": [
    {
     "data": {
      "text/plain": [
       "<matplotlib.axes._subplots.AxesSubplot at 0x2b939e3c400>"
      ]
     },
     "execution_count": 83,
     "metadata": {},
     "output_type": "execute_result"
    },
    {
     "data": {
      "image/png": "[encoded data removed]",
      "text/plain": [
       "<Figure size 1080x144 with 2 Axes>"
      ]
     },
     "metadata": {
      "needs_background": "light"
     },
     "output_type": "display_data"
    }
   ],
   "source": [
    "num2_aggr_df = pd.merge(nout_train_df,num2_aggr_df,on='card_id',how='inner')\n",
    "fig,ax = plt.subplots(figsize=(15,2))\n",
    "sns.heatmap(abs(num2_aggr_df.corr())[['act_target']].T,ax=ax)"
   ]
  },
  {
   "cell_type": "markdown",
   "metadata": {},
   "source": [
    "## Analysis\n",
    "* They don't show good correlation with target variable."
   ]
  },
  {
   "cell_type": "markdown",
   "metadata": {},
   "source": [
    "# Overall Analysis\n",
    "\n",
    "## Strategies to merge merchants df and train_data\n",
    "\n",
    "### 3. Some important points before we proceed with our analysis\n",
    "* For analysis with target variable, we require to merge our aggregated information with card_id in train_df.\n",
    "* Merchants_df doesn't have a card_id field in it and cannot be directly merged with train_df.\n",
    "* Historical transactions have card_id,merchant_id,merchant_category_id and subsector_id.\n",
    "* Information can be aggregated at various levels using the above merchant fields and then be combined with historical transactions so that it can later be merged with train_df but problem with this approach is that we have to perform multiple levels of aggregation or we can simply perform inner join on the above common fields and merge the historical transactions and merchants transactions.\n",
    "* This can help us perform aggregation on just level in the merged_dataframe on card_id.\n",
    "\n",
    "### Let's first pick only those transactions from historical transactions whose card_id's are present in train_df¶\n",
    "* Here we will first select card_ids's from train_df with no outliers.(nout_train_df)\n",
    "* We'll sample the historical transaction dataset using the above card_id's.(s_hist_df)\n",
    "* We'll then create a new merged dataframe by performing inner join on s_hist_df and merchants_df with common keys(card_id,merchant_id,merchant_category_id,subsector_id) in both the dataset.\n",
    "\t\n",
    "### Creating the merge_df which we'll be using throughout the notebook\n",
    "* merge_df = pd.merge(s_hist_df,merchants_df,how='inner',left_on=['merchant_id','merchant_category_id','subsector_id'],right_on=['merchant_id','merchant_category_id','subsector_id'])\t\n",
    "\n",
    "### Features and their analysis\n",
    "* most_recent_purchase_range,most_recent_sales_range : categorical values(A,E)<br>\n",
    "\tApplied categorical aggregation(mean,mode,min,max and nunique)<br>\n",
    "\tNo significant observation<br>\n",
    "\t\n",
    "* Average_sales,Average_purchases : lag_3,lag_6,lag_12 <br>\n",
    "\tPerformed numerical aggregation with min,max,median,mean and standard deviation and checked correlation with target\n",
    "    variable.<br>\n",
    "\tNo significant observation.<br>\n",
    "\t\n",
    "* Active_month_lag : 3,6,12<br>\n",
    "\tDistribution of active month lag for all three categories is skewed with majority value for the last month.<br>\n",
    "\tWhich is understandable because it represents number of active months in the last 3,6 and 12 months which for the majority of the merchants has been the maximum.<br>\n",
    "\t\t\n",
    "\t<b>Statistical aggregation performed</b> : mode,nunique<br>\n",
    "\t<b>Analysis</b> : Good variance in distribution when compared to target variable. (checked with box plot)<br>\n",
    "\t<b>Conclusion</b> : Seems to be a good feature<br>\n",
    "\t\t\n",
    "* Numerical features : Numerical_1,Numerical_2<br>\n",
    "\tPerformed numerical aggregation<br>\n",
    "\tNot much strong association with the target variable.\n",
    "\t\n",
    "\t\n",
    "\t\n",
    "\t\n",
    "\t\n",
    "\t\n"
   ]
  },
  {
   "cell_type": "code",
   "execution_count": null,
   "metadata": {},
   "outputs": [],
   "source": []
  }
 ],
 "metadata": {
  "kernelspec": {
   "display_name": "Python 3",
   "language": "python",
   "name": "python3"
  },
  "language_info": {
   "codemirror_mode": {
    "name": "ipython",
    "version": 3
   },
   "file_extension": ".py",
   "mimetype": "text/x-python",
   "name": "python",
   "nbconvert_exporter": "python",
   "pygments_lexer": "ipython3",
   "version": "3.8.5"
  }
 },
 "nbformat": 4,
 "nbformat_minor": 4
}
