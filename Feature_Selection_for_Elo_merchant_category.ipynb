{
 "cells": [
  {
   "cell_type": "markdown",
   "metadata": {},
   "source": [
    "## Summary of the notebook\n",
    "* [Built a function for selection of features in a greedy manner](#greedy_feature_selection)\n",
    "* [Boruta_Py : Another way of selecting features](#boruta_py_feature_selection)\n",
    "* [Permutation_Importance : A method for feature selection](#permutation_importance_feature_selection)"
   ]
  },
  {
   "cell_type": "code",
   "execution_count": 1,
   "metadata": {
    "colab": {},
    "colab_type": "code",
    "id": "S0R6-8_2b1uk"
   },
   "outputs": [
    {
     "name": "stderr",
     "output_type": "stream",
     "text": [
      "c:\\users\\capiot\\appdata\\local\\programs\\python\\python36\\lib\\site-packages\\sklearn\\utils\\deprecation.py:143: FutureWarning: The sklearn.metrics.scorer module is  deprecated in version 0.22 and will be removed in version 0.24. The corresponding classes / functions should instead be imported from sklearn.metrics. Anything that cannot be imported from sklearn.metrics is now part of the private API.\n",
      "  warnings.warn(message, FutureWarning)\n",
      "c:\\users\\capiot\\appdata\\local\\programs\\python\\python36\\lib\\site-packages\\sklearn\\utils\\deprecation.py:143: FutureWarning: The sklearn.feature_selection.base module is  deprecated in version 0.22 and will be removed in version 0.24. The corresponding classes / functions should instead be imported from sklearn.feature_selection. Anything that cannot be imported from sklearn.feature_selection is now part of the private API.\n",
      "  warnings.warn(message, FutureWarning)\n"
     ]
    }
   ],
   "source": [
    "import pandas as pd\n",
    "import numpy as np\n",
    "import pickle\n",
    "import matplotlib.pyplot as plt\n",
    "import seaborn as sns\n",
    "from sklearn.metrics import mean_squared_error as mse\n",
    "from sklearn.model_selection import StratifiedKFold\n",
    "from sklearn.model_selection import KFold\n",
    "from sklearn.model_selection import RepeatedKFold\n",
    "import gc\n",
    "import lightgbm as lgb\n",
    "import eli5\n",
    "from eli5.sklearn import PermutationImportance"
   ]
  },
  {
   "cell_type": "code",
   "execution_count": null,
   "metadata": {
    "colab": {
     "base_uri": "https://localhost:8080/",
     "height": 34
    },
    "colab_type": "code",
    "id": "heNIEU9JcvPm",
    "outputId": "48ad86e0-1a29-4108-d0bd-6e08b564dd5c"
   },
   "outputs": [
    {
     "name": "stdout",
     "output_type": "stream",
     "text": [
      "Drive already mounted at /content/gdrive; to attempt to forcibly remount, call drive.mount(\"/content/gdrive\", force_remount=True).\n"
     ]
    }
   ],
   "source": [
    "from google.colab import drive \n",
    "drive.mount('/content/gdrive')"
   ]
  },
  {
   "cell_type": "markdown",
   "metadata": {
    "colab_type": "text",
    "id": "uNLEmW3ow1qb"
   },
   "source": [
    "## 1. Data Preparation Stage"
   ]
  },
  {
   "cell_type": "code",
   "execution_count": null,
   "metadata": {
    "colab": {},
    "colab_type": "code",
    "id": "g-Kq-mKziexA"
   },
   "outputs": [],
   "source": [
    "##Let's store some important stuff\n",
    "\n",
    "## Storing all the imputed feature names\n",
    "pickle.dump(all_cols,open('gdrive/My Drive/ColabNotebooks/feature_importance_files/all_cols.pkl','wb'))\n",
    "pickle.dump(dt_imputed_cols,open('gdrive/My Drive/ColabNotebooks/feature_importance_files/dt_imputed_cols.pkl','wb'))\n",
    "pickle.dump(nnull_cols,open('gdrive/My Drive/ColabNotebooks/feature_importance_files/nnull_cols.pkl','wb'))\n",
    "\n",
    "## Storing boruta important features selected in first iteration\n",
    "pickle.dump(boruta_imp_feat,open('gdrive/My Drive/ColabNotebooks/feature_importance_files/boruta_imp_feat.pkl','wb'))\n",
    "pickle.dump(feature_set_2.columns,open('gdrive/My Drive/ColabNotebooks/feature_importance_files/feature_set_2_cols.pkl','wb'))\n",
    "pickle.dump(feature_set_3.columns,open('gdrive/My Drive/ColabNotebooks/feature_importance_files/feature_set_3_cols.pkl','wb'))\n",
    "\n",
    "## Storing all features,y_target and outlier column \n",
    "## used for feature selection process\n",
    "pickle.dump(X_train,open('gdrive/My Drive/ColabNotebooks/feature_importance_files/X_train_feat_imp.pkl','wb'))\n",
    "pickle.dump(y_target,open('gdrive/My Drive/ColabNotebooks/feature_importance_files/y_target_feat_imp.pkl','wb'))\n",
    "pickle.dump(y_outliers,open('gdrive/My Drive/ColabNotebooks/feature_importance_files/y_outliers_feat_imp.pkl','wb'))\n",
    "\n",
    "## Storing all of the train data\n",
    "pickle.dump(train_data,open('gdrive/My Drive/ColabNotebooks/feature_importance_files/train_data_with_all_feat.pkl','wb'))"
   ]
  },
  {
   "cell_type": "code",
   "execution_count": null,
   "metadata": {
    "colab": {},
    "colab_type": "code",
    "id": "mTTaDT7evLss"
   },
   "outputs": [],
   "source": [
    "## Important stuff to read\n",
    "## Storing all the imputed feature names\n",
    "all_cols = pickle.load(open('gdrive/My Drive/ColabNotebooks/feature_importance_files/all_cols.pkl','rb'))\n",
    "dt_imputed_cols = pickle.load(open('gdrive/My Drive/ColabNotebooks/feature_importance_files/dt_imputed_cols.pkl','rb'))\n",
    "nnull_cols = pickle.load(open('gdrive/My Drive/ColabNotebooks/feature_importance_files/nnull_cols.pkl','rb'))\n",
    "\n",
    "## Storing boruta important features selected in first iteration\n",
    "boruta_imp_feat = pickle.load(open('gdrive/My Drive/ColabNotebooks/feature_importance_files/boruta_imp_feat.pkl','rb'))\n",
    "feature_set_2_cols = pickle.load(open('gdrive/My Drive/ColabNotebooks/feature_importance_files/feature_set_2_cols.pkl','rb'))\n",
    "feature_set_3_cols = pickle.load(open('gdrive/My Drive/ColabNotebooks/feature_importance_files/feature_set_3_cols.pkl','rb'))\n",
    "\n",
    "## Storing all features,y_target and outlier column \n",
    "## used for feature selection process\n",
    "X_train = pickle.load(open('gdrive/My Drive/ColabNotebooks/feature_importance_files/X_train_feat_imp.pkl','rb'))\n",
    "y_target = pickle.load(open('gdrive/My Drive/ColabNotebooks/feature_importance_files/y_target_feat_imp.pkl','rb'))\n",
    "y_outliers = pickle.load(open('gdrive/My Drive/ColabNotebooks/feature_importance_files/y_outliers_feat_imp.pkl','rb'))\n",
    "\n",
    "## Storing all of the train data\n",
    "train_data = pickle.load(open('gdrive/My Drive/ColabNotebooks/feature_importance_files/train_data_with_all_feat.pkl','rb'))"
   ]
  },
  {
   "cell_type": "markdown",
   "metadata": {
    "colab_type": "text",
    "id": "NbnNGzHudIuF"
   },
   "source": [
    "<a id = 'greedy_feature_selection'></a>\n",
    "## 2. Greedy way of Forward Feature Selection"
   ]
  },
  {
   "cell_type": "code",
   "execution_count": null,
   "metadata": {
    "colab": {},
    "colab_type": "code",
    "id": "eTznc3KjPRcZ"
   },
   "outputs": [],
   "source": [
    "def calc_rmse(model,x,y_true):\n",
    "  y_pred = model.predict(x)\n",
    "  return np.sqrt(mse(y_true,y_pred))"
   ]
  },
  {
   "cell_type": "code",
   "execution_count": null,
   "metadata": {
    "colab": {},
    "colab_type": "code",
    "id": "gbTH1xrOqhaj"
   },
   "outputs": [],
   "source": [
    "def checkRMSE(X_train,y_train,train_cols,cv):\n",
    "  \n",
    "  \"\"\"\n",
    "  This function calculates rmse values for the training data\n",
    "  with the mentioned cross-validation number.\n",
    "  It returns average rmse calculated over each fold.\n",
    "  \"\"\"\n",
    "\n",
    "  ## performing Stratified K-fold\n",
    "  stratKfolds = StratifiedKFold(n_splits = cv)\n",
    "  ## we are splitting by outlier data because we want equal percentages of outliers in both train and validation data\n",
    "  lgbm = lgb.LGBMRegressor()\n",
    "  min_rmse = 100\n",
    "  best_fold = 0\n",
    "  avg_rmse = 0\n",
    "\n",
    "  for (fold,(train_index,val_index)) in enumerate(stratKfolds.split(X_train,X_train['outliers'])):\n",
    "      \n",
    "      X_trans_train = X_train.iloc[train_index][train_cols]\n",
    "      y_trans_train = y_train.iloc[train_index]\n",
    "\n",
    "      X_trans_val = X_train.iloc[val_index][train_cols]\n",
    "      y_trans_val = y_train.iloc[val_index]\n",
    "\n",
    "      \n",
    "      lgbm.fit(X_trans_train,y_trans_train)\n",
    "      y_pred = lgbm.predict(X_trans_val)\n",
    "      rmse = calc_rmse(lgbm,X_trans_val,y_trans_val)\n",
    "      avg_rmse = avg_rmse + rmse\n",
    "  return avg_rmse/cv"
   ]
  },
  {
   "cell_type": "code",
   "execution_count": null,
   "metadata": {
    "colab": {
     "base_uri": "https://localhost:8080/",
     "height": 34
    },
    "colab_type": "code",
    "id": "la0fqKNn52J6",
    "outputId": "108a3b77-d7a1-49ba-8c12-66a390b5bf0c"
   },
   "outputs": [
    {
     "name": "stdout",
     "output_type": "stream",
     "text": [
      "Length of selected features :  191\n"
     ]
    }
   ],
   "source": [
    "selected_features = X_train.columns\n",
    "print(\"Length of selected features : \",len(selected_features))"
   ]
  },
  {
   "cell_type": "code",
   "execution_count": null,
   "metadata": {
    "colab": {
     "base_uri": "https://localhost:8080/",
     "height": 700
    },
    "colab_type": "code",
    "id": "i-XCBNVl87er",
    "outputId": "cea92cff-81ac-4195-dda2-d3a77a775e56"
   },
   "outputs": [
    {
     "name": "stdout",
     "output_type": "stream",
     "text": [
      "New rmse :  3.8482126393947116\n",
      "Number of features passed :  0\n",
      "New rmse :  3.8444470462245603\n",
      "Number of features passed :  1\n",
      "New rmse :  3.8430494014222325\n",
      "Number of features passed :  2\n",
      "New rmse :  3.838739249757834\n",
      "Number of features passed :  3\n",
      "New rmse :  3.824572897406623\n",
      "Number of features passed :  4\n",
      "New rmse :  3.790084927827376\n",
      "Number of features passed :  5\n",
      "New rmse :  3.7845615236569685\n",
      "Number of features passed :  7\n",
      "New rmse :  3.784374605214659\n",
      "Number of features passed :  11\n",
      "New rmse :  3.7842564653067714\n",
      "Number of features passed :  12\n",
      "New rmse :  3.782575706974963\n",
      "Number of features passed :  17\n",
      "New rmse :  3.7752342074625163\n",
      "Number of features passed :  22\n",
      "New rmse :  3.773427259351633\n",
      "Number of features passed :  23\n",
      "New rmse :  3.7731498346934913\n",
      "Number of features passed :  33\n",
      "New rmse :  3.772299465743258\n",
      "Number of features passed :  34\n",
      "New rmse :  3.7717779954643795\n",
      "Number of features passed :  144\n",
      "New rmse :  3.771755481456504\n",
      "Number of features passed :  156\n",
      "New rmse :  3.767478288270823\n",
      "Number of features passed :  169\n",
      "New rmse :  3.7650381379999094\n",
      "Number of features passed :  173\n",
      "New rmse :  3.764925648517949\n",
      "Number of features passed :  180\n"
     ]
    }
   ],
   "source": [
    "## A Greedy way of selecting features using forward feature selection\n",
    "## Here we go in a linear fashion and add columns to the feature set \n",
    "## based on whether they improve the rmse score or not\n",
    "\n",
    "## and calculate rmse for that\n",
    "\n",
    "min_rmse = 100\n",
    "init_cols = []\n",
    "no_of_feat_passed = 0\n",
    "for col in selected_features:\n",
    "  new_cols = init_cols + [col]\n",
    "  rmse = checkRMSE(X_train,y_target,new_cols,3)\n",
    "  if min_rmse > rmse:\n",
    "    init_cols = new_cols\n",
    "    min_rmse = rmse\n",
    "    print(\"New rmse : \",min_rmse)\n",
    "    print(\"Number of features passed : \",no_of_feat_passed)\n",
    "  no_of_feat_passed += 1\n"
   ]
  },
  {
   "cell_type": "markdown",
   "metadata": {
    "colab_type": "text",
    "id": "sSKW8Tqg6EV_"
   },
   "source": [
    "<a id=\"boruta_py_feature_selection\"></a>\n",
    "## 3. Boruta Py Feature Selection"
   ]
  },
  {
   "cell_type": "code",
   "execution_count": null,
   "metadata": {
    "colab": {},
    "colab_type": "code",
    "id": "LHBoH_Jv1MZF"
   },
   "outputs": [],
   "source": [
    "from boruta import BorutaPy\n",
    "from sklearn.ensemble import RandomForestRegressor\n",
    "import numpy as np\n",
    "\n",
    "###initialize Boruta\n",
    "rfRegressor = RandomForestRegressor(\n",
    "   n_jobs = -1,\n",
    "   max_depth = 5,\n",
    "   max_features = 'sqrt',\n",
    "   verbose=20\n",
    ")\n",
    "boruta = BorutaPy(\n",
    "   estimator = rfRegressor, \n",
    "   n_estimators = 100,\n",
    "   max_iter = 100,# number of trials to perform\n",
    "   verbose = 20\n",
    ")\n",
    "### fit Boruta (it accepts np.array, not pd.DataFrame)\n",
    "boruta.fit(np.array(X_train), np.array(y_target['target']))"
   ]
  },
  {
   "cell_type": "code",
   "execution_count": null,
   "metadata": {
    "colab": {
     "base_uri": "https://localhost:8080/",
     "height": 72
    },
    "colab_type": "code",
    "id": "18KPGN7n1vEx",
    "outputId": "9ad14f14-a02c-4bf7-f977-2322085309a9"
   },
   "outputs": [
    {
     "name": "stdout",
     "output_type": "stream",
     "text": [
      "features in the green area: ['first_active_year', 'category_1_nunique', 'month_mode', 'month_nunique', 'year_min', 'year_nunique', 'installments_mode', 'installments_min', 'avg_sales_lag3_sum', 'merch_cat_svd_0', 'merch_cat_svd_3', 'merch_cat_svd_6', 'merch_cat_svd_8', 'merch_cat_svd_16', 'np_amount_min_0_3_avg', 'install_1_min', 'np_amount_std_3_5', 'install_2_min', 'wday_count', 'month_count', 'is_purchase_month_end_count', 'is_purchase_quarter_start_count', 'is_purchase_quarter_end_count', 'is_purchase_year_start_count', 'avg_purchases_lag12_min', 'avg_purchases_lag3_sum', 'np_amount_sum_0_2', 'install_3_min', 'install_3_max', 'pamount_refmonth_ratio_mean', 'pamount_refmonth_ratio_sum', 'pamount_refmonth_ratio_var', 'pamount_refmonth_ratio_min', 'pamount_refmonth_ratio_max', 'pamount_refmonth_ratio_skew', 'purch_days_diff', 'number_of_trans', 'purchase_amount_sum']\n",
      "features in the blue area: ['np_amount_max_2_4', 'np_amount_sum_2_4', 'np_amount_mean_4_6', 'np_amount_sum_6_8']\n"
     ]
    }
   ],
   "source": [
    "### print results\n",
    "green_area = X_train.columns[boruta.support_].to_list()\n",
    "blue_area = X_train.columns[boruta.support_weak_].to_list()\n",
    "print('features in the green area:', green_area)\n",
    "print('features in the blue area:', blue_area)"
   ]
  },
  {
   "cell_type": "code",
   "execution_count": null,
   "metadata": {
    "colab": {},
    "colab_type": "code",
    "id": "33-3XRupA84_"
   },
   "outputs": [],
   "source": [
    "selected_features = green_area + blue_area\n",
    "pickle.dump(selected_features,open('gdrive/My Drive/ColabNotebooks/boruta_imp_feat.pkl','wb'))"
   ]
  },
  {
   "cell_type": "markdown",
   "metadata": {
    "colab_type": "text",
    "id": "WiNQ6SczD1nf"
   },
   "source": [
    "<a id='permutation_importance_feature_selection'></a>\n",
    "## 4. Permutation Importance"
   ]
  },
  {
   "cell_type": "markdown",
   "metadata": {
    "colab_type": "text",
    "id": "GxUJlrp6GejV"
   },
   "source": [
    "### Making all the necessary imports and prepare the data for feature selection"
   ]
  },
  {
   "cell_type": "code",
   "execution_count": null,
   "metadata": {
    "colab": {},
    "colab_type": "code",
    "id": "5VxVTqzjGSba"
   },
   "outputs": [],
   "source": [
    "strat_kfold = StratifiedKFold(n_splits = 3)\n",
    "X_train_cols = X_train.columns\n",
    "y_train_cols = y_target.columns\n",
    "\n",
    "imp_feat_fold_wise = []\n",
    "feat_imp = pd.DataFrame(index=X_train_cols)\n",
    "\n",
    "for (fold,(trn_index,val_index)) in enumerate(strat_kfold.split(X_train,y_outliers)):\n",
    "    \n",
    "    print(\"************************************\")\n",
    "    print(\"Creating Fold : \",fold)\n",
    "    print(\"Creating Train and Validation Set...\")\n",
    "    X_trn,y_trn = X_train.iloc[trn_index],y_target.iloc[trn_index] \n",
    "    X_val,y_val = X_train.iloc[val_index],y_target.iloc[val_index]\n",
    "    \n",
    "    \n",
    "    print(\"Size of Train Data : \",len(trn_index))\n",
    "    print(\"Size of Validation Data : \",len(val_index))\n",
    "\n",
    "    print(\"Creating LGBM Regressor...\")\n",
    "    lgbm_regressor = lgb.LGBMRegressor(silent=False)\n",
    "    print(\"Fitting on LGBM Regressor...\")\n",
    "    lgbm_regressor.fit(X_trn,y_trn,verbose=20)\n",
    "    \n",
    "    print(\"Performing Permutation Importance...\")\n",
    "    perm = PermutationImportance(lgbm_regressor).fit(X_val,y_val)\n",
    "    print(\"Adding feature importance and standard deviation...\")\n",
    "    feat_imp['feat_imp_' + str(fold)] = perm.feature_importances_\n",
    "    feat_imp['feat_std_' + str(fold)] = perm.feature_importances_std_\n",
    "\n",
    "    \n",
    "    sorted_feat_imp = feat_imp.sort_values(by='feat_imp_'+str(fold),axis=0,ascending=False)\n",
    "    imp_feat = set(sorted_feat_imp[sorted_feat_imp['feat_imp_'+str(fold)] > 0].index.values)\n",
    "    imp_feat_fold_wise.append(imp_feat)\n",
    "    temp_train = pd.concat([X_train,y_outliers],axis=1)\n",
    "    print(\"Avg RMSE : \",checkRMSE(temp_train,y_target,imp_feat,3))\n",
    "    #print(perm.results_)"
   ]
  },
  {
   "cell_type": "code",
   "execution_count": null,
   "metadata": {
    "colab": {
     "base_uri": "https://localhost:8080/",
     "height": 52
    },
    "colab_type": "code",
    "id": "QJY91ircjmk7",
    "outputId": "19287533-3a66-4671-f397-ad20ada4eed7"
   },
   "outputs": [
    {
     "name": "stdout",
     "output_type": "stream",
     "text": [
      "Avg RMSE :  3.7672837884685175\n",
      "Number of non zero feature importance features :  120\n"
     ]
    }
   ],
   "source": [
    "temp_train = pd.concat([X_train,y_outliers],axis=1)\n",
    "print(\"Avg RMSE : \",checkRMSE(temp_train,y_target,imp_feat,3))\n",
    "print(\"Number of non zero feature importance features : \",len(imp_feat))"
   ]
  },
  {
   "cell_type": "code",
   "execution_count": null,
   "metadata": {
    "colab": {
     "base_uri": "https://localhost:8080/",
     "height": 624
    },
    "colab_type": "code",
    "id": "rstg8GBwKi2h",
    "outputId": "13f49e57-b611-40e2-f73e-83fffd634cc0"
   },
   "outputs": [
    {
     "data": {
      "text/plain": [
       "<matplotlib.axes._subplots.AxesSubplot at 0x7fe0bf2ece48>"
      ]
     },
     "execution_count": 85,
     "metadata": {
      "tags": []
     },
     "output_type": "execute_result"
    },
    {
     "data": {
      "image/png": "[encoded data removed]",
      "text/plain": [
       "<Figure size 1080x720 with 1 Axes>"
      ]
     },
     "metadata": {
      "needs_background": "light",
      "tags": []
     },
     "output_type": "display_data"
    }
   ],
   "source": [
    "import seaborn as sns\n",
    "fig,ax = plt.subplots(figsize=(15,10))\n",
    "sns.barplot('feat_imp_0','index',data = sorted_feat_imp.iloc[:20],orient='h',ax=ax)"
   ]
  },
  {
   "cell_type": "code",
   "execution_count": 2,
   "metadata": {
    "colab": {},
    "colab_type": "code",
    "id": "bzV1HoLcnFMj"
   },
   "outputs": [
    {
     "data": {
      "text/html": [
       "<div>\n",
       "<style scoped>\n",
       "    .dataframe tbody tr th:only-of-type {\n",
       "        vertical-align: middle;\n",
       "    }\n",
       "\n",
       "    .dataframe tbody tr th {\n",
       "        vertical-align: top;\n",
       "    }\n",
       "\n",
       "    .dataframe thead th {\n",
       "        text-align: right;\n",
       "    }\n",
       "</style>\n",
       "<table border=\"1\" class=\"dataframe\">\n",
       "  <thead>\n",
       "    <tr style=\"text-align: right;\">\n",
       "      <th></th>\n",
       "      <th>card_id</th>\n",
       "      <th>category_1_mode</th>\n",
       "      <th>category_1_nunique</th>\n",
       "      <th>category_2_mode</th>\n",
       "      <th>category_2_nunique</th>\n",
       "      <th>category_3_mode</th>\n",
       "      <th>category_3_nunique</th>\n",
       "      <th>city_id_mode</th>\n",
       "      <th>city_id_nunique</th>\n",
       "      <th>state_id_mode</th>\n",
       "      <th>...</th>\n",
       "      <th>is_childrens_day_count</th>\n",
       "      <th>is_childrens_day_nunique</th>\n",
       "      <th>is_valentines_day_mode</th>\n",
       "      <th>is_valentines_day_min</th>\n",
       "      <th>is_valentines_day_count</th>\n",
       "      <th>is_valentines_day_nunique</th>\n",
       "      <th>is_fathers_day_mode</th>\n",
       "      <th>is_fathers_day_min</th>\n",
       "      <th>is_fathers_day_count</th>\n",
       "      <th>is_fathers_day_nunique</th>\n",
       "    </tr>\n",
       "  </thead>\n",
       "  <tbody>\n",
       "    <tr>\n",
       "      <th>0</th>\n",
       "      <td>C_ID_ef55cf8d4b</td>\n",
       "      <td>N</td>\n",
       "      <td>2</td>\n",
       "      <td>1.0</td>\n",
       "      <td>1</td>\n",
       "      <td>B</td>\n",
       "      <td>2</td>\n",
       "      <td>69</td>\n",
       "      <td>3</td>\n",
       "      <td>9</td>\n",
       "      <td>...</td>\n",
       "      <td>22</td>\n",
       "      <td>1</td>\n",
       "      <td>False</td>\n",
       "      <td>False</td>\n",
       "      <td>22</td>\n",
       "      <td>1</td>\n",
       "      <td>False</td>\n",
       "      <td>False</td>\n",
       "      <td>22</td>\n",
       "      <td>1</td>\n",
       "    </tr>\n",
       "    <tr>\n",
       "      <th>1</th>\n",
       "      <td>C_ID_241a01e9d9</td>\n",
       "      <td>N</td>\n",
       "      <td>1</td>\n",
       "      <td>1.0</td>\n",
       "      <td>1</td>\n",
       "      <td>C</td>\n",
       "      <td>1</td>\n",
       "      <td>69</td>\n",
       "      <td>2</td>\n",
       "      <td>9</td>\n",
       "      <td>...</td>\n",
       "      <td>2</td>\n",
       "      <td>1</td>\n",
       "      <td>False</td>\n",
       "      <td>False</td>\n",
       "      <td>2</td>\n",
       "      <td>1</td>\n",
       "      <td>False</td>\n",
       "      <td>False</td>\n",
       "      <td>2</td>\n",
       "      <td>1</td>\n",
       "    </tr>\n",
       "    <tr>\n",
       "      <th>2</th>\n",
       "      <td>C_ID_a97720321f</td>\n",
       "      <td>N</td>\n",
       "      <td>1</td>\n",
       "      <td>1.0</td>\n",
       "      <td>2</td>\n",
       "      <td>A</td>\n",
       "      <td>1</td>\n",
       "      <td>69</td>\n",
       "      <td>2</td>\n",
       "      <td>9</td>\n",
       "      <td>...</td>\n",
       "      <td>12</td>\n",
       "      <td>1</td>\n",
       "      <td>False</td>\n",
       "      <td>False</td>\n",
       "      <td>12</td>\n",
       "      <td>1</td>\n",
       "      <td>False</td>\n",
       "      <td>False</td>\n",
       "      <td>12</td>\n",
       "      <td>1</td>\n",
       "    </tr>\n",
       "    <tr>\n",
       "      <th>3</th>\n",
       "      <td>C_ID_8c9ba46f19</td>\n",
       "      <td>N</td>\n",
       "      <td>1</td>\n",
       "      <td>4.0</td>\n",
       "      <td>3</td>\n",
       "      <td>A</td>\n",
       "      <td>1</td>\n",
       "      <td>17</td>\n",
       "      <td>4</td>\n",
       "      <td>22</td>\n",
       "      <td>...</td>\n",
       "      <td>29</td>\n",
       "      <td>1</td>\n",
       "      <td>False</td>\n",
       "      <td>False</td>\n",
       "      <td>29</td>\n",
       "      <td>1</td>\n",
       "      <td>False</td>\n",
       "      <td>False</td>\n",
       "      <td>29</td>\n",
       "      <td>1</td>\n",
       "    </tr>\n",
       "    <tr>\n",
       "      <th>4</th>\n",
       "      <td>C_ID_7e64479fbb</td>\n",
       "      <td>N</td>\n",
       "      <td>1</td>\n",
       "      <td>5.0</td>\n",
       "      <td>3</td>\n",
       "      <td>A</td>\n",
       "      <td>1</td>\n",
       "      <td>223</td>\n",
       "      <td>4</td>\n",
       "      <td>21</td>\n",
       "      <td>...</td>\n",
       "      <td>16</td>\n",
       "      <td>1</td>\n",
       "      <td>False</td>\n",
       "      <td>False</td>\n",
       "      <td>16</td>\n",
       "      <td>1</td>\n",
       "      <td>False</td>\n",
       "      <td>False</td>\n",
       "      <td>16</td>\n",
       "      <td>1</td>\n",
       "    </tr>\n",
       "  </tbody>\n",
       "</table>\n",
       "<p>5 rows × 274 columns</p>\n",
       "</div>"
      ],
      "text/plain": [
       "           card_id category_1_mode  category_1_nunique  category_2_mode  \\\n",
       "0  C_ID_ef55cf8d4b               N                   2              1.0   \n",
       "1  C_ID_241a01e9d9               N                   1              1.0   \n",
       "2  C_ID_a97720321f               N                   1              1.0   \n",
       "3  C_ID_8c9ba46f19               N                   1              4.0   \n",
       "4  C_ID_7e64479fbb               N                   1              5.0   \n",
       "\n",
       "   category_2_nunique category_3_mode  category_3_nunique  city_id_mode  \\\n",
       "0                   1               B                   2            69   \n",
       "1                   1               C                   1            69   \n",
       "2                   2               A                   1            69   \n",
       "3                   3               A                   1            17   \n",
       "4                   3               A                   1           223   \n",
       "\n",
       "   city_id_nunique  state_id_mode  ...  is_childrens_day_count  \\\n",
       "0                3              9  ...                      22   \n",
       "1                2              9  ...                       2   \n",
       "2                2              9  ...                      12   \n",
       "3                4             22  ...                      29   \n",
       "4                4             21  ...                      16   \n",
       "\n",
       "   is_childrens_day_nunique  is_valentines_day_mode  is_valentines_day_min  \\\n",
       "0                         1                   False                  False   \n",
       "1                         1                   False                  False   \n",
       "2                         1                   False                  False   \n",
       "3                         1                   False                  False   \n",
       "4                         1                   False                  False   \n",
       "\n",
       "   is_valentines_day_count  is_valentines_day_nunique  is_fathers_day_mode  \\\n",
       "0                       22                          1                False   \n",
       "1                        2                          1                False   \n",
       "2                       12                          1                False   \n",
       "3                       29                          1                False   \n",
       "4                       16                          1                False   \n",
       "\n",
       "   is_fathers_day_min  is_fathers_day_count  is_fathers_day_nunique  \n",
       "0               False                    22                       1  \n",
       "1               False                     2                       1  \n",
       "2               False                    12                       1  \n",
       "3               False                    29                       1  \n",
       "4               False                    16                       1  \n",
       "\n",
       "[5 rows x 274 columns]"
      ]
     },
     "execution_count": 2,
     "metadata": {},
     "output_type": "execute_result"
    }
   ],
   "source": [
    "trans_new_df = pickle.load(open('trans_new_df.pkl','rb'))\n",
    "trans_new_df.head()"
   ]
  },
  {
   "cell_type": "code",
   "execution_count": 3,
   "metadata": {},
   "outputs": [
    {
     "data": {
      "text/html": [
       "<div>\n",
       "<style scoped>\n",
       "    .dataframe tbody tr th:only-of-type {\n",
       "        vertical-align: middle;\n",
       "    }\n",
       "\n",
       "    .dataframe tbody tr th {\n",
       "        vertical-align: top;\n",
       "    }\n",
       "\n",
       "    .dataframe thead th {\n",
       "        text-align: right;\n",
       "    }\n",
       "</style>\n",
       "<table border=\"1\" class=\"dataframe\">\n",
       "  <thead>\n",
       "    <tr style=\"text-align: right;\">\n",
       "      <th></th>\n",
       "      <th>index</th>\n",
       "      <th>count</th>\n",
       "    </tr>\n",
       "  </thead>\n",
       "  <tbody>\n",
       "    <tr>\n",
       "      <th>0</th>\n",
       "      <td>card_id</td>\n",
       "      <td>0.000000</td>\n",
       "    </tr>\n",
       "    <tr>\n",
       "      <th>1</th>\n",
       "      <td>category_1_mode</td>\n",
       "      <td>0.000000</td>\n",
       "    </tr>\n",
       "    <tr>\n",
       "      <th>2</th>\n",
       "      <td>category_1_nunique</td>\n",
       "      <td>0.000000</td>\n",
       "    </tr>\n",
       "    <tr>\n",
       "      <th>3</th>\n",
       "      <td>category_2_mode</td>\n",
       "      <td>3.129132</td>\n",
       "    </tr>\n",
       "    <tr>\n",
       "      <th>4</th>\n",
       "      <td>category_2_nunique</td>\n",
       "      <td>0.000000</td>\n",
       "    </tr>\n",
       "  </tbody>\n",
       "</table>\n",
       "</div>"
      ],
      "text/plain": [
       "                index     count\n",
       "0             card_id  0.000000\n",
       "1     category_1_mode  0.000000\n",
       "2  category_1_nunique  0.000000\n",
       "3     category_2_mode  3.129132\n",
       "4  category_2_nunique  0.000000"
      ]
     },
     "execution_count": 3,
     "metadata": {},
     "output_type": "execute_result"
    }
   ],
   "source": [
    "null_count_df = ((trans_new_df.isnull().sum()*100)/(trans_new_df.shape[0])).reset_index().rename(columns = {0:'count'})\n",
    "null_count_df.head()"
   ]
  },
  {
   "cell_type": "code",
   "execution_count": 16,
   "metadata": {},
   "outputs": [
    {
     "data": {
      "text/plain": [
       "array([  0.        ,   0.        ,   0.        ,  52.04571467,\n",
       "        99.45495761,  99.97597035, 100.        ])"
      ]
     },
     "execution_count": 16,
     "metadata": {},
     "output_type": "execute_result"
    }
   ],
   "source": [
    "null_counts = np.percentile(null_count_df['count'].values,q=[0,25,50,75,90,95,99])\n",
    "null_counts"
   ]
  },
  {
   "cell_type": "code",
   "execution_count": 17,
   "metadata": {},
   "outputs": [
    {
     "data": {
      "text/plain": [
       "Text(0, 0.5, 'Percentage of missing values')"
      ]
     },
     "execution_count": 17,
     "metadata": {},
     "output_type": "execute_result"
    },
    {
     "data": {
      "image/png": "[encoded data removed]",
      "text/plain": [
       "<Figure size 432x288 with 1 Axes>"
      ]
     },
     "metadata": {
      "needs_background": "light"
     },
     "output_type": "display_data"
    }
   ],
   "source": [
    "x_ticks = [int(i*(274/100)) for i in [0,25,50,75,90,95,99]]\n",
    "plt.xticks(x_ticks,x_ticks,rotation=90)\n",
    "plt.plot(x_ticks,null_counts,marker='o')\n",
    "plt.xlabel(\"Number of features\")\n",
    "plt.ylabel(\"Percentage of missing values\")"
   ]
  },
  {
   "cell_type": "markdown",
   "metadata": {},
   "source": [
    "Dropping features beyond 25%ile missing value mark."
   ]
  },
  {
   "cell_type": "code",
   "execution_count": 18,
   "metadata": {},
   "outputs": [],
   "source": [
    "selected_cols_for_impute = null_count_df[null_count_df['count'] <= 52]['index'].values"
   ]
  },
  {
   "cell_type": "code",
   "execution_count": 20,
   "metadata": {},
   "outputs": [],
   "source": [
    "pickle.dump(selected_cols_for_impute,open('selected_cols_from_new_trans.pkl','wb'))"
   ]
  },
  {
   "cell_type": "code",
   "execution_count": null,
   "metadata": {},
   "outputs": [],
   "source": []
  }
 ],
 "metadata": {
  "colab": {
   "collapsed_sections": [],
   "name": "Feature_Selection_for_Elo_merchant_category.ipynb",
   "provenance": []
  },
  "kernelspec": {
   "display_name": "Python 3",
   "language": "python",
   "name": "python3"
  },
  "language_info": {
   "codemirror_mode": {
    "name": "ipython",
    "version": 3
   },
   "file_extension": ".py",
   "mimetype": "text/x-python",
   "name": "python",
   "nbconvert_exporter": "python",
   "pygments_lexer": "ipython3",
   "version": "3.8.5"
  }
 },
 "nbformat": 4,
 "nbformat_minor": 1
}
