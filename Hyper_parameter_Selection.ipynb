{
 "cells": [
  {
   "cell_type": "markdown",
   "metadata": {
    "colab_type": "text",
    "id": "rnQi49Ze6aFv"
   },
   "source": [
    "## Action Plan\n",
    "* Import train data\n",
    "* Apply Hyper-parameter tuning\n",
    "* Starting with RandomSearchCV"
   ]
  },
  {
   "cell_type": "code",
   "execution_count": null,
   "metadata": {
    "colab": {},
    "colab_type": "code",
    "id": "F7ptegO16cJr"
   },
   "outputs": [],
   "source": [
    "import pandas as pd\n",
    "import numpy as np\n",
    "import pickle\n",
    "import lightgbm as lgb\n",
    "from sklearn.model_selection import RandomizedSearchCV\n",
    "from scipy.stats import randint as sp_randint\n",
    "from scipy.stats import uniform as sp_uniform\n",
    "from sklearn.metrics import mean_squared_error as mse\n",
    "from sklearn.model_selection import train_test_split"
   ]
  },
  {
   "cell_type": "markdown",
   "metadata": {
    "colab_type": "text",
    "id": "E1b-YZTxA3rE"
   },
   "source": [
    "## Random Search CV\n",
    "* Import data\n",
    "* Split the data(Stratified K-fold based on outliers)\n",
    "* Select the set of Hyper-parameters to tune\n",
    "* Train the model on each set of parameter selected by RandomSearchCV\n",
    "* Test the model against Validation set\n",
    "* Check for RMSE in each fold\n",
    "* Select the best model based on the best performance on validation data"
   ]
  },
  {
   "cell_type": "code",
   "execution_count": null,
   "metadata": {
    "colab": {
     "base_uri": "https://localhost:8080/",
     "height": 34
    },
    "colab_type": "code",
    "id": "DlhFeQiK7UYl",
    "outputId": "df5a594a-0d3d-4768-9776-379f859bfe04"
   },
   "outputs": [
    {
     "name": "stdout",
     "output_type": "stream",
     "text": [
      "Drive already mounted at /content/gdrive; to attempt to forcibly remount, call drive.mount(\"/content/gdrive\", force_remount=True).\n"
     ]
    }
   ],
   "source": [
    "## Importing the data\n",
    "from google.colab import drive \n",
    "drive.mount('/content/gdrive')\n",
    "\n",
    "hist_train = pickle.load(open('gdrive/My Drive/ColabNotebooks/feature_importance_files/X_train_feat_imp.pkl','rb'))\n",
    "hist_target = pickle.load(open('gdrive/My Drive/ColabNotebooks/feature_importance_files/y_target_feat_imp.pkl','rb'))\n",
    "hist_outliers = pickle.load(open('gdrive/My Drive/ColabNotebooks/feature_importance_files/y_outliers_feat_imp.pkl','rb'))\n",
    "hist_train_data = pickle.load(open('gdrive/My Drive/ColabNotebooks/feature_importance_files/train_data_with_all_feat.pkl','rb'))\n",
    "hist_imp_feat = pickle.load(open('gdrive/My Drive/ColabNotebooks/feature_importance_files/boruta_imp_feat.pkl','rb'))\n",
    "\n",
    "\n",
    "new_train = pickle.load(open('gdrive/My Drive/ColabNotebooks/feature_set_4.pkl','rb'))\n",
    "new_imp_feat = pickle.load(open('gdrive/My Drive/ColabNotebooks/new_trans_boruta_imp_feat.pkl','rb'))\n",
    "\n",
    "\n",
    "merge_train = pickle.load(open('gdrive/My Drive/ColabNotebooks/feature_selected_merge_df/merge_df.pkl','rb'))\n",
    "merge_imp_feat = pickle.load(open('gdrive/My Drive/ColabNotebooks/feature_selected_merge_df/merge_imp_feat.pkl','rb'))"
   ]
  },
  {
   "cell_type": "code",
   "execution_count": null,
   "metadata": {
    "colab": {},
    "colab_type": "code",
    "id": "o9ohkN6FCEG1"
   },
   "outputs": [],
   "source": [
    "## parameters to hypertune\n",
    "params = {\n",
    "    'boosting_type' : ['gbdt','goss','rf'],\n",
    "    'max_depth' : [i for i in range(1,16,2)],\n",
    "    'learning_rate' : [10**i for i in range(-4,1)],\n",
    "    'n_estimators' : [i for i in range(100,600,100)],\n",
    "    'num_leaves': sp_randint(6, 50), \n",
    "    'min_child_samples': sp_randint(100, 500), \n",
    "    'min_child_weight': [1e-5, 1e-3, 1e-2, 1e-1, 1, 1e1, 1e2, 1e3, 1e4],\n",
    "    'subsample': sp_uniform(loc=0.2, scale=0.8), \n",
    "    'colsample_bytree': sp_uniform(loc=0.4, scale=0.6),\n",
    "    'reg_alpha': [0, 1e-1, 1, 2, 5, 7, 10, 50, 100],\n",
    "    'reg_lambda': [0, 1e-1, 1, 5, 10, 20, 50, 100]\n",
    "}"
   ]
  },
  {
   "cell_type": "code",
   "execution_count": null,
   "metadata": {
    "colab": {},
    "colab_type": "code",
    "id": "cyX4s4nKGwG1"
   },
   "outputs": [],
   "source": [
    "def checkRmse(model,X,y_true):\n",
    "   y_pred = model.predict(X)\n",
    "   rmse = -1 * np.sqrt(mse(y_true,y_pred))\n",
    "   print(\"RMSE : \",rmse)\n",
    "   return rmse"
   ]
  },
  {
   "cell_type": "code",
   "execution_count": null,
   "metadata": {
    "colab": {},
    "colab_type": "code",
    "id": "V-tyeegGCqPb"
   },
   "outputs": [],
   "source": [
    "def performHyperParamTuning(X,y,n_folds):\n",
    "  print(\"Creating a LGBM Regressor...\")\n",
    "  lgbm_regressor = lgb.LGBMRegressor(n_jobs=-1,silent=False)\n",
    "  print(\"Creating a Randomized Search CV object...\")\n",
    "  random_search_cv = RandomizedSearchCV(lgbm_regressor,\n",
    "                                        params,\n",
    "                                        scoring = checkRmse,\n",
    "                                        n_jobs = -1,\n",
    "                                        cv = n_folds,\n",
    "                                        verbose = 20,\n",
    "                                        random_state = 42)\n",
    "  print(\"Fitting with train data...\")\n",
    "  random_search_cv.fit(X,y)\n",
    "  print(\"Best Score : \",random_search_cv.best_score_)\n",
    "  print(\"Best parameters : \",random_search_cv.best_params_)\n",
    "  return random_search_cv"
   ]
  },
  {
   "cell_type": "markdown",
   "metadata": {
    "colab_type": "text",
    "id": "YJaFibjJuUan"
   },
   "source": [
    "## Performing Hyper-parameter tuning on historical transactions data"
   ]
  },
  {
   "cell_type": "code",
   "execution_count": null,
   "metadata": {
    "colab": {
     "base_uri": "https://localhost:8080/",
     "height": 1000
    },
    "colab_type": "code",
    "id": "oDeakV4UzIh1",
    "outputId": "39ec02db-04f6-4ffb-a8f3-dbf5ab7cf27a"
   },
   "outputs": [
    {
     "name": "stdout",
     "output_type": "stream",
     "text": [
      "Creating a LGBM Regressor...\n",
      "Creating a Randomized Search CV object...\n",
      "Fitting with train data...\n",
      "Fitting 5 folds for each of 10 candidates, totalling 50 fits\n"
     ]
    },
    {
     "name": "stderr",
     "output_type": "stream",
     "text": [
      "[Parallel(n_jobs=-1)]: Using backend LokyBackend with 2 concurrent workers.\n",
      "[Parallel(n_jobs=-1)]: Done   1 tasks      | elapsed:    2.0s\n",
      "[Parallel(n_jobs=-1)]: Done   2 tasks      | elapsed:    2.1s\n",
      "[Parallel(n_jobs=-1)]: Done   3 tasks      | elapsed:    4.0s\n",
      "[Parallel(n_jobs=-1)]: Done   4 tasks      | elapsed:    4.1s\n",
      "[Parallel(n_jobs=-1)]: Done   5 tasks      | elapsed:    5.9s\n",
      "[Parallel(n_jobs=-1)]: Done   6 tasks      | elapsed:   25.8s\n",
      "[Parallel(n_jobs=-1)]: Done   7 tasks      | elapsed:   27.8s\n",
      "[Parallel(n_jobs=-1)]: Done   8 tasks      | elapsed:   47.7s\n",
      "[Parallel(n_jobs=-1)]: Done   9 tasks      | elapsed:   49.8s\n",
      "[Parallel(n_jobs=-1)]: Done  10 tasks      | elapsed:   56.7s\n",
      "[Parallel(n_jobs=-1)]: Done  11 tasks      | elapsed:  1.1min\n",
      "[Parallel(n_jobs=-1)]: Done  12 tasks      | elapsed:  1.2min\n",
      "[Parallel(n_jobs=-1)]: Done  13 tasks      | elapsed:  1.2min\n",
      "[Parallel(n_jobs=-1)]: Done  14 tasks      | elapsed:  1.3min\n",
      "[Parallel(n_jobs=-1)]: Done  15 tasks      | elapsed:  1.3min\n",
      "[Parallel(n_jobs=-1)]: Done  16 tasks      | elapsed:  1.4min\n",
      "[Parallel(n_jobs=-1)]: Done  17 tasks      | elapsed:  1.4min\n",
      "[Parallel(n_jobs=-1)]: Done  18 tasks      | elapsed:  1.5min\n",
      "[Parallel(n_jobs=-1)]: Done  19 tasks      | elapsed:  1.5min\n",
      "[Parallel(n_jobs=-1)]: Done  20 tasks      | elapsed:  1.6min\n",
      "[Parallel(n_jobs=-1)]: Done  21 tasks      | elapsed:  1.7min\n",
      "[Parallel(n_jobs=-1)]: Done  22 tasks      | elapsed:  1.8min\n",
      "[Parallel(n_jobs=-1)]: Done  23 tasks      | elapsed:  1.8min\n",
      "[Parallel(n_jobs=-1)]: Done  24 tasks      | elapsed:  2.0min\n",
      "[Parallel(n_jobs=-1)]: Done  25 tasks      | elapsed:  2.0min\n",
      "[Parallel(n_jobs=-1)]: Done  26 tasks      | elapsed:  2.1min\n",
      "[Parallel(n_jobs=-1)]: Done  27 tasks      | elapsed:  2.2min\n",
      "[Parallel(n_jobs=-1)]: Done  28 tasks      | elapsed:  2.3min\n",
      "[Parallel(n_jobs=-1)]: Done  29 tasks      | elapsed:  2.4min\n",
      "[Parallel(n_jobs=-1)]: Done  30 tasks      | elapsed:  2.5min\n",
      "[Parallel(n_jobs=-1)]: Done  31 tasks      | elapsed:  2.9min\n",
      "[Parallel(n_jobs=-1)]: Done  32 tasks      | elapsed:  3.0min\n",
      "[Parallel(n_jobs=-1)]: Done  33 tasks      | elapsed:  3.5min\n",
      "[Parallel(n_jobs=-1)]: Done  34 tasks      | elapsed:  3.6min\n",
      "[Parallel(n_jobs=-1)]: Done  35 tasks      | elapsed:  3.6min\n",
      "[Parallel(n_jobs=-1)]: Done  36 tasks      | elapsed:  3.6min\n",
      "[Parallel(n_jobs=-1)]: Done  37 tasks      | elapsed:  3.7min\n",
      "[Parallel(n_jobs=-1)]: Done  38 tasks      | elapsed:  3.7min\n",
      "[Parallel(n_jobs=-1)]: Done  39 tasks      | elapsed:  3.7min\n",
      "[Parallel(n_jobs=-1)]: Done  40 tasks      | elapsed:  3.9min\n",
      "[Parallel(n_jobs=-1)]: Done  41 tasks      | elapsed:  4.0min\n",
      "[Parallel(n_jobs=-1)]: Done  42 tasks      | elapsed:  4.2min\n",
      "[Parallel(n_jobs=-1)]: Done  43 tasks      | elapsed:  4.2min\n",
      "[Parallel(n_jobs=-1)]: Done  44 tasks      | elapsed:  4.4min\n",
      "[Parallel(n_jobs=-1)]: Done  45 tasks      | elapsed:  4.4min\n",
      "[Parallel(n_jobs=-1)]: Done  46 tasks      | elapsed:  4.4min\n",
      "[Parallel(n_jobs=-1)]: Done  47 tasks      | elapsed:  4.4min\n",
      "[Parallel(n_jobs=-1)]: Done  50 out of  50 | elapsed:  4.5min remaining:    0.0s\n",
      "[Parallel(n_jobs=-1)]: Done  50 out of  50 | elapsed:  4.5min finished\n"
     ]
    },
    {
     "name": "stdout",
     "output_type": "stream",
     "text": [
      "Best Score :  -3.7556381253736206\n",
      "Best parameters :  {'boosting_type': 'gbdt', 'colsample_bytree': 0.7606690070459252, 'learning_rate': 0.01, 'max_depth': 11, 'min_child_samples': 408, 'min_child_weight': 0.001, 'n_estimators': 400, 'num_leaves': 35, 'reg_alpha': 7, 'reg_lambda': 0.1, 'subsample': 0.3454599737656805}\n"
     ]
    }
   ],
   "source": [
    "X_hist = hist_imp_feat.drop(['card_id'],axis=1)\n",
    "y_hist = hist_target\n",
    "hist_model = performHyperParamTuning(X_hist,y_hist,5)"
   ]
  },
  {
   "cell_type": "markdown",
   "metadata": {
    "colab_type": "text",
    "id": "hkG0nAKMQirO"
   },
   "source": [
    "## Performing Hyper-parameter tuning on new transaction data"
   ]
  },
  {
   "cell_type": "code",
   "execution_count": null,
   "metadata": {
    "colab": {
     "base_uri": "https://localhost:8080/",
     "height": 1000
    },
    "colab_type": "code",
    "id": "aNbniTvwzbeh",
    "outputId": "c5d1e3c5-0c41-4055-877f-9f16022534ed"
   },
   "outputs": [
    {
     "name": "stdout",
     "output_type": "stream",
     "text": [
      "Creating a LGBM Regressor...\n",
      "Creating a Randomized Search CV object...\n",
      "Fitting with train data...\n",
      "Fitting 5 folds for each of 10 candidates, totalling 50 fits\n"
     ]
    },
    {
     "name": "stderr",
     "output_type": "stream",
     "text": [
      "[Parallel(n_jobs=-1)]: Using backend LokyBackend with 2 concurrent workers.\n",
      "[Parallel(n_jobs=-1)]: Done   1 tasks      | elapsed:    1.4s\n",
      "[Parallel(n_jobs=-1)]: Done   2 tasks      | elapsed:    1.4s\n",
      "[Parallel(n_jobs=-1)]: Done   3 tasks      | elapsed:    2.7s\n",
      "[Parallel(n_jobs=-1)]: Done   4 tasks      | elapsed:    2.8s\n",
      "[Parallel(n_jobs=-1)]: Done   5 tasks      | elapsed:    4.1s\n",
      "[Parallel(n_jobs=-1)]: Done   6 tasks      | elapsed:   23.5s\n",
      "[Parallel(n_jobs=-1)]: Done   7 tasks      | elapsed:   24.9s\n",
      "[Parallel(n_jobs=-1)]: Done   8 tasks      | elapsed:   45.9s\n",
      "[Parallel(n_jobs=-1)]: Done   9 tasks      | elapsed:   47.1s\n",
      "[Parallel(n_jobs=-1)]: Done  10 tasks      | elapsed:   51.9s\n",
      "[Parallel(n_jobs=-1)]: Done  11 tasks      | elapsed:   56.9s\n",
      "[Parallel(n_jobs=-1)]: Done  12 tasks      | elapsed:  1.0min\n",
      "[Parallel(n_jobs=-1)]: Done  13 tasks      | elapsed:  1.1min\n",
      "[Parallel(n_jobs=-1)]: Done  14 tasks      | elapsed:  1.1min\n",
      "[Parallel(n_jobs=-1)]: Done  15 tasks      | elapsed:  1.2min\n",
      "[Parallel(n_jobs=-1)]: Done  16 tasks      | elapsed:  1.2min\n",
      "[Parallel(n_jobs=-1)]: Done  17 tasks      | elapsed:  1.3min\n",
      "[Parallel(n_jobs=-1)]: Done  18 tasks      | elapsed:  1.3min\n",
      "[Parallel(n_jobs=-1)]: Done  19 tasks      | elapsed:  1.4min\n",
      "[Parallel(n_jobs=-1)]: Done  20 tasks      | elapsed:  1.4min\n",
      "[Parallel(n_jobs=-1)]: Done  21 tasks      | elapsed:  1.5min\n",
      "[Parallel(n_jobs=-1)]: Done  22 tasks      | elapsed:  1.5min\n",
      "[Parallel(n_jobs=-1)]: Done  23 tasks      | elapsed:  1.6min\n",
      "[Parallel(n_jobs=-1)]: Done  24 tasks      | elapsed:  1.7min\n",
      "[Parallel(n_jobs=-1)]: Done  25 tasks      | elapsed:  1.8min\n",
      "[Parallel(n_jobs=-1)]: Done  26 tasks      | elapsed:  1.8min\n",
      "[Parallel(n_jobs=-1)]: Done  27 tasks      | elapsed:  1.9min\n",
      "[Parallel(n_jobs=-1)]: Done  28 tasks      | elapsed:  1.9min\n",
      "[Parallel(n_jobs=-1)]: Done  29 tasks      | elapsed:  2.1min\n",
      "[Parallel(n_jobs=-1)]: Done  30 tasks      | elapsed:  2.1min\n",
      "[Parallel(n_jobs=-1)]: Done  31 tasks      | elapsed:  2.5min\n",
      "[Parallel(n_jobs=-1)]: Done  32 tasks      | elapsed:  2.6min\n",
      "[Parallel(n_jobs=-1)]: Done  33 tasks      | elapsed:  3.0min\n",
      "[Parallel(n_jobs=-1)]: Done  34 tasks      | elapsed:  3.0min\n",
      "[Parallel(n_jobs=-1)]: Done  35 tasks      | elapsed:  3.1min\n",
      "[Parallel(n_jobs=-1)]: Done  36 tasks      | elapsed:  3.1min\n",
      "[Parallel(n_jobs=-1)]: Done  37 tasks      | elapsed:  3.1min\n",
      "[Parallel(n_jobs=-1)]: Done  38 tasks      | elapsed:  3.1min\n",
      "[Parallel(n_jobs=-1)]: Done  39 tasks      | elapsed:  3.1min\n",
      "[Parallel(n_jobs=-1)]: Done  40 tasks      | elapsed:  3.3min\n",
      "[Parallel(n_jobs=-1)]: Done  41 tasks      | elapsed:  3.5min\n",
      "[Parallel(n_jobs=-1)]: Done  42 tasks      | elapsed:  3.5min\n",
      "[Parallel(n_jobs=-1)]: Done  43 tasks      | elapsed:  3.6min\n",
      "[Parallel(n_jobs=-1)]: Done  44 tasks      | elapsed:  3.7min\n",
      "[Parallel(n_jobs=-1)]: Done  45 tasks      | elapsed:  3.7min\n",
      "[Parallel(n_jobs=-1)]: Done  46 tasks      | elapsed:  3.7min\n",
      "[Parallel(n_jobs=-1)]: Done  47 tasks      | elapsed:  3.8min\n",
      "[Parallel(n_jobs=-1)]: Done  50 out of  50 | elapsed:  3.8min remaining:    0.0s\n",
      "[Parallel(n_jobs=-1)]: Done  50 out of  50 | elapsed:  3.8min finished\n"
     ]
    },
    {
     "name": "stdout",
     "output_type": "stream",
     "text": [
      "Best Score :  -3.440357722164735\n",
      "Best parameters :  {'boosting_type': 'gbdt', 'colsample_bytree': 0.7606690070459252, 'learning_rate': 0.01, 'max_depth': 11, 'min_child_samples': 408, 'min_child_weight': 0.001, 'n_estimators': 400, 'num_leaves': 35, 'reg_alpha': 7, 'reg_lambda': 0.1, 'subsample': 0.3454599737656805}\n"
     ]
    }
   ],
   "source": [
    "new_train.columns = ['new_trans_' + col for col in new_train.columns]\n",
    "new_train = new_train.drop(['new_trans_card_id'],axis=1)\n",
    "X_new = new_train[new_imp_feat]\n",
    "y_new = new_train['new_trans_target']\n",
    "new_trans_model = performHyperParamTuning(X_new,y_new,5)"
   ]
  },
  {
   "cell_type": "markdown",
   "metadata": {
    "colab_type": "text",
    "id": "u2QpyvSaQooI"
   },
   "source": [
    "## Performing Hyper-parameter tuning on Merged data"
   ]
  },
  {
   "cell_type": "code",
   "execution_count": null,
   "metadata": {
    "colab": {
     "base_uri": "https://localhost:8080/",
     "height": 1000
    },
    "colab_type": "code",
    "id": "iBlibwmZ5Fef",
    "outputId": "61b7053d-15f4-43df-f721-2927aab8ced0"
   },
   "outputs": [
    {
     "name": "stdout",
     "output_type": "stream",
     "text": [
      "Creating a LGBM Regressor...\n",
      "Creating a Randomized Search CV object...\n",
      "Fitting with train data...\n",
      "Fitting 5 folds for each of 10 candidates, totalling 50 fits\n"
     ]
    },
    {
     "name": "stderr",
     "output_type": "stream",
     "text": [
      "[Parallel(n_jobs=-1)]: Using backend LokyBackend with 2 concurrent workers.\n",
      "[Parallel(n_jobs=-1)]: Done   1 tasks      | elapsed:    3.4s\n",
      "[Parallel(n_jobs=-1)]: Done   2 tasks      | elapsed:    3.4s\n",
      "/usr/local/lib/python3.6/dist-packages/joblib/externals/loky/process_executor.py:691: UserWarning: A worker stopped while some jobs were given to the executor. This can be caused by a too short worker timeout or by a memory leak.\n",
      "  \"timeout or by a memory leak.\", UserWarning\n",
      "[Parallel(n_jobs=-1)]: Done   3 tasks      | elapsed:    8.1s\n",
      "[Parallel(n_jobs=-1)]: Done   4 tasks      | elapsed:    8.4s\n",
      "[Parallel(n_jobs=-1)]: Done   5 tasks      | elapsed:   11.2s\n",
      "[Parallel(n_jobs=-1)]: Done   6 tasks      | elapsed:   48.8s\n",
      "[Parallel(n_jobs=-1)]: Done   7 tasks      | elapsed:   51.5s\n",
      "[Parallel(n_jobs=-1)]: Done   8 tasks      | elapsed:  1.5min\n",
      "[Parallel(n_jobs=-1)]: Done   9 tasks      | elapsed:  1.5min\n",
      "[Parallel(n_jobs=-1)]: Done  10 tasks      | elapsed:  1.7min\n",
      "[Parallel(n_jobs=-1)]: Done  11 tasks      | elapsed:  1.9min\n",
      "[Parallel(n_jobs=-1)]: Done  12 tasks      | elapsed:  2.0min\n",
      "[Parallel(n_jobs=-1)]: Done  13 tasks      | elapsed:  2.1min\n",
      "[Parallel(n_jobs=-1)]: Done  14 tasks      | elapsed:  2.2min\n",
      "[Parallel(n_jobs=-1)]: Done  15 tasks      | elapsed:  2.3min\n",
      "[Parallel(n_jobs=-1)]: Done  16 tasks      | elapsed:  2.4min\n",
      "[Parallel(n_jobs=-1)]: Done  17 tasks      | elapsed:  2.5min\n",
      "[Parallel(n_jobs=-1)]: Done  18 tasks      | elapsed:  2.5min\n",
      "[Parallel(n_jobs=-1)]: Done  19 tasks      | elapsed:  2.6min\n",
      "[Parallel(n_jobs=-1)]: Done  20 tasks      | elapsed:  2.7min\n",
      "[Parallel(n_jobs=-1)]: Done  21 tasks      | elapsed:  2.8min\n",
      "[Parallel(n_jobs=-1)]: Done  22 tasks      | elapsed:  2.9min\n",
      "[Parallel(n_jobs=-1)]: Done  23 tasks      | elapsed:  3.1min\n",
      "[Parallel(n_jobs=-1)]: Done  24 tasks      | elapsed:  3.2min\n",
      "[Parallel(n_jobs=-1)]: Done  25 tasks      | elapsed:  3.4min\n",
      "[Parallel(n_jobs=-1)]: Done  26 tasks      | elapsed:  3.4min\n",
      "[Parallel(n_jobs=-1)]: Done  27 tasks      | elapsed:  3.7min\n",
      "[Parallel(n_jobs=-1)]: Done  28 tasks      | elapsed:  3.7min\n",
      "[Parallel(n_jobs=-1)]: Done  29 tasks      | elapsed:  3.9min\n",
      "[Parallel(n_jobs=-1)]: Done  30 tasks      | elapsed:  3.9min\n",
      "[Parallel(n_jobs=-1)]: Done  31 tasks      | elapsed:  4.7min\n",
      "[Parallel(n_jobs=-1)]: Done  32 tasks      | elapsed:  4.7min\n",
      "[Parallel(n_jobs=-1)]: Done  33 tasks      | elapsed:  5.5min\n",
      "[Parallel(n_jobs=-1)]: Done  34 tasks      | elapsed:  5.5min\n",
      "[Parallel(n_jobs=-1)]: Done  35 tasks      | elapsed:  5.6min\n",
      "[Parallel(n_jobs=-1)]: Done  36 tasks      | elapsed:  5.6min\n",
      "[Parallel(n_jobs=-1)]: Done  37 tasks      | elapsed:  5.7min\n",
      "[Parallel(n_jobs=-1)]: Done  38 tasks      | elapsed:  5.7min\n",
      "[Parallel(n_jobs=-1)]: Done  39 tasks      | elapsed:  5.8min\n",
      "[Parallel(n_jobs=-1)]: Done  40 tasks      | elapsed:  6.1min\n",
      "[Parallel(n_jobs=-1)]: Done  41 tasks      | elapsed:  6.3min\n",
      "[Parallel(n_jobs=-1)]: Done  42 tasks      | elapsed:  6.4min\n",
      "[Parallel(n_jobs=-1)]: Done  43 tasks      | elapsed:  6.6min\n",
      "[Parallel(n_jobs=-1)]: Done  44 tasks      | elapsed:  6.7min\n",
      "[Parallel(n_jobs=-1)]: Done  45 tasks      | elapsed:  6.7min\n",
      "[Parallel(n_jobs=-1)]: Done  46 tasks      | elapsed:  6.8min\n",
      "[Parallel(n_jobs=-1)]: Done  47 tasks      | elapsed:  6.9min\n",
      "[Parallel(n_jobs=-1)]: Done  50 out of  50 | elapsed:  6.9min remaining:    0.0s\n",
      "[Parallel(n_jobs=-1)]: Done  50 out of  50 | elapsed:  6.9min finished\n"
     ]
    },
    {
     "name": "stdout",
     "output_type": "stream",
     "text": [
      "Best Score :  -3.397597884747855\n",
      "Best parameters :  {'boosting_type': 'gbdt', 'colsample_bytree': 0.7606690070459252, 'learning_rate': 0.01, 'max_depth': 11, 'min_child_samples': 408, 'min_child_weight': 0.001, 'n_estimators': 400, 'num_leaves': 35, 'reg_alpha': 7, 'reg_lambda': 0.1, 'subsample': 0.3454599737656805}\n"
     ]
    }
   ],
   "source": [
    "#merge_train = pd.merge(new_train[['card_id','target']],merge_train,on='card_id',how='inner')\n",
    "X_merge = merge_train.drop(['card_id','target','outliers'],axis=1)\n",
    "y_merge = merge_train['target']\n",
    "merge_best_model = performHyperParamTuning(X_merge,y_merge,5)"
   ]
  },
  {
   "cell_type": "code",
   "execution_count": null,
   "metadata": {
    "colab": {},
    "colab_type": "code",
    "id": "pTB2_2ZD5Wnw"
   },
   "outputs": [],
   "source": [
    "pickle.dump(X_hist,open('gdrive/My Drive/ColabNotebooks/Hyper_parameter_selected_models/X_hist.pkl','wb'))\n",
    "pickle.dump(X_new,open('gdrive/My Drive/ColabNotebooks/Hyper_parameter_selected_models/X_new.pkl','wb'))\n",
    "pickle.dump(X_merge,open('gdrive/My Drive/ColabNotebooks/Hyper_parameter_selected_models/X_merge.pkl','wb'))\n",
    "\n",
    "pickle.dump(y_hist,open('gdrive/My Drive/ColabNotebooks/Hyper_parameter_selected_models/y_hist.pkl','wb'))\n",
    "pickle.dump(y_new,open('gdrive/My Drive/ColabNotebooks/Hyper_parameter_selected_models/y_new.pkl','wb'))\n",
    "pickle.dump(y_merge,open('gdrive/My Drive/ColabNotebooks/Hyper_parameter_selected_models/y_merge.pkl','wb'))\n",
    "\n",
    "pickle.dump(hist_model,open('gdrive/My Drive/ColabNotebooks/Hyper_parameter_selected_models/hist_model.pkl','wb'))\n",
    "pickle.dump(new_trans_model,open('gdrive/My Drive/ColabNotebooks/Hyper_parameter_selected_models/new_trans_model.pkl','wb'))\n",
    "pickle.dump(merge_best_model,open('gdrive/My Drive/ColabNotebooks/Hyper_parameter_selected_models/merge_best_model.pkl','wb'))"
   ]
  },
  {
   "cell_type": "code",
   "execution_count": null,
   "metadata": {
    "colab": {},
    "colab_type": "code",
    "id": "GeNdAbG5MaYW"
   },
   "outputs": [],
   "source": []
  }
 ],
 "metadata": {
  "colab": {
   "collapsed_sections": [],
   "name": "Hyper-parameter Selection.ipynb",
   "provenance": []
  },
  "kernelspec": {
   "display_name": "Python 3",
   "language": "python",
   "name": "python3"
  },
  "language_info": {
   "codemirror_mode": {
    "name": "ipython",
    "version": 3
   },
   "file_extension": ".py",
   "mimetype": "text/x-python",
   "name": "python",
   "nbconvert_exporter": "python",
   "pygments_lexer": "ipython3",
   "version": "3.8.5"
  }
 },
 "nbformat": 4,
 "nbformat_minor": 1
}
