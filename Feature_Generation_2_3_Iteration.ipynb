{
 "cells": [
  {
   "cell_type": "markdown",
   "metadata": {},
   "source": [
    "## Came up with this notebook to generate more  features to see if they could help us decrease the RMSE value\n",
    "* [Performed numerical aggregation over purchase amount with the left over categorical features](#numerical_aggregation)\n",
    "* Created new features,purchase_date_difference and purchase_amount_difference by grouping the records according to card_id and calculating consecutive differences.\n",
    "* [Created reference date difference features](#reference_date_features)\n",
    "* Creating a ratio of purchase amounts and reference month difference giving more importance to recent months as compared to previous months\n",
    "* [Numerical aggregation on purchase amount difference features](#purchase_amount_diff_features)\n",
    "* [Aggregation over head and tail of purchase amounts](#sum_and_max_of_head_and_tail_of_purchase_amts)\n",
    "* [purchase_days_diff,number of transactions and purchase_days_avg](#additional_features)"
   ]
  },
  {
   "cell_type": "code",
   "execution_count": 1,
   "metadata": {},
   "outputs": [],
   "source": [
    "import pandas as pd\n",
    "import numpy as np\n",
    "import matplotlib.pyplot as plt\n",
    "import seaborn as sns\n",
    "import pickle\n",
    "import eda_fe_module as eda_fe\n",
    "import time"
   ]
  },
  {
   "cell_type": "code",
   "execution_count": 2,
   "metadata": {},
   "outputs": [
    {
     "name": "stdout",
     "output_type": "stream",
     "text": [
      "Mem. usage decreased to 1719.48 Mb (21.3% reduction)\n"
     ]
    },
    {
     "data": {
      "text/plain": [
       "(18030009, 26)"
      ]
     },
     "execution_count": 2,
     "metadata": {},
     "output_type": "execute_result"
    }
   ],
   "source": [
    "s_hist_df = eda_fe.reduce_mem_usage(pickle.load(open('s_hist_df.pkl','rb')))\n",
    "s_hist_df.shape"
   ]
  },
  {
   "cell_type": "markdown",
   "metadata": {},
   "source": [
    "<a id = 'numerical_aggregation'></a>\n",
    "## Iteration 2. Numerical aggregation over categorical columns\n",
    "* In the first iteration of feature generation we had not considered this numerical aggregation over purchase amount\n",
    "* So here we are adding those features into the feature set."
   ]
  },
  {
   "cell_type": "code",
   "execution_count": 3,
   "metadata": {},
   "outputs": [],
   "source": [
    "aggr_funcs = ['min','max','mean','sum','std']"
   ]
  },
  {
   "cell_type": "code",
   "execution_count": 5,
   "metadata": {},
   "outputs": [
    {
     "name": "stderr",
     "output_type": "stream",
     "text": [
      "\r",
      "  0%|                                                                                            | 0/2 [00:00<?, ?it/s]"
     ]
    },
    {
     "name": "stdout",
     "output_type": "stream",
     "text": [
      "Category of Column :  N\n"
     ]
    },
    {
     "name": "stderr",
     "output_type": "stream",
     "text": [
      "\r",
      " 50%|██████████████████████████████████████████                                          | 1/2 [00:10<00:10, 10.10s/it]"
     ]
    },
    {
     "name": "stdout",
     "output_type": "stream",
     "text": [
      "Category of Column :  Y\n"
     ]
    },
    {
     "name": "stderr",
     "output_type": "stream",
     "text": [
      "100%|████████████████████████████████████████████████████████████████████████████████████| 2/2 [00:12<00:00,  6.20s/it]"
     ]
    },
    {
     "name": "stdout",
     "output_type": "stream",
     "text": [
      "***********Merge_df**********\n",
      "(201917, 11)\n"
     ]
    },
    {
     "name": "stderr",
     "output_type": "stream",
     "text": [
      "\n",
      "  0%|                                                                                            | 0/5 [00:00<?, ?it/s]"
     ]
    },
    {
     "name": "stdout",
     "output_type": "stream",
     "text": [
      "Category of Column :  3.0\n"
     ]
    },
    {
     "name": "stderr",
     "output_type": "stream",
     "text": [
      "\r",
      " 20%|████████████████▊                                                                   | 1/5 [00:01<00:05,  1.42s/it]"
     ]
    },
    {
     "name": "stdout",
     "output_type": "stream",
     "text": [
      "Category of Column :  1.0\n"
     ]
    },
    {
     "name": "stderr",
     "output_type": "stream",
     "text": [
      "\r",
      " 40%|█████████████████████████████████▌                                                  | 2/5 [00:07<00:08,  2.82s/it]"
     ]
    },
    {
     "name": "stdout",
     "output_type": "stream",
     "text": [
      "***********Merge_df**********\n",
      "(195097, 11)\n",
      "Category of Column :  5.0\n"
     ]
    },
    {
     "name": "stderr",
     "output_type": "stream",
     "text": [
      "\r",
      " 60%|██████████████████████████████████████████████████▍                                 | 3/5 [00:09<00:04,  2.46s/it]"
     ]
    },
    {
     "name": "stdout",
     "output_type": "stream",
     "text": [
      "***********Merge_df**********\n",
      "(199139, 16)\n",
      "Category of Column :  2.0\n"
     ]
    },
    {
     "name": "stderr",
     "output_type": "stream",
     "text": [
      "\r",
      " 80%|███████████████████████████████████████████████████████████████████▏                | 4/5 [00:09<00:01,  1.90s/it]"
     ]
    },
    {
     "name": "stdout",
     "output_type": "stream",
     "text": [
      "***********Merge_df**********\n",
      "(200390, 21)\n",
      "Category of Column :  4.0\n"
     ]
    },
    {
     "name": "stderr",
     "output_type": "stream",
     "text": [
      "100%|████████████████████████████████████████████████████████████████████████████████████| 5/5 [00:10<00:00,  2.19s/it]"
     ]
    },
    {
     "name": "stdout",
     "output_type": "stream",
     "text": [
      "***********Merge_df**********\n",
      "(201917, 26)\n"
     ]
    },
    {
     "name": "stderr",
     "output_type": "stream",
     "text": [
      "\n",
      "  0%|                                                                                            | 0/3 [00:00<?, ?it/s]"
     ]
    },
    {
     "name": "stdout",
     "output_type": "stream",
     "text": [
      "Category of Column :  B\n"
     ]
    },
    {
     "name": "stderr",
     "output_type": "stream",
     "text": [
      "\r",
      " 33%|████████████████████████████                                                        | 1/3 [00:05<00:10,  5.13s/it]"
     ]
    },
    {
     "name": "stdout",
     "output_type": "stream",
     "text": [
      "Category of Column :  C\n"
     ]
    },
    {
     "name": "stderr",
     "output_type": "stream",
     "text": [
      "\r",
      " 67%|████████████████████████████████████████████████████████                            | 2/3 [00:07<00:04,  4.22s/it]"
     ]
    },
    {
     "name": "stdout",
     "output_type": "stream",
     "text": [
      "***********Merge_df**********\n",
      "(150897, 11)\n",
      "Category of Column :  A\n"
     ]
    },
    {
     "name": "stderr",
     "output_type": "stream",
     "text": [
      "100%|████████████████████████████████████████████████████████████████████████████████████| 3/3 [00:13<00:00,  4.56s/it]\n",
      "  0%|                                                                                          | 0/308 [00:00<?, ?it/s]"
     ]
    },
    {
     "name": "stdout",
     "output_type": "stream",
     "text": [
      "***********Merge_df**********\n",
      "(201917, 16)\n"
     ]
    },
    {
     "name": "stderr",
     "output_type": "stream",
     "text": [
      "\r",
      "  0%|▎                                                                                 | 1/308 [00:00<00:33,  9.03it/s]"
     ]
    },
    {
     "name": "stdout",
     "output_type": "stream",
     "text": [
      "Category of Column :  322\n",
      "Category of Column :  138\n"
     ]
    },
    {
     "name": "stderr",
     "output_type": "stream",
     "text": [
      "  1%|█                                                                                 | 4/308 [00:00<00:31,  9.70it/s]"
     ]
    },
    {
     "name": "stdout",
     "output_type": "stream",
     "text": [
      "***********Merge_df**********\n",
      "(14727, 11)\n",
      "Category of Column :  226\n",
      "***********Merge_df**********\n",
      "(15608, 16)\n",
      "Category of Column :  330\n",
      "***********Merge_df**********\n",
      "(17919, 21)\n",
      "Category of Column :  278\n"
     ]
    },
    {
     "name": "stderr",
     "output_type": "stream",
     "text": [
      "\r",
      "  2%|█▌                                                                                | 6/308 [00:00<00:28, 10.71it/s]"
     ]
    },
    {
     "name": "stdout",
     "output_type": "stream",
     "text": [
      "***********Merge_df**********\n",
      "(19335, 26)\n",
      "Category of Column :  221\n",
      "***********Merge_df**********\n",
      "(19512, 31)\n",
      "Category of Column :  19\n"
     ]
    },
    {
     "name": "stderr",
     "output_type": "stream",
     "text": [
      "\r",
      "  2%|█▊                                                                                | 7/308 [00:01<01:08,  4.41it/s]"
     ]
    },
    {
     "name": "stdout",
     "output_type": "stream",
     "text": [
      "***********Merge_df**********\n",
      "(53542, 36)\n",
      "Category of Column :  331\n"
     ]
    },
    {
     "name": "stderr",
     "output_type": "stream",
     "text": [
      "  3%|██▍                                                                               | 9/308 [00:01<01:11,  4.20it/s]"
     ]
    },
    {
     "name": "stdout",
     "output_type": "stream",
     "text": [
      "***********Merge_df**********\n",
      "(70402, 41)\n",
      "Category of Column :  211\n",
      "***********Merge_df**********\n",
      "(71086, 46)\n",
      "Category of Column :  209\n"
     ]
    },
    {
     "name": "stderr",
     "output_type": "stream",
     "text": [
      "  4%|██▉                                                                              | 11/308 [00:01<00:54,  5.50it/s]"
     ]
    },
    {
     "name": "stdout",
     "output_type": "stream",
     "text": [
      "***********Merge_df**********\n",
      "(71647, 51)\n",
      "Category of Column :  193\n",
      "***********Merge_df**********\n",
      "(71848, 56)\n",
      "Category of Column :  11\n"
     ]
    },
    {
     "name": "stderr",
     "output_type": "stream",
     "text": [
      "\r",
      "  4%|███▏                                                                             | 12/308 [00:02<00:50,  5.83it/s]"
     ]
    },
    {
     "name": "stdout",
     "output_type": "stream",
     "text": [
      "***********Merge_df**********\n",
      "(72832, 61)\n",
      "Category of Column :  161\n",
      "***********Merge_df**********\n",
      "(75093, 66)\n"
     ]
    },
    {
     "name": "stderr",
     "output_type": "stream",
     "text": [
      "\r",
      "  4%|███▍                                                                             | 13/308 [00:02<00:51,  5.73it/s]"
     ]
    },
    {
     "name": "stdout",
     "output_type": "stream",
     "text": [
      "Category of Column :  -1\n"
     ]
    },
    {
     "name": "stderr",
     "output_type": "stream",
     "text": [
      "\r",
      "  5%|███▋                                                                             | 14/308 [00:03<02:21,  2.08it/s]"
     ]
    },
    {
     "name": "stdout",
     "output_type": "stream",
     "text": [
      "***********Merge_df**********\n",
      "(137819, 71)\n",
      "Category of Column :  105\n",
      "***********Merge_df**********"
     ]
    },
    {
     "name": "stderr",
     "output_type": "stream",
     "text": [
      "\r",
      "  5%|███▉                                                                             | 15/308 [00:03<01:56,  2.52it/s]"
     ]
    },
    {
     "name": "stdout",
     "output_type": "stream",
     "text": [
      "\n",
      "(137930, 76)\n",
      "Category of Column :  329\n"
     ]
    },
    {
     "name": "stderr",
     "output_type": "stream",
     "text": [
      "\r",
      "  5%|████▏                                                                            | 16/308 [00:03<01:39,  2.92it/s]"
     ]
    },
    {
     "name": "stdout",
     "output_type": "stream",
     "text": [
      "***********Merge_df**********\n",
      "(138437, 81)\n",
      "Category of Column :  42\n"
     ]
    },
    {
     "name": "stderr",
     "output_type": "stream",
     "text": [
      "\r",
      "  6%|████▍                                                                            | 17/308 [00:04<01:29,  3.24it/s]"
     ]
    },
    {
     "name": "stdout",
     "output_type": "stream",
     "text": [
      "***********Merge_df**********\n",
      "(139150, 86)\n",
      "Category of Column :  251\n"
     ]
    },
    {
     "name": "stderr",
     "output_type": "stream",
     "text": [
      "\r",
      "  6%|████▋                                                                            | 18/308 [00:04<01:24,  3.45it/s]"
     ]
    },
    {
     "name": "stdout",
     "output_type": "stream",
     "text": [
      "***********Merge_df**********\n",
      "(140068, 91)\n",
      "Category of Column :  338\n"
     ]
    },
    {
     "name": "stderr",
     "output_type": "stream",
     "text": [
      "\r",
      "  6%|████▉                                                                            | 19/308 [00:04<01:16,  3.77it/s]"
     ]
    },
    {
     "name": "stdout",
     "output_type": "stream",
     "text": [
      "***********Merge_df**********\n",
      "(140188, 96)\n",
      "Category of Column :  333\n"
     ]
    },
    {
     "name": "stderr",
     "output_type": "stream",
     "text": [
      "\r",
      "  6%|█████▎                                                                           | 20/308 [00:04<01:33,  3.07it/s]"
     ]
    },
    {
     "name": "stdout",
     "output_type": "stream",
     "text": [
      "***********Merge_df**********\n",
      "(146355, 101)\n",
      "Category of Column :  344\n"
     ]
    },
    {
     "name": "stderr",
     "output_type": "stream",
     "text": [
      "\r",
      "  7%|█████▌                                                                           | 21/308 [00:05<01:31,  3.13it/s]"
     ]
    },
    {
     "name": "stdout",
     "output_type": "stream",
     "text": [
      "***********Merge_df**********\n",
      "(147932, 106)\n",
      "Category of Column :  87\n"
     ]
    },
    {
     "name": "stderr",
     "output_type": "stream",
     "text": [
      "\r",
      "  7%|█████▊                                                                           | 22/308 [00:05<01:36,  2.96it/s]"
     ]
    },
    {
     "name": "stdout",
     "output_type": "stream",
     "text": [
      "***********Merge_df**********\n",
      "(149320, 111)\n",
      "Category of Column :  69\n"
     ]
    },
    {
     "name": "stderr",
     "output_type": "stream",
     "text": [
      "\r",
      "  7%|██████                                                                           | 23/308 [00:07<04:13,  1.12it/s]"
     ]
    },
    {
     "name": "stdout",
     "output_type": "stream",
     "text": [
      "***********Merge_df**********\n",
      "(186905, 116)\n",
      "Category of Column :  63\n"
     ]
    },
    {
     "name": "stderr",
     "output_type": "stream",
     "text": [
      "\r",
      "  8%|██████▎                                                                          | 24/308 [00:08<03:22,  1.40it/s]"
     ]
    },
    {
     "name": "stdout",
     "output_type": "stream",
     "text": [
      "***********Merge_df**********\n",
      "(186929, 121)\n",
      "Category of Column :  229\n"
     ]
    },
    {
     "name": "stderr",
     "output_type": "stream",
     "text": [
      "\r",
      "  8%|██████▌                                                                          | 25/308 [00:08<02:46,  1.70it/s]"
     ]
    },
    {
     "name": "stdout",
     "output_type": "stream",
     "text": [
      "***********Merge_df**********\n",
      "(186992, 126)\n",
      "Category of Column :  170\n"
     ]
    },
    {
     "name": "stderr",
     "output_type": "stream",
     "text": [
      "\r",
      "  8%|██████▊                                                                          | 26/308 [00:08<02:22,  1.98it/s]"
     ]
    },
    {
     "name": "stdout",
     "output_type": "stream",
     "text": [
      "***********Merge_df**********\n",
      "(187058, 131)\n",
      "Category of Column :  88\n"
     ]
    },
    {
     "name": "stderr",
     "output_type": "stream",
     "text": [
      "\r",
      "  9%|███████                                                                          | 27/308 [00:09<02:24,  1.95it/s]"
     ]
    },
    {
     "name": "stdout",
     "output_type": "stream",
     "text": [
      "***********Merge_df**********\n",
      "(187620, 136)\n",
      "Category of Column :  135\n"
     ]
    },
    {
     "name": "stderr",
     "output_type": "stream",
     "text": [
      "\r",
      "  9%|███████▎                                                                         | 28/308 [00:09<02:07,  2.20it/s]"
     ]
    },
    {
     "name": "stdout",
     "output_type": "stream",
     "text": [
      "***********Merge_df**********\n",
      "(187760, 141)\n",
      "Category of Column :  107\n"
     ]
    },
    {
     "name": "stderr",
     "output_type": "stream",
     "text": [
      "\r",
      "  9%|███████▋                                                                         | 29/308 [00:09<02:02,  2.27it/s]"
     ]
    },
    {
     "name": "stdout",
     "output_type": "stream",
     "text": [
      "***********Merge_df**********\n",
      "(188305, 146)\n",
      "Category of Column :  20\n"
     ]
    },
    {
     "name": "stderr",
     "output_type": "stream",
     "text": [
      "\r",
      " 10%|███████▉                                                                         | 30/308 [00:10<01:59,  2.33it/s]"
     ]
    },
    {
     "name": "stdout",
     "output_type": "stream",
     "text": [
      "***********Merge_df**********\n",
      "(188711, 151)\n",
      "Category of Column :  57\n"
     ]
    },
    {
     "name": "stderr",
     "output_type": "stream",
     "text": [
      "\r",
      " 10%|████████▏                                                                        | 31/308 [00:10<02:02,  2.26it/s]"
     ]
    },
    {
     "name": "stdout",
     "output_type": "stream",
     "text": [
      "***********Merge_df**********\n",
      "(189478, 156)\n",
      "Category of Column :  17\n"
     ]
    },
    {
     "name": "stderr",
     "output_type": "stream",
     "text": [
      "\r",
      " 10%|████████▍                                                                        | 32/308 [00:11<02:16,  2.02it/s]"
     ]
    },
    {
     "name": "stdout",
     "output_type": "stream",
     "text": [
      "***********Merge_df**********\n",
      "(190074, 161)\n",
      "Category of Column :  212\n"
     ]
    },
    {
     "name": "stderr",
     "output_type": "stream",
     "text": [
      "\r",
      " 11%|████████▋                                                                        | 33/308 [00:11<02:15,  2.04it/s]"
     ]
    },
    {
     "name": "stdout",
     "output_type": "stream",
     "text": [
      "***********Merge_df**********\n",
      "(190323, 166)\n",
      "Category of Column :  277\n"
     ]
    },
    {
     "name": "stderr",
     "output_type": "stream",
     "text": [
      "\r",
      " 11%|████████▉                                                                        | 34/308 [00:12<02:08,  2.13it/s]"
     ]
    },
    {
     "name": "stdout",
     "output_type": "stream",
     "text": [
      "***********Merge_df**********\n",
      "(190621, 171)\n",
      "Category of Column :  280\n"
     ]
    },
    {
     "name": "stderr",
     "output_type": "stream",
     "text": [
      "\r",
      " 11%|█████████▏                                                                       | 35/308 [00:12<01:58,  2.30it/s]"
     ]
    },
    {
     "name": "stdout",
     "output_type": "stream",
     "text": [
      "***********Merge_df**********\n",
      "(190640, 176)\n",
      "Category of Column :  117\n"
     ]
    },
    {
     "name": "stderr",
     "output_type": "stream",
     "text": [
      "\r",
      " 12%|█████████▍                                                                       | 36/308 [00:13<02:00,  2.26it/s]"
     ]
    },
    {
     "name": "stdout",
     "output_type": "stream",
     "text": [
      "***********Merge_df**********\n",
      "(190938, 181)\n",
      "Category of Column :  85\n"
     ]
    },
    {
     "name": "stderr",
     "output_type": "stream",
     "text": [
      "\r",
      " 12%|█████████▋                                                                       | 37/308 [00:13<01:52,  2.42it/s]"
     ]
    },
    {
     "name": "stdout",
     "output_type": "stream",
     "text": [
      "***********Merge_df**********\n",
      "(190953, 186)\n",
      "Category of Column :  301\n"
     ]
    },
    {
     "name": "stderr",
     "output_type": "stream",
     "text": [
      "\r",
      " 12%|█████████▉                                                                       | 38/308 [00:13<01:46,  2.52it/s]"
     ]
    },
    {
     "name": "stdout",
     "output_type": "stream",
     "text": [
      "***********Merge_df**********\n",
      "(190982, 191)\n",
      "Category of Column :  25\n"
     ]
    },
    {
     "name": "stderr",
     "output_type": "stream",
     "text": [
      "\r",
      " 13%|██████████▎                                                                      | 39/308 [00:14<01:53,  2.37it/s]"
     ]
    },
    {
     "name": "stdout",
     "output_type": "stream",
     "text": [
      "***********Merge_df**********\n",
      "(191368, 196)\n",
      "Category of Column :  86\n"
     ]
    },
    {
     "name": "stderr",
     "output_type": "stream",
     "text": [
      "\r",
      " 13%|██████████▌                                                                      | 40/308 [00:14<01:48,  2.48it/s]"
     ]
    },
    {
     "name": "stdout",
     "output_type": "stream",
     "text": [
      "***********Merge_df**********\n",
      "(191378, 201)\n",
      "Category of Column :  96\n"
     ]
    },
    {
     "name": "stderr",
     "output_type": "stream",
     "text": [
      "\r",
      " 13%|██████████▊                                                                      | 41/308 [00:15<01:48,  2.46it/s]"
     ]
    },
    {
     "name": "stdout",
     "output_type": "stream",
     "text": [
      "***********Merge_df**********\n",
      "(191641, 206)\n",
      "Category of Column :  38\n"
     ]
    },
    {
     "name": "stderr",
     "output_type": "stream",
     "text": [
      "\r",
      " 14%|███████████                                                                      | 42/308 [00:15<01:45,  2.52it/s]"
     ]
    },
    {
     "name": "stdout",
     "output_type": "stream",
     "text": [
      "***********Merge_df**********\n",
      "(191714, 211)\n",
      "Category of Column :  158\n"
     ]
    },
    {
     "name": "stderr",
     "output_type": "stream",
     "text": [
      "\r",
      " 14%|███████████▎                                                                     | 43/308 [00:16<02:14,  1.97it/s]"
     ]
    },
    {
     "name": "stdout",
     "output_type": "stream",
     "text": [
      "***********Merge_df**********\n",
      "(193384, 216)\n",
      "Category of Column :  272\n"
     ]
    },
    {
     "name": "stderr",
     "output_type": "stream",
     "text": [
      "\r",
      " 14%|███████████▌                                                                     | 44/308 [00:16<02:04,  2.12it/s]"
     ]
    },
    {
     "name": "stdout",
     "output_type": "stream",
     "text": [
      "***********Merge_df**********\n",
      "(193412, 221)\n",
      "Category of Column :  311\n"
     ]
    },
    {
     "name": "stderr",
     "output_type": "stream",
     "text": [
      "\r",
      " 15%|███████████▊                                                                     | 45/308 [00:17<01:58,  2.22it/s]"
     ]
    },
    {
     "name": "stdout",
     "output_type": "stream",
     "text": [
      "***********Merge_df**********\n",
      "(193436, 226)\n",
      "Category of Column :  49\n"
     ]
    },
    {
     "name": "stderr",
     "output_type": "stream",
     "text": [
      "\r",
      " 15%|████████████                                                                     | 46/308 [00:17<01:53,  2.30it/s]"
     ]
    },
    {
     "name": "stdout",
     "output_type": "stream",
     "text": [
      "***********Merge_df**********\n",
      "(193446, 231)\n",
      "Category of Column :  296\n"
     ]
    },
    {
     "name": "stderr",
     "output_type": "stream",
     "text": [
      "\r",
      " 15%|████████████▎                                                                    | 47/308 [00:17<01:50,  2.36it/s]"
     ]
    },
    {
     "name": "stdout",
     "output_type": "stream",
     "text": [
      "***********Merge_df**********\n",
      "(193467, 236)\n",
      "Category of Column :  148\n"
     ]
    },
    {
     "name": "stderr",
     "output_type": "stream",
     "text": [
      "\r",
      " 16%|████████████▌                                                                    | 48/308 [00:18<01:48,  2.39it/s]"
     ]
    },
    {
     "name": "stdout",
     "output_type": "stream",
     "text": [
      "***********Merge_df**********\n",
      "(193481, 241)\n",
      "Category of Column :  90\n"
     ]
    },
    {
     "name": "stderr",
     "output_type": "stream",
     "text": [
      "\r",
      " 16%|████████████▉                                                                    | 49/308 [00:18<01:49,  2.37it/s]"
     ]
    },
    {
     "name": "stdout",
     "output_type": "stream",
     "text": [
      "***********Merge_df**********\n",
      "(193560, 246)\n",
      "Category of Column :  275\n"
     ]
    },
    {
     "name": "stderr",
     "output_type": "stream",
     "text": [
      "\r",
      " 16%|█████████████▏                                                                   | 50/308 [00:19<01:47,  2.40it/s]"
     ]
    },
    {
     "name": "stdout",
     "output_type": "stream",
     "text": [
      "***********Merge_df**********\n",
      "(193570, 251)\n",
      "Category of Column :  108\n"
     ]
    },
    {
     "name": "stderr",
     "output_type": "stream",
     "text": [
      "\r",
      " 17%|█████████████▍                                                                   | 51/308 [00:19<01:46,  2.42it/s]"
     ]
    },
    {
     "name": "stdout",
     "output_type": "stream",
     "text": [
      "***********Merge_df**********\n",
      "(193577, 256)\n",
      "Category of Column :  30\n"
     ]
    },
    {
     "name": "stderr",
     "output_type": "stream",
     "text": [
      "\r",
      " 17%|█████████████▋                                                                   | 52/308 [00:19<01:48,  2.37it/s]"
     ]
    },
    {
     "name": "stdout",
     "output_type": "stream",
     "text": [
      "***********Merge_df**********\n",
      "(193660, 261)\n",
      "Category of Column :  302\n"
     ]
    },
    {
     "name": "stderr",
     "output_type": "stream",
     "text": [
      "\r",
      " 17%|█████████████▉                                                                   | 53/308 [00:20<01:50,  2.30it/s]"
     ]
    },
    {
     "name": "stdout",
     "output_type": "stream",
     "text": [
      "***********Merge_df**********\n",
      "(193780, 266)\n",
      "Category of Column :  143\n"
     ]
    },
    {
     "name": "stderr",
     "output_type": "stream",
     "text": [
      "\r",
      " 18%|██████████████▏                                                                  | 54/308 [00:21<02:11,  1.93it/s]"
     ]
    },
    {
     "name": "stdout",
     "output_type": "stream",
     "text": [
      "***********Merge_df**********\n",
      "(194355, 271)\n",
      "Category of Column :  66\n"
     ]
    },
    {
     "name": "stderr",
     "output_type": "stream",
     "text": [
      "\r",
      " 18%|██████████████▍                                                                  | 55/308 [00:21<02:05,  2.02it/s]"
     ]
    },
    {
     "name": "stdout",
     "output_type": "stream",
     "text": [
      "***********Merge_df**********\n",
      "(194403, 276)\n",
      "Category of Column :  291\n"
     ]
    },
    {
     "name": "stderr",
     "output_type": "stream",
     "text": [
      "\r",
      " 18%|██████████████▋                                                                  | 56/308 [00:22<02:08,  1.96it/s]"
     ]
    },
    {
     "name": "stdout",
     "output_type": "stream",
     "text": [
      "***********Merge_df**********\n",
      "(194644, 281)\n",
      "Category of Column :  137\n"
     ]
    },
    {
     "name": "stderr",
     "output_type": "stream",
     "text": [
      "\r",
      " 19%|██████████████▉                                                                  | 57/308 [00:22<02:17,  1.83it/s]"
     ]
    },
    {
     "name": "stdout",
     "output_type": "stream",
     "text": [
      "***********Merge_df**********\n",
      "(195090, 286)\n",
      "Category of Column :  147\n"
     ]
    },
    {
     "name": "stderr",
     "output_type": "stream",
     "text": [
      "\r",
      " 19%|███████████████▎                                                                 | 58/308 [00:23<02:10,  1.92it/s]"
     ]
    },
    {
     "name": "stdout",
     "output_type": "stream",
     "text": [
      "***********Merge_df**********\n",
      "(195094, 291)\n",
      "Category of Column :  4\n"
     ]
    },
    {
     "name": "stderr",
     "output_type": "stream",
     "text": [
      "\r",
      " 19%|███████████████▌                                                                 | 59/308 [00:23<02:08,  1.93it/s]"
     ]
    },
    {
     "name": "stdout",
     "output_type": "stream",
     "text": [
      "***********Merge_df**********\n",
      "(195435, 296)\n",
      "Category of Column :  216\n"
     ]
    },
    {
     "name": "stderr",
     "output_type": "stream",
     "text": [
      "\r",
      " 19%|███████████████▊                                                                 | 60/308 [00:24<02:03,  2.00it/s]"
     ]
    },
    {
     "name": "stdout",
     "output_type": "stream",
     "text": [
      "***********Merge_df**********\n",
      "(195505, 301)\n",
      "Category of Column :  53\n"
     ]
    },
    {
     "name": "stderr",
     "output_type": "stream",
     "text": [
      "\r",
      " 20%|████████████████                                                                 | 61/308 [00:24<02:05,  1.97it/s]"
     ]
    },
    {
     "name": "stdout",
     "output_type": "stream",
     "text": [
      "***********Merge_df**********\n",
      "(195715, 306)\n",
      "Category of Column :  160\n"
     ]
    },
    {
     "name": "stderr",
     "output_type": "stream",
     "text": [
      "\r",
      " 20%|████████████████▎                                                                | 62/308 [00:25<02:10,  1.88it/s]"
     ]
    },
    {
     "name": "stdout",
     "output_type": "stream",
     "text": [
      "***********Merge_df**********\n",
      "(196099, 311)\n",
      "Category of Column :  149\n"
     ]
    },
    {
     "name": "stderr",
     "output_type": "stream",
     "text": [
      "\r",
      " 20%|████████████████▌                                                                | 63/308 [00:25<02:16,  1.79it/s]"
     ]
    },
    {
     "name": "stdout",
     "output_type": "stream",
     "text": [
      "***********Merge_df**********\n",
      "(196653, 316)\n",
      "Category of Column :  47\n"
     ]
    },
    {
     "name": "stderr",
     "output_type": "stream",
     "text": [
      "\r",
      " 21%|████████████████▊                                                                | 64/308 [00:26<02:10,  1.88it/s]"
     ]
    },
    {
     "name": "stdout",
     "output_type": "stream",
     "text": [
      "***********Merge_df**********\n",
      "(196664, 321)\n",
      "Category of Column :  14\n"
     ]
    },
    {
     "name": "stderr",
     "output_type": "stream",
     "text": [
      "\r",
      " 21%|█████████████████                                                                | 65/308 [00:26<02:06,  1.92it/s]"
     ]
    },
    {
     "name": "stdout",
     "output_type": "stream",
     "text": [
      "***********Merge_df**********\n",
      "(196674, 326)\n",
      "Category of Column :  342\n"
     ]
    },
    {
     "name": "stderr",
     "output_type": "stream",
     "text": [
      "\r",
      " 21%|█████████████████▎                                                               | 66/308 [00:27<02:03,  1.96it/s]"
     ]
    },
    {
     "name": "stdout",
     "output_type": "stream",
     "text": [
      "***********Merge_df**********\n",
      "(196688, 331)\n",
      "Category of Column :  26\n"
     ]
    },
    {
     "name": "stderr",
     "output_type": "stream",
     "text": [
      "\r",
      " 22%|█████████████████▌                                                               | 67/308 [00:27<02:03,  1.96it/s]"
     ]
    },
    {
     "name": "stdout",
     "output_type": "stream",
     "text": [
      "***********Merge_df**********\n",
      "(196689, 336)\n",
      "Category of Column :  120\n"
     ]
    },
    {
     "name": "stderr",
     "output_type": "stream",
     "text": [
      "\r",
      " 22%|█████████████████▉                                                               | 68/308 [00:28<02:04,  1.92it/s]"
     ]
    },
    {
     "name": "stdout",
     "output_type": "stream",
     "text": [
      "***********Merge_df**********\n",
      "(196695, 341)\n",
      "Category of Column :  56\n"
     ]
    },
    {
     "name": "stderr",
     "output_type": "stream",
     "text": [
      "\r",
      " 22%|██████████████████▏                                                              | 69/308 [00:28<02:04,  1.92it/s]"
     ]
    },
    {
     "name": "stdout",
     "output_type": "stream",
     "text": [
      "***********Merge_df**********\n",
      "(196710, 346)\n",
      "Category of Column :  162\n"
     ]
    },
    {
     "name": "stderr",
     "output_type": "stream",
     "text": [
      "\r",
      " 23%|██████████████████▍                                                              | 70/308 [00:29<02:02,  1.94it/s]"
     ]
    },
    {
     "name": "stdout",
     "output_type": "stream",
     "text": [
      "***********Merge_df**********\n",
      "(196719, 351)\n",
      "Category of Column :  213\n"
     ]
    },
    {
     "name": "stderr",
     "output_type": "stream",
     "text": [
      "\r",
      " 23%|██████████████████▋                                                              | 71/308 [00:30<02:09,  1.84it/s]"
     ]
    },
    {
     "name": "stdout",
     "output_type": "stream",
     "text": [
      "***********Merge_df**********\n",
      "(196787, 356)\n",
      "Category of Column :  259\n"
     ]
    },
    {
     "name": "stderr",
     "output_type": "stream",
     "text": [
      "\r",
      " 23%|██████████████████▉                                                              | 72/308 [00:30<02:05,  1.87it/s]"
     ]
    },
    {
     "name": "stdout",
     "output_type": "stream",
     "text": [
      "***********Merge_df**********\n",
      "(196801, 361)\n",
      "Category of Column :  247\n"
     ]
    },
    {
     "name": "stderr",
     "output_type": "stream",
     "text": [
      "\r",
      " 24%|███████████████████▏                                                             | 73/308 [00:31<02:04,  1.89it/s]"
     ]
    },
    {
     "name": "stdout",
     "output_type": "stream",
     "text": [
      "***********Merge_df**********\n",
      "(196836, 366)\n",
      "Category of Column :  169\n"
     ]
    },
    {
     "name": "stderr",
     "output_type": "stream",
     "text": [
      "\r",
      " 24%|███████████████████▍                                                             | 74/308 [00:31<02:05,  1.86it/s]"
     ]
    },
    {
     "name": "stdout",
     "output_type": "stream",
     "text": [
      "***********Merge_df**********\n",
      "(196895, 371)\n",
      "Category of Column :  264\n"
     ]
    },
    {
     "name": "stderr",
     "output_type": "stream",
     "text": [
      "\r",
      " 24%|███████████████████▋                                                             | 75/308 [00:32<02:03,  1.88it/s]"
     ]
    },
    {
     "name": "stdout",
     "output_type": "stream",
     "text": [
      "***********Merge_df**********\n",
      "(196901, 376)\n",
      "Category of Column :  288\n"
     ]
    },
    {
     "name": "stderr",
     "output_type": "stream",
     "text": [
      "\r",
      " 25%|███████████████████▉                                                             | 76/308 [00:32<02:04,  1.87it/s]"
     ]
    },
    {
     "name": "stdout",
     "output_type": "stream",
     "text": [
      "***********Merge_df**********\n",
      "(196911, 381)\n",
      "Category of Column :  12\n"
     ]
    },
    {
     "name": "stderr",
     "output_type": "stream",
     "text": [
      "\r",
      " 25%|████████████████████▎                                                            | 77/308 [00:33<02:04,  1.85it/s]"
     ]
    },
    {
     "name": "stdout",
     "output_type": "stream",
     "text": [
      "***********Merge_df**********\n",
      "(196952, 386)\n",
      "Category of Column :  233\n"
     ]
    },
    {
     "name": "stderr",
     "output_type": "stream",
     "text": [
      "\r",
      " 25%|████████████████████▌                                                            | 78/308 [00:33<02:12,  1.73it/s]"
     ]
    },
    {
     "name": "stdout",
     "output_type": "stream",
     "text": [
      "***********Merge_df**********\n",
      "(197114, 391)\n",
      "Category of Column :  223\n"
     ]
    },
    {
     "name": "stderr",
     "output_type": "stream",
     "text": [
      "\r",
      " 26%|████████████████████▊                                                            | 79/308 [00:34<02:09,  1.77it/s]"
     ]
    },
    {
     "name": "stdout",
     "output_type": "stream",
     "text": [
      "***********Merge_df**********\n",
      "(197118, 396)\n",
      "Category of Column :  304\n"
     ]
    },
    {
     "name": "stderr",
     "output_type": "stream",
     "text": [
      "\r",
      " 26%|█████████████████████                                                            | 80/308 [00:35<02:07,  1.79it/s]"
     ]
    },
    {
     "name": "stdout",
     "output_type": "stream",
     "text": [
      "***********Merge_df**********\n",
      "(197127, 401)\n",
      "Category of Column :  230\n"
     ]
    },
    {
     "name": "stderr",
     "output_type": "stream",
     "text": [
      "\r",
      " 26%|█████████████████████▎                                                           | 81/308 [00:35<02:05,  1.80it/s]"
     ]
    },
    {
     "name": "stdout",
     "output_type": "stream",
     "text": [
      "***********Merge_df**********\n",
      "(197130, 406)\n",
      "Category of Column :  155\n"
     ]
    },
    {
     "name": "stderr",
     "output_type": "stream",
     "text": [
      "\r",
      " 27%|█████████████████████▌                                                           | 82/308 [00:36<02:06,  1.79it/s]"
     ]
    },
    {
     "name": "stdout",
     "output_type": "stream",
     "text": [
      "***********Merge_df**********\n",
      "(197150, 411)\n",
      "Category of Column :  106\n"
     ]
    },
    {
     "name": "stderr",
     "output_type": "stream",
     "text": [
      "\r",
      " 27%|█████████████████████▊                                                           | 83/308 [00:36<02:05,  1.79it/s]"
     ]
    },
    {
     "name": "stdout",
     "output_type": "stream",
     "text": [
      "***********Merge_df**********\n",
      "(197152, 416)\n",
      "Category of Column :  279\n"
     ]
    },
    {
     "name": "stderr",
     "output_type": "stream",
     "text": [
      "\r",
      " 27%|██████████████████████                                                           | 84/308 [00:37<02:06,  1.77it/s]"
     ]
    },
    {
     "name": "stdout",
     "output_type": "stream",
     "text": [
      "***********Merge_df**********\n",
      "(197176, 421)\n",
      "Category of Column :  116\n"
     ]
    },
    {
     "name": "stderr",
     "output_type": "stream",
     "text": [
      "\r",
      " 28%|██████████████████████▎                                                          | 85/308 [00:37<02:08,  1.73it/s]"
     ]
    },
    {
     "name": "stdout",
     "output_type": "stream",
     "text": [
      "***********Merge_df**********\n",
      "(197231, 426)\n",
      "Category of Column :  131\n"
     ]
    },
    {
     "name": "stderr",
     "output_type": "stream",
     "text": [
      "\r",
      " 28%|██████████████████████▌                                                          | 86/308 [00:38<02:08,  1.72it/s]"
     ]
    },
    {
     "name": "stdout",
     "output_type": "stream",
     "text": [
      "***********Merge_df**********\n",
      "(197266, 431)\n",
      "Category of Column :  140\n"
     ]
    },
    {
     "name": "stderr",
     "output_type": "stream",
     "text": [
      "\r",
      " 28%|██████████████████████▉                                                          | 87/308 [00:39<02:12,  1.67it/s]"
     ]
    },
    {
     "name": "stdout",
     "output_type": "stream",
     "text": [
      "***********Merge_df**********\n",
      "(197386, 436)\n",
      "Category of Column :  340\n"
     ]
    },
    {
     "name": "stderr",
     "output_type": "stream",
     "text": [
      "\r",
      " 29%|███████████████████████▏                                                         | 88/308 [00:39<02:12,  1.66it/s]"
     ]
    },
    {
     "name": "stdout",
     "output_type": "stream",
     "text": [
      "***********Merge_df**********\n",
      "(197470, 441)\n",
      "Category of Column :  314\n"
     ]
    },
    {
     "name": "stderr",
     "output_type": "stream",
     "text": [
      "\r",
      " 29%|███████████████████████▍                                                         | 89/308 [00:40<02:12,  1.65it/s]"
     ]
    },
    {
     "name": "stdout",
     "output_type": "stream",
     "text": [
      "***********Merge_df**********\n",
      "(197511, 446)\n",
      "Category of Column :  23\n"
     ]
    },
    {
     "name": "stderr",
     "output_type": "stream",
     "text": [
      "\r",
      " 29%|███████████████████████▋                                                         | 90/308 [00:40<02:10,  1.67it/s]"
     ]
    },
    {
     "name": "stdout",
     "output_type": "stream",
     "text": [
      "***********Merge_df**********\n",
      "(197526, 451)\n",
      "Category of Column :  36\n"
     ]
    },
    {
     "name": "stderr",
     "output_type": "stream",
     "text": [
      "\r",
      " 30%|███████████████████████▉                                                         | 91/308 [00:41<02:09,  1.67it/s]"
     ]
    },
    {
     "name": "stdout",
     "output_type": "stream",
     "text": [
      "***********Merge_df**********\n",
      "(197569, 456)\n",
      "Category of Column :  126\n"
     ]
    },
    {
     "name": "stderr",
     "output_type": "stream",
     "text": [
      "\r",
      " 30%|████████████████████████▏                                                        | 92/308 [00:42<02:10,  1.66it/s]"
     ]
    },
    {
     "name": "stdout",
     "output_type": "stream",
     "text": [
      "***********Merge_df**********\n",
      "(197574, 461)\n",
      "Category of Column :  122\n"
     ]
    },
    {
     "name": "stderr",
     "output_type": "stream",
     "text": [
      "\r",
      " 30%|████████████████████████▍                                                        | 93/308 [00:42<02:08,  1.67it/s]"
     ]
    },
    {
     "name": "stdout",
     "output_type": "stream",
     "text": [
      "***********Merge_df**********\n",
      "(197577, 466)\n",
      "Category of Column :  52\n"
     ]
    },
    {
     "name": "stderr",
     "output_type": "stream",
     "text": [
      "\r",
      " 31%|████████████████████████▋                                                        | 94/308 [00:43<02:08,  1.67it/s]"
     ]
    },
    {
     "name": "stdout",
     "output_type": "stream",
     "text": [
      "***********Merge_df**********\n",
      "(197605, 471)\n",
      "Category of Column :  199\n"
     ]
    },
    {
     "name": "stderr",
     "output_type": "stream",
     "text": [
      "\r",
      " 31%|████████████████████████▉                                                        | 95/308 [00:43<02:10,  1.64it/s]"
     ]
    },
    {
     "name": "stdout",
     "output_type": "stream",
     "text": [
      "***********Merge_df**********\n",
      "(197783, 476)\n",
      "Category of Column :  286\n"
     ]
    },
    {
     "name": "stderr",
     "output_type": "stream",
     "text": [
      "\r",
      " 31%|█████████████████████████▏                                                       | 96/308 [00:44<02:13,  1.58it/s]"
     ]
    },
    {
     "name": "stdout",
     "output_type": "stream",
     "text": [
      "***********Merge_df**********\n",
      "(197952, 481)\n",
      "Category of Column :  245\n"
     ]
    },
    {
     "name": "stderr",
     "output_type": "stream",
     "text": [
      "\r",
      " 31%|█████████████████████████▌                                                       | 97/308 [00:45<02:12,  1.60it/s]"
     ]
    },
    {
     "name": "stdout",
     "output_type": "stream",
     "text": [
      "***********Merge_df**********\n",
      "(197979, 486)\n",
      "Category of Column :  248\n"
     ]
    },
    {
     "name": "stderr",
     "output_type": "stream",
     "text": [
      "\r",
      " 32%|█████████████████████████▊                                                       | 98/308 [00:45<02:13,  1.58it/s]"
     ]
    },
    {
     "name": "stdout",
     "output_type": "stream",
     "text": [
      "***********Merge_df**********\n",
      "(198070, 491)\n",
      "Category of Column :  80\n"
     ]
    },
    {
     "name": "stderr",
     "output_type": "stream",
     "text": [
      "\r",
      " 32%|██████████████████████████                                                       | 99/308 [00:46<02:11,  1.58it/s]"
     ]
    },
    {
     "name": "stdout",
     "output_type": "stream",
     "text": [
      "***********Merge_df**********\n",
      "(198080, 496)\n",
      "Category of Column :  188\n"
     ]
    },
    {
     "name": "stderr",
     "output_type": "stream",
     "text": [
      "\r",
      " 32%|█████████████████████████▉                                                      | 100/308 [00:47<02:13,  1.56it/s]"
     ]
    },
    {
     "name": "stdout",
     "output_type": "stream",
     "text": [
      "***********Merge_df**********\n",
      "(198092, 501)\n",
      "Category of Column :  244\n"
     ]
    },
    {
     "name": "stderr",
     "output_type": "stream",
     "text": [
      "\r",
      " 33%|██████████████████████████▏                                                     | 101/308 [00:47<02:15,  1.52it/s]"
     ]
    },
    {
     "name": "stdout",
     "output_type": "stream",
     "text": [
      "***********Merge_df**********\n",
      "(198461, 506)\n",
      "Category of Column :  295\n"
     ]
    },
    {
     "name": "stderr",
     "output_type": "stream",
     "text": [
      "\r",
      " 33%|██████████████████████████▍                                                     | 102/308 [00:48<02:14,  1.53it/s]"
     ]
    },
    {
     "name": "stdout",
     "output_type": "stream",
     "text": [
      "***********Merge_df**********\n",
      "(198467, 511)\n",
      "Category of Column :  283\n"
     ]
    },
    {
     "name": "stderr",
     "output_type": "stream",
     "text": [
      "\r",
      " 33%|██████████████████████████▊                                                     | 103/308 [00:49<02:16,  1.50it/s]"
     ]
    },
    {
     "name": "stdout",
     "output_type": "stream",
     "text": [
      "***********Merge_df**********\n",
      "(198509, 516)\n",
      "Category of Column :  159\n"
     ]
    },
    {
     "name": "stderr",
     "output_type": "stream",
     "text": [
      "\r",
      " 34%|███████████████████████████                                                     | 104/308 [00:49<02:16,  1.50it/s]"
     ]
    },
    {
     "name": "stdout",
     "output_type": "stream",
     "text": [
      "***********Merge_df**********\n",
      "(198533, 521)\n",
      "Category of Column :  231\n"
     ]
    },
    {
     "name": "stderr",
     "output_type": "stream",
     "text": [
      "\r",
      " 34%|███████████████████████████▎                                                    | 105/308 [00:50<02:18,  1.47it/s]"
     ]
    },
    {
     "name": "stdout",
     "output_type": "stream",
     "text": [
      "***********Merge_df**********\n",
      "(198585, 526)\n",
      "Category of Column :  13\n"
     ]
    },
    {
     "name": "stderr",
     "output_type": "stream",
     "text": [
      "\r",
      " 34%|███████████████████████████▌                                                    | 106/308 [00:51<02:16,  1.48it/s]"
     ]
    },
    {
     "name": "stdout",
     "output_type": "stream",
     "text": [
      "***********Merge_df**********\n",
      "(198598, 531)\n",
      "Category of Column :  276\n"
     ]
    },
    {
     "name": "stderr",
     "output_type": "stream",
     "text": [
      "\r",
      " 35%|███████████████████████████▊                                                    | 107/308 [00:51<02:15,  1.48it/s]"
     ]
    },
    {
     "name": "stdout",
     "output_type": "stream",
     "text": [
      "***********Merge_df**********\n",
      "(198601, 536)\n",
      "Category of Column :  48\n"
     ]
    },
    {
     "name": "stderr",
     "output_type": "stream",
     "text": [
      "\r",
      " 35%|████████████████████████████                                                    | 108/308 [00:52<02:15,  1.48it/s]"
     ]
    },
    {
     "name": "stdout",
     "output_type": "stream",
     "text": [
      "***********Merge_df**********\n",
      "(198612, 541)\n",
      "Category of Column :  163\n"
     ]
    },
    {
     "name": "stderr",
     "output_type": "stream",
     "text": [
      "\r",
      " 35%|████████████████████████████▎                                                   | 109/308 [00:53<02:15,  1.47it/s]"
     ]
    },
    {
     "name": "stdout",
     "output_type": "stream",
     "text": [
      "***********Merge_df**********\n",
      "(198613, 546)\n",
      "Category of Column :  182\n"
     ]
    },
    {
     "name": "stderr",
     "output_type": "stream",
     "text": [
      "\r",
      " 36%|████████████████████████████▌                                                   | 110/308 [00:53<02:14,  1.48it/s]"
     ]
    },
    {
     "name": "stdout",
     "output_type": "stream",
     "text": [
      "***********Merge_df**********\n",
      "(198624, 551)\n",
      "Category of Column :  274\n"
     ]
    },
    {
     "name": "stderr",
     "output_type": "stream",
     "text": [
      "\r",
      " 36%|████████████████████████████▊                                                   | 111/308 [00:54<02:14,  1.46it/s]"
     ]
    },
    {
     "name": "stdout",
     "output_type": "stream",
     "text": [
      "***********Merge_df**********\n",
      "(198700, 556)\n",
      "Category of Column :  98\n"
     ]
    },
    {
     "name": "stderr",
     "output_type": "stream",
     "text": [
      "\r",
      " 36%|█████████████████████████████                                                   | 112/308 [00:55<02:14,  1.46it/s]"
     ]
    },
    {
     "name": "stdout",
     "output_type": "stream",
     "text": [
      "***********Merge_df**********\n",
      "(198713, 561)\n",
      "Category of Column :  290\n"
     ]
    },
    {
     "name": "stderr",
     "output_type": "stream",
     "text": [
      "\r",
      " 37%|█████████████████████████████▎                                                  | 113/308 [00:56<02:13,  1.46it/s]"
     ]
    },
    {
     "name": "stdout",
     "output_type": "stream",
     "text": [
      "***********Merge_df**********\n",
      "(198719, 566)\n",
      "Category of Column :  128\n"
     ]
    },
    {
     "name": "stderr",
     "output_type": "stream",
     "text": [
      "\r",
      " 37%|█████████████████████████████▌                                                  | 114/308 [00:56<02:12,  1.46it/s]"
     ]
    },
    {
     "name": "stdout",
     "output_type": "stream",
     "text": [
      "***********Merge_df**********\n",
      "(198733, 571)\n",
      "Category of Column :  173\n"
     ]
    },
    {
     "name": "stderr",
     "output_type": "stream",
     "text": [
      "\r",
      " 37%|█████████████████████████████▊                                                  | 115/308 [00:57<02:14,  1.44it/s]"
     ]
    },
    {
     "name": "stdout",
     "output_type": "stream",
     "text": [
      "***********Merge_df**********\n",
      "(198762, 576)\n",
      "Category of Column :  181\n"
     ]
    },
    {
     "name": "stderr",
     "output_type": "stream",
     "text": [
      "\r",
      " 38%|██████████████████████████████▏                                                 | 116/308 [00:58<02:13,  1.43it/s]"
     ]
    },
    {
     "name": "stdout",
     "output_type": "stream",
     "text": [
      "***********Merge_df**********\n",
      "(198778, 581)\n",
      "Category of Column :  60\n"
     ]
    },
    {
     "name": "stderr",
     "output_type": "stream",
     "text": [
      "\r",
      " 38%|██████████████████████████████▍                                                 | 117/308 [00:58<02:19,  1.37it/s]"
     ]
    },
    {
     "name": "stdout",
     "output_type": "stream",
     "text": [
      "***********Merge_df**********\n",
      "(198806, 586)\n",
      "Category of Column :  102\n"
     ]
    },
    {
     "name": "stderr",
     "output_type": "stream",
     "text": [
      "\r",
      " 38%|██████████████████████████████▋                                                 | 118/308 [00:59<02:20,  1.35it/s]"
     ]
    },
    {
     "name": "stdout",
     "output_type": "stream",
     "text": [
      "***********Merge_df**********\n",
      "(198882, 591)\n",
      "Category of Column :  156\n"
     ]
    },
    {
     "name": "stderr",
     "output_type": "stream",
     "text": [
      "\r",
      " 39%|██████████████████████████████▉                                                 | 119/308 [01:00<02:20,  1.34it/s]"
     ]
    },
    {
     "name": "stdout",
     "output_type": "stream",
     "text": [
      "***********Merge_df**********\n",
      "(198890, 596)\n",
      "Category of Column :  109\n"
     ]
    },
    {
     "name": "stderr",
     "output_type": "stream",
     "text": [
      "\r",
      " 39%|███████████████████████████████▏                                                | 120/308 [01:01<02:19,  1.35it/s]"
     ]
    },
    {
     "name": "stdout",
     "output_type": "stream",
     "text": [
      "***********Merge_df**********\n",
      "(198935, 601)\n",
      "Category of Column :  21\n"
     ]
    },
    {
     "name": "stderr",
     "output_type": "stream",
     "text": [
      "\r",
      " 39%|███████████████████████████████▍                                                | 121/308 [01:02<02:25,  1.28it/s]"
     ]
    },
    {
     "name": "stdout",
     "output_type": "stream",
     "text": [
      "***********Merge_df**********\n",
      "(198993, 606)\n",
      "Category of Column :  168\n"
     ]
    },
    {
     "name": "stderr",
     "output_type": "stream",
     "text": [
      "\r",
      " 40%|███████████████████████████████▋                                                | 122/308 [01:02<02:25,  1.28it/s]"
     ]
    },
    {
     "name": "stdout",
     "output_type": "stream",
     "text": [
      "***********Merge_df**********\n",
      "(199023, 611)\n",
      "Category of Column :  318\n"
     ]
    },
    {
     "name": "stderr",
     "output_type": "stream",
     "text": [
      "\r",
      " 40%|███████████████████████████████▉                                                | 123/308 [01:03<02:21,  1.31it/s]"
     ]
    },
    {
     "name": "stdout",
     "output_type": "stream",
     "text": [
      "***********Merge_df**********\n",
      "(199035, 616)\n",
      "Category of Column :  78\n"
     ]
    },
    {
     "name": "stderr",
     "output_type": "stream",
     "text": [
      "\r",
      " 40%|████████████████████████████████▏                                               | 124/308 [01:04<02:20,  1.31it/s]"
     ]
    },
    {
     "name": "stdout",
     "output_type": "stream",
     "text": [
      "***********Merge_df**********\n",
      "(199054, 621)\n",
      "Category of Column :  285\n"
     ]
    },
    {
     "name": "stderr",
     "output_type": "stream",
     "text": [
      "\r",
      " 41%|████████████████████████████████▍                                               | 125/308 [01:05<02:19,  1.31it/s]"
     ]
    },
    {
     "name": "stdout",
     "output_type": "stream",
     "text": [
      "***********Merge_df**********\n",
      "(199059, 626)\n",
      "Category of Column :  89\n"
     ]
    },
    {
     "name": "stderr",
     "output_type": "stream",
     "text": [
      "\r",
      " 41%|████████████████████████████████▋                                               | 126/308 [01:05<02:20,  1.30it/s]"
     ]
    },
    {
     "name": "stdout",
     "output_type": "stream",
     "text": [
      "***********Merge_df**********\n",
      "(199066, 631)\n",
      "Category of Column :  234\n"
     ]
    },
    {
     "name": "stderr",
     "output_type": "stream",
     "text": [
      "\r",
      " 41%|████████████████████████████████▉                                               | 127/308 [01:06<02:20,  1.29it/s]"
     ]
    },
    {
     "name": "stdout",
     "output_type": "stream",
     "text": [
      "***********Merge_df**********\n",
      "(199082, 636)\n",
      "Category of Column :  119\n"
     ]
    },
    {
     "name": "stderr",
     "output_type": "stream",
     "text": [
      "\r",
      " 42%|█████████████████████████████████▏                                              | 128/308 [01:07<02:19,  1.29it/s]"
     ]
    },
    {
     "name": "stdout",
     "output_type": "stream",
     "text": [
      "***********Merge_df**********\n",
      "(199104, 641)\n",
      "Category of Column :  253\n"
     ]
    },
    {
     "name": "stderr",
     "output_type": "stream",
     "text": [
      "\r",
      " 42%|█████████████████████████████████▌                                              | 129/308 [01:08<02:19,  1.28it/s]"
     ]
    },
    {
     "name": "stdout",
     "output_type": "stream",
     "text": [
      "***********Merge_df**********\n",
      "(199121, 646)\n",
      "Category of Column :  300\n"
     ]
    },
    {
     "name": "stderr",
     "output_type": "stream",
     "text": [
      "\r",
      " 42%|█████████████████████████████████▊                                              | 130/308 [01:09<02:30,  1.19it/s]"
     ]
    },
    {
     "name": "stdout",
     "output_type": "stream",
     "text": [
      "***********Merge_df**********\n",
      "(199158, 651)\n",
      "Category of Column :  33\n"
     ]
    },
    {
     "name": "stderr",
     "output_type": "stream",
     "text": [
      "\r",
      " 43%|██████████████████████████████████                                              | 131/308 [01:10<02:41,  1.10it/s]"
     ]
    },
    {
     "name": "stdout",
     "output_type": "stream",
     "text": [
      "***********Merge_df**********\n",
      "(199182, 656)\n",
      "Category of Column :  187\n"
     ]
    },
    {
     "name": "stderr",
     "output_type": "stream",
     "text": [
      "\r",
      " 43%|██████████████████████████████████▎                                             | 132/308 [01:11<02:47,  1.05it/s]"
     ]
    },
    {
     "name": "stdout",
     "output_type": "stream",
     "text": [
      "***********Merge_df**********\n",
      "(199201, 661)\n",
      "Category of Column :  133\n"
     ]
    },
    {
     "name": "stderr",
     "output_type": "stream",
     "text": [
      "\r",
      " 43%|██████████████████████████████████▌                                             | 133/308 [01:12<02:41,  1.09it/s]"
     ]
    },
    {
     "name": "stdout",
     "output_type": "stream",
     "text": [
      "***********Merge_df**********\n",
      "(199203, 666)\n",
      "Category of Column :  110\n"
     ]
    },
    {
     "name": "stderr",
     "output_type": "stream",
     "text": [
      "\r",
      " 44%|██████████████████████████████████▊                                             | 134/308 [01:13<02:33,  1.13it/s]"
     ]
    },
    {
     "name": "stdout",
     "output_type": "stream",
     "text": [
      "***********Merge_df**********\n",
      "(199266, 671)\n",
      "Category of Column :  79\n"
     ]
    },
    {
     "name": "stderr",
     "output_type": "stream",
     "text": [
      "\r",
      " 44%|███████████████████████████████████                                             | 135/308 [01:13<02:28,  1.17it/s]"
     ]
    },
    {
     "name": "stdout",
     "output_type": "stream",
     "text": [
      "***********Merge_df**********\n",
      "(199362, 676)\n",
      "Category of Column :  84\n"
     ]
    },
    {
     "name": "stderr",
     "output_type": "stream",
     "text": [
      "\r",
      " 44%|███████████████████████████████████▎                                            | 136/308 [01:14<02:28,  1.16it/s]"
     ]
    },
    {
     "name": "stdout",
     "output_type": "stream",
     "text": [
      "***********Merge_df**********\n",
      "(199373, 681)\n",
      "Category of Column :  232\n"
     ]
    },
    {
     "name": "stderr",
     "output_type": "stream",
     "text": [
      "\r",
      " 44%|███████████████████████████████████▌                                            | 137/308 [01:15<02:30,  1.14it/s]"
     ]
    },
    {
     "name": "stdout",
     "output_type": "stream",
     "text": [
      "***********Merge_df**********\n",
      "(199412, 686)\n",
      "Category of Column :  51\n"
     ]
    },
    {
     "name": "stderr",
     "output_type": "stream",
     "text": [
      "\r",
      " 45%|███████████████████████████████████▊                                            | 138/308 [01:16<02:47,  1.02it/s]"
     ]
    },
    {
     "name": "stdout",
     "output_type": "stream",
     "text": [
      "***********Merge_df**********\n",
      "(199493, 691)\n",
      "Category of Column :  73\n"
     ]
    },
    {
     "name": "stderr",
     "output_type": "stream",
     "text": [
      "\r",
      " 45%|████████████████████████████████████                                            | 139/308 [01:17<02:40,  1.05it/s]"
     ]
    },
    {
     "name": "stdout",
     "output_type": "stream",
     "text": [
      "***********Merge_df**********\n",
      "(199508, 696)\n",
      "Category of Column :  166\n"
     ]
    },
    {
     "name": "stderr",
     "output_type": "stream",
     "text": [
      "\r",
      " 45%|████████████████████████████████████▎                                           | 140/308 [01:18<02:34,  1.09it/s]"
     ]
    },
    {
     "name": "stdout",
     "output_type": "stream",
     "text": [
      "***********Merge_df**********\n",
      "(199517, 701)\n",
      "Category of Column :  200\n"
     ]
    },
    {
     "name": "stderr",
     "output_type": "stream",
     "text": [
      "\r",
      " 46%|████████████████████████████████████▌                                           | 141/308 [01:19<02:30,  1.11it/s]"
     ]
    },
    {
     "name": "stdout",
     "output_type": "stream",
     "text": [
      "***********Merge_df**********\n",
      "(199564, 706)\n",
      "Category of Column :  34\n"
     ]
    },
    {
     "name": "stderr",
     "output_type": "stream",
     "text": [
      "\r",
      " 46%|████████████████████████████████████▉                                           | 142/308 [01:20<02:26,  1.14it/s]"
     ]
    },
    {
     "name": "stdout",
     "output_type": "stream",
     "text": [
      "***********Merge_df**********\n",
      "(199653, 711)\n",
      "Category of Column :  195\n"
     ]
    },
    {
     "name": "stderr",
     "output_type": "stream",
     "text": [
      "\r",
      " 46%|█████████████████████████████████████▏                                          | 143/308 [01:21<02:27,  1.12it/s]"
     ]
    },
    {
     "name": "stdout",
     "output_type": "stream",
     "text": [
      "***********Merge_df**********\n",
      "(199655, 716)\n",
      "Category of Column :  3\n"
     ]
    },
    {
     "name": "stderr",
     "output_type": "stream",
     "text": [
      "\r",
      " 47%|█████████████████████████████████████▍                                          | 144/308 [01:22<02:30,  1.09it/s]"
     ]
    },
    {
     "name": "stdout",
     "output_type": "stream",
     "text": [
      "***********Merge_df**********\n",
      "(199661, 721)\n",
      "Category of Column :  8\n"
     ]
    },
    {
     "name": "stderr",
     "output_type": "stream",
     "text": [
      "\r",
      " 47%|█████████████████████████████████████▋                                          | 145/308 [01:23<02:36,  1.04it/s]"
     ]
    },
    {
     "name": "stdout",
     "output_type": "stream",
     "text": [
      "***********Merge_df**********\n",
      "(199764, 726)\n",
      "Category of Column :  123\n"
     ]
    },
    {
     "name": "stderr",
     "output_type": "stream",
     "text": [
      "\r",
      " 47%|█████████████████████████████████████▉                                          | 146/308 [01:24<02:29,  1.08it/s]"
     ]
    },
    {
     "name": "stdout",
     "output_type": "stream",
     "text": [
      "***********Merge_df**********\n",
      "(199768, 731)\n",
      "Category of Column :  267\n"
     ]
    },
    {
     "name": "stderr",
     "output_type": "stream",
     "text": [
      "\r",
      " 48%|██████████████████████████████████████▏                                         | 147/308 [01:24<02:24,  1.11it/s]"
     ]
    },
    {
     "name": "stdout",
     "output_type": "stream",
     "text": [
      "***********Merge_df**********\n",
      "(199785, 736)\n",
      "Category of Column :  94\n"
     ]
    },
    {
     "name": "stderr",
     "output_type": "stream",
     "text": [
      "\r",
      " 48%|██████████████████████████████████████▍                                         | 148/308 [01:25<02:23,  1.12it/s]"
     ]
    },
    {
     "name": "stdout",
     "output_type": "stream",
     "text": [
      "***********Merge_df**********\n",
      "(199809, 741)\n",
      "Category of Column :  270\n"
     ]
    },
    {
     "name": "stderr",
     "output_type": "stream",
     "text": [
      "\r",
      " 48%|██████████████████████████████████████▋                                         | 149/308 [01:26<02:23,  1.10it/s]"
     ]
    },
    {
     "name": "stdout",
     "output_type": "stream",
     "text": [
      "***********Merge_df**********\n",
      "(199821, 746)\n",
      "Category of Column :  312\n"
     ]
    },
    {
     "name": "stderr",
     "output_type": "stream",
     "text": [
      "\r",
      " 49%|██████████████████████████████████████▉                                         | 150/308 [01:27<02:22,  1.11it/s]"
     ]
    },
    {
     "name": "stdout",
     "output_type": "stream",
     "text": [
      "***********Merge_df**********\n",
      "(199825, 751)\n",
      "Category of Column :  343\n"
     ]
    },
    {
     "name": "stderr",
     "output_type": "stream",
     "text": [
      "\r",
      " 49%|███████████████████████████████████████▏                                        | 151/308 [01:28<02:24,  1.09it/s]"
     ]
    },
    {
     "name": "stdout",
     "output_type": "stream",
     "text": [
      "***********Merge_df**********\n",
      "(199836, 756)\n",
      "Category of Column :  210\n"
     ]
    },
    {
     "name": "stderr",
     "output_type": "stream",
     "text": [
      "\r",
      " 49%|███████████████████████████████████████▍                                        | 152/308 [01:29<02:20,  1.11it/s]"
     ]
    },
    {
     "name": "stdout",
     "output_type": "stream",
     "text": [
      "***********Merge_df**********\n",
      "(199865, 761)\n",
      "Category of Column :  46\n"
     ]
    },
    {
     "name": "stderr",
     "output_type": "stream",
     "text": [
      "\r",
      " 50%|███████████████████████████████████████▋                                        | 153/308 [01:30<02:23,  1.08it/s]"
     ]
    },
    {
     "name": "stdout",
     "output_type": "stream",
     "text": [
      "***********Merge_df**********\n",
      "(199879, 766)\n",
      "Category of Column :  214\n"
     ]
    },
    {
     "name": "stderr",
     "output_type": "stream",
     "text": [
      "\r",
      " 50%|████████████████████████████████████████                                        | 154/308 [01:31<02:22,  1.08it/s]"
     ]
    },
    {
     "name": "stdout",
     "output_type": "stream",
     "text": [
      "***********Merge_df**********\n",
      "(199892, 771)\n",
      "Category of Column :  258\n"
     ]
    },
    {
     "name": "stderr",
     "output_type": "stream",
     "text": [
      "\r",
      " 50%|████████████████████████████████████████▎                                       | 155/308 [01:32<02:18,  1.11it/s]"
     ]
    },
    {
     "name": "stdout",
     "output_type": "stream",
     "text": [
      "***********Merge_df**********\n",
      "(199904, 776)\n",
      "Category of Column :  65\n"
     ]
    },
    {
     "name": "stderr",
     "output_type": "stream",
     "text": [
      "\r",
      " 51%|████████████████████████████████████████▌                                       | 156/308 [01:33<02:15,  1.12it/s]"
     ]
    },
    {
     "name": "stdout",
     "output_type": "stream",
     "text": [
      "***********Merge_df**********\n",
      "(199914, 781)\n",
      "Category of Column :  136\n"
     ]
    },
    {
     "name": "stderr",
     "output_type": "stream",
     "text": [
      "\r",
      " 51%|████████████████████████████████████████▊                                       | 157/308 [01:33<02:17,  1.10it/s]"
     ]
    },
    {
     "name": "stdout",
     "output_type": "stream",
     "text": [
      "***********Merge_df**********\n",
      "(199926, 786)\n",
      "Category of Column :  75\n"
     ]
    },
    {
     "name": "stderr",
     "output_type": "stream",
     "text": [
      "\r",
      " 51%|█████████████████████████████████████████                                       | 158/308 [01:34<02:17,  1.09it/s]"
     ]
    },
    {
     "name": "stdout",
     "output_type": "stream",
     "text": [
      "***********Merge_df**********\n",
      "(199932, 791)\n",
      "Category of Column :  224\n"
     ]
    },
    {
     "name": "stderr",
     "output_type": "stream",
     "text": [
      "\r",
      " 52%|█████████████████████████████████████████▎                                      | 159/308 [01:35<02:19,  1.07it/s]"
     ]
    },
    {
     "name": "stdout",
     "output_type": "stream",
     "text": [
      "***********Merge_df**********\n",
      "(199933, 796)\n",
      "Category of Column :  104\n"
     ]
    },
    {
     "name": "stderr",
     "output_type": "stream",
     "text": [
      "\r",
      " 52%|█████████████████████████████████████████▌                                      | 160/308 [01:36<02:18,  1.07it/s]"
     ]
    },
    {
     "name": "stdout",
     "output_type": "stream",
     "text": [
      "***********Merge_df**********\n",
      "(199943, 801)\n",
      "Category of Column :  103\n"
     ]
    },
    {
     "name": "stderr",
     "output_type": "stream",
     "text": [
      "\r",
      " 52%|█████████████████████████████████████████▊                                      | 161/308 [01:37<02:13,  1.10it/s]"
     ]
    },
    {
     "name": "stdout",
     "output_type": "stream",
     "text": [
      "***********Merge_df**********\n",
      "(199943, 806)\n",
      "Category of Column :  100\n"
     ]
    },
    {
     "name": "stderr",
     "output_type": "stream",
     "text": [
      "\r",
      " 53%|██████████████████████████████████████████                                      | 162/308 [01:38<02:15,  1.08it/s]"
     ]
    },
    {
     "name": "stdout",
     "output_type": "stream",
     "text": [
      "***********Merge_df**********\n",
      "(199947, 811)\n",
      "Category of Column :  328\n"
     ]
    },
    {
     "name": "stderr",
     "output_type": "stream",
     "text": [
      "\r",
      " 53%|██████████████████████████████████████████▎                                     | 163/308 [01:39<02:14,  1.08it/s]"
     ]
    },
    {
     "name": "stdout",
     "output_type": "stream",
     "text": [
      "***********Merge_df**********\n",
      "(199962, 816)\n",
      "Category of Column :  41\n"
     ]
    },
    {
     "name": "stderr",
     "output_type": "stream",
     "text": [
      "\r",
      " 53%|██████████████████████████████████████████▌                                     | 164/308 [01:40<02:12,  1.09it/s]"
     ]
    },
    {
     "name": "stdout",
     "output_type": "stream",
     "text": [
      "***********Merge_df**********\n",
      "(199982, 821)\n",
      "Category of Column :  74\n"
     ]
    },
    {
     "name": "stderr",
     "output_type": "stream",
     "text": [
      "\r",
      " 54%|██████████████████████████████████████████▊                                     | 165/308 [01:41<02:10,  1.09it/s]"
     ]
    },
    {
     "name": "stdout",
     "output_type": "stream",
     "text": [
      "***********Merge_df**********\n",
      "(199999, 826)\n",
      "Category of Column :  2\n"
     ]
    },
    {
     "name": "stderr",
     "output_type": "stream",
     "text": [
      "\r",
      " 54%|███████████████████████████████████████████                                     | 166/308 [01:42<02:09,  1.09it/s]"
     ]
    },
    {
     "name": "stdout",
     "output_type": "stream",
     "text": [
      "***********Merge_df**********\n",
      "(200005, 831)\n",
      "Category of Column :  271\n"
     ]
    },
    {
     "name": "stderr",
     "output_type": "stream",
     "text": [
      "\r",
      " 54%|███████████████████████████████████████████▍                                    | 167/308 [01:43<02:11,  1.07it/s]"
     ]
    },
    {
     "name": "stdout",
     "output_type": "stream",
     "text": [
      "***********Merge_df**********\n",
      "(200038, 836)\n",
      "Category of Column :  179\n"
     ]
    },
    {
     "name": "stderr",
     "output_type": "stream",
     "text": [
      "\r",
      " 55%|███████████████████████████████████████████▋                                    | 168/308 [01:44<02:12,  1.05it/s]"
     ]
    },
    {
     "name": "stdout",
     "output_type": "stream",
     "text": [
      "***********Merge_df**********\n",
      "(200239, 841)\n",
      "Category of Column :  9\n"
     ]
    },
    {
     "name": "stderr",
     "output_type": "stream",
     "text": [
      "\r",
      " 55%|███████████████████████████████████████████▉                                    | 169/308 [01:45<02:09,  1.07it/s]"
     ]
    },
    {
     "name": "stdout",
     "output_type": "stream",
     "text": [
      "***********Merge_df**********\n",
      "(200239, 846)\n",
      "Category of Column :  308\n"
     ]
    },
    {
     "name": "stderr",
     "output_type": "stream",
     "text": [
      "\r",
      " 55%|████████████████████████████████████████████▏                                   | 170/308 [01:46<02:09,  1.07it/s]"
     ]
    },
    {
     "name": "stdout",
     "output_type": "stream",
     "text": [
      "***********Merge_df**********\n",
      "(200269, 851)\n",
      "Category of Column :  150\n"
     ]
    },
    {
     "name": "stderr",
     "output_type": "stream",
     "text": [
      "\r",
      " 56%|████████████████████████████████████████████▍                                   | 171/308 [01:47<02:08,  1.07it/s]"
     ]
    },
    {
     "name": "stdout",
     "output_type": "stream",
     "text": [
      "***********Merge_df**********\n",
      "(200272, 856)\n",
      "Category of Column :  180\n"
     ]
    },
    {
     "name": "stderr",
     "output_type": "stream",
     "text": [
      "\r",
      " 56%|████████████████████████████████████████████▋                                   | 172/308 [01:47<02:08,  1.06it/s]"
     ]
    },
    {
     "name": "stdout",
     "output_type": "stream",
     "text": [
      "***********Merge_df**********\n",
      "(200279, 861)\n",
      "Category of Column :  307\n"
     ]
    },
    {
     "name": "stderr",
     "output_type": "stream",
     "text": [
      "\r",
      " 56%|████████████████████████████████████████████▉                                   | 173/308 [01:48<02:08,  1.05it/s]"
     ]
    },
    {
     "name": "stdout",
     "output_type": "stream",
     "text": [
      "***********Merge_df**********\n",
      "(200301, 866)\n",
      "Category of Column :  81\n"
     ]
    },
    {
     "name": "stderr",
     "output_type": "stream",
     "text": [
      "\r",
      " 56%|█████████████████████████████████████████████▏                                  | 174/308 [01:49<02:09,  1.04it/s]"
     ]
    },
    {
     "name": "stdout",
     "output_type": "stream",
     "text": [
      "***********Merge_df**********\n",
      "(200306, 871)\n",
      "Category of Column :  175\n"
     ]
    },
    {
     "name": "stderr",
     "output_type": "stream",
     "text": [
      "\r",
      " 57%|█████████████████████████████████████████████▍                                  | 175/308 [01:50<02:10,  1.02it/s]"
     ]
    },
    {
     "name": "stdout",
     "output_type": "stream",
     "text": [
      "***********Merge_df**********\n",
      "(200314, 876)\n",
      "Category of Column :  203\n"
     ]
    },
    {
     "name": "stderr",
     "output_type": "stream",
     "text": [
      "\r",
      " 57%|█████████████████████████████████████████████▋                                  | 176/308 [01:51<02:08,  1.02it/s]"
     ]
    },
    {
     "name": "stdout",
     "output_type": "stream",
     "text": [
      "***********Merge_df**********\n",
      "(200316, 881)\n",
      "Category of Column :  183\n"
     ]
    },
    {
     "name": "stderr",
     "output_type": "stream",
     "text": [
      "\r",
      " 57%|█████████████████████████████████████████████▉                                  | 177/308 [01:52<02:07,  1.02it/s]"
     ]
    },
    {
     "name": "stdout",
     "output_type": "stream",
     "text": [
      "***********Merge_df**********\n",
      "(200320, 886)\n",
      "Category of Column :  250\n"
     ]
    },
    {
     "name": "stderr",
     "output_type": "stream",
     "text": [
      "\r",
      " 58%|██████████████████████████████████████████████▏                                 | 178/308 [01:53<02:07,  1.02it/s]"
     ]
    },
    {
     "name": "stdout",
     "output_type": "stream",
     "text": [
      "***********Merge_df**********\n",
      "(200328, 891)\n",
      "Category of Column :  228\n"
     ]
    },
    {
     "name": "stderr",
     "output_type": "stream",
     "text": [
      "\r",
      " 58%|██████████████████████████████████████████████▍                                 | 179/308 [01:54<02:05,  1.02it/s]"
     ]
    },
    {
     "name": "stdout",
     "output_type": "stream",
     "text": [
      "***********Merge_df**********\n",
      "(200334, 896)\n",
      "Category of Column :  303\n"
     ]
    },
    {
     "name": "stderr",
     "output_type": "stream",
     "text": [
      "\r",
      " 58%|██████████████████████████████████████████████▊                                 | 180/308 [01:55<02:04,  1.02it/s]"
     ]
    },
    {
     "name": "stdout",
     "output_type": "stream",
     "text": [
      "***********Merge_df**********\n",
      "(200347, 901)\n",
      "Category of Column :  174\n"
     ]
    },
    {
     "name": "stderr",
     "output_type": "stream",
     "text": [
      "\r",
      " 59%|███████████████████████████████████████████████                                 | 181/308 [01:56<02:05,  1.01it/s]"
     ]
    },
    {
     "name": "stdout",
     "output_type": "stream",
     "text": [
      "***********Merge_df**********\n",
      "(200355, 906)\n",
      "Category of Column :  260\n"
     ]
    },
    {
     "name": "stderr",
     "output_type": "stream",
     "text": [
      "\r",
      " 59%|███████████████████████████████████████████████▎                                | 182/308 [01:57<02:03,  1.02it/s]"
     ]
    },
    {
     "name": "stdout",
     "output_type": "stream",
     "text": [
      "***********Merge_df**********\n",
      "(200355, 911)\n",
      "Category of Column :  313\n"
     ]
    },
    {
     "name": "stderr",
     "output_type": "stream",
     "text": [
      "\r",
      " 59%|███████████████████████████████████████████████▌                                | 183/308 [01:58<02:03,  1.01it/s]"
     ]
    },
    {
     "name": "stdout",
     "output_type": "stream",
     "text": [
      "***********Merge_df**********\n",
      "(200359, 916)\n",
      "Category of Column :  157\n"
     ]
    },
    {
     "name": "stderr",
     "output_type": "stream",
     "text": [
      "\r",
      " 60%|███████████████████████████████████████████████▊                                | 184/308 [01:59<02:02,  1.01it/s]"
     ]
    },
    {
     "name": "stdout",
     "output_type": "stream",
     "text": [
      "***********Merge_df**********\n",
      "(200370, 921)\n",
      "Category of Column :  58\n"
     ]
    },
    {
     "name": "stderr",
     "output_type": "stream",
     "text": [
      "\r",
      " 60%|████████████████████████████████████████████████                                | 185/308 [02:00<02:02,  1.00it/s]"
     ]
    },
    {
     "name": "stdout",
     "output_type": "stream",
     "text": [
      "***********Merge_df**********\n",
      "(200376, 926)\n",
      "Category of Column :  266\n"
     ]
    },
    {
     "name": "stderr",
     "output_type": "stream",
     "text": [
      "\r",
      " 60%|████████████████████████████████████████████████▎                               | 186/308 [02:01<02:04,  1.02s/it]"
     ]
    },
    {
     "name": "stdout",
     "output_type": "stream",
     "text": [
      "***********Merge_df**********\n",
      "(200404, 931)\n",
      "Category of Column :  124\n"
     ]
    },
    {
     "name": "stderr",
     "output_type": "stream",
     "text": [
      "\r",
      " 61%|████████████████████████████████████████████████▌                               | 187/308 [02:02<02:02,  1.02s/it]"
     ]
    },
    {
     "name": "stdout",
     "output_type": "stream",
     "text": [
      "***********Merge_df**********\n",
      "(200440, 936)\n",
      "Category of Column :  309\n"
     ]
    },
    {
     "name": "stderr",
     "output_type": "stream",
     "text": [
      "\r",
      " 61%|████████████████████████████████████████████████▊                               | 188/308 [02:03<02:01,  1.01s/it]"
     ]
    },
    {
     "name": "stdout",
     "output_type": "stream",
     "text": [
      "***********Merge_df**********\n",
      "(200450, 941)\n",
      "Category of Column :  186\n"
     ]
    },
    {
     "name": "stderr",
     "output_type": "stream",
     "text": [
      "\r",
      " 61%|█████████████████████████████████████████████████                               | 189/308 [02:04<02:01,  1.02s/it]"
     ]
    },
    {
     "name": "stdout",
     "output_type": "stream",
     "text": [
      "***********Merge_df**********\n",
      "(200457, 946)\n",
      "Category of Column :  298\n"
     ]
    },
    {
     "name": "stderr",
     "output_type": "stream",
     "text": [
      "\r",
      " 62%|█████████████████████████████████████████████████▎                              | 190/308 [02:06<02:02,  1.04s/it]"
     ]
    },
    {
     "name": "stdout",
     "output_type": "stream",
     "text": [
      "***********Merge_df**********\n",
      "(200459, 951)\n",
      "Category of Column :  289\n"
     ]
    },
    {
     "name": "stderr",
     "output_type": "stream",
     "text": [
      "\r",
      " 62%|█████████████████████████████████████████████████▌                              | 191/308 [02:07<02:04,  1.06s/it]"
     ]
    },
    {
     "name": "stdout",
     "output_type": "stream",
     "text": [
      "***********Merge_df**********\n",
      "(200535, 956)\n",
      "Category of Column :  287\n"
     ]
    },
    {
     "name": "stderr",
     "output_type": "stream",
     "text": [
      "\r",
      " 62%|█████████████████████████████████████████████████▊                              | 192/308 [02:08<02:01,  1.05s/it]"
     ]
    },
    {
     "name": "stdout",
     "output_type": "stream",
     "text": [
      "***********Merge_df**********\n",
      "(200535, 961)\n",
      "Category of Column :  325\n"
     ]
    },
    {
     "name": "stderr",
     "output_type": "stream",
     "text": [
      "\r",
      " 63%|██████████████████████████████████████████████████▏                             | 193/308 [02:09<02:01,  1.05s/it]"
     ]
    },
    {
     "name": "stdout",
     "output_type": "stream",
     "text": [
      "***********Merge_df**********\n",
      "(200541, 966)\n",
      "Category of Column :  10\n"
     ]
    },
    {
     "name": "stderr",
     "output_type": "stream",
     "text": [
      "\r",
      " 63%|██████████████████████████████████████████████████▍                             | 194/308 [02:10<01:58,  1.04s/it]"
     ]
    },
    {
     "name": "stdout",
     "output_type": "stream",
     "text": [
      "***********Merge_df**********\n",
      "(200568, 971)\n",
      "Category of Column :  115\n"
     ]
    },
    {
     "name": "stderr",
     "output_type": "stream",
     "text": [
      "\r",
      " 63%|██████████████████████████████████████████████████▋                             | 195/308 [02:11<01:56,  1.03s/it]"
     ]
    },
    {
     "name": "stdout",
     "output_type": "stream",
     "text": [
      "***********Merge_df**********\n",
      "(200568, 976)\n",
      "Category of Column :  190\n"
     ]
    },
    {
     "name": "stderr",
     "output_type": "stream",
     "text": [
      "\r",
      " 64%|██████████████████████████████████████████████████▉                             | 196/308 [02:12<01:55,  1.03s/it]"
     ]
    },
    {
     "name": "stdout",
     "output_type": "stream",
     "text": [
      "***********Merge_df**********\n",
      "(200591, 981)\n",
      "Category of Column :  111\n"
     ]
    },
    {
     "name": "stderr",
     "output_type": "stream",
     "text": [
      "\r",
      " 64%|███████████████████████████████████████████████████▏                            | 197/308 [02:13<01:52,  1.01s/it]"
     ]
    },
    {
     "name": "stdout",
     "output_type": "stream",
     "text": [
      "***********Merge_df**********\n",
      "(200591, 986)\n",
      "Category of Column :  62\n"
     ]
    },
    {
     "name": "stderr",
     "output_type": "stream",
     "text": [
      "\r",
      " 64%|███████████████████████████████████████████████████▍                            | 198/308 [02:14<01:53,  1.03s/it]"
     ]
    },
    {
     "name": "stdout",
     "output_type": "stream",
     "text": [
      "***********Merge_df**********\n",
      "(200593, 991)\n",
      "Category of Column :  139\n"
     ]
    },
    {
     "name": "stderr",
     "output_type": "stream",
     "text": [
      "\r",
      " 65%|███████████████████████████████████████████████████▋                            | 199/308 [02:15<01:52,  1.03s/it]"
     ]
    },
    {
     "name": "stdout",
     "output_type": "stream",
     "text": [
      "***********Merge_df**********\n",
      "(200593, 996)\n",
      "Category of Column :  76\n"
     ]
    },
    {
     "name": "stderr",
     "output_type": "stream",
     "text": [
      "\r",
      " 65%|███████████████████████████████████████████████████▉                            | 200/308 [02:16<01:54,  1.06s/it]"
     ]
    },
    {
     "name": "stdout",
     "output_type": "stream",
     "text": [
      "***********Merge_df**********\n",
      "(200704, 1001)\n",
      "Category of Column :  167\n"
     ]
    },
    {
     "name": "stderr",
     "output_type": "stream",
     "text": [
      "\r",
      " 65%|████████████████████████████████████████████████████▏                           | 201/308 [02:17<01:54,  1.07s/it]"
     ]
    },
    {
     "name": "stdout",
     "output_type": "stream",
     "text": [
      "***********Merge_df**********\n",
      "(200718, 1006)\n",
      "Category of Column :  268\n"
     ]
    },
    {
     "name": "stderr",
     "output_type": "stream",
     "text": [
      "\r",
      " 66%|████████████████████████████████████████████████████▍                           | 202/308 [02:18<01:53,  1.07s/it]"
     ]
    },
    {
     "name": "stdout",
     "output_type": "stream",
     "text": [
      "***********Merge_df**********\n",
      "(200729, 1011)\n",
      "Category of Column :  281\n"
     ]
    },
    {
     "name": "stderr",
     "output_type": "stream",
     "text": [
      "\r",
      " 66%|████████████████████████████████████████████████████▋                           | 203/308 [02:19<01:52,  1.07s/it]"
     ]
    },
    {
     "name": "stdout",
     "output_type": "stream",
     "text": [
      "***********Merge_df**********\n",
      "(200735, 1016)\n",
      "Category of Column :  151\n"
     ]
    },
    {
     "name": "stderr",
     "output_type": "stream",
     "text": [
      "\r",
      " 66%|████████████████████████████████████████████████████▉                           | 204/308 [02:20<01:51,  1.07s/it]"
     ]
    },
    {
     "name": "stdout",
     "output_type": "stream",
     "text": [
      "***********Merge_df**********\n",
      "(200745, 1021)\n",
      "Category of Column :  246\n"
     ]
    },
    {
     "name": "stderr",
     "output_type": "stream",
     "text": [
      "\r",
      " 67%|█████████████████████████████████████████████████████▏                          | 205/308 [02:21<01:51,  1.08s/it]"
     ]
    },
    {
     "name": "stdout",
     "output_type": "stream",
     "text": [
      "***********Merge_df**********\n",
      "(200923, 1026)\n",
      "Category of Column :  292\n"
     ]
    },
    {
     "name": "stderr",
     "output_type": "stream",
     "text": [
      "\r",
      " 67%|█████████████████████████████████████████████████████▌                          | 206/308 [02:22<01:50,  1.08s/it]"
     ]
    },
    {
     "name": "stdout",
     "output_type": "stream",
     "text": [
      "***********Merge_df**********\n",
      "(200969, 1031)\n",
      "Category of Column :  171\n"
     ]
    },
    {
     "name": "stderr",
     "output_type": "stream",
     "text": [
      "\r",
      " 67%|█████████████████████████████████████████████████████▊                          | 207/308 [02:24<01:49,  1.08s/it]"
     ]
    },
    {
     "name": "stdout",
     "output_type": "stream",
     "text": [
      "***********Merge_df**********\n",
      "(201004, 1036)\n",
      "Category of Column :  339\n"
     ]
    },
    {
     "name": "stderr",
     "output_type": "stream",
     "text": [
      "\r",
      " 68%|██████████████████████████████████████████████████████                          | 208/308 [02:25<01:48,  1.09s/it]"
     ]
    },
    {
     "name": "stdout",
     "output_type": "stream",
     "text": [
      "***********Merge_df**********\n",
      "(201008, 1041)\n",
      "Category of Column :  323\n"
     ]
    },
    {
     "name": "stderr",
     "output_type": "stream",
     "text": [
      "\r",
      " 68%|██████████████████████████████████████████████████████▎                         | 209/308 [02:26<01:47,  1.09s/it]"
     ]
    },
    {
     "name": "stdout",
     "output_type": "stream",
     "text": [
      "***********Merge_df**********\n",
      "(201033, 1046)\n",
      "Category of Column :  220\n"
     ]
    },
    {
     "name": "stderr",
     "output_type": "stream",
     "text": [
      "\r",
      " 68%|██████████████████████████████████████████████████████▌                         | 210/308 [02:27<01:46,  1.09s/it]"
     ]
    },
    {
     "name": "stdout",
     "output_type": "stream",
     "text": [
      "***********Merge_df**********\n",
      "(201037, 1051)\n",
      "Category of Column :  24\n"
     ]
    },
    {
     "name": "stderr",
     "output_type": "stream",
     "text": [
      "\r",
      " 69%|██████████████████████████████████████████████████████▊                         | 211/308 [02:28<01:47,  1.11s/it]"
     ]
    },
    {
     "name": "stdout",
     "output_type": "stream",
     "text": [
      "***********Merge_df**********\n",
      "(201067, 1056)\n",
      "Category of Column :  201\n"
     ]
    },
    {
     "name": "stderr",
     "output_type": "stream",
     "text": [
      "\r",
      " 69%|███████████████████████████████████████████████████████                         | 212/308 [02:29<01:46,  1.11s/it]"
     ]
    },
    {
     "name": "stdout",
     "output_type": "stream",
     "text": [
      "***********Merge_df**********\n",
      "(201071, 1061)\n",
      "Category of Column :  198\n"
     ]
    },
    {
     "name": "stderr",
     "output_type": "stream",
     "text": [
      "\r",
      " 69%|███████████████████████████████████████████████████████▎                        | 213/308 [02:30<01:44,  1.10s/it]"
     ]
    },
    {
     "name": "stdout",
     "output_type": "stream",
     "text": [
      "***********Merge_df**********\n",
      "(201086, 1066)\n",
      "Category of Column :  218\n"
     ]
    },
    {
     "name": "stderr",
     "output_type": "stream",
     "text": [
      "\r",
      " 69%|███████████████████████████████████████████████████████▌                        | 214/308 [02:31<01:44,  1.11s/it]"
     ]
    },
    {
     "name": "stdout",
     "output_type": "stream",
     "text": [
      "***********Merge_df**********\n",
      "(201116, 1071)\n",
      "Category of Column :  1\n"
     ]
    },
    {
     "name": "stderr",
     "output_type": "stream",
     "text": [
      "\r",
      " 70%|███████████████████████████████████████████████████████▊                        | 215/308 [02:33<01:45,  1.14s/it]"
     ]
    },
    {
     "name": "stdout",
     "output_type": "stream",
     "text": [
      "***********Merge_df**********\n",
      "(201144, 1076)\n",
      "Category of Column :  91\n"
     ]
    },
    {
     "name": "stderr",
     "output_type": "stream",
     "text": [
      "\r",
      " 70%|████████████████████████████████████████████████████████                        | 216/308 [02:34<01:44,  1.13s/it]"
     ]
    },
    {
     "name": "stdout",
     "output_type": "stream",
     "text": [
      "***********Merge_df**********\n",
      "(201158, 1081)\n",
      "Category of Column :  61\n"
     ]
    },
    {
     "name": "stderr",
     "output_type": "stream",
     "text": [
      "\r",
      " 70%|████████████████████████████████████████████████████████▎                       | 217/308 [02:35<01:42,  1.12s/it]"
     ]
    },
    {
     "name": "stdout",
     "output_type": "stream",
     "text": [
      "***********Merge_df**********\n",
      "(201170, 1086)\n",
      "Category of Column :  28\n"
     ]
    },
    {
     "name": "stderr",
     "output_type": "stream",
     "text": [
      "\r",
      " 71%|████████████████████████████████████████████████████████▌                       | 218/308 [02:36<01:41,  1.12s/it]"
     ]
    },
    {
     "name": "stdout",
     "output_type": "stream",
     "text": [
      "***********Merge_df**********\n",
      "(201173, 1091)\n",
      "Category of Column :  191\n"
     ]
    },
    {
     "name": "stderr",
     "output_type": "stream",
     "text": [
      "\r",
      " 71%|████████████████████████████████████████████████████████▉                       | 219/308 [02:37<01:40,  1.13s/it]"
     ]
    },
    {
     "name": "stdout",
     "output_type": "stream",
     "text": [
      "***********Merge_df**********\n",
      "(201182, 1096)\n",
      "Category of Column :  172\n"
     ]
    },
    {
     "name": "stderr",
     "output_type": "stream",
     "text": [
      "\r",
      " 71%|█████████████████████████████████████████████████████████▏                      | 220/308 [02:38<01:39,  1.13s/it]"
     ]
    },
    {
     "name": "stdout",
     "output_type": "stream",
     "text": [
      "***********Merge_df**********\n",
      "(201195, 1101)\n",
      "Category of Column :  83\n"
     ]
    },
    {
     "name": "stderr",
     "output_type": "stream",
     "text": [
      "\r",
      " 72%|█████████████████████████████████████████████████████████▍                      | 221/308 [02:39<01:39,  1.14s/it]"
     ]
    },
    {
     "name": "stdout",
     "output_type": "stream",
     "text": [
      "***********Merge_df**********\n",
      "(201198, 1106)\n",
      "Category of Column :  184\n"
     ]
    },
    {
     "name": "stderr",
     "output_type": "stream",
     "text": [
      "\r",
      " 72%|█████████████████████████████████████████████████████████▋                      | 222/308 [02:40<01:38,  1.14s/it]"
     ]
    },
    {
     "name": "stdout",
     "output_type": "stream",
     "text": [
      "***********Merge_df**********\n",
      "(201200, 1111)\n",
      "Category of Column :  77\n"
     ]
    },
    {
     "name": "stderr",
     "output_type": "stream",
     "text": [
      "\r",
      " 72%|█████████████████████████████████████████████████████████▉                      | 223/308 [02:42<01:37,  1.14s/it]"
     ]
    },
    {
     "name": "stdout",
     "output_type": "stream",
     "text": [
      "***********Merge_df**********\n",
      "(201203, 1116)\n",
      "Category of Column :  153\n"
     ]
    },
    {
     "name": "stderr",
     "output_type": "stream",
     "text": [
      "\r",
      " 73%|██████████████████████████████████████████████████████████▏                     | 224/308 [02:43<01:35,  1.14s/it]"
     ]
    },
    {
     "name": "stdout",
     "output_type": "stream",
     "text": [
      "***********Merge_df**********\n",
      "(201216, 1121)\n",
      "Category of Column :  252\n"
     ]
    },
    {
     "name": "stderr",
     "output_type": "stream",
     "text": [
      "\r",
      " 73%|██████████████████████████████████████████████████████████▍                     | 225/308 [02:44<01:37,  1.18s/it]"
     ]
    },
    {
     "name": "stdout",
     "output_type": "stream",
     "text": [
      "***********Merge_df**********\n",
      "(201218, 1126)\n",
      "Category of Column :  236\n"
     ]
    },
    {
     "name": "stderr",
     "output_type": "stream",
     "text": [
      "\r",
      " 73%|██████████████████████████████████████████████████████████▋                     | 226/308 [02:45<01:35,  1.17s/it]"
     ]
    },
    {
     "name": "stdout",
     "output_type": "stream",
     "text": [
      "***********Merge_df**********\n",
      "(201222, 1131)\n",
      "Category of Column :  189\n"
     ]
    },
    {
     "name": "stderr",
     "output_type": "stream",
     "text": [
      "\r",
      " 74%|██████████████████████████████████████████████████████████▉                     | 227/308 [02:46<01:34,  1.17s/it]"
     ]
    },
    {
     "name": "stdout",
     "output_type": "stream",
     "text": [
      "***********Merge_df**********\n",
      "(201259, 1136)\n",
      "Category of Column :  197\n"
     ]
    },
    {
     "name": "stderr",
     "output_type": "stream",
     "text": [
      "\r",
      " 74%|███████████████████████████████████████████████████████████▏                    | 228/308 [02:48<01:33,  1.17s/it]"
     ]
    },
    {
     "name": "stdout",
     "output_type": "stream",
     "text": [
      "***********Merge_df**********\n",
      "(201266, 1141)\n",
      "Category of Column :  97\n"
     ]
    },
    {
     "name": "stderr",
     "output_type": "stream",
     "text": [
      "\r",
      " 74%|███████████████████████████████████████████████████████████▍                    | 229/308 [02:49<01:32,  1.18s/it]"
     ]
    },
    {
     "name": "stdout",
     "output_type": "stream",
     "text": [
      "***********Merge_df**********\n",
      "(201276, 1146)\n",
      "Category of Column :  32\n"
     ]
    },
    {
     "name": "stderr",
     "output_type": "stream",
     "text": [
      "\r",
      " 75%|███████████████████████████████████████████████████████████▋                    | 230/308 [02:50<01:30,  1.16s/it]"
     ]
    },
    {
     "name": "stdout",
     "output_type": "stream",
     "text": [
      "***********Merge_df**********\n",
      "(201276, 1151)\n",
      "Category of Column :  242\n"
     ]
    },
    {
     "name": "stderr",
     "output_type": "stream",
     "text": [
      "\r",
      " 75%|████████████████████████████████████████████████████████████                    | 231/308 [02:51<01:30,  1.17s/it]"
     ]
    },
    {
     "name": "stdout",
     "output_type": "stream",
     "text": [
      "***********Merge_df**********\n",
      "(201287, 1156)\n",
      "Category of Column :  262\n"
     ]
    },
    {
     "name": "stderr",
     "output_type": "stream",
     "text": [
      "\r",
      " 75%|████████████████████████████████████████████████████████████▎                   | 232/308 [02:52<01:29,  1.18s/it]"
     ]
    },
    {
     "name": "stdout",
     "output_type": "stream",
     "text": [
      "***********Merge_df**********\n",
      "(201290, 1161)\n",
      "Category of Column :  29\n"
     ]
    },
    {
     "name": "stderr",
     "output_type": "stream",
     "text": [
      "\r",
      " 76%|████████████████████████████████████████████████████████████▌                   | 233/308 [02:53<01:28,  1.18s/it]"
     ]
    },
    {
     "name": "stdout",
     "output_type": "stream",
     "text": [
      "***********Merge_df**********\n",
      "(201315, 1166)\n",
      "Category of Column :  64\n"
     ]
    },
    {
     "name": "stderr",
     "output_type": "stream",
     "text": [
      "\r",
      " 76%|████████████████████████████████████████████████████████████▊                   | 234/308 [02:55<01:29,  1.20s/it]"
     ]
    },
    {
     "name": "stdout",
     "output_type": "stream",
     "text": [
      "***********Merge_df**********\n",
      "(201340, 1171)\n",
      "Category of Column :  125\n"
     ]
    },
    {
     "name": "stderr",
     "output_type": "stream",
     "text": [
      "\r",
      " 76%|█████████████████████████████████████████████████████████████                   | 235/308 [02:56<01:28,  1.21s/it]"
     ]
    },
    {
     "name": "stdout",
     "output_type": "stream",
     "text": [
      "***********Merge_df**********\n",
      "(201351, 1176)\n",
      "Category of Column :  269\n"
     ]
    },
    {
     "name": "stderr",
     "output_type": "stream",
     "text": [
      "\r",
      " 77%|█████████████████████████████████████████████████████████████▎                  | 236/308 [02:57<01:26,  1.21s/it]"
     ]
    },
    {
     "name": "stdout",
     "output_type": "stream",
     "text": [
      "***********Merge_df**********\n",
      "(201357, 1181)\n",
      "Category of Column :  39\n"
     ]
    },
    {
     "name": "stderr",
     "output_type": "stream",
     "text": [
      "\r",
      " 77%|█████████████████████████████████████████████████████████████▌                  | 237/308 [02:58<01:26,  1.22s/it]"
     ]
    },
    {
     "name": "stdout",
     "output_type": "stream",
     "text": [
      "***********Merge_df**********\n",
      "(201358, 1186)\n",
      "Category of Column :  129\n"
     ]
    },
    {
     "name": "stderr",
     "output_type": "stream",
     "text": [
      "\r",
      " 77%|█████████████████████████████████████████████████████████████▊                  | 238/308 [03:00<01:24,  1.21s/it]"
     ]
    },
    {
     "name": "stdout",
     "output_type": "stream",
     "text": [
      "***********Merge_df**********\n",
      "(201373, 1191)\n",
      "Category of Column :  238\n"
     ]
    },
    {
     "name": "stderr",
     "output_type": "stream",
     "text": [
      "\r",
      " 78%|██████████████████████████████████████████████████████████████                  | 239/308 [03:01<01:23,  1.21s/it]"
     ]
    },
    {
     "name": "stdout",
     "output_type": "stream",
     "text": [
      "***********Merge_df**********\n",
      "(201407, 1196)\n",
      "Category of Column :  205\n"
     ]
    },
    {
     "name": "stderr",
     "output_type": "stream",
     "text": [
      "\r",
      " 78%|██████████████████████████████████████████████████████████████▎                 | 240/308 [03:02<01:22,  1.22s/it]"
     ]
    },
    {
     "name": "stdout",
     "output_type": "stream",
     "text": [
      "***********Merge_df**********\n",
      "(201410, 1201)\n",
      "Category of Column :  297\n"
     ]
    },
    {
     "name": "stderr",
     "output_type": "stream",
     "text": [
      "\r",
      " 78%|██████████████████████████████████████████████████████████████▌                 | 241/308 [03:03<01:22,  1.24s/it]"
     ]
    },
    {
     "name": "stdout",
     "output_type": "stream",
     "text": [
      "***********Merge_df**********\n",
      "(201440, 1206)\n",
      "Category of Column :  144\n"
     ]
    },
    {
     "name": "stderr",
     "output_type": "stream",
     "text": [
      "\r",
      " 79%|██████████████████████████████████████████████████████████████▊                 | 242/308 [03:05<01:22,  1.25s/it]"
     ]
    },
    {
     "name": "stdout",
     "output_type": "stream",
     "text": [
      "***********Merge_df**********\n",
      "(201449, 1211)\n",
      "Category of Column :  347\n"
     ]
    },
    {
     "name": "stderr",
     "output_type": "stream",
     "text": [
      "\r",
      " 79%|███████████████████████████████████████████████████████████████                 | 243/308 [03:06<01:20,  1.24s/it]"
     ]
    },
    {
     "name": "stdout",
     "output_type": "stream",
     "text": [
      "***********Merge_df**********\n",
      "(201459, 1216)\n",
      "Category of Column :  256\n"
     ]
    },
    {
     "name": "stderr",
     "output_type": "stream",
     "text": [
      "\r",
      " 79%|███████████████████████████████████████████████████████████████▍                | 244/308 [03:07<01:19,  1.24s/it]"
     ]
    },
    {
     "name": "stdout",
     "output_type": "stream",
     "text": [
      "***********Merge_df**********\n",
      "(201477, 1221)\n",
      "Category of Column :  334\n"
     ]
    },
    {
     "name": "stderr",
     "output_type": "stream",
     "text": [
      "\r",
      " 80%|███████████████████████████████████████████████████████████████▋                | 245/308 [03:08<01:18,  1.25s/it]"
     ]
    },
    {
     "name": "stdout",
     "output_type": "stream",
     "text": [
      "***********Merge_df**********\n",
      "(201510, 1226)\n",
      "Category of Column :  240\n"
     ]
    },
    {
     "name": "stderr",
     "output_type": "stream",
     "text": [
      "\r",
      " 80%|███████████████████████████████████████████████████████████████▉                | 246/308 [03:09<01:17,  1.25s/it]"
     ]
    },
    {
     "name": "stdout",
     "output_type": "stream",
     "text": [
      "***********Merge_df**********\n",
      "(201516, 1231)\n",
      "Category of Column :  327\n"
     ]
    },
    {
     "name": "stderr",
     "output_type": "stream",
     "text": [
      "\r",
      " 80%|████████████████████████████████████████████████████████████████▏               | 247/308 [03:11<01:15,  1.23s/it]"
     ]
    },
    {
     "name": "stdout",
     "output_type": "stream",
     "text": [
      "***********Merge_df**********\n",
      "(201516, 1236)\n",
      "Category of Column :  142\n"
     ]
    },
    {
     "name": "stderr",
     "output_type": "stream",
     "text": [
      "\r",
      " 81%|████████████████████████████████████████████████████████████████▍               | 248/308 [03:12<01:14,  1.23s/it]"
     ]
    },
    {
     "name": "stdout",
     "output_type": "stream",
     "text": [
      "***********Merge_df**********\n",
      "(201523, 1241)\n",
      "Category of Column :  326\n"
     ]
    },
    {
     "name": "stderr",
     "output_type": "stream",
     "text": [
      "\r",
      " 81%|████████████████████████████████████████████████████████████████▋               | 249/308 [03:13<01:14,  1.26s/it]"
     ]
    },
    {
     "name": "stdout",
     "output_type": "stream",
     "text": [
      "***********Merge_df**********\n",
      "(201524, 1246)\n",
      "Category of Column :  70\n"
     ]
    },
    {
     "name": "stderr",
     "output_type": "stream",
     "text": [
      "\r",
      " 81%|████████████████████████████████████████████████████████████████▉               | 250/308 [03:15<01:13,  1.26s/it]"
     ]
    },
    {
     "name": "stdout",
     "output_type": "stream",
     "text": [
      "***********Merge_df**********\n",
      "(201530, 1251)\n",
      "Category of Column :  113\n"
     ]
    },
    {
     "name": "stderr",
     "output_type": "stream",
     "text": [
      "\r",
      " 81%|█████████████████████████████████████████████████████████████████▏              | 251/308 [03:16<01:12,  1.27s/it]"
     ]
    },
    {
     "name": "stdout",
     "output_type": "stream",
     "text": [
      "***********Merge_df**********\n",
      "(201532, 1256)\n",
      "Category of Column :  341\n"
     ]
    },
    {
     "name": "stderr",
     "output_type": "stream",
     "text": [
      "\r",
      " 82%|█████████████████████████████████████████████████████████████████▍              | 252/308 [03:17<01:11,  1.27s/it]"
     ]
    },
    {
     "name": "stdout",
     "output_type": "stream",
     "text": [
      "***********Merge_df**********\n",
      "(201538, 1261)\n",
      "Category of Column :  336\n"
     ]
    },
    {
     "name": "stderr",
     "output_type": "stream",
     "text": [
      "\r",
      " 82%|█████████████████████████████████████████████████████████████████▋              | 253/308 [03:18<01:10,  1.28s/it]"
     ]
    },
    {
     "name": "stdout",
     "output_type": "stream",
     "text": [
      "***********Merge_df**********\n",
      "(201543, 1266)\n",
      "Category of Column :  130\n"
     ]
    },
    {
     "name": "stderr",
     "output_type": "stream",
     "text": [
      "\r",
      " 82%|█████████████████████████████████████████████████████████████████▉              | 254/308 [03:20<01:09,  1.28s/it]"
     ]
    },
    {
     "name": "stdout",
     "output_type": "stream",
     "text": [
      "***********Merge_df**********\n",
      "(201545, 1271)\n",
      "Category of Column :  263\n"
     ]
    },
    {
     "name": "stderr",
     "output_type": "stream",
     "text": [
      "\r",
      " 83%|██████████████████████████████████████████████████████████████████▏             | 255/308 [03:21<01:07,  1.28s/it]"
     ]
    },
    {
     "name": "stdout",
     "output_type": "stream",
     "text": [
      "***********Merge_df**********\n",
      "(201547, 1276)\n",
      "Category of Column :  239\n"
     ]
    },
    {
     "name": "stderr",
     "output_type": "stream",
     "text": [
      "\r",
      " 83%|██████████████████████████████████████████████████████████████████▍             | 256/308 [03:22<01:06,  1.28s/it]"
     ]
    },
    {
     "name": "stdout",
     "output_type": "stream",
     "text": [
      "***********Merge_df**********\n",
      "(201555, 1281)\n",
      "Category of Column :  145\n"
     ]
    },
    {
     "name": "stderr",
     "output_type": "stream",
     "text": [
      "\r",
      " 83%|██████████████████████████████████████████████████████████████████▊             | 257/308 [03:23<01:05,  1.28s/it]"
     ]
    },
    {
     "name": "stdout",
     "output_type": "stream",
     "text": [
      "***********Merge_df**********\n",
      "(201563, 1286)\n",
      "Category of Column :  6\n"
     ]
    },
    {
     "name": "stderr",
     "output_type": "stream",
     "text": [
      "\r",
      " 84%|███████████████████████████████████████████████████████████████████             | 258/308 [03:25<01:04,  1.29s/it]"
     ]
    },
    {
     "name": "stdout",
     "output_type": "stream",
     "text": [
      "***********Merge_df**********\n",
      "(201569, 1291)\n",
      "Category of Column :  255\n"
     ]
    },
    {
     "name": "stderr",
     "output_type": "stream",
     "text": [
      "\r",
      " 84%|███████████████████████████████████████████████████████████████████▎            | 259/308 [03:26<01:03,  1.29s/it]"
     ]
    },
    {
     "name": "stdout",
     "output_type": "stream",
     "text": [
      "***********Merge_df**********\n",
      "(201573, 1296)\n",
      "Category of Column :  22\n"
     ]
    },
    {
     "name": "stderr",
     "output_type": "stream",
     "text": [
      "\r",
      " 84%|███████████████████████████████████████████████████████████████████▌            | 260/308 [03:27<01:02,  1.30s/it]"
     ]
    },
    {
     "name": "stdout",
     "output_type": "stream",
     "text": [
      "***********Merge_df**********\n",
      "(201583, 1301)\n",
      "Category of Column :  261\n"
     ]
    },
    {
     "name": "stderr",
     "output_type": "stream",
     "text": [
      "\r",
      " 85%|███████████████████████████████████████████████████████████████████▊            | 261/308 [03:29<01:01,  1.31s/it]"
     ]
    },
    {
     "name": "stdout",
     "output_type": "stream",
     "text": [
      "***********Merge_df**********\n",
      "(201597, 1306)\n",
      "Category of Column :  7\n"
     ]
    },
    {
     "name": "stderr",
     "output_type": "stream",
     "text": [
      "\r",
      " 85%|████████████████████████████████████████████████████████████████████            | 262/308 [03:30<01:00,  1.31s/it]"
     ]
    },
    {
     "name": "stdout",
     "output_type": "stream",
     "text": [
      "***********Merge_df**********\n",
      "(201599, 1311)\n",
      "Category of Column :  227\n"
     ]
    },
    {
     "name": "stderr",
     "output_type": "stream",
     "text": [
      "\r",
      " 85%|████████████████████████████████████████████████████████████████████▎           | 263/308 [03:31<00:59,  1.31s/it]"
     ]
    },
    {
     "name": "stdout",
     "output_type": "stream",
     "text": [
      "***********Merge_df**********\n",
      "(201634, 1316)\n",
      "Category of Column :  54\n"
     ]
    },
    {
     "name": "stderr",
     "output_type": "stream",
     "text": [
      "\r",
      " 86%|████████████████████████████████████████████████████████████████████▌           | 264/308 [03:33<00:57,  1.31s/it]"
     ]
    },
    {
     "name": "stdout",
     "output_type": "stream",
     "text": [
      "***********Merge_df**********\n",
      "(201638, 1321)\n",
      "Category of Column :  194\n"
     ]
    },
    {
     "name": "stderr",
     "output_type": "stream",
     "text": [
      "\r",
      " 86%|████████████████████████████████████████████████████████████████████▊           | 265/308 [03:34<00:57,  1.33s/it]"
     ]
    },
    {
     "name": "stdout",
     "output_type": "stream",
     "text": [
      "***********Merge_df**********\n",
      "(201648, 1326)\n",
      "Category of Column :  204\n"
     ]
    },
    {
     "name": "stderr",
     "output_type": "stream",
     "text": [
      "\r",
      " 86%|█████████████████████████████████████████████████████████████████████           | 266/308 [03:35<00:55,  1.33s/it]"
     ]
    },
    {
     "name": "stdout",
     "output_type": "stream",
     "text": [
      "***********Merge_df**********\n",
      "(201650, 1331)\n",
      "Category of Column :  299\n"
     ]
    },
    {
     "name": "stderr",
     "output_type": "stream",
     "text": [
      "\r",
      " 87%|█████████████████████████████████████████████████████████████████████▎          | 267/308 [03:37<00:54,  1.33s/it]"
     ]
    },
    {
     "name": "stdout",
     "output_type": "stream",
     "text": [
      "***********Merge_df**********\n",
      "(201654, 1336)\n",
      "Category of Column :  335\n"
     ]
    },
    {
     "name": "stderr",
     "output_type": "stream",
     "text": [
      "\r",
      " 87%|█████████████████████████████████████████████████████████████████████▌          | 268/308 [03:38<00:53,  1.33s/it]"
     ]
    },
    {
     "name": "stdout",
     "output_type": "stream",
     "text": [
      "***********Merge_df**********\n",
      "(201659, 1341)\n",
      "Category of Column :  265\n"
     ]
    },
    {
     "name": "stderr",
     "output_type": "stream",
     "text": [
      "\r",
      " 87%|█████████████████████████████████████████████████████████████████████▊          | 269/308 [03:39<00:52,  1.34s/it]"
     ]
    },
    {
     "name": "stdout",
     "output_type": "stream",
     "text": [
      "***********Merge_df**********\n",
      "(201669, 1346)\n",
      "Category of Column :  146\n"
     ]
    },
    {
     "name": "stderr",
     "output_type": "stream",
     "text": [
      "\r",
      " 88%|██████████████████████████████████████████████████████████████████████▏         | 270/308 [03:41<00:50,  1.34s/it]"
     ]
    },
    {
     "name": "stdout",
     "output_type": "stream",
     "text": [
      "***********Merge_df**********\n",
      "(201678, 1351)\n",
      "Category of Column :  101\n"
     ]
    },
    {
     "name": "stderr",
     "output_type": "stream",
     "text": [
      "\r",
      " 88%|██████████████████████████████████████████████████████████████████████▍         | 271/308 [03:42<00:49,  1.35s/it]"
     ]
    },
    {
     "name": "stdout",
     "output_type": "stream",
     "text": [
      "***********Merge_df**********\n",
      "(201683, 1356)\n",
      "Category of Column :  114\n"
     ]
    },
    {
     "name": "stderr",
     "output_type": "stream",
     "text": [
      "\r",
      " 88%|██████████████████████████████████████████████████████████████████████▋         | 272/308 [03:44<00:49,  1.37s/it]"
     ]
    },
    {
     "name": "stdout",
     "output_type": "stream",
     "text": [
      "***********Merge_df**********\n",
      "(201686, 1361)\n",
      "Category of Column :  40\n"
     ]
    },
    {
     "name": "stderr",
     "output_type": "stream",
     "text": [
      "\r",
      " 89%|██████████████████████████████████████████████████████████████████████▉         | 273/308 [03:45<00:47,  1.37s/it]"
     ]
    },
    {
     "name": "stdout",
     "output_type": "stream",
     "text": [
      "***********Merge_df**********\n",
      "(201694, 1366)\n",
      "Category of Column :  222\n"
     ]
    },
    {
     "name": "stderr",
     "output_type": "stream",
     "text": [
      "\r",
      " 89%|███████████████████████████████████████████████████████████████████████▏        | 274/308 [03:46<00:46,  1.36s/it]"
     ]
    },
    {
     "name": "stdout",
     "output_type": "stream",
     "text": [
      "***********Merge_df**********\n",
      "(201700, 1371)\n",
      "Category of Column :  310\n"
     ]
    },
    {
     "name": "stderr",
     "output_type": "stream",
     "text": [
      "\r",
      " 89%|███████████████████████████████████████████████████████████████████████▍        | 275/308 [03:48<00:45,  1.37s/it]"
     ]
    },
    {
     "name": "stdout",
     "output_type": "stream",
     "text": [
      "***********Merge_df**********\n",
      "(201714, 1376)\n",
      "Category of Column :  237\n"
     ]
    },
    {
     "name": "stderr",
     "output_type": "stream",
     "text": [
      "\r",
      " 90%|███████████████████████████████████████████████████████████████████████▋        | 276/308 [03:49<00:43,  1.37s/it]"
     ]
    },
    {
     "name": "stdout",
     "output_type": "stream",
     "text": [
      "***********Merge_df**********\n",
      "(201715, 1381)\n",
      "Category of Column :  18\n"
     ]
    },
    {
     "name": "stderr",
     "output_type": "stream",
     "text": [
      "\r",
      " 90%|███████████████████████████████████████████████████████████████████████▉        | 277/308 [03:50<00:42,  1.38s/it]"
     ]
    },
    {
     "name": "stdout",
     "output_type": "stream",
     "text": [
      "***********Merge_df**********\n",
      "(201716, 1386)\n",
      "Category of Column :  321\n"
     ]
    },
    {
     "name": "stderr",
     "output_type": "stream",
     "text": [
      "\r",
      " 90%|████████████████████████████████████████████████████████████████████████▏       | 278/308 [03:52<00:42,  1.42s/it]"
     ]
    },
    {
     "name": "stdout",
     "output_type": "stream",
     "text": [
      "***********Merge_df**********\n",
      "(201725, 1391)\n",
      "Category of Column :  165\n"
     ]
    },
    {
     "name": "stderr",
     "output_type": "stream",
     "text": [
      "\r",
      " 91%|████████████████████████████████████████████████████████████████████████▍       | 279/308 [03:53<00:41,  1.42s/it]"
     ]
    },
    {
     "name": "stdout",
     "output_type": "stream",
     "text": [
      "***********Merge_df**********\n",
      "(201733, 1396)\n",
      "Category of Column :  294\n"
     ]
    },
    {
     "name": "stderr",
     "output_type": "stream",
     "text": [
      "\r",
      " 91%|████████████████████████████████████████████████████████████████████████▋       | 280/308 [03:55<00:39,  1.41s/it]"
     ]
    },
    {
     "name": "stdout",
     "output_type": "stream",
     "text": [
      "***********Merge_df**********\n",
      "(201736, 1401)\n",
      "Category of Column :  215\n"
     ]
    },
    {
     "name": "stderr",
     "output_type": "stream",
     "text": [
      "\r",
      " 91%|████████████████████████████████████████████████████████████████████████▉       | 281/308 [03:56<00:38,  1.41s/it]"
     ]
    },
    {
     "name": "stdout",
     "output_type": "stream",
     "text": [
      "***********Merge_df**********\n",
      "(201737, 1406)\n",
      "Category of Column :  68\n"
     ]
    },
    {
     "name": "stderr",
     "output_type": "stream",
     "text": [
      "\r",
      " 92%|█████████████████████████████████████████████████████████████████████████▏      | 282/308 [03:58<00:36,  1.40s/it]"
     ]
    },
    {
     "name": "stdout",
     "output_type": "stream",
     "text": [
      "***********Merge_df**********\n",
      "(201745, 1411)\n",
      "Category of Column :  282\n"
     ]
    },
    {
     "name": "stderr",
     "output_type": "stream",
     "text": [
      "\r",
      " 92%|█████████████████████████████████████████████████████████████████████████▌      | 283/308 [03:59<00:35,  1.41s/it]"
     ]
    },
    {
     "name": "stdout",
     "output_type": "stream",
     "text": [
      "***********Merge_df**********\n",
      "(201773, 1416)\n",
      "Category of Column :  219\n"
     ]
    },
    {
     "name": "stderr",
     "output_type": "stream",
     "text": [
      "\r",
      " 92%|█████████████████████████████████████████████████████████████████████████▊      | 284/308 [04:00<00:33,  1.41s/it]"
     ]
    },
    {
     "name": "stdout",
     "output_type": "stream",
     "text": [
      "***********Merge_df**********\n",
      "(201785, 1421)\n",
      "Category of Column :  112\n"
     ]
    },
    {
     "name": "stderr",
     "output_type": "stream",
     "text": [
      "\r",
      " 93%|██████████████████████████████████████████████████████████████████████████      | 285/308 [04:02<00:32,  1.40s/it]"
     ]
    },
    {
     "name": "stdout",
     "output_type": "stream",
     "text": [
      "***********Merge_df**********\n",
      "(201790, 1426)\n",
      "Category of Column :  306\n"
     ]
    },
    {
     "name": "stderr",
     "output_type": "stream",
     "text": [
      "\r",
      " 93%|██████████████████████████████████████████████████████████████████████████▎     | 286/308 [04:03<00:30,  1.40s/it]"
     ]
    },
    {
     "name": "stdout",
     "output_type": "stream",
     "text": [
      "***********Merge_df**********\n",
      "(201796, 1431)\n",
      "Category of Column :  207\n"
     ]
    },
    {
     "name": "stderr",
     "output_type": "stream",
     "text": [
      "\r",
      " 93%|██████████████████████████████████████████████████████████████████████████▌     | 287/308 [04:05<00:29,  1.41s/it]"
     ]
    },
    {
     "name": "stdout",
     "output_type": "stream",
     "text": [
      "***********Merge_df**********\n",
      "(201799, 1436)\n",
      "Category of Column :  178\n"
     ]
    },
    {
     "name": "stderr",
     "output_type": "stream",
     "text": [
      "\r",
      " 94%|██████████████████████████████████████████████████████████████████████████▊     | 288/308 [04:06<00:28,  1.43s/it]"
     ]
    },
    {
     "name": "stdout",
     "output_type": "stream",
     "text": [
      "***********Merge_df**********\n",
      "(201801, 1441)\n",
      "Category of Column :  82\n"
     ]
    },
    {
     "name": "stderr",
     "output_type": "stream",
     "text": [
      "\r",
      " 94%|███████████████████████████████████████████████████████████████████████████     | 289/308 [04:07<00:27,  1.42s/it]"
     ]
    },
    {
     "name": "stdout",
     "output_type": "stream",
     "text": [
      "***********Merge_df**********\n",
      "(201814, 1446)\n",
      "Category of Column :  71\n"
     ]
    },
    {
     "name": "stderr",
     "output_type": "stream",
     "text": [
      "\r",
      " 94%|███████████████████████████████████████████████████████████████████████████▎    | 290/308 [04:09<00:25,  1.42s/it]"
     ]
    },
    {
     "name": "stdout",
     "output_type": "stream",
     "text": [
      "***********Merge_df**********\n",
      "(201819, 1451)\n",
      "Category of Column :  35\n"
     ]
    },
    {
     "name": "stderr",
     "output_type": "stream",
     "text": [
      "\r",
      " 94%|███████████████████████████████████████████████████████████████████████████▌    | 291/308 [04:10<00:24,  1.43s/it]"
     ]
    },
    {
     "name": "stdout",
     "output_type": "stream",
     "text": [
      "***********Merge_df**********\n",
      "(201821, 1456)\n",
      "Category of Column :  320\n"
     ]
    },
    {
     "name": "stderr",
     "output_type": "stream",
     "text": [
      "\r",
      " 95%|███████████████████████████████████████████████████████████████████████████▊    | 292/308 [04:12<00:23,  1.44s/it]"
     ]
    },
    {
     "name": "stdout",
     "output_type": "stream",
     "text": [
      "***********Merge_df**********\n",
      "(201863, 1461)\n",
      "Category of Column :  44\n"
     ]
    },
    {
     "name": "stderr",
     "output_type": "stream",
     "text": [
      "\r",
      " 95%|████████████████████████████████████████████████████████████████████████████    | 293/308 [04:13<00:21,  1.45s/it]"
     ]
    },
    {
     "name": "stdout",
     "output_type": "stream",
     "text": [
      "***********Merge_df**********\n",
      "(201869, 1466)\n",
      "Category of Column :  118\n"
     ]
    },
    {
     "name": "stderr",
     "output_type": "stream",
     "text": [
      "\r",
      " 95%|████████████████████████████████████████████████████████████████████████████▎   | 294/308 [04:15<00:20,  1.45s/it]"
     ]
    },
    {
     "name": "stdout",
     "output_type": "stream",
     "text": [
      "***********Merge_df**********\n",
      "(201871, 1471)\n",
      "Category of Column :  206\n"
     ]
    },
    {
     "name": "stderr",
     "output_type": "stream",
     "text": [
      "\r",
      " 96%|████████████████████████████████████████████████████████████████████████████▌   | 295/308 [04:16<00:18,  1.46s/it]"
     ]
    },
    {
     "name": "stdout",
     "output_type": "stream",
     "text": [
      "***********Merge_df**********\n",
      "(201876, 1476)\n",
      "Category of Column :  208\n"
     ]
    },
    {
     "name": "stderr",
     "output_type": "stream",
     "text": [
      "\r",
      " 96%|████████████████████████████████████████████████████████████████████████████▉   | 296/308 [04:18<00:17,  1.47s/it]"
     ]
    },
    {
     "name": "stdout",
     "output_type": "stream",
     "text": [
      "***********Merge_df**********\n",
      "(201880, 1481)\n",
      "Category of Column :  315\n"
     ]
    },
    {
     "name": "stderr",
     "output_type": "stream",
     "text": [
      "\r",
      " 96%|█████████████████████████████████████████████████████████████████████████████▏  | 297/308 [04:19<00:16,  1.45s/it]"
     ]
    },
    {
     "name": "stdout",
     "output_type": "stream",
     "text": [
      "***********Merge_df**********\n",
      "(201880, 1486)\n",
      "Category of Column :  16\n"
     ]
    },
    {
     "name": "stderr",
     "output_type": "stream",
     "text": [
      "\r",
      " 97%|█████████████████████████████████████████████████████████████████████████████▍  | 298/308 [04:21<00:14,  1.46s/it]"
     ]
    },
    {
     "name": "stdout",
     "output_type": "stream",
     "text": [
      "***********Merge_df**********\n",
      "(201889, 1491)\n",
      "Category of Column :  254\n"
     ]
    },
    {
     "name": "stderr",
     "output_type": "stream",
     "text": [
      "\r",
      " 97%|█████████████████████████████████████████████████████████████████████████████▋  | 299/308 [04:22<00:13,  1.47s/it]"
     ]
    },
    {
     "name": "stdout",
     "output_type": "stream",
     "text": [
      "***********Merge_df**********\n",
      "(201893, 1496)\n",
      "Category of Column :  345\n"
     ]
    },
    {
     "name": "stderr",
     "output_type": "stream",
     "text": [
      "\r",
      " 97%|█████████████████████████████████████████████████████████████████████████████▉  | 300/308 [04:24<00:11,  1.47s/it]"
     ]
    },
    {
     "name": "stdout",
     "output_type": "stream",
     "text": [
      "***********Merge_df**********\n",
      "(201893, 1501)\n",
      "Category of Column :  337\n"
     ]
    },
    {
     "name": "stderr",
     "output_type": "stream",
     "text": [
      "\r",
      " 98%|██████████████████████████████████████████████████████████████████████████████▏ | 301/308 [04:25<00:10,  1.48s/it]"
     ]
    },
    {
     "name": "stdout",
     "output_type": "stream",
     "text": [
      "***********Merge_df**********\n",
      "(201901, 1506)\n",
      "Category of Column :  293\n"
     ]
    },
    {
     "name": "stderr",
     "output_type": "stream",
     "text": [
      "\r",
      " 98%|██████████████████████████████████████████████████████████████████████████████▍ | 302/308 [04:27<00:09,  1.50s/it]"
     ]
    },
    {
     "name": "stdout",
     "output_type": "stream",
     "text": [
      "***********Merge_df**********\n",
      "(201906, 1511)\n",
      "Category of Column :  235\n"
     ]
    },
    {
     "name": "stderr",
     "output_type": "stream",
     "text": [
      "\r",
      " 98%|██████████████████████████████████████████████████████████████████████████████▋ | 303/308 [04:28<00:07,  1.54s/it]"
     ]
    },
    {
     "name": "stdout",
     "output_type": "stream",
     "text": [
      "***********Merge_df**********\n",
      "(201916, 1516)\n",
      "Category of Column :  319\n"
     ]
    },
    {
     "name": "stderr",
     "output_type": "stream",
     "text": [
      "\r",
      " 99%|██████████████████████████████████████████████████████████████████████████████▉ | 304/308 [04:30<00:06,  1.57s/it]"
     ]
    },
    {
     "name": "stdout",
     "output_type": "stream",
     "text": [
      "***********Merge_df**********\n",
      "(201916, 1521)\n",
      "Category of Column :  273\n"
     ]
    },
    {
     "name": "stderr",
     "output_type": "stream",
     "text": [
      "\r",
      " 99%|███████████████████████████████████████████████████████████████████████████████▏| 305/308 [04:31<00:04,  1.57s/it]"
     ]
    },
    {
     "name": "stdout",
     "output_type": "stream",
     "text": [
      "***********Merge_df**********\n",
      "(201916, 1526)\n",
      "Category of Column :  316\n"
     ]
    },
    {
     "name": "stderr",
     "output_type": "stream",
     "text": [
      "\r",
      " 99%|███████████████████████████████████████████████████████████████████████████████▍| 306/308 [04:33<00:03,  1.55s/it]"
     ]
    },
    {
     "name": "stdout",
     "output_type": "stream",
     "text": [
      "***********Merge_df**********\n",
      "(201916, 1531)\n",
      "Category of Column :  92\n"
     ]
    },
    {
     "name": "stderr",
     "output_type": "stream",
     "text": [
      "\r",
      "100%|███████████████████████████████████████████████████████████████████████████████▋| 307/308 [04:35<00:01,  1.57s/it]"
     ]
    },
    {
     "name": "stdout",
     "output_type": "stream",
     "text": [
      "***********Merge_df**********\n",
      "(201917, 1536)\n",
      "Category of Column :  185\n"
     ]
    },
    {
     "name": "stderr",
     "output_type": "stream",
     "text": [
      "100%|████████████████████████████████████████████████████████████████████████████████| 308/308 [04:36<00:00,  1.11it/s]"
     ]
    },
    {
     "name": "stdout",
     "output_type": "stream",
     "text": [
      "***********Merge_df**********\n",
      "(201917, 1541)\n"
     ]
    },
    {
     "name": "stderr",
     "output_type": "stream",
     "text": [
      "\n",
      "  0%|                                                                                           | 0/25 [00:00<?, ?it/s]"
     ]
    },
    {
     "name": "stdout",
     "output_type": "stream",
     "text": [
      "Category of Column :  11\n"
     ]
    },
    {
     "name": "stderr",
     "output_type": "stream",
     "text": [
      "\r",
      "  4%|███▎                                                                               | 1/25 [00:00<00:07,  3.36it/s]"
     ]
    },
    {
     "name": "stdout",
     "output_type": "stream",
     "text": [
      "Category of Column :  15\n"
     ]
    },
    {
     "name": "stderr",
     "output_type": "stream",
     "text": [
      "\r",
      "  8%|██████▋                                                                            | 2/25 [00:01<00:10,  2.19it/s]"
     ]
    },
    {
     "name": "stdout",
     "output_type": "stream",
     "text": [
      "***********Merge_df**********\n",
      "(41286, 11)\n",
      "Category of Column :  16\n"
     ]
    },
    {
     "name": "stderr",
     "output_type": "stream",
     "text": [
      " 16%|█████████████▎                                                                     | 4/25 [00:02<00:09,  2.24it/s]"
     ]
    },
    {
     "name": "stdout",
     "output_type": "stream",
     "text": [
      "***********Merge_df**********\n",
      "(66734, 16)\n",
      "Category of Column :  17\n",
      "***********Merge_df**********\n",
      "(69333, 21)\n",
      "Category of Column :  5\n"
     ]
    },
    {
     "name": "stderr",
     "output_type": "stream",
     "text": [
      "\r",
      " 20%|████████████████▌                                                                  | 5/25 [00:02<00:10,  1.84it/s]"
     ]
    },
    {
     "name": "stdout",
     "output_type": "stream",
     "text": [
      "***********Merge_df**********\n",
      "(97329, 26)\n",
      "Category of Column :  24\n"
     ]
    },
    {
     "name": "stderr",
     "output_type": "stream",
     "text": [
      "\r",
      " 24%|███████████████████▉                                                               | 6/25 [00:03<00:08,  2.24it/s]"
     ]
    },
    {
     "name": "stdout",
     "output_type": "stream",
     "text": [
      "***********Merge_df**********\n",
      "(99966, 31)\n",
      "Category of Column :  9\n"
     ]
    },
    {
     "name": "stderr",
     "output_type": "stream",
     "text": [
      "\r",
      " 28%|███████████████████████▏                                                           | 7/25 [00:07<00:28,  1.57s/it]"
     ]
    },
    {
     "name": "stdout",
     "output_type": "stream",
     "text": [
      "***********Merge_df**********\n",
      "(183240, 36)\n",
      "Category of Column :  19\n"
     ]
    },
    {
     "name": "stderr",
     "output_type": "stream",
     "text": [
      "\r",
      " 32%|██████████████████████████▌                                                        | 8/25 [00:07<00:22,  1.30s/it]"
     ]
    },
    {
     "name": "stdout",
     "output_type": "stream",
     "text": [
      "***********Merge_df**********\n",
      "(185409, 41)\n",
      "Category of Column :  23\n"
     ]
    },
    {
     "name": "stderr",
     "output_type": "stream",
     "text": [
      "\r",
      " 36%|█████████████████████████████▉                                                     | 9/25 [00:08<00:16,  1.00s/it]"
     ]
    },
    {
     "name": "stdout",
     "output_type": "stream",
     "text": [
      "***********Merge_df**********\n",
      "(185975, 46)\n",
      "Category of Column :  3\n"
     ]
    },
    {
     "name": "stderr",
     "output_type": "stream",
     "text": [
      "\r",
      " 40%|████████████████████████████████▊                                                 | 10/25 [00:08<00:12,  1.20it/s]"
     ]
    },
    {
     "name": "stdout",
     "output_type": "stream",
     "text": [
      "***********Merge_df**********\n",
      "(187088, 51)\n",
      "Category of Column :  -1\n"
     ]
    },
    {
     "name": "stderr",
     "output_type": "stream",
     "text": [
      "\r",
      " 44%|████████████████████████████████████                                              | 11/25 [00:10<00:14,  1.01s/it]"
     ]
    },
    {
     "name": "stdout",
     "output_type": "stream",
     "text": [
      "***********Merge_df**********\n",
      "(195220, 56)\n",
      "Category of Column :  8\n"
     ]
    },
    {
     "name": "stderr",
     "output_type": "stream",
     "text": [
      "\r",
      " 48%|███████████████████████████████████████▎                                          | 12/25 [00:10<00:10,  1.25it/s]"
     ]
    },
    {
     "name": "stdout",
     "output_type": "stream",
     "text": [
      "***********Merge_df**********\n",
      "(195453, 61)\n",
      "Category of Column :  18\n"
     ]
    },
    {
     "name": "stderr",
     "output_type": "stream",
     "text": [
      "\r",
      " 52%|██████████████████████████████████████████▋                                       | 13/25 [00:10<00:08,  1.42it/s]"
     ]
    },
    {
     "name": "stdout",
     "output_type": "stream",
     "text": [
      "***********Merge_df**********\n",
      "(195930, 66)\n",
      "Category of Column :  7\n"
     ]
    },
    {
     "name": "stderr",
     "output_type": "stream",
     "text": [
      "\r",
      " 56%|█████████████████████████████████████████████▉                                    | 14/25 [00:11<00:07,  1.56it/s]"
     ]
    },
    {
     "name": "stdout",
     "output_type": "stream",
     "text": [
      "***********Merge_df**********\n",
      "(196593, 71)\n",
      "Category of Column :  4\n"
     ]
    },
    {
     "name": "stderr",
     "output_type": "stream",
     "text": [
      "\r",
      " 60%|█████████████████████████████████████████████████▏                                | 15/25 [00:12<00:06,  1.61it/s]"
     ]
    },
    {
     "name": "stdout",
     "output_type": "stream",
     "text": [
      "***********Merge_df**********\n",
      "(197328, 76)\n",
      "Category of Column :  22\n"
     ]
    },
    {
     "name": "stderr",
     "output_type": "stream",
     "text": [
      "\r",
      " 64%|████████████████████████████████████████████████████▍                             | 16/25 [00:12<00:05,  1.63it/s]"
     ]
    },
    {
     "name": "stdout",
     "output_type": "stream",
     "text": [
      "***********Merge_df**********\n",
      "(197721, 81)\n",
      "Category of Column :  13\n"
     ]
    },
    {
     "name": "stderr",
     "output_type": "stream",
     "text": [
      "\r",
      " 68%|███████████████████████████████████████████████████████▊                          | 17/25 [00:13<00:04,  1.73it/s]"
     ]
    },
    {
     "name": "stdout",
     "output_type": "stream",
     "text": [
      "***********Merge_df**********\n",
      "(198217, 86)\n",
      "Category of Column :  1\n"
     ]
    },
    {
     "name": "stderr",
     "output_type": "stream",
     "text": [
      "\r",
      " 72%|███████████████████████████████████████████████████████████                       | 18/25 [00:13<00:03,  1.92it/s]"
     ]
    },
    {
     "name": "stdout",
     "output_type": "stream",
     "text": [
      "***********Merge_df**********\n",
      "(198529, 91)\n",
      "Category of Column :  10\n"
     ]
    },
    {
     "name": "stderr",
     "output_type": "stream",
     "text": [
      "\r",
      " 76%|██████████████████████████████████████████████████████████████▎                   | 19/25 [00:13<00:02,  2.11it/s]"
     ]
    },
    {
     "name": "stdout",
     "output_type": "stream",
     "text": [
      "***********Merge_df**********\n",
      "(198853, 96)\n",
      "Category of Column :  20\n"
     ]
    },
    {
     "name": "stderr",
     "output_type": "stream",
     "text": [
      "\r",
      " 80%|█████████████████████████████████████████████████████████████████▌                | 20/25 [00:14<00:02,  1.82it/s]"
     ]
    },
    {
     "name": "stdout",
     "output_type": "stream",
     "text": [
      "***********Merge_df**********\n",
      "(199991, 101)\n",
      "Category of Column :  21\n"
     ]
    },
    {
     "name": "stderr",
     "output_type": "stream",
     "text": [
      "\r",
      " 84%|████████████████████████████████████████████████████████████████████▉             | 21/25 [00:15<00:02,  1.71it/s]"
     ]
    },
    {
     "name": "stdout",
     "output_type": "stream",
     "text": [
      "***********Merge_df**********\n",
      "(201028, 106)\n",
      "Category of Column :  14\n"
     ]
    },
    {
     "name": "stderr",
     "output_type": "stream",
     "text": [
      "\r",
      " 88%|████████████████████████████████████████████████████████████████████████▏         | 22/25 [00:15<00:01,  1.90it/s]"
     ]
    },
    {
     "name": "stdout",
     "output_type": "stream",
     "text": [
      "***********Merge_df**********\n",
      "(201171, 111)\n",
      "Category of Column :  2\n"
     ]
    },
    {
     "name": "stderr",
     "output_type": "stream",
     "text": [
      "\r",
      " 92%|███████████████████████████████████████████████████████████████████████████▍      | 23/25 [00:16<00:01,  1.87it/s]"
     ]
    },
    {
     "name": "stdout",
     "output_type": "stream",
     "text": [
      "***********Merge_df**********\n",
      "(201526, 116)\n",
      "Category of Column :  12\n"
     ]
    },
    {
     "name": "stderr",
     "output_type": "stream",
     "text": [
      "\r",
      " 96%|██████████████████████████████████████████████████████████████████████████████▋   | 24/25 [00:16<00:00,  1.89it/s]"
     ]
    },
    {
     "name": "stdout",
     "output_type": "stream",
     "text": [
      "***********Merge_df**********\n",
      "(201911, 121)\n",
      "Category of Column :  6\n"
     ]
    },
    {
     "name": "stderr",
     "output_type": "stream",
     "text": [
      "100%|██████████████████████████████████████████████████████████████████████████████████| 25/25 [00:17<00:00,  1.45it/s]\n"
     ]
    },
    {
     "name": "stdout",
     "output_type": "stream",
     "text": [
      "***********Merge_df**********\n",
      "(201917, 126)\n"
     ]
    },
    {
     "name": "stderr",
     "output_type": "stream",
     "text": [
      "\r",
      "  0%|                                                                                            | 0/2 [00:00<?, ?it/s]"
     ]
    },
    {
     "name": "stdout",
     "output_type": "stream",
     "text": [
      "Category of Column :  N\n"
     ]
    },
    {
     "name": "stderr",
     "output_type": "stream",
     "text": [
      "\r",
      " 50%|██████████████████████████████████████████                                          | 1/2 [00:03<00:03,  3.12s/it]"
     ]
    },
    {
     "name": "stdout",
     "output_type": "stream",
     "text": [
      "Category of Column :  Y\n"
     ]
    },
    {
     "name": "stderr",
     "output_type": "stream",
     "text": [
      "100%|████████████████████████████████████████████████████████████████████████████████████| 2/2 [00:13<00:00,  6.80s/it]"
     ]
    },
    {
     "name": "stdout",
     "output_type": "stream",
     "text": [
      "***********Merge_df**********\n",
      "(201917, 11)\n"
     ]
    },
    {
     "name": "stderr",
     "output_type": "stream",
     "text": [
      "\n",
      "  0%|                                                                                           | 0/41 [00:00<?, ?it/s]"
     ]
    },
    {
     "name": "stdout",
     "output_type": "stream",
     "text": [
      "Category of Column :  37\n"
     ]
    },
    {
     "name": "stderr",
     "output_type": "stream",
     "text": [
      "\r",
      "  2%|██                                                                                 | 1/41 [00:03<02:08,  3.21s/it]"
     ]
    },
    {
     "name": "stdout",
     "output_type": "stream",
     "text": [
      "Category of Column :  19\n"
     ]
    },
    {
     "name": "stderr",
     "output_type": "stream",
     "text": [
      "\r",
      "  5%|████                                                                               | 2/41 [00:06<02:01,  3.11s/it]"
     ]
    },
    {
     "name": "stdout",
     "output_type": "stream",
     "text": [
      "***********Merge_df**********\n",
      "(175776, 11)\n",
      "Category of Column :  33\n"
     ]
    },
    {
     "name": "stderr",
     "output_type": "stream",
     "text": [
      "\r",
      "  7%|██████                                                                             | 3/41 [00:10<02:08,  3.39s/it]"
     ]
    },
    {
     "name": "stdout",
     "output_type": "stream",
     "text": [
      "***********Merge_df**********\n",
      "(190779, 16)\n",
      "Category of Column :  2\n"
     ]
    },
    {
     "name": "stderr",
     "output_type": "stream",
     "text": [
      "\r",
      " 10%|████████                                                                           | 4/41 [00:11<01:41,  2.75s/it]"
     ]
    },
    {
     "name": "stdout",
     "output_type": "stream",
     "text": [
      "***********Merge_df**********\n",
      "(191465, 21)\n",
      "Category of Column :  10\n"
     ]
    },
    {
     "name": "stderr",
     "output_type": "stream",
     "text": [
      "\r",
      " 12%|██████████                                                                         | 5/41 [00:12<01:24,  2.34s/it]"
     ]
    },
    {
     "name": "stdout",
     "output_type": "stream",
     "text": [
      "***********Merge_df**********\n",
      "(191990, 26)\n",
      "Category of Column :  30\n"
     ]
    },
    {
     "name": "stderr",
     "output_type": "stream",
     "text": [
      "\r",
      " 15%|████████████▏                                                                      | 6/41 [00:14<01:16,  2.17s/it]"
     ]
    },
    {
     "name": "stdout",
     "output_type": "stream",
     "text": [
      "***********Merge_df**********\n",
      "(193147, 31)\n",
      "Category of Column :  34\n"
     ]
    },
    {
     "name": "stderr",
     "output_type": "stream",
     "text": [
      "\r",
      " 17%|██████████████▏                                                                    | 7/41 [00:17<01:21,  2.39s/it]"
     ]
    },
    {
     "name": "stdout",
     "output_type": "stream",
     "text": [
      "***********Merge_df**********\n",
      "(194149, 36)\n",
      "Category of Column :  18\n"
     ]
    },
    {
     "name": "stderr",
     "output_type": "stream",
     "text": [
      "\r",
      " 20%|████████████████▏                                                                  | 8/41 [00:19<01:11,  2.16s/it]"
     ]
    },
    {
     "name": "stdout",
     "output_type": "stream",
     "text": [
      "***********Merge_df**********\n",
      "(194984, 41)\n",
      "Category of Column :  29\n"
     ]
    },
    {
     "name": "stderr",
     "output_type": "stream",
     "text": [
      "\r",
      " 22%|██████████████████▏                                                                | 9/41 [00:21<01:14,  2.34s/it]"
     ]
    },
    {
     "name": "stdout",
     "output_type": "stream",
     "text": [
      "***********Merge_df**********\n",
      "(199330, 46)\n",
      "Category of Column :  8\n"
     ]
    },
    {
     "name": "stderr",
     "output_type": "stream",
     "text": [
      "\r",
      " 24%|████████████████████                                                              | 10/41 [00:23<01:03,  2.06s/it]"
     ]
    },
    {
     "name": "stdout",
     "output_type": "stream",
     "text": [
      "***********Merge_df**********\n",
      "(200502, 51)\n",
      "Category of Column :  16\n"
     ]
    },
    {
     "name": "stderr",
     "output_type": "stream",
     "text": [
      "\r",
      " 27%|██████████████████████                                                            | 11/41 [00:25<01:04,  2.15s/it]"
     ]
    },
    {
     "name": "stdout",
     "output_type": "stream",
     "text": [
      "***********Merge_df**********\n",
      "(200815, 56)\n",
      "Category of Column :  7\n"
     ]
    },
    {
     "name": "stderr",
     "output_type": "stream",
     "text": [
      "\r",
      " 29%|████████████████████████                                                          | 12/41 [00:27<00:58,  2.00s/it]"
     ]
    },
    {
     "name": "stdout",
     "output_type": "stream",
     "text": [
      "***********Merge_df**********\n",
      "(201054, 61)\n",
      "Category of Column :  27\n"
     ]
    },
    {
     "name": "stderr",
     "output_type": "stream",
     "text": [
      "\r",
      " 32%|██████████████████████████                                                        | 13/41 [00:29<00:59,  2.14s/it]"
     ]
    },
    {
     "name": "stdout",
     "output_type": "stream",
     "text": [
      "***********Merge_df**********\n",
      "(201336, 66)\n",
      "Category of Column :  1\n"
     ]
    },
    {
     "name": "stderr",
     "output_type": "stream",
     "text": [
      "\r",
      " 34%|████████████████████████████                                                      | 14/41 [00:31<00:54,  2.02s/it]"
     ]
    },
    {
     "name": "stdout",
     "output_type": "stream",
     "text": [
      "***********Merge_df**********\n",
      "(201433, 71)\n",
      "Category of Column :  15\n"
     ]
    },
    {
     "name": "stderr",
     "output_type": "stream",
     "text": [
      "\r",
      " 37%|██████████████████████████████                                                    | 15/41 [00:33<00:50,  1.94s/it]"
     ]
    },
    {
     "name": "stdout",
     "output_type": "stream",
     "text": [
      "***********Merge_df**********\n",
      "(201482, 76)\n",
      "Category of Column :  39\n"
     ]
    },
    {
     "name": "stderr",
     "output_type": "stream",
     "text": [
      "\r",
      " 39%|████████████████████████████████                                                  | 16/41 [00:34<00:46,  1.85s/it]"
     ]
    },
    {
     "name": "stdout",
     "output_type": "stream",
     "text": [
      "***********Merge_df**********\n",
      "(201488, 81)\n",
      "Category of Column :  25\n"
     ]
    },
    {
     "name": "stderr",
     "output_type": "stream",
     "text": [
      "\r",
      " 41%|██████████████████████████████████                                                | 17/41 [00:36<00:42,  1.77s/it]"
     ]
    },
    {
     "name": "stdout",
     "output_type": "stream",
     "text": [
      "***********Merge_df**********\n",
      "(201545, 86)\n",
      "Category of Column :  41\n"
     ]
    },
    {
     "name": "stderr",
     "output_type": "stream",
     "text": [
      "\r",
      " 44%|████████████████████████████████████                                              | 18/41 [00:37<00:37,  1.65s/it]"
     ]
    },
    {
     "name": "stdout",
     "output_type": "stream",
     "text": [
      "***********Merge_df**********\n",
      "(201547, 91)\n",
      "Category of Column :  32\n"
     ]
    },
    {
     "name": "stderr",
     "output_type": "stream",
     "text": [
      "\r",
      " 46%|██████████████████████████████████████                                            | 19/41 [00:39<00:35,  1.63s/it]"
     ]
    },
    {
     "name": "stdout",
     "output_type": "stream",
     "text": [
      "***********Merge_df**********\n",
      "(201557, 96)\n",
      "Category of Column :  22\n"
     ]
    },
    {
     "name": "stderr",
     "output_type": "stream",
     "text": [
      "\r",
      " 49%|████████████████████████████████████████                                          | 20/41 [00:40<00:33,  1.58s/it]"
     ]
    },
    {
     "name": "stdout",
     "output_type": "stream",
     "text": [
      "***********Merge_df**********\n",
      "(201624, 101)\n",
      "Category of Column :  20\n"
     ]
    },
    {
     "name": "stderr",
     "output_type": "stream",
     "text": [
      "\r",
      " 51%|██████████████████████████████████████████                                        | 21/41 [00:42<00:32,  1.62s/it]"
     ]
    },
    {
     "name": "stdout",
     "output_type": "stream",
     "text": [
      "***********Merge_df**********\n",
      "(201649, 106)\n",
      "Category of Column :  21\n"
     ]
    },
    {
     "name": "stderr",
     "output_type": "stream",
     "text": [
      "\r",
      " 54%|████████████████████████████████████████████                                      | 22/41 [00:44<00:32,  1.70s/it]"
     ]
    },
    {
     "name": "stdout",
     "output_type": "stream",
     "text": [
      "***********Merge_df**********\n",
      "(201676, 111)\n",
      "Category of Column :  38\n"
     ]
    },
    {
     "name": "stderr",
     "output_type": "stream",
     "text": [
      "\r",
      " 56%|██████████████████████████████████████████████                                    | 23/41 [00:45<00:29,  1.63s/it]"
     ]
    },
    {
     "name": "stdout",
     "output_type": "stream",
     "text": [
      "***********Merge_df**********\n",
      "(201678, 116)\n",
      "Category of Column :  12\n"
     ]
    },
    {
     "name": "stderr",
     "output_type": "stream",
     "text": [
      "\r",
      " 59%|████████████████████████████████████████████████                                  | 24/41 [00:47<00:26,  1.58s/it]"
     ]
    },
    {
     "name": "stdout",
     "output_type": "stream",
     "text": [
      "***********Merge_df**********\n",
      "(201690, 121)\n",
      "Category of Column :  9\n"
     ]
    },
    {
     "name": "stderr",
     "output_type": "stream",
     "text": [
      "\r",
      " 61%|██████████████████████████████████████████████████                                | 25/41 [00:48<00:23,  1.48s/it]"
     ]
    },
    {
     "name": "stdout",
     "output_type": "stream",
     "text": [
      "***********Merge_df**********\n",
      "(201703, 126)\n",
      "Category of Column :  26\n"
     ]
    },
    {
     "name": "stderr",
     "output_type": "stream",
     "text": [
      "\r",
      " 63%|████████████████████████████████████████████████████                              | 26/41 [00:49<00:21,  1.43s/it]"
     ]
    },
    {
     "name": "stdout",
     "output_type": "stream",
     "text": [
      "***********Merge_df**********\n",
      "(201716, 131)\n",
      "Category of Column :  31\n"
     ]
    },
    {
     "name": "stderr",
     "output_type": "stream",
     "text": [
      "\r",
      " 66%|██████████████████████████████████████████████████████                            | 27/41 [00:51<00:20,  1.44s/it]"
     ]
    },
    {
     "name": "stdout",
     "output_type": "stream",
     "text": [
      "***********Merge_df**********\n",
      "(201728, 136)\n",
      "Category of Column :  36\n"
     ]
    },
    {
     "name": "stderr",
     "output_type": "stream",
     "text": [
      "\r",
      " 68%|████████████████████████████████████████████████████████                          | 28/41 [00:53<00:19,  1.52s/it]"
     ]
    },
    {
     "name": "stdout",
     "output_type": "stream",
     "text": [
      "***********Merge_df**********\n",
      "(201743, 141)\n",
      "Category of Column :  13\n"
     ]
    },
    {
     "name": "stderr",
     "output_type": "stream",
     "text": [
      "\r",
      " 71%|██████████████████████████████████████████████████████████                        | 29/41 [00:54<00:17,  1.44s/it]"
     ]
    },
    {
     "name": "stdout",
     "output_type": "stream",
     "text": [
      "***********Merge_df**********\n",
      "(201743, 146)\n",
      "Category of Column :  35\n"
     ]
    },
    {
     "name": "stderr",
     "output_type": "stream",
     "text": [
      "\r",
      " 73%|████████████████████████████████████████████████████████████                      | 30/41 [00:55<00:15,  1.41s/it]"
     ]
    },
    {
     "name": "stdout",
     "output_type": "stream",
     "text": [
      "***********Merge_df**********\n",
      "(201752, 151)\n",
      "Category of Column :  3\n"
     ]
    },
    {
     "name": "stderr",
     "output_type": "stream",
     "text": [
      "\r",
      " 76%|██████████████████████████████████████████████████████████████                    | 31/41 [00:56<00:13,  1.36s/it]"
     ]
    },
    {
     "name": "stdout",
     "output_type": "stream",
     "text": [
      "***********Merge_df**********\n",
      "(201783, 156)\n",
      "Category of Column :  4\n"
     ]
    },
    {
     "name": "stderr",
     "output_type": "stream",
     "text": [
      "\r",
      " 78%|████████████████████████████████████████████████████████████████                  | 32/41 [00:58<00:11,  1.32s/it]"
     ]
    },
    {
     "name": "stdout",
     "output_type": "stream",
     "text": [
      "***********Merge_df**********\n",
      "(201785, 161)\n",
      "Category of Column :  17\n"
     ]
    },
    {
     "name": "stderr",
     "output_type": "stream",
     "text": [
      "\r",
      " 80%|██████████████████████████████████████████████████████████████████                | 33/41 [00:59<00:11,  1.39s/it]"
     ]
    },
    {
     "name": "stdout",
     "output_type": "stream",
     "text": [
      "***********Merge_df**********\n",
      "(201910, 166)\n",
      "Category of Column :  5\n"
     ]
    },
    {
     "name": "stderr",
     "output_type": "stream",
     "text": [
      "\r",
      " 83%|████████████████████████████████████████████████████████████████████              | 34/41 [01:01<00:10,  1.47s/it]"
     ]
    },
    {
     "name": "stdout",
     "output_type": "stream",
     "text": [
      "***********Merge_df**********\n",
      "(201911, 171)\n",
      "Category of Column :  24\n"
     ]
    },
    {
     "name": "stderr",
     "output_type": "stream",
     "text": [
      "\r",
      " 85%|██████████████████████████████████████████████████████████████████████            | 35/41 [01:02<00:08,  1.46s/it]"
     ]
    },
    {
     "name": "stdout",
     "output_type": "stream",
     "text": [
      "***********Merge_df**********\n",
      "(201912, 176)\n",
      "Category of Column :  23\n"
     ]
    },
    {
     "name": "stderr",
     "output_type": "stream",
     "text": [
      "\r",
      " 88%|████████████████████████████████████████████████████████████████████████          | 36/41 [01:04<00:07,  1.42s/it]"
     ]
    },
    {
     "name": "stdout",
     "output_type": "stream",
     "text": [
      "***********Merge_df**********\n",
      "(201912, 181)\n",
      "Category of Column :  40\n"
     ]
    },
    {
     "name": "stderr",
     "output_type": "stream",
     "text": [
      "\r",
      " 90%|██████████████████████████████████████████████████████████████████████████        | 37/41 [01:05<00:05,  1.39s/it]"
     ]
    },
    {
     "name": "stdout",
     "output_type": "stream",
     "text": [
      "***********Merge_df**********\n",
      "(201917, 186)\n",
      "Category of Column :  14\n"
     ]
    },
    {
     "name": "stderr",
     "output_type": "stream",
     "text": [
      "\r",
      " 93%|████████████████████████████████████████████████████████████████████████████      | 38/41 [01:07<00:04,  1.44s/it]"
     ]
    },
    {
     "name": "stdout",
     "output_type": "stream",
     "text": [
      "***********Merge_df**********\n",
      "(201917, 191)\n",
      "Category of Column :  11\n"
     ]
    },
    {
     "name": "stderr",
     "output_type": "stream",
     "text": [
      "\r",
      " 95%|██████████████████████████████████████████████████████████████████████████████    | 39/41 [01:08<00:02,  1.40s/it]"
     ]
    },
    {
     "name": "stdout",
     "output_type": "stream",
     "text": [
      "***********Merge_df**********\n",
      "(201917, 196)\n",
      "Category of Column :  -1\n"
     ]
    },
    {
     "name": "stderr",
     "output_type": "stream",
     "text": [
      "\r",
      " 98%|████████████████████████████████████████████████████████████████████████████████  | 40/41 [01:09<00:01,  1.37s/it]"
     ]
    },
    {
     "name": "stdout",
     "output_type": "stream",
     "text": [
      "***********Merge_df**********\n",
      "(201917, 201)\n",
      "Category of Column :  28\n"
     ]
    },
    {
     "name": "stderr",
     "output_type": "stream",
     "text": [
      "100%|██████████████████████████████████████████████████████████████████████████████████| 41/41 [01:10<00:00,  1.73s/it]"
     ]
    },
    {
     "name": "stdout",
     "output_type": "stream",
     "text": [
      "***********Merge_df**********\n",
      "(201917, 206)\n"
     ]
    },
    {
     "name": "stderr",
     "output_type": "stream",
     "text": [
      "\n",
      "  0%|                                                                                          | 0/324 [00:00<?, ?it/s]"
     ]
    },
    {
     "name": "stdout",
     "output_type": "stream",
     "text": [
      "Category of Column :  278\n"
     ]
    },
    {
     "name": "stderr",
     "output_type": "stream",
     "text": [
      "\r",
      "  0%|▎                                                                                 | 1/324 [00:02<11:34,  2.15s/it]"
     ]
    },
    {
     "name": "stdout",
     "output_type": "stream",
     "text": [
      "Category of Column :  307\n"
     ]
    },
    {
     "name": "stderr",
     "output_type": "stream",
     "text": [
      "\r",
      "  1%|▌                                                                                 | 2/324 [00:04<12:21,  2.30s/it]"
     ]
    },
    {
     "name": "stdout",
     "output_type": "stream",
     "text": [
      "***********Merge_df**********\n",
      "(164970, 11)\n",
      "Category of Column :  705\n"
     ]
    },
    {
     "name": "stderr",
     "output_type": "stream",
     "text": [
      "\r",
      "  1%|▊                                                                                 | 3/324 [00:08<14:38,  2.74s/it]"
     ]
    },
    {
     "name": "stdout",
     "output_type": "stream",
     "text": [
      "***********Merge_df**********\n",
      "(188949, 16)\n",
      "Category of Column :  332\n"
     ]
    },
    {
     "name": "stderr",
     "output_type": "stream",
     "text": [
      "\r",
      "  1%|█                                                                                 | 4/324 [00:09<12:08,  2.28s/it]"
     ]
    },
    {
     "name": "stdout",
     "output_type": "stream",
     "text": [
      "***********Merge_df**********\n",
      "(189229, 21)\n",
      "Category of Column :  333\n"
     ]
    },
    {
     "name": "stderr",
     "output_type": "stream",
     "text": [
      "\r",
      "  2%|█▎                                                                                | 5/324 [00:10<10:23,  1.96s/it]"
     ]
    },
    {
     "name": "stdout",
     "output_type": "stream",
     "text": [
      "***********Merge_df**********\n",
      "(189609, 26)\n",
      "Category of Column :  506\n"
     ]
    },
    {
     "name": "stderr",
     "output_type": "stream",
     "text": [
      "\r",
      "  2%|█▌                                                                                | 6/324 [00:12<09:37,  1.81s/it]"
     ]
    },
    {
     "name": "stdout",
     "output_type": "stream",
     "text": [
      "***********Merge_df**********\n",
      "(191271, 31)\n",
      "Category of Column :  108\n"
     ]
    },
    {
     "name": "stderr",
     "output_type": "stream",
     "text": [
      "\r",
      "  2%|█▊                                                                                | 7/324 [00:13<08:58,  1.70s/it]"
     ]
    },
    {
     "name": "stdout",
     "output_type": "stream",
     "text": [
      "***********Merge_df**********\n",
      "(191491, 36)\n",
      "Category of Column :  45\n"
     ]
    },
    {
     "name": "stderr",
     "output_type": "stream",
     "text": [
      "\r",
      "  2%|██                                                                                | 8/324 [00:15<08:33,  1.63s/it]"
     ]
    },
    {
     "name": "stdout",
     "output_type": "stream",
     "text": [
      "***********Merge_df**********\n",
      "(192306, 41)\n",
      "Category of Column :  842\n"
     ]
    },
    {
     "name": "stderr",
     "output_type": "stream",
     "text": [
      "\r",
      "  3%|██▎                                                                               | 9/324 [00:16<08:17,  1.58s/it]"
     ]
    },
    {
     "name": "stdout",
     "output_type": "stream",
     "text": [
      "***********Merge_df**********\n",
      "(192493, 46)\n",
      "Category of Column :  80\n"
     ]
    },
    {
     "name": "stderr",
     "output_type": "stream",
     "text": [
      "\r",
      "  3%|██▌                                                                              | 10/324 [00:19<09:19,  1.78s/it]"
     ]
    },
    {
     "name": "stdout",
     "output_type": "stream",
     "text": [
      "***********Merge_df**********\n",
      "(193177, 51)\n",
      "Category of Column :  813\n"
     ]
    },
    {
     "name": "stderr",
     "output_type": "stream",
     "text": [
      "\r",
      "  3%|██▊                                                                              | 11/324 [00:20<08:43,  1.67s/it]"
     ]
    },
    {
     "name": "stdout",
     "output_type": "stream",
     "text": [
      "***********Merge_df**********\n",
      "(193325, 56)\n",
      "Category of Column :  683\n"
     ]
    },
    {
     "name": "stderr",
     "output_type": "stream",
     "text": [
      "\r",
      "  4%|███                                                                              | 12/324 [00:22<08:54,  1.71s/it]"
     ]
    },
    {
     "name": "stdout",
     "output_type": "stream",
     "text": [
      "***********Merge_df**********\n",
      "(193678, 61)\n",
      "Category of Column :  755\n"
     ]
    },
    {
     "name": "stderr",
     "output_type": "stream",
     "text": [
      "\r",
      "  4%|███▎                                                                             | 13/324 [00:23<08:20,  1.61s/it]"
     ]
    },
    {
     "name": "stdout",
     "output_type": "stream",
     "text": [
      "***********Merge_df**********\n",
      "(194928, 66)\n",
      "Category of Column :  879\n"
     ]
    },
    {
     "name": "stderr",
     "output_type": "stream",
     "text": [
      "\r",
      "  4%|███▌                                                                             | 14/324 [00:25<09:11,  1.78s/it]"
     ]
    },
    {
     "name": "stdout",
     "output_type": "stream",
     "text": [
      "***********Merge_df**********\n",
      "(198403, 71)\n",
      "Category of Column :  290\n"
     ]
    },
    {
     "name": "stderr",
     "output_type": "stream",
     "text": [
      "\r",
      "  5%|███▊                                                                             | 15/324 [00:27<08:17,  1.61s/it]"
     ]
    },
    {
     "name": "stdout",
     "output_type": "stream",
     "text": [
      "***********Merge_df**********\n",
      "(198409, 76)\n",
      "Category of Column :  367\n"
     ]
    },
    {
     "name": "stderr",
     "output_type": "stream",
     "text": [
      "\r",
      "  5%|████                                                                             | 16/324 [00:29<09:32,  1.86s/it]"
     ]
    },
    {
     "name": "stdout",
     "output_type": "stream",
     "text": [
      "***********Merge_df**********\n",
      "(199028, 81)\n",
      "Category of Column :  561\n"
     ]
    },
    {
     "name": "stderr",
     "output_type": "stream",
     "text": [
      "\r",
      "  5%|████▎                                                                            | 17/324 [00:31<09:11,  1.80s/it]"
     ]
    },
    {
     "name": "stdout",
     "output_type": "stream",
     "text": [
      "***********Merge_df**********\n",
      "(199279, 86)\n",
      "Category of Column :  511\n"
     ]
    },
    {
     "name": "stderr",
     "output_type": "stream",
     "text": [
      "\r",
      "  6%|████▌                                                                            | 18/324 [00:32<08:55,  1.75s/it]"
     ]
    },
    {
     "name": "stdout",
     "output_type": "stream",
     "text": [
      "***********Merge_df**********\n",
      "(199490, 91)\n",
      "Category of Column :  68\n"
     ]
    },
    {
     "name": "stderr",
     "output_type": "stream",
     "text": [
      "\r",
      "  6%|████▊                                                                            | 19/324 [00:34<08:35,  1.69s/it]"
     ]
    },
    {
     "name": "stdout",
     "output_type": "stream",
     "text": [
      "***********Merge_df**********\n",
      "(199740, 96)\n",
      "Category of Column :  419\n"
     ]
    },
    {
     "name": "stderr",
     "output_type": "stream",
     "text": [
      "\r",
      "  6%|█████                                                                            | 20/324 [00:35<08:15,  1.63s/it]"
     ]
    },
    {
     "name": "stdout",
     "output_type": "stream",
     "text": [
      "***********Merge_df**********\n",
      "(199792, 101)\n",
      "Category of Column :  560\n"
     ]
    },
    {
     "name": "stderr",
     "output_type": "stream",
     "text": [
      "\r",
      "  6%|█████▎                                                                           | 21/324 [00:37<08:46,  1.74s/it]"
     ]
    },
    {
     "name": "stdout",
     "output_type": "stream",
     "text": [
      "***********Merge_df**********\n",
      "(199828, 106)\n",
      "Category of Column :  703\n"
     ]
    },
    {
     "name": "stderr",
     "output_type": "stream",
     "text": [
      "\r",
      "  7%|█████▌                                                                           | 22/324 [00:39<08:22,  1.67s/it]"
     ]
    },
    {
     "name": "stdout",
     "output_type": "stream",
     "text": [
      "***********Merge_df**********\n",
      "(199848, 111)\n",
      "Category of Column :  884\n"
     ]
    },
    {
     "name": "stderr",
     "output_type": "stream",
     "text": [
      "\r",
      "  7%|█████▊                                                                           | 23/324 [00:41<08:26,  1.68s/it]"
     ]
    },
    {
     "name": "stdout",
     "output_type": "stream",
     "text": [
      "***********Merge_df**********\n",
      "(200018, 116)\n",
      "Category of Column :  437\n"
     ]
    },
    {
     "name": "stderr",
     "output_type": "stream",
     "text": [
      "\r",
      "  7%|██████                                                                           | 24/324 [00:42<08:29,  1.70s/it]"
     ]
    },
    {
     "name": "stdout",
     "output_type": "stream",
     "text": [
      "***********Merge_df**********\n",
      "(200153, 121)\n",
      "Category of Column :  391\n"
     ]
    },
    {
     "name": "stderr",
     "output_type": "stream",
     "text": [
      "\r",
      "  8%|██████▎                                                                          | 25/324 [00:44<07:47,  1.56s/it]"
     ]
    },
    {
     "name": "stdout",
     "output_type": "stream",
     "text": [
      "***********Merge_df**********\n",
      "(200155, 126)\n",
      "Category of Column :  414\n"
     ]
    },
    {
     "name": "stderr",
     "output_type": "stream",
     "text": [
      "\r",
      "  8%|██████▌                                                                          | 26/324 [00:45<07:25,  1.49s/it]"
     ]
    },
    {
     "name": "stdout",
     "output_type": "stream",
     "text": [
      "***********Merge_df**********\n",
      "(200161, 131)\n",
      "Category of Column :  783\n"
     ]
    },
    {
     "name": "stderr",
     "output_type": "stream",
     "text": [
      "\r",
      "  8%|██████▊                                                                          | 27/324 [00:46<07:14,  1.46s/it]"
     ]
    },
    {
     "name": "stdout",
     "output_type": "stream",
     "text": [
      "***********Merge_df**********\n",
      "(200181, 136)\n",
      "Category of Column :  360\n"
     ]
    },
    {
     "name": "stderr",
     "output_type": "stream",
     "text": [
      "\r",
      "  9%|███████                                                                          | 28/324 [00:48<07:16,  1.47s/it]"
     ]
    },
    {
     "name": "stdout",
     "output_type": "stream",
     "text": [
      "***********Merge_df**********\n",
      "(200224, 141)\n",
      "Category of Column :  454\n"
     ]
    },
    {
     "name": "stderr",
     "output_type": "stream",
     "text": [
      "\r",
      "  9%|███████▎                                                                         | 29/324 [00:49<07:14,  1.47s/it]"
     ]
    },
    {
     "name": "stdout",
     "output_type": "stream",
     "text": [
      "***********Merge_df**********\n",
      "(200247, 146)\n",
      "Category of Column :  528\n"
     ]
    },
    {
     "name": "stderr",
     "output_type": "stream",
     "text": [
      "\r",
      "  9%|███████▌                                                                         | 30/324 [00:51<07:12,  1.47s/it]"
     ]
    },
    {
     "name": "stdout",
     "output_type": "stream",
     "text": [
      "***********Merge_df**********\n",
      "(200263, 151)\n",
      "Category of Column :  105\n"
     ]
    },
    {
     "name": "stderr",
     "output_type": "stream",
     "text": [
      "\r",
      " 10%|███████▊                                                                         | 31/324 [00:52<06:50,  1.40s/it]"
     ]
    },
    {
     "name": "stdout",
     "output_type": "stream",
     "text": [
      "***********Merge_df**********\n",
      "(200264, 156)\n",
      "Category of Column :  650\n"
     ]
    },
    {
     "name": "stderr",
     "output_type": "stream",
     "text": [
      "\r",
      " 10%|████████                                                                         | 32/324 [00:53<06:41,  1.38s/it]"
     ]
    },
    {
     "name": "stdout",
     "output_type": "stream",
     "text": [
      "***********Merge_df**********\n",
      "(200271, 161)\n",
      "Category of Column :  130\n"
     ]
    },
    {
     "name": "stderr",
     "output_type": "stream",
     "text": [
      "\r",
      " 10%|████████▎                                                                        | 33/324 [00:55<06:45,  1.39s/it]"
     ]
    },
    {
     "name": "stdout",
     "output_type": "stream",
     "text": [
      "***********Merge_df**********\n",
      "(200289, 166)\n",
      "Category of Column :  670\n"
     ]
    },
    {
     "name": "stderr",
     "output_type": "stream",
     "text": [
      "\r",
      " 10%|████████▌                                                                        | 34/324 [00:56<06:34,  1.36s/it]"
     ]
    },
    {
     "name": "stdout",
     "output_type": "stream",
     "text": [
      "***********Merge_df**********\n",
      "(200291, 171)\n",
      "Category of Column :  574\n"
     ]
    },
    {
     "name": "stderr",
     "output_type": "stream",
     "text": [
      "\r",
      " 11%|████████▊                                                                        | 35/324 [00:57<06:37,  1.38s/it]"
     ]
    },
    {
     "name": "stdout",
     "output_type": "stream",
     "text": [
      "***********Merge_df**********\n",
      "(200402, 176)\n",
      "Category of Column :  180\n"
     ]
    },
    {
     "name": "stderr",
     "output_type": "stream",
     "text": [
      "\r",
      " 11%|█████████                                                                        | 36/324 [00:59<06:33,  1.37s/it]"
     ]
    },
    {
     "name": "stdout",
     "output_type": "stream",
     "text": [
      "***********Merge_df**********\n",
      "(200415, 181)\n",
      "Category of Column :  87\n"
     ]
    },
    {
     "name": "stderr",
     "output_type": "stream",
     "text": [
      "\r",
      " 11%|█████████▎                                                                       | 37/324 [01:00<06:42,  1.40s/it]"
     ]
    },
    {
     "name": "stdout",
     "output_type": "stream",
     "text": [
      "***********Merge_df**********\n",
      "(200448, 186)\n",
      "Category of Column :  434\n"
     ]
    },
    {
     "name": "stderr",
     "output_type": "stream",
     "text": [
      "\r",
      " 12%|█████████▌                                                                       | 38/324 [01:02<06:46,  1.42s/it]"
     ]
    },
    {
     "name": "stdout",
     "output_type": "stream",
     "text": [
      "***********Merge_df**********\n",
      "(200503, 191)\n",
      "Category of Column :  401\n"
     ]
    },
    {
     "name": "stderr",
     "output_type": "stream",
     "text": [
      "\r",
      " 12%|█████████▊                                                                       | 39/324 [01:03<06:33,  1.38s/it]"
     ]
    },
    {
     "name": "stdout",
     "output_type": "stream",
     "text": [
      "***********Merge_df**********\n",
      "(200503, 196)\n",
      "Category of Column :  309\n"
     ]
    },
    {
     "name": "stderr",
     "output_type": "stream",
     "text": [
      "\r",
      " 12%|██████████                                                                       | 40/324 [01:05<06:49,  1.44s/it]"
     ]
    },
    {
     "name": "stdout",
     "output_type": "stream",
     "text": [
      "***********Merge_df**********\n",
      "(200579, 201)\n",
      "Category of Column :  330\n"
     ]
    },
    {
     "name": "stderr",
     "output_type": "stream",
     "text": [
      "\r",
      " 13%|██████████▎                                                                      | 41/324 [01:06<06:41,  1.42s/it]"
     ]
    },
    {
     "name": "stdout",
     "output_type": "stream",
     "text": [
      "***********Merge_df**********\n",
      "(200588, 206)\n",
      "Category of Column :  840\n"
     ]
    },
    {
     "name": "stderr",
     "output_type": "stream",
     "text": [
      "\r",
      " 13%|██████████▌                                                                      | 42/324 [01:07<06:45,  1.44s/it]"
     ]
    },
    {
     "name": "stdout",
     "output_type": "stream",
     "text": [
      "***********Merge_df**********\n",
      "(200613, 211)\n",
      "Category of Column :  273\n"
     ]
    },
    {
     "name": "stderr",
     "output_type": "stream",
     "text": [
      "\r",
      " 13%|██████████▊                                                                      | 43/324 [01:09<06:41,  1.43s/it]"
     ]
    },
    {
     "name": "stdout",
     "output_type": "stream",
     "text": [
      "***********Merge_df**********\n",
      "(200622, 216)\n",
      "Category of Column :  126\n"
     ]
    },
    {
     "name": "stderr",
     "output_type": "stream",
     "text": [
      "\r",
      " 14%|███████████                                                                      | 44/324 [01:10<06:36,  1.42s/it]"
     ]
    },
    {
     "name": "stdout",
     "output_type": "stream",
     "text": [
      "***********Merge_df**********\n",
      "(200622, 221)\n",
      "Category of Column :  34\n"
     ]
    },
    {
     "name": "stderr",
     "output_type": "stream",
     "text": [
      "\r",
      " 14%|███████████▎                                                                     | 45/324 [01:11<06:27,  1.39s/it]"
     ]
    },
    {
     "name": "stdout",
     "output_type": "stream",
     "text": [
      "***********Merge_df**********\n",
      "(200643, 226)\n",
      "Category of Column :  818\n"
     ]
    },
    {
     "name": "stderr",
     "output_type": "stream",
     "text": [
      "\r",
      " 14%|███████████▌                                                                     | 46/324 [01:13<06:41,  1.44s/it]"
     ]
    },
    {
     "name": "stdout",
     "output_type": "stream",
     "text": [
      "***********Merge_df**********\n",
      "(200670, 231)\n",
      "Category of Column :  605\n"
     ]
    },
    {
     "name": "stderr",
     "output_type": "stream",
     "text": [
      "\r",
      " 15%|███████████▊                                                                     | 47/324 [01:14<06:27,  1.40s/it]"
     ]
    },
    {
     "name": "stdout",
     "output_type": "stream",
     "text": [
      "***********Merge_df**********\n",
      "(200670, 236)\n",
      "Category of Column :  195\n"
     ]
    },
    {
     "name": "stderr",
     "output_type": "stream",
     "text": [
      "\r",
      " 15%|████████████                                                                     | 48/324 [01:16<06:42,  1.46s/it]"
     ]
    },
    {
     "name": "stdout",
     "output_type": "stream",
     "text": [
      "***********Merge_df**********\n",
      "(200675, 241)\n",
      "Category of Column :  544\n"
     ]
    },
    {
     "name": "stderr",
     "output_type": "stream",
     "text": [
      "\r",
      " 15%|████████████▎                                                                    | 49/324 [01:17<06:46,  1.48s/it]"
     ]
    },
    {
     "name": "stdout",
     "output_type": "stream",
     "text": [
      "***********Merge_df**********\n",
      "(200711, 246)\n",
      "Category of Column :  834\n"
     ]
    },
    {
     "name": "stderr",
     "output_type": "stream",
     "text": [
      "\r",
      " 15%|████████████▌                                                                    | 50/324 [01:19<06:42,  1.47s/it]"
     ]
    },
    {
     "name": "stdout",
     "output_type": "stream",
     "text": [
      "***********Merge_df**********\n",
      "(200736, 251)\n",
      "Category of Column :  222\n"
     ]
    },
    {
     "name": "stderr",
     "output_type": "stream",
     "text": [
      "\r",
      " 16%|████████████▊                                                                    | 51/324 [01:21<06:55,  1.52s/it]"
     ]
    },
    {
     "name": "stdout",
     "output_type": "stream",
     "text": [
      "***********Merge_df**********\n",
      "(200762, 256)\n",
      "Category of Column :  415\n"
     ]
    },
    {
     "name": "stderr",
     "output_type": "stream",
     "text": [
      "\r",
      " 16%|█████████████                                                                    | 52/324 [01:22<06:48,  1.50s/it]"
     ]
    },
    {
     "name": "stdout",
     "output_type": "stream",
     "text": [
      "***********Merge_df**********\n",
      "(200762, 261)\n",
      "Category of Column :  690\n"
     ]
    },
    {
     "name": "stderr",
     "output_type": "stream",
     "text": [
      "\r",
      " 16%|█████████████▎                                                                   | 53/324 [01:24<07:22,  1.63s/it]"
     ]
    },
    {
     "name": "stdout",
     "output_type": "stream",
     "text": [
      "***********Merge_df**********\n",
      "(200882, 266)\n",
      "Category of Column :  514\n"
     ]
    },
    {
     "name": "stderr",
     "output_type": "stream",
     "text": [
      "\r",
      " 17%|█████████████▌                                                                   | 54/324 [01:25<06:59,  1.55s/it]"
     ]
    },
    {
     "name": "stdout",
     "output_type": "stream",
     "text": [
      "***********Merge_df**********\n",
      "(200884, 271)\n",
      "Category of Column :  706\n"
     ]
    },
    {
     "name": "stderr",
     "output_type": "stream",
     "text": [
      "\r",
      " 17%|█████████████▊                                                                   | 55/324 [01:27<06:51,  1.53s/it]"
     ]
    },
    {
     "name": "stdout",
     "output_type": "stream",
     "text": [
      "***********Merge_df**********\n",
      "(200901, 276)\n",
      "Category of Column :  422\n"
     ]
    },
    {
     "name": "stderr",
     "output_type": "stream",
     "text": [
      "\r",
      " 17%|██████████████                                                                   | 56/324 [01:29<07:05,  1.59s/it]"
     ]
    },
    {
     "name": "stdout",
     "output_type": "stream",
     "text": [
      "***********Merge_df**********\n",
      "(200919, 281)\n",
      "Category of Column :  302\n"
     ]
    },
    {
     "name": "stderr",
     "output_type": "stream",
     "text": [
      "\r",
      " 18%|██████████████▎                                                                  | 57/324 [01:30<06:53,  1.55s/it]"
     ]
    },
    {
     "name": "stdout",
     "output_type": "stream",
     "text": [
      "***********Merge_df**********\n",
      "(200963, 286)\n",
      "Category of Column :  412\n"
     ]
    },
    {
     "name": "stderr",
     "output_type": "stream",
     "text": [
      "\r",
      " 18%|██████████████▌                                                                  | 58/324 [01:31<06:42,  1.51s/it]"
     ]
    },
    {
     "name": "stdout",
     "output_type": "stream",
     "text": [
      "***********Merge_df**********\n",
      "(200965, 291)\n",
      "Category of Column :  14\n"
     ]
    },
    {
     "name": "stderr",
     "output_type": "stream",
     "text": [
      "\r",
      " 18%|██████████████▊                                                                  | 59/324 [01:33<06:26,  1.46s/it]"
     ]
    },
    {
     "name": "stdout",
     "output_type": "stream",
     "text": [
      "***********Merge_df**********\n",
      "(200966, 296)\n",
      "Category of Column :  179\n"
     ]
    },
    {
     "name": "stderr",
     "output_type": "stream",
     "text": [
      "\r",
      " 19%|███████████████                                                                  | 60/324 [01:34<06:24,  1.46s/it]"
     ]
    },
    {
     "name": "stdout",
     "output_type": "stream",
     "text": [
      "***********Merge_df**********\n",
      "(200973, 301)\n",
      "Category of Column :  792\n"
     ]
    },
    {
     "name": "stderr",
     "output_type": "stream",
     "text": [
      "\r",
      " 19%|███████████████▎                                                                 | 61/324 [01:36<06:23,  1.46s/it]"
     ]
    },
    {
     "name": "stdout",
     "output_type": "stream",
     "text": [
      "***********Merge_df**********\n",
      "(200987, 306)\n",
      "Category of Column :  661\n"
     ]
    },
    {
     "name": "stderr",
     "output_type": "stream",
     "text": [
      "\r",
      " 19%|███████████████▌                                                                 | 62/324 [01:37<06:28,  1.48s/it]"
     ]
    },
    {
     "name": "stdout",
     "output_type": "stream",
     "text": [
      "***********Merge_df**********\n",
      "(201435, 311)\n",
      "Category of Column :  695\n"
     ]
    },
    {
     "name": "stderr",
     "output_type": "stream",
     "text": [
      "\r",
      " 19%|███████████████▊                                                                 | 63/324 [01:39<06:16,  1.44s/it]"
     ]
    },
    {
     "name": "stdout",
     "output_type": "stream",
     "text": [
      "***********Merge_df**********\n",
      "(201435, 316)\n",
      "Category of Column :  774\n"
     ]
    },
    {
     "name": "stderr",
     "output_type": "stream",
     "text": [
      "\r",
      " 20%|████████████████                                                                 | 64/324 [01:40<06:21,  1.47s/it]"
     ]
    },
    {
     "name": "stdout",
     "output_type": "stream",
     "text": [
      "***********Merge_df**********\n",
      "(201436, 321)\n",
      "Category of Column :  206\n"
     ]
    },
    {
     "name": "stderr",
     "output_type": "stream",
     "text": [
      "\r",
      " 20%|████████████████▎                                                                | 65/324 [01:42<06:28,  1.50s/it]"
     ]
    },
    {
     "name": "stdout",
     "output_type": "stream",
     "text": [
      "***********Merge_df**********\n",
      "(201441, 326)\n",
      "Category of Column :  462\n"
     ]
    },
    {
     "name": "stderr",
     "output_type": "stream",
     "text": [
      "\r",
      " 20%|████████████████▌                                                                | 66/324 [01:43<06:19,  1.47s/it]"
     ]
    },
    {
     "name": "stdout",
     "output_type": "stream",
     "text": [
      "***********Merge_df**********\n",
      "(201441, 331)\n",
      "Category of Column :  383\n"
     ]
    },
    {
     "name": "stderr",
     "output_type": "stream",
     "text": [
      "\r",
      " 21%|████████████████▊                                                                | 67/324 [01:44<06:15,  1.46s/it]"
     ]
    },
    {
     "name": "stdout",
     "output_type": "stream",
     "text": [
      "***********Merge_df**********\n",
      "(201452, 336)\n",
      "Category of Column :  356\n"
     ]
    },
    {
     "name": "stderr",
     "output_type": "stream",
     "text": [
      "\r",
      " 21%|█████████████████                                                                | 68/324 [01:46<06:22,  1.49s/it]"
     ]
    },
    {
     "name": "stdout",
     "output_type": "stream",
     "text": [
      "***********Merge_df**********\n",
      "(201456, 341)\n",
      "Category of Column :  642\n"
     ]
    },
    {
     "name": "stderr",
     "output_type": "stream",
     "text": [
      "\r",
      " 21%|█████████████████▎                                                               | 69/324 [01:48<06:23,  1.50s/it]"
     ]
    },
    {
     "name": "stdout",
     "output_type": "stream",
     "text": [
      "***********Merge_df**********\n",
      "(201457, 346)\n",
      "Category of Column :  19\n"
     ]
    },
    {
     "name": "stderr",
     "output_type": "stream",
     "text": [
      "\r",
      " 22%|█████████████████▌                                                               | 70/324 [01:49<06:27,  1.53s/it]"
     ]
    },
    {
     "name": "stdout",
     "output_type": "stream",
     "text": [
      "***********Merge_df**********\n",
      "(201459, 351)\n",
      "Category of Column :  387\n"
     ]
    },
    {
     "name": "stderr",
     "output_type": "stream",
     "text": [
      "\r",
      " 22%|█████████████████▊                                                               | 71/324 [01:51<06:36,  1.57s/it]"
     ]
    },
    {
     "name": "stdout",
     "output_type": "stream",
     "text": [
      "***********Merge_df**********\n",
      "(201468, 356)\n",
      "Category of Column :  299\n"
     ]
    },
    {
     "name": "stderr",
     "output_type": "stream",
     "text": [
      "\r",
      " 22%|██████████████████                                                               | 72/324 [01:52<06:31,  1.55s/it]"
     ]
    },
    {
     "name": "stdout",
     "output_type": "stream",
     "text": [
      "***********Merge_df**********\n",
      "(201468, 361)\n",
      "Category of Column :  319\n"
     ]
    },
    {
     "name": "stderr",
     "output_type": "stream",
     "text": [
      "\r",
      " 23%|██████████████████▎                                                              | 73/324 [01:54<06:25,  1.53s/it]"
     ]
    },
    {
     "name": "stdout",
     "output_type": "stream",
     "text": [
      "***********Merge_df**********\n",
      "(201469, 366)\n",
      "Category of Column :  489\n"
     ]
    },
    {
     "name": "stderr",
     "output_type": "stream",
     "text": [
      "\r",
      " 23%|██████████████████▌                                                              | 74/324 [01:55<06:21,  1.53s/it]"
     ]
    },
    {
     "name": "stdout",
     "output_type": "stream",
     "text": [
      "***********Merge_df**********\n",
      "(201476, 371)\n",
      "Category of Column :  667\n"
     ]
    },
    {
     "name": "stderr",
     "output_type": "stream",
     "text": [
      "\r",
      " 23%|██████████████████▊                                                              | 75/324 [01:57<06:22,  1.53s/it]"
     ]
    },
    {
     "name": "stdout",
     "output_type": "stream",
     "text": [
      "***********Merge_df**********\n",
      "(201477, 376)\n",
      "Category of Column :  154\n"
     ]
    },
    {
     "name": "stderr",
     "output_type": "stream",
     "text": [
      "\r",
      " 23%|███████████████████                                                              | 76/324 [01:58<06:11,  1.50s/it]"
     ]
    },
    {
     "name": "stdout",
     "output_type": "stream",
     "text": [
      "***********Merge_df**********\n",
      "(201477, 381)\n",
      "Category of Column :  40\n"
     ]
    },
    {
     "name": "stderr",
     "output_type": "stream",
     "text": [
      "\r",
      " 24%|███████████████████▎                                                             | 77/324 [02:00<06:13,  1.51s/it]"
     ]
    },
    {
     "name": "stdout",
     "output_type": "stream",
     "text": [
      "***********Merge_df**********\n",
      "(201480, 386)\n",
      "Category of Column :  340\n"
     ]
    },
    {
     "name": "stderr",
     "output_type": "stream",
     "text": [
      "\r",
      " 24%|███████████████████▌                                                             | 78/324 [02:01<06:19,  1.54s/it]"
     ]
    },
    {
     "name": "stdout",
     "output_type": "stream",
     "text": [
      "***********Merge_df**********\n",
      "(201482, 391)\n",
      "Category of Column :  60\n"
     ]
    },
    {
     "name": "stderr",
     "output_type": "stream",
     "text": [
      "\r",
      " 24%|███████████████████▊                                                             | 79/324 [02:03<06:05,  1.49s/it]"
     ]
    },
    {
     "name": "stdout",
     "output_type": "stream",
     "text": [
      "***********Merge_df**********\n",
      "(201482, 396)\n",
      "Category of Column :  769\n"
     ]
    },
    {
     "name": "stderr",
     "output_type": "stream",
     "text": [
      "\r",
      " 25%|████████████████████                                                             | 80/324 [02:04<06:13,  1.53s/it]"
     ]
    },
    {
     "name": "stdout",
     "output_type": "stream",
     "text": [
      "***********Merge_df**********\n",
      "(201482, 401)\n",
      "Category of Column :  557\n"
     ]
    },
    {
     "name": "stderr",
     "output_type": "stream",
     "text": [
      "\r",
      " 25%|████████████████████▎                                                            | 81/324 [02:06<06:20,  1.56s/it]"
     ]
    },
    {
     "name": "stdout",
     "output_type": "stream",
     "text": [
      "***********Merge_df**********\n",
      "(201482, 406)\n",
      "Category of Column :  171\n"
     ]
    },
    {
     "name": "stderr",
     "output_type": "stream",
     "text": [
      "\r",
      " 25%|████████████████████▌                                                            | 82/324 [02:08<06:18,  1.57s/it]"
     ]
    },
    {
     "name": "stdout",
     "output_type": "stream",
     "text": [
      "***********Merge_df**********\n",
      "(201484, 411)\n",
      "Category of Column :  166\n"
     ]
    },
    {
     "name": "stderr",
     "output_type": "stream",
     "text": [
      "\r",
      " 26%|████████████████████▊                                                            | 83/324 [02:09<06:17,  1.57s/it]"
     ]
    },
    {
     "name": "stdout",
     "output_type": "stream",
     "text": [
      "***********Merge_df**********\n",
      "(201484, 416)\n",
      "Category of Column :  411\n"
     ]
    },
    {
     "name": "stderr",
     "output_type": "stream",
     "text": [
      "\r",
      " 26%|█████████████████████                                                            | 84/324 [02:11<06:19,  1.58s/it]"
     ]
    },
    {
     "name": "stdout",
     "output_type": "stream",
     "text": [
      "***********Merge_df**********\n",
      "(201485, 421)\n",
      "Category of Column :  614\n"
     ]
    },
    {
     "name": "stderr",
     "output_type": "stream",
     "text": [
      "\r",
      " 26%|█████████████████████▎                                                           | 85/324 [02:12<06:11,  1.55s/it]"
     ]
    },
    {
     "name": "stdout",
     "output_type": "stream",
     "text": [
      "***********Merge_df**********\n",
      "(201489, 426)\n",
      "Category of Column :  373\n"
     ]
    },
    {
     "name": "stderr",
     "output_type": "stream",
     "text": [
      "\r",
      " 27%|█████████████████████▌                                                           | 86/324 [02:14<06:12,  1.57s/it]"
     ]
    },
    {
     "name": "stdout",
     "output_type": "stream",
     "text": [
      "***********Merge_df**********\n",
      "(201491, 431)\n",
      "Category of Column :  216\n"
     ]
    },
    {
     "name": "stderr",
     "output_type": "stream",
     "text": [
      "\r",
      " 27%|█████████████████████▊                                                           | 87/324 [02:15<06:03,  1.53s/it]"
     ]
    },
    {
     "name": "stdout",
     "output_type": "stream",
     "text": [
      "***********Merge_df**********\n",
      "(201491, 436)\n",
      "Category of Column :  36\n"
     ]
    },
    {
     "name": "stderr",
     "output_type": "stream",
     "text": [
      "\r",
      " 27%|██████████████████████                                                           | 88/324 [02:17<05:50,  1.49s/it]"
     ]
    },
    {
     "name": "stdout",
     "output_type": "stream",
     "text": [
      "***********Merge_df**********\n",
      "(201491, 441)\n",
      "Category of Column :  9\n"
     ]
    },
    {
     "name": "stderr",
     "output_type": "stream",
     "text": [
      "\r",
      " 27%|██████████████████████▎                                                          | 89/324 [02:18<05:39,  1.45s/it]"
     ]
    },
    {
     "name": "stdout",
     "output_type": "stream",
     "text": [
      "***********Merge_df**********\n",
      "(201491, 446)\n",
      "Category of Column :  795\n"
     ]
    },
    {
     "name": "stderr",
     "output_type": "stream",
     "text": [
      "\r",
      " 28%|██████████████████████▌                                                          | 90/324 [02:20<05:46,  1.48s/it]"
     ]
    },
    {
     "name": "stdout",
     "output_type": "stream",
     "text": [
      "***********Merge_df**********\n",
      "(201491, 451)\n",
      "Category of Column :  748\n"
     ]
    },
    {
     "name": "stderr",
     "output_type": "stream",
     "text": [
      "\r",
      " 28%|██████████████████████▊                                                          | 91/324 [02:21<05:48,  1.50s/it]"
     ]
    },
    {
     "name": "stdout",
     "output_type": "stream",
     "text": [
      "***********Merge_df**********\n",
      "(201491, 456)\n",
      "Category of Column :  298\n"
     ]
    },
    {
     "name": "stderr",
     "output_type": "stream",
     "text": [
      "\r",
      " 28%|███████████████████████                                                          | 92/324 [02:23<05:51,  1.51s/it]"
     ]
    },
    {
     "name": "stdout",
     "output_type": "stream",
     "text": [
      "***********Merge_df**********\n",
      "(201491, 461)\n",
      "Category of Column :  114\n"
     ]
    },
    {
     "name": "stderr",
     "output_type": "stream",
     "text": [
      "\r",
      " 29%|███████████████████████▎                                                         | 93/324 [02:24<05:55,  1.54s/it]"
     ]
    },
    {
     "name": "stdout",
     "output_type": "stream",
     "text": [
      "***********Merge_df**********\n",
      "(201491, 466)\n",
      "Category of Column :  363\n"
     ]
    },
    {
     "name": "stderr",
     "output_type": "stream",
     "text": [
      "\r",
      " 29%|███████████████████████▌                                                         | 94/324 [02:26<05:58,  1.56s/it]"
     ]
    },
    {
     "name": "stdout",
     "output_type": "stream",
     "text": [
      "***********Merge_df**********\n",
      "(201491, 471)\n",
      "Category of Column :  519\n"
     ]
    },
    {
     "name": "stderr",
     "output_type": "stream",
     "text": [
      "\r",
      " 29%|███████████████████████▊                                                         | 95/324 [02:28<05:54,  1.55s/it]"
     ]
    },
    {
     "name": "stdout",
     "output_type": "stream",
     "text": [
      "***********Merge_df**********\n",
      "(201491, 476)\n",
      "Category of Column :  734\n"
     ]
    },
    {
     "name": "stderr",
     "output_type": "stream",
     "text": [
      "\r",
      " 30%|████████████████████████                                                         | 96/324 [02:29<05:56,  1.56s/it]"
     ]
    },
    {
     "name": "stdout",
     "output_type": "stream",
     "text": [
      "***********Merge_df**********\n",
      "(201512, 481)\n",
      "Category of Column :  499\n"
     ]
    },
    {
     "name": "stderr",
     "output_type": "stream",
     "text": [
      "\r",
      " 30%|████████████████████████▎                                                        | 97/324 [02:31<05:50,  1.54s/it]"
     ]
    },
    {
     "name": "stdout",
     "output_type": "stream",
     "text": [
      "***********Merge_df**********\n",
      "(201512, 486)\n",
      "Category of Column :  737\n"
     ]
    },
    {
     "name": "stderr",
     "output_type": "stream",
     "text": [
      "\r",
      " 30%|████████████████████████▌                                                        | 98/324 [02:32<05:59,  1.59s/it]"
     ]
    },
    {
     "name": "stdout",
     "output_type": "stream",
     "text": [
      "***********Merge_df**********\n",
      "(201512, 491)\n",
      "Category of Column :  554\n"
     ]
    },
    {
     "name": "stderr",
     "output_type": "stream",
     "text": [
      "\r",
      " 31%|████████████████████████▊                                                        | 99/324 [02:34<05:57,  1.59s/it]"
     ]
    },
    {
     "name": "stdout",
     "output_type": "stream",
     "text": [
      "***********Merge_df**********\n",
      "(201513, 496)\n",
      "Category of Column :  210\n"
     ]
    },
    {
     "name": "stderr",
     "output_type": "stream",
     "text": [
      "\r",
      " 31%|████████████████████████▋                                                       | 100/324 [02:36<05:59,  1.61s/it]"
     ]
    },
    {
     "name": "stdout",
     "output_type": "stream",
     "text": [
      "***********Merge_df**********\n",
      "(201533, 501)\n",
      "Category of Column :  771\n"
     ]
    },
    {
     "name": "stderr",
     "output_type": "stream",
     "text": [
      "\r",
      " 31%|████████████████████████▉                                                       | 101/324 [02:37<06:09,  1.66s/it]"
     ]
    },
    {
     "name": "stdout",
     "output_type": "stream",
     "text": [
      "***********Merge_df**********\n",
      "(201542, 506)\n",
      "Category of Column :  529\n"
     ]
    },
    {
     "name": "stderr",
     "output_type": "stream",
     "text": [
      "\r",
      " 31%|█████████████████████████▏                                                      | 102/324 [02:39<06:05,  1.65s/it]"
     ]
    },
    {
     "name": "stdout",
     "output_type": "stream",
     "text": [
      "***********Merge_df**********\n",
      "(201547, 511)\n",
      "Category of Column :  573\n"
     ]
    },
    {
     "name": "stderr",
     "output_type": "stream",
     "text": [
      "\r",
      " 32%|█████████████████████████▍                                                      | 103/324 [02:40<05:58,  1.62s/it]"
     ]
    },
    {
     "name": "stdout",
     "output_type": "stream",
     "text": [
      "***********Merge_df**********\n",
      "(201548, 516)\n",
      "Category of Column :  458\n"
     ]
    },
    {
     "name": "stderr",
     "output_type": "stream",
     "text": [
      "\r",
      " 32%|█████████████████████████▋                                                      | 104/324 [02:42<05:55,  1.62s/it]"
     ]
    },
    {
     "name": "stdout",
     "output_type": "stream",
     "text": [
      "***********Merge_df**********\n",
      "(201551, 521)\n",
      "Category of Column :  246\n"
     ]
    },
    {
     "name": "stderr",
     "output_type": "stream",
     "text": [
      "\r",
      " 32%|█████████████████████████▉                                                      | 105/324 [02:44<05:47,  1.59s/it]"
     ]
    },
    {
     "name": "stdout",
     "output_type": "stream",
     "text": [
      "***********Merge_df**********\n",
      "(201551, 526)\n",
      "Category of Column :  527\n"
     ]
    },
    {
     "name": "stderr",
     "output_type": "stream",
     "text": [
      "\r",
      " 33%|██████████████████████████▏                                                     | 106/324 [02:45<05:45,  1.58s/it]"
     ]
    },
    {
     "name": "stdout",
     "output_type": "stream",
     "text": [
      "***********Merge_df**********\n",
      "(201551, 531)\n",
      "Category of Column :  63\n"
     ]
    },
    {
     "name": "stderr",
     "output_type": "stream",
     "text": [
      "\r",
      " 33%|██████████████████████████▍                                                     | 107/324 [02:47<05:46,  1.60s/it]"
     ]
    },
    {
     "name": "stdout",
     "output_type": "stream",
     "text": [
      "***********Merge_df**********\n",
      "(201552, 536)\n",
      "Category of Column :  111\n"
     ]
    },
    {
     "name": "stderr",
     "output_type": "stream",
     "text": [
      "\r",
      " 33%|██████████████████████████▋                                                     | 108/324 [02:49<05:58,  1.66s/it]"
     ]
    },
    {
     "name": "stdout",
     "output_type": "stream",
     "text": [
      "***********Merge_df**********\n",
      "(201563, 541)\n",
      "Category of Column :  21\n"
     ]
    },
    {
     "name": "stderr",
     "output_type": "stream",
     "text": [
      "\r",
      " 34%|██████████████████████████▉                                                     | 109/324 [02:50<05:49,  1.62s/it]"
     ]
    },
    {
     "name": "stdout",
     "output_type": "stream",
     "text": [
      "***********Merge_df**********\n",
      "(201563, 546)\n",
      "Category of Column :  839\n"
     ]
    },
    {
     "name": "stderr",
     "output_type": "stream",
     "text": [
      "\r",
      " 34%|███████████████████████████▏                                                    | 110/324 [02:52<05:59,  1.68s/it]"
     ]
    },
    {
     "name": "stdout",
     "output_type": "stream",
     "text": [
      "***********Merge_df**********\n",
      "(201687, 551)\n",
      "Category of Column :  320\n"
     ]
    },
    {
     "name": "stderr",
     "output_type": "stream",
     "text": [
      "\r",
      " 34%|███████████████████████████▍                                                    | 111/324 [02:54<05:50,  1.65s/it]"
     ]
    },
    {
     "name": "stdout",
     "output_type": "stream",
     "text": [
      "***********Merge_df**********\n",
      "(201687, 556)\n",
      "Category of Column :  665\n"
     ]
    },
    {
     "name": "stderr",
     "output_type": "stream",
     "text": [
      "\r",
      " 35%|███████████████████████████▋                                                    | 112/324 [02:55<05:54,  1.67s/it]"
     ]
    },
    {
     "name": "stdout",
     "output_type": "stream",
     "text": [
      "***********Merge_df**********\n",
      "(201703, 561)\n",
      "Category of Column :  550\n"
     ]
    },
    {
     "name": "stderr",
     "output_type": "stream",
     "text": [
      "\r",
      " 35%|███████████████████████████▉                                                    | 113/324 [02:57<05:54,  1.68s/it]"
     ]
    },
    {
     "name": "stdout",
     "output_type": "stream",
     "text": [
      "***********Merge_df**********\n",
      "(201716, 566)\n",
      "Category of Column :  491\n"
     ]
    },
    {
     "name": "stderr",
     "output_type": "stream",
     "text": [
      "\r",
      " 35%|████████████████████████████▏                                                   | 114/324 [02:59<05:51,  1.68s/it]"
     ]
    },
    {
     "name": "stdout",
     "output_type": "stream",
     "text": [
      "***********Merge_df**********\n",
      "(201731, 571)\n",
      "Category of Column :  623\n"
     ]
    },
    {
     "name": "stderr",
     "output_type": "stream",
     "text": [
      "\r",
      " 35%|████████████████████████████▍                                                   | 115/324 [03:00<05:56,  1.71s/it]"
     ]
    },
    {
     "name": "stdout",
     "output_type": "stream",
     "text": [
      "***********Merge_df**********\n",
      "(201732, 576)\n",
      "Category of Column :  451\n"
     ]
    },
    {
     "name": "stderr",
     "output_type": "stream",
     "text": [
      "\r",
      " 36%|████████████████████████████▋                                                   | 116/324 [03:02<05:52,  1.70s/it]"
     ]
    },
    {
     "name": "stdout",
     "output_type": "stream",
     "text": [
      "***********Merge_df**********\n",
      "(201740, 581)\n",
      "Category of Column :  829\n"
     ]
    },
    {
     "name": "stderr",
     "output_type": "stream",
     "text": [
      "\r",
      " 36%|████████████████████████████▉                                                   | 117/324 [03:04<05:52,  1.70s/it]"
     ]
    },
    {
     "name": "stdout",
     "output_type": "stream",
     "text": [
      "***********Merge_df**********\n",
      "(201740, 586)\n",
      "Category of Column :  526\n"
     ]
    },
    {
     "name": "stderr",
     "output_type": "stream",
     "text": [
      "\r",
      " 36%|█████████████████████████████▏                                                  | 118/324 [03:05<05:43,  1.67s/it]"
     ]
    },
    {
     "name": "stdout",
     "output_type": "stream",
     "text": [
      "***********Merge_df**********\n",
      "(201740, 591)\n",
      "Category of Column :  637\n"
     ]
    },
    {
     "name": "stderr",
     "output_type": "stream",
     "text": [
      "\r",
      " 37%|█████████████████████████████▍                                                  | 119/324 [03:07<05:41,  1.67s/it]"
     ]
    },
    {
     "name": "stdout",
     "output_type": "stream",
     "text": [
      "***********Merge_df**********\n",
      "(201740, 596)\n",
      "Category of Column :  274\n"
     ]
    },
    {
     "name": "stderr",
     "output_type": "stream",
     "text": [
      "\r",
      " 37%|█████████████████████████████▋                                                  | 120/324 [03:09<05:36,  1.65s/it]"
     ]
    },
    {
     "name": "stdout",
     "output_type": "stream",
     "text": [
      "***********Merge_df**********\n",
      "(201740, 601)\n",
      "Category of Column :  369\n"
     ]
    },
    {
     "name": "stderr",
     "output_type": "stream",
     "text": [
      "\r",
      " 37%|█████████████████████████████▉                                                  | 121/324 [03:10<05:37,  1.66s/it]"
     ]
    },
    {
     "name": "stdout",
     "output_type": "stream",
     "text": [
      "***********Merge_df**********\n",
      "(201740, 606)\n",
      "Category of Column :  607\n"
     ]
    },
    {
     "name": "stderr",
     "output_type": "stream",
     "text": [
      "\r",
      " 38%|██████████████████████████████                                                  | 122/324 [03:12<05:45,  1.71s/it]"
     ]
    },
    {
     "name": "stdout",
     "output_type": "stream",
     "text": [
      "***********Merge_df**********\n",
      "(201740, 611)\n",
      "Category of Column :  518\n"
     ]
    },
    {
     "name": "stderr",
     "output_type": "stream",
     "text": [
      "\r",
      " 38%|██████████████████████████████▎                                                 | 123/324 [03:14<05:51,  1.75s/it]"
     ]
    },
    {
     "name": "stdout",
     "output_type": "stream",
     "text": [
      "***********Merge_df**********\n",
      "(201742, 616)\n",
      "Category of Column :  891\n"
     ]
    },
    {
     "name": "stderr",
     "output_type": "stream",
     "text": [
      "\r",
      " 38%|██████████████████████████████▌                                                 | 124/324 [03:16<05:43,  1.72s/it]"
     ]
    },
    {
     "name": "stdout",
     "output_type": "stream",
     "text": [
      "***********Merge_df**********\n",
      "(201742, 621)\n",
      "Category of Column :  443\n"
     ]
    },
    {
     "name": "stderr",
     "output_type": "stream",
     "text": [
      "\r",
      " 39%|██████████████████████████████▊                                                 | 125/324 [03:17<05:45,  1.74s/it]"
     ]
    },
    {
     "name": "stdout",
     "output_type": "stream",
     "text": [
      "***********Merge_df**********\n",
      "(201742, 626)\n",
      "Category of Column :  606\n"
     ]
    },
    {
     "name": "stderr",
     "output_type": "stream",
     "text": [
      "\r",
      " 39%|███████████████████████████████                                                 | 126/324 [03:19<05:45,  1.74s/it]"
     ]
    },
    {
     "name": "stdout",
     "output_type": "stream",
     "text": [
      "***********Merge_df**********\n",
      "(201742, 631)\n",
      "Category of Column :  178\n"
     ]
    },
    {
     "name": "stderr",
     "output_type": "stream",
     "text": [
      "\r",
      " 39%|███████████████████████████████▎                                                | 127/324 [03:21<05:47,  1.77s/it]"
     ]
    },
    {
     "name": "stdout",
     "output_type": "stream",
     "text": [
      "***********Merge_df**********\n",
      "(201742, 636)\n",
      "Category of Column :  427\n"
     ]
    },
    {
     "name": "stderr",
     "output_type": "stream",
     "text": [
      "\r",
      " 40%|███████████████████████████████▌                                                | 128/324 [03:23<05:44,  1.76s/it]"
     ]
    },
    {
     "name": "stdout",
     "output_type": "stream",
     "text": [
      "***********Merge_df**********\n",
      "(201742, 641)\n",
      "Category of Column :  671\n"
     ]
    },
    {
     "name": "stderr",
     "output_type": "stream",
     "text": [
      "\r",
      " 40%|███████████████████████████████▊                                                | 129/324 [03:24<05:36,  1.73s/it]"
     ]
    },
    {
     "name": "stdout",
     "output_type": "stream",
     "text": [
      "***********Merge_df**********\n",
      "(201742, 646)\n",
      "Category of Column :  289\n"
     ]
    },
    {
     "name": "stderr",
     "output_type": "stream",
     "text": [
      "\r",
      " 40%|████████████████████████████████                                                | 130/324 [03:26<05:34,  1.73s/it]"
     ]
    },
    {
     "name": "stdout",
     "output_type": "stream",
     "text": [
      "***********Merge_df**********\n",
      "(201742, 651)\n",
      "Category of Column :  692\n"
     ]
    },
    {
     "name": "stderr",
     "output_type": "stream",
     "text": [
      "\r",
      " 40%|████████████████████████████████▎                                               | 131/324 [03:28<05:31,  1.72s/it]"
     ]
    },
    {
     "name": "stdout",
     "output_type": "stream",
     "text": [
      "***********Merge_df**********\n",
      "(201742, 656)\n",
      "Category of Column :  531\n"
     ]
    },
    {
     "name": "stderr",
     "output_type": "stream",
     "text": [
      "\r",
      " 41%|████████████████████████████████▌                                               | 132/324 [03:30<05:27,  1.70s/it]"
     ]
    },
    {
     "name": "stdout",
     "output_type": "stream",
     "text": [
      "***********Merge_df**********\n",
      "(201742, 661)\n",
      "Category of Column :  779\n"
     ]
    },
    {
     "name": "stderr",
     "output_type": "stream",
     "text": [
      "\r",
      " 41%|████████████████████████████████▊                                               | 133/324 [03:31<05:27,  1.71s/it]"
     ]
    },
    {
     "name": "stdout",
     "output_type": "stream",
     "text": [
      "***********Merge_df**********\n",
      "(201742, 666)\n",
      "Category of Column :  317\n"
     ]
    },
    {
     "name": "stderr",
     "output_type": "stream",
     "text": [
      "\r",
      " 41%|█████████████████████████████████                                               | 134/324 [03:33<05:32,  1.75s/it]"
     ]
    },
    {
     "name": "stdout",
     "output_type": "stream",
     "text": [
      "***********Merge_df**********\n",
      "(201746, 671)\n",
      "Category of Column :  438\n"
     ]
    },
    {
     "name": "stderr",
     "output_type": "stream",
     "text": [
      "\r",
      " 42%|█████████████████████████████████▎                                              | 135/324 [03:35<05:27,  1.74s/it]"
     ]
    },
    {
     "name": "stdout",
     "output_type": "stream",
     "text": [
      "***********Merge_df**********\n",
      "(201747, 676)\n",
      "Category of Column :  497\n"
     ]
    },
    {
     "name": "stderr",
     "output_type": "stream",
     "text": [
      "\r",
      " 42%|█████████████████████████████████▌                                              | 136/324 [03:36<05:24,  1.73s/it]"
     ]
    },
    {
     "name": "stdout",
     "output_type": "stream",
     "text": [
      "***********Merge_df**********\n",
      "(201747, 681)\n",
      "Category of Column :  498\n"
     ]
    },
    {
     "name": "stderr",
     "output_type": "stream",
     "text": [
      "\r",
      " 42%|█████████████████████████████████▊                                              | 137/324 [03:38<05:23,  1.73s/it]"
     ]
    },
    {
     "name": "stdout",
     "output_type": "stream",
     "text": [
      "***********Merge_df**********\n",
      "(201748, 686)\n",
      "Category of Column :  793\n"
     ]
    },
    {
     "name": "stderr",
     "output_type": "stream",
     "text": [
      "\r",
      " 43%|██████████████████████████████████                                              | 138/324 [03:40<05:27,  1.76s/it]"
     ]
    },
    {
     "name": "stdout",
     "output_type": "stream",
     "text": [
      "***********Merge_df**********\n",
      "(201749, 691)\n",
      "Category of Column :  2\n"
     ]
    },
    {
     "name": "stderr",
     "output_type": "stream",
     "text": [
      "\r",
      " 43%|██████████████████████████████████▎                                             | 139/324 [03:42<05:18,  1.72s/it]"
     ]
    },
    {
     "name": "stdout",
     "output_type": "stream",
     "text": [
      "***********Merge_df**********\n",
      "(201749, 696)\n",
      "Category of Column :  761\n"
     ]
    },
    {
     "name": "stderr",
     "output_type": "stream",
     "text": [
      "\r",
      " 43%|██████████████████████████████████▌                                             | 140/324 [03:43<05:18,  1.73s/it]"
     ]
    },
    {
     "name": "stdout",
     "output_type": "stream",
     "text": [
      "***********Merge_df**********\n",
      "(201749, 701)\n",
      "Category of Column :  836\n"
     ]
    },
    {
     "name": "stderr",
     "output_type": "stream",
     "text": [
      "\r",
      " 44%|██████████████████████████████████▊                                             | 141/324 [03:45<05:24,  1.78s/it]"
     ]
    },
    {
     "name": "stdout",
     "output_type": "stream",
     "text": [
      "***********Merge_df**********\n",
      "(201750, 706)\n",
      "Category of Column :  645\n"
     ]
    },
    {
     "name": "stderr",
     "output_type": "stream",
     "text": [
      "\r",
      " 44%|███████████████████████████████████                                             | 142/324 [03:47<05:25,  1.79s/it]"
     ]
    },
    {
     "name": "stdout",
     "output_type": "stream",
     "text": [
      "***********Merge_df**********\n",
      "(201751, 711)\n",
      "Category of Column :  471\n"
     ]
    },
    {
     "name": "stderr",
     "output_type": "stream",
     "text": [
      "\r",
      " 44%|███████████████████████████████████▎                                            | 143/324 [03:49<05:24,  1.79s/it]"
     ]
    },
    {
     "name": "stdout",
     "output_type": "stream",
     "text": [
      "***********Merge_df**********\n",
      "(201751, 716)\n",
      "Category of Column :  843\n"
     ]
    },
    {
     "name": "stderr",
     "output_type": "stream",
     "text": [
      "\r",
      " 44%|███████████████████████████████████▌                                            | 144/324 [03:51<05:22,  1.79s/it]"
     ]
    },
    {
     "name": "stdout",
     "output_type": "stream",
     "text": [
      "***********Merge_df**********\n",
      "(201751, 721)\n",
      "Category of Column :  181\n"
     ]
    },
    {
     "name": "stderr",
     "output_type": "stream",
     "text": [
      "\r",
      " 45%|███████████████████████████████████▊                                            | 145/324 [03:52<05:15,  1.76s/it]"
     ]
    },
    {
     "name": "stdout",
     "output_type": "stream",
     "text": [
      "***********Merge_df**********\n",
      "(201751, 726)\n",
      "Category of Column :  33\n"
     ]
    },
    {
     "name": "stderr",
     "output_type": "stream",
     "text": [
      "\r",
      " 45%|████████████████████████████████████                                            | 146/324 [03:54<05:13,  1.76s/it]"
     ]
    },
    {
     "name": "stdout",
     "output_type": "stream",
     "text": [
      "***********Merge_df**********\n",
      "(201752, 731)\n",
      "Category of Column :  398\n"
     ]
    },
    {
     "name": "stderr",
     "output_type": "stream",
     "text": [
      "\r",
      " 45%|████████████████████████████████████▎                                           | 147/324 [03:56<05:13,  1.77s/it]"
     ]
    },
    {
     "name": "stdout",
     "output_type": "stream",
     "text": [
      "***********Merge_df**********\n",
      "(201753, 736)\n",
      "Category of Column :  472\n"
     ]
    },
    {
     "name": "stderr",
     "output_type": "stream",
     "text": [
      "\r",
      " 46%|████████████████████████████████████▌                                           | 148/324 [03:58<05:18,  1.81s/it]"
     ]
    },
    {
     "name": "stdout",
     "output_type": "stream",
     "text": [
      "***********Merge_df**********\n",
      "(201754, 741)\n",
      "Category of Column :  16\n"
     ]
    },
    {
     "name": "stderr",
     "output_type": "stream",
     "text": [
      "\r",
      " 46%|████████████████████████████████████▊                                           | 149/324 [04:00<05:07,  1.76s/it]"
     ]
    },
    {
     "name": "stdout",
     "output_type": "stream",
     "text": [
      "***********Merge_df**********\n",
      "(201754, 746)\n",
      "Category of Column :  536\n"
     ]
    },
    {
     "name": "stderr",
     "output_type": "stream",
     "text": [
      "\r",
      " 46%|█████████████████████████████████████                                           | 150/324 [04:01<05:07,  1.77s/it]"
     ]
    },
    {
     "name": "stdout",
     "output_type": "stream",
     "text": [
      "***********Merge_df**********\n",
      "(201754, 751)\n",
      "Category of Column :  69\n"
     ]
    },
    {
     "name": "stderr",
     "output_type": "stream",
     "text": [
      "\r",
      " 47%|█████████████████████████████████████▎                                          | 151/324 [04:03<05:06,  1.77s/it]"
     ]
    },
    {
     "name": "stdout",
     "output_type": "stream",
     "text": [
      "***********Merge_df**********\n",
      "(201754, 756)\n",
      "Category of Column :  248\n"
     ]
    },
    {
     "name": "stderr",
     "output_type": "stream",
     "text": [
      "\r",
      " 47%|█████████████████████████████████████▌                                          | 152/324 [04:05<05:08,  1.79s/it]"
     ]
    },
    {
     "name": "stdout",
     "output_type": "stream",
     "text": [
      "***********Merge_df**********\n",
      "(201754, 761)\n",
      "Category of Column :  409\n"
     ]
    },
    {
     "name": "stderr",
     "output_type": "stream",
     "text": [
      "\r",
      " 47%|█████████████████████████████████████▊                                          | 153/324 [04:07<05:06,  1.79s/it]"
     ]
    },
    {
     "name": "stdout",
     "output_type": "stream",
     "text": [
      "***********Merge_df**********\n",
      "(201762, 766)\n",
      "Category of Column :  656\n"
     ]
    },
    {
     "name": "stderr",
     "output_type": "stream",
     "text": [
      "\r",
      " 48%|██████████████████████████████████████                                          | 154/324 [04:09<05:11,  1.83s/it]"
     ]
    },
    {
     "name": "stdout",
     "output_type": "stream",
     "text": [
      "***********Merge_df**********\n",
      "(201883, 771)\n",
      "Category of Column :  225\n"
     ]
    },
    {
     "name": "stderr",
     "output_type": "stream",
     "text": [
      "\r",
      " 48%|██████████████████████████████████████▎                                         | 155/324 [04:11<05:11,  1.84s/it]"
     ]
    },
    {
     "name": "stdout",
     "output_type": "stream",
     "text": [
      "***********Merge_df**********\n",
      "(201884, 776)\n",
      "Category of Column :  631\n"
     ]
    },
    {
     "name": "stderr",
     "output_type": "stream",
     "text": [
      "\r",
      " 48%|██████████████████████████████████████▌                                         | 156/324 [04:12<05:09,  1.84s/it]"
     ]
    },
    {
     "name": "stdout",
     "output_type": "stream",
     "text": [
      "***********Merge_df**********\n",
      "(201885, 781)\n",
      "Category of Column :  480\n"
     ]
    },
    {
     "name": "stderr",
     "output_type": "stream",
     "text": [
      "\r",
      " 48%|██████████████████████████████████████▊                                         | 157/324 [04:14<05:10,  1.86s/it]"
     ]
    },
    {
     "name": "stdout",
     "output_type": "stream",
     "text": [
      "***********Merge_df**********\n",
      "(201886, 786)\n",
      "Category of Column :  78\n"
     ]
    },
    {
     "name": "stderr",
     "output_type": "stream",
     "text": [
      "\r",
      " 49%|███████████████████████████████████████                                         | 158/324 [04:16<05:01,  1.82s/it]"
     ]
    },
    {
     "name": "stdout",
     "output_type": "stream",
     "text": [
      "***********Merge_df**********\n",
      "(201886, 791)\n",
      "Category of Column :  117\n"
     ]
    },
    {
     "name": "stderr",
     "output_type": "stream",
     "text": [
      "\r",
      " 49%|███████████████████████████████████████▎                                        | 159/324 [04:18<05:06,  1.86s/it]"
     ]
    },
    {
     "name": "stdout",
     "output_type": "stream",
     "text": [
      "***********Merge_df**********\n",
      "(201887, 796)\n",
      "Category of Column :  651\n"
     ]
    },
    {
     "name": "stderr",
     "output_type": "stream",
     "text": [
      "\r",
      " 49%|███████████████████████████████████████▌                                        | 160/324 [04:20<05:04,  1.86s/it]"
     ]
    },
    {
     "name": "stdout",
     "output_type": "stream",
     "text": [
      "***********Merge_df**********\n",
      "(201887, 801)\n",
      "Category of Column :  184\n"
     ]
    },
    {
     "name": "stderr",
     "output_type": "stream",
     "text": [
      "\r",
      " 50%|███████████████████████████████████████▊                                        | 161/324 [04:22<05:05,  1.88s/it]"
     ]
    },
    {
     "name": "stdout",
     "output_type": "stream",
     "text": [
      "***********Merge_df**********\n",
      "(201892, 806)\n",
      "Category of Column :  420\n"
     ]
    },
    {
     "name": "stderr",
     "output_type": "stream",
     "text": [
      "\r",
      " 50%|████████████████████████████████████████                                        | 162/324 [04:24<05:07,  1.90s/it]"
     ]
    },
    {
     "name": "stdout",
     "output_type": "stream",
     "text": [
      "***********Merge_df**********\n",
      "(201893, 811)\n",
      "Category of Column :  702\n"
     ]
    },
    {
     "name": "stderr",
     "output_type": "stream",
     "text": [
      "\r",
      " 50%|████████████████████████████████████████▏                                       | 163/324 [04:26<05:04,  1.89s/it]"
     ]
    },
    {
     "name": "stdout",
     "output_type": "stream",
     "text": [
      "***********Merge_df**********\n",
      "(201893, 816)\n",
      "Category of Column :  504\n"
     ]
    },
    {
     "name": "stderr",
     "output_type": "stream",
     "text": [
      "\r",
      " 51%|████████████████████████████████████████▍                                       | 164/324 [04:27<05:03,  1.89s/it]"
     ]
    },
    {
     "name": "stdout",
     "output_type": "stream",
     "text": [
      "***********Merge_df**********\n",
      "(201893, 821)\n",
      "Category of Column :  90\n"
     ]
    },
    {
     "name": "stderr",
     "output_type": "stream",
     "text": [
      "\r",
      " 51%|████████████████████████████████████████▋                                       | 165/324 [04:29<05:03,  1.91s/it]"
     ]
    },
    {
     "name": "stdout",
     "output_type": "stream",
     "text": [
      "***********Merge_df**********\n",
      "(201898, 826)\n",
      "Category of Column :  241\n"
     ]
    },
    {
     "name": "stderr",
     "output_type": "stream",
     "text": [
      "\r",
      " 51%|████████████████████████████████████████▉                                       | 166/324 [04:31<04:57,  1.88s/it]"
     ]
    },
    {
     "name": "stdout",
     "output_type": "stream",
     "text": [
      "***********Merge_df**********\n",
      "(201898, 831)\n",
      "Category of Column :  889\n"
     ]
    },
    {
     "name": "stderr",
     "output_type": "stream",
     "text": [
      "\r",
      " 52%|█████████████████████████████████████████▏                                      | 167/324 [04:33<04:53,  1.87s/it]"
     ]
    },
    {
     "name": "stdout",
     "output_type": "stream",
     "text": [
      "***********Merge_df**********\n",
      "(201898, 836)\n",
      "Category of Column :  400\n"
     ]
    },
    {
     "name": "stderr",
     "output_type": "stream",
     "text": [
      "\r",
      " 52%|█████████████████████████████████████████▍                                      | 168/324 [04:35<04:51,  1.87s/it]"
     ]
    },
    {
     "name": "stdout",
     "output_type": "stream",
     "text": [
      "***********Merge_df**********\n",
      "(201899, 841)\n",
      "Category of Column :  507\n"
     ]
    },
    {
     "name": "stderr",
     "output_type": "stream",
     "text": [
      "\r",
      " 52%|█████████████████████████████████████████▋                                      | 169/324 [04:37<04:50,  1.87s/it]"
     ]
    },
    {
     "name": "stdout",
     "output_type": "stream",
     "text": [
      "***********Merge_df**********\n",
      "(201899, 846)\n",
      "Category of Column :  224\n"
     ]
    },
    {
     "name": "stderr",
     "output_type": "stream",
     "text": [
      "\r",
      " 52%|█████████████████████████████████████████▉                                      | 170/324 [04:39<04:45,  1.85s/it]"
     ]
    },
    {
     "name": "stdout",
     "output_type": "stream",
     "text": [
      "***********Merge_df**********\n",
      "(201899, 851)\n",
      "Category of Column :  827\n"
     ]
    },
    {
     "name": "stderr",
     "output_type": "stream",
     "text": [
      "\r",
      " 53%|██████████████████████████████████████████▏                                     | 171/324 [04:40<04:43,  1.85s/it]"
     ]
    },
    {
     "name": "stdout",
     "output_type": "stream",
     "text": [
      "***********Merge_df**********\n",
      "(201899, 856)\n",
      "Category of Column :  534\n"
     ]
    },
    {
     "name": "stderr",
     "output_type": "stream",
     "text": [
      "\r",
      " 53%|██████████████████████████████████████████▍                                     | 172/324 [04:42<04:40,  1.85s/it]"
     ]
    },
    {
     "name": "stdout",
     "output_type": "stream",
     "text": [
      "***********Merge_df**********\n",
      "(201899, 861)\n",
      "Category of Column :  796\n"
     ]
    },
    {
     "name": "stderr",
     "output_type": "stream",
     "text": [
      "\r",
      " 53%|██████████████████████████████████████████▋                                     | 173/324 [04:44<04:45,  1.89s/it]"
     ]
    },
    {
     "name": "stdout",
     "output_type": "stream",
     "text": [
      "***********Merge_df**********\n",
      "(201900, 866)\n",
      "Category of Column :  357\n"
     ]
    },
    {
     "name": "stderr",
     "output_type": "stream",
     "text": [
      "\r",
      " 54%|██████████████████████████████████████████▉                                     | 174/324 [04:46<04:44,  1.90s/it]"
     ]
    },
    {
     "name": "stdout",
     "output_type": "stream",
     "text": [
      "***********Merge_df**********\n",
      "(201900, 871)\n",
      "Category of Column :  38\n"
     ]
    },
    {
     "name": "stderr",
     "output_type": "stream",
     "text": [
      "\r",
      " 54%|███████████████████████████████████████████▏                                    | 175/324 [04:48<04:38,  1.87s/it]"
     ]
    },
    {
     "name": "stdout",
     "output_type": "stream",
     "text": [
      "***********Merge_df**********\n",
      "(201900, 876)\n",
      "Category of Column :  823\n"
     ]
    },
    {
     "name": "stderr",
     "output_type": "stream",
     "text": [
      "\r",
      " 54%|███████████████████████████████████████████▍                                    | 176/324 [04:50<04:37,  1.87s/it]"
     ]
    },
    {
     "name": "stdout",
     "output_type": "stream",
     "text": [
      "***********Merge_df**********\n",
      "(201900, 881)\n",
      "Category of Column :  669\n"
     ]
    },
    {
     "name": "stderr",
     "output_type": "stream",
     "text": [
      "\r",
      " 55%|███████████████████████████████████████████▋                                    | 177/324 [04:52<04:35,  1.87s/it]"
     ]
    },
    {
     "name": "stdout",
     "output_type": "stream",
     "text": [
      "***********Merge_df**********\n",
      "(201900, 886)\n",
      "Category of Column :  115\n"
     ]
    },
    {
     "name": "stderr",
     "output_type": "stream",
     "text": [
      "\r",
      " 55%|███████████████████████████████████████████▉                                    | 178/324 [04:54<04:32,  1.86s/it]"
     ]
    },
    {
     "name": "stdout",
     "output_type": "stream",
     "text": [
      "***********Merge_df**********\n",
      "(201900, 891)\n",
      "Category of Column :  763\n"
     ]
    },
    {
     "name": "stderr",
     "output_type": "stream",
     "text": [
      "\r",
      " 55%|████████████████████████████████████████████▏                                   | 179/324 [04:56<04:36,  1.91s/it]"
     ]
    },
    {
     "name": "stdout",
     "output_type": "stream",
     "text": [
      "***********Merge_df**********\n",
      "(201901, 896)\n",
      "Category of Column :  396\n"
     ]
    },
    {
     "name": "stderr",
     "output_type": "stream",
     "text": [
      "\r",
      " 56%|████████████████████████████████████████████▍                                   | 180/324 [04:58<04:39,  1.94s/it]"
     ]
    },
    {
     "name": "stdout",
     "output_type": "stream",
     "text": [
      "***********Merge_df**********\n",
      "(201901, 901)\n",
      "Category of Column :  432\n"
     ]
    },
    {
     "name": "stderr",
     "output_type": "stream",
     "text": [
      "\r",
      " 56%|████████████████████████████████████████████▋                                   | 181/324 [05:00<04:37,  1.94s/it]"
     ]
    },
    {
     "name": "stdout",
     "output_type": "stream",
     "text": [
      "***********Merge_df**********\n",
      "(201901, 906)\n",
      "Category of Column :  215\n"
     ]
    },
    {
     "name": "stderr",
     "output_type": "stream",
     "text": [
      "\r",
      " 56%|████████████████████████████████████████████▉                                   | 182/324 [05:01<04:35,  1.94s/it]"
     ]
    },
    {
     "name": "stdout",
     "output_type": "stream",
     "text": [
      "***********Merge_df**********\n",
      "(201901, 911)\n",
      "Category of Column :  630\n"
     ]
    },
    {
     "name": "stderr",
     "output_type": "stream",
     "text": [
      "\r",
      " 56%|█████████████████████████████████████████████▏                                  | 183/324 [05:04<04:39,  1.98s/it]"
     ]
    },
    {
     "name": "stdout",
     "output_type": "stream",
     "text": [
      "***********Merge_df**********\n",
      "(201903, 916)\n",
      "Category of Column :  885\n"
     ]
    },
    {
     "name": "stderr",
     "output_type": "stream",
     "text": [
      "\r",
      " 57%|█████████████████████████████████████████████▍                                  | 184/324 [05:05<04:33,  1.96s/it]"
     ]
    },
    {
     "name": "stdout",
     "output_type": "stream",
     "text": [
      "***********Merge_df**********\n",
      "(201903, 921)\n",
      "Category of Column :  -1\n"
     ]
    },
    {
     "name": "stderr",
     "output_type": "stream",
     "text": [
      "\r",
      " 57%|█████████████████████████████████████████████▋                                  | 185/324 [05:07<04:29,  1.94s/it]"
     ]
    },
    {
     "name": "stdout",
     "output_type": "stream",
     "text": [
      "***********Merge_df**********\n",
      "(201903, 926)\n",
      "Category of Column :  385\n"
     ]
    },
    {
     "name": "stderr",
     "output_type": "stream",
     "text": [
      "\r",
      " 57%|█████████████████████████████████████████████▉                                  | 186/324 [05:09<04:34,  1.99s/it]"
     ]
    },
    {
     "name": "stdout",
     "output_type": "stream",
     "text": [
      "***********Merge_df**********\n",
      "(201908, 931)\n",
      "Category of Column :  312\n"
     ]
    },
    {
     "name": "stderr",
     "output_type": "stream",
     "text": [
      "\r",
      " 58%|██████████████████████████████████████████████▏                                 | 187/324 [05:11<04:33,  1.99s/it]"
     ]
    },
    {
     "name": "stdout",
     "output_type": "stream",
     "text": [
      "***********Merge_df**********\n",
      "(201908, 936)\n",
      "Category of Column :  417\n"
     ]
    },
    {
     "name": "stderr",
     "output_type": "stream",
     "text": [
      "\r",
      " 58%|██████████████████████████████████████████████▍                                 | 188/324 [05:13<04:30,  1.99s/it]"
     ]
    },
    {
     "name": "stdout",
     "output_type": "stream",
     "text": [
      "***********Merge_df**********\n",
      "(201908, 941)\n",
      "Category of Column :  854\n"
     ]
    },
    {
     "name": "stderr",
     "output_type": "stream",
     "text": [
      "\r",
      " 58%|██████████████████████████████████████████████▋                                 | 189/324 [05:15<04:29,  2.00s/it]"
     ]
    },
    {
     "name": "stdout",
     "output_type": "stream",
     "text": [
      "***********Merge_df**********\n",
      "(201908, 946)\n",
      "Category of Column :  267\n"
     ]
    },
    {
     "name": "stderr",
     "output_type": "stream",
     "text": [
      "\r",
      " 59%|██████████████████████████████████████████████▉                                 | 190/324 [05:17<04:24,  1.97s/it]"
     ]
    },
    {
     "name": "stdout",
     "output_type": "stream",
     "text": [
      "***********Merge_df**********\n",
      "(201908, 951)\n",
      "Category of Column :  873\n"
     ]
    },
    {
     "name": "stderr",
     "output_type": "stream",
     "text": [
      "\r",
      " 59%|███████████████████████████████████████████████▏                                | 191/324 [05:19<04:26,  2.00s/it]"
     ]
    },
    {
     "name": "stdout",
     "output_type": "stream",
     "text": [
      "***********Merge_df**********\n",
      "(201908, 956)\n",
      "Category of Column :  110\n"
     ]
    },
    {
     "name": "stderr",
     "output_type": "stream",
     "text": [
      "\r",
      " 59%|███████████████████████████████████████████████▍                                | 192/324 [05:21<04:23,  2.00s/it]"
     ]
    },
    {
     "name": "stdout",
     "output_type": "stream",
     "text": [
      "***********Merge_df**********\n",
      "(201908, 961)\n",
      "Category of Column :  223\n"
     ]
    },
    {
     "name": "stderr",
     "output_type": "stream",
     "text": [
      "\r",
      " 60%|███████████████████████████████████████████████▋                                | 193/324 [05:24<04:24,  2.02s/it]"
     ]
    },
    {
     "name": "stdout",
     "output_type": "stream",
     "text": [
      "***********Merge_df**********\n",
      "(201908, 966)\n",
      "Category of Column :  81\n"
     ]
    },
    {
     "name": "stderr",
     "output_type": "stream",
     "text": [
      "\r",
      " 60%|███████████████████████████████████████████████▉                                | 194/324 [05:25<04:16,  1.97s/it]"
     ]
    },
    {
     "name": "stdout",
     "output_type": "stream",
     "text": [
      "***********Merge_df**********\n",
      "(201908, 971)\n",
      "Category of Column :  478\n"
     ]
    },
    {
     "name": "stderr",
     "output_type": "stream",
     "text": [
      "\r",
      " 60%|████████████████████████████████████████████████▏                               | 195/324 [05:27<04:12,  1.96s/it]"
     ]
    },
    {
     "name": "stdout",
     "output_type": "stream",
     "text": [
      "***********Merge_df**********\n",
      "(201908, 976)\n",
      "Category of Column :  217\n"
     ]
    },
    {
     "name": "stderr",
     "output_type": "stream",
     "text": [
      "\r",
      " 60%|████████████████████████████████████████████████▍                               | 196/324 [05:29<04:13,  1.98s/it]"
     ]
    },
    {
     "name": "stdout",
     "output_type": "stream",
     "text": [
      "***********Merge_df**********\n",
      "(201914, 981)\n",
      "Category of Column :  652\n"
     ]
    },
    {
     "name": "stderr",
     "output_type": "stream",
     "text": [
      "\r",
      " 61%|████████████████████████████████████████████████▋                               | 197/324 [05:31<04:14,  2.01s/it]"
     ]
    },
    {
     "name": "stdout",
     "output_type": "stream",
     "text": [
      "***********Merge_df**********\n",
      "(201914, 986)\n",
      "Category of Column :  315\n"
     ]
    },
    {
     "name": "stderr",
     "output_type": "stream",
     "text": [
      "\r",
      " 61%|████████████████████████████████████████████████▉                               | 198/324 [05:33<04:11,  2.00s/it]"
     ]
    },
    {
     "name": "stdout",
     "output_type": "stream",
     "text": [
      "***********Merge_df**********\n",
      "(201914, 991)\n",
      "Category of Column :  71\n"
     ]
    },
    {
     "name": "stderr",
     "output_type": "stream",
     "text": [
      "\r",
      " 61%|█████████████████████████████████████████████████▏                              | 199/324 [05:35<04:04,  1.96s/it]"
     ]
    },
    {
     "name": "stdout",
     "output_type": "stream",
     "text": [
      "***********Merge_df**********\n",
      "(201914, 996)\n",
      "Category of Column :  276\n"
     ]
    },
    {
     "name": "stderr",
     "output_type": "stream",
     "text": [
      "\r",
      " 62%|█████████████████████████████████████████████████▍                              | 200/324 [05:37<04:05,  1.98s/it]"
     ]
    },
    {
     "name": "stdout",
     "output_type": "stream",
     "text": [
      "***********Merge_df**********\n",
      "(201914, 1001)\n",
      "Category of Column :  172\n"
     ]
    },
    {
     "name": "stderr",
     "output_type": "stream",
     "text": [
      "\r",
      " 62%|█████████████████████████████████████████████████▋                              | 201/324 [05:39<04:07,  2.01s/it]"
     ]
    },
    {
     "name": "stdout",
     "output_type": "stream",
     "text": [
      "***********Merge_df**********\n",
      "(201914, 1006)\n",
      "Category of Column :  568\n"
     ]
    },
    {
     "name": "stderr",
     "output_type": "stream",
     "text": [
      "\r",
      " 62%|█████████████████████████████████████████████████▉                              | 202/324 [05:41<04:07,  2.02s/it]"
     ]
    },
    {
     "name": "stdout",
     "output_type": "stream",
     "text": [
      "***********Merge_df**********\n",
      "(201914, 1011)\n",
      "Category of Column :  751\n"
     ]
    },
    {
     "name": "stderr",
     "output_type": "stream",
     "text": [
      "\r",
      " 63%|██████████████████████████████████████████████████                              | 203/324 [05:43<04:03,  2.01s/it]"
     ]
    },
    {
     "name": "stdout",
     "output_type": "stream",
     "text": [
      "***********Merge_df**********\n",
      "(201914, 1016)\n",
      "Category of Column :  57\n"
     ]
    },
    {
     "name": "stderr",
     "output_type": "stream",
     "text": [
      "\r",
      " 63%|██████████████████████████████████████████████████▎                             | 204/324 [05:45<03:57,  1.98s/it]"
     ]
    },
    {
     "name": "stdout",
     "output_type": "stream",
     "text": [
      "***********Merge_df**********\n",
      "(201914, 1021)\n",
      "Category of Column :  348\n"
     ]
    },
    {
     "name": "stderr",
     "output_type": "stream",
     "text": [
      "\r",
      " 63%|██████████████████████████████████████████████████▌                             | 205/324 [05:47<03:56,  1.99s/it]"
     ]
    },
    {
     "name": "stdout",
     "output_type": "stream",
     "text": [
      "***********Merge_df**********\n",
      "(201914, 1026)\n",
      "Category of Column :  781\n"
     ]
    },
    {
     "name": "stderr",
     "output_type": "stream",
     "text": [
      "\r",
      " 64%|██████████████████████████████████████████████████▊                             | 206/324 [05:49<03:57,  2.01s/it]"
     ]
    },
    {
     "name": "stdout",
     "output_type": "stream",
     "text": [
      "***********Merge_df**********\n",
      "(201914, 1031)\n",
      "Category of Column :  593\n"
     ]
    },
    {
     "name": "stderr",
     "output_type": "stream",
     "text": [
      "\r",
      " 64%|███████████████████████████████████████████████████                             | 207/324 [05:51<03:55,  2.01s/it]"
     ]
    },
    {
     "name": "stdout",
     "output_type": "stream",
     "text": [
      "***********Merge_df**********\n",
      "(201914, 1036)\n",
      "Category of Column :  474\n"
     ]
    },
    {
     "name": "stderr",
     "output_type": "stream",
     "text": [
      "\r",
      " 64%|███████████████████████████████████████████████████▎                            | 208/324 [05:54<03:56,  2.04s/it]"
     ]
    },
    {
     "name": "stdout",
     "output_type": "stream",
     "text": [
      "***********Merge_df**********\n",
      "(201914, 1041)\n",
      "Category of Column :  56\n"
     ]
    },
    {
     "name": "stderr",
     "output_type": "stream",
     "text": [
      "\r",
      " 65%|███████████████████████████████████████████████████▌                            | 209/324 [05:56<03:56,  2.06s/it]"
     ]
    },
    {
     "name": "stdout",
     "output_type": "stream",
     "text": [
      "***********Merge_df**********\n",
      "(201914, 1046)\n",
      "Category of Column :  157\n"
     ]
    },
    {
     "name": "stderr",
     "output_type": "stream",
     "text": [
      "\r",
      " 65%|███████████████████████████████████████████████████▊                            | 210/324 [05:58<03:52,  2.04s/it]"
     ]
    },
    {
     "name": "stdout",
     "output_type": "stream",
     "text": [
      "***********Merge_df**********\n",
      "(201914, 1051)\n",
      "Category of Column :  259\n"
     ]
    },
    {
     "name": "stderr",
     "output_type": "stream",
     "text": [
      "\r",
      " 65%|████████████████████████████████████████████████████                            | 211/324 [06:00<03:50,  2.04s/it]"
     ]
    },
    {
     "name": "stdout",
     "output_type": "stream",
     "text": [
      "***********Merge_df**********\n",
      "(201914, 1056)\n",
      "Category of Column :  342\n"
     ]
    },
    {
     "name": "stderr",
     "output_type": "stream",
     "text": [
      "\r",
      " 65%|████████████████████████████████████████████████████▎                           | 212/324 [06:02<03:49,  2.04s/it]"
     ]
    },
    {
     "name": "stdout",
     "output_type": "stream",
     "text": [
      "***********Merge_df**********\n",
      "(201914, 1061)\n",
      "Category of Column :  551\n"
     ]
    },
    {
     "name": "stderr",
     "output_type": "stream",
     "text": [
      "\r",
      " 66%|████████████████████████████████████████████████████▌                           | 213/324 [06:04<03:46,  2.04s/it]"
     ]
    },
    {
     "name": "stdout",
     "output_type": "stream",
     "text": [
      "***********Merge_df**********\n",
      "(201914, 1066)\n",
      "Category of Column :  696\n"
     ]
    },
    {
     "name": "stderr",
     "output_type": "stream",
     "text": [
      "\r",
      " 66%|████████████████████████████████████████████████████▊                           | 214/324 [06:06<03:44,  2.04s/it]"
     ]
    },
    {
     "name": "stdout",
     "output_type": "stream",
     "text": [
      "***********Merge_df**********\n",
      "(201914, 1071)\n",
      "Category of Column :  676\n"
     ]
    },
    {
     "name": "stderr",
     "output_type": "stream",
     "text": [
      "\r",
      " 66%|█████████████████████████████████████████████████████                           | 215/324 [06:08<03:42,  2.04s/it]"
     ]
    },
    {
     "name": "stdout",
     "output_type": "stream",
     "text": [
      "***********Merge_df**********\n",
      "(201914, 1076)\n",
      "Category of Column :  598\n"
     ]
    },
    {
     "name": "stderr",
     "output_type": "stream",
     "text": [
      "\r",
      " 67%|█████████████████████████████████████████████████████▎                          | 216/324 [06:10<03:39,  2.03s/it]"
     ]
    },
    {
     "name": "stdout",
     "output_type": "stream",
     "text": [
      "***********Merge_df**********\n",
      "(201914, 1081)\n",
      "Category of Column :  384\n"
     ]
    },
    {
     "name": "stderr",
     "output_type": "stream",
     "text": [
      "\r",
      " 67%|█████████████████████████████████████████████████████▌                          | 217/324 [06:12<03:40,  2.06s/it]"
     ]
    },
    {
     "name": "stdout",
     "output_type": "stream",
     "text": [
      "***********Merge_df**********\n",
      "(201914, 1086)\n",
      "Category of Column :  386\n"
     ]
    },
    {
     "name": "stderr",
     "output_type": "stream",
     "text": [
      "\r",
      " 67%|█████████████████████████████████████████████████████▊                          | 218/324 [06:14<03:38,  2.06s/it]"
     ]
    },
    {
     "name": "stdout",
     "output_type": "stream",
     "text": [
      "***********Merge_df**********\n",
      "(201914, 1091)\n",
      "Category of Column :  260\n"
     ]
    },
    {
     "name": "stderr",
     "output_type": "stream",
     "text": [
      "\r",
      " 68%|██████████████████████████████████████████████████████                          | 219/324 [06:16<03:35,  2.05s/it]"
     ]
    },
    {
     "name": "stdout",
     "output_type": "stream",
     "text": [
      "***********Merge_df**********\n",
      "(201914, 1096)\n",
      "Category of Column :  556\n"
     ]
    },
    {
     "name": "stderr",
     "output_type": "stream",
     "text": [
      "\r",
      " 68%|██████████████████████████████████████████████████████▎                         | 220/324 [06:18<03:36,  2.08s/it]"
     ]
    },
    {
     "name": "stdout",
     "output_type": "stream",
     "text": [
      "***********Merge_df**********\n",
      "(201914, 1101)\n",
      "Category of Column :  457\n"
     ]
    },
    {
     "name": "stderr",
     "output_type": "stream",
     "text": [
      "\r",
      " 68%|██████████████████████████████████████████████████████▌                         | 221/324 [06:20<03:32,  2.07s/it]"
     ]
    },
    {
     "name": "stdout",
     "output_type": "stream",
     "text": [
      "***********Merge_df**********\n",
      "(201914, 1106)\n",
      "Category of Column :  806\n"
     ]
    },
    {
     "name": "stderr",
     "output_type": "stream",
     "text": [
      "\r",
      " 69%|██████████████████████████████████████████████████████▊                         | 222/324 [06:23<03:47,  2.23s/it]"
     ]
    },
    {
     "name": "stdout",
     "output_type": "stream",
     "text": [
      "***********Merge_df**********\n",
      "(201914, 1111)\n",
      "Category of Column :  469\n"
     ]
    },
    {
     "name": "stderr",
     "output_type": "stream",
     "text": [
      "\r",
      " 69%|███████████████████████████████████████████████████████                         | 223/324 [06:25<03:42,  2.20s/it]"
     ]
    },
    {
     "name": "stdout",
     "output_type": "stream",
     "text": [
      "***********Merge_df**********\n",
      "(201914, 1116)\n",
      "Category of Column :  374\n"
     ]
    },
    {
     "name": "stderr",
     "output_type": "stream",
     "text": [
      "\r",
      " 69%|███████████████████████████████████████████████████████▎                        | 224/324 [06:27<03:35,  2.16s/it]"
     ]
    },
    {
     "name": "stdout",
     "output_type": "stream",
     "text": [
      "***********Merge_df**********\n",
      "(201914, 1121)\n",
      "Category of Column :  847\n"
     ]
    },
    {
     "name": "stderr",
     "output_type": "stream",
     "text": [
      "\r",
      " 69%|███████████████████████████████████████████████████████▌                        | 225/324 [06:29<03:31,  2.14s/it]"
     ]
    },
    {
     "name": "stdout",
     "output_type": "stream",
     "text": [
      "***********Merge_df**********\n",
      "(201914, 1126)\n",
      "Category of Column :  292\n"
     ]
    },
    {
     "name": "stderr",
     "output_type": "stream",
     "text": [
      "\r",
      " 70%|███████████████████████████████████████████████████████▊                        | 226/324 [06:31<03:30,  2.14s/it]"
     ]
    },
    {
     "name": "stdout",
     "output_type": "stream",
     "text": [
      "***********Merge_df**********\n",
      "(201914, 1131)\n",
      "Category of Column :  546\n"
     ]
    },
    {
     "name": "stderr",
     "output_type": "stream",
     "text": [
      "\r",
      " 70%|████████████████████████████████████████████████████████                        | 227/324 [06:33<03:28,  2.15s/it]"
     ]
    },
    {
     "name": "stdout",
     "output_type": "stream",
     "text": [
      "***********Merge_df**********\n",
      "(201914, 1136)\n",
      "Category of Column :  790\n"
     ]
    },
    {
     "name": "stderr",
     "output_type": "stream",
     "text": [
      "\r",
      " 70%|████████████████████████████████████████████████████████▎                       | 228/324 [06:36<03:25,  2.14s/it]"
     ]
    },
    {
     "name": "stdout",
     "output_type": "stream",
     "text": [
      "***********Merge_df**********\n",
      "(201914, 1141)\n",
      "Category of Column :  343\n"
     ]
    },
    {
     "name": "stderr",
     "output_type": "stream",
     "text": [
      "\r",
      " 71%|████████████████████████████████████████████████████████▌                       | 229/324 [06:38<03:22,  2.13s/it]"
     ]
    },
    {
     "name": "stdout",
     "output_type": "stream",
     "text": [
      "***********Merge_df**********\n",
      "(201914, 1146)\n",
      "Category of Column :  713\n"
     ]
    },
    {
     "name": "stderr",
     "output_type": "stream",
     "text": [
      "\r",
      " 71%|████████████████████████████████████████████████████████▊                       | 230/324 [06:40<03:19,  2.12s/it]"
     ]
    },
    {
     "name": "stdout",
     "output_type": "stream",
     "text": [
      "***********Merge_df**********\n",
      "(201914, 1151)\n",
      "Category of Column :  448\n"
     ]
    },
    {
     "name": "stderr",
     "output_type": "stream",
     "text": [
      "\r",
      " 71%|█████████████████████████████████████████████████████████                       | 231/324 [06:42<03:15,  2.11s/it]"
     ]
    },
    {
     "name": "stdout",
     "output_type": "stream",
     "text": [
      "***********Merge_df**********\n",
      "(201914, 1156)\n",
      "Category of Column :  685\n"
     ]
    },
    {
     "name": "stderr",
     "output_type": "stream",
     "text": [
      "\r",
      " 72%|█████████████████████████████████████████████████████████▎                      | 232/324 [06:44<03:14,  2.11s/it]"
     ]
    },
    {
     "name": "stdout",
     "output_type": "stream",
     "text": [
      "***********Merge_df**********\n",
      "(201914, 1161)\n",
      "Category of Column :  456\n"
     ]
    },
    {
     "name": "stderr",
     "output_type": "stream",
     "text": [
      "\r",
      " 72%|█████████████████████████████████████████████████████████▌                      | 233/324 [06:46<03:14,  2.13s/it]"
     ]
    },
    {
     "name": "stdout",
     "output_type": "stream",
     "text": [
      "***********Merge_df**********\n",
      "(201914, 1166)\n",
      "Category of Column :  613\n"
     ]
    },
    {
     "name": "stderr",
     "output_type": "stream",
     "text": [
      "\r",
      " 72%|█████████████████████████████████████████████████████████▊                      | 234/324 [06:48<03:10,  2.12s/it]"
     ]
    },
    {
     "name": "stdout",
     "output_type": "stream",
     "text": [
      "***********Merge_df**********\n",
      "(201914, 1171)\n",
      "Category of Column :  209\n"
     ]
    },
    {
     "name": "stderr",
     "output_type": "stream",
     "text": [
      "\r",
      " 73%|██████████████████████████████████████████████████████████                      | 235/324 [06:50<03:07,  2.11s/it]"
     ]
    },
    {
     "name": "stdout",
     "output_type": "stream",
     "text": [
      "***********Merge_df**********\n",
      "(201914, 1176)\n",
      "Category of Column :  814\n"
     ]
    },
    {
     "name": "stderr",
     "output_type": "stream",
     "text": [
      "\r",
      " 73%|██████████████████████████████████████████████████████████▎                     | 236/324 [06:52<03:07,  2.13s/it]"
     ]
    },
    {
     "name": "stdout",
     "output_type": "stream",
     "text": [
      "***********Merge_df**********\n",
      "(201914, 1181)\n",
      "Category of Column :  201\n"
     ]
    },
    {
     "name": "stderr",
     "output_type": "stream",
     "text": [
      "\r",
      " 73%|██████████████████████████████████████████████████████████▌                     | 237/324 [06:55<03:04,  2.12s/it]"
     ]
    },
    {
     "name": "stdout",
     "output_type": "stream",
     "text": [
      "***********Merge_df**********\n",
      "(201914, 1186)\n",
      "Category of Column :  819\n"
     ]
    },
    {
     "name": "stderr",
     "output_type": "stream",
     "text": [
      "\r",
      " 73%|██████████████████████████████████████████████████████████▊                     | 238/324 [06:57<03:02,  2.12s/it]"
     ]
    },
    {
     "name": "stdout",
     "output_type": "stream",
     "text": [
      "***********Merge_df**********\n",
      "(201914, 1191)\n",
      "Category of Column :  436\n"
     ]
    },
    {
     "name": "stderr",
     "output_type": "stream",
     "text": [
      "\r",
      " 74%|███████████████████████████████████████████████████████████                     | 239/324 [06:59<03:00,  2.12s/it]"
     ]
    },
    {
     "name": "stdout",
     "output_type": "stream",
     "text": [
      "***********Merge_df**********\n",
      "(201914, 1196)\n",
      "Category of Column :  803\n"
     ]
    },
    {
     "name": "stderr",
     "output_type": "stream",
     "text": [
      "\r",
      " 74%|███████████████████████████████████████████████████████████▎                    | 240/324 [07:01<02:58,  2.12s/it]"
     ]
    },
    {
     "name": "stdout",
     "output_type": "stream",
     "text": [
      "***********Merge_df**********\n",
      "(201914, 1201)\n",
      "Category of Column :  53\n"
     ]
    },
    {
     "name": "stderr",
     "output_type": "stream",
     "text": [
      "\r",
      " 74%|███████████████████████████████████████████████████████████▌                    | 241/324 [07:03<02:56,  2.13s/it]"
     ]
    },
    {
     "name": "stdout",
     "output_type": "stream",
     "text": [
      "***********Merge_df**********\n",
      "(201915, 1206)\n",
      "Category of Column :  509\n"
     ]
    },
    {
     "name": "stderr",
     "output_type": "stream",
     "text": [
      "\r",
      " 75%|███████████████████████████████████████████████████████████▊                    | 242/324 [07:05<02:55,  2.15s/it]"
     ]
    },
    {
     "name": "stdout",
     "output_type": "stream",
     "text": [
      "***********Merge_df**********\n",
      "(201916, 1211)\n",
      "Category of Column :  591\n"
     ]
    },
    {
     "name": "stderr",
     "output_type": "stream",
     "text": [
      "\r",
      " 75%|████████████████████████████████████████████████████████████                    | 243/324 [07:07<02:55,  2.16s/it]"
     ]
    },
    {
     "name": "stdout",
     "output_type": "stream",
     "text": [
      "***********Merge_df**********\n",
      "(201916, 1216)\n",
      "Category of Column :  119\n"
     ]
    },
    {
     "name": "stderr",
     "output_type": "stream",
     "text": [
      "\r",
      " 75%|████████████████████████████████████████████████████████████▏                   | 244/324 [07:10<02:52,  2.15s/it]"
     ]
    },
    {
     "name": "stdout",
     "output_type": "stream",
     "text": [
      "***********Merge_df**********\n",
      "(201916, 1221)\n",
      "Category of Column :  416\n"
     ]
    },
    {
     "name": "stderr",
     "output_type": "stream",
     "text": [
      "\r",
      " 76%|████████████████████████████████████████████████████████████▍                   | 245/324 [07:12<02:52,  2.18s/it]"
     ]
    },
    {
     "name": "stdout",
     "output_type": "stream",
     "text": [
      "***********Merge_df**********\n",
      "(201917, 1226)\n",
      "Category of Column :  192\n"
     ]
    },
    {
     "name": "stderr",
     "output_type": "stream",
     "text": [
      "\r",
      " 76%|████████████████████████████████████████████████████████████▋                   | 246/324 [07:14<02:49,  2.17s/it]"
     ]
    },
    {
     "name": "stdout",
     "output_type": "stream",
     "text": [
      "***********Merge_df**********\n",
      "(201917, 1231)\n",
      "Category of Column :  265\n"
     ]
    },
    {
     "name": "stderr",
     "output_type": "stream",
     "text": [
      "\r",
      " 76%|████████████████████████████████████████████████████████████▉                   | 247/324 [07:16<02:46,  2.16s/it]"
     ]
    },
    {
     "name": "stdout",
     "output_type": "stream",
     "text": [
      "***********Merge_df**********\n",
      "(201917, 1236)\n",
      "Category of Column :  198\n"
     ]
    },
    {
     "name": "stderr",
     "output_type": "stream",
     "text": [
      "\r",
      " 77%|█████████████████████████████████████████████████████████████▏                  | 248/324 [07:18<02:46,  2.19s/it]"
     ]
    },
    {
     "name": "stdout",
     "output_type": "stream",
     "text": [
      "***********Merge_df**********\n",
      "(201917, 1241)\n",
      "Category of Column :  648\n"
     ]
    },
    {
     "name": "stderr",
     "output_type": "stream",
     "text": [
      "\r",
      " 77%|█████████████████████████████████████████████████████████████▍                  | 249/324 [07:21<02:44,  2.19s/it]"
     ]
    },
    {
     "name": "stdout",
     "output_type": "stream",
     "text": [
      "***********Merge_df**********\n",
      "(201917, 1246)\n",
      "Category of Column :  245\n"
     ]
    },
    {
     "name": "stderr",
     "output_type": "stream",
     "text": [
      "\r",
      " 77%|█████████████████████████████████████████████████████████████▋                  | 250/324 [07:23<02:43,  2.22s/it]"
     ]
    },
    {
     "name": "stdout",
     "output_type": "stream",
     "text": [
      "***********Merge_df**********\n",
      "(201917, 1251)\n",
      "Category of Column :  101\n"
     ]
    },
    {
     "name": "stderr",
     "output_type": "stream",
     "text": [
      "\r",
      " 77%|█████████████████████████████████████████████████████████████▉                  | 251/324 [07:25<02:40,  2.19s/it]"
     ]
    },
    {
     "name": "stdout",
     "output_type": "stream",
     "text": [
      "***********Merge_df**********\n",
      "(201917, 1256)\n",
      "Category of Column :  757\n"
     ]
    },
    {
     "name": "stderr",
     "output_type": "stream",
     "text": [
      "\r",
      " 78%|██████████████████████████████████████████████████████████████▏                 | 252/324 [07:27<02:38,  2.20s/it]"
     ]
    },
    {
     "name": "stdout",
     "output_type": "stream",
     "text": [
      "***********Merge_df**********\n",
      "(201917, 1261)\n",
      "Category of Column :  653\n"
     ]
    },
    {
     "name": "stderr",
     "output_type": "stream",
     "text": [
      "\r",
      " 78%|██████████████████████████████████████████████████████████████▍                 | 253/324 [07:29<02:35,  2.19s/it]"
     ]
    },
    {
     "name": "stdout",
     "output_type": "stream",
     "text": [
      "***********Merge_df**********\n",
      "(201917, 1266)\n",
      "Category of Column :  808\n"
     ]
    },
    {
     "name": "stderr",
     "output_type": "stream",
     "text": [
      "\r",
      " 78%|██████████████████████████████████████████████████████████████▋                 | 254/324 [07:32<02:32,  2.18s/it]"
     ]
    },
    {
     "name": "stdout",
     "output_type": "stream",
     "text": [
      "***********Merge_df**********\n",
      "(201917, 1271)\n",
      "Category of Column :  430\n"
     ]
    },
    {
     "name": "stderr",
     "output_type": "stream",
     "text": [
      "\r",
      " 79%|██████████████████████████████████████████████████████████████▉                 | 255/324 [07:34<02:31,  2.20s/it]"
     ]
    },
    {
     "name": "stdout",
     "output_type": "stream",
     "text": [
      "***********Merge_df**********\n",
      "(201917, 1276)\n",
      "Category of Column :  513\n"
     ]
    },
    {
     "name": "stderr",
     "output_type": "stream",
     "text": [
      "\r",
      " 79%|███████████████████████████████████████████████████████████████▏                | 256/324 [07:36<02:31,  2.22s/it]"
     ]
    },
    {
     "name": "stdout",
     "output_type": "stream",
     "text": [
      "***********Merge_df**********\n",
      "(201917, 1281)\n",
      "Category of Column :  261\n"
     ]
    },
    {
     "name": "stderr",
     "output_type": "stream",
     "text": [
      "\r",
      " 79%|███████████████████████████████████████████████████████████████▍                | 257/324 [07:38<02:28,  2.22s/it]"
     ]
    },
    {
     "name": "stdout",
     "output_type": "stream",
     "text": [
      "***********Merge_df**********\n",
      "(201917, 1286)\n",
      "Category of Column :  351\n"
     ]
    },
    {
     "name": "stderr",
     "output_type": "stream",
     "text": [
      "\r",
      " 80%|███████████████████████████████████████████████████████████████▋                | 258/324 [07:41<02:27,  2.24s/it]"
     ]
    },
    {
     "name": "stdout",
     "output_type": "stream",
     "text": [
      "***********Merge_df**********\n",
      "(201917, 1291)\n",
      "Category of Column :  52\n"
     ]
    },
    {
     "name": "stderr",
     "output_type": "stream",
     "text": [
      "\r",
      " 80%|███████████████████████████████████████████████████████████████▉                | 259/324 [07:43<02:23,  2.20s/it]"
     ]
    },
    {
     "name": "stdout",
     "output_type": "stream",
     "text": [
      "***********Merge_df**********\n",
      "(201917, 1296)\n",
      "Category of Column :  712\n"
     ]
    },
    {
     "name": "stderr",
     "output_type": "stream",
     "text": [
      "\r",
      " 80%|████████████████████████████████████████████████████████████████▏               | 260/324 [07:45<02:21,  2.21s/it]"
     ]
    },
    {
     "name": "stdout",
     "output_type": "stream",
     "text": [
      "***********Merge_df**********\n",
      "(201917, 1301)\n",
      "Category of Column :  182\n"
     ]
    },
    {
     "name": "stderr",
     "output_type": "stream",
     "text": [
      "\r",
      " 81%|████████████████████████████████████████████████████████████████▍               | 261/324 [07:47<02:19,  2.21s/it]"
     ]
    },
    {
     "name": "stdout",
     "output_type": "stream",
     "text": [
      "***********Merge_df**********\n",
      "(201917, 1306)\n",
      "Category of Column :  817\n"
     ]
    },
    {
     "name": "stderr",
     "output_type": "stream",
     "text": [
      "\r",
      " 81%|████████████████████████████████████████████████████████████████▋               | 262/324 [07:49<02:17,  2.22s/it]"
     ]
    },
    {
     "name": "stdout",
     "output_type": "stream",
     "text": [
      "***********Merge_df**********\n",
      "(201917, 1311)\n",
      "Category of Column :  109\n"
     ]
    },
    {
     "name": "stderr",
     "output_type": "stream",
     "text": [
      "\r",
      " 81%|████████████████████████████████████████████████████████████████▉               | 263/324 [07:52<02:15,  2.22s/it]"
     ]
    },
    {
     "name": "stdout",
     "output_type": "stream",
     "text": [
      "***********Merge_df**********\n",
      "(201917, 1316)\n",
      "Category of Column :  187\n"
     ]
    },
    {
     "name": "stderr",
     "output_type": "stream",
     "text": [
      "\r",
      " 81%|█████████████████████████████████████████████████████████████████▏              | 264/324 [07:54<02:14,  2.24s/it]"
     ]
    },
    {
     "name": "stdout",
     "output_type": "stream",
     "text": [
      "***********Merge_df**********\n",
      "(201917, 1321)\n",
      "Category of Column :  878\n"
     ]
    },
    {
     "name": "stderr",
     "output_type": "stream",
     "text": [
      "\r",
      " 82%|█████████████████████████████████████████████████████████████████▍              | 265/324 [07:56<02:11,  2.23s/it]"
     ]
    },
    {
     "name": "stdout",
     "output_type": "stream",
     "text": [
      "***********Merge_df**********\n",
      "(201917, 1326)\n",
      "Category of Column :  583\n"
     ]
    },
    {
     "name": "stderr",
     "output_type": "stream",
     "text": [
      "\r",
      " 82%|█████████████████████████████████████████████████████████████████▋              | 266/324 [07:58<02:09,  2.24s/it]"
     ]
    },
    {
     "name": "stdout",
     "output_type": "stream",
     "text": [
      "***********Merge_df**********\n",
      "(201917, 1331)\n",
      "Category of Column :  355\n"
     ]
    },
    {
     "name": "stderr",
     "output_type": "stream",
     "text": [
      "\r",
      " 82%|█████████████████████████████████████████████████████████████████▉              | 267/324 [08:01<02:07,  2.24s/it]"
     ]
    },
    {
     "name": "stdout",
     "output_type": "stream",
     "text": [
      "***********Merge_df**********\n",
      "(201917, 1336)\n",
      "Category of Column :  599\n"
     ]
    },
    {
     "name": "stderr",
     "output_type": "stream",
     "text": [
      "\r",
      " 83%|██████████████████████████████████████████████████████████████████▏             | 268/324 [08:03<02:05,  2.23s/it]"
     ]
    },
    {
     "name": "stdout",
     "output_type": "stream",
     "text": [
      "***********Merge_df**********\n",
      "(201917, 1341)\n",
      "Category of Column :  83\n"
     ]
    },
    {
     "name": "stderr",
     "output_type": "stream",
     "text": [
      "\r",
      " 83%|██████████████████████████████████████████████████████████████████▍             | 269/324 [08:05<02:02,  2.23s/it]"
     ]
    },
    {
     "name": "stdout",
     "output_type": "stream",
     "text": [
      "***********Merge_df**********\n",
      "(201917, 1346)\n",
      "Category of Column :  162\n"
     ]
    },
    {
     "name": "stderr",
     "output_type": "stream",
     "text": [
      "\r",
      " 83%|██████████████████████████████████████████████████████████████████▋             | 270/324 [08:07<02:01,  2.25s/it]"
     ]
    },
    {
     "name": "stdout",
     "output_type": "stream",
     "text": [
      "***********Merge_df**********\n",
      "(201917, 1351)\n",
      "Category of Column :  247\n"
     ]
    },
    {
     "name": "stderr",
     "output_type": "stream",
     "text": [
      "\r",
      " 84%|██████████████████████████████████████████████████████████████████▉             | 271/324 [08:10<02:00,  2.27s/it]"
     ]
    },
    {
     "name": "stdout",
     "output_type": "stream",
     "text": [
      "***********Merge_df**********\n",
      "(201917, 1356)\n",
      "Category of Column :  358\n"
     ]
    },
    {
     "name": "stderr",
     "output_type": "stream",
     "text": [
      "\r",
      " 84%|███████████████████████████████████████████████████████████████████▏            | 272/324 [08:12<01:59,  2.30s/it]"
     ]
    },
    {
     "name": "stdout",
     "output_type": "stream",
     "text": [
      "***********Merge_df**********\n",
      "(201917, 1361)\n",
      "Category of Column :  662\n"
     ]
    },
    {
     "name": "stderr",
     "output_type": "stream",
     "text": [
      "\r",
      " 84%|███████████████████████████████████████████████████████████████████▍            | 273/324 [08:14<01:57,  2.30s/it]"
     ]
    },
    {
     "name": "stdout",
     "output_type": "stream",
     "text": [
      "***********Merge_df**********\n",
      "(201917, 1366)\n",
      "Category of Column :  421\n"
     ]
    },
    {
     "name": "stderr",
     "output_type": "stream",
     "text": [
      "\r",
      " 85%|███████████████████████████████████████████████████████████████████▋            | 274/324 [08:17<01:53,  2.28s/it]"
     ]
    },
    {
     "name": "stdout",
     "output_type": "stream",
     "text": [
      "***********Merge_df**********\n",
      "(201917, 1371)\n",
      "Category of Column :  381\n"
     ]
    },
    {
     "name": "stderr",
     "output_type": "stream",
     "text": [
      "\r",
      " 85%|███████████████████████████████████████████████████████████████████▉            | 275/324 [08:19<01:53,  2.31s/it]"
     ]
    },
    {
     "name": "stdout",
     "output_type": "stream",
     "text": [
      "***********Merge_df**********\n",
      "(201917, 1376)\n",
      "Category of Column :  881\n"
     ]
    },
    {
     "name": "stderr",
     "output_type": "stream",
     "text": [
      "\r",
      " 85%|████████████████████████████████████████████████████████████████████▏           | 276/324 [08:21<01:50,  2.29s/it]"
     ]
    },
    {
     "name": "stdout",
     "output_type": "stream",
     "text": [
      "***********Merge_df**********\n",
      "(201917, 1381)\n",
      "Category of Column :  717\n"
     ]
    },
    {
     "name": "stderr",
     "output_type": "stream",
     "text": [
      "\r",
      " 85%|████████████████████████████████████████████████████████████████████▍           | 277/324 [08:24<01:49,  2.32s/it]"
     ]
    },
    {
     "name": "stdout",
     "output_type": "stream",
     "text": [
      "***********Merge_df**********\n",
      "(201917, 1386)\n",
      "Category of Column :  482\n"
     ]
    },
    {
     "name": "stderr",
     "output_type": "stream",
     "text": [
      "\r",
      " 86%|████████████████████████████████████████████████████████████████████▋           | 278/324 [08:26<01:47,  2.33s/it]"
     ]
    },
    {
     "name": "stdout",
     "output_type": "stream",
     "text": [
      "***********Merge_df**********\n",
      "(201917, 1391)\n",
      "Category of Column :  714\n"
     ]
    },
    {
     "name": "stderr",
     "output_type": "stream",
     "text": [
      "\r",
      " 86%|████████████████████████████████████████████████████████████████████▉           | 279/324 [08:28<01:44,  2.33s/it]"
     ]
    },
    {
     "name": "stdout",
     "output_type": "stream",
     "text": [
      "***********Merge_df**********\n",
      "(201917, 1396)\n",
      "Category of Column :  686\n"
     ]
    },
    {
     "name": "stderr",
     "output_type": "stream",
     "text": [
      "\r",
      " 86%|█████████████████████████████████████████████████████████████████████▏          | 280/324 [08:31<01:42,  2.33s/it]"
     ]
    },
    {
     "name": "stdout",
     "output_type": "stream",
     "text": [
      "***********Merge_df**********\n",
      "(201917, 1401)\n",
      "Category of Column :  140\n"
     ]
    },
    {
     "name": "stderr",
     "output_type": "stream",
     "text": [
      "\r",
      " 87%|█████████████████████████████████████████████████████████████████████▍          | 281/324 [08:33<01:39,  2.32s/it]"
     ]
    },
    {
     "name": "stdout",
     "output_type": "stream",
     "text": [
      "***********Merge_df**********\n",
      "(201917, 1406)\n",
      "Category of Column :  530\n"
     ]
    },
    {
     "name": "stderr",
     "output_type": "stream",
     "text": [
      "\r",
      " 87%|█████████████████████████████████████████████████████████████████████▋          | 282/324 [08:35<01:37,  2.31s/it]"
     ]
    },
    {
     "name": "stdout",
     "output_type": "stream",
     "text": [
      "***********Merge_df**********\n",
      "(201917, 1411)\n",
      "Category of Column :  743\n"
     ]
    },
    {
     "name": "stderr",
     "output_type": "stream",
     "text": [
      "\r",
      " 87%|█████████████████████████████████████████████████████████████████████▉          | 283/324 [08:38<01:36,  2.35s/it]"
     ]
    },
    {
     "name": "stdout",
     "output_type": "stream",
     "text": [
      "***********Merge_df**********\n",
      "(201917, 1416)\n",
      "Category of Column :  668\n"
     ]
    },
    {
     "name": "stderr",
     "output_type": "stream",
     "text": [
      "\r",
      " 88%|██████████████████████████████████████████████████████████████████████          | 284/324 [08:40<01:33,  2.34s/it]"
     ]
    },
    {
     "name": "stdout",
     "output_type": "stream",
     "text": [
      "***********Merge_df**********\n",
      "(201917, 1421)\n",
      "Category of Column :  190\n"
     ]
    },
    {
     "name": "stderr",
     "output_type": "stream",
     "text": [
      "\r",
      " 88%|██████████████████████████████████████████████████████████████████████▎         | 285/324 [08:42<01:31,  2.34s/it]"
     ]
    },
    {
     "name": "stdout",
     "output_type": "stream",
     "text": [
      "***********Merge_df**********\n",
      "(201917, 1426)\n",
      "Category of Column :  334\n"
     ]
    },
    {
     "name": "stderr",
     "output_type": "stream",
     "text": [
      "\r",
      " 88%|██████████████████████████████████████████████████████████████████████▌         | 286/324 [08:45<01:29,  2.36s/it]"
     ]
    },
    {
     "name": "stdout",
     "output_type": "stream",
     "text": [
      "***********Merge_df**********\n",
      "(201917, 1431)\n",
      "Category of Column :  11\n"
     ]
    },
    {
     "name": "stderr",
     "output_type": "stream",
     "text": [
      "\r",
      " 89%|██████████████████████████████████████████████████████████████████████▊         | 287/324 [08:47<01:26,  2.35s/it]"
     ]
    },
    {
     "name": "stdout",
     "output_type": "stream",
     "text": [
      "***********Merge_df**********\n",
      "(201917, 1436)\n",
      "Category of Column :  183\n"
     ]
    },
    {
     "name": "stderr",
     "output_type": "stream",
     "text": [
      "\r",
      " 89%|███████████████████████████████████████████████████████████████████████         | 288/324 [08:49<01:25,  2.37s/it]"
     ]
    },
    {
     "name": "stdout",
     "output_type": "stream",
     "text": [
      "***********Merge_df**********\n",
      "(201917, 1441)\n",
      "Category of Column :  141\n"
     ]
    },
    {
     "name": "stderr",
     "output_type": "stream",
     "text": [
      "\r",
      " 89%|███████████████████████████████████████████████████████████████████████▎        | 289/324 [08:52<01:23,  2.39s/it]"
     ]
    },
    {
     "name": "stdout",
     "output_type": "stream",
     "text": [
      "***********Merge_df**********\n",
      "(201917, 1446)\n",
      "Category of Column :  587\n"
     ]
    },
    {
     "name": "stderr",
     "output_type": "stream",
     "text": [
      "\r",
      " 90%|███████████████████████████████████████████████████████████████████████▌        | 290/324 [08:54<01:21,  2.39s/it]"
     ]
    },
    {
     "name": "stdout",
     "output_type": "stream",
     "text": [
      "***********Merge_df**********\n",
      "(201917, 1451)\n",
      "Category of Column :  805\n"
     ]
    },
    {
     "name": "stderr",
     "output_type": "stream",
     "text": [
      "\r",
      " 90%|███████████████████████████████████████████████████████████████████████▊        | 291/324 [08:57<01:18,  2.38s/it]"
     ]
    },
    {
     "name": "stdout",
     "output_type": "stream",
     "text": [
      "***********Merge_df**********\n",
      "(201917, 1456)\n",
      "Category of Column :  131\n"
     ]
    },
    {
     "name": "stderr",
     "output_type": "stream",
     "text": [
      "\r",
      " 90%|████████████████████████████████████████████████████████████████████████        | 292/324 [08:59<01:15,  2.37s/it]"
     ]
    },
    {
     "name": "stdout",
     "output_type": "stream",
     "text": [
      "***********Merge_df**********\n",
      "(201917, 1461)\n",
      "Category of Column :  464\n"
     ]
    },
    {
     "name": "stderr",
     "output_type": "stream",
     "text": [
      "\r",
      " 90%|████████████████████████████████████████████████████████████████████████▎       | 293/324 [09:01<01:13,  2.36s/it]"
     ]
    },
    {
     "name": "stdout",
     "output_type": "stream",
     "text": [
      "***********Merge_df**********\n",
      "(201917, 1466)\n",
      "Category of Column :  580\n"
     ]
    },
    {
     "name": "stderr",
     "output_type": "stream",
     "text": [
      "\r",
      " 91%|████████████████████████████████████████████████████████████████████████▌       | 294/324 [09:04<01:10,  2.36s/it]"
     ]
    },
    {
     "name": "stdout",
     "output_type": "stream",
     "text": [
      "***********Merge_df**********\n",
      "(201917, 1471)\n",
      "Category of Column :  393\n"
     ]
    },
    {
     "name": "stderr",
     "output_type": "stream",
     "text": [
      "\r",
      " 91%|████████████████████████████████████████████████████████████████████████▊       | 295/324 [09:06<01:08,  2.36s/it]"
     ]
    },
    {
     "name": "stdout",
     "output_type": "stream",
     "text": [
      "***********Merge_df**********\n",
      "(201917, 1476)\n",
      "Category of Column :  27\n"
     ]
    },
    {
     "name": "stderr",
     "output_type": "stream",
     "text": [
      "\r",
      " 91%|█████████████████████████████████████████████████████████████████████████       | 296/324 [09:08<01:05,  2.35s/it]"
     ]
    },
    {
     "name": "stdout",
     "output_type": "stream",
     "text": [
      "***********Merge_df**********\n",
      "(201917, 1481)\n",
      "Category of Column :  628\n"
     ]
    },
    {
     "name": "stderr",
     "output_type": "stream",
     "text": [
      "\r",
      " 92%|█████████████████████████████████████████████████████████████████████████▎      | 297/324 [09:11<01:03,  2.36s/it]"
     ]
    },
    {
     "name": "stdout",
     "output_type": "stream",
     "text": [
      "***********Merge_df**********\n",
      "(201917, 1486)\n",
      "Category of Column :  311\n"
     ]
    },
    {
     "name": "stderr",
     "output_type": "stream",
     "text": [
      "\r",
      " 92%|█████████████████████████████████████████████████████████████████████████▌      | 298/324 [09:13<01:01,  2.36s/it]"
     ]
    },
    {
     "name": "stdout",
     "output_type": "stream",
     "text": [
      "***********Merge_df**********\n",
      "(201917, 1491)\n",
      "Category of Column :  345\n"
     ]
    },
    {
     "name": "stderr",
     "output_type": "stream",
     "text": [
      "\r",
      " 92%|█████████████████████████████████████████████████████████████████████████▊      | 299/324 [09:15<00:59,  2.37s/it]"
     ]
    },
    {
     "name": "stdout",
     "output_type": "stream",
     "text": [
      "***********Merge_df**********\n",
      "(201917, 1496)\n",
      "Category of Column :  780\n"
     ]
    },
    {
     "name": "stderr",
     "output_type": "stream",
     "text": [
      "\r",
      " 93%|██████████████████████████████████████████████████████████████████████████      | 300/324 [09:18<00:57,  2.41s/it]"
     ]
    },
    {
     "name": "stdout",
     "output_type": "stream",
     "text": [
      "***********Merge_df**********\n",
      "(201917, 1501)\n",
      "Category of Column :  268\n"
     ]
    },
    {
     "name": "stderr",
     "output_type": "stream",
     "text": [
      "\r",
      " 93%|██████████████████████████████████████████████████████████████████████████▎     | 301/324 [09:20<00:55,  2.42s/it]"
     ]
    },
    {
     "name": "stdout",
     "output_type": "stream",
     "text": [
      "***********Merge_df**********\n",
      "(201917, 1506)\n",
      "Category of Column :  49\n"
     ]
    },
    {
     "name": "stderr",
     "output_type": "stream",
     "text": [
      "\r",
      " 93%|██████████████████████████████████████████████████████████████████████████▌     | 302/324 [09:23<00:53,  2.44s/it]"
     ]
    },
    {
     "name": "stdout",
     "output_type": "stream",
     "text": [
      "***********Merge_df**********\n",
      "(201917, 1511)\n",
      "Category of Column :  664\n"
     ]
    },
    {
     "name": "stderr",
     "output_type": "stream",
     "text": [
      "\r",
      " 94%|██████████████████████████████████████████████████████████████████████████▊     | 303/324 [09:25<00:50,  2.42s/it]"
     ]
    },
    {
     "name": "stdout",
     "output_type": "stream",
     "text": [
      "***********Merge_df**********\n",
      "(201917, 1516)\n",
      "Category of Column :  542\n"
     ]
    },
    {
     "name": "stderr",
     "output_type": "stream",
     "text": [
      "\r",
      " 94%|███████████████████████████████████████████████████████████████████████████     | 304/324 [09:28<00:48,  2.44s/it]"
     ]
    },
    {
     "name": "stdout",
     "output_type": "stream",
     "text": [
      "***********Merge_df**********\n",
      "(201917, 1521)\n",
      "Category of Column :  601\n"
     ]
    },
    {
     "name": "stderr",
     "output_type": "stream",
     "text": [
      "\r",
      " 94%|███████████████████████████████████████████████████████████████████████████▎    | 305/324 [09:30<00:46,  2.44s/it]"
     ]
    },
    {
     "name": "stdout",
     "output_type": "stream",
     "text": [
      "***********Merge_df**********\n",
      "(201917, 1526)\n",
      "Category of Column :  226\n"
     ]
    },
    {
     "name": "stderr",
     "output_type": "stream",
     "text": [
      "\r",
      " 94%|███████████████████████████████████████████████████████████████████████████▌    | 306/324 [09:33<00:43,  2.44s/it]"
     ]
    },
    {
     "name": "stdout",
     "output_type": "stream",
     "text": [
      "***********Merge_df**********\n",
      "(201917, 1531)\n",
      "Category of Column :  31\n"
     ]
    },
    {
     "name": "stderr",
     "output_type": "stream",
     "text": [
      "\r",
      " 95%|███████████████████████████████████████████████████████████████████████████▊    | 307/324 [09:35<00:40,  2.41s/it]"
     ]
    },
    {
     "name": "stdout",
     "output_type": "stream",
     "text": [
      "***********Merge_df**********\n",
      "(201917, 1536)\n",
      "Category of Column :  634\n"
     ]
    },
    {
     "name": "stderr",
     "output_type": "stream",
     "text": [
      "\r",
      " 95%|████████████████████████████████████████████████████████████████████████████    | 308/324 [09:37<00:38,  2.42s/it]"
     ]
    },
    {
     "name": "stdout",
     "output_type": "stream",
     "text": [
      "***********Merge_df**********\n",
      "(201917, 1541)\n",
      "Category of Column :  249\n"
     ]
    },
    {
     "name": "stderr",
     "output_type": "stream",
     "text": [
      "\r",
      " 95%|████████████████████████████████████████████████████████████████████████████▎   | 309/324 [09:40<00:37,  2.48s/it]"
     ]
    },
    {
     "name": "stdout",
     "output_type": "stream",
     "text": [
      "***********Merge_df**********\n",
      "(201917, 1546)\n",
      "Category of Column :  579\n"
     ]
    },
    {
     "name": "stderr",
     "output_type": "stream",
     "text": [
      "\r",
      " 96%|████████████████████████████████████████████████████████████████████████████▌   | 310/324 [09:43<00:35,  2.51s/it]"
     ]
    },
    {
     "name": "stdout",
     "output_type": "stream",
     "text": [
      "***********Merge_df**********\n",
      "(201917, 1551)\n",
      "Category of Column :  67\n"
     ]
    },
    {
     "name": "stderr",
     "output_type": "stream",
     "text": [
      "\r",
      " 96%|████████████████████████████████████████████████████████████████████████████▊   | 311/324 [09:45<00:32,  2.49s/it]"
     ]
    },
    {
     "name": "stdout",
     "output_type": "stream",
     "text": [
      "***********Merge_df**********\n",
      "(201917, 1556)\n",
      "Category of Column :  153\n"
     ]
    },
    {
     "name": "stderr",
     "output_type": "stream",
     "text": [
      "\r",
      " 96%|█████████████████████████████████████████████████████████████████████████████   | 312/324 [09:47<00:29,  2.47s/it]"
     ]
    },
    {
     "name": "stdout",
     "output_type": "stream",
     "text": [
      "***********Merge_df**********\n",
      "(201917, 1561)\n",
      "Category of Column :  164\n"
     ]
    },
    {
     "name": "stderr",
     "output_type": "stream",
     "text": [
      "\r",
      " 97%|█████████████████████████████████████████████████████████████████████████████▎  | 313/324 [09:50<00:27,  2.46s/it]"
     ]
    },
    {
     "name": "stdout",
     "output_type": "stream",
     "text": [
      "***********Merge_df**********\n",
      "(201917, 1566)\n",
      "Category of Column :  37\n"
     ]
    },
    {
     "name": "stderr",
     "output_type": "stream",
     "text": [
      "\r",
      " 97%|█████████████████████████████████████████████████████████████████████████████▌  | 314/324 [09:52<00:24,  2.45s/it]"
     ]
    },
    {
     "name": "stdout",
     "output_type": "stream",
     "text": [
      "***********Merge_df**********\n",
      "(201917, 1571)\n",
      "Category of Column :  741\n"
     ]
    },
    {
     "name": "stderr",
     "output_type": "stream",
     "text": [
      "\r",
      " 97%|█████████████████████████████████████████████████████████████████████████████▊  | 315/324 [09:55<00:22,  2.45s/it]"
     ]
    },
    {
     "name": "stdout",
     "output_type": "stream",
     "text": [
      "***********Merge_df**********\n",
      "(201917, 1576)\n",
      "Category of Column :  523\n"
     ]
    },
    {
     "name": "stderr",
     "output_type": "stream",
     "text": [
      "\r",
      " 98%|██████████████████████████████████████████████████████████████████████████████  | 316/324 [09:57<00:19,  2.48s/it]"
     ]
    },
    {
     "name": "stdout",
     "output_type": "stream",
     "text": [
      "***********Merge_df**********\n",
      "(201917, 1581)\n",
      "Category of Column :  882\n"
     ]
    },
    {
     "name": "stderr",
     "output_type": "stream",
     "text": [
      "\r",
      " 98%|██████████████████████████████████████████████████████████████████████████████▎ | 317/324 [10:00<00:17,  2.47s/it]"
     ]
    },
    {
     "name": "stdout",
     "output_type": "stream",
     "text": [
      "***********Merge_df**********\n",
      "(201917, 1586)\n",
      "Category of Column :  718\n"
     ]
    },
    {
     "name": "stderr",
     "output_type": "stream",
     "text": [
      "\r",
      " 98%|██████████████████████████████████████████████████████████████████████████████▌ | 318/324 [10:02<00:14,  2.47s/it]"
     ]
    },
    {
     "name": "stdout",
     "output_type": "stream",
     "text": [
      "***********Merge_df**********\n",
      "(201917, 1591)\n",
      "Category of Column :  145\n"
     ]
    },
    {
     "name": "stderr",
     "output_type": "stream",
     "text": [
      "\r",
      " 98%|██████████████████████████████████████████████████████████████████████████████▊ | 319/324 [10:05<00:12,  2.47s/it]"
     ]
    },
    {
     "name": "stdout",
     "output_type": "stream",
     "text": [
      "***********Merge_df**********\n",
      "(201917, 1596)\n",
      "Category of Column :  18\n"
     ]
    },
    {
     "name": "stderr",
     "output_type": "stream",
     "text": [
      "\r",
      " 99%|███████████████████████████████████████████████████████████████████████████████ | 320/324 [10:07<00:09,  2.44s/it]"
     ]
    },
    {
     "name": "stdout",
     "output_type": "stream",
     "text": [
      "***********Merge_df**********\n",
      "(201917, 1601)\n",
      "Category of Column :  875\n"
     ]
    },
    {
     "name": "stderr",
     "output_type": "stream",
     "text": [
      "\r",
      " 99%|███████████████████████████████████████████████████████████████████████████████▎| 321/324 [10:10<00:07,  2.48s/it]"
     ]
    },
    {
     "name": "stdout",
     "output_type": "stream",
     "text": [
      "***********Merge_df**********\n",
      "(201917, 1606)\n",
      "Category of Column :  59\n"
     ]
    },
    {
     "name": "stderr",
     "output_type": "stream",
     "text": [
      "\r",
      " 99%|███████████████████████████████████████████████████████████████████████████████▌| 322/324 [10:12<00:04,  2.45s/it]"
     ]
    },
    {
     "name": "stdout",
     "output_type": "stream",
     "text": [
      "***********Merge_df**********\n",
      "(201917, 1611)\n",
      "Category of Column :  86\n"
     ]
    },
    {
     "name": "stderr",
     "output_type": "stream",
     "text": [
      "\r",
      "100%|███████████████████████████████████████████████████████████████████████████████▊| 323/324 [10:14<00:02,  2.44s/it]"
     ]
    },
    {
     "name": "stdout",
     "output_type": "stream",
     "text": [
      "***********Merge_df**********\n",
      "(201917, 1616)\n",
      "Category of Column :  266\n"
     ]
    },
    {
     "name": "stderr",
     "output_type": "stream",
     "text": [
      "100%|████████████████████████████████████████████████████████████████████████████████| 324/324 [10:17<00:00,  1.91s/it]"
     ]
    },
    {
     "name": "stdout",
     "output_type": "stream",
     "text": [
      "***********Merge_df**********\n",
      "(201917, 1621)\n",
      "Time elapsed in seconds for execution :  1036.7948837\n"
     ]
    },
    {
     "name": "stderr",
     "output_type": "stream",
     "text": [
      "\n"
     ]
    }
   ],
   "source": [
    "cols = ['category_1','category_2','category_3','city_id','state_id','authorized_flag','subsector_id','merchant_category_id']\n",
    "start_time = time.clock()\n",
    "df_list = []\n",
    "for col in cols:\n",
    "    df_list.append(eda_fe.generateAggrColumns(s_hist_df,col,'new_purchase_amount',aggr_funcs,col,True))\n",
    "end_time = time.clock()\n",
    "print(\"Time elapsed in seconds for execution : \",end_time-start_time)"
   ]
  },
  {
   "cell_type": "code",
   "execution_count": 9,
   "metadata": {},
   "outputs": [
    {
     "name": "stdout",
     "output_type": "stream",
     "text": [
      "Number of columns in merge_df :  (201917, 3558)\n"
     ]
    }
   ],
   "source": [
    "merge_df = pd.concat(df_list,axis=1)\n",
    "print(\"Number of columns in merge_df : \",merge_df.shape)"
   ]
  },
  {
   "cell_type": "code",
   "execution_count": 10,
   "metadata": {},
   "outputs": [
    {
     "data": {
      "text/plain": [
       "(201917, 3551)"
      ]
     },
     "execution_count": 10,
     "metadata": {},
     "output_type": "execute_result"
    }
   ],
   "source": [
    "merge_df = merge_df.loc[:,~merge_df.columns.duplicated()]\n",
    "merge_df.shape"
   ]
  },
  {
   "cell_type": "markdown",
   "metadata": {},
   "source": [
    "### Observation:\n",
    "* As can be seen the number of features generated is way too large, a lot of them contain a lot of missing values.\n",
    "* So we are going to drop a lot of them."
   ]
  },
  {
   "cell_type": "code",
   "execution_count": 12,
   "metadata": {},
   "outputs": [],
   "source": [
    "def formNullPercColumns(df,quantile):\n",
    "    \"\"\"\n",
    "        This function takes dataframe and quantile of missing value to be allowed as input and \n",
    "        returns the features to be selected from the set.\n",
    "    \"\"\"\n",
    "    null_df = (df.isnull().sum()*100/df.shape[0]).reset_index().rename(columns = {0:'count'})    \n",
    "    features_to_select = null_df[null_df['count'] <= quantile]['index'].values\n",
    "    return features_to_select"
   ]
  },
  {
   "cell_type": "code",
   "execution_count": 16,
   "metadata": {},
   "outputs": [],
   "source": [
    "features_to_add = formNullPercColumns(merge_df,50)\n",
    "feature_set_2 = merge_df[features_to_add]\n",
    "pickle.dump(feature_set_2,open('feature_set_2.pkl','wb'))"
   ]
  },
  {
   "cell_type": "code",
   "execution_count": null,
   "metadata": {},
   "outputs": [],
   "source": [
    "feature_set_2.replace([np.inf,-np.inf],np.nan,inplace=True)"
   ]
  },
  {
   "cell_type": "markdown",
   "metadata": {},
   "source": [
    "### 2.1 Filling in missing values for features with decision tree imputer"
   ]
  },
  {
   "cell_type": "code",
   "execution_count": 23,
   "metadata": {},
   "outputs": [
    {
     "name": "stdout",
     "output_type": "stream",
     "text": [
      "Creating Decision Tree Regressor...\n",
      "Creating Iterative Imputer...\n",
      "Imputing features...\n",
      "[IterativeImputer] Completing matrix with shape (201917, 124)\n",
      "[IterativeImputer] Ending imputation round 1/10, elapsed time 130.06\n",
      "[IterativeImputer] Change: 209553248.0, scaled tolerance: 400000051.20000005 \n",
      "[IterativeImputer] Early stopping criterion reached.\n"
     ]
    }
   ],
   "source": [
    "from sklearn.tree import DecisionTreeRegressor\n",
    "from sklearn.experimental import enable_iterative_imputer\n",
    "from sklearn.impute import IterativeImputer\n",
    "\n",
    "X_train = feature_set_2.drop(['card_id'],axis=1)\n",
    "\n",
    "print(\"Creating Decision Tree Regressor...\")\n",
    "dt_regressor = DecisionTreeRegressor(max_features='sqrt',\n",
    "                                     max_depth=5,\n",
    "                                     random_state=0)\n",
    "print(\"Creating Iterative Imputer...\")\n",
    "iterative_imputer = IterativeImputer(random_state = 0,\n",
    "                                     estimator = dt_regressor,\n",
    "                                     tol = 0.1,\n",
    "                                     verbose=30)\n",
    "print(\"Imputing features...\")\n",
    "dt_imputed_features = iterative_imputer.fit_transform(X_train)\n",
    "dt_imputed_df = pd.DataFrame(dt_imputed_features,columns=X_train.columns)"
   ]
  },
  {
   "cell_type": "code",
   "execution_count": 24,
   "metadata": {},
   "outputs": [],
   "source": [
    "pickle.dump(dt_imputed_df,open('feature_set_2.pkl','wb'))"
   ]
  },
  {
   "cell_type": "markdown",
   "metadata": {},
   "source": [
    "## Iteration 3. Creating reference date difference and purchase amount ratios wrt to it"
   ]
  },
  {
   "cell_type": "code",
   "execution_count": 8,
   "metadata": {},
   "outputs": [],
   "source": [
    "sorted_df = s_hist_df.sort_values(by=['card_id','purchase_date'])"
   ]
  },
  {
   "cell_type": "code",
   "execution_count": 46,
   "metadata": {},
   "outputs": [],
   "source": [
    "sorted_df['purchase_date'] = pd.to_datetime(sorted_df['purchase_date'])\n",
    "sorted_df['purchase_date'] = sorted_df['purchase_date'].dt.date"
   ]
  },
  {
   "cell_type": "code",
   "execution_count": 40,
   "metadata": {},
   "outputs": [
    {
     "data": {
      "text/plain": [
       "19095896     0\n",
       "19095775     0\n",
       "19095845     1\n",
       "19095866     3\n",
       "19095808    10\n",
       "            ..\n",
       "22821237     0\n",
       "22821210     0\n",
       "22821171     0\n",
       "22821184     0\n",
       "22821209     0\n",
       "Name: date_diff, Length: 18030009, dtype: int32"
      ]
     },
     "execution_count": 40,
     "metadata": {},
     "output_type": "execute_result"
    }
   ],
   "source": [
    "# Adding a column which shows diffference in consecutive days\n",
    "sorted_df['date_diff'] = sorted_df.groupby(['card_id'])['purchase_date'].apply(lambda x : x.diff()).astype(str).apply(lambda x : x.split(' ')[0])\n",
    "sorted_df['date_diff'].replace('NaT','0',inplace = True)\n",
    "sorted_df['date_diff'].astype(int)"
   ]
  },
  {
   "cell_type": "code",
   "execution_count": 42,
   "metadata": {},
   "outputs": [],
   "source": [
    "# Adding a column which shows purchase amount difference\n",
    "sorted_df['purch_amt_diff'] = sorted_df.groupby(['card_id'])['new_purchase_amount'].apply(lambda x : x.diff())"
   ]
  },
  {
   "cell_type": "code",
   "execution_count": 47,
   "metadata": {},
   "outputs": [
    {
     "data": {
      "text/html": [
       "<div>\n",
       "<style scoped>\n",
       "    .dataframe tbody tr th:only-of-type {\n",
       "        vertical-align: middle;\n",
       "    }\n",
       "\n",
       "    .dataframe tbody tr th {\n",
       "        vertical-align: top;\n",
       "    }\n",
       "\n",
       "    .dataframe thead th {\n",
       "        text-align: right;\n",
       "    }\n",
       "</style>\n",
       "<table border=\"1\" class=\"dataframe\">\n",
       "  <thead>\n",
       "    <tr style=\"text-align: right;\">\n",
       "      <th></th>\n",
       "      <th>card_id</th>\n",
       "      <th>purchase_date</th>\n",
       "      <th>date_diff</th>\n",
       "      <th>new_purchase_amount</th>\n",
       "      <th>purch_amt_diff</th>\n",
       "    </tr>\n",
       "  </thead>\n",
       "  <tbody>\n",
       "    <tr>\n",
       "      <th>19095896</th>\n",
       "      <td>C_ID_00007093c1</td>\n",
       "      <td>2017-02-14</td>\n",
       "      <td>0</td>\n",
       "      <td>521.799988</td>\n",
       "      <td>NaN</td>\n",
       "    </tr>\n",
       "    <tr>\n",
       "      <th>19095775</th>\n",
       "      <td>C_ID_00007093c1</td>\n",
       "      <td>2017-02-14</td>\n",
       "      <td>0</td>\n",
       "      <td>186.000000</td>\n",
       "      <td>-335.799988</td>\n",
       "    </tr>\n",
       "    <tr>\n",
       "      <th>19095845</th>\n",
       "      <td>C_ID_00007093c1</td>\n",
       "      <td>2017-02-16</td>\n",
       "      <td>1</td>\n",
       "      <td>116.000000</td>\n",
       "      <td>-70.000000</td>\n",
       "    </tr>\n",
       "    <tr>\n",
       "      <th>19095866</th>\n",
       "      <td>C_ID_00007093c1</td>\n",
       "      <td>2017-02-20</td>\n",
       "      <td>3</td>\n",
       "      <td>276.399994</td>\n",
       "      <td>160.399994</td>\n",
       "    </tr>\n",
       "    <tr>\n",
       "      <th>19095808</th>\n",
       "      <td>C_ID_00007093c1</td>\n",
       "      <td>2017-03-03</td>\n",
       "      <td>10</td>\n",
       "      <td>175.000000</td>\n",
       "      <td>-101.399994</td>\n",
       "    </tr>\n",
       "  </tbody>\n",
       "</table>\n",
       "</div>"
      ],
      "text/plain": [
       "                  card_id purchase_date date_diff  new_purchase_amount  \\\n",
       "19095896  C_ID_00007093c1    2017-02-14         0           521.799988   \n",
       "19095775  C_ID_00007093c1    2017-02-14         0           186.000000   \n",
       "19095845  C_ID_00007093c1    2017-02-16         1           116.000000   \n",
       "19095866  C_ID_00007093c1    2017-02-20         3           276.399994   \n",
       "19095808  C_ID_00007093c1    2017-03-03        10           175.000000   \n",
       "\n",
       "          purch_amt_diff  \n",
       "19095896             NaN  \n",
       "19095775     -335.799988  \n",
       "19095845      -70.000000  \n",
       "19095866      160.399994  \n",
       "19095808     -101.399994  "
      ]
     },
     "execution_count": 47,
     "metadata": {},
     "output_type": "execute_result"
    }
   ],
   "source": [
    "sorted_df[['card_id','purchase_date','date_diff','new_purchase_amount','purch_amt_diff']].head()"
   ]
  },
  {
   "cell_type": "code",
   "execution_count": 58,
   "metadata": {},
   "outputs": [
    {
     "name": "stdout",
     "output_type": "stream",
     "text": [
      "Reference date :  2018-02-01\n",
      "Purchase date :  2017-02-14\n",
      "352 days, 0:00:00\n"
     ]
    }
   ],
   "source": [
    "import datetime\n",
    "from datetime import  timedelta\n",
    "reference_date = datetime.date(2018,2,1)\n",
    "print(\"Reference date : \",reference_date)\n",
    "purchase_date = datetime.date(2017,2,14)\n",
    "print(\"Purchase date : \",purchase_date)\n",
    "\n",
    "print(reference_date-purchase_date)\n"
   ]
  },
  {
   "cell_type": "markdown",
   "metadata": {},
   "source": [
    "<a id='reference_date_features'></a>\n",
    "## Creating reference date features"
   ]
  },
  {
   "cell_type": "code",
   "execution_count": null,
   "metadata": {},
   "outputs": [],
   "source": [
    "## Adding a column which shows difference from reference date\n",
    "sorted_df['ref_diff'] = sorted_df.groupby(['card_id'])['purchase_date'].apply(lambda x : reference_date-x)\n",
    "\n",
    "## Obtaining days from above reference date difference\n",
    "sorted_df['ref_days_diff'] = sorted_df['ref_diff']/np.timedelta64(1,'D')"
   ]
  },
  {
   "cell_type": "code",
   "execution_count": 64,
   "metadata": {},
   "outputs": [],
   "source": [
    "## Obtaining weeks from above reference date difference\n",
    "sorted_df['ref_weeks_diff'] = sorted_df['ref_diff']/np.timedelta64(1,'W')\n",
    "\n",
    "## Obtaining months from above reference date difference\n",
    "sorted_df['ref_month_diff'] = sorted_df['ref_diff']/np.timedelta64(1,'M')"
   ]
  },
  {
   "cell_type": "code",
   "execution_count": 80,
   "metadata": {},
   "outputs": [],
   "source": [
    "## Applying some sort of smoothing since we are going to obtain inf values if we divide by 0\n",
    "sorted_df['ref_month_diff'].replace(0,0.01,inplace=True)"
   ]
  },
  {
   "cell_type": "code",
   "execution_count": 81,
   "metadata": {},
   "outputs": [],
   "source": [
    "## Creating a ratio of purchase amounts and reference month difference\n",
    "## giving more importance to recent months as compared to previous months\n",
    "sorted_df['pamount_refmonth_ratio'] = sorted_df['new_purchase_amount']/sorted_df['ref_month_diff']"
   ]
  },
  {
   "cell_type": "code",
   "execution_count": 68,
   "metadata": {},
   "outputs": [
    {
     "data": {
      "text/html": [
       "<div>\n",
       "<style scoped>\n",
       "    .dataframe tbody tr th:only-of-type {\n",
       "        vertical-align: middle;\n",
       "    }\n",
       "\n",
       "    .dataframe tbody tr th {\n",
       "        vertical-align: top;\n",
       "    }\n",
       "\n",
       "    .dataframe thead th {\n",
       "        text-align: right;\n",
       "    }\n",
       "</style>\n",
       "<table border=\"1\" class=\"dataframe\">\n",
       "  <thead>\n",
       "    <tr style=\"text-align: right;\">\n",
       "      <th></th>\n",
       "      <th>card_id</th>\n",
       "      <th>purchase_date</th>\n",
       "      <th>date_diff</th>\n",
       "      <th>new_purchase_amount</th>\n",
       "      <th>purch_amt_diff</th>\n",
       "      <th>ref_days_diff</th>\n",
       "      <th>ref_weeks_diff</th>\n",
       "      <th>ref_month_diff</th>\n",
       "      <th>pamount_refmonth_ratio</th>\n",
       "    </tr>\n",
       "  </thead>\n",
       "  <tbody>\n",
       "    <tr>\n",
       "      <th>19095896</th>\n",
       "      <td>C_ID_00007093c1</td>\n",
       "      <td>2017-02-14</td>\n",
       "      <td>0</td>\n",
       "      <td>521.799988</td>\n",
       "      <td>NaN</td>\n",
       "      <td>352.0</td>\n",
       "      <td>50.285714</td>\n",
       "      <td>11.564919</td>\n",
       "      <td>45.119207</td>\n",
       "    </tr>\n",
       "    <tr>\n",
       "      <th>19095775</th>\n",
       "      <td>C_ID_00007093c1</td>\n",
       "      <td>2017-02-14</td>\n",
       "      <td>0</td>\n",
       "      <td>186.000000</td>\n",
       "      <td>-335.799988</td>\n",
       "      <td>352.0</td>\n",
       "      <td>50.285714</td>\n",
       "      <td>11.564919</td>\n",
       "      <td>16.083121</td>\n",
       "    </tr>\n",
       "    <tr>\n",
       "      <th>19095845</th>\n",
       "      <td>C_ID_00007093c1</td>\n",
       "      <td>2017-02-16</td>\n",
       "      <td>1</td>\n",
       "      <td>116.000000</td>\n",
       "      <td>-70.000000</td>\n",
       "      <td>350.0</td>\n",
       "      <td>50.000000</td>\n",
       "      <td>11.499209</td>\n",
       "      <td>10.087650</td>\n",
       "    </tr>\n",
       "    <tr>\n",
       "      <th>19095866</th>\n",
       "      <td>C_ID_00007093c1</td>\n",
       "      <td>2017-02-20</td>\n",
       "      <td>3</td>\n",
       "      <td>276.399994</td>\n",
       "      <td>160.399994</td>\n",
       "      <td>346.0</td>\n",
       "      <td>49.428571</td>\n",
       "      <td>11.367790</td>\n",
       "      <td>24.314312</td>\n",
       "    </tr>\n",
       "    <tr>\n",
       "      <th>19095808</th>\n",
       "      <td>C_ID_00007093c1</td>\n",
       "      <td>2017-03-03</td>\n",
       "      <td>10</td>\n",
       "      <td>175.000000</td>\n",
       "      <td>-101.399994</td>\n",
       "      <td>335.0</td>\n",
       "      <td>47.857143</td>\n",
       "      <td>11.006386</td>\n",
       "      <td>15.899860</td>\n",
       "    </tr>\n",
       "  </tbody>\n",
       "</table>\n",
       "</div>"
      ],
      "text/plain": [
       "                  card_id purchase_date date_diff  new_purchase_amount  \\\n",
       "19095896  C_ID_00007093c1    2017-02-14         0           521.799988   \n",
       "19095775  C_ID_00007093c1    2017-02-14         0           186.000000   \n",
       "19095845  C_ID_00007093c1    2017-02-16         1           116.000000   \n",
       "19095866  C_ID_00007093c1    2017-02-20         3           276.399994   \n",
       "19095808  C_ID_00007093c1    2017-03-03        10           175.000000   \n",
       "\n",
       "          purch_amt_diff  ref_days_diff  ref_weeks_diff  ref_month_diff  \\\n",
       "19095896             NaN          352.0       50.285714       11.564919   \n",
       "19095775     -335.799988          352.0       50.285714       11.564919   \n",
       "19095845      -70.000000          350.0       50.000000       11.499209   \n",
       "19095866      160.399994          346.0       49.428571       11.367790   \n",
       "19095808     -101.399994          335.0       47.857143       11.006386   \n",
       "\n",
       "          pamount_refmonth_ratio  \n",
       "19095896               45.119207  \n",
       "19095775               16.083121  \n",
       "19095845               10.087650  \n",
       "19095866               24.314312  \n",
       "19095808               15.899860  "
      ]
     },
     "execution_count": 68,
     "metadata": {},
     "output_type": "execute_result"
    }
   ],
   "source": [
    "sorted_df[['card_id','purchase_date','date_diff','new_purchase_amount',\n",
    "           'purch_amt_diff','ref_days_diff','ref_weeks_diff','ref_month_diff',\n",
    "           'pamount_refmonth_ratio']].head()"
   ]
  },
  {
   "cell_type": "code",
   "execution_count": 71,
   "metadata": {},
   "outputs": [
    {
     "data": {
      "text/html": [
       "<div>\n",
       "<style scoped>\n",
       "    .dataframe tbody tr th:only-of-type {\n",
       "        vertical-align: middle;\n",
       "    }\n",
       "\n",
       "    .dataframe tbody tr th {\n",
       "        vertical-align: top;\n",
       "    }\n",
       "\n",
       "    .dataframe thead th {\n",
       "        text-align: right;\n",
       "    }\n",
       "</style>\n",
       "<table border=\"1\" class=\"dataframe\">\n",
       "  <thead>\n",
       "    <tr style=\"text-align: right;\">\n",
       "      <th></th>\n",
       "      <th>card_id</th>\n",
       "      <th>purchase_date</th>\n",
       "      <th>date_diff</th>\n",
       "      <th>new_purchase_amount</th>\n",
       "      <th>purch_amt_diff</th>\n",
       "      <th>ref_days_diff</th>\n",
       "      <th>ref_weeks_diff</th>\n",
       "      <th>ref_month_diff</th>\n",
       "      <th>pamount_refmonth_ratio</th>\n",
       "    </tr>\n",
       "  </thead>\n",
       "  <tbody>\n",
       "    <tr>\n",
       "      <th>19095896</th>\n",
       "      <td>C_ID_00007093c1</td>\n",
       "      <td>2017-02-14</td>\n",
       "      <td>0</td>\n",
       "      <td>521.799988</td>\n",
       "      <td>NaN</td>\n",
       "      <td>352.0</td>\n",
       "      <td>50.285714</td>\n",
       "      <td>11.564919</td>\n",
       "      <td>45.119207</td>\n",
       "    </tr>\n",
       "    <tr>\n",
       "      <th>19095775</th>\n",
       "      <td>C_ID_00007093c1</td>\n",
       "      <td>2017-02-14</td>\n",
       "      <td>0</td>\n",
       "      <td>186.000000</td>\n",
       "      <td>-335.799988</td>\n",
       "      <td>352.0</td>\n",
       "      <td>50.285714</td>\n",
       "      <td>11.564919</td>\n",
       "      <td>16.083121</td>\n",
       "    </tr>\n",
       "    <tr>\n",
       "      <th>19095845</th>\n",
       "      <td>C_ID_00007093c1</td>\n",
       "      <td>2017-02-16</td>\n",
       "      <td>1</td>\n",
       "      <td>116.000000</td>\n",
       "      <td>-70.000000</td>\n",
       "      <td>350.0</td>\n",
       "      <td>50.000000</td>\n",
       "      <td>11.499209</td>\n",
       "      <td>10.087650</td>\n",
       "    </tr>\n",
       "    <tr>\n",
       "      <th>19095866</th>\n",
       "      <td>C_ID_00007093c1</td>\n",
       "      <td>2017-02-20</td>\n",
       "      <td>3</td>\n",
       "      <td>276.399994</td>\n",
       "      <td>160.399994</td>\n",
       "      <td>346.0</td>\n",
       "      <td>49.428571</td>\n",
       "      <td>11.367790</td>\n",
       "      <td>24.314312</td>\n",
       "    </tr>\n",
       "    <tr>\n",
       "      <th>19095808</th>\n",
       "      <td>C_ID_00007093c1</td>\n",
       "      <td>2017-03-03</td>\n",
       "      <td>10</td>\n",
       "      <td>175.000000</td>\n",
       "      <td>-101.399994</td>\n",
       "      <td>335.0</td>\n",
       "      <td>47.857143</td>\n",
       "      <td>11.006386</td>\n",
       "      <td>15.899860</td>\n",
       "    </tr>\n",
       "    <tr>\n",
       "      <th>...</th>\n",
       "      <td>...</td>\n",
       "      <td>...</td>\n",
       "      <td>...</td>\n",
       "      <td>...</td>\n",
       "      <td>...</td>\n",
       "      <td>...</td>\n",
       "      <td>...</td>\n",
       "      <td>...</td>\n",
       "      <td>...</td>\n",
       "    </tr>\n",
       "    <tr>\n",
       "      <th>19095859</th>\n",
       "      <td>C_ID_00007093c1</td>\n",
       "      <td>2018-02-07</td>\n",
       "      <td>0</td>\n",
       "      <td>207.440002</td>\n",
       "      <td>43.940002</td>\n",
       "      <td>-6.0</td>\n",
       "      <td>-0.857143</td>\n",
       "      <td>-0.197129</td>\n",
       "      <td>-1052.304237</td>\n",
       "    </tr>\n",
       "    <tr>\n",
       "      <th>19095870</th>\n",
       "      <td>C_ID_00007093c1</td>\n",
       "      <td>2018-02-08</td>\n",
       "      <td>1</td>\n",
       "      <td>188.910004</td>\n",
       "      <td>-18.529999</td>\n",
       "      <td>-7.0</td>\n",
       "      <td>-1.000000</td>\n",
       "      <td>-0.229984</td>\n",
       "      <td>-821.404310</td>\n",
       "    </tr>\n",
       "    <tr>\n",
       "      <th>19095903</th>\n",
       "      <td>C_ID_00007093c1</td>\n",
       "      <td>2018-02-08</td>\n",
       "      <td>0</td>\n",
       "      <td>100.000000</td>\n",
       "      <td>-88.910004</td>\n",
       "      <td>-7.0</td>\n",
       "      <td>-1.000000</td>\n",
       "      <td>-0.229984</td>\n",
       "      <td>-434.812500</td>\n",
       "    </tr>\n",
       "    <tr>\n",
       "      <th>19095786</th>\n",
       "      <td>C_ID_00007093c1</td>\n",
       "      <td>2018-02-08</td>\n",
       "      <td>0</td>\n",
       "      <td>50.000000</td>\n",
       "      <td>-50.000000</td>\n",
       "      <td>-7.0</td>\n",
       "      <td>-1.000000</td>\n",
       "      <td>-0.229984</td>\n",
       "      <td>-217.406250</td>\n",
       "    </tr>\n",
       "    <tr>\n",
       "      <th>19095877</th>\n",
       "      <td>C_ID_00007093c1</td>\n",
       "      <td>2018-02-27</td>\n",
       "      <td>18</td>\n",
       "      <td>25.000000</td>\n",
       "      <td>-25.000000</td>\n",
       "      <td>-26.0</td>\n",
       "      <td>-3.714286</td>\n",
       "      <td>-0.854227</td>\n",
       "      <td>-29.266226</td>\n",
       "    </tr>\n",
       "  </tbody>\n",
       "</table>\n",
       "<p>149 rows × 9 columns</p>\n",
       "</div>"
      ],
      "text/plain": [
       "                  card_id purchase_date date_diff  new_purchase_amount  \\\n",
       "19095896  C_ID_00007093c1    2017-02-14         0           521.799988   \n",
       "19095775  C_ID_00007093c1    2017-02-14         0           186.000000   \n",
       "19095845  C_ID_00007093c1    2017-02-16         1           116.000000   \n",
       "19095866  C_ID_00007093c1    2017-02-20         3           276.399994   \n",
       "19095808  C_ID_00007093c1    2017-03-03        10           175.000000   \n",
       "...                   ...           ...       ...                  ...   \n",
       "19095859  C_ID_00007093c1    2018-02-07         0           207.440002   \n",
       "19095870  C_ID_00007093c1    2018-02-08         1           188.910004   \n",
       "19095903  C_ID_00007093c1    2018-02-08         0           100.000000   \n",
       "19095786  C_ID_00007093c1    2018-02-08         0            50.000000   \n",
       "19095877  C_ID_00007093c1    2018-02-27        18            25.000000   \n",
       "\n",
       "          purch_amt_diff  ref_days_diff  ref_weeks_diff  ref_month_diff  \\\n",
       "19095896             NaN          352.0       50.285714       11.564919   \n",
       "19095775     -335.799988          352.0       50.285714       11.564919   \n",
       "19095845      -70.000000          350.0       50.000000       11.499209   \n",
       "19095866      160.399994          346.0       49.428571       11.367790   \n",
       "19095808     -101.399994          335.0       47.857143       11.006386   \n",
       "...                  ...            ...             ...             ...   \n",
       "19095859       43.940002           -6.0       -0.857143       -0.197129   \n",
       "19095870      -18.529999           -7.0       -1.000000       -0.229984   \n",
       "19095903      -88.910004           -7.0       -1.000000       -0.229984   \n",
       "19095786      -50.000000           -7.0       -1.000000       -0.229984   \n",
       "19095877      -25.000000          -26.0       -3.714286       -0.854227   \n",
       "\n",
       "          pamount_refmonth_ratio  \n",
       "19095896               45.119207  \n",
       "19095775               16.083121  \n",
       "19095845               10.087650  \n",
       "19095866               24.314312  \n",
       "19095808               15.899860  \n",
       "...                          ...  \n",
       "19095859            -1052.304237  \n",
       "19095870             -821.404310  \n",
       "19095903             -434.812500  \n",
       "19095786             -217.406250  \n",
       "19095877              -29.266226  \n",
       "\n",
       "[149 rows x 9 columns]"
      ]
     },
     "execution_count": 71,
     "metadata": {},
     "output_type": "execute_result"
    }
   ],
   "source": [
    "sorted_df[sorted_df['card_id'] == 'C_ID_00007093c1'][['card_id','purchase_date','date_diff','new_purchase_amount',\n",
    "                                                       'purch_amt_diff','ref_days_diff','ref_weeks_diff','ref_month_diff',\n",
    "                                                       'pamount_refmonth_ratio']]"
   ]
  },
  {
   "cell_type": "code",
   "execution_count": 73,
   "metadata": {},
   "outputs": [
    {
     "data": {
      "text/plain": [
       "card_id                   0\n",
       "purchase_date             0\n",
       "date_diff                 0\n",
       "new_purchase_amount       0\n",
       "purch_amt_diff            0\n",
       "ref_days_diff             0\n",
       "ref_weeks_diff            0\n",
       "ref_month_diff            0\n",
       "pamount_refmonth_ratio    0\n",
       "dtype: int64"
      ]
     },
     "execution_count": 73,
     "metadata": {},
     "output_type": "execute_result"
    }
   ],
   "source": [
    "sorted_df['purch_amt_diff'].replace(np.nan,0,inplace=True)\n",
    "sorted_df[['card_id','purchase_date','date_diff','new_purchase_amount',\n",
    "           'purch_amt_diff','ref_days_diff','ref_weeks_diff','ref_month_diff',\n",
    "            'pamount_refmonth_ratio']].isnull().sum()"
   ]
  },
  {
   "cell_type": "code",
   "execution_count": 76,
   "metadata": {},
   "outputs": [
    {
     "data": {
      "text/plain": [
       "<matplotlib.axes._subplots.AxesSubplot at 0x1ba5a0e2240>"
      ]
     },
     "execution_count": 76,
     "metadata": {},
     "output_type": "execute_result"
    },
    {
     "data": {
      "image/png": "[encoded data removed]",
      "text/plain": [
       "<Figure size 432x288 with 1 Axes>"
      ]
     },
     "metadata": {
      "needs_background": "light"
     },
     "output_type": "display_data"
    }
   ],
   "source": [
    "## Observing the distribution of pamount_refmonth_ratio\n",
    "sns.kdeplot(sorted_df[sorted_df['card_id'] == 'C_ID_00007093c1']['pamount_refmonth_ratio'])"
   ]
  },
  {
   "cell_type": "markdown",
   "metadata": {},
   "source": [
    "### Observation\n",
    "* Distribution is quite normal.\n",
    "* Should be useful in improving our results."
   ]
  },
  {
   "cell_type": "code",
   "execution_count": 92,
   "metadata": {},
   "outputs": [
    {
     "data": {
      "text/html": [
       "<div>\n",
       "<style scoped>\n",
       "    .dataframe tbody tr th:only-of-type {\n",
       "        vertical-align: middle;\n",
       "    }\n",
       "\n",
       "    .dataframe tbody tr th {\n",
       "        vertical-align: top;\n",
       "    }\n",
       "\n",
       "    .dataframe thead th {\n",
       "        text-align: right;\n",
       "    }\n",
       "</style>\n",
       "<table border=\"1\" class=\"dataframe\">\n",
       "  <thead>\n",
       "    <tr style=\"text-align: right;\">\n",
       "      <th></th>\n",
       "      <th>pamount_refmonth_ratio_mean</th>\n",
       "      <th>pamount_refmonth_ratio_sum</th>\n",
       "      <th>pamount_refmonth_ratio_var</th>\n",
       "      <th>pamount_refmonth_ratio_min</th>\n",
       "      <th>pamount_refmonth_ratio_max</th>\n",
       "      <th>pamount_refmonth_ratio_skew</th>\n",
       "    </tr>\n",
       "    <tr>\n",
       "      <th>card_id</th>\n",
       "      <th></th>\n",
       "      <th></th>\n",
       "      <th></th>\n",
       "      <th></th>\n",
       "      <th></th>\n",
       "      <th></th>\n",
       "    </tr>\n",
       "  </thead>\n",
       "  <tbody>\n",
       "    <tr>\n",
       "      <th>C_ID_00007093c1</th>\n",
       "      <td>-35.026282</td>\n",
       "      <td>-5218.915987</td>\n",
       "      <td>2.530671e+05</td>\n",
       "      <td>-4392.954224</td>\n",
       "      <td>1978.396875</td>\n",
       "      <td>-5.630927</td>\n",
       "    </tr>\n",
       "    <tr>\n",
       "      <th>C_ID_0001506ef0</th>\n",
       "      <td>-37.246877</td>\n",
       "      <td>-2458.293862</td>\n",
       "      <td>7.031610e+05</td>\n",
       "      <td>-6483.054375</td>\n",
       "      <td>1395.023438</td>\n",
       "      <td>-7.096555</td>\n",
       "    </tr>\n",
       "    <tr>\n",
       "      <th>C_ID_000183fdda</th>\n",
       "      <td>1245.784887</td>\n",
       "      <td>179393.023715</td>\n",
       "      <td>1.179007e+08</td>\n",
       "      <td>-1369.659375</td>\n",
       "      <td>129900.000000</td>\n",
       "      <td>11.796989</td>\n",
       "    </tr>\n",
       "    <tr>\n",
       "      <th>C_ID_00027503e2</th>\n",
       "      <td>1.911233</td>\n",
       "      <td>80.271791</td>\n",
       "      <td>1.256438e+01</td>\n",
       "      <td>0.152821</td>\n",
       "      <td>17.185128</td>\n",
       "      <td>3.767177</td>\n",
       "    </tr>\n",
       "    <tr>\n",
       "      <th>C_ID_0002c7c2c1</th>\n",
       "      <td>26.968172</td>\n",
       "      <td>1806.867553</td>\n",
       "      <td>2.211167e+03</td>\n",
       "      <td>0.903378</td>\n",
       "      <td>298.585736</td>\n",
       "      <td>3.868983</td>\n",
       "    </tr>\n",
       "  </tbody>\n",
       "</table>\n",
       "</div>"
      ],
      "text/plain": [
       "                 pamount_refmonth_ratio_mean  pamount_refmonth_ratio_sum  \\\n",
       "card_id                                                                    \n",
       "C_ID_00007093c1                   -35.026282                -5218.915987   \n",
       "C_ID_0001506ef0                   -37.246877                -2458.293862   \n",
       "C_ID_000183fdda                  1245.784887               179393.023715   \n",
       "C_ID_00027503e2                     1.911233                   80.271791   \n",
       "C_ID_0002c7c2c1                    26.968172                 1806.867553   \n",
       "\n",
       "                 pamount_refmonth_ratio_var  pamount_refmonth_ratio_min  \\\n",
       "card_id                                                                   \n",
       "C_ID_00007093c1                2.530671e+05                -4392.954224   \n",
       "C_ID_0001506ef0                7.031610e+05                -6483.054375   \n",
       "C_ID_000183fdda                1.179007e+08                -1369.659375   \n",
       "C_ID_00027503e2                1.256438e+01                    0.152821   \n",
       "C_ID_0002c7c2c1                2.211167e+03                    0.903378   \n",
       "\n",
       "                 pamount_refmonth_ratio_max  pamount_refmonth_ratio_skew  \n",
       "card_id                                                                   \n",
       "C_ID_00007093c1                 1978.396875                    -5.630927  \n",
       "C_ID_0001506ef0                 1395.023438                    -7.096555  \n",
       "C_ID_000183fdda               129900.000000                    11.796989  \n",
       "C_ID_00027503e2                   17.185128                     3.767177  \n",
       "C_ID_0002c7c2c1                  298.585736                     3.868983  "
      ]
     },
     "execution_count": 92,
     "metadata": {},
     "output_type": "execute_result"
    }
   ],
   "source": [
    "temp_df = sorted_df.groupby(['card_id']).agg({'pamount_refmonth_ratio' : ['mean','sum','var','min','max','skew']})\n",
    "temp_df.columns = ['_'.join(col).strip('_') for col in temp_df.columns.values]\n",
    "temp_df.head()"
   ]
  },
  {
   "cell_type": "markdown",
   "metadata": {},
   "source": [
    "<a id = 'purchase_amount_diff_features'></a>\n",
    "## 3. Applying numerical aggregation on the generated features"
   ]
  },
  {
   "cell_type": "code",
   "execution_count": 95,
   "metadata": {},
   "outputs": [
    {
     "data": {
      "text/html": [
       "<div>\n",
       "<style scoped>\n",
       "    .dataframe tbody tr th:only-of-type {\n",
       "        vertical-align: middle;\n",
       "    }\n",
       "\n",
       "    .dataframe tbody tr th {\n",
       "        vertical-align: top;\n",
       "    }\n",
       "\n",
       "    .dataframe thead th {\n",
       "        text-align: right;\n",
       "    }\n",
       "</style>\n",
       "<table border=\"1\" class=\"dataframe\">\n",
       "  <thead>\n",
       "    <tr style=\"text-align: right;\">\n",
       "      <th></th>\n",
       "      <th>purch_amt_diff_mean</th>\n",
       "      <th>purch_amt_diff_sum</th>\n",
       "      <th>purch_amt_diff_var</th>\n",
       "      <th>purch_amt_diff_min</th>\n",
       "      <th>purch_amt_diff_max</th>\n",
       "      <th>purch_amt_diff_skew</th>\n",
       "    </tr>\n",
       "    <tr>\n",
       "      <th>card_id</th>\n",
       "      <th></th>\n",
       "      <th></th>\n",
       "      <th></th>\n",
       "      <th></th>\n",
       "      <th></th>\n",
       "      <th></th>\n",
       "    </tr>\n",
       "  </thead>\n",
       "  <tbody>\n",
       "    <tr>\n",
       "      <th>C_ID_00007093c1</th>\n",
       "      <td>-3.334228</td>\n",
       "      <td>-496.799957</td>\n",
       "      <td>46148.039062</td>\n",
       "      <td>-1200.000000</td>\n",
       "      <td>1430.000000</td>\n",
       "      <td>0.995935</td>\n",
       "    </tr>\n",
       "    <tr>\n",
       "      <th>C_ID_0001506ef0</th>\n",
       "      <td>-0.287879</td>\n",
       "      <td>-19.000046</td>\n",
       "      <td>204348.109375</td>\n",
       "      <td>-1465.500000</td>\n",
       "      <td>1452.750000</td>\n",
       "      <td>0.094871</td>\n",
       "    </tr>\n",
       "    <tr>\n",
       "      <th>C_ID_000183fdda</th>\n",
       "      <td>-1.118056</td>\n",
       "      <td>-161.000046</td>\n",
       "      <td>224213.265625</td>\n",
       "      <td>-1850.729980</td>\n",
       "      <td>2297.000000</td>\n",
       "      <td>0.153482</td>\n",
       "    </tr>\n",
       "    <tr>\n",
       "      <th>C_ID_00027503e2</th>\n",
       "      <td>0.071429</td>\n",
       "      <td>3.000000</td>\n",
       "      <td>7.416437</td>\n",
       "      <td>-5.710000</td>\n",
       "      <td>5.800000</td>\n",
       "      <td>0.303621</td>\n",
       "    </tr>\n",
       "    <tr>\n",
       "      <th>C_ID_0002c7c2c1</th>\n",
       "      <td>-0.496866</td>\n",
       "      <td>-33.289997</td>\n",
       "      <td>5178.231445</td>\n",
       "      <td>-240.009995</td>\n",
       "      <td>249.160004</td>\n",
       "      <td>0.075289</td>\n",
       "    </tr>\n",
       "  </tbody>\n",
       "</table>\n",
       "</div>"
      ],
      "text/plain": [
       "                 purch_amt_diff_mean  purch_amt_diff_sum  purch_amt_diff_var  \\\n",
       "card_id                                                                        \n",
       "C_ID_00007093c1            -3.334228         -496.799957        46148.039062   \n",
       "C_ID_0001506ef0            -0.287879          -19.000046       204348.109375   \n",
       "C_ID_000183fdda            -1.118056         -161.000046       224213.265625   \n",
       "C_ID_00027503e2             0.071429            3.000000            7.416437   \n",
       "C_ID_0002c7c2c1            -0.496866          -33.289997         5178.231445   \n",
       "\n",
       "                 purch_amt_diff_min  purch_amt_diff_max  purch_amt_diff_skew  \n",
       "card_id                                                                       \n",
       "C_ID_00007093c1        -1200.000000         1430.000000             0.995935  \n",
       "C_ID_0001506ef0        -1465.500000         1452.750000             0.094871  \n",
       "C_ID_000183fdda        -1850.729980         2297.000000             0.153482  \n",
       "C_ID_00027503e2           -5.710000            5.800000             0.303621  \n",
       "C_ID_0002c7c2c1         -240.009995          249.160004             0.075289  "
      ]
     },
     "execution_count": 95,
     "metadata": {},
     "output_type": "execute_result"
    }
   ],
   "source": [
    "temp_df_2 = sorted_df.groupby(['card_id']).agg({'purch_amt_diff' : ['mean','sum','var','min','max','skew']})\n",
    "temp_df_2.columns = ['_'.join(col).strip('_') for col in temp_df_2.columns.values]\n",
    "temp_df_2.head()"
   ]
  },
  {
   "cell_type": "markdown",
   "metadata": {},
   "source": [
    "<a id = 'sum_and_max_of_head_and_tail_of_purchase_amts'></a>\n",
    "## 4. Obtaining sum,max,variance and skewness from head and tail of purchase amounts "
   ]
  },
  {
   "cell_type": "code",
   "execution_count": 100,
   "metadata": {},
   "outputs": [
    {
     "data": {
      "text/html": [
       "<div>\n",
       "<style scoped>\n",
       "    .dataframe tbody tr th:only-of-type {\n",
       "        vertical-align: middle;\n",
       "    }\n",
       "\n",
       "    .dataframe tbody tr th {\n",
       "        vertical-align: top;\n",
       "    }\n",
       "\n",
       "    .dataframe thead th {\n",
       "        text-align: right;\n",
       "    }\n",
       "</style>\n",
       "<table border=\"1\" class=\"dataframe\">\n",
       "  <thead>\n",
       "    <tr style=\"text-align: right;\">\n",
       "      <th></th>\n",
       "      <th>purch_head_sum</th>\n",
       "      <th>purch_head_max</th>\n",
       "      <th>purch_tail_sum</th>\n",
       "      <th>purch_tail_max</th>\n",
       "    </tr>\n",
       "    <tr>\n",
       "      <th>card_id</th>\n",
       "      <th></th>\n",
       "      <th></th>\n",
       "      <th></th>\n",
       "      <th></th>\n",
       "    </tr>\n",
       "  </thead>\n",
       "  <tbody>\n",
       "    <tr>\n",
       "      <th>C_ID_00007093c1</th>\n",
       "      <td>1275.199951</td>\n",
       "      <td>521.799988</td>\n",
       "      <td>571.349976</td>\n",
       "      <td>207.440002</td>\n",
       "    </tr>\n",
       "    <tr>\n",
       "      <th>C_ID_0001506ef0</th>\n",
       "      <td>138.979996</td>\n",
       "      <td>51.459999</td>\n",
       "      <td>1582.000000</td>\n",
       "      <td>1491.000000</td>\n",
       "    </tr>\n",
       "    <tr>\n",
       "      <th>C_ID_000183fdda</th>\n",
       "      <td>2112.000000</td>\n",
       "      <td>719.400024</td>\n",
       "      <td>323.829987</td>\n",
       "      <td>164.889999</td>\n",
       "    </tr>\n",
       "    <tr>\n",
       "      <th>C_ID_00027503e2</th>\n",
       "      <td>13.980000</td>\n",
       "      <td>4.000000</td>\n",
       "      <td>25.340000</td>\n",
       "      <td>7.340000</td>\n",
       "    </tr>\n",
       "    <tr>\n",
       "      <th>C_ID_0002c7c2c1</th>\n",
       "      <td>341.679993</td>\n",
       "      <td>121.379997</td>\n",
       "      <td>258.250000</td>\n",
       "      <td>109.000000</td>\n",
       "    </tr>\n",
       "  </tbody>\n",
       "</table>\n",
       "</div>"
      ],
      "text/plain": [
       "                 purch_head_sum  purch_head_max  purch_tail_sum  \\\n",
       "card_id                                                           \n",
       "C_ID_00007093c1     1275.199951      521.799988      571.349976   \n",
       "C_ID_0001506ef0      138.979996       51.459999     1582.000000   \n",
       "C_ID_000183fdda     2112.000000      719.400024      323.829987   \n",
       "C_ID_00027503e2       13.980000        4.000000       25.340000   \n",
       "C_ID_0002c7c2c1      341.679993      121.379997      258.250000   \n",
       "\n",
       "                 purch_tail_max  \n",
       "card_id                          \n",
       "C_ID_00007093c1      207.440002  \n",
       "C_ID_0001506ef0     1491.000000  \n",
       "C_ID_000183fdda      164.889999  \n",
       "C_ID_00027503e2        7.340000  \n",
       "C_ID_0002c7c2c1      109.000000  "
      ]
     },
     "execution_count": 100,
     "metadata": {},
     "output_type": "execute_result"
    }
   ],
   "source": [
    "temp_df_3 = pd.DataFrame()\n",
    "temp_df_3['purch_head_sum'] = sorted_df.groupby(['card_id'])['new_purchase_amount'].apply(lambda x : x.head().sum())\n",
    "temp_df_3['purch_head_max'] = sorted_df.groupby(['card_id'])['new_purchase_amount'].apply(lambda x : x.head().max())\n",
    "temp_df_3['purch_tail_sum'] = sorted_df.groupby(['card_id'])['new_purchase_amount'].apply(lambda x : x.tail().sum())\n",
    "temp_df_3['purch_tail_max'] = sorted_df.groupby(['card_id'])['new_purchase_amount'].apply(lambda x : x.tail().max())\n",
    "temp_df_3.head()"
   ]
  },
  {
   "cell_type": "code",
   "execution_count": 101,
   "metadata": {},
   "outputs": [],
   "source": [
    "## Obtaining other statistical features on purchase amounts\n",
    "temp_df_3['purch_head_var'] = sorted_df.groupby(['card_id'])['new_purchase_amount'].apply(lambda x : x.head().var())\n",
    "temp_df_3['purch_head_skew'] = sorted_df.groupby(['card_id'])['new_purchase_amount'].apply(lambda x : x.head().skew())\n",
    "temp_df_3['purch_tail_var'] = sorted_df.groupby(['card_id'])['new_purchase_amount'].apply(lambda x : x.tail().var())\n",
    "temp_df_3['purch_tail_skew'] = sorted_df.groupby(['card_id'])['new_purchase_amount'].apply(lambda x : x.tail().skew())"
   ]
  },
  {
   "cell_type": "code",
   "execution_count": 102,
   "metadata": {},
   "outputs": [
    {
     "data": {
      "text/html": [
       "<div>\n",
       "<style scoped>\n",
       "    .dataframe tbody tr th:only-of-type {\n",
       "        vertical-align: middle;\n",
       "    }\n",
       "\n",
       "    .dataframe tbody tr th {\n",
       "        vertical-align: top;\n",
       "    }\n",
       "\n",
       "    .dataframe thead th {\n",
       "        text-align: right;\n",
       "    }\n",
       "</style>\n",
       "<table border=\"1\" class=\"dataframe\">\n",
       "  <thead>\n",
       "    <tr style=\"text-align: right;\">\n",
       "      <th></th>\n",
       "      <th>purch_head_sum</th>\n",
       "      <th>purch_head_max</th>\n",
       "      <th>purch_tail_sum</th>\n",
       "      <th>purch_tail_max</th>\n",
       "      <th>purch_head_var</th>\n",
       "      <th>purch_head_skew</th>\n",
       "      <th>purch_tail_var</th>\n",
       "      <th>purch_tail_skew</th>\n",
       "    </tr>\n",
       "    <tr>\n",
       "      <th>card_id</th>\n",
       "      <th></th>\n",
       "      <th></th>\n",
       "      <th></th>\n",
       "      <th></th>\n",
       "      <th></th>\n",
       "      <th></th>\n",
       "      <th></th>\n",
       "      <th></th>\n",
       "    </tr>\n",
       "  </thead>\n",
       "  <tbody>\n",
       "    <tr>\n",
       "      <th>C_ID_00007093c1</th>\n",
       "      <td>1275.199951</td>\n",
       "      <td>521.799988</td>\n",
       "      <td>571.349976</td>\n",
       "      <td>207.440002</td>\n",
       "      <td>25530.548828</td>\n",
       "      <td>1.579385</td>\n",
       "      <td>6638.794434</td>\n",
       "      <td>0.188582</td>\n",
       "    </tr>\n",
       "    <tr>\n",
       "      <th>C_ID_0001506ef0</th>\n",
       "      <td>138.979996</td>\n",
       "      <td>51.459999</td>\n",
       "      <td>1582.000000</td>\n",
       "      <td>1491.000000</td>\n",
       "      <td>281.557465</td>\n",
       "      <td>0.768639</td>\n",
       "      <td>431159.156250</td>\n",
       "      <td>2.235970</td>\n",
       "    </tr>\n",
       "    <tr>\n",
       "      <th>C_ID_000183fdda</th>\n",
       "      <td>2112.000000</td>\n",
       "      <td>719.400024</td>\n",
       "      <td>323.829987</td>\n",
       "      <td>164.889999</td>\n",
       "      <td>74328.843750</td>\n",
       "      <td>0.559976</td>\n",
       "      <td>3183.509033</td>\n",
       "      <td>2.147732</td>\n",
       "    </tr>\n",
       "    <tr>\n",
       "      <th>C_ID_00027503e2</th>\n",
       "      <td>13.980000</td>\n",
       "      <td>4.000000</td>\n",
       "      <td>25.340000</td>\n",
       "      <td>7.340000</td>\n",
       "      <td>2.130030</td>\n",
       "      <td>-0.592579</td>\n",
       "      <td>7.863120</td>\n",
       "      <td>-0.597244</td>\n",
       "    </tr>\n",
       "    <tr>\n",
       "      <th>C_ID_0002c7c2c1</th>\n",
       "      <td>341.679993</td>\n",
       "      <td>121.379997</td>\n",
       "      <td>258.250000</td>\n",
       "      <td>109.000000</td>\n",
       "      <td>1665.964111</td>\n",
       "      <td>0.594205</td>\n",
       "      <td>1384.665161</td>\n",
       "      <td>1.126876</td>\n",
       "    </tr>\n",
       "  </tbody>\n",
       "</table>\n",
       "</div>"
      ],
      "text/plain": [
       "                 purch_head_sum  purch_head_max  purch_tail_sum  \\\n",
       "card_id                                                           \n",
       "C_ID_00007093c1     1275.199951      521.799988      571.349976   \n",
       "C_ID_0001506ef0      138.979996       51.459999     1582.000000   \n",
       "C_ID_000183fdda     2112.000000      719.400024      323.829987   \n",
       "C_ID_00027503e2       13.980000        4.000000       25.340000   \n",
       "C_ID_0002c7c2c1      341.679993      121.379997      258.250000   \n",
       "\n",
       "                 purch_tail_max  purch_head_var  purch_head_skew  \\\n",
       "card_id                                                            \n",
       "C_ID_00007093c1      207.440002    25530.548828         1.579385   \n",
       "C_ID_0001506ef0     1491.000000      281.557465         0.768639   \n",
       "C_ID_000183fdda      164.889999    74328.843750         0.559976   \n",
       "C_ID_00027503e2        7.340000        2.130030        -0.592579   \n",
       "C_ID_0002c7c2c1      109.000000     1665.964111         0.594205   \n",
       "\n",
       "                 purch_tail_var  purch_tail_skew  \n",
       "card_id                                           \n",
       "C_ID_00007093c1     6638.794434         0.188582  \n",
       "C_ID_0001506ef0   431159.156250         2.235970  \n",
       "C_ID_000183fdda     3183.509033         2.147732  \n",
       "C_ID_00027503e2        7.863120        -0.597244  \n",
       "C_ID_0002c7c2c1     1384.665161         1.126876  "
      ]
     },
     "execution_count": 102,
     "metadata": {},
     "output_type": "execute_result"
    }
   ],
   "source": [
    "temp_df_3.head()"
   ]
  },
  {
   "cell_type": "code",
   "execution_count": 106,
   "metadata": {},
   "outputs": [
    {
     "data": {
      "text/plain": [
       "purch_head_sum     0\n",
       "purch_head_max     0\n",
       "purch_tail_sum     0\n",
       "purch_tail_max     0\n",
       "purch_head_var     0\n",
       "purch_head_skew    0\n",
       "purch_tail_var     0\n",
       "purch_tail_skew    0\n",
       "dtype: int64"
      ]
     },
     "execution_count": 106,
     "metadata": {},
     "output_type": "execute_result"
    }
   ],
   "source": [
    "## replacing nan values by mean values as the number of missing values were too low\n",
    "head_skew_mean = np.mean(temp_df_3['purch_head_skew'])\n",
    "tail_skew_mean = np.mean(temp_df_3['purch_tail_skew'])\n",
    "\n",
    "temp_df_3['purch_head_skew'].replace(np.nan,head_skew_mean,inplace=True)\n",
    "temp_df_3['purch_tail_skew'].replace(np.nan,tail_skew_mean,inplace=True)\n",
    "temp_df_3.isnull().sum()"
   ]
  },
  {
   "cell_type": "code",
   "execution_count": 107,
   "metadata": {},
   "outputs": [
    {
     "data": {
      "text/html": [
       "<div>\n",
       "<style scoped>\n",
       "    .dataframe tbody tr th:only-of-type {\n",
       "        vertical-align: middle;\n",
       "    }\n",
       "\n",
       "    .dataframe tbody tr th {\n",
       "        vertical-align: top;\n",
       "    }\n",
       "\n",
       "    .dataframe thead th {\n",
       "        text-align: right;\n",
       "    }\n",
       "</style>\n",
       "<table border=\"1\" class=\"dataframe\">\n",
       "  <thead>\n",
       "    <tr style=\"text-align: right;\">\n",
       "      <th></th>\n",
       "      <th>purch_head_sum</th>\n",
       "      <th>purch_head_max</th>\n",
       "      <th>purch_tail_sum</th>\n",
       "      <th>purch_tail_max</th>\n",
       "      <th>purch_head_var</th>\n",
       "      <th>purch_head_skew</th>\n",
       "      <th>purch_tail_var</th>\n",
       "      <th>purch_tail_skew</th>\n",
       "    </tr>\n",
       "    <tr>\n",
       "      <th>card_id</th>\n",
       "      <th></th>\n",
       "      <th></th>\n",
       "      <th></th>\n",
       "      <th></th>\n",
       "      <th></th>\n",
       "      <th></th>\n",
       "      <th></th>\n",
       "      <th></th>\n",
       "    </tr>\n",
       "  </thead>\n",
       "  <tbody>\n",
       "    <tr>\n",
       "      <th>C_ID_00007093c1</th>\n",
       "      <td>1275.199951</td>\n",
       "      <td>521.799988</td>\n",
       "      <td>571.349976</td>\n",
       "      <td>207.440002</td>\n",
       "      <td>25530.548828</td>\n",
       "      <td>1.579385</td>\n",
       "      <td>6638.794434</td>\n",
       "      <td>0.188582</td>\n",
       "    </tr>\n",
       "    <tr>\n",
       "      <th>C_ID_0001506ef0</th>\n",
       "      <td>138.979996</td>\n",
       "      <td>51.459999</td>\n",
       "      <td>1582.000000</td>\n",
       "      <td>1491.000000</td>\n",
       "      <td>281.557465</td>\n",
       "      <td>0.768639</td>\n",
       "      <td>431159.156250</td>\n",
       "      <td>2.235970</td>\n",
       "    </tr>\n",
       "    <tr>\n",
       "      <th>C_ID_000183fdda</th>\n",
       "      <td>2112.000000</td>\n",
       "      <td>719.400024</td>\n",
       "      <td>323.829987</td>\n",
       "      <td>164.889999</td>\n",
       "      <td>74328.843750</td>\n",
       "      <td>0.559976</td>\n",
       "      <td>3183.509033</td>\n",
       "      <td>2.147732</td>\n",
       "    </tr>\n",
       "    <tr>\n",
       "      <th>C_ID_00027503e2</th>\n",
       "      <td>13.980000</td>\n",
       "      <td>4.000000</td>\n",
       "      <td>25.340000</td>\n",
       "      <td>7.340000</td>\n",
       "      <td>2.130030</td>\n",
       "      <td>-0.592579</td>\n",
       "      <td>7.863120</td>\n",
       "      <td>-0.597244</td>\n",
       "    </tr>\n",
       "    <tr>\n",
       "      <th>C_ID_0002c7c2c1</th>\n",
       "      <td>341.679993</td>\n",
       "      <td>121.379997</td>\n",
       "      <td>258.250000</td>\n",
       "      <td>109.000000</td>\n",
       "      <td>1665.964111</td>\n",
       "      <td>0.594205</td>\n",
       "      <td>1384.665161</td>\n",
       "      <td>1.126876</td>\n",
       "    </tr>\n",
       "  </tbody>\n",
       "</table>\n",
       "</div>"
      ],
      "text/plain": [
       "                 purch_head_sum  purch_head_max  purch_tail_sum  \\\n",
       "card_id                                                           \n",
       "C_ID_00007093c1     1275.199951      521.799988      571.349976   \n",
       "C_ID_0001506ef0      138.979996       51.459999     1582.000000   \n",
       "C_ID_000183fdda     2112.000000      719.400024      323.829987   \n",
       "C_ID_00027503e2       13.980000        4.000000       25.340000   \n",
       "C_ID_0002c7c2c1      341.679993      121.379997      258.250000   \n",
       "\n",
       "                 purch_tail_max  purch_head_var  purch_head_skew  \\\n",
       "card_id                                                            \n",
       "C_ID_00007093c1      207.440002    25530.548828         1.579385   \n",
       "C_ID_0001506ef0     1491.000000      281.557465         0.768639   \n",
       "C_ID_000183fdda      164.889999    74328.843750         0.559976   \n",
       "C_ID_00027503e2        7.340000        2.130030        -0.592579   \n",
       "C_ID_0002c7c2c1      109.000000     1665.964111         0.594205   \n",
       "\n",
       "                 purch_tail_var  purch_tail_skew  \n",
       "card_id                                           \n",
       "C_ID_00007093c1     6638.794434         0.188582  \n",
       "C_ID_0001506ef0   431159.156250         2.235970  \n",
       "C_ID_000183fdda     3183.509033         2.147732  \n",
       "C_ID_00027503e2        7.863120        -0.597244  \n",
       "C_ID_0002c7c2c1     1384.665161         1.126876  "
      ]
     },
     "execution_count": 107,
     "metadata": {},
     "output_type": "execute_result"
    }
   ],
   "source": [
    "temp_df_3.head()"
   ]
  },
  {
   "cell_type": "markdown",
   "metadata": {},
   "source": [
    "<a id = 'additional_features'></a>\n",
    "### Most of the stuff below is  self explanatory"
   ]
  },
  {
   "cell_type": "code",
   "execution_count": 108,
   "metadata": {},
   "outputs": [
    {
     "name": "stdout",
     "output_type": "stream",
     "text": [
      "Computing purchase days max...\n",
      "Computing purchase days min...\n",
      "Computing purchase days difference...\n",
      "Computing number of transactions...\n"
     ]
    },
    {
     "data": {
      "text/html": [
       "<div>\n",
       "<style scoped>\n",
       "    .dataframe tbody tr th:only-of-type {\n",
       "        vertical-align: middle;\n",
       "    }\n",
       "\n",
       "    .dataframe tbody tr th {\n",
       "        vertical-align: top;\n",
       "    }\n",
       "\n",
       "    .dataframe thead th {\n",
       "        text-align: right;\n",
       "    }\n",
       "</style>\n",
       "<table border=\"1\" class=\"dataframe\">\n",
       "  <thead>\n",
       "    <tr style=\"text-align: right;\">\n",
       "      <th></th>\n",
       "      <th>purch_head_sum</th>\n",
       "      <th>purch_head_max</th>\n",
       "      <th>purch_tail_sum</th>\n",
       "      <th>purch_tail_max</th>\n",
       "      <th>purch_head_var</th>\n",
       "      <th>purch_head_skew</th>\n",
       "      <th>purch_tail_var</th>\n",
       "      <th>purch_tail_skew</th>\n",
       "      <th>purch_days_max</th>\n",
       "      <th>purch_days_min</th>\n",
       "      <th>purch_days_diff</th>\n",
       "      <th>number_of_trans</th>\n",
       "      <th>purch_days_avg</th>\n",
       "    </tr>\n",
       "    <tr>\n",
       "      <th>card_id</th>\n",
       "      <th></th>\n",
       "      <th></th>\n",
       "      <th></th>\n",
       "      <th></th>\n",
       "      <th></th>\n",
       "      <th></th>\n",
       "      <th></th>\n",
       "      <th></th>\n",
       "      <th></th>\n",
       "      <th></th>\n",
       "      <th></th>\n",
       "      <th></th>\n",
       "      <th></th>\n",
       "    </tr>\n",
       "  </thead>\n",
       "  <tbody>\n",
       "    <tr>\n",
       "      <th>C_ID_00007093c1</th>\n",
       "      <td>1275.199951</td>\n",
       "      <td>521.799988</td>\n",
       "      <td>571.349976</td>\n",
       "      <td>207.440002</td>\n",
       "      <td>25530.548828</td>\n",
       "      <td>1.579385</td>\n",
       "      <td>6638.794434</td>\n",
       "      <td>0.188582</td>\n",
       "      <td>2018-02-27</td>\n",
       "      <td>2017-02-14</td>\n",
       "      <td>378 days</td>\n",
       "      <td>149</td>\n",
       "      <td>2 days 12:53:09.261744</td>\n",
       "    </tr>\n",
       "    <tr>\n",
       "      <th>C_ID_0001506ef0</th>\n",
       "      <td>138.979996</td>\n",
       "      <td>51.459999</td>\n",
       "      <td>1582.000000</td>\n",
       "      <td>1491.000000</td>\n",
       "      <td>281.557465</td>\n",
       "      <td>0.768639</td>\n",
       "      <td>431159.156250</td>\n",
       "      <td>2.235970</td>\n",
       "      <td>2018-02-17</td>\n",
       "      <td>2017-01-14</td>\n",
       "      <td>399 days</td>\n",
       "      <td>66</td>\n",
       "      <td>6 days 01:05:27.272727</td>\n",
       "    </tr>\n",
       "    <tr>\n",
       "      <th>C_ID_000183fdda</th>\n",
       "      <td>2112.000000</td>\n",
       "      <td>719.400024</td>\n",
       "      <td>323.829987</td>\n",
       "      <td>164.889999</td>\n",
       "      <td>74328.843750</td>\n",
       "      <td>0.559976</td>\n",
       "      <td>3183.509033</td>\n",
       "      <td>2.147732</td>\n",
       "      <td>2018-02-25</td>\n",
       "      <td>2017-08-07</td>\n",
       "      <td>202 days</td>\n",
       "      <td>144</td>\n",
       "      <td>1 days 09:40:00</td>\n",
       "    </tr>\n",
       "    <tr>\n",
       "      <th>C_ID_00027503e2</th>\n",
       "      <td>13.980000</td>\n",
       "      <td>4.000000</td>\n",
       "      <td>25.340000</td>\n",
       "      <td>7.340000</td>\n",
       "      <td>2.130030</td>\n",
       "      <td>-0.592579</td>\n",
       "      <td>7.863120</td>\n",
       "      <td>-0.597244</td>\n",
       "      <td>2018-01-19</td>\n",
       "      <td>2017-05-27</td>\n",
       "      <td>237 days</td>\n",
       "      <td>42</td>\n",
       "      <td>5 days 15:25:42.857142</td>\n",
       "    </tr>\n",
       "    <tr>\n",
       "      <th>C_ID_0002c7c2c1</th>\n",
       "      <td>341.679993</td>\n",
       "      <td>121.379997</td>\n",
       "      <td>258.250000</td>\n",
       "      <td>109.000000</td>\n",
       "      <td>1665.964111</td>\n",
       "      <td>0.594205</td>\n",
       "      <td>1384.665161</td>\n",
       "      <td>1.126876</td>\n",
       "      <td>2018-01-25</td>\n",
       "      <td>2017-04-15</td>\n",
       "      <td>285 days</td>\n",
       "      <td>67</td>\n",
       "      <td>4 days 06:05:22.388059</td>\n",
       "    </tr>\n",
       "  </tbody>\n",
       "</table>\n",
       "</div>"
      ],
      "text/plain": [
       "                 purch_head_sum  purch_head_max  purch_tail_sum  \\\n",
       "card_id                                                           \n",
       "C_ID_00007093c1     1275.199951      521.799988      571.349976   \n",
       "C_ID_0001506ef0      138.979996       51.459999     1582.000000   \n",
       "C_ID_000183fdda     2112.000000      719.400024      323.829987   \n",
       "C_ID_00027503e2       13.980000        4.000000       25.340000   \n",
       "C_ID_0002c7c2c1      341.679993      121.379997      258.250000   \n",
       "\n",
       "                 purch_tail_max  purch_head_var  purch_head_skew  \\\n",
       "card_id                                                            \n",
       "C_ID_00007093c1      207.440002    25530.548828         1.579385   \n",
       "C_ID_0001506ef0     1491.000000      281.557465         0.768639   \n",
       "C_ID_000183fdda      164.889999    74328.843750         0.559976   \n",
       "C_ID_00027503e2        7.340000        2.130030        -0.592579   \n",
       "C_ID_0002c7c2c1      109.000000     1665.964111         0.594205   \n",
       "\n",
       "                 purch_tail_var  purch_tail_skew purch_days_max  \\\n",
       "card_id                                                           \n",
       "C_ID_00007093c1     6638.794434         0.188582     2018-02-27   \n",
       "C_ID_0001506ef0   431159.156250         2.235970     2018-02-17   \n",
       "C_ID_000183fdda     3183.509033         2.147732     2018-02-25   \n",
       "C_ID_00027503e2        7.863120        -0.597244     2018-01-19   \n",
       "C_ID_0002c7c2c1     1384.665161         1.126876     2018-01-25   \n",
       "\n",
       "                purch_days_min purch_days_diff  number_of_trans  \\\n",
       "card_id                                                           \n",
       "C_ID_00007093c1     2017-02-14        378 days              149   \n",
       "C_ID_0001506ef0     2017-01-14        399 days               66   \n",
       "C_ID_000183fdda     2017-08-07        202 days              144   \n",
       "C_ID_00027503e2     2017-05-27        237 days               42   \n",
       "C_ID_0002c7c2c1     2017-04-15        285 days               67   \n",
       "\n",
       "                        purch_days_avg  \n",
       "card_id                                 \n",
       "C_ID_00007093c1 2 days 12:53:09.261744  \n",
       "C_ID_0001506ef0 6 days 01:05:27.272727  \n",
       "C_ID_000183fdda        1 days 09:40:00  \n",
       "C_ID_00027503e2 5 days 15:25:42.857142  \n",
       "C_ID_0002c7c2c1 4 days 06:05:22.388059  "
      ]
     },
     "execution_count": 108,
     "metadata": {},
     "output_type": "execute_result"
    }
   ],
   "source": [
    "print(\"Computing purchase days max...\")\n",
    "temp_df_3['purch_days_max'] = sorted_df.groupby(['card_id'])['purchase_date'].apply(lambda x : x.max())\n",
    "print(\"Computing purchase days min...\")\n",
    "temp_df_3['purch_days_min'] = sorted_df.groupby(['card_id'])['purchase_date'].apply(lambda x : x.min())\n",
    "print(\"Computing purchase days difference...\")\n",
    "temp_df_3['purch_days_diff'] = (temp_df_3['purch_days_max'] - temp_df_3['purch_days_min'])\n",
    "\n",
    "print(\"Computing number of transactions...\")\n",
    "temp_df_3['number_of_trans'] = sorted_df.groupby(['card_id'])['purchase_date'].apply(lambda x : x.count())\n",
    "temp_df_3['purch_days_avg'] = temp_df_3['purch_days_diff']/temp_df_3['number_of_trans']\n",
    "temp_df_3.head()\n"
   ]
  },
  {
   "cell_type": "code",
   "execution_count": 109,
   "metadata": {},
   "outputs": [
    {
     "data": {
      "text/html": [
       "<div>\n",
       "<style scoped>\n",
       "    .dataframe tbody tr th:only-of-type {\n",
       "        vertical-align: middle;\n",
       "    }\n",
       "\n",
       "    .dataframe tbody tr th {\n",
       "        vertical-align: top;\n",
       "    }\n",
       "\n",
       "    .dataframe thead th {\n",
       "        text-align: right;\n",
       "    }\n",
       "</style>\n",
       "<table border=\"1\" class=\"dataframe\">\n",
       "  <thead>\n",
       "    <tr style=\"text-align: right;\">\n",
       "      <th></th>\n",
       "      <th>purch_head_sum</th>\n",
       "      <th>purch_head_max</th>\n",
       "      <th>purch_tail_sum</th>\n",
       "      <th>purch_tail_max</th>\n",
       "      <th>purch_head_var</th>\n",
       "      <th>purch_head_skew</th>\n",
       "      <th>purch_tail_var</th>\n",
       "      <th>purch_tail_skew</th>\n",
       "      <th>purch_days_max</th>\n",
       "      <th>purch_days_min</th>\n",
       "      <th>purch_days_diff</th>\n",
       "      <th>number_of_trans</th>\n",
       "      <th>purch_days_avg</th>\n",
       "    </tr>\n",
       "    <tr>\n",
       "      <th>card_id</th>\n",
       "      <th></th>\n",
       "      <th></th>\n",
       "      <th></th>\n",
       "      <th></th>\n",
       "      <th></th>\n",
       "      <th></th>\n",
       "      <th></th>\n",
       "      <th></th>\n",
       "      <th></th>\n",
       "      <th></th>\n",
       "      <th></th>\n",
       "      <th></th>\n",
       "      <th></th>\n",
       "    </tr>\n",
       "  </thead>\n",
       "  <tbody>\n",
       "    <tr>\n",
       "      <th>C_ID_00007093c1</th>\n",
       "      <td>1275.199951</td>\n",
       "      <td>521.799988</td>\n",
       "      <td>571.349976</td>\n",
       "      <td>207.440002</td>\n",
       "      <td>25530.548828</td>\n",
       "      <td>1.579385</td>\n",
       "      <td>6638.794434</td>\n",
       "      <td>0.188582</td>\n",
       "      <td>2018-02-27</td>\n",
       "      <td>2017-02-14</td>\n",
       "      <td>378.0</td>\n",
       "      <td>149</td>\n",
       "      <td>2.536913</td>\n",
       "    </tr>\n",
       "    <tr>\n",
       "      <th>C_ID_0001506ef0</th>\n",
       "      <td>138.979996</td>\n",
       "      <td>51.459999</td>\n",
       "      <td>1582.000000</td>\n",
       "      <td>1491.000000</td>\n",
       "      <td>281.557465</td>\n",
       "      <td>0.768639</td>\n",
       "      <td>431159.156250</td>\n",
       "      <td>2.235970</td>\n",
       "      <td>2018-02-17</td>\n",
       "      <td>2017-01-14</td>\n",
       "      <td>399.0</td>\n",
       "      <td>66</td>\n",
       "      <td>6.045455</td>\n",
       "    </tr>\n",
       "    <tr>\n",
       "      <th>C_ID_000183fdda</th>\n",
       "      <td>2112.000000</td>\n",
       "      <td>719.400024</td>\n",
       "      <td>323.829987</td>\n",
       "      <td>164.889999</td>\n",
       "      <td>74328.843750</td>\n",
       "      <td>0.559976</td>\n",
       "      <td>3183.509033</td>\n",
       "      <td>2.147732</td>\n",
       "      <td>2018-02-25</td>\n",
       "      <td>2017-08-07</td>\n",
       "      <td>202.0</td>\n",
       "      <td>144</td>\n",
       "      <td>1.402778</td>\n",
       "    </tr>\n",
       "    <tr>\n",
       "      <th>C_ID_00027503e2</th>\n",
       "      <td>13.980000</td>\n",
       "      <td>4.000000</td>\n",
       "      <td>25.340000</td>\n",
       "      <td>7.340000</td>\n",
       "      <td>2.130030</td>\n",
       "      <td>-0.592579</td>\n",
       "      <td>7.863120</td>\n",
       "      <td>-0.597244</td>\n",
       "      <td>2018-01-19</td>\n",
       "      <td>2017-05-27</td>\n",
       "      <td>237.0</td>\n",
       "      <td>42</td>\n",
       "      <td>5.642857</td>\n",
       "    </tr>\n",
       "    <tr>\n",
       "      <th>C_ID_0002c7c2c1</th>\n",
       "      <td>341.679993</td>\n",
       "      <td>121.379997</td>\n",
       "      <td>258.250000</td>\n",
       "      <td>109.000000</td>\n",
       "      <td>1665.964111</td>\n",
       "      <td>0.594205</td>\n",
       "      <td>1384.665161</td>\n",
       "      <td>1.126876</td>\n",
       "      <td>2018-01-25</td>\n",
       "      <td>2017-04-15</td>\n",
       "      <td>285.0</td>\n",
       "      <td>67</td>\n",
       "      <td>4.253731</td>\n",
       "    </tr>\n",
       "  </tbody>\n",
       "</table>\n",
       "</div>"
      ],
      "text/plain": [
       "                 purch_head_sum  purch_head_max  purch_tail_sum  \\\n",
       "card_id                                                           \n",
       "C_ID_00007093c1     1275.199951      521.799988      571.349976   \n",
       "C_ID_0001506ef0      138.979996       51.459999     1582.000000   \n",
       "C_ID_000183fdda     2112.000000      719.400024      323.829987   \n",
       "C_ID_00027503e2       13.980000        4.000000       25.340000   \n",
       "C_ID_0002c7c2c1      341.679993      121.379997      258.250000   \n",
       "\n",
       "                 purch_tail_max  purch_head_var  purch_head_skew  \\\n",
       "card_id                                                            \n",
       "C_ID_00007093c1      207.440002    25530.548828         1.579385   \n",
       "C_ID_0001506ef0     1491.000000      281.557465         0.768639   \n",
       "C_ID_000183fdda      164.889999    74328.843750         0.559976   \n",
       "C_ID_00027503e2        7.340000        2.130030        -0.592579   \n",
       "C_ID_0002c7c2c1      109.000000     1665.964111         0.594205   \n",
       "\n",
       "                 purch_tail_var  purch_tail_skew purch_days_max  \\\n",
       "card_id                                                           \n",
       "C_ID_00007093c1     6638.794434         0.188582     2018-02-27   \n",
       "C_ID_0001506ef0   431159.156250         2.235970     2018-02-17   \n",
       "C_ID_000183fdda     3183.509033         2.147732     2018-02-25   \n",
       "C_ID_00027503e2        7.863120        -0.597244     2018-01-19   \n",
       "C_ID_0002c7c2c1     1384.665161         1.126876     2018-01-25   \n",
       "\n",
       "                purch_days_min  purch_days_diff  number_of_trans  \\\n",
       "card_id                                                            \n",
       "C_ID_00007093c1     2017-02-14            378.0              149   \n",
       "C_ID_0001506ef0     2017-01-14            399.0               66   \n",
       "C_ID_000183fdda     2017-08-07            202.0              144   \n",
       "C_ID_00027503e2     2017-05-27            237.0               42   \n",
       "C_ID_0002c7c2c1     2017-04-15            285.0               67   \n",
       "\n",
       "                 purch_days_avg  \n",
       "card_id                          \n",
       "C_ID_00007093c1        2.536913  \n",
       "C_ID_0001506ef0        6.045455  \n",
       "C_ID_000183fdda        1.402778  \n",
       "C_ID_00027503e2        5.642857  \n",
       "C_ID_0002c7c2c1        4.253731  "
      ]
     },
     "execution_count": 109,
     "metadata": {},
     "output_type": "execute_result"
    }
   ],
   "source": [
    "temp_df_3['purch_days_diff'] = (temp_df_3['purch_days_max'] - temp_df_3['purch_days_min']) / np.timedelta64(1,'D')\n",
    "temp_df_3['purch_days_avg'] = temp_df_3['purch_days_diff']/temp_df_3['number_of_trans']\n",
    "temp_df_3.head()"
   ]
  },
  {
   "cell_type": "code",
   "execution_count": 110,
   "metadata": {},
   "outputs": [
    {
     "data": {
      "text/plain": [
       "pamount_refmonth_ratio_mean     0\n",
       "pamount_refmonth_ratio_sum      0\n",
       "pamount_refmonth_ratio_var      0\n",
       "pamount_refmonth_ratio_min      0\n",
       "pamount_refmonth_ratio_max      0\n",
       "pamount_refmonth_ratio_skew    34\n",
       "purch_amt_diff_mean             0\n",
       "purch_amt_diff_sum              0\n",
       "purch_amt_diff_var              0\n",
       "purch_amt_diff_min              0\n",
       "purch_amt_diff_max              0\n",
       "purch_amt_diff_skew            34\n",
       "purch_head_sum                  0\n",
       "purch_head_max                  0\n",
       "purch_tail_sum                  0\n",
       "purch_tail_max                  0\n",
       "purch_head_var                  0\n",
       "purch_head_skew                 0\n",
       "purch_tail_var                  0\n",
       "purch_tail_skew                 0\n",
       "purch_days_max                  0\n",
       "purch_days_min                  0\n",
       "purch_days_diff                 0\n",
       "number_of_trans                 0\n",
       "purch_days_avg                  0\n",
       "dtype: int64"
      ]
     },
     "execution_count": 110,
     "metadata": {},
     "output_type": "execute_result"
    }
   ],
   "source": [
    "temp_df = pd.merge(temp_df,temp_df_2,on='card_id',how='inner')\n",
    "temp_df = pd.merge(temp_df,temp_df_3,on='card_id',how='inner')\n",
    "temp_df.isnull().sum()"
   ]
  },
  {
   "cell_type": "code",
   "execution_count": 111,
   "metadata": {},
   "outputs": [
    {
     "data": {
      "text/plain": [
       "(201917, 25)"
      ]
     },
     "execution_count": 111,
     "metadata": {},
     "output_type": "execute_result"
    }
   ],
   "source": [
    "temp_df.shape"
   ]
  },
  {
   "cell_type": "code",
   "execution_count": 112,
   "metadata": {},
   "outputs": [
    {
     "data": {
      "text/plain": [
       "(201917, 27)"
      ]
     },
     "execution_count": 112,
     "metadata": {},
     "output_type": "execute_result"
    }
   ],
   "source": [
    "temp_df['purchase_amount_sum'] = sorted_df.groupby(['card_id'])['new_purchase_amount'].apply(lambda x : x.sum())\n",
    "temp_df['avg_spend_per_trans'] = temp_df['purchase_amount_sum']/temp_df['number_of_trans']\n",
    "temp_df.shape"
   ]
  },
  {
   "cell_type": "code",
   "execution_count": 113,
   "metadata": {},
   "outputs": [
    {
     "data": {
      "text/plain": [
       "pamount_refmonth_ratio_mean     0\n",
       "pamount_refmonth_ratio_sum      0\n",
       "pamount_refmonth_ratio_var      0\n",
       "pamount_refmonth_ratio_min      0\n",
       "pamount_refmonth_ratio_max      0\n",
       "pamount_refmonth_ratio_skew    34\n",
       "purch_amt_diff_mean             0\n",
       "purch_amt_diff_sum              0\n",
       "purch_amt_diff_var              0\n",
       "purch_amt_diff_min              0\n",
       "purch_amt_diff_max              0\n",
       "purch_amt_diff_skew            34\n",
       "purch_head_sum                  0\n",
       "purch_head_max                  0\n",
       "purch_tail_sum                  0\n",
       "purch_tail_max                  0\n",
       "purch_head_var                  0\n",
       "purch_head_skew                 0\n",
       "purch_tail_var                  0\n",
       "purch_tail_skew                 0\n",
       "purch_days_max                  0\n",
       "purch_days_min                  0\n",
       "purch_days_diff                 0\n",
       "number_of_trans                 0\n",
       "purch_days_avg                  0\n",
       "purchase_amount_sum             0\n",
       "avg_spend_per_trans             0\n",
       "dtype: int64"
      ]
     },
     "execution_count": 113,
     "metadata": {},
     "output_type": "execute_result"
    }
   ],
   "source": [
    "temp_df.isnull().sum()"
   ]
  },
  {
   "cell_type": "code",
   "execution_count": 114,
   "metadata": {},
   "outputs": [],
   "source": [
    "ratio_skew_mean = np.mean(temp_df['pamount_refmonth_ratio_skew'])\n",
    "diff_skew_mean = np.mean(temp_df['purch_amt_diff_skew'])"
   ]
  },
  {
   "cell_type": "code",
   "execution_count": 115,
   "metadata": {},
   "outputs": [],
   "source": [
    "## replacing nan values by mean values\n",
    "temp_df['pamount_refmonth_ratio_skew'].replace(np.nan,ratio_skew_mean,inplace=True)\n",
    "temp_df['purch_amt_diff_skew'].replace(np.nan,diff_skew_mean,inplace=True)"
   ]
  }
 ],
 "metadata": {
  "kernelspec": {
   "display_name": "Python 3",
   "language": "python",
   "name": "python3"
  },
  "language_info": {
   "codemirror_mode": {
    "name": "ipython",
    "version": 3
   },
   "file_extension": ".py",
   "mimetype": "text/x-python",
   "name": "python",
   "nbconvert_exporter": "python",
   "pygments_lexer": "ipython3",
   "version": "3.8.5"
  }
 },
 "nbformat": 4,
 "nbformat_minor": 4
}
