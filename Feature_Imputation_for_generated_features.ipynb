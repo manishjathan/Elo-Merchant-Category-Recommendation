{
 "cells": [
  {
   "cell_type": "markdown",
   "metadata": {},
   "source": [
    "## Summary of the notebook\n",
    "* There were three dataframes that were created during the transformation process <br>\n",
    "viz. trans_train_df(transformed train data),trans_merch_df(transformed merchant data),trans_hist_df(transformed historical data)\n",
    "* Dropped a few duplicate columns and unwanted columns with low correlation with the target variable.\n",
    "* The total number of columns obtained after performing the above operations = 589\n",
    "* [Action plan of imputation](#action_plan_for_imputation)\n",
    "* [Missing Values percentage and analysis](#percentage_of_missing_values)\n",
    "* [Initial dropping of features](#initial_dropping_of_features)\n",
    "* [Modification_in_imputation_strategy](#modification_in_imputation_strategy)\n",
    "* [Median,Mode based imputation](#median_mode_based_imputation)\n",
    "* [Model based imputation](#model_based_imputation)\n",
    "* [Mix of median,mode and model based imputation](#mixed_imputation)\n",
    "* [Comparing_performances](#comparing_performances)\n",
    "* [Final Analysis](#final_analysis)"
   ]
  },
  {
   "cell_type": "code",
   "execution_count": 2,
   "metadata": {
    "colab": {
     "base_uri": "https://localhost:8080/",
     "height": 52
    },
    "colab_type": "code",
    "id": "Y4R2gbxuz_jq",
    "outputId": "47824608-4a6a-496b-fb58-ecf6a6efcfb0"
   },
   "outputs": [],
   "source": [
    "import pandas as pd\n",
    "import numpy as np\n",
    "import pickle\n",
    "import matplotlib.pyplot as plt\n",
    "import matplotlib\n",
    "import seaborn as sns\n",
    "from sklearn.metrics import mean_squared_error as mse"
   ]
  },
  {
   "cell_type": "code",
   "execution_count": 3,
   "metadata": {
    "colab": {},
    "colab_type": "code",
    "id": "q8AAbGBsO8F_"
   },
   "outputs": [],
   "source": [
    "## Importing all the necessary Imputers and Tree based models\n",
    "from sklearn.impute import SimpleImputer\n",
    "from sklearn.linear_model import BayesianRidge\n",
    "from sklearn.tree import DecisionTreeRegressor\n",
    "from sklearn.ensemble import ExtraTreesRegressor\n",
    "from sklearn.neighbors import KNeighborsRegressor\n",
    "from sklearn.pipeline import make_pipeline\n",
    "from sklearn.model_selection import cross_val_score\n",
    "import lightgbm as lgb\n",
    "from sklearn.experimental import enable_iterative_imputer\n",
    "from sklearn.impute import IterativeImputer"
   ]
  },
  {
   "cell_type": "code",
   "execution_count": 4,
   "metadata": {
    "colab": {
     "base_uri": "https://localhost:8080/",
     "height": 126
    },
    "colab_type": "code",
    "id": "rbjHJ-lI0Gzj",
    "outputId": "f2064f1c-e176-41f3-ae23-bc9aa1c660f6"
   },
   "outputs": [
    {
     "name": "stdout",
     "output_type": "stream",
     "text": [
      "Go to this URL in a browser: https://accounts.google.com/o/oauth2/auth?client_id=947318989803-6bn6qk8qdgf4n4g3pfee6491hc0brc4i.apps.googleusercontent.com&redirect_uri=urn%3aietf%3awg%3aoauth%3a2.0%3aoob&scope=email%20https%3a%2f%2fwww.googleapis.com%2fauth%2fdocs.test%20https%3a%2f%2fwww.googleapis.com%2fauth%2fdrive%20https%3a%2f%2fwww.googleapis.com%2fauth%2fdrive.photos.readonly%20https%3a%2f%2fwww.googleapis.com%2fauth%2fpeopleapi.readonly&response_type=code\n",
      "\n",
      "Enter your authorization code:\n",
      "··········\n",
      "Mounted at /content/gdrive\n"
     ]
    }
   ],
   "source": [
    "from google.colab import drive \n",
    "drive.mount('/content/gdrive')"
   ]
  },
  {
   "cell_type": "code",
   "execution_count": 5,
   "metadata": {
    "colab": {},
    "colab_type": "code",
    "id": "WsFahn8ZO2hX"
   },
   "outputs": [],
   "source": [
    "## Creating a scoring function for RMSE as this is the metric used in the competition\n",
    "def root_mean_squared_error(model,X,y_true):\n",
    "  y_pred = model.predict(X)\n",
    "  return np.sqrt(mse(y_true,y_pred))"
   ]
  },
  {
   "cell_type": "code",
   "execution_count": 6,
   "metadata": {
    "colab": {
     "base_uri": "https://localhost:8080/",
     "height": 34
    },
    "colab_type": "code",
    "id": "bsgNjmQl0Yfo",
    "outputId": "bbf2b84c-e67b-4ee0-e5ad-c77a597d4c99"
   },
   "outputs": [
    {
     "data": {
      "text/plain": [
       "(201917, 600)"
      ]
     },
     "execution_count": 6,
     "metadata": {
      "tags": []
     },
     "output_type": "execute_result"
    }
   ],
   "source": [
    "## Importing all the required dataframes\n",
    "trans_train_df = pickle.load(open('gdrive/My Drive/ColabNotebooks/trans_train_df.pkl','rb'))\n",
    "trans_merch_df = pickle.load(open('gdrive/My Drive/ColabNotebooks/trans_merch_df.pkl','rb'))\n",
    "trans_hist_df = pickle.load(open('gdrive/My Drive/ColabNotebooks/trans_hist_df.pkl','rb'))\n",
    "\n",
    "## Merging all the dataframes\n",
    "trans_df = pd.merge(trans_train_df,trans_merch_df,on='card_id',how='inner')\n",
    "trans_df = pd.merge(trans_df,trans_hist_df,on='card_id',how='inner')\n",
    "trans_df.shape"
   ]
  },
  {
   "cell_type": "code",
   "execution_count": 8,
   "metadata": {
    "colab": {
     "base_uri": "https://localhost:8080/",
     "height": 34
    },
    "colab_type": "code",
    "id": "NzQbiopSCNNc",
    "outputId": "5e661adf-7e69-43c7-a0f3-47e2969a1b31"
   },
   "outputs": [
    {
     "data": {
      "text/plain": [
       "(201917, 589)"
      ]
     },
     "execution_count": 8,
     "metadata": {
      "tags": []
     },
     "output_type": "execute_result"
    }
   ],
   "source": [
    "## In the process of merging \n",
    "## identified few duplicate columns\n",
    "## so dropping them.\n",
    "\n",
    "trans_df = trans_df.loc[:,~trans_df.columns.duplicated()]\n",
    "## These are some of the useless columns which \n",
    "## don't add much value to the model(identified during EDA)\n",
    "## plus needs an additional conversion into one-hot or \n",
    "## label encoding. So dropping these features as well\n",
    "\n",
    "cat_col_list = ['first_active_month','category_1_mode','category_3_mode','subsector_id_mode',\n",
    "                'merchant_category_id_mode','category_4_mode', 'most_recent_sales_range_mode',\n",
    "                'most_recent_purchases_range_mode','card_id']\n",
    "trans_df.drop(cat_col_list,axis=1,inplace=True)\n",
    "trans_df.shape"
   ]
  },
  {
   "cell_type": "code",
   "execution_count": 9,
   "metadata": {
    "colab": {},
    "colab_type": "code",
    "id": "fVrUJWdaCw8U"
   },
   "outputs": [],
   "source": [
    "## Replacing all infinity values by nan's\n",
    "trans_df.replace([np.inf,-np.inf],np.nan,inplace=True)"
   ]
  },
  {
   "cell_type": "markdown",
   "metadata": {
    "colab_type": "text",
    "id": "qXWXrl5GGUfF"
   },
   "source": [
    "<a id='action_plan_for_imputation'></a>\n",
    "## 2. Action plan for imputation\n",
    "* Let's divide the features into three sets.\n",
    "* Features with more than certain threshold of missing values,let's drop them.\n",
    "* Feature with less than certain threshold of missing values, let's perform median or model based imputation.\n",
    "* For rest of the features let's do model based imputation."
   ]
  },
  {
   "cell_type": "code",
   "execution_count": 10,
   "metadata": {
    "colab": {
     "base_uri": "https://localhost:8080/",
     "height": 34
    },
    "colab_type": "code",
    "id": "tB4_IlYZ-p4y",
    "outputId": "4d8be235-7c52-4c02-fed3-9967606975dc"
   },
   "outputs": [
    {
     "data": {
      "text/plain": [
       "(201917, 588)"
      ]
     },
     "execution_count": 10,
     "metadata": {
      "tags": []
     },
     "output_type": "execute_result"
    }
   ],
   "source": [
    "## Dividing the dataset into train and target\n",
    "X_train = trans_df.drop(['target'],axis=1)\n",
    "y_train = trans_df['target']\n",
    "X_train.shape"
   ]
  },
  {
   "cell_type": "markdown",
   "metadata": {
    "colab_type": "text",
    "id": "vvcXs1HfoKve"
   },
   "source": [
    "<a id=\"percentage_of_missing_values\"></a>\n",
    "## 3. Identifying thresholds for different imputation regions"
   ]
  },
  {
   "cell_type": "code",
   "execution_count": 11,
   "metadata": {
    "colab": {
     "base_uri": "https://localhost:8080/",
     "height": 189
    },
    "colab_type": "code",
    "id": "3mVQ5OL65IFt",
    "outputId": "89e3e4da-558e-40a0-e50b-57910df1a666"
   },
   "outputs": [
    {
     "data": {
      "text/html": [
       "<div>\n",
       "<style scoped>\n",
       "    .dataframe tbody tr th:only-of-type {\n",
       "        vertical-align: middle;\n",
       "    }\n",
       "\n",
       "    .dataframe tbody tr th {\n",
       "        vertical-align: top;\n",
       "    }\n",
       "\n",
       "    .dataframe thead th {\n",
       "        text-align: right;\n",
       "    }\n",
       "</style>\n",
       "<table border=\"1\" class=\"dataframe\">\n",
       "  <thead>\n",
       "    <tr style=\"text-align: right;\">\n",
       "      <th></th>\n",
       "      <th>index</th>\n",
       "      <th>null_count</th>\n",
       "    </tr>\n",
       "  </thead>\n",
       "  <tbody>\n",
       "    <tr>\n",
       "      <th>0</th>\n",
       "      <td>feature_1</td>\n",
       "      <td>0.0</td>\n",
       "    </tr>\n",
       "    <tr>\n",
       "      <th>1</th>\n",
       "      <td>feature_2</td>\n",
       "      <td>0.0</td>\n",
       "    </tr>\n",
       "    <tr>\n",
       "      <th>2</th>\n",
       "      <td>feature_3</td>\n",
       "      <td>0.0</td>\n",
       "    </tr>\n",
       "    <tr>\n",
       "      <th>3</th>\n",
       "      <td>feature_2_bin</td>\n",
       "      <td>0.0</td>\n",
       "    </tr>\n",
       "    <tr>\n",
       "      <th>4</th>\n",
       "      <td>feature_1_bin</td>\n",
       "      <td>0.0</td>\n",
       "    </tr>\n",
       "  </tbody>\n",
       "</table>\n",
       "</div>"
      ],
      "text/plain": [
       "           index  null_count\n",
       "0      feature_1         0.0\n",
       "1      feature_2         0.0\n",
       "2      feature_3         0.0\n",
       "3  feature_2_bin         0.0\n",
       "4  feature_1_bin         0.0"
      ]
     },
     "execution_count": 11,
     "metadata": {
      "tags": []
     },
     "output_type": "execute_result"
    }
   ],
   "source": [
    "## Forming a dataframe based on null counts in each of the feature\n",
    "null_count_df = (X_train.isnull().sum()*100/X_train.shape[0]).reset_index().rename(columns = {0 : 'null_count'})\n",
    "null_count_df.head()"
   ]
  },
  {
   "cell_type": "code",
   "execution_count": null,
   "metadata": {
    "colab": {
     "base_uri": "https://localhost:8080/",
     "height": 311
    },
    "colab_type": "code",
    "id": "WEG_VYGX7Qj1",
    "outputId": "ab811eb8-e98f-441d-949f-c68d25d4a832"
   },
   "outputs": [
    {
     "data": {
      "text/plain": [
       "Text(0.5, 1.0, 'Number of features vs percentage of missing values')"
      ]
     },
     "execution_count": 31,
     "metadata": {
      "tags": []
     },
     "output_type": "execute_result"
    },
    {
     "data": {
      "image/png": "[encoded data removed]",
      "text/plain": [
       "<Figure size 432x288 with 1 Axes>"
      ]
     },
     "metadata": {
      "needs_background": "light",
      "tags": []
     },
     "output_type": "display_data"
    }
   ],
   "source": [
    "## Plotting the number of features and percentage of missing values in them\n",
    "percentile_10 = np.percentile(null_count_df['null_count'],q=[i for i in range(0,101,10)])\n",
    "x_ticks = [i*(600/100) for i in range(0,101,10)]\n",
    "plt.plot(x_ticks,percentile_10,marker='o') \n",
    "plt.xticks(x_ticks,x_ticks)\n",
    "plt.ylabel('percentage of missing values')\n",
    "plt.xlabel('number of features')\n",
    "plt.title('Number of features vs percentage of missing values')"
   ]
  },
  {
   "cell_type": "markdown",
   "metadata": {
    "colab_type": "text",
    "id": "KjUQm1zlsR7h"
   },
   "source": [
    "## Analysis:\n",
    "* For upto 240 features we don't have missing values.\n",
    "* Beyond that we can see a steep increase in the number of the missing values features.\n",
    "* By looking at this plot I am thinking of dividing the missing values into three regions.\n",
    "\n",
    "* Plan in first iteration\n",
    "  * No-Null values\n",
    "  * Median Imputation features with missing values greater than 0  and less than 25.\n",
    "  * Model based imputation for 25 to 66 percentile missing values.\n",
    "  * Elimination of remaining features.\n",
    "\n",
    "* Plan after third iteration \n",
    "  * After several parameter tuning and realizing the RAM and core capacities finally decided on dividing the regions on following thresholds.\n",
    "  * No-Null values.\n",
    "  * mean_imputation = 0-50\n",
    "  * model_imputation = 50-66\n",
    "  * eliminate features with more than 66% missing values.\n",
    "\n",
    "* Above thresholds were obtained from quantile values."
   ]
  },
  {
   "cell_type": "code",
   "execution_count": 12,
   "metadata": {
    "colab": {},
    "colab_type": "code",
    "id": "6ZDUNFoZ8FUu"
   },
   "outputs": [],
   "source": [
    "nnull_impute_feat = null_count_df[(null_count_df['null_count'] == 0)]['index'].values \n",
    "mean_impute_feat = null_count_df[(null_count_df['null_count'] > 0) & (null_count_df['null_count'] <= 50)]['index'].values\n",
    "model_impute_feat = null_count_df[(null_count_df['null_count'] > 50) & (null_count_df['null_count'] <= 66)]['index'].values\n",
    "eliminate_feat = null_count_df[(null_count_df['null_count'] > 66)]['index'].values"
   ]
  },
  {
   "cell_type": "markdown",
   "metadata": {
    "colab_type": "text",
    "id": "1GnE_2LqqyEz"
   },
   "source": [
    "<a id = 'initial_dropping_of_features'></a>\n",
    "### 3.1 Some General observations on the features to be eliminated"
   ]
  },
  {
   "cell_type": "code",
   "execution_count": 35,
   "metadata": {
    "colab": {
     "base_uri": "https://localhost:8080/",
     "height": 826
    },
    "colab_type": "code",
    "id": "jBg1_G5zqsr9",
    "outputId": "2324bad9-dd4d-4815-c9c0-1782b14a43fe"
   },
   "outputs": [
    {
     "data": {
      "text/plain": [
       "array(['np_amount_min_7_9', 'np_amount_min_8_10', 'np_amount_min_9_11',\n",
       "       'np_amount_min_10_12', 'np_amount_min_11_13', 'np_amount_max_7_9',\n",
       "       'np_amount_max_8_10', 'np_amount_max_9_11', 'np_amount_max_10_12',\n",
       "       'np_amount_max_11_13', 'np_amount_mean_7_9', 'np_amount_mean_8_10',\n",
       "       'np_amount_mean_9_11', 'np_amount_mean_10_12',\n",
       "       'np_amount_mean_11_13', 'np_amount_sum_7_9', 'np_amount_sum_8_10',\n",
       "       'np_amount_sum_9_11', 'np_amount_sum_10_12', 'np_amount_sum_11_13',\n",
       "       'np_amount_std_6_8', 'np_amount_std_7_9', 'np_amount_std_8_10',\n",
       "       'np_amount_std_9_11', 'np_amount_std_10_12', 'np_amount_std_11_13',\n",
       "       'np_amount_min_12', 'np_amount_min_11', 'np_amount_min_10',\n",
       "       'np_amount_min_13', 'np_amount_max_12', 'np_amount_max_11',\n",
       "       'np_amount_max_10', 'np_amount_max_13', 'np_amount_mean_12',\n",
       "       'np_amount_mean_11', 'np_amount_mean_10', 'np_amount_mean_13',\n",
       "       'np_amount_sum_12', 'np_amount_sum_11', 'np_amount_sum_10',\n",
       "       'np_amount_sum_13', 'np_amount_std_12', 'np_amount_std_11',\n",
       "       'np_amount_std_10', 'np_amount_std_9', 'np_amount_std_13',\n",
       "       'np_amount_min_8_9', 'np_amount_min_9_10', 'np_amount_min_10_11',\n",
       "       'np_amount_min_11_12', 'np_amount_max_8_9', 'np_amount_max_9_10',\n",
       "       'np_amount_max_10_11', 'np_amount_max_11_12', 'np_amount_mean_8_9',\n",
       "       'np_amount_mean_9_10', 'np_amount_mean_10_11',\n",
       "       'np_amount_mean_11_12', 'np_amount_sum_8_9', 'np_amount_sum_9_10',\n",
       "       'np_amount_sum_10_11', 'np_amount_sum_11_12', 'np_amount_std_7_8',\n",
       "       'np_amount_std_8_9', 'np_amount_std_9_10', 'np_amount_std_10_11',\n",
       "       'np_amount_std_11_12', 'install_5_min', 'install_5_max',\n",
       "       'install_5_mean', 'install_5_sum', 'install_5_std',\n",
       "       'install_3_std', 'install_0_min', 'install_0_max',\n",
       "       'install_0_mean', 'install_0_sum', 'install_0_std',\n",
       "       'install_-1_min', 'install_-1_max', 'install_-1_mean',\n",
       "       'install_-1_sum', 'install_-1_std', 'install_4_min',\n",
       "       'install_4_max', 'install_4_mean', 'install_4_sum',\n",
       "       'install_4_std', 'install_2_std', 'install_10_min',\n",
       "       'install_10_max', 'install_10_mean', 'install_10_sum',\n",
       "       'install_10_std', 'install_6_min', 'install_6_max',\n",
       "       'install_6_mean', 'install_6_sum', 'install_6_std',\n",
       "       'install_7_min', 'install_7_max', 'install_7_mean',\n",
       "       'install_7_sum', 'install_7_std', 'install_12_min',\n",
       "       'install_12_max', 'install_12_mean', 'install_12_sum',\n",
       "       'install_12_std', 'install_8_min', 'install_8_max',\n",
       "       'install_8_mean', 'install_8_sum', 'install_8_std',\n",
       "       'install_9_min', 'install_9_max', 'install_9_mean',\n",
       "       'install_9_sum', 'install_9_std', 'install_11_min',\n",
       "       'install_11_max', 'install_11_mean', 'install_11_sum',\n",
       "       'install_11_std', 'install_999_min', 'install_999_max',\n",
       "       'install_999_mean', 'install_999_sum', 'install_999_std'],\n",
       "      dtype=object)"
      ]
     },
     "execution_count": 35,
     "metadata": {
      "tags": []
     },
     "output_type": "execute_result"
    }
   ],
   "source": [
    "eliminate_feat"
   ]
  },
  {
   "cell_type": "markdown",
   "metadata": {
    "colab_type": "text",
    "id": "2estXD5AD0X4"
   },
   "source": [
    "* As suggested by Raddar the most recent transactions are more important than the previous ones. <br>\n",
    "* Even with the features in above section we can see that the purchase amount ratios and purchase amount aggregate functions for months beyond 7 and 8 contain a lot of null values.<br>\n",
    "* So we are going to drop these features.\n",
    "* Also we are going to look at which installment features are retained for model imputation."
   ]
  },
  {
   "cell_type": "code",
   "execution_count": null,
   "metadata": {
    "colab": {
     "base_uri": "https://localhost:8080/",
     "height": 228
    },
    "colab_type": "code",
    "id": "wRCXXN3FBMWx",
    "outputId": "613672dd-b851-47e6-96ab-8999c51a5049"
   },
   "outputs": [
    {
     "data": {
      "text/plain": [
       "['install_1_min',\n",
       " 'install_1_sum',\n",
       " 'install_1_max',\n",
       " 'install_1_std',\n",
       " 'install_1_mean',\n",
       " 'install_2_min',\n",
       " 'install_2_sum',\n",
       " 'install_2_max',\n",
       " 'install_2_mean',\n",
       " 'install_3_min',\n",
       " 'install_3_sum',\n",
       " 'install_3_max',\n",
       " 'install_3_mean']"
      ]
     },
     "execution_count": 11,
     "metadata": {
      "tags": []
     },
     "output_type": "execute_result"
    }
   ],
   "source": [
    "install = [i for i in range(0,13)]\n",
    "install = install + [-1,999]\n",
    "\n",
    "aggr_funcs = ['min','sum','max','std','mean']\n",
    "install_feat=[]\n",
    "for month in install:\n",
    "  for func in aggr_funcs:\n",
    "    install_feat.append('install_' + str(month) + \"_\" + str(func))\n",
    "\n",
    "nnull_install_feat = [feat for feat in install_feat if feat not in eliminate_feat]\n",
    "nnull_install_feat"
   ]
  },
  {
   "cell_type": "markdown",
   "metadata": {
    "colab_type": "text",
    "id": "NFKwxSt7Femu"
   },
   "source": [
    "* Installment features for a value beyond 3 contain a lot of null values."
   ]
  },
  {
   "cell_type": "markdown",
   "metadata": {
    "colab_type": "text",
    "id": "G-FplIq0G3Am"
   },
   "source": [
    "<a id = \"modification_in_imputation_strategy\"></a>\n",
    "## 3.2 Some modification in the plan\n",
    "* After studying a bit about imputation.\n",
    "* Let's try out a few strategies of imputing the data\n",
    "  * imputing all data by median and mode imputation.(excluding the eliminate_features)\n",
    "  * imputing all data by model based imputation.(excluding the eliminate_features)\n",
    "  * imputing based on percentile of missing values.(a mix of both median and model based imputation,excluding eliminate features)\n",
    "  * If time permits doing all of the above including eliminate features.(realized that we face RAM crash issues)\n",
    "  \n"
   ]
  },
  {
   "cell_type": "code",
   "execution_count": 13,
   "metadata": {
    "colab": {
     "base_uri": "https://localhost:8080/",
     "height": 88
    },
    "colab_type": "code",
    "id": "nf-aW5rVG1Fx",
    "outputId": "03d43f89-3f88-433f-8585-277966ea85b8"
   },
   "outputs": [
    {
     "name": "stdout",
     "output_type": "stream",
     "text": [
      "Length of not null features :  277\n",
      "Length of mean imputation features :  136\n",
      "Length of model imputation features :  45\n",
      "Length of initial feature set to work with :  458\n"
     ]
    }
   ],
   "source": [
    "print(\"Length of not null features : \",len(nnull_impute_feat))\n",
    "print(\"Length of mean imputation features : \",len(mean_impute_feat))\n",
    "print(\"Length of model imputation features : \",len(model_impute_feat))\n",
    "print(\"Length of initial feature set to work with : \",len(nnull_impute_feat) + len(mean_impute_feat) + len(model_impute_feat))"
   ]
  },
  {
   "cell_type": "code",
   "execution_count": 14,
   "metadata": {
    "colab": {},
    "colab_type": "code",
    "id": "cCNQ6ou9C4lY"
   },
   "outputs": [],
   "source": [
    "impute_features = list(nnull_impute_feat) + list(mean_impute_feat) + list(model_impute_feat)"
   ]
  },
  {
   "cell_type": "code",
   "execution_count": 15,
   "metadata": {
    "colab": {
     "base_uri": "https://localhost:8080/",
     "height": 34
    },
    "colab_type": "code",
    "id": "jnWRoxt_wTmc",
    "outputId": "3a584b2b-8bcf-44bc-d06c-1f47b21ac4e5"
   },
   "outputs": [
    {
     "data": {
      "text/plain": [
       "(201917, 458)"
      ]
     },
     "execution_count": 15,
     "metadata": {
      "tags": []
     },
     "output_type": "execute_result"
    }
   ],
   "source": [
    "X_features = X_train[impute_features].copy()\n",
    "y_target = y_train.copy()\n",
    "X_features.shape"
   ]
  },
  {
   "cell_type": "code",
   "execution_count": null,
   "metadata": {
    "colab": {
     "base_uri": "https://localhost:8080/",
     "height": 50
    },
    "colab_type": "code",
    "id": "3Sxl1tMiEhLY",
    "outputId": "50236aff-8ca5-44ef-f47a-30c2583049d5"
   },
   "outputs": [
    {
     "data": {
      "text/plain": [
       "array([dtype('int64'), dtype('float64'), dtype('bool'), dtype('float32')],\n",
       "      dtype=object)"
      ]
     },
     "execution_count": 17,
     "metadata": {
      "tags": []
     },
     "output_type": "execute_result"
    }
   ],
   "source": [
    "X_features.dtypes.unique()"
   ]
  },
  {
   "cell_type": "markdown",
   "metadata": {
    "colab_type": "text",
    "id": "4XCixkmJNeMz"
   },
   "source": [
    "<a id=\"median_mode_based_imputation\"></a>\n",
    "## 4. Median based imputation"
   ]
  },
  {
   "cell_type": "markdown",
   "metadata": {
    "colab_type": "text",
    "id": "33D3PEGTuzHf"
   },
   "source": [
    "### 4.1 Function for Median based imputation"
   ]
  },
  {
   "cell_type": "code",
   "execution_count": 16,
   "metadata": {
    "colab": {},
    "colab_type": "code",
    "id": "3h6IT5FQwmH-"
   },
   "outputs": [],
   "source": [
    "def categoricalImputer(X_features):\n",
    "  \"\"\"\n",
    "    Imputation of categorical features by most_frequent category\n",
    "  \"\"\"\n",
    "  cat_imputer = SimpleImputer(missing_values = np.nan, strategy = 'most_frequent')\n",
    "  return pd.DataFrame(cat_imputer.fit_transform(X_features),columns = X_features.columns)\n",
    "  \n",
    "def numericalImputer(X_features):\n",
    "  \"\"\"\n",
    "    Imputation of numerical features by median value\n",
    "  \"\"\"\n",
    "  num_imputer = SimpleImputer(missing_values = np.nan, strategy = 'median')\n",
    "  return pd.DataFrame(num_imputer.fit_transform(X_features),columns = X_features.columns)\n",
    "\n",
    "def simpleImputerForAllCategories(X_features):\n",
    "  \n",
    "  \"\"\"\n",
    "    Performs median and mode based imputation for numerical and categorical features.\n",
    "  \"\"\"\n",
    "  cat_cols = X_features.select_dtypes('int64').columns\n",
    "  num_cols_1 = X_features.select_dtypes('float32').columns\n",
    "  num_cols_2 = X_features.select_dtypes('float64').columns\n",
    "  bool_cols = X_features.select_dtypes('bool').columns\n",
    "\n",
    "  ## There is no imputer for boolean type of data \n",
    "  ## So converting it into 0's and 1's\n",
    "  print(\"Converting boolean columns to 1's and 0's(int type)...\")\n",
    "  for col in bool_cols:\n",
    "    X_features[col] = X_features[col].apply(lambda x : 1 if True else 0)\n",
    "\n",
    "  cols_list = [cat_cols,num_cols_1,num_cols_2,bool_cols]\n",
    "  imputed_features = []\n",
    "  for cols in cols_list:\n",
    "    if len(cols) > 0:\n",
    "      if X_features[cols].dtypes.unique()[0] == 'int':\n",
    "        print(\"Imputing for categorical variables...\")\n",
    "        imputed_features.append(categoricalImputer(X_features[cols]))\n",
    "      else:\n",
    "        print(\"Imputing for numerical variables...\")\n",
    "        imputed_features.append(numericalImputer(X_features[cols]))\n",
    "    \n",
    "  print(\"Features imputed...\")\n",
    "  return pd.concat(imputed_features,axis=1)\n",
    "  \n"
   ]
  },
  {
   "cell_type": "code",
   "execution_count": null,
   "metadata": {
    "colab": {
     "base_uri": "https://localhost:8080/",
     "height": 98
    },
    "colab_type": "code",
    "id": "iJ_WlVclBjWI",
    "outputId": "2d9380e7-a764-4f8c-ee6d-beee8934f908"
   },
   "outputs": [
    {
     "name": "stdout",
     "output_type": "stream",
     "text": [
      "Converting boolean columns to 1's and 0's(int type)...\n",
      "Imputing for categorical variables...\n",
      "Imputing for categorical variables...\n",
      "Features imputed...\n",
      "(201917, 458)\n"
     ]
    }
   ],
   "source": [
    "## performing imputation and storing the pickle file\n",
    "imputed_df = simpleImputerForAllCategories(X_features)\n",
    "print(imputed_df.shape)\n",
    "pickle.dump(imputed_df,open('gdrive/My Drive/ColabNotebooks/simple_imputed_df.pkl','wb'))"
   ]
  },
  {
   "cell_type": "code",
   "execution_count": 17,
   "metadata": {
    "colab": {},
    "colab_type": "code",
    "id": "mtO80elueLzd"
   },
   "outputs": [],
   "source": [
    "## retrieving the imputed file\n",
    "mean_imputed_df = pickle.load(open('gdrive/My Drive/ColabNotebooks/simple_imputed_df.pkl','rb'))"
   ]
  },
  {
   "cell_type": "markdown",
   "metadata": {
    "colab_type": "text",
    "id": "aoE0FIQqu7wV"
   },
   "source": [
    "### 4.2 Estimating the performance of imputation with a LGBM Regressor(because it's one of the fastest in performance)"
   ]
  },
  {
   "cell_type": "code",
   "execution_count": 18,
   "metadata": {
    "colab": {
     "base_uri": "https://localhost:8080/",
     "height": 70
    },
    "colab_type": "code",
    "id": "LN7R4sNNGlG7",
    "outputId": "c1796817-5d91-4298-8fb5-be0a4ec67ff9"
   },
   "outputs": [
    {
     "name": "stderr",
     "output_type": "stream",
     "text": [
      "[Parallel(n_jobs=-1)]: Using backend LokyBackend with 2 concurrent workers.\n",
      "[Parallel(n_jobs=-1)]: Done   3 out of   3 | elapsed:  1.7min finished\n"
     ]
    },
    {
     "data": {
      "text/plain": [
       "array([3.74321604, 3.78516435, 3.79771682])"
      ]
     },
     "execution_count": 18,
     "metadata": {
      "tags": []
     },
     "output_type": "execute_result"
    }
   ],
   "source": [
    "lgbm = lgb.LGBMRegressor(verbose=2)\n",
    "mean_imputed_score = cross_val_score(\n",
    "        lgbm, mean_imputed_df, y_target, scoring=root_mean_squared_error,\n",
    "        cv=3,verbose = 2,n_jobs=-1\n",
    "    )"
   ]
  },
  {
   "cell_type": "code",
   "execution_count": null,
   "metadata": {
    "colab": {},
    "colab_type": "code",
    "id": "9vw3VIZpfO9S"
   },
   "outputs": [],
   "source": [
    "## Sorry but I forgot to save it \n",
    "## So creating a list to use it for later purposes\n",
    "mean_imputed_score = [3.74321604, 3.78516435, 3.79771682]"
   ]
  },
  {
   "cell_type": "markdown",
   "metadata": {
    "colab_type": "text",
    "id": "pbroebeFM1xg"
   },
   "source": [
    "<a id=\"model_based_imputation\"></a>\n",
    "## 5. Model based Imputation"
   ]
  },
  {
   "cell_type": "code",
   "execution_count": null,
   "metadata": {
    "colab": {
     "base_uri": "https://localhost:8080/",
     "height": 33
    },
    "colab_type": "code",
    "id": "viNeL5tkAq9e",
    "outputId": "9451c13f-b202-467c-fe16-d7bfab14939f"
   },
   "outputs": [
    {
     "name": "stdout",
     "output_type": "stream",
     "text": [
      "Shape of the DataFrame to be filled :  (201917, 181)\n"
     ]
    }
   ],
   "source": [
    "## Features to be considered for imputation : All of the features containing null values\n",
    "impute_feat = list(mean_impute_feat) + list(model_impute_feat)\n",
    "X_features = X_features[impute_feat]\n",
    "print(\"Shape of the DataFrame to be filled : \",X_features.shape)"
   ]
  },
  {
   "cell_type": "markdown",
   "metadata": {
    "colab_type": "text",
    "id": "-cFRxvFofbrb"
   },
   "source": [
    "### 5.1 DecisionTree based Imputation"
   ]
  },
  {
   "cell_type": "code",
   "execution_count": null,
   "metadata": {
    "colab": {
     "base_uri": "https://localhost:8080/",
     "height": 310
    },
    "colab_type": "code",
    "id": "iJ519kJqGobn",
    "outputId": "2212c1b8-436b-46a9-d1f2-93c391626af6"
   },
   "outputs": [
    {
     "name": "stdout",
     "output_type": "stream",
     "text": [
      "Creating Decision Tree Regressor...\n",
      "Creating Iterative Imputer...\n",
      "Imputing features...\n",
      "[IterativeImputer] Completing matrix with shape (201917, 181)\n",
      "[IterativeImputer] Ending imputation round 1/10, elapsed time 288.80\n",
      "[IterativeImputer] Change: 2951076040.948445, scaled tolerance: 400000025.6 \n",
      "[IterativeImputer] Ending imputation round 2/10, elapsed time 577.59\n",
      "[IterativeImputer] Change: 2926519621.044958, scaled tolerance: 400000025.6 \n",
      "[IterativeImputer] Ending imputation round 3/10, elapsed time 868.37\n",
      "[IterativeImputer] Change: 990947741.1861651, scaled tolerance: 400000025.6 \n",
      "[IterativeImputer] Ending imputation round 4/10, elapsed time 1159.60\n",
      "[IterativeImputer] Change: 5334464659.990709, scaled tolerance: 400000025.6 \n",
      "[IterativeImputer] Ending imputation round 5/10, elapsed time 1451.19\n",
      "[IterativeImputer] Change: 5391873328.865762, scaled tolerance: 400000025.6 \n",
      "[IterativeImputer] Change: 666727572.8470494, scaled tolerance: 400000025.6 \n",
      "[IterativeImputer] Ending imputation round 7/10, elapsed time 2032.46\n",
      "[IterativeImputer] Change: 214360068.02152002, scaled tolerance: 400000025.6 \n",
      "[IterativeImputer] Early stopping criterion reached.\n"
     ]
    }
   ],
   "source": [
    "print(\"Creating Decision Tree Regressor...\")\n",
    "dt_regressor = DecisionTreeRegressor(max_features='sqrt',\n",
    "                                     max_depth=5,\n",
    "                                     random_state=0)\n",
    "print(\"Creating Iterative Imputer...\")\n",
    "iterative_imputer = IterativeImputer(random_state = 0,\n",
    "                                     estimator = dt_regressor,\n",
    "                                     tol = 0.1,\n",
    "                                     verbose=30)\n",
    "print(\"Imputing features...\")\n",
    "dt_imputed_features = iterative_imputer.fit_transform(X_features)\n",
    "dt_imputed_df = pd.DataFrame(dt_imputed_features,columns=X_features.columns)"
   ]
  },
  {
   "cell_type": "markdown",
   "metadata": {
    "colab_type": "text",
    "id": "HZo9zZhofxkw"
   },
   "source": [
    "### 5.1.1 Dumping the dataframe imputed by Decision Trees"
   ]
  },
  {
   "cell_type": "code",
   "execution_count": null,
   "metadata": {
    "colab": {},
    "colab_type": "code",
    "id": "XZBETLEyR4Lz"
   },
   "outputs": [],
   "source": [
    "pickle.dump(dt_imputed_df,open('gdrive/My Drive/ColabNotebooks/dt_imputed_df.pkl','wb'))"
   ]
  },
  {
   "cell_type": "code",
   "execution_count": null,
   "metadata": {
    "colab": {},
    "colab_type": "code",
    "id": "v4qcvo9_iauE"
   },
   "outputs": [],
   "source": [
    "dt_imputed_df = pickle.load(open('gdrive/My Drive/ColabNotebooks/dt_imputed_df.pkl','rb'))"
   ]
  },
  {
   "cell_type": "markdown",
   "metadata": {
    "colab_type": "text",
    "id": "yjAPs7BDf1Ci"
   },
   "source": [
    "### 5.1.2 Estimating the performance of the imputed_df using LGBMRegressor "
   ]
  },
  {
   "cell_type": "code",
   "execution_count": null,
   "metadata": {
    "colab": {
     "base_uri": "https://localhost:8080/",
     "height": 33
    },
    "colab_type": "code",
    "id": "pilNPvuvhUu3",
    "outputId": "b32a4d8d-2cdf-4250-a2af-b3ff9c577b60"
   },
   "outputs": [
    {
     "data": {
      "text/plain": [
       "(201917, 458)"
      ]
     },
     "execution_count": 18,
     "metadata": {
      "tags": []
     },
     "output_type": "execute_result"
    }
   ],
   "source": [
    "model_imputed_df = pd.concat([X_train[nnull_impute_feat],dt_imputed_df],axis=1)\n",
    "model_imputed_df.shape"
   ]
  },
  {
   "cell_type": "code",
   "execution_count": null,
   "metadata": {
    "colab": {
     "base_uri": "https://localhost:8080/",
     "height": 98
    },
    "colab_type": "code",
    "id": "CLRPEdTWOx3Q",
    "outputId": "668bbb9f-50e0-404f-e6b3-68b1a106659b"
   },
   "outputs": [
    {
     "name": "stderr",
     "output_type": "stream",
     "text": [
      "[Parallel(n_jobs=-1)]: Using backend LokyBackend with 2 concurrent workers.\n",
      "[Parallel(n_jobs=-1)]: Done   1 tasks      | elapsed:  1.1min\n",
      "[Parallel(n_jobs=-1)]: Done   3 out of   3 | elapsed:  1.8min remaining:    0.0s\n",
      "[Parallel(n_jobs=-1)]: Done   3 out of   3 | elapsed:  1.8min finished\n"
     ]
    },
    {
     "data": {
      "text/plain": [
       "array([3.73713822, 3.7875392 , 3.78328342])"
      ]
     },
     "execution_count": 20,
     "metadata": {
      "tags": []
     },
     "output_type": "execute_result"
    }
   ],
   "source": [
    "lgbm_estimator = lgb.LGBMRegressor(verbose=10)\n",
    "cross_val_score(\n",
    "        lgbm_estimator,model_imputed_df, y_target,\n",
    "        scoring=root_mean_squared_error,\n",
    "        cv=3,verbose = 20,n_jobs=-1\n",
    "    )"
   ]
  },
  {
   "cell_type": "code",
   "execution_count": 20,
   "metadata": {
    "colab": {},
    "colab_type": "code",
    "id": "L0pEp5aug6Hw"
   },
   "outputs": [],
   "source": [
    "dt_imputed_score = [3.73713822, 3.7875392 , 3.78328342]"
   ]
  },
  {
   "cell_type": "markdown",
   "metadata": {
    "colab_type": "text",
    "id": "DKKGat_MNX2x"
   },
   "source": [
    "<a id=\"mixed_imputation\"></a>\n",
    "### 6. Mixed Imputation\n",
    "* Close the notebook and restart again to run below cells of code."
   ]
  },
  {
   "cell_type": "code",
   "execution_count": null,
   "metadata": {
    "colab": {},
    "colab_type": "code",
    "id": "HCC0xm6LNSFV"
   },
   "outputs": [],
   "source": [
    "simple_imputed_df = simpleImputerForAllCategories(X_features[mean_impute_feat])\n",
    "print(\"Shape of Mean Imputed features : \",simple_imputed_df.shape)\n",
    "\n",
    "print(\"***************Creating Extra Trees Regressor*****************\")\n",
    "et_regressor = ExtraTreesRegressor( n_estimators=10,\n",
    "                                    verbose=10)\n",
    "print(\"***************Creating Iterative Imputer*********************\")\n",
    "tree_based_imputer = IterativeImputer(estimator = et_regressor,\n",
    "                                      max_iter = 3,\n",
    "                                      verbose = 20)\n",
    "print(\"***************Imputing features******************************\")\n",
    "tree_imputed_df = tree_based_imputer.fit_transform(X_features[model_impute_feat])"
   ]
  },
  {
   "cell_type": "code",
   "execution_count": null,
   "metadata": {
    "colab": {},
    "colab_type": "code",
    "id": "G0DONCwt_j3b"
   },
   "outputs": [],
   "source": [
    "tree_imputed_df = pd.DataFrame(tree_imputed_df,columns = model_impute_feat)"
   ]
  },
  {
   "cell_type": "code",
   "execution_count": null,
   "metadata": {
    "colab": {
     "base_uri": "https://localhost:8080/",
     "height": 287
    },
    "colab_type": "code",
    "id": "PaIiBS1qg8W_",
    "outputId": "5b395e4d-b573-4362-e4aa-4c8f01bf3cfd"
   },
   "outputs": [
    {
     "name": "stdout",
     "output_type": "stream",
     "text": [
      "***************Creating not null dataframe********************\n",
      "***************Concatenating dataframes***********************\n",
      "Mixed Imputed Dataframe shape :  (201917, 458)\n"
     ]
    },
    {
     "data": {
      "text/html": [
       "<div>\n",
       "<style scoped>\n",
       "    .dataframe tbody tr th:only-of-type {\n",
       "        vertical-align: middle;\n",
       "    }\n",
       "\n",
       "    .dataframe tbody tr th {\n",
       "        vertical-align: top;\n",
       "    }\n",
       "\n",
       "    .dataframe thead th {\n",
       "        text-align: right;\n",
       "    }\n",
       "</style>\n",
       "<table border=\"1\" class=\"dataframe\">\n",
       "  <thead>\n",
       "    <tr style=\"text-align: right;\">\n",
       "      <th></th>\n",
       "      <th>feature_1</th>\n",
       "      <th>feature_2</th>\n",
       "      <th>feature_3</th>\n",
       "      <th>feature_2_bin</th>\n",
       "      <th>feature_1_bin</th>\n",
       "      <th>first_active_day</th>\n",
       "      <th>first_active_wday</th>\n",
       "      <th>first_active_mm</th>\n",
       "      <th>first_active_year</th>\n",
       "      <th>category_4_nunique</th>\n",
       "      <th>most_recent_sales_range_nunique</th>\n",
       "      <th>most_recent_purchases_range_nunique</th>\n",
       "      <th>numerical_1_min</th>\n",
       "      <th>numerical_1_max</th>\n",
       "      <th>numerical_1_median</th>\n",
       "      <th>numerical_1_sum</th>\n",
       "      <th>numerical_1_std</th>\n",
       "      <th>numerical_2_min</th>\n",
       "      <th>numerical_2_max</th>\n",
       "      <th>numerical_2_median</th>\n",
       "      <th>numerical_2_sum</th>\n",
       "      <th>numerical_2_std</th>\n",
       "      <th>avg_sales_lag3_min</th>\n",
       "      <th>avg_sales_lag3_max</th>\n",
       "      <th>avg_sales_lag3_median</th>\n",
       "      <th>avg_sales_lag3_sum</th>\n",
       "      <th>avg_sales_lag3_std</th>\n",
       "      <th>avg_sales_lag6_min</th>\n",
       "      <th>avg_sales_lag6_max</th>\n",
       "      <th>avg_sales_lag6_median</th>\n",
       "      <th>avg_sales_lag6_sum</th>\n",
       "      <th>avg_sales_lag6_std</th>\n",
       "      <th>avg_sales_lag12_min</th>\n",
       "      <th>avg_sales_lag12_max</th>\n",
       "      <th>avg_sales_lag12_median</th>\n",
       "      <th>avg_sales_lag12_sum</th>\n",
       "      <th>avg_sales_lag12_std</th>\n",
       "      <th>avg_purchases_lag3_min</th>\n",
       "      <th>avg_purchases_lag3_median</th>\n",
       "      <th>avg_purchases_lag6_min</th>\n",
       "      <th>...</th>\n",
       "      <th>np_amount_mean_6_8</th>\n",
       "      <th>np_amount_sum_5_7</th>\n",
       "      <th>np_amount_sum_6_8</th>\n",
       "      <th>np_amount_std_3_5</th>\n",
       "      <th>np_amount_std_4_6</th>\n",
       "      <th>np_amount_std_5_7</th>\n",
       "      <th>np_amount_min_9</th>\n",
       "      <th>np_amount_min_8</th>\n",
       "      <th>np_amount_min_7</th>\n",
       "      <th>np_amount_max_9</th>\n",
       "      <th>np_amount_max_8</th>\n",
       "      <th>np_amount_max_7</th>\n",
       "      <th>np_amount_mean_9</th>\n",
       "      <th>np_amount_mean_8</th>\n",
       "      <th>np_amount_mean_7</th>\n",
       "      <th>np_amount_sum_9</th>\n",
       "      <th>np_amount_sum_8</th>\n",
       "      <th>np_amount_sum_7</th>\n",
       "      <th>np_amount_std_8</th>\n",
       "      <th>np_amount_std_7</th>\n",
       "      <th>np_amount_std_6</th>\n",
       "      <th>np_amount_min_6_7</th>\n",
       "      <th>np_amount_min_7_8</th>\n",
       "      <th>np_amount_max_6_7</th>\n",
       "      <th>np_amount_max_7_8</th>\n",
       "      <th>np_amount_mean_6_7</th>\n",
       "      <th>np_amount_mean_7_8</th>\n",
       "      <th>np_amount_sum_6_7</th>\n",
       "      <th>np_amount_sum_7_8</th>\n",
       "      <th>np_amount_std_4_5</th>\n",
       "      <th>np_amount_std_5_6</th>\n",
       "      <th>np_amount_std_6_7</th>\n",
       "      <th>install_3_min</th>\n",
       "      <th>install_3_max</th>\n",
       "      <th>install_3_mean</th>\n",
       "      <th>install_3_sum</th>\n",
       "      <th>install_2_min</th>\n",
       "      <th>install_2_max</th>\n",
       "      <th>install_2_mean</th>\n",
       "      <th>install_2_sum</th>\n",
       "    </tr>\n",
       "  </thead>\n",
       "  <tbody>\n",
       "    <tr>\n",
       "      <th>0</th>\n",
       "      <td>5</td>\n",
       "      <td>2</td>\n",
       "      <td>1</td>\n",
       "      <td>0</td>\n",
       "      <td>1</td>\n",
       "      <td>1</td>\n",
       "      <td>3</td>\n",
       "      <td>6</td>\n",
       "      <td>2017</td>\n",
       "      <td>2</td>\n",
       "      <td>5</td>\n",
       "      <td>5</td>\n",
       "      <td>-0.057471</td>\n",
       "      <td>172.719653</td>\n",
       "      <td>-0.017811</td>\n",
       "      <td>4054.082784</td>\n",
       "      <td>43.845096</td>\n",
       "      <td>-0.057471</td>\n",
       "      <td>170.736672</td>\n",
       "      <td>-0.027726</td>\n",
       "      <td>3905.022112</td>\n",
       "      <td>43.376015</td>\n",
       "      <td>0.71</td>\n",
       "      <td>7.73</td>\n",
       "      <td>1.00</td>\n",
       "      <td>326.47</td>\n",
       "      <td>1.071570</td>\n",
       "      <td>0.58</td>\n",
       "      <td>147.69</td>\n",
       "      <td>0.98</td>\n",
       "      <td>1878.67</td>\n",
       "      <td>29.123759</td>\n",
       "      <td>0.53</td>\n",
       "      <td>194.61</td>\n",
       "      <td>0.97</td>\n",
       "      <td>2146.41</td>\n",
       "      <td>34.015704</td>\n",
       "      <td>0.466667</td>\n",
       "      <td>1.008886</td>\n",
       "      <td>0.320988</td>\n",
       "      <td>...</td>\n",
       "      <td>0.757208</td>\n",
       "      <td>0.570880</td>\n",
       "      <td>11.105721</td>\n",
       "      <td>1.112179</td>\n",
       "      <td>2.412530</td>\n",
       "      <td>0.894544</td>\n",
       "      <td>140.449005</td>\n",
       "      <td>24.209999</td>\n",
       "      <td>10.000000</td>\n",
       "      <td>2284.621094</td>\n",
       "      <td>51.610001</td>\n",
       "      <td>292.600006</td>\n",
       "      <td>853.007263</td>\n",
       "      <td>37.583332</td>\n",
       "      <td>51.224491</td>\n",
       "      <td>6109.254883</td>\n",
       "      <td>112.750000</td>\n",
       "      <td>2510.000000</td>\n",
       "      <td>13.711679</td>\n",
       "      <td>57.591129</td>\n",
       "      <td>23.332657</td>\n",
       "      <td>0.500000</td>\n",
       "      <td>0.413052</td>\n",
       "      <td>0.346548</td>\n",
       "      <td>5.669444</td>\n",
       "      <td>0.555563</td>\n",
       "      <td>1.362958</td>\n",
       "      <td>0.498873</td>\n",
       "      <td>22.261641</td>\n",
       "      <td>1.092646</td>\n",
       "      <td>2.207970</td>\n",
       "      <td>0.405143</td>\n",
       "      <td>172.070007</td>\n",
       "      <td>838.057007</td>\n",
       "      <td>469.805481</td>\n",
       "      <td>3158.994873</td>\n",
       "      <td>122.046997</td>\n",
       "      <td>474.470001</td>\n",
       "      <td>263.523956</td>\n",
       "      <td>1964.744995</td>\n",
       "    </tr>\n",
       "    <tr>\n",
       "      <th>1</th>\n",
       "      <td>4</td>\n",
       "      <td>1</td>\n",
       "      <td>0</td>\n",
       "      <td>0</td>\n",
       "      <td>1</td>\n",
       "      <td>1</td>\n",
       "      <td>6</td>\n",
       "      <td>1</td>\n",
       "      <td>2017</td>\n",
       "      <td>2</td>\n",
       "      <td>5</td>\n",
       "      <td>5</td>\n",
       "      <td>-0.057471</td>\n",
       "      <td>172.719653</td>\n",
       "      <td>0.130913</td>\n",
       "      <td>9955.548697</td>\n",
       "      <td>50.528439</td>\n",
       "      <td>-0.057471</td>\n",
       "      <td>170.736672</td>\n",
       "      <td>-0.027726</td>\n",
       "      <td>9747.395195</td>\n",
       "      <td>50.070917</td>\n",
       "      <td>0.48</td>\n",
       "      <td>10.75</td>\n",
       "      <td>1.06</td>\n",
       "      <td>446.58</td>\n",
       "      <td>1.073557</td>\n",
       "      <td>0.36</td>\n",
       "      <td>147.69</td>\n",
       "      <td>1.07</td>\n",
       "      <td>754.88</td>\n",
       "      <td>10.913832</td>\n",
       "      <td>0.27</td>\n",
       "      <td>166.68</td>\n",
       "      <td>1.07</td>\n",
       "      <td>811.35</td>\n",
       "      <td>12.332267</td>\n",
       "      <td>0.523977</td>\n",
       "      <td>1.065682</td>\n",
       "      <td>0.307888</td>\n",
       "      <td>...</td>\n",
       "      <td>0.706732</td>\n",
       "      <td>0.882258</td>\n",
       "      <td>2.308658</td>\n",
       "      <td>0.327485</td>\n",
       "      <td>2.124190</td>\n",
       "      <td>2.221075</td>\n",
       "      <td>7.400000</td>\n",
       "      <td>9.000000</td>\n",
       "      <td>6.000000</td>\n",
       "      <td>548.890015</td>\n",
       "      <td>672.289978</td>\n",
       "      <td>350.429993</td>\n",
       "      <td>113.933334</td>\n",
       "      <td>95.318001</td>\n",
       "      <td>55.814705</td>\n",
       "      <td>2050.800049</td>\n",
       "      <td>1429.770020</td>\n",
       "      <td>1897.699951</td>\n",
       "      <td>196.520767</td>\n",
       "      <td>85.486519</td>\n",
       "      <td>184.342117</td>\n",
       "      <td>0.765000</td>\n",
       "      <td>0.666667</td>\n",
       "      <td>3.587592</td>\n",
       "      <td>0.521248</td>\n",
       "      <td>1.206927</td>\n",
       "      <td>0.585563</td>\n",
       "      <td>1.739395</td>\n",
       "      <td>1.327276</td>\n",
       "      <td>2.062325</td>\n",
       "      <td>1.029998</td>\n",
       "      <td>2.156388</td>\n",
       "      <td>85.269997</td>\n",
       "      <td>721.070007</td>\n",
       "      <td>228.692001</td>\n",
       "      <td>6860.759766</td>\n",
       "      <td>42.779999</td>\n",
       "      <td>3578.479980</td>\n",
       "      <td>311.580475</td>\n",
       "      <td>6543.189941</td>\n",
       "    </tr>\n",
       "    <tr>\n",
       "      <th>2</th>\n",
       "      <td>2</td>\n",
       "      <td>2</td>\n",
       "      <td>0</td>\n",
       "      <td>0</td>\n",
       "      <td>0</td>\n",
       "      <td>1</td>\n",
       "      <td>0</td>\n",
       "      <td>8</td>\n",
       "      <td>2016</td>\n",
       "      <td>2</td>\n",
       "      <td>4</td>\n",
       "      <td>5</td>\n",
       "      <td>-0.057471</td>\n",
       "      <td>21.834638</td>\n",
       "      <td>0.150742</td>\n",
       "      <td>53.787948</td>\n",
       "      <td>4.530581</td>\n",
       "      <td>-0.057471</td>\n",
       "      <td>21.596680</td>\n",
       "      <td>-0.047556</td>\n",
       "      <td>46.093982</td>\n",
       "      <td>4.530719</td>\n",
       "      <td>0.93</td>\n",
       "      <td>6.93</td>\n",
       "      <td>1.00</td>\n",
       "      <td>50.03</td>\n",
       "      <td>0.894221</td>\n",
       "      <td>0.86</td>\n",
       "      <td>8.42</td>\n",
       "      <td>1.01</td>\n",
       "      <td>51.90</td>\n",
       "      <td>1.118019</td>\n",
       "      <td>0.76</td>\n",
       "      <td>8.57</td>\n",
       "      <td>1.02</td>\n",
       "      <td>52.61</td>\n",
       "      <td>1.140074</td>\n",
       "      <td>0.949288</td>\n",
       "      <td>1.007511</td>\n",
       "      <td>0.871214</td>\n",
       "      <td>...</td>\n",
       "      <td>18.769751</td>\n",
       "      <td>0.449834</td>\n",
       "      <td>33.040489</td>\n",
       "      <td>1.178674</td>\n",
       "      <td>1.573263</td>\n",
       "      <td>0.739397</td>\n",
       "      <td>20.930000</td>\n",
       "      <td>14.420000</td>\n",
       "      <td>22.910000</td>\n",
       "      <td>61.709999</td>\n",
       "      <td>1229.850952</td>\n",
       "      <td>43.470001</td>\n",
       "      <td>39.684998</td>\n",
       "      <td>204.170654</td>\n",
       "      <td>33.190002</td>\n",
       "      <td>158.739990</td>\n",
       "      <td>2351.734863</td>\n",
       "      <td>66.380005</td>\n",
       "      <td>343.415466</td>\n",
       "      <td>14.538116</td>\n",
       "      <td>10.168196</td>\n",
       "      <td>1.243125</td>\n",
       "      <td>8.813312</td>\n",
       "      <td>0.985967</td>\n",
       "      <td>20.214108</td>\n",
       "      <td>1.074721</td>\n",
       "      <td>14.935040</td>\n",
       "      <td>1.074721</td>\n",
       "      <td>35.041737</td>\n",
       "      <td>0.739724</td>\n",
       "      <td>1.301423</td>\n",
       "      <td>0.699416</td>\n",
       "      <td>175.071991</td>\n",
       "      <td>812.362000</td>\n",
       "      <td>432.269684</td>\n",
       "      <td>1902.229004</td>\n",
       "      <td>115.140999</td>\n",
       "      <td>417.588989</td>\n",
       "      <td>232.108154</td>\n",
       "      <td>934.786011</td>\n",
       "    </tr>\n",
       "    <tr>\n",
       "      <th>3</th>\n",
       "      <td>4</td>\n",
       "      <td>3</td>\n",
       "      <td>0</td>\n",
       "      <td>1</td>\n",
       "      <td>1</td>\n",
       "      <td>1</td>\n",
       "      <td>4</td>\n",
       "      <td>9</td>\n",
       "      <td>2017</td>\n",
       "      <td>2</td>\n",
       "      <td>5</td>\n",
       "      <td>5</td>\n",
       "      <td>-0.057471</td>\n",
       "      <td>27.575368</td>\n",
       "      <td>-0.047556</td>\n",
       "      <td>367.021217</td>\n",
       "      <td>8.862527</td>\n",
       "      <td>-0.057471</td>\n",
       "      <td>27.317580</td>\n",
       "      <td>-0.057471</td>\n",
       "      <td>359.416486</td>\n",
       "      <td>8.776750</td>\n",
       "      <td>0.59</td>\n",
       "      <td>6.93</td>\n",
       "      <td>1.03</td>\n",
       "      <td>143.23</td>\n",
       "      <td>1.800569</td>\n",
       "      <td>0.42</td>\n",
       "      <td>8.42</td>\n",
       "      <td>1.05</td>\n",
       "      <td>155.27</td>\n",
       "      <td>2.258579</td>\n",
       "      <td>0.51</td>\n",
       "      <td>8.57</td>\n",
       "      <td>1.05</td>\n",
       "      <td>156.16</td>\n",
       "      <td>2.309363</td>\n",
       "      <td>0.617886</td>\n",
       "      <td>1.042628</td>\n",
       "      <td>0.426152</td>\n",
       "      <td>...</td>\n",
       "      <td>20.932686</td>\n",
       "      <td>131.459976</td>\n",
       "      <td>28.197517</td>\n",
       "      <td>20.601368</td>\n",
       "      <td>3.179530</td>\n",
       "      <td>106.546356</td>\n",
       "      <td>220.272995</td>\n",
       "      <td>9.923000</td>\n",
       "      <td>396.557007</td>\n",
       "      <td>2447.837891</td>\n",
       "      <td>1218.710938</td>\n",
       "      <td>3523.053955</td>\n",
       "      <td>1188.185669</td>\n",
       "      <td>290.205658</td>\n",
       "      <td>1795.645508</td>\n",
       "      <td>3954.260986</td>\n",
       "      <td>2942.333008</td>\n",
       "      <td>7753.904785</td>\n",
       "      <td>439.337128</td>\n",
       "      <td>1755.611084</td>\n",
       "      <td>182.882996</td>\n",
       "      <td>155.404449</td>\n",
       "      <td>131.492538</td>\n",
       "      <td>10.998015</td>\n",
       "      <td>27.488863</td>\n",
       "      <td>13.718294</td>\n",
       "      <td>18.909939</td>\n",
       "      <td>13.671411</td>\n",
       "      <td>96.939667</td>\n",
       "      <td>2.173726</td>\n",
       "      <td>10.640070</td>\n",
       "      <td>16.172998</td>\n",
       "      <td>134.509995</td>\n",
       "      <td>325.589996</td>\n",
       "      <td>255.345001</td>\n",
       "      <td>1021.380005</td>\n",
       "      <td>117.320000</td>\n",
       "      <td>187.889999</td>\n",
       "      <td>141.636658</td>\n",
       "      <td>424.910004</td>\n",
       "    </tr>\n",
       "    <tr>\n",
       "      <th>4</th>\n",
       "      <td>1</td>\n",
       "      <td>3</td>\n",
       "      <td>0</td>\n",
       "      <td>1</td>\n",
       "      <td>0</td>\n",
       "      <td>1</td>\n",
       "      <td>2</td>\n",
       "      <td>11</td>\n",
       "      <td>2017</td>\n",
       "      <td>2</td>\n",
       "      <td>5</td>\n",
       "      <td>5</td>\n",
       "      <td>-0.057471</td>\n",
       "      <td>27.575368</td>\n",
       "      <td>-0.047556</td>\n",
       "      <td>454.585565</td>\n",
       "      <td>8.609387</td>\n",
       "      <td>-0.057471</td>\n",
       "      <td>27.317580</td>\n",
       "      <td>-0.047556</td>\n",
       "      <td>447.367514</td>\n",
       "      <td>8.532154</td>\n",
       "      <td>0.51</td>\n",
       "      <td>6.93</td>\n",
       "      <td>1.08</td>\n",
       "      <td>199.62</td>\n",
       "      <td>1.401889</td>\n",
       "      <td>0.62</td>\n",
       "      <td>147.69</td>\n",
       "      <td>1.04</td>\n",
       "      <td>360.51</td>\n",
       "      <td>12.443422</td>\n",
       "      <td>0.44</td>\n",
       "      <td>166.68</td>\n",
       "      <td>1.02</td>\n",
       "      <td>385.18</td>\n",
       "      <td>14.032214</td>\n",
       "      <td>0.392713</td>\n",
       "      <td>1.103070</td>\n",
       "      <td>0.294197</td>\n",
       "      <td>...</td>\n",
       "      <td>20.426350</td>\n",
       "      <td>172.941132</td>\n",
       "      <td>46.274590</td>\n",
       "      <td>23.807180</td>\n",
       "      <td>34.509159</td>\n",
       "      <td>116.786736</td>\n",
       "      <td>294.473999</td>\n",
       "      <td>20.097000</td>\n",
       "      <td>355.397980</td>\n",
       "      <td>2575.458984</td>\n",
       "      <td>1153.218018</td>\n",
       "      <td>3753.913086</td>\n",
       "      <td>1318.838379</td>\n",
       "      <td>442.876404</td>\n",
       "      <td>1754.358154</td>\n",
       "      <td>4408.523926</td>\n",
       "      <td>2756.826904</td>\n",
       "      <td>7616.937988</td>\n",
       "      <td>504.852722</td>\n",
       "      <td>1840.619995</td>\n",
       "      <td>287.958008</td>\n",
       "      <td>1370.781616</td>\n",
       "      <td>170.390823</td>\n",
       "      <td>10.953004</td>\n",
       "      <td>26.873693</td>\n",
       "      <td>13.554404</td>\n",
       "      <td>17.225767</td>\n",
       "      <td>14.984738</td>\n",
       "      <td>78.082375</td>\n",
       "      <td>30.000162</td>\n",
       "      <td>21.896540</td>\n",
       "      <td>19.772945</td>\n",
       "      <td>593.960022</td>\n",
       "      <td>1952.459961</td>\n",
       "      <td>1273.209961</td>\n",
       "      <td>2546.419922</td>\n",
       "      <td>127.290001</td>\n",
       "      <td>127.290001</td>\n",
       "      <td>127.290001</td>\n",
       "      <td>127.290001</td>\n",
       "    </tr>\n",
       "  </tbody>\n",
       "</table>\n",
       "<p>5 rows × 458 columns</p>\n",
       "</div>"
      ],
      "text/plain": [
       "   feature_1  feature_2  ...  install_2_mean  install_2_sum\n",
       "0          5          2  ...      263.523956    1964.744995\n",
       "1          4          1  ...      311.580475    6543.189941\n",
       "2          2          2  ...      232.108154     934.786011\n",
       "3          4          3  ...      141.636658     424.910004\n",
       "4          1          3  ...      127.290001     127.290001\n",
       "\n",
       "[5 rows x 458 columns]"
      ]
     },
     "execution_count": 21,
     "metadata": {
      "tags": []
     },
     "output_type": "execute_result"
    }
   ],
   "source": [
    "print(\"***************Creating not null dataframe********************\")\n",
    "nnull_imputed_df = X_features[nnull_impute_feat].copy()\n",
    "\n",
    "print(\"***************Concatenating dataframes***********************\")\n",
    "mixed_imputed_df = pd.concat([nnull_imputed_df,simple_imputed_df,tree_imputed_df],axis=1)\n",
    "print(\"Mixed Imputed Dataframe shape : \",mixed_imputed_df.shape)\n",
    "mixed_imputed_df.head()"
   ]
  },
  {
   "cell_type": "markdown",
   "metadata": {
    "colab_type": "text",
    "id": "A0iVo9uJyiGC"
   },
   "source": [
    "### 6.2 Dumping Mixed Imputed DataFrame"
   ]
  },
  {
   "cell_type": "code",
   "execution_count": null,
   "metadata": {
    "colab": {},
    "colab_type": "code",
    "id": "mHtd72H8ATF8"
   },
   "outputs": [],
   "source": [
    "pickle.dump(mixed_imputed_df,open('gdrive/My Drive/ColabNotebooks/mixed_imputed_df.pkl','wb'))"
   ]
  },
  {
   "cell_type": "code",
   "execution_count": 21,
   "metadata": {
    "colab": {},
    "colab_type": "code",
    "id": "O0vgT5XihHU2"
   },
   "outputs": [],
   "source": [
    "mixed_imputed_df = pickle.load(open('gdrive/My Drive/ColabNotebooks/mixed_imputed_df.pkl','rb'))"
   ]
  },
  {
   "cell_type": "markdown",
   "metadata": {
    "colab_type": "text",
    "id": "x5Wrj-5tzjwd"
   },
   "source": [
    "### 6.3 Estimating imputation using LGBM Regressor"
   ]
  },
  {
   "cell_type": "code",
   "execution_count": null,
   "metadata": {
    "colab": {},
    "colab_type": "code",
    "id": "PvYGYnruV65S"
   },
   "outputs": [],
   "source": [
    "lgb_regressor = lgb.LGBMRegressor()\n",
    "mixed_imputed_cv_score = cross_val_score(lgb_regressor,\n",
    "                mixed_imputed_df, y_target,\n",
    "                scoring=root_mean_squared_error,\n",
    "                cv=3\n",
    "        )"
   ]
  },
  {
   "cell_type": "code",
   "execution_count": 23,
   "metadata": {
    "colab": {
     "base_uri": "https://localhost:8080/",
     "height": 34
    },
    "colab_type": "code",
    "id": "uBDoGuIR_tx-",
    "outputId": "a91c216a-46ff-437d-c398-fe3a61c9f0af"
   },
   "outputs": [
    {
     "data": {
      "text/plain": [
       "array([3.74887711, 3.79043287, 3.79071951])"
      ]
     },
     "execution_count": 23,
     "metadata": {
      "tags": []
     },
     "output_type": "execute_result"
    }
   ],
   "source": [
    "mixed_imputed_cv_score"
   ]
  },
  {
   "cell_type": "markdown",
   "metadata": {
    "colab_type": "text",
    "id": "GXkWyyOT0Y95"
   },
   "source": [
    "<a id=\"comparing_performances\"></a>\n",
    "## 7. Comparing performance of the imputed dataframe using various methods"
   ]
  },
  {
   "cell_type": "code",
   "execution_count": 26,
   "metadata": {
    "colab": {
     "base_uri": "https://localhost:8080/",
     "height": 132
    },
    "colab_type": "code",
    "id": "ypSc3jGWh4hF",
    "outputId": "565f2623-e16b-48dc-94e3-9aaae709ed93"
   },
   "outputs": [
    {
     "data": {
      "text/html": [
       "<div>\n",
       "<style scoped>\n",
       "    .dataframe tbody tr th:only-of-type {\n",
       "        vertical-align: middle;\n",
       "    }\n",
       "\n",
       "    .dataframe tbody tr th {\n",
       "        vertical-align: top;\n",
       "    }\n",
       "\n",
       "    .dataframe thead th {\n",
       "        text-align: right;\n",
       "    }\n",
       "</style>\n",
       "<table border=\"1\" class=\"dataframe\">\n",
       "  <thead>\n",
       "    <tr style=\"text-align: right;\">\n",
       "      <th></th>\n",
       "      <th>0</th>\n",
       "      <th>1</th>\n",
       "      <th>2</th>\n",
       "    </tr>\n",
       "  </thead>\n",
       "  <tbody>\n",
       "    <tr>\n",
       "      <th>mean_imputed_score</th>\n",
       "      <td>3.743216</td>\n",
       "      <td>3.785164</td>\n",
       "      <td>3.797717</td>\n",
       "    </tr>\n",
       "    <tr>\n",
       "      <th>dt_imputed_score</th>\n",
       "      <td>3.737138</td>\n",
       "      <td>3.787539</td>\n",
       "      <td>3.783283</td>\n",
       "    </tr>\n",
       "    <tr>\n",
       "      <th>mixed_imputed_score</th>\n",
       "      <td>3.748877</td>\n",
       "      <td>3.790433</td>\n",
       "      <td>3.790720</td>\n",
       "    </tr>\n",
       "  </tbody>\n",
       "</table>\n",
       "</div>"
      ],
      "text/plain": [
       "                            0         1         2\n",
       "mean_imputed_score   3.743216  3.785164  3.797717\n",
       "dt_imputed_score     3.737138  3.787539  3.783283\n",
       "mixed_imputed_score  3.748877  3.790433  3.790720"
      ]
     },
     "execution_count": 26,
     "metadata": {
      "tags": []
     },
     "output_type": "execute_result"
    }
   ],
   "source": [
    "imputation_cv_scores = pd.DataFrame({'mean_imputed_score' : mean_imputed_score,\n",
    "                         'dt_imputed_score' : dt_imputed_score,\n",
    "                         'mixed_imputed_score' : mixed_imputed_cv_score}).T\n",
    "imputation_cv_scores.head()"
   ]
  },
  {
   "cell_type": "code",
   "execution_count": 27,
   "metadata": {
    "colab": {
     "base_uri": "https://localhost:8080/",
     "height": 132
    },
    "colab_type": "code",
    "id": "qfkPR894iU6j",
    "outputId": "5f3bef2a-f886-4950-ccf0-41ffcada6b10"
   },
   "outputs": [
    {
     "data": {
      "text/html": [
       "<div>\n",
       "<style scoped>\n",
       "    .dataframe tbody tr th:only-of-type {\n",
       "        vertical-align: middle;\n",
       "    }\n",
       "\n",
       "    .dataframe tbody tr th {\n",
       "        vertical-align: top;\n",
       "    }\n",
       "\n",
       "    .dataframe thead th {\n",
       "        text-align: right;\n",
       "    }\n",
       "</style>\n",
       "<table border=\"1\" class=\"dataframe\">\n",
       "  <thead>\n",
       "    <tr style=\"text-align: right;\">\n",
       "      <th></th>\n",
       "      <th>0</th>\n",
       "      <th>1</th>\n",
       "      <th>2</th>\n",
       "      <th>avg_score</th>\n",
       "    </tr>\n",
       "  </thead>\n",
       "  <tbody>\n",
       "    <tr>\n",
       "      <th>mean_imputed_score</th>\n",
       "      <td>3.743216</td>\n",
       "      <td>3.785164</td>\n",
       "      <td>3.797717</td>\n",
       "      <td>3.775366</td>\n",
       "    </tr>\n",
       "    <tr>\n",
       "      <th>dt_imputed_score</th>\n",
       "      <td>3.737138</td>\n",
       "      <td>3.787539</td>\n",
       "      <td>3.783283</td>\n",
       "      <td>3.769320</td>\n",
       "    </tr>\n",
       "    <tr>\n",
       "      <th>mixed_imputed_score</th>\n",
       "      <td>3.748877</td>\n",
       "      <td>3.790433</td>\n",
       "      <td>3.790720</td>\n",
       "      <td>3.776676</td>\n",
       "    </tr>\n",
       "  </tbody>\n",
       "</table>\n",
       "</div>"
      ],
      "text/plain": [
       "                            0         1         2  avg_score\n",
       "mean_imputed_score   3.743216  3.785164  3.797717   3.775366\n",
       "dt_imputed_score     3.737138  3.787539  3.783283   3.769320\n",
       "mixed_imputed_score  3.748877  3.790433  3.790720   3.776676"
      ]
     },
     "execution_count": 27,
     "metadata": {
      "tags": []
     },
     "output_type": "execute_result"
    }
   ],
   "source": [
    "imputation_cv_scores['avg_score'] = imputation_cv_scores.apply(lambda x : np.sum(x)/len(x),axis=1)\n",
    "imputation_cv_scores.head()"
   ]
  },
  {
   "cell_type": "code",
   "execution_count": 28,
   "metadata": {
    "colab": {
     "base_uri": "https://localhost:8080/",
     "height": 132
    },
    "colab_type": "code",
    "id": "5efV-gBMi_V8",
    "outputId": "94936597-47f0-4c3e-e930-c6353d1ff196"
   },
   "outputs": [
    {
     "data": {
      "text/html": [
       "<div>\n",
       "<style scoped>\n",
       "    .dataframe tbody tr th:only-of-type {\n",
       "        vertical-align: middle;\n",
       "    }\n",
       "\n",
       "    .dataframe tbody tr th {\n",
       "        vertical-align: top;\n",
       "    }\n",
       "\n",
       "    .dataframe thead th {\n",
       "        text-align: right;\n",
       "    }\n",
       "</style>\n",
       "<table border=\"1\" class=\"dataframe\">\n",
       "  <thead>\n",
       "    <tr style=\"text-align: right;\">\n",
       "      <th></th>\n",
       "      <th>index</th>\n",
       "      <th>0</th>\n",
       "      <th>1</th>\n",
       "      <th>2</th>\n",
       "      <th>avg_score</th>\n",
       "    </tr>\n",
       "  </thead>\n",
       "  <tbody>\n",
       "    <tr>\n",
       "      <th>0</th>\n",
       "      <td>mean_imputed_score</td>\n",
       "      <td>3.743216</td>\n",
       "      <td>3.785164</td>\n",
       "      <td>3.797717</td>\n",
       "      <td>3.775366</td>\n",
       "    </tr>\n",
       "    <tr>\n",
       "      <th>1</th>\n",
       "      <td>dt_imputed_score</td>\n",
       "      <td>3.737138</td>\n",
       "      <td>3.787539</td>\n",
       "      <td>3.783283</td>\n",
       "      <td>3.769320</td>\n",
       "    </tr>\n",
       "    <tr>\n",
       "      <th>2</th>\n",
       "      <td>mixed_imputed_score</td>\n",
       "      <td>3.748877</td>\n",
       "      <td>3.790433</td>\n",
       "      <td>3.790720</td>\n",
       "      <td>3.776676</td>\n",
       "    </tr>\n",
       "  </tbody>\n",
       "</table>\n",
       "</div>"
      ],
      "text/plain": [
       "                 index         0         1         2  avg_score\n",
       "0   mean_imputed_score  3.743216  3.785164  3.797717   3.775366\n",
       "1     dt_imputed_score  3.737138  3.787539  3.783283   3.769320\n",
       "2  mixed_imputed_score  3.748877  3.790433  3.790720   3.776676"
      ]
     },
     "execution_count": 28,
     "metadata": {
      "tags": []
     },
     "output_type": "execute_result"
    }
   ],
   "source": [
    "imputation_cv_scores = imputation_cv_scores.reset_index()\n",
    "imputation_cv_scores.head()"
   ]
  },
  {
   "cell_type": "code",
   "execution_count": 32,
   "metadata": {
    "colab": {
     "base_uri": "https://localhost:8080/",
     "height": 132
    },
    "colab_type": "code",
    "id": "uT479k1GjcvN",
    "outputId": "db72a0b0-113c-4fe0-8d9e-5a5753658157"
   },
   "outputs": [
    {
     "data": {
      "text/html": [
       "<div>\n",
       "<style scoped>\n",
       "    .dataframe tbody tr th:only-of-type {\n",
       "        vertical-align: middle;\n",
       "    }\n",
       "\n",
       "    .dataframe tbody tr th {\n",
       "        vertical-align: top;\n",
       "    }\n",
       "\n",
       "    .dataframe thead th {\n",
       "        text-align: right;\n",
       "    }\n",
       "</style>\n",
       "<table border=\"1\" class=\"dataframe\">\n",
       "  <thead>\n",
       "    <tr style=\"text-align: right;\">\n",
       "      <th></th>\n",
       "      <th>index</th>\n",
       "      <th>0</th>\n",
       "      <th>1</th>\n",
       "      <th>2</th>\n",
       "      <th>avg_score</th>\n",
       "      <th>norm_avg_score</th>\n",
       "    </tr>\n",
       "  </thead>\n",
       "  <tbody>\n",
       "    <tr>\n",
       "      <th>0</th>\n",
       "      <td>mean_imputed_score</td>\n",
       "      <td>3.743216</td>\n",
       "      <td>3.785164</td>\n",
       "      <td>3.797717</td>\n",
       "      <td>3.775366</td>\n",
       "      <td>0.821816</td>\n",
       "    </tr>\n",
       "    <tr>\n",
       "      <th>1</th>\n",
       "      <td>dt_imputed_score</td>\n",
       "      <td>3.737138</td>\n",
       "      <td>3.787539</td>\n",
       "      <td>3.783283</td>\n",
       "      <td>3.769320</td>\n",
       "      <td>0.000000</td>\n",
       "    </tr>\n",
       "    <tr>\n",
       "      <th>2</th>\n",
       "      <td>mixed_imputed_score</td>\n",
       "      <td>3.748877</td>\n",
       "      <td>3.790433</td>\n",
       "      <td>3.790720</td>\n",
       "      <td>3.776676</td>\n",
       "      <td>1.000000</td>\n",
       "    </tr>\n",
       "  </tbody>\n",
       "</table>\n",
       "</div>"
      ],
      "text/plain": [
       "                 index         0         1         2  avg_score  norm_avg_score\n",
       "0   mean_imputed_score  3.743216  3.785164  3.797717   3.775366        0.821816\n",
       "1     dt_imputed_score  3.737138  3.787539  3.783283   3.769320        0.000000\n",
       "2  mixed_imputed_score  3.748877  3.790433  3.790720   3.776676        1.000000"
      ]
     },
     "execution_count": 32,
     "metadata": {
      "tags": []
     },
     "output_type": "execute_result"
    }
   ],
   "source": [
    "from sklearn.preprocessing import MinMaxScaler\n",
    "min_max_scaler = MinMaxScaler()\n",
    "norm_avg_score = min_max_scaler.fit_transform(imputation_cv_scores[['avg_score']])\n",
    "imputation_cv_scores['norm_avg_score'] = norm_avg_score\n",
    "imputation_cv_scores.head()"
   ]
  },
  {
   "cell_type": "code",
   "execution_count": 34,
   "metadata": {
    "colab": {
     "base_uri": "https://localhost:8080/",
     "height": 298
    },
    "colab_type": "code",
    "id": "gFg3p2C5kHFz",
    "outputId": "d7f1b65b-5820-4736-8385-34ddf2c9eb2e"
   },
   "outputs": [
    {
     "data": {
      "text/plain": [
       "<matplotlib.axes._subplots.AxesSubplot at 0x7f12e25b2f98>"
      ]
     },
     "execution_count": 34,
     "metadata": {
      "tags": []
     },
     "output_type": "execute_result"
    },
    {
     "data": {
      "image/png": "[encoded data removed]",
      "text/plain": [
       "<Figure size 432x288 with 1 Axes>"
      ]
     },
     "metadata": {
      "needs_background": "light",
      "tags": []
     },
     "output_type": "display_data"
    }
   ],
   "source": [
    "sns.barplot('index','norm_avg_score',data = imputation_cv_scores)"
   ]
  },
  {
   "cell_type": "markdown",
   "metadata": {
    "colab_type": "text",
    "id": "zZwup-zZknmR"
   },
   "source": [
    "<a id=\"final_analysis\"></a>\n",
    "### Analysis\n",
    "* It can be observed that the RMSE value is minimum for Decision Tree imputed Dataframe.\n",
    "* We didn't go for any hyper-parameter tuning.\n",
    "* Also we couldn't try much of Iterative Imputation because of RAM issues in google Colab as well as my personal desktop.\n",
    "* After several days of finding out which parameters could actually decrease the RAM usage we were able to run some decent experiments on imputation.\n",
    "* There are two set of parameters to control\n",
    "  * Hyper-parameters of the model which is going to impute the dataframe.\n",
    "  * Hyper-paramters of the Iterative and Simple Imputer which have parameters like max_iteration and tolerance.\n",
    "  * If the imputation converges before the max_iteration then well and good otherwise it uses up the entire RAM."
   ]
  },
  {
   "cell_type": "markdown",
   "metadata": {
    "colab": {},
    "colab_type": "code",
    "id": "ebuIdb59mQIo"
   },
   "source": [
    "## 8. Imputing columns for new merchant transactions based on our observations above\n"
   ]
  },
  {
   "cell_type": "code",
   "execution_count": 4,
   "metadata": {},
   "outputs": [],
   "source": [
    "trans_new_df = pickle.load(open('trans_new_df.pkl','rb'))\n",
    "impute_new_trans_col = pickle.load(open('selected_cols_from_new_trans.pkl','rb'))"
   ]
  },
  {
   "cell_type": "markdown",
   "metadata": {},
   "source": [
    "### 8.1 Using Decision Tree based imputer\n",
    "* Since it performed better than all the remaining imputations"
   ]
  },
  {
   "cell_type": "code",
   "execution_count": 5,
   "metadata": {},
   "outputs": [
    {
     "name": "stdout",
     "output_type": "stream",
     "text": [
      "Creating Decision Tree Regressor...\n",
      "Creating Iterative Imputer...\n"
     ]
    }
   ],
   "source": [
    "print(\"Creating Decision Tree Regressor...\")\n",
    "dt_regressor = DecisionTreeRegressor(max_features='sqrt',\n",
    "                                     max_depth=5,\n",
    "                                     random_state=0)\n",
    "print(\"Creating Iterative Imputer...\")\n",
    "iterative_imputer = IterativeImputer(random_state = 0,\n",
    "                                     estimator = dt_regressor,\n",
    "                                     tol = 0.1,\n",
    "                                     verbose=30)"
   ]
  },
  {
   "cell_type": "markdown",
   "metadata": {},
   "source": [
    "### 8.2  Dropping the unnecessary columns\n",
    "* Dropping card_id and categorical mode features since they are useless for modelling\n",
    "* Converting boolean features into 0's and 1's"
   ]
  },
  {
   "cell_type": "code",
   "execution_count": 8,
   "metadata": {},
   "outputs": [],
   "source": [
    "X_train = trans_new_df[impute_new_trans_col]\n",
    "X_features = X_train.drop(['card_id'],axis=1)"
   ]
  },
  {
   "cell_type": "code",
   "execution_count": 20,
   "metadata": {},
   "outputs": [
    {
     "name": "stdout",
     "output_type": "stream",
     "text": [
      "Categorical columns :  Index(['category_1_mode', 'category_3_mode'], dtype='object')\n",
      "Boolean columns :  Index(['is_purchase_month_end_mode', 'is_purchase_month_end_min',\n",
      "       'is_purchase_month_start_mode', 'is_purchase_month_start_min',\n",
      "       'is_purchase_quarter_start_mode', 'is_purchase_quarter_start_min',\n",
      "       'is_purchase_quarter_end_mode', 'is_purchase_quarter_end_min',\n",
      "       'is_purchase_year_end_mode', 'is_purchase_year_end_min',\n",
      "       'is_purchase_year_start_mode', 'is_purchase_year_start_min',\n",
      "       'is_christmas_mode', 'is_christmas_min', 'is_mothers_day_mode',\n",
      "       'is_mothers_day_min', 'is_childrens_day_mode', 'is_childrens_day_min',\n",
      "       'is_valentines_day_mode', 'is_valentines_day_min',\n",
      "       'is_fathers_day_mode', 'is_fathers_day_min'],\n",
      "      dtype='object')\n"
     ]
    }
   ],
   "source": [
    "cat_cols = X_features.select_dtypes('O').columns.unique()\n",
    "bool_cols = X_features.select_dtypes('bool').columns.unique()\n",
    "print(\"Categorical columns : \",cat_cols)\n",
    "print(\"Boolean columns : \",bool_cols)\n",
    "\n",
    "## Mode features are useless\n",
    "X_features.drop(cat_cols,axis=1,inplace=True)\n",
    "\n",
    "## for boolean features converting them into 1's and 0's\n",
    "for col in bool_cols:\n",
    "    X_features[col] = X_features[col].apply(lambda x : 1 if True else 0)"
   ]
  },
  {
   "cell_type": "markdown",
   "metadata": {},
   "source": [
    "### 8.3 replacing infinity values by nan's"
   ]
  },
  {
   "cell_type": "code",
   "execution_count": 23,
   "metadata": {},
   "outputs": [],
   "source": [
    "X_features.replace([np.inf,-np.inf],np.nan,inplace=True)"
   ]
  },
  {
   "cell_type": "code",
   "execution_count": 24,
   "metadata": {},
   "outputs": [
    {
     "name": "stdout",
     "output_type": "stream",
     "text": [
      "Imputing features...\n",
      "[IterativeImputer] Completing matrix with shape (179986, 199)\n",
      "[IterativeImputer] Ending imputation round 1/10, elapsed time 480.26\n",
      "[IterativeImputer] Change: 6820.386680822434, scaled tolerance: 843.2 \n",
      "[IterativeImputer] Ending imputation round 2/10, elapsed time 967.46\n",
      "[IterativeImputer] Change: 5893.547782301697, scaled tolerance: 843.2 \n",
      "[IterativeImputer] Ending imputation round 3/10, elapsed time 1458.23\n",
      "[IterativeImputer] Change: 5448.720516115342, scaled tolerance: 843.2 \n",
      "[IterativeImputer] Ending imputation round 4/10, elapsed time 1939.31\n",
      "[IterativeImputer] Change: 4315.096195200879, scaled tolerance: 843.2 \n",
      "[IterativeImputer] Ending imputation round 5/10, elapsed time 2432.11\n",
      "[IterativeImputer] Change: 3924.975576559918, scaled tolerance: 843.2 \n",
      "[IterativeImputer] Ending imputation round 6/10, elapsed time 2922.11\n",
      "[IterativeImputer] Change: 3179.642601784601, scaled tolerance: 843.2 \n",
      "[IterativeImputer] Ending imputation round 7/10, elapsed time 3410.20\n",
      "[IterativeImputer] Change: 3419.9672983087385, scaled tolerance: 843.2 \n",
      "[IterativeImputer] Ending imputation round 8/10, elapsed time 3921.29\n",
      "[IterativeImputer] Change: 3484.4255219436027, scaled tolerance: 843.2 \n",
      "[IterativeImputer] Ending imputation round 9/10, elapsed time 4441.00\n",
      "[IterativeImputer] Change: 3405.433650809366, scaled tolerance: 843.2 \n",
      "[IterativeImputer] Ending imputation round 10/10, elapsed time 4925.31\n",
      "[IterativeImputer] Change: 3837.497097643571, scaled tolerance: 843.2 \n"
     ]
    },
    {
     "name": "stderr",
     "output_type": "stream",
     "text": [
      "c:\\users\\capiot\\appdata\\local\\programs\\python\\python36\\lib\\site-packages\\sklearn\\impute\\_iterative.py:670: ConvergenceWarning: [IterativeImputer] Early stopping criterion not reached.\n",
      "  \" reached.\", ConvergenceWarning)\n"
     ]
    }
   ],
   "source": [
    "print(\"Imputing features...\")\n",
    "dt_imputed_features = iterative_imputer.fit_transform(X_features)\n",
    "dt_imputed_df = pd.DataFrame(dt_imputed_features,columns=X_features.columns)"
   ]
  },
  {
   "cell_type": "markdown",
   "metadata": {},
   "source": [
    "### 8.4 Add card_id column and target column\n",
    "* So that we can use it for feature selection purpose\n"
   ]
  },
  {
   "cell_type": "code",
   "execution_count": 26,
   "metadata": {},
   "outputs": [
    {
     "data": {
      "text/plain": [
       "(179986, 199)"
      ]
     },
     "execution_count": 26,
     "metadata": {},
     "output_type": "execute_result"
    }
   ],
   "source": [
    "dt_imputed_df.shape"
   ]
  },
  {
   "cell_type": "code",
   "execution_count": 27,
   "metadata": {},
   "outputs": [
    {
     "data": {
      "text/plain": [
       "(179986, 200)"
      ]
     },
     "execution_count": 27,
     "metadata": {},
     "output_type": "execute_result"
    }
   ],
   "source": [
    "dt_imputed_df = pd.concat([X_train['card_id'],dt_imputed_df],axis=1)\n",
    "dt_imputed_df.shape"
   ]
  },
  {
   "cell_type": "code",
   "execution_count": 29,
   "metadata": {},
   "outputs": [
    {
     "data": {
      "text/plain": [
       "(179986, 201)"
      ]
     },
     "execution_count": 29,
     "metadata": {},
     "output_type": "execute_result"
    }
   ],
   "source": [
    "trans_train_df = pickle.load(open('trans_train_df.pkl','rb'))\n",
    "dt_imputed_df = pd.merge(trans_train_df[['card_id','target']],dt_imputed_df,on='card_id',how='inner')\n",
    "dt_imputed_df.shape"
   ]
  },
  {
   "cell_type": "code",
   "execution_count": 30,
   "metadata": {},
   "outputs": [],
   "source": [
    "pickle.dump(dt_imputed_df,open('feature_set_4.pkl','wb'))"
   ]
  },
  {
   "cell_type": "code",
   "execution_count": null,
   "metadata": {},
   "outputs": [],
   "source": []
  }
 ],
 "metadata": {
  "colab": {
   "collapsed_sections": [],
   "name": "Feature Imputation for generated features.ipynb",
   "provenance": []
  },
  "kernelspec": {
   "display_name": "Python 3",
   "language": "python",
   "name": "python3"
  },
  "language_info": {
   "codemirror_mode": {
    "name": "ipython",
    "version": 3
   },
   "file_extension": ".py",
   "mimetype": "text/x-python",
   "name": "python",
   "nbconvert_exporter": "python",
   "pygments_lexer": "ipython3",
   "version": "3.8.5"
  }
 },
 "nbformat": 4,
 "nbformat_minor": 1
}
