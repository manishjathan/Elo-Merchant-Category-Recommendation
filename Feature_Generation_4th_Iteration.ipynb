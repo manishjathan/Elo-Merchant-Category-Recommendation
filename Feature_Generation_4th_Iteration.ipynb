{
 "cells": [
  {
   "cell_type": "code",
   "execution_count": 5,
   "metadata": {},
   "outputs": [],
   "source": [
    "import pandas as pd \n",
    "import numpy as np\n",
    "import pickle\n",
    "import datetime\n",
    "import eda_fe_module as eda_fe\n",
    "from scipy.stats import gmean,hmean\n",
    "from sklearn.preprocessing import LabelEncoder\n",
    "from tqdm import tqdm\n",
    "import gc"
   ]
  },
  {
   "cell_type": "code",
   "execution_count": 2,
   "metadata": {},
   "outputs": [],
   "source": [
    "hist_train_preprocessed_obj = pickle.load(open(\"D:\\Elo Merchant Category Recommendation\\Train_Test_generated_features\\hist_train_preprocessed_obj.pkl\",\"rb\"))"
   ]
  },
  {
   "cell_type": "code",
   "execution_count": 3,
   "metadata": {},
   "outputs": [
    {
     "data": {
      "text/plain": [
       "Index(['authorized_flag', 'card_id', 'city_id', 'category_1', 'installments',\n",
       "       'category_3', 'merchant_category_id', 'merchant_id', 'month_lag',\n",
       "       'purchase_amount', 'purchase_date', 'category_2', 'state_id',\n",
       "       'subsector_id', 'new_purchase_amount', 'day', 'wday', 'month', 'year',\n",
       "       'is_purchase_month_end', 'is_purchase_month_start',\n",
       "       'is_purchase_quarter_start', 'is_purchase_quarter_end',\n",
       "       'is_purchase_year_end', 'is_purchase_year_start', 'is_christmas',\n",
       "       'is_mothers_day', 'is_childrens_day', 'is_valentines_day',\n",
       "       'is_fathers_day'],\n",
       "      dtype='object')"
      ]
     },
     "execution_count": 3,
     "metadata": {},
     "output_type": "execute_result"
    }
   ],
   "source": [
    "hist_train_obj = hist_train_preprocessed_obj[0]\n",
    "hist_train_obj.columns"
   ]
  },
  {
   "cell_type": "code",
   "execution_count": 4,
   "metadata": {},
   "outputs": [],
   "source": [
    "weekend_indices = (hist_train_obj.wday >= 5)\n",
    "weekday_indices = (hist_train_obj.wday < 5)"
   ]
  },
  {
   "cell_type": "code",
   "execution_count": 5,
   "metadata": {},
   "outputs": [
    {
     "data": {
      "text/html": [
       "<div>\n",
       "<style scoped>\n",
       "    .dataframe tbody tr th:only-of-type {\n",
       "        vertical-align: middle;\n",
       "    }\n",
       "\n",
       "    .dataframe tbody tr th {\n",
       "        vertical-align: top;\n",
       "    }\n",
       "\n",
       "    .dataframe thead th {\n",
       "        text-align: right;\n",
       "    }\n",
       "</style>\n",
       "<table border=\"1\" class=\"dataframe\">\n",
       "  <thead>\n",
       "    <tr style=\"text-align: right;\">\n",
       "      <th></th>\n",
       "      <th>authorized_flag</th>\n",
       "      <th>card_id</th>\n",
       "      <th>city_id</th>\n",
       "      <th>category_1</th>\n",
       "      <th>installments</th>\n",
       "      <th>category_3</th>\n",
       "      <th>merchant_category_id</th>\n",
       "      <th>merchant_id</th>\n",
       "      <th>month_lag</th>\n",
       "      <th>purchase_amount</th>\n",
       "      <th>...</th>\n",
       "      <th>is_purchase_quarter_end</th>\n",
       "      <th>is_purchase_year_end</th>\n",
       "      <th>is_purchase_year_start</th>\n",
       "      <th>is_christmas</th>\n",
       "      <th>is_mothers_day</th>\n",
       "      <th>is_childrens_day</th>\n",
       "      <th>is_valentines_day</th>\n",
       "      <th>is_fathers_day</th>\n",
       "      <th>weekend</th>\n",
       "      <th>weekday</th>\n",
       "    </tr>\n",
       "  </thead>\n",
       "  <tbody>\n",
       "    <tr>\n",
       "      <th>402</th>\n",
       "      <td>Y</td>\n",
       "      <td>C_ID_5037ff576e</td>\n",
       "      <td>138</td>\n",
       "      <td>N</td>\n",
       "      <td>1</td>\n",
       "      <td>B</td>\n",
       "      <td>705</td>\n",
       "      <td>M_ID_efc106141c</td>\n",
       "      <td>-9</td>\n",
       "      <td>-0.640069</td>\n",
       "      <td>...</td>\n",
       "      <td>False</td>\n",
       "      <td>False</td>\n",
       "      <td>False</td>\n",
       "      <td>False</td>\n",
       "      <td>False</td>\n",
       "      <td>False</td>\n",
       "      <td>False</td>\n",
       "      <td>False</td>\n",
       "      <td>True</td>\n",
       "      <td>False</td>\n",
       "    </tr>\n",
       "    <tr>\n",
       "      <th>404</th>\n",
       "      <td>Y</td>\n",
       "      <td>C_ID_5037ff576e</td>\n",
       "      <td>330</td>\n",
       "      <td>N</td>\n",
       "      <td>1</td>\n",
       "      <td>B</td>\n",
       "      <td>705</td>\n",
       "      <td>M_ID_393b4b8cec</td>\n",
       "      <td>-9</td>\n",
       "      <td>-0.674210</td>\n",
       "      <td>...</td>\n",
       "      <td>False</td>\n",
       "      <td>False</td>\n",
       "      <td>False</td>\n",
       "      <td>False</td>\n",
       "      <td>False</td>\n",
       "      <td>False</td>\n",
       "      <td>False</td>\n",
       "      <td>False</td>\n",
       "      <td>True</td>\n",
       "      <td>False</td>\n",
       "    </tr>\n",
       "    <tr>\n",
       "      <th>412</th>\n",
       "      <td>Y</td>\n",
       "      <td>C_ID_5037ff576e</td>\n",
       "      <td>193</td>\n",
       "      <td>N</td>\n",
       "      <td>1</td>\n",
       "      <td>B</td>\n",
       "      <td>278</td>\n",
       "      <td>M_ID_f187d5d98c</td>\n",
       "      <td>-10</td>\n",
       "      <td>-0.700326</td>\n",
       "      <td>...</td>\n",
       "      <td>False</td>\n",
       "      <td>False</td>\n",
       "      <td>False</td>\n",
       "      <td>False</td>\n",
       "      <td>False</td>\n",
       "      <td>False</td>\n",
       "      <td>False</td>\n",
       "      <td>False</td>\n",
       "      <td>True</td>\n",
       "      <td>False</td>\n",
       "    </tr>\n",
       "    <tr>\n",
       "      <th>417</th>\n",
       "      <td>Y</td>\n",
       "      <td>C_ID_5037ff576e</td>\n",
       "      <td>330</td>\n",
       "      <td>N</td>\n",
       "      <td>1</td>\n",
       "      <td>B</td>\n",
       "      <td>278</td>\n",
       "      <td>M_ID_80235aa624</td>\n",
       "      <td>-11</td>\n",
       "      <td>-0.677786</td>\n",
       "      <td>...</td>\n",
       "      <td>False</td>\n",
       "      <td>False</td>\n",
       "      <td>False</td>\n",
       "      <td>False</td>\n",
       "      <td>False</td>\n",
       "      <td>False</td>\n",
       "      <td>False</td>\n",
       "      <td>False</td>\n",
       "      <td>True</td>\n",
       "      <td>False</td>\n",
       "    </tr>\n",
       "    <tr>\n",
       "      <th>418</th>\n",
       "      <td>Y</td>\n",
       "      <td>C_ID_5037ff576e</td>\n",
       "      <td>-1</td>\n",
       "      <td>N</td>\n",
       "      <td>1</td>\n",
       "      <td>B</td>\n",
       "      <td>307</td>\n",
       "      <td>M_ID_d8281a0ff9</td>\n",
       "      <td>-11</td>\n",
       "      <td>-0.303581</td>\n",
       "      <td>...</td>\n",
       "      <td>False</td>\n",
       "      <td>False</td>\n",
       "      <td>False</td>\n",
       "      <td>False</td>\n",
       "      <td>False</td>\n",
       "      <td>False</td>\n",
       "      <td>False</td>\n",
       "      <td>False</td>\n",
       "      <td>True</td>\n",
       "      <td>False</td>\n",
       "    </tr>\n",
       "  </tbody>\n",
       "</table>\n",
       "<p>5 rows × 32 columns</p>\n",
       "</div>"
      ],
      "text/plain": [
       "    authorized_flag          card_id  city_id category_1  installments  \\\n",
       "402               Y  C_ID_5037ff576e      138          N             1   \n",
       "404               Y  C_ID_5037ff576e      330          N             1   \n",
       "412               Y  C_ID_5037ff576e      193          N             1   \n",
       "417               Y  C_ID_5037ff576e      330          N             1   \n",
       "418               Y  C_ID_5037ff576e       -1          N             1   \n",
       "\n",
       "    category_3 merchant_category_id      merchant_id  month_lag  \\\n",
       "402          B                  705  M_ID_efc106141c         -9   \n",
       "404          B                  705  M_ID_393b4b8cec         -9   \n",
       "412          B                  278  M_ID_f187d5d98c        -10   \n",
       "417          B                  278  M_ID_80235aa624        -11   \n",
       "418          B                  307  M_ID_d8281a0ff9        -11   \n",
       "\n",
       "     purchase_amount  ... is_purchase_quarter_end  is_purchase_year_end  \\\n",
       "402        -0.640069  ...                   False                 False   \n",
       "404        -0.674210  ...                   False                 False   \n",
       "412        -0.700326  ...                   False                 False   \n",
       "417        -0.677786  ...                   False                 False   \n",
       "418        -0.303581  ...                   False                 False   \n",
       "\n",
       "     is_purchase_year_start is_christmas  is_mothers_day  is_childrens_day  \\\n",
       "402                   False        False           False             False   \n",
       "404                   False        False           False             False   \n",
       "412                   False        False           False             False   \n",
       "417                   False        False           False             False   \n",
       "418                   False        False           False             False   \n",
       "\n",
       "     is_valentines_day  is_fathers_day  weekend  weekday  \n",
       "402              False           False     True    False  \n",
       "404              False           False     True    False  \n",
       "412              False           False     True    False  \n",
       "417              False           False     True    False  \n",
       "418              False           False     True    False  \n",
       "\n",
       "[5 rows x 32 columns]"
      ]
     },
     "execution_count": 5,
     "metadata": {},
     "output_type": "execute_result"
    }
   ],
   "source": [
    "hist_train_obj['weekend'] = np.full(hist_train_obj.shape[0],False)\n",
    "hist_train_obj['weekday'] = np.full(hist_train_obj.shape[0],False)\n",
    "\n",
    "hist_train_obj.loc[weekend_indices,'weekend'] = True\n",
    "hist_train_obj.loc[weekday_indices,'weekday'] = True\n",
    "\n",
    "hist_train_obj[hist_train_obj['weekend'] == True].head()"
   ]
  },
  {
   "cell_type": "code",
   "execution_count": 6,
   "metadata": {},
   "outputs": [],
   "source": [
    "def addPurchaseDateAndMonthDiffCols(s_inp_df): \n",
    "    print(\"Sorting columns by card_id and purchase date...\")\n",
    "    sorted_df = s_inp_df.sort_values(by=['card_id','purchase_date'])\n",
    "    sorted_df['purchase_date'] = pd.to_datetime(sorted_df['purchase_date']) \n",
    "    sorted_df['purchase_date'] = sorted_df['purchase_date'].dt.date\n",
    "\n",
    "    print(\"Adding date difference column...\")\n",
    "    sorted_df['date_diff'] = sorted_df.groupby(['card_id'])['purchase_date'].apply(lambda x : x.diff()).astype(str).apply(lambda x : x.split(' ')[0])\n",
    "    sorted_df['date_diff'].replace(['NaT','nan'],'0',inplace = True)\n",
    "    sorted_df['date_diff'].astype(int)\n",
    "\n",
    "    print(\"Adding purchase amount difference column...\")\n",
    "    sorted_df['purch_amt_diff'] = sorted_df.groupby(['card_id'])['new_purchase_amount'].apply(lambda x : x.diff())\n",
    "    sorted_df['purch_amt_diff'].replace(np.nan,0,inplace=True)\n",
    "\n",
    "    reference_date = datetime.date(2018,2,1)\n",
    "    print(\"Adding a column which shows difference from reference date...\")\n",
    "    sorted_df['ref_diff'] = sorted_df.groupby(['card_id'])['purchase_date'].apply(lambda x : reference_date-x)\n",
    "\n",
    "    print(\"Obtaining days from above reference date difference...\")\n",
    "    sorted_df['ref_days_diff'] = sorted_df['ref_diff']/np.timedelta64(1,'D')\n",
    "  \n",
    "    print(\"Obtaining weeks from above reference date difference...\")\n",
    "    sorted_df['ref_weeks_diff'] = sorted_df['ref_diff']/np.timedelta64(1,'W')\n",
    "\n",
    "    print(\"Obtaining months from above reference date difference...\")\n",
    "    sorted_df['ref_month_diff'] = sorted_df['ref_diff']/np.timedelta64(1,'M')\n",
    "\n",
    "    print(\"Applying some sort of smoothing since we are going to obtain inf values if we divide by 0...\")\n",
    "    sorted_df['ref_month_diff'].replace(0,0.01,inplace=True)\n",
    "\n",
    "    print(\"Creating a ratio of purchase amounts and reference month difference...\")\n",
    "    ## giving more importance to recent months as compared to previous months\n",
    "    sorted_df['pamount_refmonth_ratio'] = sorted_df['new_purchase_amount']/sorted_df['ref_month_diff']\n",
    "    \n",
    "    return sorted_df"
   ]
  },
  {
   "cell_type": "code",
   "execution_count": 8,
   "metadata": {},
   "outputs": [
    {
     "name": "stdout",
     "output_type": "stream",
     "text": [
      "Sorting columns by card_id and purchase date...\n",
      "Adding date difference column...\n",
      "Adding purchase amount difference column...\n",
      "Adding a column which shows difference from reference date...\n",
      "Obtaining days from above reference date difference...\n",
      "Obtaining weeks from above reference date difference...\n",
      "Obtaining months from above reference date difference...\n",
      "Applying some sort of smoothing since we are going to obtain inf values if we divide by 0...\n",
      "Creating a ratio of purchase amounts and reference month difference...\n"
     ]
    },
    {
     "data": {
      "text/html": [
       "<div>\n",
       "<style scoped>\n",
       "    .dataframe tbody tr th:only-of-type {\n",
       "        vertical-align: middle;\n",
       "    }\n",
       "\n",
       "    .dataframe tbody tr th {\n",
       "        vertical-align: top;\n",
       "    }\n",
       "\n",
       "    .dataframe thead th {\n",
       "        text-align: right;\n",
       "    }\n",
       "</style>\n",
       "<table border=\"1\" class=\"dataframe\">\n",
       "  <thead>\n",
       "    <tr style=\"text-align: right;\">\n",
       "      <th></th>\n",
       "      <th>card_id</th>\n",
       "      <th>purchase_date</th>\n",
       "      <th>new_purchase_amount</th>\n",
       "      <th>date_diff</th>\n",
       "      <th>purch_amt_diff</th>\n",
       "      <th>ref_diff</th>\n",
       "      <th>ref_days_diff</th>\n",
       "      <th>ref_weeks_diff</th>\n",
       "      <th>ref_month_diff</th>\n",
       "      <th>pamount_refmonth_ratio</th>\n",
       "    </tr>\n",
       "  </thead>\n",
       "  <tbody>\n",
       "    <tr>\n",
       "      <th>19095896</th>\n",
       "      <td>C_ID_00007093c1</td>\n",
       "      <td>2017-02-14</td>\n",
       "      <td>521.799988</td>\n",
       "      <td>0</td>\n",
       "      <td>0.000000</td>\n",
       "      <td>352 days</td>\n",
       "      <td>352.0</td>\n",
       "      <td>50.285714</td>\n",
       "      <td>11.564919</td>\n",
       "      <td>45.119207</td>\n",
       "    </tr>\n",
       "    <tr>\n",
       "      <th>19095775</th>\n",
       "      <td>C_ID_00007093c1</td>\n",
       "      <td>2017-02-14</td>\n",
       "      <td>186.000000</td>\n",
       "      <td>0</td>\n",
       "      <td>-335.799988</td>\n",
       "      <td>352 days</td>\n",
       "      <td>352.0</td>\n",
       "      <td>50.285714</td>\n",
       "      <td>11.564919</td>\n",
       "      <td>16.083121</td>\n",
       "    </tr>\n",
       "    <tr>\n",
       "      <th>19095845</th>\n",
       "      <td>C_ID_00007093c1</td>\n",
       "      <td>2017-02-16</td>\n",
       "      <td>116.000000</td>\n",
       "      <td>2</td>\n",
       "      <td>-70.000000</td>\n",
       "      <td>350 days</td>\n",
       "      <td>350.0</td>\n",
       "      <td>50.000000</td>\n",
       "      <td>11.499209</td>\n",
       "      <td>10.087650</td>\n",
       "    </tr>\n",
       "    <tr>\n",
       "      <th>19095866</th>\n",
       "      <td>C_ID_00007093c1</td>\n",
       "      <td>2017-02-20</td>\n",
       "      <td>276.399994</td>\n",
       "      <td>4</td>\n",
       "      <td>160.399994</td>\n",
       "      <td>346 days</td>\n",
       "      <td>346.0</td>\n",
       "      <td>49.428571</td>\n",
       "      <td>11.367790</td>\n",
       "      <td>24.314312</td>\n",
       "    </tr>\n",
       "    <tr>\n",
       "      <th>19095808</th>\n",
       "      <td>C_ID_00007093c1</td>\n",
       "      <td>2017-03-03</td>\n",
       "      <td>175.000000</td>\n",
       "      <td>11</td>\n",
       "      <td>-101.399994</td>\n",
       "      <td>335 days</td>\n",
       "      <td>335.0</td>\n",
       "      <td>47.857143</td>\n",
       "      <td>11.006386</td>\n",
       "      <td>15.899860</td>\n",
       "    </tr>\n",
       "  </tbody>\n",
       "</table>\n",
       "</div>"
      ],
      "text/plain": [
       "                  card_id purchase_date  new_purchase_amount date_diff  \\\n",
       "19095896  C_ID_00007093c1    2017-02-14           521.799988         0   \n",
       "19095775  C_ID_00007093c1    2017-02-14           186.000000         0   \n",
       "19095845  C_ID_00007093c1    2017-02-16           116.000000         2   \n",
       "19095866  C_ID_00007093c1    2017-02-20           276.399994         4   \n",
       "19095808  C_ID_00007093c1    2017-03-03           175.000000        11   \n",
       "\n",
       "          purch_amt_diff ref_diff  ref_days_diff  ref_weeks_diff  \\\n",
       "19095896        0.000000 352 days          352.0       50.285714   \n",
       "19095775     -335.799988 352 days          352.0       50.285714   \n",
       "19095845      -70.000000 350 days          350.0       50.000000   \n",
       "19095866      160.399994 346 days          346.0       49.428571   \n",
       "19095808     -101.399994 335 days          335.0       47.857143   \n",
       "\n",
       "          ref_month_diff  pamount_refmonth_ratio  \n",
       "19095896       11.564919               45.119207  \n",
       "19095775       11.564919               16.083121  \n",
       "19095845       11.499209               10.087650  \n",
       "19095866       11.367790               24.314312  \n",
       "19095808       11.006386               15.899860  "
      ]
     },
     "execution_count": 8,
     "metadata": {},
     "output_type": "execute_result"
    }
   ],
   "source": [
    "s_inp_df = hist_train_obj[['card_id','purchase_date','new_purchase_amount']]\n",
    "sorted_df = addPurchaseDateAndMonthDiffCols(s_inp_df)\n",
    "sorted_df.head()"
   ]
  },
  {
   "cell_type": "code",
   "execution_count": 10,
   "metadata": {},
   "outputs": [
    {
     "data": {
      "text/plain": [
       "(18030009, 10)"
      ]
     },
     "execution_count": 10,
     "metadata": {},
     "output_type": "execute_result"
    }
   ],
   "source": [
    "sorted_df.shape"
   ]
  },
  {
   "cell_type": "code",
   "execution_count": 11,
   "metadata": {},
   "outputs": [
    {
     "data": {
      "text/plain": [
       "(18030009, 32)"
      ]
     },
     "execution_count": 11,
     "metadata": {},
     "output_type": "execute_result"
    }
   ],
   "source": [
    "hist_train_obj.shape"
   ]
  },
  {
   "cell_type": "code",
   "execution_count": 13,
   "metadata": {},
   "outputs": [],
   "source": [
    "pickle.dump(sorted_df,open(\"4th_Iteration_features/duration_diff_features.pkl\",\"wb\"))\n",
    "pickle.dump(hist_train_obj,open(\"4th_Iteration_features/hist_train_obj.pkl\",\"wb\"))"
   ]
  },
  {
   "cell_type": "code",
   "execution_count": 14,
   "metadata": {},
   "outputs": [],
   "source": [
    "del(hist_train_obj)"
   ]
  },
  {
   "cell_type": "code",
   "execution_count": 16,
   "metadata": {},
   "outputs": [
    {
     "data": {
      "text/plain": [
       "14068"
      ]
     },
     "execution_count": 16,
     "metadata": {},
     "output_type": "execute_result"
    }
   ],
   "source": [
    "import gc\n",
    "gc.collect()"
   ]
  },
  {
   "cell_type": "code",
   "execution_count": 17,
   "metadata": {},
   "outputs": [],
   "source": [
    "def createObservationDate(s_inp_df,trans_type):\n",
    "    ## if new_transactions then substract month lag\n",
    "    ## if hiistorical transactions then keep it as it is\n",
    "    if trans_type == 'new':\n",
    "        temp_df = s_inp_df.groupby('card_id').agg({'month_lag' : 'min', 'purchase_date' : 'min'}).reset_index()\n",
    "        temp_df.columns = ['card_id', 'new_month_lag', 'new_purchase_date']\n",
    "        temp_df['new_purchase_date'] = pd.to_datetime(temp_df['new_purchase_date'])\n",
    "        temp_df['observation_date'] = temp_df.apply(lambda x: x['new_purchase_date']  - pd.DateOffset(months=x['new_month_lag']-1), axis=1)\n",
    "        return temp_df[['card_id','observation_date']]\n",
    "    elif trans_type == 'hist':\n",
    "        temp_df = s_inp_df.groupby('card_id').agg({'month_lag' : 'max', 'purchase_date' : 'max'}).reset_index()\n",
    "        temp_df.columns = ['card_id', 'new_month_lag', 'new_purchase_date']\n",
    "        temp_df['new_purchase_date'] = pd.to_datetime(temp_df['new_purchase_date'])\n",
    "        temp_df['observation_date'] = temp_df.apply(lambda x: x['new_purchase_date']  - pd.DateOffset(months=x['new_month_lag']), axis=1)\n",
    "        return temp_df[['card_id','observation_date']]"
   ]
  },
  {
   "cell_type": "code",
   "execution_count": 52,
   "metadata": {},
   "outputs": [],
   "source": [
    "def create4thIterationFeatures(trans_type,trans_df):\n",
    "    \n",
    "    print(\"Creating features in 1st round...\")\n",
    "    aggr_df = pd.DataFrame({'card_id':trans_df.card_id.unique()})\n",
    "    aggr_df['purchase_date_max'] = trans_df.groupby(['card_id'])['purchase_date'].apply(lambda x : x.max()) \n",
    "    aggr_df['purchase_date_min'] = trans_df.groupby(['card_id'])['purchase_date'].apply(lambda x : x.min())\n",
    "    aggr_df['transactions_count'] = trans_df.groupby(['card_id'])['purchase_date'].apply(lambda x : x.count())\n",
    "    aggr_df['transactions_count'] = trans_df.groupby(['card_id'])['purchase_date'].apply(lambda x : x.count())\n",
    "    aggr_df = pd.merge(aggr_df,createObservationDate(trans_df,trans_type),on=\"card_id\",how=\"left\")\n",
    "    print(\"Shape of dataframe : \",aggr_df.shape)\n",
    "    \n",
    "    print(\"Creating features in 2nd round...\")\n",
    "    aggregate_dict = {\n",
    "        'category_1' : ['mean'],\n",
    "        'installments' : ['sum','mean','max'],\n",
    "        'card_id' : ['count','size'],\n",
    "        'new_purchase_amount' : [('sum','sum'),\n",
    "                                ('perc_75',lambda x : np.percentile(x,q=75)),\n",
    "                                ('perc_25',lambda x : np.percentile(x,q=25)),\n",
    "                                ('mean','mean'),\n",
    "                                ('head_sum',lambda x : x.head().sum()),\n",
    "                                ('head_max',lambda x : x.head().max()),\n",
    "                                ('tail_sum',lambda x : x.tail().sum()),\n",
    "                                ('tail_max',lambda x : x.tail().max()),\n",
    "                                ('gmean',lambda x : gmean),\n",
    "                                ('hmean',lambda x : hmean)]\n",
    "    }\n",
    "\n",
    "    temp_df = trans_df.groupby(['card_id']).agg(aggregate_dict)\n",
    "    temp_df.columns = ['_'.join(col).strip() for col in temp_df.columns.values]\n",
    "    temp_df.reset_index(inplace=True)\n",
    "    aggr_df = pd.merge(aggr_df,temp_df,on='card_id',how='left')\n",
    "    print(\"Shape of dataframe : \",aggr_df.shape)\n",
    "    \n",
    "    print(\"Creating features in 3rd round...\")\n",
    "    cat_cols = ['category_1','category_2','category_3']\n",
    "    for col in cat_cols:\n",
    "        temp_df = eda_fe.generateAggrColumns(trans_df,col,'new_purchase_amount',['mean','sum'],col,True)\n",
    "        aggr_df = pd.merge(aggr_df,temp_df,how='left',on='card_id')\n",
    "    print(\"Shape of dataframe : \",aggr_df.shape)\n",
    "    \n",
    "    print(\"Creating features in 4th round...\")\n",
    "    temp_df = eda_fe.createNumericalAggr(trans_df,'card_id','new_purchase_amount')\n",
    "    aggr_df = pd.merge(aggr_df,temp_df,how='left',on='card_id')\n",
    "    aggr_df.columns = [trans_type + '_' + col for col in aggr_df.columns]\n",
    "    print(\"Shape of dataframe : \",aggr_df.shape)\n",
    "    \n",
    "    return aggr_df\n"
   ]
  },
  {
   "cell_type": "code",
   "execution_count": 22,
   "metadata": {},
   "outputs": [
    {
     "data": {
      "text/plain": [
       "10565"
      ]
     },
     "execution_count": 22,
     "metadata": {},
     "output_type": "execute_result"
    }
   ],
   "source": [
    "del(sorted_df)\n",
    "gc.collect()"
   ]
  },
  {
   "cell_type": "code",
   "execution_count": 23,
   "metadata": {},
   "outputs": [
    {
     "data": {
      "text/plain": [
       "(18030009, 30)"
      ]
     },
     "execution_count": 23,
     "metadata": {},
     "output_type": "execute_result"
    }
   ],
   "source": [
    "hist_train_preprocessed_obj = pickle.load(open(\"D:\\Elo Merchant Category Recommendation\\Train_Test_generated_features\\hist_train_preprocessed_obj.pkl\",\"rb\"))\n",
    "hist_train_preprocessed_obj[0].shape"
   ]
  },
  {
   "cell_type": "code",
   "execution_count": 12,
   "metadata": {},
   "outputs": [],
   "source": [
    "def labelEncodedFeatures(temp_df):\n",
    "    for col in temp_df.columns:\n",
    "        print(\"Column considered : \",col)\n",
    "        label_encoder = LabelEncoder()\n",
    "        temp_df[col] = label_encoder.fit_transform(temp_df[col].values)\n",
    "    return temp_df"
   ]
  },
  {
   "cell_type": "code",
   "execution_count": 53,
   "metadata": {},
   "outputs": [
    {
     "name": "stdout",
     "output_type": "stream",
     "text": [
      "Creating features in 1st round...\n",
      "Shape of dataframe :  (201917, 7)\n",
      "Creating features in 2nd round...\n",
      "Shape of dataframe :  (201917, 23)\n",
      "Creating features in 3rd round...\n"
     ]
    },
    {
     "name": "stderr",
     "output_type": "stream",
     "text": [
      "\r",
      "  0%|                                                                                            | 0/2 [00:00<?, ?it/s]"
     ]
    },
    {
     "name": "stdout",
     "output_type": "stream",
     "text": [
      "Category of Column :  0\n"
     ]
    },
    {
     "name": "stderr",
     "output_type": "stream",
     "text": [
      "\r",
      " 50%|██████████████████████████████████████████                                          | 1/2 [00:17<00:17, 17.20s/it]"
     ]
    },
    {
     "name": "stdout",
     "output_type": "stream",
     "text": [
      "Category of Column :  1\n"
     ]
    },
    {
     "name": "stderr",
     "output_type": "stream",
     "text": [
      "100%|████████████████████████████████████████████████████████████████████████████████████| 2/2 [00:19<00:00,  9.63s/it]"
     ]
    },
    {
     "name": "stdout",
     "output_type": "stream",
     "text": [
      "***********Merge_df**********\n",
      "(201917, 5)\n"
     ]
    },
    {
     "name": "stderr",
     "output_type": "stream",
     "text": [
      "\n",
      "  0%|                                                                                            | 0/5 [00:00<?, ?it/s]"
     ]
    },
    {
     "name": "stdout",
     "output_type": "stream",
     "text": [
      "Category of Column :  3.0\n"
     ]
    },
    {
     "name": "stderr",
     "output_type": "stream",
     "text": [
      "\r",
      " 20%|████████████████▊                                                                   | 1/5 [00:02<00:09,  2.27s/it]"
     ]
    },
    {
     "name": "stdout",
     "output_type": "stream",
     "text": [
      "Category of Column :  1.0\n"
     ]
    },
    {
     "name": "stderr",
     "output_type": "stream",
     "text": [
      "\r",
      " 40%|█████████████████████████████████▌                                                  | 2/5 [00:11<00:13,  4.48s/it]"
     ]
    },
    {
     "name": "stdout",
     "output_type": "stream",
     "text": [
      "***********Merge_df**********\n",
      "(195097, 5)\n",
      "Category of Column :  5.0\n"
     ]
    },
    {
     "name": "stderr",
     "output_type": "stream",
     "text": [
      "\r",
      " 60%|██████████████████████████████████████████████████▍                                 | 3/5 [00:14<00:07,  3.88s/it]"
     ]
    },
    {
     "name": "stdout",
     "output_type": "stream",
     "text": [
      "***********Merge_df**********\n",
      "(199139, 7)\n",
      "Category of Column :  2.0\n"
     ]
    },
    {
     "name": "stderr",
     "output_type": "stream",
     "text": [
      "\r",
      " 80%|███████████████████████████████████████████████████████████████████▏                | 4/5 [00:15<00:03,  3.00s/it]"
     ]
    },
    {
     "name": "stdout",
     "output_type": "stream",
     "text": [
      "***********Merge_df**********\n",
      "(200390, 9)\n",
      "Category of Column :  4.0\n"
     ]
    },
    {
     "name": "stderr",
     "output_type": "stream",
     "text": [
      "100%|████████████████████████████████████████████████████████████████████████████████████| 5/5 [00:17<00:00,  3.46s/it]"
     ]
    },
    {
     "name": "stdout",
     "output_type": "stream",
     "text": [
      "***********Merge_df**********\n",
      "(201917, 11)\n"
     ]
    },
    {
     "name": "stderr",
     "output_type": "stream",
     "text": [
      "\n",
      "  0%|                                                                                            | 0/3 [00:00<?, ?it/s]"
     ]
    },
    {
     "name": "stdout",
     "output_type": "stream",
     "text": [
      "Category of Column :  1\n"
     ]
    },
    {
     "name": "stderr",
     "output_type": "stream",
     "text": [
      "\r",
      " 33%|████████████████████████████                                                        | 1/3 [00:06<00:13,  6.73s/it]"
     ]
    },
    {
     "name": "stdout",
     "output_type": "stream",
     "text": [
      "Category of Column :  2\n"
     ]
    },
    {
     "name": "stderr",
     "output_type": "stream",
     "text": [
      "\r",
      " 67%|████████████████████████████████████████████████████████                            | 2/3 [00:08<00:05,  5.22s/it]"
     ]
    },
    {
     "name": "stdout",
     "output_type": "stream",
     "text": [
      "***********Merge_df**********\n",
      "(150897, 5)\n",
      "Category of Column :  0\n"
     ]
    },
    {
     "name": "stderr",
     "output_type": "stream",
     "text": [
      "100%|████████████████████████████████████████████████████████████████████████████████████| 3/3 [00:16<00:00,  5.62s/it]"
     ]
    },
    {
     "name": "stdout",
     "output_type": "stream",
     "text": [
      "***********Merge_df**********\n",
      "(201917, 7)\n"
     ]
    },
    {
     "name": "stderr",
     "output_type": "stream",
     "text": [
      "\n"
     ]
    },
    {
     "name": "stdout",
     "output_type": "stream",
     "text": [
      "Shape of dataframe :  (201917, 43)\n",
      "Creating features in 4th round...\n",
      "Shape of dataframe :  (201917, 48)\n"
     ]
    }
   ],
   "source": [
    "hist_aggr_feat = create4thIterationFeatures(\"hist\",hist_train_obj)"
   ]
  },
  {
   "cell_type": "code",
   "execution_count": 30,
   "metadata": {},
   "outputs": [],
   "source": [
    "## Do it for new transaction features\n",
    "## add these features\n",
    "## feed it into the system\n",
    "## See if there is any improvement"
   ]
  },
  {
   "cell_type": "code",
   "execution_count": 54,
   "metadata": {},
   "outputs": [],
   "source": [
    "pickle.dump(hist_aggr_feat,open(\"4th_Iteration_features/hist_aggr_feat.pkl\",\"wb\"))"
   ]
  },
  {
   "cell_type": "code",
   "execution_count": 55,
   "metadata": {},
   "outputs": [],
   "source": [
    "new_train_preprocessed_obj = pickle.load(open(\"Train_Test_generated_features/new_train_preprocessed_obj.pkl\",\"rb\"))\n",
    "new_train_obj = new_train_preprocessed_obj[0]"
   ]
  },
  {
   "cell_type": "code",
   "execution_count": 62,
   "metadata": {},
   "outputs": [],
   "source": [
    "new_train_obj.category_3.fillna('A',inplace=True)"
   ]
  },
  {
   "cell_type": "code",
   "execution_count": 63,
   "metadata": {},
   "outputs": [],
   "source": [
    "label_encoder = LabelEncoder()\n",
    "new_train_obj['category_3'] = label_encoder.fit_transform(new_train_obj['category_3'].values)"
   ]
  },
  {
   "cell_type": "code",
   "execution_count": 64,
   "metadata": {},
   "outputs": [
    {
     "name": "stdout",
     "output_type": "stream",
     "text": [
      "Creating features in 1st round...\n",
      "Shape of dataframe :  (179986, 7)\n",
      "Creating features in 2nd round...\n"
     ]
    },
    {
     "name": "stderr",
     "output_type": "stream",
     "text": [
      "c:\\users\\capiot\\appdata\\local\\programs\\python\\python36\\lib\\site-packages\\numpy\\lib\\function_base.py:3968: RuntimeWarning: invalid value encountered in multiply\n",
      "  x2 = take(ap, indices_above, axis=axis) * weights_above\n",
      " 50%|██████████████████████████████████████████                                          | 1/2 [00:00<00:00,  6.45it/s]"
     ]
    },
    {
     "name": "stdout",
     "output_type": "stream",
     "text": [
      "Shape of dataframe :  (179986, 23)\n",
      "Creating features in 3rd round...\n",
      "Category of Column :  1\n",
      "Category of Column :  0\n"
     ]
    },
    {
     "name": "stderr",
     "output_type": "stream",
     "text": [
      "100%|████████████████████████████████████████████████████████████████████████████████████| 2/2 [00:01<00:00,  1.10it/s]"
     ]
    },
    {
     "name": "stdout",
     "output_type": "stream",
     "text": [
      "***********Merge_df**********\n",
      "(179986, 5)\n"
     ]
    },
    {
     "name": "stderr",
     "output_type": "stream",
     "text": [
      "\n",
      "  0%|                                                                                            | 0/6 [00:00<?, ?it/s]"
     ]
    },
    {
     "name": "stdout",
     "output_type": "stream",
     "text": [
      "Category of Column :  nan\n",
      "Category of Column :  1.0\n"
     ]
    },
    {
     "name": "stderr",
     "output_type": "stream",
     "text": [
      "\r",
      " 33%|████████████████████████████                                                        | 2/6 [00:01<00:02,  1.96it/s]"
     ]
    },
    {
     "name": "stdout",
     "output_type": "stream",
     "text": [
      "***********Merge_df**********\n",
      "(120181, 5)\n",
      "Category of Column :  3.0\n"
     ]
    },
    {
     "name": "stderr",
     "output_type": "stream",
     "text": [
      "\r",
      " 50%|██████████████████████████████████████████                                          | 3/6 [00:01<00:01,  1.98it/s]"
     ]
    },
    {
     "name": "stdout",
     "output_type": "stream",
     "text": [
      "***********Merge_df**********\n",
      "(142708, 7)\n",
      "Category of Column :  2.0\n"
     ]
    },
    {
     "name": "stderr",
     "output_type": "stream",
     "text": [
      "\r",
      " 67%|████████████████████████████████████████████████████████                            | 4/6 [00:01<00:00,  2.28it/s]"
     ]
    },
    {
     "name": "stdout",
     "output_type": "stream",
     "text": [
      "***********Merge_df**********\n",
      "(148262, 9)\n",
      "Category of Column :  4.0\n"
     ]
    },
    {
     "name": "stderr",
     "output_type": "stream",
     "text": [
      "\r",
      " 83%|██████████████████████████████████████████████████████████████████████              | 5/6 [00:02<00:00,  2.33it/s]"
     ]
    },
    {
     "name": "stdout",
     "output_type": "stream",
     "text": [
      "***********Merge_df**********\n",
      "(157889, 11)\n",
      "Category of Column :  5.0\n"
     ]
    },
    {
     "name": "stderr",
     "output_type": "stream",
     "text": [
      "100%|████████████████████████████████████████████████████████████████████████████████████| 6/6 [00:02<00:00,  2.22it/s]"
     ]
    },
    {
     "name": "stdout",
     "output_type": "stream",
     "text": [
      "***********Merge_df**********\n",
      "(174354, 13)\n"
     ]
    },
    {
     "name": "stderr",
     "output_type": "stream",
     "text": [
      "\n",
      "  0%|                                                                                            | 0/3 [00:00<?, ?it/s]"
     ]
    },
    {
     "name": "stdout",
     "output_type": "stream",
     "text": [
      "Category of Column :  1\n"
     ]
    },
    {
     "name": "stderr",
     "output_type": "stream",
     "text": [
      "\r",
      " 33%|████████████████████████████                                                        | 1/3 [00:00<00:01,  1.49it/s]"
     ]
    },
    {
     "name": "stdout",
     "output_type": "stream",
     "text": [
      "Category of Column :  0\n"
     ]
    },
    {
     "name": "stderr",
     "output_type": "stream",
     "text": [
      "\r",
      " 67%|████████████████████████████████████████████████████████                            | 2/3 [00:01<00:00,  1.28it/s]"
     ]
    },
    {
     "name": "stdout",
     "output_type": "stream",
     "text": [
      "***********Merge_df**********\n",
      "(174460, 5)\n",
      "Category of Column :  2\n"
     ]
    },
    {
     "name": "stderr",
     "output_type": "stream",
     "text": [
      "100%|████████████████████████████████████████████████████████████████████████████████████| 3/3 [00:02<00:00,  1.34it/s]"
     ]
    },
    {
     "name": "stdout",
     "output_type": "stream",
     "text": [
      "***********Merge_df**********\n",
      "(179986, 7)\n"
     ]
    },
    {
     "name": "stderr",
     "output_type": "stream",
     "text": [
      "\n"
     ]
    },
    {
     "name": "stdout",
     "output_type": "stream",
     "text": [
      "Shape of dataframe :  (179986, 45)\n",
      "Creating features in 4th round...\n",
      "Shape of dataframe :  (179986, 50)\n"
     ]
    }
   ],
   "source": [
    "new_aggr_feat = create4thIterationFeatures(\"new\",new_train_obj)"
   ]
  },
  {
   "cell_type": "code",
   "execution_count": 65,
   "metadata": {},
   "outputs": [],
   "source": [
    "pickle.dump(new_aggr_feat,open(\"4th_Iteration_features/new_aggr_feat.pkl\",\"wb\"))"
   ]
  },
  {
   "cell_type": "code",
   "execution_count": 7,
   "metadata": {},
   "outputs": [],
   "source": [
    "hist_aggr_feat = pickle.load(open(\"4th_Iteration_features/hist_aggr_feat.pkl\",\"rb\"))\n",
    "new_aggr_feat = pickle.load(open(\"4th_Iteration_features/new_aggr_feat.pkl\",\"rb\")) "
   ]
  },
  {
   "cell_type": "code",
   "execution_count": 8,
   "metadata": {},
   "outputs": [
    {
     "data": {
      "text/plain": [
       "Index(['hist_card_id', 'hist_purchase_date_max', 'hist_purchase_date_min',\n",
       "       'hist_transactions_count', 'hist_new_month_lag',\n",
       "       'hist_new_purchase_date', 'hist_observation_date',\n",
       "       'hist_category_1_mean', 'hist_installments_sum',\n",
       "       'hist_installments_mean', 'hist_installments_max', 'hist_card_id_count',\n",
       "       'hist_card_id_size', 'hist_new_purchase_amount_sum_x',\n",
       "       'hist_new_purchase_amount_perc_75', 'hist_new_purchase_amount_perc_25',\n",
       "       'hist_new_purchase_amount_mean', 'hist_new_purchase_amount_head_sum',\n",
       "       'hist_new_purchase_amount_head_max',\n",
       "       'hist_new_purchase_amount_tail_sum',\n",
       "       'hist_new_purchase_amount_tail_max', 'hist_new_purchase_amount_gmean',\n",
       "       'hist_new_purchase_amount_hmean', 'hist_category_1_0_mean',\n",
       "       'hist_category_1_0_sum', 'hist_category_1_1_mean',\n",
       "       'hist_category_1_1_sum', 'hist_category_2_3.0_mean',\n",
       "       'hist_category_2_3.0_sum', 'hist_category_2_1.0_mean',\n",
       "       'hist_category_2_1.0_sum', 'hist_category_2_5.0_mean',\n",
       "       'hist_category_2_5.0_sum', 'hist_category_2_2.0_mean',\n",
       "       'hist_category_2_2.0_sum', 'hist_category_2_4.0_mean',\n",
       "       'hist_category_2_4.0_sum', 'hist_category_3_1_mean',\n",
       "       'hist_category_3_1_sum', 'hist_category_3_2_mean',\n",
       "       'hist_category_3_2_sum', 'hist_category_3_0_mean',\n",
       "       'hist_category_3_0_sum', 'hist_new_purchase_amount_min',\n",
       "       'hist_new_purchase_amount_max', 'hist_new_purchase_amount_median',\n",
       "       'hist_new_purchase_amount_sum_y', 'hist_new_purchase_amount_std'],\n",
       "      dtype='object')"
      ]
     },
     "execution_count": 8,
     "metadata": {},
     "output_type": "execute_result"
    }
   ],
   "source": [
    "hist_aggr_feat.columns"
   ]
  },
  {
   "cell_type": "code",
   "execution_count": 9,
   "metadata": {},
   "outputs": [
    {
     "data": {
      "text/plain": [
       "Index(['new_card_id', 'new_purchase_date_max', 'new_purchase_date_min',\n",
       "       'new_transactions_count', 'new_new_month_lag', 'new_new_purchase_date',\n",
       "       'new_observation_date', 'new_category_1_mean', 'new_installments_sum',\n",
       "       'new_installments_mean', 'new_installments_max', 'new_card_id_count',\n",
       "       'new_card_id_size', 'new_new_purchase_amount_sum_x',\n",
       "       'new_new_purchase_amount_perc_75', 'new_new_purchase_amount_perc_25',\n",
       "       'new_new_purchase_amount_mean', 'new_new_purchase_amount_head_sum',\n",
       "       'new_new_purchase_amount_head_max', 'new_new_purchase_amount_tail_sum',\n",
       "       'new_new_purchase_amount_tail_max', 'new_new_purchase_amount_gmean',\n",
       "       'new_new_purchase_amount_hmean', 'new_category_1_1_mean',\n",
       "       'new_category_1_1_sum', 'new_category_1_0_mean', 'new_category_1_0_sum',\n",
       "       'new_category_2_nan_mean', 'new_category_2_nan_sum',\n",
       "       'new_category_2_1.0_mean', 'new_category_2_1.0_sum',\n",
       "       'new_category_2_3.0_mean', 'new_category_2_3.0_sum',\n",
       "       'new_category_2_2.0_mean', 'new_category_2_2.0_sum',\n",
       "       'new_category_2_4.0_mean', 'new_category_2_4.0_sum',\n",
       "       'new_category_2_5.0_mean', 'new_category_2_5.0_sum',\n",
       "       'new_category_3_1_mean', 'new_category_3_1_sum',\n",
       "       'new_category_3_0_mean', 'new_category_3_0_sum',\n",
       "       'new_category_3_2_mean', 'new_category_3_2_sum',\n",
       "       'new_new_purchase_amount_min', 'new_new_purchase_amount_max',\n",
       "       'new_new_purchase_amount_median', 'new_new_purchase_amount_sum_y',\n",
       "       'new_new_purchase_amount_std'],\n",
       "      dtype='object')"
      ]
     },
     "execution_count": 9,
     "metadata": {},
     "output_type": "execute_result"
    }
   ],
   "source": [
    "new_aggr_feat.columns"
   ]
  },
  {
   "cell_type": "code",
   "execution_count": 10,
   "metadata": {},
   "outputs": [],
   "source": [
    "hist_datetime_feat = hist_aggr_feat.select_dtypes('datetime')\n",
    "new_datetime_feat = new_aggr_feat.select_dtypes('datetime')"
   ]
  },
  {
   "cell_type": "code",
   "execution_count": 13,
   "metadata": {},
   "outputs": [],
   "source": [
    "hist_aggr_feat = hist_aggr_feat.drop(hist_datetime_feat,axis=1)\n",
    "new_aggr_feat = new_aggr_feat.drop(new_datetime_feat,axis=1)"
   ]
  },
  {
   "cell_type": "code",
   "execution_count": 37,
   "metadata": {},
   "outputs": [],
   "source": [
    "drop_cols = hist_aggr_feat.select_dtypes('O').columns"
   ]
  },
  {
   "cell_type": "code",
   "execution_count": 38,
   "metadata": {},
   "outputs": [],
   "source": [
    "hist_features = hist_aggr_feat.drop(['hist_card_id'] + list(drop_cols),axis=1)"
   ]
  },
  {
   "cell_type": "code",
   "execution_count": 16,
   "metadata": {},
   "outputs": [
    {
     "name": "stdout",
     "output_type": "stream",
     "text": [
      "Number of hist trans features :  44\n",
      "Number of new trans features :  46\n"
     ]
    }
   ],
   "source": [
    "print(\"Number of hist trans features : \",hist_aggr_feat.shape[1])\n",
    "print(\"Number of new trans features : \",new_aggr_feat.shape[1]) "
   ]
  },
  {
   "cell_type": "code",
   "execution_count": 53,
   "metadata": {},
   "outputs": [
    {
     "name": "stdout",
     "output_type": "stream",
     "text": [
      "Creating feature interaction for :  hist_transactions_count\n",
      "Creating feature interaction for :  hist_new_month_lag\n",
      "Creating feature interaction for :  hist_category_1_mean\n",
      "Creating feature interaction for :  hist_installments_sum\n",
      "Creating feature interaction for :  hist_installments_mean\n",
      "Creating feature interaction for :  hist_installments_max\n",
      "Creating feature interaction for :  hist_card_id_count\n",
      "Creating feature interaction for :  hist_card_id_size\n",
      "Creating feature interaction for :  hist_new_purchase_amount_sum_x\n",
      "Creating feature interaction for :  hist_new_purchase_amount_perc_75\n",
      "Creating feature interaction for :  hist_new_purchase_amount_perc_25\n",
      "Creating feature interaction for :  hist_new_purchase_amount_mean\n",
      "Creating feature interaction for :  hist_new_purchase_amount_head_sum\n",
      "Creating feature interaction for :  hist_new_purchase_amount_head_max\n",
      "Creating feature interaction for :  hist_new_purchase_amount_tail_sum\n",
      "Creating feature interaction for :  hist_new_purchase_amount_tail_max\n",
      "Creating feature interaction for :  hist_category_1_0_mean\n",
      "Creating feature interaction for :  hist_category_1_0_sum\n",
      "Creating feature interaction for :  hist_category_1_1_mean\n",
      "Creating feature interaction for :  hist_category_1_1_sum\n",
      "Creating feature interaction for :  hist_category_2_3.0_mean\n",
      "Creating feature interaction for :  hist_category_2_3.0_sum\n",
      "Creating feature interaction for :  hist_category_2_1.0_mean\n",
      "Creating feature interaction for :  hist_category_2_1.0_sum\n",
      "Creating feature interaction for :  hist_category_2_5.0_mean\n",
      "Creating feature interaction for :  hist_category_2_5.0_sum\n",
      "Creating feature interaction for :  hist_category_2_2.0_mean\n",
      "Creating feature interaction for :  hist_category_2_2.0_sum\n",
      "Creating feature interaction for :  hist_category_2_4.0_mean\n",
      "Creating feature interaction for :  hist_category_2_4.0_sum\n",
      "Creating feature interaction for :  hist_category_3_1_mean\n",
      "Creating feature interaction for :  hist_category_3_1_sum\n",
      "Creating feature interaction for :  hist_category_3_2_mean\n",
      "Creating feature interaction for :  hist_category_3_2_sum\n",
      "Creating feature interaction for :  hist_category_3_0_mean\n",
      "Creating feature interaction for :  hist_category_3_0_sum\n",
      "Creating feature interaction for :  hist_new_purchase_amount_min\n",
      "Creating feature interaction for :  hist_new_purchase_amount_max\n",
      "Creating feature interaction for :  hist_new_purchase_amount_median\n",
      "Creating feature interaction for :  hist_new_purchase_amount_sum_y\n",
      "Creating feature interaction for :  hist_new_purchase_amount_std\n"
     ]
    }
   ],
   "source": [
    "## Some feature interaction between historic and new transactions\n",
    "#del(total_aggr_df)\n",
    "rat_prod_aggr_df = pd.DataFrame({'card_id' : hist_aggr_feat['hist_card_id']})\n",
    "\n",
    "for col in hist_features:\n",
    "    print(\"Creating feature interaction for : \",col)\n",
    "    col_name = list(col.split('_'))\n",
    "    col_name[0] = 'new'\n",
    "    new_col_name = '_'.join(col_name)\n",
    "    #col_name[0] = 'total'\n",
    "    #total_col_name = '_'.join(col_name)\n",
    "    col_name[0] = 'ratio'\n",
    "    ratio_col_name = '_'.join(col_name)\n",
    "    col_name[0] = 'prod'\n",
    "    prod_col_name = '_'.join(col_name)\n",
    "    \n",
    "    #total_aggr_df[total_col_name] = hist_aggr_feat[col] + new_aggr_feat[new_col_name]\n",
    "    rat_prod_aggr_df[ratio_col_name] = new_aggr_feat[new_col_name]/hist_aggr_feat[col]\n",
    "    rat_prod_aggr_df[prod_col_name] = new_aggr_feat[new_col_name]*hist_aggr_feat[col]"
   ]
  },
  {
   "cell_type": "code",
   "execution_count": 50,
   "metadata": {},
   "outputs": [
    {
     "data": {
      "text/html": [
       "<div>\n",
       "<style scoped>\n",
       "    .dataframe tbody tr th:only-of-type {\n",
       "        vertical-align: middle;\n",
       "    }\n",
       "\n",
       "    .dataframe tbody tr th {\n",
       "        vertical-align: top;\n",
       "    }\n",
       "\n",
       "    .dataframe thead th {\n",
       "        text-align: right;\n",
       "    }\n",
       "</style>\n",
       "<table border=\"1\" class=\"dataframe\">\n",
       "  <thead>\n",
       "    <tr style=\"text-align: right;\">\n",
       "      <th></th>\n",
       "      <th>card_id</th>\n",
       "      <th>ratio_transactions_count</th>\n",
       "      <th>prod_transactions_count</th>\n",
       "      <th>ratio_new_month_lag</th>\n",
       "      <th>prod_new_month_lag</th>\n",
       "      <th>ratio_category_1_mean</th>\n",
       "      <th>prod_category_1_mean</th>\n",
       "      <th>ratio_installments_sum</th>\n",
       "      <th>prod_installments_sum</th>\n",
       "      <th>ratio_installments_mean</th>\n",
       "      <th>...</th>\n",
       "      <th>ratio_new_purchase_amount_min</th>\n",
       "      <th>prod_new_purchase_amount_min</th>\n",
       "      <th>ratio_new_purchase_amount_max</th>\n",
       "      <th>prod_new_purchase_amount_max</th>\n",
       "      <th>ratio_new_purchase_amount_median</th>\n",
       "      <th>prod_new_purchase_amount_median</th>\n",
       "      <th>ratio_new_purchase_amount_sum_y</th>\n",
       "      <th>prod_new_purchase_amount_sum_y</th>\n",
       "      <th>ratio_new_purchase_amount_std</th>\n",
       "      <th>prod_new_purchase_amount_std</th>\n",
       "    </tr>\n",
       "  </thead>\n",
       "  <tbody>\n",
       "    <tr>\n",
       "      <th>0</th>\n",
       "      <td>C_ID_5037ff576e</td>\n",
       "      <td>NaN</td>\n",
       "      <td>NaN</td>\n",
       "      <td>inf</td>\n",
       "      <td>0.0</td>\n",
       "      <td>inf</td>\n",
       "      <td>0.0</td>\n",
       "      <td>0.290323</td>\n",
       "      <td>4464.0</td>\n",
       "      <td>1.557185</td>\n",
       "      <td>...</td>\n",
       "      <td>1.392228</td>\n",
       "      <td>572.59314</td>\n",
       "      <td>inf</td>\n",
       "      <td>inf</td>\n",
       "      <td>1.334550</td>\n",
       "      <td>7032.155762</td>\n",
       "      <td>inf</td>\n",
       "      <td>inf</td>\n",
       "      <td>NaN</td>\n",
       "      <td>NaN</td>\n",
       "    </tr>\n",
       "    <tr>\n",
       "      <th>1</th>\n",
       "      <td>C_ID_0e171c1b48</td>\n",
       "      <td>NaN</td>\n",
       "      <td>NaN</td>\n",
       "      <td>inf</td>\n",
       "      <td>0.0</td>\n",
       "      <td>NaN</td>\n",
       "      <td>0.0</td>\n",
       "      <td>3.000000</td>\n",
       "      <td>27.0</td>\n",
       "      <td>418.500000</td>\n",
       "      <td>...</td>\n",
       "      <td>189.750000</td>\n",
       "      <td>189.75000</td>\n",
       "      <td>1.003333</td>\n",
       "      <td>90300.0</td>\n",
       "      <td>19.629999</td>\n",
       "      <td>3067.187500</td>\n",
       "      <td>0.066808</td>\n",
       "      <td>3604892.5</td>\n",
       "      <td>1.785139</td>\n",
       "      <td>3468.481445</td>\n",
       "    </tr>\n",
       "    <tr>\n",
       "      <th>2</th>\n",
       "      <td>C_ID_fc8e41b9cf</td>\n",
       "      <td>NaN</td>\n",
       "      <td>NaN</td>\n",
       "      <td>inf</td>\n",
       "      <td>0.0</td>\n",
       "      <td>0.0</td>\n",
       "      <td>0.0</td>\n",
       "      <td>0.000000</td>\n",
       "      <td>0.0</td>\n",
       "      <td>0.000000</td>\n",
       "      <td>...</td>\n",
       "      <td>1.900000</td>\n",
       "      <td>190.00000</td>\n",
       "      <td>inf</td>\n",
       "      <td>inf</td>\n",
       "      <td>2.382911</td>\n",
       "      <td>14871.750000</td>\n",
       "      <td>inf</td>\n",
       "      <td>inf</td>\n",
       "      <td>NaN</td>\n",
       "      <td>NaN</td>\n",
       "    </tr>\n",
       "    <tr>\n",
       "      <th>3</th>\n",
       "      <td>C_ID_b271e7ab60</td>\n",
       "      <td>NaN</td>\n",
       "      <td>NaN</td>\n",
       "      <td>inf</td>\n",
       "      <td>0.0</td>\n",
       "      <td>NaN</td>\n",
       "      <td>0.0</td>\n",
       "      <td>0.000000</td>\n",
       "      <td>0.0</td>\n",
       "      <td>0.000000</td>\n",
       "      <td>...</td>\n",
       "      <td>3.779070</td>\n",
       "      <td>69.87500</td>\n",
       "      <td>inf</td>\n",
       "      <td>inf</td>\n",
       "      <td>1.817271</td>\n",
       "      <td>5475.277344</td>\n",
       "      <td>inf</td>\n",
       "      <td>inf</td>\n",
       "      <td>NaN</td>\n",
       "      <td>NaN</td>\n",
       "    </tr>\n",
       "    <tr>\n",
       "      <th>4</th>\n",
       "      <td>C_ID_4bed29d75c</td>\n",
       "      <td>NaN</td>\n",
       "      <td>NaN</td>\n",
       "      <td>inf</td>\n",
       "      <td>0.0</td>\n",
       "      <td>0.0</td>\n",
       "      <td>0.0</td>\n",
       "      <td>0.000000</td>\n",
       "      <td>0.0</td>\n",
       "      <td>0.000000</td>\n",
       "      <td>...</td>\n",
       "      <td>3.250000</td>\n",
       "      <td>3.25000</td>\n",
       "      <td>0.378598</td>\n",
       "      <td>164917.5</td>\n",
       "      <td>4.364549</td>\n",
       "      <td>975.487488</td>\n",
       "      <td>0.388529</td>\n",
       "      <td>5015884.0</td>\n",
       "      <td>0.787510</td>\n",
       "      <td>7987.800293</td>\n",
       "    </tr>\n",
       "  </tbody>\n",
       "</table>\n",
       "<p>5 rows × 83 columns</p>\n",
       "</div>"
      ],
      "text/plain": [
       "           card_id  ratio_transactions_count  prod_transactions_count  \\\n",
       "0  C_ID_5037ff576e                       NaN                      NaN   \n",
       "1  C_ID_0e171c1b48                       NaN                      NaN   \n",
       "2  C_ID_fc8e41b9cf                       NaN                      NaN   \n",
       "3  C_ID_b271e7ab60                       NaN                      NaN   \n",
       "4  C_ID_4bed29d75c                       NaN                      NaN   \n",
       "\n",
       "   ratio_new_month_lag  prod_new_month_lag  ratio_category_1_mean  \\\n",
       "0                  inf                 0.0                    inf   \n",
       "1                  inf                 0.0                    NaN   \n",
       "2                  inf                 0.0                    0.0   \n",
       "3                  inf                 0.0                    NaN   \n",
       "4                  inf                 0.0                    0.0   \n",
       "\n",
       "   prod_category_1_mean  ratio_installments_sum  prod_installments_sum  \\\n",
       "0                   0.0                0.290323                 4464.0   \n",
       "1                   0.0                3.000000                   27.0   \n",
       "2                   0.0                0.000000                    0.0   \n",
       "3                   0.0                0.000000                    0.0   \n",
       "4                   0.0                0.000000                    0.0   \n",
       "\n",
       "   ratio_installments_mean  ...  ratio_new_purchase_amount_min  \\\n",
       "0                 1.557185  ...                       1.392228   \n",
       "1               418.500000  ...                     189.750000   \n",
       "2                 0.000000  ...                       1.900000   \n",
       "3                 0.000000  ...                       3.779070   \n",
       "4                 0.000000  ...                       3.250000   \n",
       "\n",
       "   prod_new_purchase_amount_min  ratio_new_purchase_amount_max  \\\n",
       "0                     572.59314                            inf   \n",
       "1                     189.75000                       1.003333   \n",
       "2                     190.00000                            inf   \n",
       "3                      69.87500                            inf   \n",
       "4                       3.25000                       0.378598   \n",
       "\n",
       "   prod_new_purchase_amount_max  ratio_new_purchase_amount_median  \\\n",
       "0                           inf                          1.334550   \n",
       "1                       90300.0                         19.629999   \n",
       "2                           inf                          2.382911   \n",
       "3                           inf                          1.817271   \n",
       "4                      164917.5                          4.364549   \n",
       "\n",
       "   prod_new_purchase_amount_median  ratio_new_purchase_amount_sum_y  \\\n",
       "0                      7032.155762                              inf   \n",
       "1                      3067.187500                         0.066808   \n",
       "2                     14871.750000                              inf   \n",
       "3                      5475.277344                              inf   \n",
       "4                       975.487488                         0.388529   \n",
       "\n",
       "   prod_new_purchase_amount_sum_y  ratio_new_purchase_amount_std  \\\n",
       "0                             inf                            NaN   \n",
       "1                       3604892.5                       1.785139   \n",
       "2                             inf                            NaN   \n",
       "3                             inf                            NaN   \n",
       "4                       5015884.0                       0.787510   \n",
       "\n",
       "   prod_new_purchase_amount_std  \n",
       "0                           NaN  \n",
       "1                   3468.481445  \n",
       "2                           NaN  \n",
       "3                           NaN  \n",
       "4                   7987.800293  \n",
       "\n",
       "[5 rows x 83 columns]"
      ]
     },
     "execution_count": 50,
     "metadata": {},
     "output_type": "execute_result"
    }
   ],
   "source": [
    "total_aggr_df.head()"
   ]
  },
  {
   "cell_type": "code",
   "execution_count": 47,
   "metadata": {},
   "outputs": [],
   "source": [
    "pickle.dump(total_aggr_df,open(\"4th_Iteration_features/total_feat.pkl\",\"wb\"))"
   ]
  },
  {
   "cell_type": "code",
   "execution_count": 48,
   "metadata": {},
   "outputs": [
    {
     "data": {
      "text/plain": [
       "(201917, 42)"
      ]
     },
     "execution_count": 48,
     "metadata": {},
     "output_type": "execute_result"
    }
   ],
   "source": [
    "total_aggr_df.shape"
   ]
  },
  {
   "cell_type": "code",
   "execution_count": 54,
   "metadata": {},
   "outputs": [],
   "source": [
    "pickle.dump(rat_prod_aggr_df,open(\"4th_Iteration_features/rat_prod_aggr_feat.pkl\",\"wb\"))"
   ]
  },
  {
   "cell_type": "markdown",
   "metadata": {},
   "source": [
    "## Working on creating remaining features"
   ]
  },
  {
   "cell_type": "code",
   "execution_count": 3,
   "metadata": {},
   "outputs": [
    {
     "data": {
      "text/html": [
       "<div>\n",
       "<style scoped>\n",
       "    .dataframe tbody tr th:only-of-type {\n",
       "        vertical-align: middle;\n",
       "    }\n",
       "\n",
       "    .dataframe tbody tr th {\n",
       "        vertical-align: top;\n",
       "    }\n",
       "\n",
       "    .dataframe thead th {\n",
       "        text-align: right;\n",
       "    }\n",
       "</style>\n",
       "<table border=\"1\" class=\"dataframe\">\n",
       "  <thead>\n",
       "    <tr style=\"text-align: right;\">\n",
       "      <th></th>\n",
       "      <th>card_id</th>\n",
       "      <th>merchant_id</th>\n",
       "      <th>merchant_group_id</th>\n",
       "      <th>merchant_category_id</th>\n",
       "      <th>subsector_id</th>\n",
       "      <th>numerical_1</th>\n",
       "      <th>numerical_2</th>\n",
       "      <th>category_1</th>\n",
       "      <th>most_recent_sales_range</th>\n",
       "      <th>most_recent_purchases_range</th>\n",
       "      <th>...</th>\n",
       "      <th>avg_sales_lag6</th>\n",
       "      <th>avg_purchases_lag6</th>\n",
       "      <th>active_months_lag6</th>\n",
       "      <th>avg_sales_lag12</th>\n",
       "      <th>avg_purchases_lag12</th>\n",
       "      <th>active_months_lag12</th>\n",
       "      <th>category_4</th>\n",
       "      <th>city_id</th>\n",
       "      <th>state_id</th>\n",
       "      <th>category_2</th>\n",
       "    </tr>\n",
       "  </thead>\n",
       "  <tbody>\n",
       "    <tr>\n",
       "      <th>0</th>\n",
       "      <td>C_ID_5037ff576e</td>\n",
       "      <td>M_ID_b61c7d1be0</td>\n",
       "      <td>91632.0</td>\n",
       "      <td>278.0</td>\n",
       "      <td>37.0</td>\n",
       "      <td>-0.057465</td>\n",
       "      <td>-0.057465</td>\n",
       "      <td>N</td>\n",
       "      <td>D</td>\n",
       "      <td>D</td>\n",
       "      <td>...</td>\n",
       "      <td>0.88</td>\n",
       "      <td>0.934748</td>\n",
       "      <td>6.0</td>\n",
       "      <td>0.89</td>\n",
       "      <td>0.919680</td>\n",
       "      <td>12.0</td>\n",
       "      <td>N</td>\n",
       "      <td>-1.0</td>\n",
       "      <td>11.0</td>\n",
       "      <td>3.0</td>\n",
       "    </tr>\n",
       "    <tr>\n",
       "      <th>1</th>\n",
       "      <td>C_ID_5037ff576e</td>\n",
       "      <td>M_ID_fe69229f24</td>\n",
       "      <td>56893.0</td>\n",
       "      <td>307.0</td>\n",
       "      <td>19.0</td>\n",
       "      <td>0.011932</td>\n",
       "      <td>0.011932</td>\n",
       "      <td>N</td>\n",
       "      <td>B</td>\n",
       "      <td>C</td>\n",
       "      <td>...</td>\n",
       "      <td>0.81</td>\n",
       "      <td>0.951783</td>\n",
       "      <td>6.0</td>\n",
       "      <td>0.80</td>\n",
       "      <td>0.947394</td>\n",
       "      <td>12.0</td>\n",
       "      <td>N</td>\n",
       "      <td>-1.0</td>\n",
       "      <td>15.0</td>\n",
       "      <td>1.0</td>\n",
       "    </tr>\n",
       "    <tr>\n",
       "      <th>2</th>\n",
       "      <td>C_ID_5037ff576e</td>\n",
       "      <td>M_ID_efc106141c</td>\n",
       "      <td>21026.0</td>\n",
       "      <td>705.0</td>\n",
       "      <td>33.0</td>\n",
       "      <td>-0.057465</td>\n",
       "      <td>-0.057465</td>\n",
       "      <td>N</td>\n",
       "      <td>D</td>\n",
       "      <td>D</td>\n",
       "      <td>...</td>\n",
       "      <td>1.06</td>\n",
       "      <td>0.998241</td>\n",
       "      <td>6.0</td>\n",
       "      <td>1.10</td>\n",
       "      <td>1.021108</td>\n",
       "      <td>12.0</td>\n",
       "      <td>N</td>\n",
       "      <td>-1.0</td>\n",
       "      <td>15.0</td>\n",
       "      <td>1.0</td>\n",
       "    </tr>\n",
       "    <tr>\n",
       "      <th>3</th>\n",
       "      <td>C_ID_5037ff576e</td>\n",
       "      <td>M_ID_708022307c</td>\n",
       "      <td>16621.0</td>\n",
       "      <td>307.0</td>\n",
       "      <td>19.0</td>\n",
       "      <td>0.120972</td>\n",
       "      <td>-0.057465</td>\n",
       "      <td>N</td>\n",
       "      <td>A</td>\n",
       "      <td>B</td>\n",
       "      <td>...</td>\n",
       "      <td>0.84</td>\n",
       "      <td>1.029186</td>\n",
       "      <td>6.0</td>\n",
       "      <td>0.80</td>\n",
       "      <td>1.014457</td>\n",
       "      <td>12.0</td>\n",
       "      <td>N</td>\n",
       "      <td>-1.0</td>\n",
       "      <td>16.0</td>\n",
       "      <td>1.0</td>\n",
       "    </tr>\n",
       "    <tr>\n",
       "      <th>4</th>\n",
       "      <td>C_ID_5037ff576e</td>\n",
       "      <td>M_ID_393b4b8cec</td>\n",
       "      <td>35.0</td>\n",
       "      <td>705.0</td>\n",
       "      <td>33.0</td>\n",
       "      <td>3.689453</td>\n",
       "      <td>3.630859</td>\n",
       "      <td>N</td>\n",
       "      <td>B</td>\n",
       "      <td>B</td>\n",
       "      <td>...</td>\n",
       "      <td>1.01</td>\n",
       "      <td>1.048611</td>\n",
       "      <td>6.0</td>\n",
       "      <td>1.02</td>\n",
       "      <td>1.026715</td>\n",
       "      <td>12.0</td>\n",
       "      <td>N</td>\n",
       "      <td>-1.0</td>\n",
       "      <td>17.0</td>\n",
       "      <td>3.0</td>\n",
       "    </tr>\n",
       "  </tbody>\n",
       "</table>\n",
       "<p>5 rows × 23 columns</p>\n",
       "</div>"
      ],
      "text/plain": [
       "           card_id      merchant_id  merchant_group_id  merchant_category_id  \\\n",
       "0  C_ID_5037ff576e  M_ID_b61c7d1be0            91632.0                 278.0   \n",
       "1  C_ID_5037ff576e  M_ID_fe69229f24            56893.0                 307.0   \n",
       "2  C_ID_5037ff576e  M_ID_efc106141c            21026.0                 705.0   \n",
       "3  C_ID_5037ff576e  M_ID_708022307c            16621.0                 307.0   \n",
       "4  C_ID_5037ff576e  M_ID_393b4b8cec               35.0                 705.0   \n",
       "\n",
       "   subsector_id  numerical_1  numerical_2 category_1 most_recent_sales_range  \\\n",
       "0          37.0    -0.057465    -0.057465          N                       D   \n",
       "1          19.0     0.011932     0.011932          N                       B   \n",
       "2          33.0    -0.057465    -0.057465          N                       D   \n",
       "3          19.0     0.120972    -0.057465          N                       A   \n",
       "4          33.0     3.689453     3.630859          N                       B   \n",
       "\n",
       "  most_recent_purchases_range  ...  avg_sales_lag6  avg_purchases_lag6  \\\n",
       "0                           D  ...            0.88            0.934748   \n",
       "1                           C  ...            0.81            0.951783   \n",
       "2                           D  ...            1.06            0.998241   \n",
       "3                           B  ...            0.84            1.029186   \n",
       "4                           B  ...            1.01            1.048611   \n",
       "\n",
       "   active_months_lag6  avg_sales_lag12  avg_purchases_lag12  \\\n",
       "0                 6.0             0.89             0.919680   \n",
       "1                 6.0             0.80             0.947394   \n",
       "2                 6.0             1.10             1.021108   \n",
       "3                 6.0             0.80             1.014457   \n",
       "4                 6.0             1.02             1.026715   \n",
       "\n",
       "   active_months_lag12  category_4  city_id  state_id category_2  \n",
       "0                 12.0           N     -1.0      11.0        3.0  \n",
       "1                 12.0           N     -1.0      15.0        1.0  \n",
       "2                 12.0           N     -1.0      15.0        1.0  \n",
       "3                 12.0           N     -1.0      16.0        1.0  \n",
       "4                 12.0           N     -1.0      17.0        3.0  \n",
       "\n",
       "[5 rows x 23 columns]"
      ]
     },
     "execution_count": 3,
     "metadata": {},
     "output_type": "execute_result"
    }
   ],
   "source": [
    "temp_merch_df = hist_train_preprocessed_obj[1]\n",
    "temp_merch_df.head()"
   ]
  },
  {
   "cell_type": "code",
   "execution_count": 4,
   "metadata": {},
   "outputs": [
    {
     "data": {
      "text/plain": [
       "(18786148, 23)"
      ]
     },
     "execution_count": 4,
     "metadata": {},
     "output_type": "execute_result"
    }
   ],
   "source": [
    "temp_merch_df.shape"
   ]
  },
  {
   "cell_type": "code",
   "execution_count": 6,
   "metadata": {},
   "outputs": [
    {
     "data": {
      "text/plain": [
       "15279"
      ]
     },
     "execution_count": 6,
     "metadata": {},
     "output_type": "execute_result"
    }
   ],
   "source": [
    "del(hist_train_preprocessed_obj)\n",
    "gc.collect() "
   ]
  },
  {
   "cell_type": "code",
   "execution_count": 8,
   "metadata": {},
   "outputs": [
    {
     "data": {
      "text/plain": [
       "(1223315, 23)"
      ]
     },
     "execution_count": 8,
     "metadata": {},
     "output_type": "execute_result"
    }
   ],
   "source": [
    "new_train_preprocessed_obj = pickle.load(open(\"Train_Test_generated_features/new_train_preprocessed_obj.pkl\",\"rb\"))\n",
    "new_temp_merch_df = new_train_preprocessed_obj[1]\n",
    "new_temp_merch_df.shape"
   ]
  },
  {
   "cell_type": "code",
   "execution_count": 9,
   "metadata": {},
   "outputs": [
    {
     "data": {
      "text/plain": [
       "20481"
      ]
     },
     "execution_count": 9,
     "metadata": {},
     "output_type": "execute_result"
    }
   ],
   "source": [
    "del(new_train_preprocessed_obj)\n",
    "gc.collect()"
   ]
  },
  {
   "cell_type": "code",
   "execution_count": 20,
   "metadata": {},
   "outputs": [],
   "source": [
    "temp_merch_df['category_4'].fillna('Y',inplace=True)"
   ]
  },
  {
   "cell_type": "code",
   "execution_count": null,
   "metadata": {},
   "outputs": [],
   "source": [
    "label_encoded_df = labelEncodedFeatures(temp_merch_df[['category_4']])\n",
    "temp_merch_df['category_4'] = label_encoded_df['category_4']"
   ]
  },
  {
   "cell_type": "code",
   "execution_count": 26,
   "metadata": {},
   "outputs": [],
   "source": [
    "def createMerchRelatedFeat(temp_merch_df,suffix):\n",
    "    merch_aggr_df = pd.DataFrame({'card_id' : temp_merch_df.card_id.unique()})\n",
    "    merch_aggr_df['merchant_id_nunique'] = temp_merch_df.groupby(['card_id'])['merchant_id'].apply(lambda x : x.nunique())\n",
    "    merch_aggr_df['merchant_category_id_nunique'] = temp_merch_df.groupby(['card_id'])['merchant_category_id'].apply(lambda x : x.nunique())\n",
    "    merch_aggr_df['category_4_mean'] = temp_merch_df.groupby(['card_id'])['category_4'].apply(lambda x : x.mean())\n",
    "    merch_aggr_df['numerical_1_mean'] = temp_merch_df.groupby(['card_id'])['numerical_1'].apply(lambda x : x.mean())\n",
    "    merch_aggr_df['numerical_2_mean'] = temp_merch_df.groupby(['card_id'])['numerical_2'].apply(lambda x : x.mean())\n",
    "    merch_aggr_df.columns = [suffix + \"_\" + col for col in merch_aggr_df.columns]\n",
    "    return merch_aggr_df"
   ]
  },
  {
   "cell_type": "code",
   "execution_count": 24,
   "metadata": {},
   "outputs": [
    {
     "name": "stdout",
     "output_type": "stream",
     "text": [
      "Column considered :  category_4\n"
     ]
    },
    {
     "name": "stderr",
     "output_type": "stream",
     "text": [
      "c:\\users\\capiot\\appdata\\local\\programs\\python\\python36\\lib\\site-packages\\ipykernel_launcher.py:5: SettingWithCopyWarning: \n",
      "A value is trying to be set on a copy of a slice from a DataFrame.\n",
      "Try using .loc[row_indexer,col_indexer] = value instead\n",
      "\n",
      "See the caveats in the documentation: https://pandas.pydata.org/pandas-docs/stable/user_guide/indexing.html#returning-a-view-versus-a-copy\n",
      "  \"\"\"\n"
     ]
    }
   ],
   "source": [
    "new_temp_merch_df['category_4'].fillna('Y',inplace=True)\n",
    "label_encoded_df = labelEncodedFeatures(new_temp_merch_df[['category_4']])\n",
    "new_temp_merch_df['category_4'] = label_encoded_df['category_4'] "
   ]
  },
  {
   "cell_type": "code",
   "execution_count": 27,
   "metadata": {},
   "outputs": [
    {
     "name": "stdout",
     "output_type": "stream",
     "text": [
      "Creating features for hist_temp_merch_df...\n",
      "Creating features for new_temp_merch_df...\n"
     ]
    }
   ],
   "source": [
    "print(\"Creating features for hist_temp_merch_df...\")\n",
    "hist_merch_feat = createMerchRelatedFeat(temp_merch_df,'hist')\n",
    "print(\"Creating features for new_temp_merch_df...\") \n",
    "new_merch_feat = createMerchRelatedFeat(new_temp_merch_df,'new')"
   ]
  },
  {
   "cell_type": "code",
   "execution_count": 28,
   "metadata": {},
   "outputs": [
    {
     "data": {
      "text/html": [
       "<div>\n",
       "<style scoped>\n",
       "    .dataframe tbody tr th:only-of-type {\n",
       "        vertical-align: middle;\n",
       "    }\n",
       "\n",
       "    .dataframe tbody tr th {\n",
       "        vertical-align: top;\n",
       "    }\n",
       "\n",
       "    .dataframe thead th {\n",
       "        text-align: right;\n",
       "    }\n",
       "</style>\n",
       "<table border=\"1\" class=\"dataframe\">\n",
       "  <thead>\n",
       "    <tr style=\"text-align: right;\">\n",
       "      <th></th>\n",
       "      <th>hist_card_id</th>\n",
       "      <th>hist_merchant_id_nunique</th>\n",
       "      <th>hist_merchant_category_id_nunique</th>\n",
       "      <th>hist_category_4_mean</th>\n",
       "      <th>hist_numerical_1_mean</th>\n",
       "      <th>hist_numerical_2_mean</th>\n",
       "    </tr>\n",
       "  </thead>\n",
       "  <tbody>\n",
       "    <tr>\n",
       "      <th>0</th>\n",
       "      <td>C_ID_5037ff576e</td>\n",
       "      <td>NaN</td>\n",
       "      <td>NaN</td>\n",
       "      <td>NaN</td>\n",
       "      <td>NaN</td>\n",
       "      <td>NaN</td>\n",
       "    </tr>\n",
       "    <tr>\n",
       "      <th>1</th>\n",
       "      <td>C_ID_0e171c1b48</td>\n",
       "      <td>NaN</td>\n",
       "      <td>NaN</td>\n",
       "      <td>NaN</td>\n",
       "      <td>NaN</td>\n",
       "      <td>NaN</td>\n",
       "    </tr>\n",
       "    <tr>\n",
       "      <th>2</th>\n",
       "      <td>C_ID_fc8e41b9cf</td>\n",
       "      <td>NaN</td>\n",
       "      <td>NaN</td>\n",
       "      <td>NaN</td>\n",
       "      <td>NaN</td>\n",
       "      <td>NaN</td>\n",
       "    </tr>\n",
       "    <tr>\n",
       "      <th>3</th>\n",
       "      <td>C_ID_b271e7ab60</td>\n",
       "      <td>NaN</td>\n",
       "      <td>NaN</td>\n",
       "      <td>NaN</td>\n",
       "      <td>NaN</td>\n",
       "      <td>NaN</td>\n",
       "    </tr>\n",
       "    <tr>\n",
       "      <th>4</th>\n",
       "      <td>C_ID_4bed29d75c</td>\n",
       "      <td>NaN</td>\n",
       "      <td>NaN</td>\n",
       "      <td>NaN</td>\n",
       "      <td>NaN</td>\n",
       "      <td>NaN</td>\n",
       "    </tr>\n",
       "  </tbody>\n",
       "</table>\n",
       "</div>"
      ],
      "text/plain": [
       "      hist_card_id  hist_merchant_id_nunique  \\\n",
       "0  C_ID_5037ff576e                       NaN   \n",
       "1  C_ID_0e171c1b48                       NaN   \n",
       "2  C_ID_fc8e41b9cf                       NaN   \n",
       "3  C_ID_b271e7ab60                       NaN   \n",
       "4  C_ID_4bed29d75c                       NaN   \n",
       "\n",
       "   hist_merchant_category_id_nunique  hist_category_4_mean  \\\n",
       "0                                NaN                   NaN   \n",
       "1                                NaN                   NaN   \n",
       "2                                NaN                   NaN   \n",
       "3                                NaN                   NaN   \n",
       "4                                NaN                   NaN   \n",
       "\n",
       "   hist_numerical_1_mean  hist_numerical_2_mean  \n",
       "0                    NaN                    NaN  \n",
       "1                    NaN                    NaN  \n",
       "2                    NaN                    NaN  \n",
       "3                    NaN                    NaN  \n",
       "4                    NaN                    NaN  "
      ]
     },
     "execution_count": 28,
     "metadata": {},
     "output_type": "execute_result"
    }
   ],
   "source": [
    "hist_merch_feat.head()"
   ]
  },
  {
   "cell_type": "code",
   "execution_count": 29,
   "metadata": {},
   "outputs": [
    {
     "data": {
      "text/html": [
       "<div>\n",
       "<style scoped>\n",
       "    .dataframe tbody tr th:only-of-type {\n",
       "        vertical-align: middle;\n",
       "    }\n",
       "\n",
       "    .dataframe tbody tr th {\n",
       "        vertical-align: top;\n",
       "    }\n",
       "\n",
       "    .dataframe thead th {\n",
       "        text-align: right;\n",
       "    }\n",
       "</style>\n",
       "<table border=\"1\" class=\"dataframe\">\n",
       "  <thead>\n",
       "    <tr style=\"text-align: right;\">\n",
       "      <th></th>\n",
       "      <th>new_card_id</th>\n",
       "      <th>new_merchant_id_nunique</th>\n",
       "      <th>new_merchant_category_id_nunique</th>\n",
       "      <th>new_category_4_mean</th>\n",
       "      <th>new_numerical_1_mean</th>\n",
       "      <th>new_numerical_2_mean</th>\n",
       "    </tr>\n",
       "  </thead>\n",
       "  <tbody>\n",
       "    <tr>\n",
       "      <th>0</th>\n",
       "      <td>C_ID_ef55cf8d4b</td>\n",
       "      <td>NaN</td>\n",
       "      <td>NaN</td>\n",
       "      <td>NaN</td>\n",
       "      <td>NaN</td>\n",
       "      <td>NaN</td>\n",
       "    </tr>\n",
       "    <tr>\n",
       "      <th>1</th>\n",
       "      <td>C_ID_446027a629</td>\n",
       "      <td>NaN</td>\n",
       "      <td>NaN</td>\n",
       "      <td>NaN</td>\n",
       "      <td>NaN</td>\n",
       "      <td>NaN</td>\n",
       "    </tr>\n",
       "    <tr>\n",
       "      <th>2</th>\n",
       "      <td>C_ID_fb7560dfea</td>\n",
       "      <td>NaN</td>\n",
       "      <td>NaN</td>\n",
       "      <td>NaN</td>\n",
       "      <td>NaN</td>\n",
       "      <td>NaN</td>\n",
       "    </tr>\n",
       "    <tr>\n",
       "      <th>3</th>\n",
       "      <td>C_ID_3631eda7b9</td>\n",
       "      <td>NaN</td>\n",
       "      <td>NaN</td>\n",
       "      <td>NaN</td>\n",
       "      <td>NaN</td>\n",
       "      <td>NaN</td>\n",
       "    </tr>\n",
       "    <tr>\n",
       "      <th>4</th>\n",
       "      <td>C_ID_9571a629f5</td>\n",
       "      <td>NaN</td>\n",
       "      <td>NaN</td>\n",
       "      <td>NaN</td>\n",
       "      <td>NaN</td>\n",
       "      <td>NaN</td>\n",
       "    </tr>\n",
       "  </tbody>\n",
       "</table>\n",
       "</div>"
      ],
      "text/plain": [
       "       new_card_id  new_merchant_id_nunique  new_merchant_category_id_nunique  \\\n",
       "0  C_ID_ef55cf8d4b                      NaN                               NaN   \n",
       "1  C_ID_446027a629                      NaN                               NaN   \n",
       "2  C_ID_fb7560dfea                      NaN                               NaN   \n",
       "3  C_ID_3631eda7b9                      NaN                               NaN   \n",
       "4  C_ID_9571a629f5                      NaN                               NaN   \n",
       "\n",
       "   new_category_4_mean  new_numerical_1_mean  new_numerical_2_mean  \n",
       "0                  NaN                   NaN                   NaN  \n",
       "1                  NaN                   NaN                   NaN  \n",
       "2                  NaN                   NaN                   NaN  \n",
       "3                  NaN                   NaN                   NaN  \n",
       "4                  NaN                   NaN                   NaN  "
      ]
     },
     "execution_count": 29,
     "metadata": {},
     "output_type": "execute_result"
    }
   ],
   "source": [
    "new_merch_feat.head()"
   ]
  },
  {
   "cell_type": "code",
   "execution_count": null,
   "metadata": {},
   "outputs": [],
   "source": []
  }
 ],
 "metadata": {
  "kernelspec": {
   "display_name": "Python 3",
   "language": "python",
   "name": "python3"
  },
  "language_info": {
   "codemirror_mode": {
    "name": "ipython",
    "version": 3
   },
   "file_extension": ".py",
   "mimetype": "text/x-python",
   "name": "python",
   "nbconvert_exporter": "python",
   "pygments_lexer": "ipython3",
   "version": "3.8.5"
  }
 },
 "nbformat": 4,
 "nbformat_minor": 4
}
